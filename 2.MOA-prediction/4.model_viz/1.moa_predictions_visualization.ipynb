{
 "cells": [
  {
   "cell_type": "markdown",
   "metadata": {
    "id": "gKlWr0Oh_q3E"
   },
   "source": [
    "### - Plot model predictions for all the profiling assays: Cell painting, L1000, Combined Cell painting & L1000 based on Precision-Recall AUC score and ROC-AUC scores;\n",
    "\n",
    "\n",
    "\n",
    "\n",
    "#### - Profiling assays PR-AUC & ROC-AUC scores visualization\n",
    "#### - Prediction on DOSE basis visualization\n",
    "#### - Individual MOA predictions found in Test data set\n",
    "\n"
   ]
  },
  {
   "cell_type": "markdown",
   "metadata": {
    "id": "7H3rRiJrH_es"
   },
   "source": [
    "#### - PR-AUC was the primary evaluation metric because it takes into account the practically relevant measures, **precision and recall,** of which precision is particularly important because it measures the fraction of correct predictions among the positive predictions. \n",
    "\n",
    "#### - Also, PR-AUC score express the susceptibility of classifiers to imbalanced datasets, since the position of the random baseline depends on the ratio of the numbers of positive and negative instances. [read more](https://journals.plos.org/plosone/article?id=10.1371/journal.pone.0118432)"
   ]
  },
  {
   "cell_type": "code",
   "execution_count": 1,
   "metadata": {
    "executionInfo": {
     "elapsed": 27760,
     "status": "ok",
     "timestamp": 1619187803460,
     "user": {
      "displayName": "adeniyi adeboye",
      "photoUrl": "",
      "userId": "02625876087283522783"
     },
     "user_tz": 240
    },
    "id": "oghaJ5TMK02-"
   },
   "outputs": [],
   "source": [
    "import os\n",
    "import pathlib\n",
    "import pandas as pd\n",
    "import numpy as np\n",
    "from collections import defaultdict\n",
    "import matplotlib.pyplot as plt\n",
    "%matplotlib inline\n",
    "import seaborn as sns\n",
    "from statistics import median\n",
    "import random\n",
    "sns.set_context(\"talk\")\n",
    "sns.set_style(\"darkgrid\")\n",
    "from collections import Counter"
   ]
  },
  {
   "cell_type": "code",
   "execution_count": 2,
   "metadata": {
    "executionInfo": {
     "elapsed": 28010,
     "status": "ok",
     "timestamp": 1619187803717,
     "user": {
      "displayName": "adeniyi adeboye",
      "photoUrl": "",
      "userId": "02625876087283522783"
     },
     "user_tz": 240
    },
    "id": "bo7kESFfK05a"
   },
   "outputs": [],
   "source": [
    "from sklearn.metrics import roc_auc_score\n",
    "from sklearn.metrics import precision_recall_curve,average_precision_score\n",
    "from sklearn.metrics import log_loss, roc_curve\n",
    "from sklearn.metrics import auc"
   ]
  },
  {
   "cell_type": "code",
   "execution_count": 3,
   "metadata": {
    "executionInfo": {
     "elapsed": 34198,
     "status": "ok",
     "timestamp": 1619187809922,
     "user": {
      "displayName": "adeniyi adeboye",
      "photoUrl": "",
      "userId": "02625876087283522783"
     },
     "user_tz": 240
    },
    "id": "Wqg_Po-mK0-W"
   },
   "outputs": [],
   "source": [
    "from adjustText import adjust_text"
   ]
  },
  {
   "cell_type": "code",
   "execution_count": 4,
   "metadata": {},
   "outputs": [],
   "source": [
    "drop_bortezomib_from_test = True"
   ]
  },
  {
   "cell_type": "code",
   "execution_count": 5,
   "metadata": {
    "colab": {
     "base_uri": "https://localhost:8080/",
     "height": 35
    },
    "executionInfo": {
     "elapsed": 34149,
     "status": "ok",
     "timestamp": 1619187809924,
     "user": {
      "displayName": "adeniyi adeboye",
      "photoUrl": "",
      "userId": "02625876087283522783"
     },
     "user_tz": 240
    },
    "id": "PTdldM3aK1Av",
    "outputId": "3d50d7fd-ddd1-4480-bcb4-ad7c1d046482"
   },
   "outputs": [],
   "source": [
    "base_dir = pathlib.Path(\"../2.data_split/model_data/\")\n",
    "\n",
    "cp_data_dir = pathlib.Path(f\"{base_dir}/cp/\")\n",
    "l1000_data_dir = pathlib.Path(f\"{base_dir}/L1/\")\n",
    "merged_data_dir = pathlib.Path(f\"{base_dir}/merged/\")"
   ]
  },
  {
   "cell_type": "code",
   "execution_count": 6,
   "metadata": {
    "executionInfo": {
     "elapsed": 34120,
     "status": "ok",
     "timestamp": 1619187809927,
     "user": {
      "displayName": "adeniyi adeboye",
      "photoUrl": "",
      "userId": "02625876087283522783"
     },
     "user_tz": 240
    },
    "id": "jpyhYlxONqDw"
   },
   "outputs": [],
   "source": [
    "cp_test = f\"{cp_data_dir}/test_lvl4_data.csv.gz\"\n",
    "cp_test_subsample = f\"{cp_data_dir}/test_lvl4_data_subsample.csv.gz\"\n",
    "L1000_test = f\"{l1000_data_dir}/test_lvl4_data.csv.gz\"\n",
    "cp_L1000_test = f\"{merged_data_dir}/test_lvl4_data.csv.gz\""
   ]
  },
  {
   "cell_type": "code",
   "execution_count": 7,
   "metadata": {
    "executionInfo": {
     "elapsed": 34116,
     "status": "ok",
     "timestamp": 1619187809930,
     "user": {
      "displayName": "adeniyi adeboye",
      "photoUrl": "",
      "userId": "02625876087283522783"
     },
     "user_tz": 240
    },
    "id": "1we4LVJsOqvG"
   },
   "outputs": [],
   "source": [
    "model_preds_dir = pathlib.Path(\"../L1000_CP_model_predictions/\")\n",
    "model_preds_figures = pathlib.Path(\"moa_predictions_figures\")"
   ]
  },
  {
   "cell_type": "code",
   "execution_count": 8,
   "metadata": {
    "executionInfo": {
     "elapsed": 62035,
     "status": "ok",
     "timestamp": 1619187837855,
     "user": {
      "displayName": "adeniyi adeboye",
      "photoUrl": "",
      "userId": "02625876087283522783"
     },
     "user_tz": 240
    },
    "id": "M4Gc30OyxMK1"
   },
   "outputs": [
    {
     "name": "stdout",
     "output_type": "stream",
     "text": [
      "dropping bortezomib from all test sets!\n"
     ]
    }
   ],
   "source": [
    "df_cp_test = pd.read_csv(cp_test, compression='gzip',low_memory = False)\n",
    "df_cp_test_subsample = pd.read_csv(cp_test_subsample, compression='gzip',low_memory = False)\n",
    "df_L1000_test = pd.read_csv(L1000_test, compression='gzip',low_memory = False)\n",
    "df_cp_L1000_test = pd.read_csv(cp_L1000_test, compression='gzip',low_memory = False)\n",
    "\n",
    "# Drop Bortezomib from test sets\n",
    "if drop_bortezomib_from_test:\n",
    "    print(\"dropping bortezomib from all test sets!\")\n",
    "    df_cp_test = df_cp_test.loc[df_cp_test.pert_iname != 'bortezomib', :]\n",
    "    df_cp_test_subsample = df_cp_test_subsample.loc[df_cp_test_subsample.pert_iname != 'bortezomib', :]\n",
    "    df_L1000_test = df_L1000_test.loc[df_L1000_test.pert_iname != 'bortezomib', :]\n",
    "    df_cp_L1000_test = df_cp_L1000_test.loc[df_cp_L1000_test.pert_iname != 'bortezomib', :]"
   ]
  },
  {
   "cell_type": "code",
   "execution_count": 9,
   "metadata": {
    "executionInfo": {
     "elapsed": 71582,
     "status": "ok",
     "timestamp": 1619187847406,
     "user": {
      "displayName": "adeniyi adeboye",
      "photoUrl": "",
      "userId": "02625876087283522783"
     },
     "user_tz": 240
    },
    "id": "6wnzoy2bPqH1"
   },
   "outputs": [],
   "source": [
    "##mlknn\n",
    "df_cp_mlknn_test = pd.read_csv(os.path.join(model_preds_dir, 'cp_test_preds_mlknn.csv'))\n",
    "df_cp_mlknn_test_subsample = pd.read_csv(os.path.join(model_preds_dir, 'cp_test_preds_mlknn_subsample.csv'))\n",
    "df_L1000_mlknn_test = pd.read_csv(os.path.join(model_preds_dir, 'L1000_test_preds_mlknn.csv'))\n",
    "df_cp_L1000_mlknn_test = pd.read_csv(os.path.join(model_preds_dir, 'cp_L1000_test_preds_mlknn.csv'))\n",
    "\n",
    "# Drop bortezomib from evaluation\n",
    "if drop_bortezomib_from_test:\n",
    "    df_cp_mlknn_test = df_cp_mlknn_test.iloc[df_cp_test.index, :]\n",
    "    df_cp_mlknn_test_subsample = df_cp_mlknn_test_subsample.iloc[df_cp_test_subsample.index, :]\n",
    "    df_L1000_mlknn_test = df_L1000_mlknn_test.iloc[df_L1000_test.index, :]\n",
    "    df_cp_L1000_mlknn_test = df_cp_L1000_mlknn_test.iloc[df_cp_L1000_test.index, :]"
   ]
  },
  {
   "cell_type": "code",
   "execution_count": 10,
   "metadata": {
    "executionInfo": {
     "elapsed": 83251,
     "status": "ok",
     "timestamp": 1619187859080,
     "user": {
      "displayName": "adeniyi adeboye",
      "photoUrl": "",
      "userId": "02625876087283522783"
     },
     "user_tz": 240
    },
    "id": "L1t8um3OxMIa"
   },
   "outputs": [],
   "source": [
    "##resnet\n",
    "df_cp_resnet_test = pd.read_csv(os.path.join(model_preds_dir, 'cp_test_preds_resnet.csv'))\n",
    "df_cp_resnet_test_subsample = pd.read_csv(os.path.join(model_preds_dir, 'cp_test_preds_resnet_subsample.csv'))\n",
    "df_L1000_resnet_test = pd.read_csv(os.path.join(model_preds_dir, 'L1000_test_preds_resnet.csv'))\n",
    "df_cp_L1000_resnet_test = pd.read_csv(os.path.join(model_preds_dir, 'cp_L1000_test_preds_resnet.csv'))\n",
    "\n",
    "# Drop bortezomib from evaluation\n",
    "if drop_bortezomib_from_test:\n",
    "    df_cp_resnet_test = df_cp_resnet_test.iloc[df_cp_test.index, :]\n",
    "    df_cp_resnet_test_subsample = df_cp_resnet_test_subsample.iloc[df_cp_test_subsample.index, :]\n",
    "    df_L1000_resnet_test = df_L1000_resnet_test.iloc[df_L1000_test.index, :]\n",
    "    df_cp_L1000_resnet_test = df_cp_L1000_resnet_test.iloc[df_cp_L1000_test.index, :]"
   ]
  },
  {
   "cell_type": "code",
   "execution_count": 11,
   "metadata": {
    "executionInfo": {
     "elapsed": 93108,
     "status": "ok",
     "timestamp": 1619187868942,
     "user": {
      "displayName": "adeniyi adeboye",
      "photoUrl": "",
      "userId": "02625876087283522783"
     },
     "user_tz": 240
    },
    "id": "LUw6R7f8xMFj"
   },
   "outputs": [],
   "source": [
    "##1-d cnn\n",
    "df_cp_cnn_test = pd.read_csv(os.path.join(model_preds_dir, 'cp_test_preds_1dcnn.csv'))\n",
    "df_cp_cnn_test_subsample = pd.read_csv(os.path.join(model_preds_dir, 'cp_test_preds_1dcnn_subsample.csv'))\n",
    "df_L1000_cnn_test = pd.read_csv(os.path.join(model_preds_dir, 'L1000_test_preds_1dcnn.csv'))\n",
    "df_cp_L1000_cnn_test = pd.read_csv(os.path.join(model_preds_dir, 'cp_L1000_test_preds_1dcnn.csv'))\n",
    "\n",
    "# Drop bortezomib from evaluation\n",
    "if drop_bortezomib_from_test:\n",
    "    df_cp_cnn_test = df_cp_cnn_test.iloc[df_cp_test.index, :]\n",
    "    df_cp_cnn_test_subsample = df_cp_cnn_test_subsample.iloc[df_cp_test_subsample.index, :]\n",
    "    df_L1000_cnn_test = df_L1000_cnn_test.iloc[df_L1000_test.index, :]\n",
    "    df_cp_L1000_cnn_test = df_cp_L1000_cnn_test.iloc[df_cp_L1000_test.index, :]"
   ]
  },
  {
   "cell_type": "code",
   "execution_count": 12,
   "metadata": {
    "executionInfo": {
     "elapsed": 104139,
     "status": "ok",
     "timestamp": 1619187879977,
     "user": {
      "displayName": "adeniyi adeboye",
      "photoUrl": "",
      "userId": "02625876087283522783"
     },
     "user_tz": 240
    },
    "id": "MM4lMLqpxMCz"
   },
   "outputs": [],
   "source": [
    "##tabnet\n",
    "df_cp_tabnet_test = pd.read_csv(os.path.join(model_preds_dir, 'cp_test_preds_tabnet.csv'))\n",
    "df_cp_tabnet_test_subsample = pd.read_csv(os.path.join(model_preds_dir, 'cp_test_preds_tabnet_subsample.csv'))\n",
    "df_L1000_tabnet_test = pd.read_csv(os.path.join(model_preds_dir, 'L1000_test_preds_tabnet.csv'))\n",
    "df_cp_L1000_tabnet_test = pd.read_csv(os.path.join(model_preds_dir, 'cp_L1000_test_preds_tabnet.csv'))\n",
    "\n",
    "# Drop bortezomib from evaluation\n",
    "if drop_bortezomib_from_test:\n",
    "    df_cp_tabnet_test = df_cp_tabnet_test.iloc[df_cp_test.index, :]\n",
    "    df_cp_tabnet_test_subsample = df_cp_tabnet_test_subsample.iloc[df_cp_test_subsample.index, :]\n",
    "    df_L1000_tabnet_test = df_L1000_tabnet_test.iloc[df_L1000_test.index, :]\n",
    "    df_cp_L1000_tabnet_test = df_cp_L1000_tabnet_test.iloc[df_cp_L1000_test.index, :]"
   ]
  },
  {
   "cell_type": "code",
   "execution_count": 13,
   "metadata": {
    "executionInfo": {
     "elapsed": 115179,
     "status": "ok",
     "timestamp": 1619187891022,
     "user": {
      "displayName": "adeniyi adeboye",
      "photoUrl": "",
      "userId": "02625876087283522783"
     },
     "user_tz": 240
    },
    "id": "-lTKsOJExL-v"
   },
   "outputs": [],
   "source": [
    "##stagedNN\n",
    "df_cp_simplenn_test = pd.read_csv(os.path.join(model_preds_dir, 'cp_test_preds_simplenn.csv'))\n",
    "df_cp_simplenn_test_subsample = pd.read_csv(os.path.join(model_preds_dir, 'cp_test_preds_simplenn_subsample.csv'))\n",
    "df_L1000_simplenn_test = pd.read_csv(os.path.join(model_preds_dir, 'L1000_test_preds_simplenn.csv'))\n",
    "df_cp_L1000_simplenn_test = pd.read_csv(os.path.join(model_preds_dir, 'cp_L1000_test_preds_simplenn.csv'))\n",
    "\n",
    "# Drop bortezomib from evaluation\n",
    "if drop_bortezomib_from_test:\n",
    "    df_cp_simplenn_test = df_cp_simplenn_test.iloc[df_cp_test.index, :]\n",
    "    df_cp_simplenn_test_subsample = df_cp_simplenn_test_subsample.iloc[df_cp_test_subsample.index, :]\n",
    "    df_L1000_simplenn_test = df_L1000_simplenn_test.iloc[df_L1000_test.index, :]\n",
    "    df_cp_L1000_simplenn_test = df_cp_L1000_simplenn_test.iloc[df_cp_L1000_test.index, :]"
   ]
  },
  {
   "cell_type": "code",
   "execution_count": 14,
   "metadata": {
    "executionInfo": {
     "elapsed": 122531,
     "status": "ok",
     "timestamp": 1619187898379,
     "user": {
      "displayName": "adeniyi adeboye",
      "photoUrl": "",
      "userId": "02625876087283522783"
     },
     "user_tz": 240
    },
    "id": "WVHUy4hYOUjr"
   },
   "outputs": [],
   "source": [
    "#blend\n",
    "df_cp_blend_test = pd.read_csv(os.path.join(model_preds_dir, 'cp_test_preds_blend.csv'))\n",
    "df_cp_blend_test_subsample = pd.read_csv(os.path.join(model_preds_dir, 'cp_test_preds_blend_subsample.csv'))\n",
    "df_L1000_blend_test = pd.read_csv(os.path.join(model_preds_dir, 'L1000_test_preds_blend.csv'))\n",
    "df_cp_L1000_blend_test = pd.read_csv(os.path.join(model_preds_dir, 'cp_L1000_test_preds_blend.csv'))\n",
    "\n",
    "# Drop bortezomib from evaluation\n",
    "if drop_bortezomib_from_test:\n",
    "    df_cp_blend_test = df_cp_blend_test.iloc[df_cp_test.index, :]\n",
    "    df_cp_blend_test_subsample = df_cp_blend_test_subsample.iloc[df_cp_test_subsample.index, :]\n",
    "    df_L1000_blend_test = df_L1000_blend_test.iloc[df_L1000_test.index, :]\n",
    "    df_cp_L1000_blend_test = df_cp_L1000_blend_test.iloc[df_cp_L1000_test.index, :]"
   ]
  },
  {
   "cell_type": "markdown",
   "metadata": {
    "id": "CZQQu0zmOzd2"
   },
   "source": [
    "##### - Shuffled test predictions"
   ]
  },
  {
   "cell_type": "code",
   "execution_count": 15,
   "metadata": {
    "executionInfo": {
     "elapsed": 129978,
     "status": "ok",
     "timestamp": 1619187905831,
     "user": {
      "displayName": "adeniyi adeboye",
      "photoUrl": "",
      "userId": "02625876087283522783"
     },
     "user_tz": 240
    },
    "id": "cJQ8qEmBknF3"
   },
   "outputs": [],
   "source": [
    "##mlknn shuffle\n",
    "df_cp_mlknn_shuf = pd.read_csv(os.path.join(model_preds_dir, 'cp_test_preds_mlknn_shuffle.csv'))\n",
    "df_cp_mlknn_shuf_subsample = pd.read_csv(os.path.join(model_preds_dir, 'cp_test_preds_mlknn_shuffle_subsample.csv'))\n",
    "df_L1000_mlknn_shuf = pd.read_csv(os.path.join(model_preds_dir, 'L1000_test_preds_mlknn_shuffle.csv'))\n",
    "df_cp_L1000_mlknn_shuf = pd.read_csv(os.path.join(model_preds_dir, 'cp_L1000_test_preds_mlknn_shuffle.csv'))\n",
    "\n",
    "# Drop bortezomib from evaluation\n",
    "if drop_bortezomib_from_test:\n",
    "    df_cp_mlknn_shuf = df_cp_mlknn_shuf.iloc[df_cp_test.index, :]\n",
    "    df_cp_mlknn_shuf_subsample = df_cp_mlknn_shuf_subsample.iloc[df_cp_test_subsample.index, :]\n",
    "    df_L1000_mlknn_shuf = df_L1000_mlknn_shuf.iloc[df_L1000_test.index, :]\n",
    "    df_cp_L1000_mlknn_shuf = df_cp_L1000_mlknn_shuf.iloc[df_cp_L1000_test.index, :]"
   ]
  },
  {
   "cell_type": "code",
   "execution_count": 16,
   "metadata": {
    "executionInfo": {
     "elapsed": 137556,
     "status": "ok",
     "timestamp": 1619187913414,
     "user": {
      "displayName": "adeniyi adeboye",
      "photoUrl": "",
      "userId": "02625876087283522783"
     },
     "user_tz": 240
    },
    "id": "i2_gOzYdO-wm"
   },
   "outputs": [],
   "source": [
    "##resnet shuffle\n",
    "df_cp_resnet_shuf = pd.read_csv(os.path.join(model_preds_dir, 'cp_test_preds_resnet_shuffle.csv'))\n",
    "df_cp_resnet_shuf_subsample = pd.read_csv(os.path.join(model_preds_dir, 'cp_test_preds_resnet_shuffle_subsample.csv'))\n",
    "df_L1000_resnet_shuf = pd.read_csv(os.path.join(model_preds_dir, 'L1000_test_preds_resnet_shuffle.csv'))\n",
    "df_cp_L1000_resnet_shuf = pd.read_csv(os.path.join(model_preds_dir, 'cp_L1000_test_preds_resnet_shuffle.csv'))\n",
    "\n",
    "# Drop bortezomib from evaluation\n",
    "if drop_bortezomib_from_test:\n",
    "    df_cp_resnet_shuf = df_cp_resnet_shuf.iloc[df_cp_test.index, :]\n",
    "    df_cp_resnet_shuf_subsample = df_cp_resnet_shuf_subsample.iloc[df_cp_test_subsample.index, :]\n",
    "    df_L1000_resnet_shuf = df_L1000_resnet_shuf.iloc[df_L1000_test.index, :]\n",
    "    df_cp_L1000_resnet_shuf = df_cp_L1000_resnet_shuf.iloc[df_cp_L1000_test.index, :]"
   ]
  },
  {
   "cell_type": "code",
   "execution_count": 17,
   "metadata": {
    "executionInfo": {
     "elapsed": 144692,
     "status": "ok",
     "timestamp": 1619187920554,
     "user": {
      "displayName": "adeniyi adeboye",
      "photoUrl": "",
      "userId": "02625876087283522783"
     },
     "user_tz": 240
    },
    "id": "9DfJkHJwO-xA"
   },
   "outputs": [],
   "source": [
    "##1-d cnn shuffle\n",
    "df_cp_cnn_shuf = pd.read_csv(os.path.join(model_preds_dir, 'cp_test_preds_1dcnn_shuffle.csv'))\n",
    "df_cp_cnn_shuf_subsample = pd.read_csv(os.path.join(model_preds_dir, 'cp_test_preds_1dcnn_shuffle_subsample.csv'))\n",
    "df_L1000_cnn_shuf = pd.read_csv(os.path.join(model_preds_dir, 'L1000_test_preds_1dcnn_shuffle.csv'))\n",
    "df_cp_L1000_cnn_shuf = pd.read_csv(os.path.join(model_preds_dir, 'cp_L1000_test_preds_1dcnn_shuffle.csv'))\n",
    "\n",
    "# Drop bortezomib from evaluation\n",
    "if drop_bortezomib_from_test:\n",
    "    df_cp_cnn_shuf = df_cp_cnn_shuf.iloc[df_cp_test.index, :]\n",
    "    df_cp_cnn_shuf_subsample = df_cp_cnn_shuf_subsample.iloc[df_cp_test_subsample.index, :]\n",
    "    df_L1000_cnn_shuf = df_L1000_cnn_shuf.iloc[df_L1000_test.index, :]\n",
    "    df_cp_L1000_cnn_shuf = df_cp_L1000_cnn_shuf.iloc[df_cp_L1000_test.index, :]"
   ]
  },
  {
   "cell_type": "code",
   "execution_count": 18,
   "metadata": {
    "executionInfo": {
     "elapsed": 154674,
     "status": "ok",
     "timestamp": 1619187930542,
     "user": {
      "displayName": "adeniyi adeboye",
      "photoUrl": "",
      "userId": "02625876087283522783"
     },
     "user_tz": 240
    },
    "id": "9ORZZ2ORO-xB"
   },
   "outputs": [],
   "source": [
    "##tabnet shuffle\n",
    "df_cp_tabnet_shuf = pd.read_csv(os.path.join(model_preds_dir, 'cp_test_preds_tabnet_shuffle.csv'))\n",
    "df_cp_tabnet_shuf_subsample = pd.read_csv(os.path.join(model_preds_dir, 'cp_test_preds_tabnet_shuffle_subsample.csv'))\n",
    "df_L1000_tabnet_shuf = pd.read_csv(os.path.join(model_preds_dir, 'L1000_test_preds_tabnet_shuffle.csv'))\n",
    "df_cp_L1000_tabnet_shuf = pd.read_csv(os.path.join(model_preds_dir, 'cp_L1000_test_preds_tabnet_shuffle.csv'))\n",
    "\n",
    "# Drop bortezomib from evaluation\n",
    "if drop_bortezomib_from_test:\n",
    "    df_cp_tabnet_shuf = df_cp_tabnet_shuf.iloc[df_cp_test.index, :]\n",
    "    df_cp_tabnet_shuf_subsample = df_cp_tabnet_shuf_subsample.iloc[df_cp_test_subsample.index, :]\n",
    "    df_L1000_tabnet_shuf = df_L1000_tabnet_shuf.iloc[df_L1000_test.index, :]\n",
    "    df_cp_L1000_tabnet_shuf = df_cp_L1000_tabnet_shuf.iloc[df_cp_L1000_test.index, :]"
   ]
  },
  {
   "cell_type": "code",
   "execution_count": 19,
   "metadata": {
    "executionInfo": {
     "elapsed": 162931,
     "status": "ok",
     "timestamp": 1619187938803,
     "user": {
      "displayName": "adeniyi adeboye",
      "photoUrl": "",
      "userId": "02625876087283522783"
     },
     "user_tz": 240
    },
    "id": "jhFnrVh4O-xC"
   },
   "outputs": [],
   "source": [
    "##simpleNN shuffle\n",
    "df_cp_simplenn_shuf = pd.read_csv(os.path.join(model_preds_dir, 'cp_test_preds_simplenn_shuffle.csv'))\n",
    "df_cp_simplenn_shuf_subsample = pd.read_csv(os.path.join(model_preds_dir, 'cp_test_preds_simplenn_shuffle_subsample.csv'))\n",
    "df_L1000_simplenn_shuf = pd.read_csv(os.path.join(model_preds_dir, 'L1000_test_preds_simplenn_shuffle.csv'))\n",
    "df_cp_L1000_simplenn_shuf = pd.read_csv(os.path.join(model_preds_dir, 'cp_L1000_test_preds_simplenn_shuffle.csv'))\n",
    "\n",
    "# Drop bortezomib from evaluation\n",
    "if drop_bortezomib_from_test:\n",
    "    df_cp_simplenn_shuf = df_cp_simplenn_shuf.iloc[df_cp_test.index, :]\n",
    "    df_cp_simplenn_shuf_subsample = df_cp_simplenn_shuf_subsample.iloc[df_cp_test_subsample.index, :]\n",
    "    df_L1000_simplenn_shuf = df_L1000_simplenn_shuf.iloc[df_L1000_test.index, :]\n",
    "    df_cp_L1000_simplenn_shuf = df_cp_L1000_simplenn_shuf.iloc[df_cp_L1000_test.index, :]"
   ]
  },
  {
   "cell_type": "code",
   "execution_count": 20,
   "metadata": {
    "executionInfo": {
     "elapsed": 162927,
     "status": "ok",
     "timestamp": 1619187938804,
     "user": {
      "displayName": "adeniyi adeboye",
      "photoUrl": "",
      "userId": "02625876087283522783"
     },
     "user_tz": 240
    },
    "id": "ARvGYCgJK1FL"
   },
   "outputs": [],
   "source": [
    "df_cp_test['moa'] = df_cp_test['moa'].apply(lambda x:x.lower())\n",
    "df_cp_test_subsample['moa'] = df_cp_test_subsample['moa'].apply(lambda x:x.lower())\n",
    "df_L1000_test['moa'] = df_L1000_test['moa'].apply(lambda x:x.lower())\n",
    "df_cp_L1000_test['moa'] = df_cp_L1000_test['moa'].apply(lambda x:x.lower())"
   ]
  },
  {
   "cell_type": "code",
   "execution_count": 21,
   "metadata": {
    "executionInfo": {
     "elapsed": 162922,
     "status": "ok",
     "timestamp": 1619187938805,
     "user": {
      "displayName": "adeniyi adeboye",
      "photoUrl": "",
      "userId": "02625876087283522783"
     },
     "user_tz": 240
    },
    "id": "Ax_AtTqDK1HX"
   },
   "outputs": [],
   "source": [
    "moa_class_list = df_cp_test['moa'].unique()"
   ]
  },
  {
   "cell_type": "code",
   "execution_count": 22,
   "metadata": {
    "executionInfo": {
     "elapsed": 162919,
     "status": "ok",
     "timestamp": 1619187938806,
     "user": {
      "displayName": "adeniyi adeboye",
      "photoUrl": "",
      "userId": "02625876087283522783"
     },
     "user_tz": 240
    },
    "id": "QadV9j0lK1J3"
   },
   "outputs": [],
   "source": [
    "val_moas = [moa for moa_list in moa_class_list for moa in moa_list.split('|')]"
   ]
  },
  {
   "cell_type": "code",
   "execution_count": 23,
   "metadata": {
    "executionInfo": {
     "elapsed": 162914,
     "status": "ok",
     "timestamp": 1619187938806,
     "user": {
      "displayName": "adeniyi adeboye",
      "photoUrl": "",
      "userId": "02625876087283522783"
     },
     "user_tz": 240
    },
    "id": "qPkt2y-AK1MP"
   },
   "outputs": [],
   "source": [
    "val_moas = list(set(val_moas))"
   ]
  },
  {
   "cell_type": "code",
   "execution_count": 24,
   "metadata": {
    "colab": {
     "base_uri": "https://localhost:8080/"
    },
    "executionInfo": {
     "elapsed": 162889,
     "status": "ok",
     "timestamp": 1619187938807,
     "user": {
      "displayName": "adeniyi adeboye",
      "photoUrl": "",
      "userId": "02625876087283522783"
     },
     "user_tz": 240
    },
    "id": "9Bb_bS6Pf9jI",
    "outputId": "7c199cd7-2622-459c-ee7b-a4a7935cf96b"
   },
   "outputs": [
    {
     "data": {
      "text/plain": [
       "245"
      ]
     },
     "execution_count": 24,
     "metadata": {},
     "output_type": "execute_result"
    }
   ],
   "source": [
    "len(val_moas)"
   ]
  },
  {
   "cell_type": "code",
   "execution_count": 25,
   "metadata": {
    "executionInfo": {
     "elapsed": 163034,
     "status": "ok",
     "timestamp": 1619187938956,
     "user": {
      "displayName": "adeniyi adeboye",
      "photoUrl": "",
      "userId": "02625876087283522783"
     },
     "user_tz": 240
    },
    "id": "JE9KMar9gbd-"
   },
   "outputs": [],
   "source": [
    "df_cp_tst_targets = df_cp_test[df_cp_cnn_test.columns]\n",
    "df_cp_tst_targets_subsample = df_cp_test_subsample[df_cp_cnn_test_subsample.columns]\n",
    "df_L1000_tst_targets = df_L1000_test[df_L1000_cnn_test.columns]\n",
    "df_cp_L1000_tst_targets = df_cp_L1000_test[df_cp_L1000_cnn_test.columns]"
   ]
  },
  {
   "cell_type": "markdown",
   "metadata": {
    "id": "hYez1BjmD853"
   },
   "source": [
    "##### - Baseline of Precision-Recall AUC score is determined by the ratio of positives (P i.e. 1) to ratio of positives (P i.e. 1) and negatives (N i.e. 0) i.e. y = P / (P + N)"
   ]
  },
  {
   "cell_type": "code",
   "execution_count": 26,
   "metadata": {
    "executionInfo": {
     "elapsed": 163031,
     "status": "ok",
     "timestamp": 1619187938957,
     "user": {
      "displayName": "adeniyi adeboye",
      "photoUrl": "",
      "userId": "02625876087283522783"
     },
     "user_tz": 240
    },
    "id": "bAJQonB8K1Op"
   },
   "outputs": [],
   "source": [
    "def calculate_baseline(df, val_moas=val_moas):\n",
    "    \"\"\"Calculate the PR- baseline (i.e. P/P+N) for each profiling assay\"\"\"\n",
    "    targts = np.ravel(df[val_moas].values)\n",
    "    targts_one = [values for num in np.where(targts == 1) for values in num]\n",
    "    baseline = len(targts_one) / len(targts)\n",
    "    return baseline"
   ]
  },
  {
   "cell_type": "code",
   "execution_count": 27,
   "metadata": {
    "executionInfo": {
     "elapsed": 163155,
     "status": "ok",
     "timestamp": 1619187939087,
     "user": {
      "displayName": "adeniyi adeboye",
      "photoUrl": "",
      "userId": "02625876087283522783"
     },
     "user_tz": 240
    },
    "id": "HfqIA7vegs_w"
   },
   "outputs": [],
   "source": [
    "cp_no_skill = calculate_baseline(df_cp_tst_targets)\n",
    "cp_no_skill_subsample = calculate_baseline(df_cp_tst_targets_subsample)\n",
    "L1000_no_skill = calculate_baseline(df_L1000_tst_targets)\n",
    "cp_L1000_no_skill = calculate_baseline(df_cp_L1000_tst_targets)"
   ]
  },
  {
   "cell_type": "code",
   "execution_count": 28,
   "metadata": {
    "colab": {
     "base_uri": "https://localhost:8080/"
    },
    "executionInfo": {
     "elapsed": 163130,
     "status": "ok",
     "timestamp": 1619187939088,
     "user": {
      "displayName": "adeniyi adeboye",
      "photoUrl": "",
      "userId": "02625876087283522783"
     },
     "user_tz": 240
    },
    "id": "MfQpiYHJit3h",
    "outputId": "b81bea2a-3924-41d7-906b-ae1b5cbc790d"
   },
   "outputs": [
    {
     "data": {
      "text/plain": [
       "0.004782489540131182"
      ]
     },
     "execution_count": 28,
     "metadata": {},
     "output_type": "execute_result"
    }
   ],
   "source": [
    "cp_L1000_no_skill"
   ]
  },
  {
   "cell_type": "code",
   "execution_count": 29,
   "metadata": {
    "colab": {
     "base_uri": "https://localhost:8080/"
    },
    "executionInfo": {
     "elapsed": 163106,
     "status": "ok",
     "timestamp": 1619187939089,
     "user": {
      "displayName": "adeniyi adeboye",
      "photoUrl": "",
      "userId": "02625876087283522783"
     },
     "user_tz": 240
    },
    "id": "p14L6f1egs2s",
    "outputId": "88c806d0-a4c4-435e-be46-55b26c60e957"
   },
   "outputs": [
    {
     "data": {
      "text/plain": [
       "0.004757879483154208"
      ]
     },
     "execution_count": 29,
     "metadata": {},
     "output_type": "execute_result"
    }
   ],
   "source": [
    "cp_no_skill"
   ]
  },
  {
   "cell_type": "code",
   "execution_count": 30,
   "metadata": {},
   "outputs": [
    {
     "data": {
      "text/plain": [
       "0.004798024342917622"
      ]
     },
     "execution_count": 30,
     "metadata": {},
     "output_type": "execute_result"
    }
   ],
   "source": [
    "L1000_no_skill"
   ]
  },
  {
   "cell_type": "code",
   "execution_count": 31,
   "metadata": {},
   "outputs": [
    {
     "data": {
      "text/plain": [
       "0.004782489540131182"
      ]
     },
     "execution_count": 31,
     "metadata": {},
     "output_type": "execute_result"
    }
   ],
   "source": [
    "cp_no_skill_subsample"
   ]
  },
  {
   "cell_type": "code",
   "execution_count": 32,
   "metadata": {
    "executionInfo": {
     "elapsed": 163268,
     "status": "ok",
     "timestamp": 1619187939255,
     "user": {
      "displayName": "adeniyi adeboye",
      "photoUrl": "",
      "userId": "02625876087283522783"
     },
     "user_tz": 240
    },
    "id": "FXV3OjcSjbN-"
   },
   "outputs": [],
   "source": [
    "def evaluate(actual, pred, val_moas=val_moas):\n",
    "    \"\"\"Evaluate model performance using ROC-AUC and PR-AUC scores\"\"\"\n",
    "    rocauc_score = roc_auc_score(actual[val_moas], pred[val_moas], average='macro')\n",
    "    pr_auc_score = average_precision_score(actual[val_moas], pred[val_moas], average=\"micro\")\n",
    "    return [rocauc_score, pr_auc_score]"
   ]
  },
  {
   "cell_type": "code",
   "execution_count": 33,
   "metadata": {
    "executionInfo": {
     "elapsed": 163265,
     "status": "ok",
     "timestamp": 1619187939256,
     "user": {
      "displayName": "adeniyi adeboye",
      "photoUrl": "",
      "userId": "02625876087283522783"
     },
     "user_tz": 240
    },
    "id": "c8JQNFtqjbAx"
   },
   "outputs": [],
   "source": [
    "cp_preds = [df_cp_mlknn_test, df_cp_resnet_test, df_cp_cnn_test, df_cp_tabnet_test, df_cp_simplenn_test, \\\n",
    "            df_cp_mlknn_shuf, df_cp_resnet_shuf, df_cp_cnn_shuf, df_cp_tabnet_shuf, df_cp_simplenn_shuf, \\\n",
    "            df_cp_blend_test]\n",
    "\n",
    "cp_preds_subsample = [df_cp_mlknn_test_subsample, df_cp_resnet_test_subsample, df_cp_cnn_test_subsample, df_cp_tabnet_test_subsample, df_cp_simplenn_test_subsample, \\\n",
    "            df_cp_mlknn_shuf_subsample, df_cp_resnet_shuf_subsample, df_cp_cnn_shuf_subsample, df_cp_tabnet_shuf_subsample, df_cp_simplenn_shuf_subsample, \\\n",
    "            df_cp_blend_test_subsample]\n",
    "\n",
    "L1_preds = [df_L1000_mlknn_test, df_L1000_resnet_test, df_L1000_cnn_test, df_L1000_tabnet_test, df_L1000_simplenn_test,\n",
    "            df_L1000_mlknn_shuf, df_L1000_resnet_shuf, df_L1000_cnn_shuf, df_L1000_tabnet_shuf, df_L1000_simplenn_shuf,\n",
    "            df_L1000_blend_test]\n",
    "\n",
    "cp_L1_preds = [df_cp_L1000_mlknn_test, df_cp_L1000_resnet_test, df_cp_L1000_cnn_test, df_cp_L1000_tabnet_test, df_cp_L1000_simplenn_test, \\\n",
    "               df_cp_L1000_mlknn_shuf, df_cp_L1000_resnet_shuf, df_cp_L1000_cnn_shuf, df_cp_L1000_tabnet_shuf, \\\n",
    "               df_cp_L1000_simplenn_shuf,df_cp_L1000_blend_test]\n",
    "\n",
    "metrics = ['roc_auc_score', 'pr_auc_score',]\n",
    "model_name = ['_mlknn', '_resnet', '_cnn', '_tabnet', '_simplenn', '_mlknnshuf', '_resnetshuf', '_cnnshuf', '_tabnetshuf', \\\n",
    "              '_simplennshuf', '_blend']\n",
    "targets_dfs = [df_cp_tst_targets, df_cp_tst_targets_subsample, df_L1000_tst_targets, df_cp_L1000_tst_targets]\n",
    "assays = ['CP', 'CPsubsample', 'L1000', 'CP_L1000']\n",
    "preds_all = [cp_preds, cp_preds_subsample, L1_preds, cp_L1_preds]"
   ]
  },
  {
   "cell_type": "markdown",
   "metadata": {
    "id": "6ghw4FlWe_Nv"
   },
   "source": [
    "#### - All models predictions"
   ]
  },
  {
   "cell_type": "code",
   "execution_count": 34,
   "metadata": {
    "executionInfo": {
     "elapsed": 325387,
     "status": "ok",
     "timestamp": 1619188101382,
     "user": {
      "displayName": "adeniyi adeboye",
      "photoUrl": "",
      "userId": "02625876087283522783"
     },
     "user_tz": 240
    },
    "id": "M3luwlYgmbR3"
   },
   "outputs": [],
   "source": [
    "##models predictions for all profiling assays\n",
    "score_dict = {}\n",
    "for idx, (assay_name, actual_df) in enumerate(zip(assays, targets_dfs)):\n",
    "    for mdl, pred_df in zip(model_name, preds_all[idx]):\n",
    "        model_score = {}\n",
    "        score_name = assay_name + mdl \n",
    "        eval_list = evaluate(actual_df, pred_df)\n",
    "        for io, met in enumerate(metrics):\n",
    "            score_dict[score_name] = model_score\n",
    "            score_dict[score_name][met] = eval_list[io]"
   ]
  },
  {
   "cell_type": "code",
   "execution_count": 35,
   "metadata": {
    "executionInfo": {
     "elapsed": 325392,
     "status": "ok",
     "timestamp": 1619188101392,
     "user": {
      "displayName": "adeniyi adeboye",
      "photoUrl": "",
      "userId": "02625876087283522783"
     },
     "user_tz": 240
    },
    "id": "ikp-axM9mbX3"
   },
   "outputs": [],
   "source": [
    "df_pred_scores = pd.DataFrame([(k,k1,v1) for k,v in score_dict.items() for k1,v1 in v.items()], \n",
    "                              columns = ['id_name', 'metrics', 'values'])"
   ]
  },
  {
   "cell_type": "code",
   "execution_count": 36,
   "metadata": {},
   "outputs": [
    {
     "data": {
      "text/html": [
       "<div>\n",
       "<style scoped>\n",
       "    .dataframe tbody tr th:only-of-type {\n",
       "        vertical-align: middle;\n",
       "    }\n",
       "\n",
       "    .dataframe tbody tr th {\n",
       "        vertical-align: top;\n",
       "    }\n",
       "\n",
       "    .dataframe thead th {\n",
       "        text-align: right;\n",
       "    }\n",
       "</style>\n",
       "<table border=\"1\" class=\"dataframe\">\n",
       "  <thead>\n",
       "    <tr style=\"text-align: right;\">\n",
       "      <th></th>\n",
       "      <th>id_name</th>\n",
       "      <th>metrics</th>\n",
       "      <th>values</th>\n",
       "    </tr>\n",
       "  </thead>\n",
       "  <tbody>\n",
       "    <tr>\n",
       "      <th>0</th>\n",
       "      <td>CP_mlknn</td>\n",
       "      <td>roc_auc_score</td>\n",
       "      <td>0.526251</td>\n",
       "    </tr>\n",
       "    <tr>\n",
       "      <th>1</th>\n",
       "      <td>CP_mlknn</td>\n",
       "      <td>pr_auc_score</td>\n",
       "      <td>0.010139</td>\n",
       "    </tr>\n",
       "    <tr>\n",
       "      <th>2</th>\n",
       "      <td>CP_resnet</td>\n",
       "      <td>roc_auc_score</td>\n",
       "      <td>0.593231</td>\n",
       "    </tr>\n",
       "    <tr>\n",
       "      <th>3</th>\n",
       "      <td>CP_resnet</td>\n",
       "      <td>pr_auc_score</td>\n",
       "      <td>0.037763</td>\n",
       "    </tr>\n",
       "    <tr>\n",
       "      <th>4</th>\n",
       "      <td>CP_cnn</td>\n",
       "      <td>roc_auc_score</td>\n",
       "      <td>0.594119</td>\n",
       "    </tr>\n",
       "    <tr>\n",
       "      <th>5</th>\n",
       "      <td>CP_cnn</td>\n",
       "      <td>pr_auc_score</td>\n",
       "      <td>0.045250</td>\n",
       "    </tr>\n",
       "    <tr>\n",
       "      <th>6</th>\n",
       "      <td>CP_tabnet</td>\n",
       "      <td>roc_auc_score</td>\n",
       "      <td>0.583022</td>\n",
       "    </tr>\n",
       "    <tr>\n",
       "      <th>7</th>\n",
       "      <td>CP_tabnet</td>\n",
       "      <td>pr_auc_score</td>\n",
       "      <td>0.031302</td>\n",
       "    </tr>\n",
       "    <tr>\n",
       "      <th>8</th>\n",
       "      <td>CP_simplenn</td>\n",
       "      <td>roc_auc_score</td>\n",
       "      <td>0.610394</td>\n",
       "    </tr>\n",
       "    <tr>\n",
       "      <th>9</th>\n",
       "      <td>CP_simplenn</td>\n",
       "      <td>pr_auc_score</td>\n",
       "      <td>0.042019</td>\n",
       "    </tr>\n",
       "  </tbody>\n",
       "</table>\n",
       "</div>"
      ],
      "text/plain": [
       "       id_name        metrics    values\n",
       "0     CP_mlknn  roc_auc_score  0.526251\n",
       "1     CP_mlknn   pr_auc_score  0.010139\n",
       "2    CP_resnet  roc_auc_score  0.593231\n",
       "3    CP_resnet   pr_auc_score  0.037763\n",
       "4       CP_cnn  roc_auc_score  0.594119\n",
       "5       CP_cnn   pr_auc_score  0.045250\n",
       "6    CP_tabnet  roc_auc_score  0.583022\n",
       "7    CP_tabnet   pr_auc_score  0.031302\n",
       "8  CP_simplenn  roc_auc_score  0.610394\n",
       "9  CP_simplenn   pr_auc_score  0.042019"
      ]
     },
     "execution_count": 36,
     "metadata": {},
     "output_type": "execute_result"
    }
   ],
   "source": [
    "df_pred_scores.head(10)"
   ]
  },
  {
   "cell_type": "code",
   "execution_count": 37,
   "metadata": {
    "executionInfo": {
     "elapsed": 325358,
     "status": "ok",
     "timestamp": 1619188101397,
     "user": {
      "displayName": "adeniyi adeboye",
      "photoUrl": "",
      "userId": "02625876087283522783"
     },
     "user_tz": 240
    },
    "id": "KVpzvgabK1Qy"
   },
   "outputs": [],
   "source": [
    "df_pred_scores['profile_tech'] = df_pred_scores['id_name'].apply(lambda x: '_'.join(x.split('_')[:-1]))\n",
    "df_pred_scores['model'] = df_pred_scores['id_name'].apply(lambda x: x.split('_')[-1])\n",
    "df_pred_scores['values'] = df_pred_scores['values'].apply(lambda x: x*100)"
   ]
  },
  {
   "cell_type": "code",
   "execution_count": 38,
   "metadata": {
    "colab": {
     "base_uri": "https://localhost:8080/"
    },
    "executionInfo": {
     "elapsed": 325336,
     "status": "ok",
     "timestamp": 1619188101398,
     "user": {
      "displayName": "adeniyi adeboye",
      "photoUrl": "",
      "userId": "02625876087283522783"
     },
     "user_tz": 240
    },
    "id": "eP9XZYSbTAmv",
    "outputId": "92067191-e78f-4f24-9811-a9819dfe3976"
   },
   "outputs": [
    {
     "data": {
      "text/plain": [
       "array(['mlknn', 'resnet', 'cnn', 'tabnet', 'simplenn', 'mlknnshuf',\n",
       "       'resnetshuf', 'cnnshuf', 'tabnetshuf', 'simplennshuf', 'blend'],\n",
       "      dtype=object)"
      ]
     },
     "execution_count": 38,
     "metadata": {},
     "output_type": "execute_result"
    }
   ],
   "source": [
    "df_pred_scores['model'].unique()"
   ]
  },
  {
   "cell_type": "code",
   "execution_count": 39,
   "metadata": {
    "executionInfo": {
     "elapsed": 325336,
     "status": "ok",
     "timestamp": 1619188101403,
     "user": {
      "displayName": "adeniyi adeboye",
      "photoUrl": "",
      "userId": "02625876087283522783"
     },
     "user_tz": 240
    },
    "id": "40oDSmI-Tooc"
   },
   "outputs": [],
   "source": [
    "normal_models = ['mlknn', 'resnet', 'cnn', 'tabnet', 'simplenn', 'blend']\n",
    "shuffle_models = ['mlknnshuf', 'resnetshuf', 'cnnshuf', 'tabnetshuf', 'simplennshuf']"
   ]
  },
  {
   "cell_type": "code",
   "execution_count": 40,
   "metadata": {
    "executionInfo": {
     "elapsed": 325333,
     "status": "ok",
     "timestamp": 1619188101404,
     "user": {
      "displayName": "adeniyi adeboye",
      "photoUrl": "",
      "userId": "02625876087283522783"
     },
     "user_tz": 240
    },
    "id": "VYI9oidhTtZK"
   },
   "outputs": [],
   "source": [
    "df_score_normal = df_pred_scores.loc[df_pred_scores['model'].isin(normal_models)].reset_index(drop=True)\n",
    "df_score_shuffle = df_pred_scores.loc[df_pred_scores['model'].isin(shuffle_models)].reset_index(drop=True)"
   ]
  },
  {
   "cell_type": "code",
   "execution_count": 41,
   "metadata": {
    "colab": {
     "base_uri": "https://localhost:8080/",
     "height": 195
    },
    "executionInfo": {
     "elapsed": 325442,
     "status": "ok",
     "timestamp": 1619188101540,
     "user": {
      "displayName": "adeniyi adeboye",
      "photoUrl": "",
      "userId": "02625876087283522783"
     },
     "user_tz": 240
    },
    "id": "DvoA7L5-TtVk",
    "outputId": "3ea7d48a-fff8-4238-88f3-fdaee9b5c523"
   },
   "outputs": [
    {
     "data": {
      "text/html": [
       "<div>\n",
       "<style scoped>\n",
       "    .dataframe tbody tr th:only-of-type {\n",
       "        vertical-align: middle;\n",
       "    }\n",
       "\n",
       "    .dataframe tbody tr th {\n",
       "        vertical-align: top;\n",
       "    }\n",
       "\n",
       "    .dataframe thead th {\n",
       "        text-align: right;\n",
       "    }\n",
       "</style>\n",
       "<table border=\"1\" class=\"dataframe\">\n",
       "  <thead>\n",
       "    <tr style=\"text-align: right;\">\n",
       "      <th></th>\n",
       "      <th>id_name</th>\n",
       "      <th>metrics</th>\n",
       "      <th>values</th>\n",
       "      <th>profile_tech</th>\n",
       "      <th>model</th>\n",
       "    </tr>\n",
       "  </thead>\n",
       "  <tbody>\n",
       "    <tr>\n",
       "      <th>0</th>\n",
       "      <td>CP_mlknn</td>\n",
       "      <td>roc_auc_score</td>\n",
       "      <td>52.625130</td>\n",
       "      <td>CP</td>\n",
       "      <td>mlknn</td>\n",
       "    </tr>\n",
       "    <tr>\n",
       "      <th>1</th>\n",
       "      <td>CP_mlknn</td>\n",
       "      <td>pr_auc_score</td>\n",
       "      <td>1.013924</td>\n",
       "      <td>CP</td>\n",
       "      <td>mlknn</td>\n",
       "    </tr>\n",
       "    <tr>\n",
       "      <th>2</th>\n",
       "      <td>CP_resnet</td>\n",
       "      <td>roc_auc_score</td>\n",
       "      <td>59.323071</td>\n",
       "      <td>CP</td>\n",
       "      <td>resnet</td>\n",
       "    </tr>\n",
       "    <tr>\n",
       "      <th>3</th>\n",
       "      <td>CP_resnet</td>\n",
       "      <td>pr_auc_score</td>\n",
       "      <td>3.776332</td>\n",
       "      <td>CP</td>\n",
       "      <td>resnet</td>\n",
       "    </tr>\n",
       "    <tr>\n",
       "      <th>4</th>\n",
       "      <td>CP_cnn</td>\n",
       "      <td>roc_auc_score</td>\n",
       "      <td>59.411872</td>\n",
       "      <td>CP</td>\n",
       "      <td>cnn</td>\n",
       "    </tr>\n",
       "  </tbody>\n",
       "</table>\n",
       "</div>"
      ],
      "text/plain": [
       "     id_name        metrics     values profile_tech   model\n",
       "0   CP_mlknn  roc_auc_score  52.625130           CP   mlknn\n",
       "1   CP_mlknn   pr_auc_score   1.013924           CP   mlknn\n",
       "2  CP_resnet  roc_auc_score  59.323071           CP  resnet\n",
       "3  CP_resnet   pr_auc_score   3.776332           CP  resnet\n",
       "4     CP_cnn  roc_auc_score  59.411872           CP     cnn"
      ]
     },
     "execution_count": 41,
     "metadata": {},
     "output_type": "execute_result"
    }
   ],
   "source": [
    "df_score_normal.head()"
   ]
  },
  {
   "cell_type": "code",
   "execution_count": 42,
   "metadata": {
    "executionInfo": {
     "elapsed": 325442,
     "status": "ok",
     "timestamp": 1619188101544,
     "user": {
      "displayName": "adeniyi adeboye",
      "photoUrl": "",
      "userId": "02625876087283522783"
     },
     "user_tz": 240
    },
    "id": "-4ITo76-TtSn"
   },
   "outputs": [],
   "source": [
    "normal_model_names = {'resnet':'ResNet', 'cnn':'1D-CNN', 'tabnet':'TabNet', 'simplenn':'Simple NN', 'mlknn': 'Ml-KNN', 'blend': 'Models Ensemble'}\n",
    "shuffle_model_names = {'resnetshuf':'ResNet', 'cnnshuf':'1D-CNN', 'tabnetshuf':'TabNet', 'simplennshuf':'Simple NN','mlknnshuf': 'Ml-KNN'}\n",
    "\n",
    "def rename_col_values(df, model_name_dict):\n",
    "    \"\"\"Rename unique column values\"\"\"\n",
    "    df['metrics'] = df['metrics'].map({'pr_auc_score': 'Precision-Recall_AUC', 'roc_auc_score': 'ROC_AUC'})\n",
    "    df['model'] = df['model'].map(model_name_dict)\n",
    "    df['profile_tech'] = df['profile_tech'].map({'CP':'Cell painting', 'CPsubsample': \"Cell painting subsample\", 'L1000':'L1000', 'CP_L1000':'Cell painting & L1000'})\n",
    "    return df"
   ]
  },
  {
   "cell_type": "code",
   "execution_count": 43,
   "metadata": {
    "executionInfo": {
     "elapsed": 325440,
     "status": "ok",
     "timestamp": 1619188101545,
     "user": {
      "displayName": "adeniyi adeboye",
      "photoUrl": "",
      "userId": "02625876087283522783"
     },
     "user_tz": 240
    },
    "id": "63gPO97_Vsu3"
   },
   "outputs": [],
   "source": [
    "df_score_normal = rename_col_values(df_score_normal, normal_model_names)\n",
    "df_score_shuffle = rename_col_values(df_score_shuffle, shuffle_model_names)"
   ]
  },
  {
   "cell_type": "code",
   "execution_count": 44,
   "metadata": {
    "executionInfo": {
     "elapsed": 325439,
     "status": "ok",
     "timestamp": 1619188101547,
     "user": {
      "displayName": "adeniyi adeboye",
      "photoUrl": "",
      "userId": "02625876087283522783"
     },
     "user_tz": 240
    },
    "id": "jZGcU9DoVsrU"
   },
   "outputs": [],
   "source": [
    "def extract_new_dfs(df):\n",
    "    \"\"\"Extract ROC-AUC & PR-AUC dataframes\"\"\"\n",
    "    df_roc = df[df['metrics'] == 'ROC_AUC'].copy()\n",
    "    df_pr_auc = df[df['metrics'] == 'Precision-Recall_AUC'].copy()\n",
    "    return df_roc, df_pr_auc"
   ]
  },
  {
   "cell_type": "code",
   "execution_count": 45,
   "metadata": {
    "executionInfo": {
     "elapsed": 325438,
     "status": "ok",
     "timestamp": 1619188101548,
     "user": {
      "displayName": "adeniyi adeboye",
      "photoUrl": "",
      "userId": "02625876087283522783"
     },
     "user_tz": 240
    },
    "id": "eghzm5tGVsoR"
   },
   "outputs": [],
   "source": [
    "df_roc_normal, df_pr_auc_normal = extract_new_dfs(df_score_normal)\n",
    "df_roc_shuffle, df_pr_auc_shuffle = extract_new_dfs(df_score_shuffle)"
   ]
  },
  {
   "cell_type": "code",
   "execution_count": 108,
   "metadata": {},
   "outputs": [
    {
     "name": "stdout",
     "output_type": "stream",
     "text": [
      "(88, 6)\n"
     ]
    },
    {
     "data": {
      "text/html": [
       "<div>\n",
       "<style scoped>\n",
       "    .dataframe tbody tr th:only-of-type {\n",
       "        vertical-align: middle;\n",
       "    }\n",
       "\n",
       "    .dataframe tbody tr th {\n",
       "        vertical-align: top;\n",
       "    }\n",
       "\n",
       "    .dataframe thead th {\n",
       "        text-align: right;\n",
       "    }\n",
       "</style>\n",
       "<table border=\"1\" class=\"dataframe\">\n",
       "  <thead>\n",
       "    <tr style=\"text-align: right;\">\n",
       "      <th></th>\n",
       "      <th>id_name</th>\n",
       "      <th>metrics</th>\n",
       "      <th>values</th>\n",
       "      <th>profile_tech</th>\n",
       "      <th>model</th>\n",
       "      <th>shuffle</th>\n",
       "    </tr>\n",
       "  </thead>\n",
       "  <tbody>\n",
       "    <tr>\n",
       "      <th>1</th>\n",
       "      <td>CP_mlknn</td>\n",
       "      <td>Precision-Recall_AUC</td>\n",
       "      <td>1.013924</td>\n",
       "      <td>Cell painting</td>\n",
       "      <td>Ml-KNN</td>\n",
       "      <td>False</td>\n",
       "    </tr>\n",
       "    <tr>\n",
       "      <th>3</th>\n",
       "      <td>CP_resnet</td>\n",
       "      <td>Precision-Recall_AUC</td>\n",
       "      <td>3.776332</td>\n",
       "      <td>Cell painting</td>\n",
       "      <td>ResNet</td>\n",
       "      <td>False</td>\n",
       "    </tr>\n",
       "    <tr>\n",
       "      <th>5</th>\n",
       "      <td>CP_cnn</td>\n",
       "      <td>Precision-Recall_AUC</td>\n",
       "      <td>4.524989</td>\n",
       "      <td>Cell painting</td>\n",
       "      <td>1D-CNN</td>\n",
       "      <td>False</td>\n",
       "    </tr>\n",
       "    <tr>\n",
       "      <th>7</th>\n",
       "      <td>CP_tabnet</td>\n",
       "      <td>Precision-Recall_AUC</td>\n",
       "      <td>3.130228</td>\n",
       "      <td>Cell painting</td>\n",
       "      <td>TabNet</td>\n",
       "      <td>False</td>\n",
       "    </tr>\n",
       "    <tr>\n",
       "      <th>9</th>\n",
       "      <td>CP_simplenn</td>\n",
       "      <td>Precision-Recall_AUC</td>\n",
       "      <td>4.201865</td>\n",
       "      <td>Cell painting</td>\n",
       "      <td>Simple NN</td>\n",
       "      <td>False</td>\n",
       "    </tr>\n",
       "  </tbody>\n",
       "</table>\n",
       "</div>"
      ],
      "text/plain": [
       "       id_name               metrics    values   profile_tech      model  \\\n",
       "1     CP_mlknn  Precision-Recall_AUC  1.013924  Cell painting     Ml-KNN   \n",
       "3    CP_resnet  Precision-Recall_AUC  3.776332  Cell painting     ResNet   \n",
       "5       CP_cnn  Precision-Recall_AUC  4.524989  Cell painting     1D-CNN   \n",
       "7    CP_tabnet  Precision-Recall_AUC  3.130228  Cell painting     TabNet   \n",
       "9  CP_simplenn  Precision-Recall_AUC  4.201865  Cell painting  Simple NN   \n",
       "\n",
       "   shuffle  \n",
       "1    False  \n",
       "3    False  \n",
       "5    False  \n",
       "7    False  \n",
       "9    False  "
      ]
     },
     "execution_count": 108,
     "metadata": {},
     "output_type": "execute_result"
    }
   ],
   "source": [
    "# Output files\n",
    "full_results_df = pd.concat([\n",
    "    df_pr_auc_normal.assign(shuffle=False),\n",
    "    df_roc_normal.assign(shuffle=False),\n",
    "    df_pr_auc_shuffle.assign(shuffle=True),\n",
    "    df_roc_shuffle.assign(shuffle=True)\n",
    "])\n",
    "\n",
    "output_file = pathlib.Path(\"performance_results/all_performance_metrics.csv\")\n",
    "full_results_df.to_csv(output_file, index=False)\n",
    "\n",
    "print(full_results_df.shape)\n",
    "full_results_df.head()"
   ]
  },
  {
   "cell_type": "markdown",
   "metadata": {
    "id": "Mp8IDC42W8JF"
   },
   "source": [
    "### - Plot Models -- Normal, Shuffle Models"
   ]
  },
  {
   "cell_type": "markdown",
   "metadata": {
    "id": "qPossNqUXqsc"
   },
   "source": [
    "##### - Baseline of Precision-Recall AUC score is determined by the ratio of positives (P i.e. 1) to ratio of positives (P i.e. 1) and negatives (N i.e. 0) i.e. y = P / (P + N)"
   ]
  },
  {
   "cell_type": "code",
   "execution_count": 47,
   "metadata": {
    "executionInfo": {
     "elapsed": 325437,
     "status": "ok",
     "timestamp": 1619188101550,
     "user": {
      "displayName": "adeniyi adeboye",
      "photoUrl": "",
      "userId": "02625876087283522783"
     },
     "user_tz": 240
    },
    "id": "S6nUDxKVVsmi"
   },
   "outputs": [],
   "source": [
    "pr_baseline = (cp_no_skill + cp_no_skill_subsample + L1000_no_skill + cp_L1000_no_skill)/4 * 100"
   ]
  },
  {
   "cell_type": "code",
   "execution_count": 48,
   "metadata": {
    "colab": {
     "base_uri": "https://localhost:8080/"
    },
    "executionInfo": {
     "elapsed": 325424,
     "status": "ok",
     "timestamp": 1619188101552,
     "user": {
      "displayName": "adeniyi adeboye",
      "photoUrl": "",
      "userId": "02625876087283522783"
     },
     "user_tz": 240
    },
    "id": "wlB95PTLVsiu",
    "outputId": "0026a38a-f403-438b-c91b-14fbf0b07fd0"
   },
   "outputs": [
    {
     "data": {
      "text/plain": [
       "0.47802207265835484"
      ]
     },
     "execution_count": 48,
     "metadata": {},
     "output_type": "execute_result"
    }
   ],
   "source": [
    "pr_baseline"
   ]
  },
  {
   "cell_type": "code",
   "execution_count": 49,
   "metadata": {
    "executionInfo": {
     "elapsed": 325424,
     "status": "ok",
     "timestamp": 1619188101554,
     "user": {
      "displayName": "adeniyi adeboye",
      "photoUrl": "",
      "userId": "02625876087283522783"
     },
     "user_tz": 240
    },
    "id": "xOhW24UlVsf1"
   },
   "outputs": [],
   "source": [
    "def plot_model_predictions(df, baseline, file_name, txt_cord_y = 0.51, y_label= \"Precision-Recall AUC %\", title_label=\"Precision-Recall AUC score for all models\", \n",
    "                           path = model_preds_figures):\n",
    "  \"\"\"Plot model predictions for all profiling assays\"\"\"\n",
    "  if not os.path.exists(path):\n",
    "        os.mkdir(path)\n",
    "  cat_plt = sns.catplot(x=\"model\", y=\"values\", \n",
    "                        hue=\"profile_tech\", data=df, kind=\"bar\", palette='gray', \n",
    "                        height=6, aspect=2.2)\n",
    "  cat_plt._legend.set_title('')\n",
    "  cat_plt.set_axis_labels(\"Models\", y_label)\n",
    "  cat_plt.fig.suptitle(title_label)\n",
    "  cat_plt.fig.subplots_adjust(top=.91)\n",
    "  plt.axhline(baseline, ls='--', linewidth=3, color='red')\n",
    "  plt.text(-0.42,txt_cord_y, \"Baseline\", color='red')\n",
    "  plt.savefig(os.path.join(path, file_name))\n",
    "  plt.show()"
   ]
  },
  {
   "cell_type": "code",
   "execution_count": 50,
   "metadata": {},
   "outputs": [
    {
     "data": {
      "image/png": "[encoded data removed]",
      "text/plain": [
       "<Figure size 1185.43x432 with 1 Axes>"
      ]
     },
     "metadata": {},
     "output_type": "display_data"
    }
   ],
   "source": [
    "plot_model_predictions(df_pr_auc_normal, pr_baseline, \"pr_auc_all_assays.png\")"
   ]
  },
  {
   "cell_type": "code",
   "execution_count": 51,
   "metadata": {},
   "outputs": [
    {
     "data": {
      "image/png": "[encoded data removed]",
      "text/plain": [
       "<Figure size 1185.43x432 with 1 Axes>"
      ]
     },
     "metadata": {},
     "output_type": "display_data"
    }
   ],
   "source": [
    "plot_model_predictions(df_pr_auc_shuffle, pr_baseline, \"pr_auc_all_assays_wrong_labels.png\", txt_cord_y = 0.46, \n",
    "                       title_label=\"Precision-Recall AUC score for all models (Trained on wrong MOA labels)\")"
   ]
  },
  {
   "cell_type": "code",
   "execution_count": 52,
   "metadata": {},
   "outputs": [
    {
     "data": {
      "image/png": "[encoded data removed]",
      "text/plain": [
       "<Figure size 1185.43x432 with 1 Axes>"
      ]
     },
     "metadata": {},
     "output_type": "display_data"
    }
   ],
   "source": [
    "plot_model_predictions(df_roc_normal, 50, \"roc_auc_all_assays.png\", txt_cord_y = 51, y_label= \"ROC-AUC %\", title_label=\"ROC-AUC score for all models\")"
   ]
  },
  {
   "cell_type": "code",
   "execution_count": 53,
   "metadata": {
    "colab": {
     "base_uri": "https://localhost:8080/",
     "height": 457
    },
    "executionInfo": {
     "elapsed": 330200,
     "status": "ok",
     "timestamp": 1619188106395,
     "user": {
      "displayName": "adeniyi adeboye",
      "photoUrl": "",
      "userId": "02625876087283522783"
     },
     "user_tz": 240
    },
    "id": "NlYZZzCKba_0",
    "outputId": "6470418d-47f6-444c-c42d-da05add2fa74"
   },
   "outputs": [
    {
     "data": {
      "image/png": "[encoded data removed]",
      "text/plain": [
       "<Figure size 1185.43x432 with 1 Axes>"
      ]
     },
     "metadata": {},
     "output_type": "display_data"
    }
   ],
   "source": [
    "plot_model_predictions(df_roc_shuffle, 50, \"roc_auc_all_assays_wrong_labels.png\", txt_cord_y = 51, y_label= \"ROC-AUC %\", \n",
    "                       title_label=\"ROC-AUC score for all models (Trained on wrong/shuffle MOA labels)\")"
   ]
  },
  {
   "cell_type": "markdown",
   "metadata": {
    "id": "YQ8r8gIFfpXi"
   },
   "source": [
    "### - MOA predictions PER Dose treatment"
   ]
  },
  {
   "cell_type": "code",
   "execution_count": 54,
   "metadata": {
    "colab": {
     "base_uri": "https://localhost:8080/"
    },
    "executionInfo": {
     "elapsed": 330189,
     "status": "ok",
     "timestamp": 1619188106396,
     "user": {
      "displayName": "adeniyi adeboye",
      "photoUrl": "",
      "userId": "02625876087283522783"
     },
     "user_tz": 240
    },
    "id": "R1BaIPx7fHOz",
    "outputId": "78b13c04-e947-4e4a-c3b2-16ea6f3d52a2"
   },
   "outputs": [
    {
     "data": {
      "text/plain": [
       "array([6, 5, 4, 3, 2, 1])"
      ]
     },
     "execution_count": 54,
     "metadata": {},
     "output_type": "execute_result"
    }
   ],
   "source": [
    "df_cp_L1000_test['dose'].unique()"
   ]
  },
  {
   "cell_type": "code",
   "execution_count": 55,
   "metadata": {
    "executionInfo": {
     "elapsed": 330188,
     "status": "ok",
     "timestamp": 1619188106397,
     "user": {
      "displayName": "adeniyi adeboye",
      "photoUrl": "",
      "userId": "02625876087283522783"
     },
     "user_tz": 240
    },
    "id": "3o-6kxQQfHLx"
   },
   "outputs": [],
   "source": [
    "df_cp_test.rename(columns={'Metadata_dose_recode': \"dose\"}, inplace = True)\n",
    "df_cp_test_subsample.rename(columns={'Metadata_dose_recode': \"dose\"}, inplace = True)"
   ]
  },
  {
   "cell_type": "code",
   "execution_count": 56,
   "metadata": {
    "executionInfo": {
     "elapsed": 330187,
     "status": "ok",
     "timestamp": 1619188106398,
     "user": {
      "displayName": "adeniyi adeboye",
      "photoUrl": "",
      "userId": "02625876087283522783"
     },
     "user_tz": 240
    },
    "id": "FgOrasunfHJp"
   },
   "outputs": [],
   "source": [
    "def get_actual_preds_dose(dose, df_test, df_model_preds, df_targets):\n",
    "  \"\"\"Get the actual MOA target labels and predictions for each Treatment dose\"\"\"\n",
    "  dose_cpds_index = df_test[df_test['dose'] == dose].index\n",
    "  df_dose_preds = df_model_preds.loc[dose_cpds_index].reset_index(drop = True)\n",
    "  df_dose_targets = df_targets.loc[dose_cpds_index].reset_index(drop = True)\n",
    "  return df_dose_targets, df_dose_preds"
   ]
  },
  {
   "cell_type": "code",
   "execution_count": 57,
   "metadata": {
    "executionInfo": {
     "elapsed": 330186,
     "status": "ok",
     "timestamp": 1619188106399,
     "user": {
      "displayName": "adeniyi adeboye",
      "photoUrl": "",
      "userId": "02625876087283522783"
     },
     "user_tz": 240
    },
    "id": "Oh9NCWQkiwi4"
   },
   "outputs": [],
   "source": [
    "def dose_class_baseline(dose_num, df_test, df_targets):\n",
    "  \"\"\"Calculate the PR- baseline for each dose treatment\"\"\"\n",
    "  dose_cpds_index = df_test[df_test['dose'] == dose_num].index\n",
    "  df_class_targets = df_targets.loc[dose_cpds_index].reset_index(drop = True)\n",
    "  class_baseline_score = calculate_baseline(df_class_targets)\n",
    "  return class_baseline_score"
   ]
  },
  {
   "cell_type": "code",
   "execution_count": 58,
   "metadata": {
    "executionInfo": {
     "elapsed": 330186,
     "status": "ok",
     "timestamp": 1619188106401,
     "user": {
      "displayName": "adeniyi adeboye",
      "photoUrl": "",
      "userId": "02625876087283522783"
     },
     "user_tz": 240
    },
    "id": "Ri4aWgCwfHCq"
   },
   "outputs": [],
   "source": [
    "dose_num = [1,2,3,4,5,6]"
   ]
  },
  {
   "cell_type": "markdown",
   "metadata": {
    "id": "6ddQvfe6N5_H"
   },
   "source": [
    "##### - The baseline pr-auc score for each dose is the same across all profiling assays i.e. the baseline score in CP == baseline score in L1000 or CP & L1000 combined"
   ]
  },
  {
   "cell_type": "code",
   "execution_count": 59,
   "metadata": {
    "executionInfo": {
     "elapsed": 330320,
     "status": "ok",
     "timestamp": 1619188106537,
     "user": {
      "displayName": "adeniyi adeboye",
      "photoUrl": "",
      "userId": "02625876087283522783"
     },
     "user_tz": 240
    },
    "id": "6Ig98ai0ba8m"
   },
   "outputs": [],
   "source": [
    "dose_no_skill_scrs = {}\n",
    "for num in dose_num:\n",
    "    class_name = 'dose_class_' + str(num)\n",
    "    no_skill_score = dose_class_baseline(num, df_cp_test, df_cp_tst_targets)\n",
    "    dose_no_skill_scrs[class_name] = no_skill_score"
   ]
  },
  {
   "cell_type": "code",
   "execution_count": 60,
   "metadata": {
    "colab": {
     "base_uri": "https://localhost:8080/"
    },
    "executionInfo": {
     "elapsed": 330309,
     "status": "ok",
     "timestamp": 1619188106538,
     "user": {
      "displayName": "adeniyi adeboye",
      "photoUrl": "",
      "userId": "02625876087283522783"
     },
     "user_tz": 240
    },
    "id": "JQcYHFKEi_Uv",
    "outputId": "5531f308-d698-4fc7-e4d6-2e069d4826cf"
   },
   "outputs": [
    {
     "data": {
      "text/plain": [
       "{'dose_class_1': 0.004757879483154208,\n",
       " 'dose_class_2': 0.004757879483154208,\n",
       " 'dose_class_3': 0.004757879483154208,\n",
       " 'dose_class_4': 0.004757879483154208,\n",
       " 'dose_class_5': 0.004757879483154208,\n",
       " 'dose_class_6': 0.004757879483154208}"
      ]
     },
     "execution_count": 60,
     "metadata": {},
     "output_type": "execute_result"
    }
   ],
   "source": [
    "dose_no_skill_scrs"
   ]
  },
  {
   "cell_type": "code",
   "execution_count": 61,
   "metadata": {
    "executionInfo": {
     "elapsed": 330307,
     "status": "ok",
     "timestamp": 1619188106538,
     "user": {
      "displayName": "adeniyi adeboye",
      "photoUrl": "",
      "userId": "02625876087283522783"
     },
     "user_tz": 240
    },
    "id": "7jlosU6OpcSj"
   },
   "outputs": [],
   "source": [
    "def evaluate(actual, pred, val_moas=val_moas):\n",
    "  \"\"\"Evaluate MOA predictions per dose using PR-AUC and ROC-AUC\"\"\"\n",
    "  rocauc_score = roc_auc_score(np.ravel(actual[val_moas]), np.ravel(pred[val_moas]), average='macro')\n",
    "  pr_auc_score = average_precision_score(np.ravel(actual[val_moas]), np.ravel(pred[val_moas]), average=\"micro\")\n",
    "  return [rocauc_score, pr_auc_score]"
   ]
  },
  {
   "cell_type": "code",
   "execution_count": 62,
   "metadata": {
    "executionInfo": {
     "elapsed": 330306,
     "status": "ok",
     "timestamp": 1619188106539,
     "user": {
      "displayName": "adeniyi adeboye",
      "photoUrl": "",
      "userId": "02625876087283522783"
     },
     "user_tz": 240
    },
    "id": "5KXzUT-Gi_NV"
   },
   "outputs": [],
   "source": [
    "cp_preds_dose = [df_cp_mlknn_test, df_cp_resnet_test, df_cp_cnn_test, df_cp_tabnet_test, df_cp_simplenn_test, df_cp_blend_test]\n",
    "\n",
    "cp_preds_dose_subsample = [\n",
    "    df_cp_mlknn_test_subsample, df_cp_resnet_test_subsample,\n",
    "    df_cp_cnn_test_subsample, df_cp_tabnet_test_subsample,\n",
    "    df_cp_simplenn_test_subsample, df_cp_blend_test_subsample\n",
    "]\n",
    "\n",
    "L1_preds_dose = [df_L1000_mlknn_test, df_L1000_resnet_test, df_L1000_cnn_test, df_L1000_tabnet_test, df_L1000_simplenn_test, \n",
    "                 df_L1000_blend_test]\n",
    "\n",
    "cp_L1_preds_dose = [df_cp_L1000_mlknn_test, df_cp_L1000_resnet_test, df_cp_L1000_cnn_test, df_cp_L1000_tabnet_test, \n",
    "                    df_cp_L1000_simplenn_test, df_cp_L1000_blend_test]"
   ]
  },
  {
   "cell_type": "code",
   "execution_count": 63,
   "metadata": {
    "executionInfo": {
     "elapsed": 330442,
     "status": "ok",
     "timestamp": 1619188106677,
     "user": {
      "displayName": "adeniyi adeboye",
      "photoUrl": "",
      "userId": "02625876087283522783"
     },
     "user_tz": 240
    },
    "id": "VYVGw9Q7i_R2"
   },
   "outputs": [],
   "source": [
    "def dose_class_preds(assay_name, df_val, df_targets, model_preds, dose_num = dose_num):\n",
    "    \"\"\"Compute the evaluation scores for each dose treatment across all models for each profiling assay\"\"\"\n",
    "    metrics = ['roc_auc_score', 'pr_auc_score',]\n",
    "    model_name = ['mlknn_', 'resnet_', 'cnn_', 'tabnet_', 'simplenn_']\n",
    "    class_results = {}\n",
    "    for num in dose_num:\n",
    "        for pred, mdl in zip(model_preds, model_name):\n",
    "            metric_dict = {}\n",
    "            class_name = 'moa_dose_' + assay_name + mdl + str(num)\n",
    "            actual_, pred_ = get_actual_preds_dose(num, df_val, pred, df_targets)\n",
    "            eval_list = evaluate(actual_, pred_)\n",
    "            for idx, met in enumerate(metrics):\n",
    "                class_results[class_name] = metric_dict\n",
    "                class_results[class_name][met] = eval_list[idx]\n",
    "\n",
    "    return class_results"
   ]
  },
  {
   "cell_type": "code",
   "execution_count": 64,
   "metadata": {
    "executionInfo": {
     "elapsed": 355392,
     "status": "ok",
     "timestamp": 1619188131629,
     "user": {
      "displayName": "adeniyi adeboye",
      "photoUrl": "",
      "userId": "02625876087283522783"
     },
     "user_tz": 240
    },
    "id": "qnVupIgRi_KW"
   },
   "outputs": [],
   "source": [
    "cp_dose_preds = dose_class_preds('cp_', df_cp_test, df_cp_tst_targets, cp_preds_dose)\n",
    "cp_dose_preds_subsample = dose_class_preds('cpsubsample_', df_cp_test_subsample, df_cp_tst_targets_subsample, cp_preds_dose_subsample)\n",
    "L1000_dose_preds = dose_class_preds('L1000_', df_L1000_test, df_L1000_tst_targets, L1_preds_dose)\n",
    "cp_L1000_dose_preds = dose_class_preds('cp_L1000_', df_cp_L1000_test, df_cp_L1000_tst_targets, cp_L1_preds_dose)"
   ]
  },
  {
   "cell_type": "code",
   "execution_count": 65,
   "metadata": {
    "executionInfo": {
     "elapsed": 355392,
     "status": "ok",
     "timestamp": 1619188131631,
     "user": {
      "displayName": "adeniyi adeboye",
      "photoUrl": "",
      "userId": "02625876087283522783"
     },
     "user_tz": 240
    },
    "id": "cBCRgtQfi_Id"
   },
   "outputs": [],
   "source": [
    "def get_class_dfs(class_preds):\n",
    "    \"\"\"Create dataframes that includes the dose prediction scores, models, and treatment doses\"\"\"  \n",
    "    df_results = pd.DataFrame([(k,k1,v1) for k,v in class_preds.items() for k1,v1 in v.items()], \n",
    "                            columns = ['id_name', 'metrics', 'values'])\n",
    "    df_results['class'] = df_results['id_name'].apply(lambda x: x.split('_')[1] + '_' + x.split('_')[-1])\n",
    "    df_results['model'] = df_results['id_name'].apply(lambda x: x.split('_')[-2])\n",
    "    df_results['profile_tech'] = df_results['id_name'].apply(lambda x: 'CP_L1000' if len(x.split('_')) > 5 else x.split('_')[2])\n",
    "    return df_results"
   ]
  },
  {
   "cell_type": "code",
   "execution_count": 66,
   "metadata": {
    "executionInfo": {
     "elapsed": 355392,
     "status": "ok",
     "timestamp": 1619188131635,
     "user": {
      "displayName": "adeniyi adeboye",
      "photoUrl": "",
      "userId": "02625876087283522783"
     },
     "user_tz": 240
    },
    "id": "edyhWSnci_EW"
   },
   "outputs": [],
   "source": [
    "df_dose_cp_L1_results = get_class_dfs(cp_L1000_dose_preds)\n",
    "df_dose_cp_results = get_class_dfs(cp_dose_preds)\n",
    "df_dose_cp_results_subsample = get_class_dfs(cp_dose_preds_subsample)\n",
    "df_dose_L1_results = get_class_dfs(L1000_dose_preds)"
   ]
  },
  {
   "cell_type": "code",
   "execution_count": 67,
   "metadata": {
    "colab": {
     "base_uri": "https://localhost:8080/",
     "height": 195
    },
    "executionInfo": {
     "elapsed": 355365,
     "status": "ok",
     "timestamp": 1619188131637,
     "user": {
      "displayName": "adeniyi adeboye",
      "photoUrl": "",
      "userId": "02625876087283522783"
     },
     "user_tz": 240
    },
    "id": "m6nINwlDi_BQ",
    "outputId": "dd6d031b-508e-46b8-f86a-a33f1fff3faa"
   },
   "outputs": [
    {
     "data": {
      "text/html": [
       "<div>\n",
       "<style scoped>\n",
       "    .dataframe tbody tr th:only-of-type {\n",
       "        vertical-align: middle;\n",
       "    }\n",
       "\n",
       "    .dataframe tbody tr th {\n",
       "        vertical-align: top;\n",
       "    }\n",
       "\n",
       "    .dataframe thead th {\n",
       "        text-align: right;\n",
       "    }\n",
       "</style>\n",
       "<table border=\"1\" class=\"dataframe\">\n",
       "  <thead>\n",
       "    <tr style=\"text-align: right;\">\n",
       "      <th></th>\n",
       "      <th>id_name</th>\n",
       "      <th>metrics</th>\n",
       "      <th>values</th>\n",
       "      <th>class</th>\n",
       "      <th>model</th>\n",
       "      <th>profile_tech</th>\n",
       "    </tr>\n",
       "  </thead>\n",
       "  <tbody>\n",
       "    <tr>\n",
       "      <th>0</th>\n",
       "      <td>moa_dose_cp_L1000_mlknn_1</td>\n",
       "      <td>roc_auc_score</td>\n",
       "      <td>0.629641</td>\n",
       "      <td>dose_1</td>\n",
       "      <td>mlknn</td>\n",
       "      <td>CP_L1000</td>\n",
       "    </tr>\n",
       "    <tr>\n",
       "      <th>1</th>\n",
       "      <td>moa_dose_cp_L1000_mlknn_1</td>\n",
       "      <td>pr_auc_score</td>\n",
       "      <td>0.009555</td>\n",
       "      <td>dose_1</td>\n",
       "      <td>mlknn</td>\n",
       "      <td>CP_L1000</td>\n",
       "    </tr>\n",
       "    <tr>\n",
       "      <th>2</th>\n",
       "      <td>moa_dose_cp_L1000_resnet_1</td>\n",
       "      <td>roc_auc_score</td>\n",
       "      <td>0.643582</td>\n",
       "      <td>dose_1</td>\n",
       "      <td>resnet</td>\n",
       "      <td>CP_L1000</td>\n",
       "    </tr>\n",
       "    <tr>\n",
       "      <th>3</th>\n",
       "      <td>moa_dose_cp_L1000_resnet_1</td>\n",
       "      <td>pr_auc_score</td>\n",
       "      <td>0.039944</td>\n",
       "      <td>dose_1</td>\n",
       "      <td>resnet</td>\n",
       "      <td>CP_L1000</td>\n",
       "    </tr>\n",
       "    <tr>\n",
       "      <th>4</th>\n",
       "      <td>moa_dose_cp_L1000_cnn_1</td>\n",
       "      <td>roc_auc_score</td>\n",
       "      <td>0.644051</td>\n",
       "      <td>dose_1</td>\n",
       "      <td>cnn</td>\n",
       "      <td>CP_L1000</td>\n",
       "    </tr>\n",
       "  </tbody>\n",
       "</table>\n",
       "</div>"
      ],
      "text/plain": [
       "                      id_name        metrics    values   class   model  \\\n",
       "0   moa_dose_cp_L1000_mlknn_1  roc_auc_score  0.629641  dose_1   mlknn   \n",
       "1   moa_dose_cp_L1000_mlknn_1   pr_auc_score  0.009555  dose_1   mlknn   \n",
       "2  moa_dose_cp_L1000_resnet_1  roc_auc_score  0.643582  dose_1  resnet   \n",
       "3  moa_dose_cp_L1000_resnet_1   pr_auc_score  0.039944  dose_1  resnet   \n",
       "4     moa_dose_cp_L1000_cnn_1  roc_auc_score  0.644051  dose_1     cnn   \n",
       "\n",
       "  profile_tech  \n",
       "0     CP_L1000  \n",
       "1     CP_L1000  \n",
       "2     CP_L1000  \n",
       "3     CP_L1000  \n",
       "4     CP_L1000  "
      ]
     },
     "execution_count": 67,
     "metadata": {},
     "output_type": "execute_result"
    }
   ],
   "source": [
    "df_dose_cp_L1_results.head()"
   ]
  },
  {
   "cell_type": "code",
   "execution_count": 68,
   "metadata": {
    "executionInfo": {
     "elapsed": 355359,
     "status": "ok",
     "timestamp": 1619188131639,
     "user": {
      "displayName": "adeniyi adeboye",
      "photoUrl": "",
      "userId": "02625876087283522783"
     },
     "user_tz": 240
    },
    "id": "G2JCtTUMTAi0"
   },
   "outputs": [],
   "source": [
    "df_pr_cp_dose = df_dose_cp_results[df_dose_cp_results['metrics'] == 'pr_auc_score'].copy()\n",
    "df_pr_cp_dose_subsample = df_dose_cp_results_subsample[df_dose_cp_results_subsample['metrics'] == 'pr_auc_score'].copy()\n",
    "df_pr_L1_dose = df_dose_L1_results[df_dose_L1_results['metrics'] == 'pr_auc_score'].copy()\n",
    "df_pr_cp_L1_dose = df_dose_cp_L1_results[df_dose_cp_L1_results['metrics'] == 'pr_auc_score'].copy()"
   ]
  },
  {
   "cell_type": "code",
   "execution_count": 69,
   "metadata": {},
   "outputs": [
    {
     "name": "stdout",
     "output_type": "stream",
     "text": [
      "(120, 6)\n"
     ]
    },
    {
     "data": {
      "text/html": [
       "<div>\n",
       "<style scoped>\n",
       "    .dataframe tbody tr th:only-of-type {\n",
       "        vertical-align: middle;\n",
       "    }\n",
       "\n",
       "    .dataframe tbody tr th {\n",
       "        vertical-align: top;\n",
       "    }\n",
       "\n",
       "    .dataframe thead th {\n",
       "        text-align: right;\n",
       "    }\n",
       "</style>\n",
       "<table border=\"1\" class=\"dataframe\">\n",
       "  <thead>\n",
       "    <tr style=\"text-align: right;\">\n",
       "      <th></th>\n",
       "      <th>id_name</th>\n",
       "      <th>metrics</th>\n",
       "      <th>values</th>\n",
       "      <th>class</th>\n",
       "      <th>model</th>\n",
       "      <th>profile_tech</th>\n",
       "    </tr>\n",
       "  </thead>\n",
       "  <tbody>\n",
       "    <tr>\n",
       "      <th>1</th>\n",
       "      <td>moa_dose_cp_mlknn_1</td>\n",
       "      <td>pr_auc_score</td>\n",
       "      <td>0.008887</td>\n",
       "      <td>dose_1</td>\n",
       "      <td>mlknn</td>\n",
       "      <td>cp</td>\n",
       "    </tr>\n",
       "    <tr>\n",
       "      <th>3</th>\n",
       "      <td>moa_dose_cp_resnet_1</td>\n",
       "      <td>pr_auc_score</td>\n",
       "      <td>0.023070</td>\n",
       "      <td>dose_1</td>\n",
       "      <td>resnet</td>\n",
       "      <td>cp</td>\n",
       "    </tr>\n",
       "    <tr>\n",
       "      <th>5</th>\n",
       "      <td>moa_dose_cp_cnn_1</td>\n",
       "      <td>pr_auc_score</td>\n",
       "      <td>0.030706</td>\n",
       "      <td>dose_1</td>\n",
       "      <td>cnn</td>\n",
       "      <td>cp</td>\n",
       "    </tr>\n",
       "    <tr>\n",
       "      <th>7</th>\n",
       "      <td>moa_dose_cp_tabnet_1</td>\n",
       "      <td>pr_auc_score</td>\n",
       "      <td>0.018744</td>\n",
       "      <td>dose_1</td>\n",
       "      <td>tabnet</td>\n",
       "      <td>cp</td>\n",
       "    </tr>\n",
       "    <tr>\n",
       "      <th>9</th>\n",
       "      <td>moa_dose_cp_simplenn_1</td>\n",
       "      <td>pr_auc_score</td>\n",
       "      <td>0.027241</td>\n",
       "      <td>dose_1</td>\n",
       "      <td>simplenn</td>\n",
       "      <td>cp</td>\n",
       "    </tr>\n",
       "  </tbody>\n",
       "</table>\n",
       "</div>"
      ],
      "text/plain": [
       "                  id_name       metrics    values   class     model  \\\n",
       "1     moa_dose_cp_mlknn_1  pr_auc_score  0.008887  dose_1     mlknn   \n",
       "3    moa_dose_cp_resnet_1  pr_auc_score  0.023070  dose_1    resnet   \n",
       "5       moa_dose_cp_cnn_1  pr_auc_score  0.030706  dose_1       cnn   \n",
       "7    moa_dose_cp_tabnet_1  pr_auc_score  0.018744  dose_1    tabnet   \n",
       "9  moa_dose_cp_simplenn_1  pr_auc_score  0.027241  dose_1  simplenn   \n",
       "\n",
       "  profile_tech  \n",
       "1           cp  \n",
       "3           cp  \n",
       "5           cp  \n",
       "7           cp  \n",
       "9           cp  "
      ]
     },
     "execution_count": 69,
     "metadata": {},
     "output_type": "execute_result"
    }
   ],
   "source": [
    "# Output files\n",
    "full_dose_results_df = pd.concat([\n",
    "    df_pr_cp_dose,\n",
    "    df_pr_cp_dose_subsample,\n",
    "    df_pr_L1_dose,\n",
    "    df_pr_cp_L1_dose\n",
    "])\n",
    "\n",
    "output_file = pathlib.Path(\"performance_results/all_performance_metrics_by_dose.csv\")\n",
    "full_dose_results_df.to_csv(output_file, index=False)\n",
    "\n",
    "print(full_dose_results_df.shape)\n",
    "full_dose_results_df.head()"
   ]
  },
  {
   "cell_type": "code",
   "execution_count": 70,
   "metadata": {
    "executionInfo": {
     "elapsed": 355354,
     "status": "ok",
     "timestamp": 1619188131640,
     "user": {
      "displayName": "adeniyi adeboye",
      "photoUrl": "",
      "userId": "02625876087283522783"
     },
     "user_tz": 240
    },
    "id": "mniY6sAhrJ8E"
   },
   "outputs": [],
   "source": [
    "def top_class_auc(df):\n",
    "    \"\"\"Out of all the predictive scores across all models, CHOOSE the best model prediction score for each treatment dose\"\"\"\n",
    "    df_max_class = df.groupby(['class']).agg(['max'])\n",
    "    df_max_class.columns = df_max_class.columns.droplevel(1)\n",
    "    df_max_class.rename_axis(None, axis=0, inplace = True)\n",
    "    df_max_class = df_max_class.reset_index().rename(columns={\"index\": \"class\"})\n",
    "    df_cls_top_auc = df_max_class.sort_values(by='values', ascending = False)\n",
    "    df_cls_top_auc.reset_index(drop=True, inplace = True)\n",
    "    df_cls_top_auc.drop(['id_name', 'model'], axis = 1, inplace = True)\n",
    "    return df_cls_top_auc"
   ]
  },
  {
   "cell_type": "code",
   "execution_count": 71,
   "metadata": {
    "executionInfo": {
     "elapsed": 355470,
     "status": "ok",
     "timestamp": 1619188131760,
     "user": {
      "displayName": "adeniyi adeboye",
      "photoUrl": "",
      "userId": "02625876087283522783"
     },
     "user_tz": 240
    },
    "id": "h5w6DJRyrJ40"
   },
   "outputs": [],
   "source": [
    "df_top_dose_pr_cp = top_class_auc(df_pr_cp_dose)\n",
    "df_top_dose_pr_cp_subsample = top_class_auc(df_pr_cp_dose_subsample)\n",
    "df_top_dose_pr_L1 = top_class_auc(df_pr_L1_dose)\n",
    "df_top_dose_pr_cp_L1 = top_class_auc(df_pr_cp_L1_dose)"
   ]
  },
  {
   "cell_type": "code",
   "execution_count": 72,
   "metadata": {
    "colab": {
     "base_uri": "https://localhost:8080/",
     "height": 225
    },
    "executionInfo": {
     "elapsed": 355452,
     "status": "ok",
     "timestamp": 1619188131765,
     "user": {
      "displayName": "adeniyi adeboye",
      "photoUrl": "",
      "userId": "02625876087283522783"
     },
     "user_tz": 240
    },
    "id": "0GtqlKcurJ1_",
    "outputId": "a9c0f361-b7b6-46cd-945f-36901a5309be"
   },
   "outputs": [
    {
     "data": {
      "text/html": [
       "<div>\n",
       "<style scoped>\n",
       "    .dataframe tbody tr th:only-of-type {\n",
       "        vertical-align: middle;\n",
       "    }\n",
       "\n",
       "    .dataframe tbody tr th {\n",
       "        vertical-align: top;\n",
       "    }\n",
       "\n",
       "    .dataframe thead th {\n",
       "        text-align: right;\n",
       "    }\n",
       "</style>\n",
       "<table border=\"1\" class=\"dataframe\">\n",
       "  <thead>\n",
       "    <tr style=\"text-align: right;\">\n",
       "      <th></th>\n",
       "      <th>class</th>\n",
       "      <th>metrics</th>\n",
       "      <th>values</th>\n",
       "      <th>profile_tech</th>\n",
       "    </tr>\n",
       "  </thead>\n",
       "  <tbody>\n",
       "    <tr>\n",
       "      <th>0</th>\n",
       "      <td>dose_5</td>\n",
       "      <td>pr_auc_score</td>\n",
       "      <td>0.067012</td>\n",
       "      <td>CP_L1000</td>\n",
       "    </tr>\n",
       "    <tr>\n",
       "      <th>1</th>\n",
       "      <td>dose_4</td>\n",
       "      <td>pr_auc_score</td>\n",
       "      <td>0.065978</td>\n",
       "      <td>CP_L1000</td>\n",
       "    </tr>\n",
       "    <tr>\n",
       "      <th>2</th>\n",
       "      <td>dose_3</td>\n",
       "      <td>pr_auc_score</td>\n",
       "      <td>0.058869</td>\n",
       "      <td>CP_L1000</td>\n",
       "    </tr>\n",
       "    <tr>\n",
       "      <th>3</th>\n",
       "      <td>dose_6</td>\n",
       "      <td>pr_auc_score</td>\n",
       "      <td>0.058427</td>\n",
       "      <td>CP_L1000</td>\n",
       "    </tr>\n",
       "    <tr>\n",
       "      <th>4</th>\n",
       "      <td>dose_2</td>\n",
       "      <td>pr_auc_score</td>\n",
       "      <td>0.047842</td>\n",
       "      <td>CP_L1000</td>\n",
       "    </tr>\n",
       "    <tr>\n",
       "      <th>5</th>\n",
       "      <td>dose_1</td>\n",
       "      <td>pr_auc_score</td>\n",
       "      <td>0.039944</td>\n",
       "      <td>CP_L1000</td>\n",
       "    </tr>\n",
       "  </tbody>\n",
       "</table>\n",
       "</div>"
      ],
      "text/plain": [
       "    class       metrics    values profile_tech\n",
       "0  dose_5  pr_auc_score  0.067012     CP_L1000\n",
       "1  dose_4  pr_auc_score  0.065978     CP_L1000\n",
       "2  dose_3  pr_auc_score  0.058869     CP_L1000\n",
       "3  dose_6  pr_auc_score  0.058427     CP_L1000\n",
       "4  dose_2  pr_auc_score  0.047842     CP_L1000\n",
       "5  dose_1  pr_auc_score  0.039944     CP_L1000"
      ]
     },
     "execution_count": 72,
     "metadata": {},
     "output_type": "execute_result"
    }
   ],
   "source": [
    "df_top_dose_pr_cp_L1"
   ]
  },
  {
   "cell_type": "code",
   "execution_count": 73,
   "metadata": {
    "executionInfo": {
     "elapsed": 355448,
     "status": "ok",
     "timestamp": 1619188131767,
     "user": {
      "displayName": "adeniyi adeboye",
      "photoUrl": "",
      "userId": "02625876087283522783"
     },
     "user_tz": 240
    },
    "id": "MzIAGFP_uIku"
   },
   "outputs": [],
   "source": [
    "df_best_doses = pd.concat([df_top_dose_pr_cp, df_top_dose_pr_cp_subsample, df_top_dose_pr_L1, df_top_dose_pr_cp_L1], ignore_index = True)"
   ]
  },
  {
   "cell_type": "code",
   "execution_count": 74,
   "metadata": {
    "executionInfo": {
     "elapsed": 355447,
     "status": "ok",
     "timestamp": 1619188131768,
     "user": {
      "displayName": "adeniyi adeboye",
      "photoUrl": "",
      "userId": "02625876087283522783"
     },
     "user_tz": 240
    },
    "id": "0WlijFC9uR1w"
   },
   "outputs": [],
   "source": [
    "df_dose_no_skill = pd.DataFrame(dose_no_skill_scrs.items(), columns = ['id_name', 'values'])"
   ]
  },
  {
   "cell_type": "code",
   "execution_count": 75,
   "metadata": {
    "executionInfo": {
     "elapsed": 355446,
     "status": "ok",
     "timestamp": 1619188131769,
     "user": {
      "displayName": "adeniyi adeboye",
      "photoUrl": "",
      "userId": "02625876087283522783"
     },
     "user_tz": 240
    },
    "id": "i5cs7nv6uRwn"
   },
   "outputs": [],
   "source": [
    "df_dose_no_skill['class'] = df_dose_no_skill['id_name'].apply(lambda x: x.split('_')[0] + '_' + x.split('_')[-1])\n",
    "df_dose_no_skill['profile_tech'] = 'No_skill'\n",
    "df_dose_no_skill['metrics'] = 'No_skill'"
   ]
  },
  {
   "cell_type": "code",
   "execution_count": 76,
   "metadata": {
    "executionInfo": {
     "elapsed": 355445,
     "status": "ok",
     "timestamp": 1619188131770,
     "user": {
      "displayName": "adeniyi adeboye",
      "photoUrl": "",
      "userId": "02625876087283522783"
     },
     "user_tz": 240
    },
    "id": "JQ9VPZrKvYIg"
   },
   "outputs": [],
   "source": [
    "df_dose_no_skill.drop(['id_name'], axis = 1, inplace = True)"
   ]
  },
  {
   "cell_type": "code",
   "execution_count": 77,
   "metadata": {
    "executionInfo": {
     "elapsed": 355444,
     "status": "ok",
     "timestamp": 1619188131771,
     "user": {
      "displayName": "adeniyi adeboye",
      "photoUrl": "",
      "userId": "02625876087283522783"
     },
     "user_tz": 240
    },
    "id": "eZGXDjTEvYF2"
   },
   "outputs": [],
   "source": [
    "df_best_doses = pd.concat([df_best_doses, df_dose_no_skill], ignore_index = True)"
   ]
  },
  {
   "cell_type": "code",
   "execution_count": 78,
   "metadata": {
    "executionInfo": {
     "elapsed": 355559,
     "status": "ok",
     "timestamp": 1619188131888,
     "user": {
      "displayName": "adeniyi adeboye",
      "photoUrl": "",
      "userId": "02625876087283522783"
     },
     "user_tz": 240
    },
    "id": "OenQFF3jvYCo"
   },
   "outputs": [],
   "source": [
    "df_best_doses['class'] = df_best_doses['class'].map({'dose_1': 0.04, 'dose_2': 0.12, 'dose_3':0.37, 'dose_4':1.11, 'dose_5':3.33, 'dose_6':10})\n",
    "df_best_doses['profile_tech'] = df_best_doses['profile_tech'].map({'cp': 'Cell painting', 'L1000': 'L1000', 'CP_L1000':'Cell Painting and L1000', 'No_skill':'Baseline'})"
   ]
  },
  {
   "cell_type": "code",
   "execution_count": 79,
   "metadata": {
    "executionInfo": {
     "elapsed": 355556,
     "status": "ok",
     "timestamp": 1619188131889,
     "user": {
      "displayName": "adeniyi adeboye",
      "photoUrl": "",
      "userId": "02625876087283522783"
     },
     "user_tz": 240
    },
    "id": "aEZrcX5TvX_6"
   },
   "outputs": [],
   "source": [
    "df_best_doses['values'] = df_best_doses['values'].apply(lambda x:x*100)"
   ]
  },
  {
   "cell_type": "code",
   "execution_count": 80,
   "metadata": {
    "executionInfo": {
     "elapsed": 355555,
     "status": "ok",
     "timestamp": 1619188131890,
     "user": {
      "displayName": "adeniyi adeboye",
      "photoUrl": "",
      "userId": "02625876087283522783"
     },
     "user_tz": 240
    },
    "id": "ny2Wze1JzlBq"
   },
   "outputs": [
    {
     "data": {
      "text/plain": [
       "0.4757879483154208"
      ]
     },
     "execution_count": 80,
     "metadata": {},
     "output_type": "execute_result"
    }
   ],
   "source": [
    "dose_baseline = np.mean(list(dose_no_skill_scrs.values()))*100\n",
    "dose_baseline"
   ]
  },
  {
   "cell_type": "code",
   "execution_count": 81,
   "metadata": {
    "colab": {
     "base_uri": "https://localhost:8080/",
     "height": 431
    },
    "executionInfo": {
     "elapsed": 356707,
     "status": "ok",
     "timestamp": 1619188133057,
     "user": {
      "displayName": "adeniyi adeboye",
      "photoUrl": "",
      "userId": "02625876087283522783"
     },
     "user_tz": 240
    },
    "id": "KDmI1fBvvX7I",
    "outputId": "be43ccc4-d05d-4e91-fc3c-a9b87987585b"
   },
   "outputs": [
    {
     "data": {
      "text/plain": [
       "Text(-0.42, 0.55, 'Baseline')"
      ]
     },
     "execution_count": 81,
     "metadata": {},
     "output_type": "execute_result"
    },
    {
     "data": {
      "image/png": "[encoded data removed]",
      "text/plain": [
       "<Figure size 1051.63x388.8 with 1 Axes>"
      ]
     },
     "metadata": {},
     "output_type": "display_data"
    }
   ],
   "source": [
    "##plot moa predictions PER dose treatment\n",
    "cat_plt = sns.catplot(x=\"class\", y=\"values\",\n",
    "                hue=\"profile_tech\", data=df_best_doses, kind=\"bar\", palette=\"gray_r\",\n",
    "                height=5.4, aspect=2.1)\n",
    "cat_plt._legend.set_title('')\n",
    "cat_plt.set_axis_labels(\"Dose\", \"PR-AUC score %\")\n",
    "cat_plt.fig.suptitle(\"PR-AUC scores for Dose classes\")\n",
    "cat_plt.fig.subplots_adjust(top=.93)\n",
    "plt.savefig(os.path.join(model_preds_figures, \"pr_auc_all_dose.png\"))\n",
    "plt.axhline(dose_baseline, ls='--', linewidth=3, color='red')\n",
    "plt.text(-0.42,0.55, \"Baseline\", color='red')"
   ]
  },
  {
   "cell_type": "markdown",
   "metadata": {
    "id": "YabHY45a1V5w"
   },
   "source": [
    "### - Test set MOA predictions"
   ]
  },
  {
   "cell_type": "code",
   "execution_count": 82,
   "metadata": {
    "executionInfo": {
     "elapsed": 356813,
     "status": "ok",
     "timestamp": 1619188133166,
     "user": {
      "displayName": "adeniyi adeboye",
      "photoUrl": "",
      "userId": "02625876087283522783"
     },
     "user_tz": 240
    },
    "id": "hbXrn0DdvX1D"
   },
   "outputs": [],
   "source": [
    "def evaluate_moa(actual, pred, moa):\n",
    "  \"\"\"Evaluate model predictions on an individual MOA basis using PR-AUC & ROC-AUC\"\"\"\n",
    "  metrics_dict={}\n",
    "  metrics_dict['roc_auc_score'] = roc_auc_score(actual.loc[:,moa], pred.loc[:,moa], average='macro')\n",
    "  metrics_dict['pr_auc_score'] = average_precision_score(actual.loc[:,moa], pred.loc[:,moa], average=\"micro\")\n",
    "  return metrics_dict"
   ]
  },
  {
   "cell_type": "code",
   "execution_count": 83,
   "metadata": {
    "executionInfo": {
     "elapsed": 401770,
     "status": "ok",
     "timestamp": 1619188178125,
     "user": {
      "displayName": "adeniyi adeboye",
      "photoUrl": "",
      "userId": "02625876087283522783"
     },
     "user_tz": 240
    },
    "id": "UHuiBSHCvXv-"
   },
   "outputs": [],
   "source": [
    "moa_results = {}\n",
    "for moa in val_moas:\n",
    "  for idx, (assay_name, actual_df) in enumerate(zip(assays, targets_dfs)):\n",
    "    for mdl, pred_df in zip(model_name, preds_all[idx]):\n",
    "      model_score = {}\n",
    "      score_name = moa + '_' +assay_name + mdl\n",
    "      moa_eval_dict = evaluate_moa(actual_df, pred_df, moa)\n",
    "      moa_results[score_name] = moa_eval_dict"
   ]
  },
  {
   "cell_type": "code",
   "execution_count": 84,
   "metadata": {
    "executionInfo": {
     "elapsed": 401771,
     "status": "ok",
     "timestamp": 1619188178128,
     "user": {
      "displayName": "adeniyi adeboye",
      "photoUrl": "",
      "userId": "02625876087283522783"
     },
     "user_tz": 240
    },
    "id": "m5gk0Je5vXs2"
   },
   "outputs": [],
   "source": [
    "df_moa_preds = pd.DataFrame([(k,k1,v1) for k,v in moa_results.items() for k1,v1 in v.items()], \n",
    "                              columns = ['id_name', 'metrics', 'values'])"
   ]
  },
  {
   "cell_type": "code",
   "execution_count": 85,
   "metadata": {
    "executionInfo": {
     "elapsed": 401770,
     "status": "ok",
     "timestamp": 1619188178128,
     "user": {
      "displayName": "adeniyi adeboye",
      "photoUrl": "",
      "userId": "02625876087283522783"
     },
     "user_tz": 240
    },
    "id": "pYAmoAUBvXqO"
   },
   "outputs": [],
   "source": [
    "df_moa_preds['moa'] = df_moa_preds['id_name'].apply(lambda x: x.split('_')[0])\n",
    "df_moa_preds['model'] = df_moa_preds['id_name'].apply(lambda x: x.split('_')[-1])\n",
    "df_moa_preds['profile_tech'] = df_moa_preds['id_name'].apply(lambda x: 'CP_L1000' if len(x.split('_')) == 4 else x.split('_')[1])"
   ]
  },
  {
   "cell_type": "code",
   "execution_count": 86,
   "metadata": {
    "colab": {
     "base_uri": "https://localhost:8080/"
    },
    "executionInfo": {
     "elapsed": 401759,
     "status": "ok",
     "timestamp": 1619188178129,
     "user": {
      "displayName": "adeniyi adeboye",
      "photoUrl": "",
      "userId": "02625876087283522783"
     },
     "user_tz": 240
    },
    "id": "Y_lM4cKb8UjY",
    "outputId": "d793422c-a87c-4d44-cb81-c7c7cd8d3a8b"
   },
   "outputs": [
    {
     "data": {
      "text/plain": [
       "array(['mlknn', 'resnet', 'cnn', 'tabnet', 'simplenn', 'mlknnshuf',\n",
       "       'resnetshuf', 'cnnshuf', 'tabnetshuf', 'simplennshuf', 'blend'],\n",
       "      dtype=object)"
      ]
     },
     "execution_count": 86,
     "metadata": {},
     "output_type": "execute_result"
    }
   ],
   "source": [
    "df_moa_preds['model'].unique()"
   ]
  },
  {
   "cell_type": "code",
   "execution_count": 87,
   "metadata": {
    "colab": {
     "base_uri": "https://localhost:8080/"
    },
    "executionInfo": {
     "elapsed": 401748,
     "status": "ok",
     "timestamp": 1619188178129,
     "user": {
      "displayName": "adeniyi adeboye",
      "photoUrl": "",
      "userId": "02625876087283522783"
     },
     "user_tz": 240
    },
    "id": "wu8uSOee9mjZ",
    "outputId": "c15a9252-646a-4ae1-e555-ab96695ec83b"
   },
   "outputs": [
    {
     "data": {
      "text/plain": [
       "['mlknn', 'resnet', 'cnn', 'tabnet', 'simplenn', 'blend']"
      ]
     },
     "execution_count": 87,
     "metadata": {},
     "output_type": "execute_result"
    }
   ],
   "source": [
    "normal_models"
   ]
  },
  {
   "cell_type": "code",
   "execution_count": 88,
   "metadata": {
    "colab": {
     "base_uri": "https://localhost:8080/"
    },
    "executionInfo": {
     "elapsed": 401738,
     "status": "ok",
     "timestamp": 1619188178130,
     "user": {
      "displayName": "adeniyi adeboye",
      "photoUrl": "",
      "userId": "02625876087283522783"
     },
     "user_tz": 240
    },
    "id": "yOy7GR229rFn",
    "outputId": "d56097d3-ca2b-4293-b4e5-40f7f9e686f3"
   },
   "outputs": [
    {
     "data": {
      "text/plain": [
       "['mlknnshuf', 'resnetshuf', 'cnnshuf', 'tabnetshuf', 'simplennshuf']"
      ]
     },
     "execution_count": 88,
     "metadata": {},
     "output_type": "execute_result"
    }
   ],
   "source": [
    "shuffle_models"
   ]
  },
  {
   "cell_type": "code",
   "execution_count": 89,
   "metadata": {
    "executionInfo": {
     "elapsed": 401736,
     "status": "ok",
     "timestamp": 1619188178130,
     "user": {
      "displayName": "adeniyi adeboye",
      "photoUrl": "",
      "userId": "02625876087283522783"
     },
     "user_tz": 240
    },
    "id": "pshNsRBn8Uhk"
   },
   "outputs": [],
   "source": [
    "df_moa_preds_normal = df_moa_preds[df_moa_preds['model'].isin(normal_models)].reset_index(drop=True)\n",
    "df_moa_preds_shuffle = df_moa_preds[df_moa_preds['model'].isin(shuffle_models)].reset_index(drop=True)"
   ]
  },
  {
   "cell_type": "code",
   "execution_count": 90,
   "metadata": {
    "executionInfo": {
     "elapsed": 401735,
     "status": "ok",
     "timestamp": 1619188178131,
     "user": {
      "displayName": "adeniyi adeboye",
      "photoUrl": "",
      "userId": "02625876087283522783"
     },
     "user_tz": 240
    },
    "id": "5W9oPbAE8UeG"
   },
   "outputs": [],
   "source": [
    "def get_profile_tech_preds(df):\n",
    "    \"\"\"Get dataframes for each profiling assays\"\"\"\n",
    "    df_cp = df[df['profile_tech'] == 'CP'].reset_index(drop=True)\n",
    "    df_cp_subsample = df[df['profile_tech'] == 'CPsubsample'].reset_index(drop=True)\n",
    "    df_L1 = df[df['profile_tech'] == 'L1000'].reset_index(drop=True)\n",
    "    df_cp_L1 = df[df['profile_tech'] == 'CP_L1000'].reset_index(drop=True)\n",
    "    return df_cp,df_cp_subsample,df_L1,df_cp_L1"
   ]
  },
  {
   "cell_type": "code",
   "execution_count": 91,
   "metadata": {
    "executionInfo": {
     "elapsed": 401851,
     "status": "ok",
     "timestamp": 1619188178249,
     "user": {
      "displayName": "adeniyi adeboye",
      "photoUrl": "",
      "userId": "02625876087283522783"
     },
     "user_tz": 240
    },
    "id": "3mv-_Kk18UcP"
   },
   "outputs": [],
   "source": [
    "df_moa_cp_preds, df_moa_cp_preds_subsample, df_moa_L1_preds, df_moa_cp_L1_preds = get_profile_tech_preds(df_moa_preds_normal)\n",
    "df_moa_cp_shuf, df_moa_cp_shuf_subsample, df_moa_L1_shuf, df_moa_cp_L1_shuf = get_profile_tech_preds(df_moa_preds_shuffle)"
   ]
  },
  {
   "cell_type": "code",
   "execution_count": 92,
   "metadata": {
    "executionInfo": {
     "elapsed": 401849,
     "status": "ok",
     "timestamp": 1619188178249,
     "user": {
      "displayName": "adeniyi adeboye",
      "photoUrl": "",
      "userId": "02625876087283522783"
     },
     "user_tz": 240
    },
    "id": "Bgtaqu7AA01g"
   },
   "outputs": [],
   "source": [
    "def get_metric_preds(df_cp,df_cp_subsample,df_L1,df_cp_L1):\n",
    "    \"\"\"Get PR-AUC scores for each profiling assays\"\"\"\n",
    "    df_pr_cp = df_cp[df_cp['metrics'] == 'pr_auc_score'].copy()\n",
    "    df_pr_cp_subsample = df_cp_subsample[df_cp_subsample['metrics'] == 'pr_auc_score'].copy()\n",
    "    df_pr_L1 = df_L1[df_L1['metrics'] == 'pr_auc_score'].copy()\n",
    "    df_pr_cp_L1 = df_cp_L1[df_cp_L1['metrics'] == 'pr_auc_score'].copy()\n",
    "    return df_pr_cp,df_pr_cp_subsample,df_pr_L1,df_pr_cp_L1"
   ]
  },
  {
   "cell_type": "code",
   "execution_count": 93,
   "metadata": {
    "executionInfo": {
     "elapsed": 401848,
     "status": "ok",
     "timestamp": 1619188178250,
     "user": {
      "displayName": "adeniyi adeboye",
      "photoUrl": "",
      "userId": "02625876087283522783"
     },
     "user_tz": 240
    },
    "id": "xm1JcsrDA0xh"
   },
   "outputs": [],
   "source": [
    "df_pr_cp_preds, df_pr_cp_preds_subsample, df_pr_L1_preds, df_pr_cp_L1_preds = get_metric_preds(df_moa_cp_preds, df_moa_cp_preds_subsample, df_moa_L1_preds, df_moa_cp_L1_preds)\n",
    "df_pr_cp_shuf, df_pr_cp_shuf_subsample, df_pr_L1_shuf, df_pr_cp_L1_shuf = get_metric_preds(df_moa_cp_shuf, df_moa_cp_shuf_subsample, df_moa_L1_shuf, df_moa_cp_L1_shuf)"
   ]
  },
  {
   "cell_type": "code",
   "execution_count": 94,
   "metadata": {
    "executionInfo": {
     "elapsed": 401846,
     "status": "ok",
     "timestamp": 1619188178250,
     "user": {
      "displayName": "adeniyi adeboye",
      "photoUrl": "",
      "userId": "02625876087283522783"
     },
     "user_tz": 240
    },
    "id": "nxxZZdtIA0uu"
   },
   "outputs": [],
   "source": [
    "def top_moa_auc(df):\n",
    "    \"\"\"Choose the best model predictive scores among all model predictions for each MOA\"\"\"\n",
    "    df_max_moa = df.groupby(['moa']).agg(['max'])\n",
    "    df_max_moa.columns = df_max_moa.columns.droplevel(1)\n",
    "    df_max_moa.rename_axis(None, axis=0, inplace = True)\n",
    "    df_max_moa = df_max_moa.reset_index().rename(columns={\"index\": \"moa\"})\n",
    "    df_moa_top_auc = df_max_moa.sort_values(by='values', ascending = False)\n",
    "    df_moa_top_auc.reset_index(drop=True, inplace = True)\n",
    "    df_moa_top_auc.drop(['id_name', 'model'], axis = 1, inplace = True)\n",
    "    return df_moa_top_auc"
   ]
  },
  {
   "cell_type": "code",
   "execution_count": 95,
   "metadata": {
    "executionInfo": {
     "elapsed": 402477,
     "status": "ok",
     "timestamp": 1619188178883,
     "user": {
      "displayName": "adeniyi adeboye",
      "photoUrl": "",
      "userId": "02625876087283522783"
     },
     "user_tz": 240
    },
    "id": "m5lnCI1wA0ro"
   },
   "outputs": [],
   "source": [
    "df_top_moa_pr_cp = top_moa_auc(df_pr_cp_preds)\n",
    "df_top_moa_pr_cp_subsample = top_moa_auc(df_pr_cp_preds_subsample)\n",
    "df_top_moa_pr_L1 = top_moa_auc(df_pr_L1_preds)\n",
    "df_top_moa_pr_cp_L1 = top_moa_auc(df_pr_cp_L1_preds)"
   ]
  },
  {
   "cell_type": "code",
   "execution_count": 96,
   "metadata": {
    "executionInfo": {
     "elapsed": 402955,
     "status": "ok",
     "timestamp": 1619188179363,
     "user": {
      "displayName": "adeniyi adeboye",
      "photoUrl": "",
      "userId": "02625876087283522783"
     },
     "user_tz": 240
    },
    "id": "JcHRmFnTA0ol"
   },
   "outputs": [],
   "source": [
    "df_shuf_moa_pr_cp = top_moa_auc(df_pr_cp_shuf)\n",
    "df_shuf_moa_pr_cp_subsample = top_moa_auc(df_pr_cp_shuf_subsample)\n",
    "df_shuf_moa_pr_L1 = top_moa_auc(df_pr_L1_shuf)\n",
    "df_shuf_moa_pr_cp_L1 = top_moa_auc(df_pr_cp_L1_shuf)"
   ]
  },
  {
   "cell_type": "code",
   "execution_count": 97,
   "metadata": {
    "executionInfo": {
     "elapsed": 402962,
     "status": "ok",
     "timestamp": 1619188179372,
     "user": {
      "displayName": "adeniyi adeboye",
      "photoUrl": "",
      "userId": "02625876087283522783"
     },
     "user_tz": 240
    },
    "id": "--_nmFZ-A0lU"
   },
   "outputs": [],
   "source": [
    "moa_cp_baseline = np.mean(df_shuf_moa_pr_cp['values'])\n",
    "moa_cp_baseline_subsample = np.mean(df_shuf_moa_pr_cp_subsample['values'])\n",
    "moa_L1_baseline = np.mean(df_shuf_moa_pr_L1['values'])\n",
    "moa_cp_L1_baseline = np.mean(df_shuf_moa_pr_cp_L1['values'])"
   ]
  },
  {
   "cell_type": "code",
   "execution_count": 98,
   "metadata": {},
   "outputs": [
    {
     "name": "stdout",
     "output_type": "stream",
     "text": [
      "0.01182180574619233\n",
      "0.011711067973361534\n",
      "0.012028966551180523\n",
      "0.012859905651155284\n"
     ]
    }
   ],
   "source": [
    "print(moa_cp_baseline)\n",
    "print(moa_cp_baseline_subsample)\n",
    "print(moa_L1_baseline)\n",
    "print(moa_cp_L1_baseline)"
   ]
  },
  {
   "cell_type": "code",
   "execution_count": 99,
   "metadata": {
    "executionInfo": {
     "elapsed": 402961,
     "status": "ok",
     "timestamp": 1619188179373,
     "user": {
      "displayName": "adeniyi adeboye",
      "photoUrl": "",
      "userId": "02625876087283522783"
     },
     "user_tz": 240
    },
    "id": "4GLozUug8USB"
   },
   "outputs": [],
   "source": [
    "df_moa_pr_cp = df_top_moa_pr_cp[['moa', 'values']].copy()\n",
    "df_moa_pr_cp_subsample = df_top_moa_pr_cp_subsample[['moa', 'values']].copy()\n",
    "df_moa_pr_L1 = df_top_moa_pr_L1[['moa', 'values']].copy()\n",
    "df_moa_pr_cp_L1 = df_top_moa_pr_cp_L1[['moa', 'values']].copy()"
   ]
  },
  {
   "cell_type": "code",
   "execution_count": 100,
   "metadata": {
    "executionInfo": {
     "elapsed": 402962,
     "status": "ok",
     "timestamp": 1619188179375,
     "user": {
      "displayName": "adeniyi adeboye",
      "photoUrl": "",
      "userId": "02625876087283522783"
     },
     "user_tz": 240
    },
    "id": "Bk5sRuV_uRtJ"
   },
   "outputs": [],
   "source": [
    "df_moa_pr_cp.rename(columns={\"values\": \"cp_values\"}, inplace = True)\n",
    "df_moa_pr_cp_subsample.rename(columns={\"values\": \"cp_values_subsample\"}, inplace = True)\n",
    "df_moa_pr_L1.rename(columns={\"values\": \"L1_values\"}, inplace = True)\n",
    "df_moa_pr_cp_L1.rename(columns={\"values\": \"cp_L1_values\"}, inplace = True)"
   ]
  },
  {
   "cell_type": "code",
   "execution_count": 101,
   "metadata": {
    "executionInfo": {
     "elapsed": 402961,
     "status": "ok",
     "timestamp": 1619188179377,
     "user": {
      "displayName": "adeniyi adeboye",
      "photoUrl": "",
      "userId": "02625876087283522783"
     },
     "user_tz": 240
    },
    "id": "ZVPcPIhzFkZG"
   },
   "outputs": [],
   "source": [
    "df_moa_prs = pd.merge(df_moa_pr_cp, df_moa_pr_L1, on='moa')\n",
    "df_moa_prs = pd.merge(df_moa_prs, df_moa_pr_cp_subsample, on = 'moa')\n",
    "df_moa_prs = pd.merge(df_moa_prs, df_moa_pr_cp_L1, on = 'moa')"
   ]
  },
  {
   "cell_type": "code",
   "execution_count": 102,
   "metadata": {
    "colab": {
     "base_uri": "https://localhost:8080/",
     "height": 343
    },
    "executionInfo": {
     "elapsed": 402948,
     "status": "ok",
     "timestamp": 1619188179378,
     "user": {
      "displayName": "adeniyi adeboye",
      "photoUrl": "",
      "userId": "02625876087283522783"
     },
     "user_tz": 240
    },
    "id": "Yy-H--5wFkWU",
    "outputId": "12ce8785-2fc7-4aef-d0aa-9d049d226698"
   },
   "outputs": [
    {
     "data": {
      "text/html": [
       "<div>\n",
       "<style scoped>\n",
       "    .dataframe tbody tr th:only-of-type {\n",
       "        vertical-align: middle;\n",
       "    }\n",
       "\n",
       "    .dataframe tbody tr th {\n",
       "        vertical-align: top;\n",
       "    }\n",
       "\n",
       "    .dataframe thead th {\n",
       "        text-align: right;\n",
       "    }\n",
       "</style>\n",
       "<table border=\"1\" class=\"dataframe\">\n",
       "  <thead>\n",
       "    <tr style=\"text-align: right;\">\n",
       "      <th></th>\n",
       "      <th>moa</th>\n",
       "      <th>cp_values</th>\n",
       "      <th>L1_values</th>\n",
       "      <th>cp_values_subsample</th>\n",
       "      <th>cp_L1_values</th>\n",
       "    </tr>\n",
       "  </thead>\n",
       "  <tbody>\n",
       "    <tr>\n",
       "      <th>0</th>\n",
       "      <td>plk inhibitor</td>\n",
       "      <td>0.989187</td>\n",
       "      <td>0.144302</td>\n",
       "      <td>0.794240</td>\n",
       "      <td>0.891931</td>\n",
       "    </tr>\n",
       "    <tr>\n",
       "      <th>1</th>\n",
       "      <td>mek inhibitor</td>\n",
       "      <td>0.967434</td>\n",
       "      <td>0.898343</td>\n",
       "      <td>0.783997</td>\n",
       "      <td>0.935784</td>\n",
       "    </tr>\n",
       "    <tr>\n",
       "      <th>2</th>\n",
       "      <td>xiap inhibitor</td>\n",
       "      <td>0.917056</td>\n",
       "      <td>0.969929</td>\n",
       "      <td>0.881908</td>\n",
       "      <td>0.899030</td>\n",
       "    </tr>\n",
       "    <tr>\n",
       "      <th>3</th>\n",
       "      <td>retinoid receptor agonist</td>\n",
       "      <td>0.859498</td>\n",
       "      <td>0.570326</td>\n",
       "      <td>0.146958</td>\n",
       "      <td>0.660008</td>\n",
       "    </tr>\n",
       "    <tr>\n",
       "      <th>4</th>\n",
       "      <td>inositol monophosphatase inhibitor</td>\n",
       "      <td>0.859008</td>\n",
       "      <td>0.487765</td>\n",
       "      <td>0.783658</td>\n",
       "      <td>0.779415</td>\n",
       "    </tr>\n",
       "    <tr>\n",
       "      <th>5</th>\n",
       "      <td>dehydrogenase inhibitor</td>\n",
       "      <td>0.841843</td>\n",
       "      <td>0.442702</td>\n",
       "      <td>0.771106</td>\n",
       "      <td>0.758003</td>\n",
       "    </tr>\n",
       "    <tr>\n",
       "      <th>6</th>\n",
       "      <td>mtor inhibitor</td>\n",
       "      <td>0.818117</td>\n",
       "      <td>0.868601</td>\n",
       "      <td>0.779390</td>\n",
       "      <td>0.833818</td>\n",
       "    </tr>\n",
       "    <tr>\n",
       "      <th>7</th>\n",
       "      <td>glucocorticoid receptor agonist</td>\n",
       "      <td>0.739410</td>\n",
       "      <td>0.810159</td>\n",
       "      <td>0.738911</td>\n",
       "      <td>0.799534</td>\n",
       "    </tr>\n",
       "    <tr>\n",
       "      <th>8</th>\n",
       "      <td>mdm inhibitor</td>\n",
       "      <td>0.685120</td>\n",
       "      <td>0.497588</td>\n",
       "      <td>0.298265</td>\n",
       "      <td>0.575198</td>\n",
       "    </tr>\n",
       "    <tr>\n",
       "      <th>9</th>\n",
       "      <td>hsp inhibitor</td>\n",
       "      <td>0.679476</td>\n",
       "      <td>0.924908</td>\n",
       "      <td>0.299258</td>\n",
       "      <td>0.991358</td>\n",
       "    </tr>\n",
       "  </tbody>\n",
       "</table>\n",
       "</div>"
      ],
      "text/plain": [
       "                                  moa  cp_values  L1_values  \\\n",
       "0                       plk inhibitor   0.989187   0.144302   \n",
       "1                       mek inhibitor   0.967434   0.898343   \n",
       "2                      xiap inhibitor   0.917056   0.969929   \n",
       "3           retinoid receptor agonist   0.859498   0.570326   \n",
       "4  inositol monophosphatase inhibitor   0.859008   0.487765   \n",
       "5             dehydrogenase inhibitor   0.841843   0.442702   \n",
       "6                      mtor inhibitor   0.818117   0.868601   \n",
       "7     glucocorticoid receptor agonist   0.739410   0.810159   \n",
       "8                       mdm inhibitor   0.685120   0.497588   \n",
       "9                       hsp inhibitor   0.679476   0.924908   \n",
       "\n",
       "   cp_values_subsample  cp_L1_values  \n",
       "0             0.794240      0.891931  \n",
       "1             0.783997      0.935784  \n",
       "2             0.881908      0.899030  \n",
       "3             0.146958      0.660008  \n",
       "4             0.783658      0.779415  \n",
       "5             0.771106      0.758003  \n",
       "6             0.779390      0.833818  \n",
       "7             0.738911      0.799534  \n",
       "8             0.298265      0.575198  \n",
       "9             0.299258      0.991358  "
      ]
     },
     "execution_count": 102,
     "metadata": {},
     "output_type": "execute_result"
    }
   ],
   "source": [
    "df_moa_prs.head(10)"
   ]
  },
  {
   "cell_type": "code",
   "execution_count": 103,
   "metadata": {},
   "outputs": [],
   "source": [
    "# Output individual MOA Precision Recall\n",
    "output_file = pathlib.Path(\"performance_results/moa_precision_recall.csv\")\n",
    "df_moa_prs.to_csv(output_file, index=False)"
   ]
  },
  {
   "cell_type": "markdown",
   "metadata": {
    "id": "sNjE-mSoNPlt"
   },
   "source": [
    "### - Plot Individual MOA predictions\n",
    "\n",
    "##### - Note: The red horizontal and vertical lines are PR-AUC baseline score based on getting the average shuffle moa predictions across all MOAs for each profiling assays i.e. Cell Painting (CP), L1000, & Integrated CP & L1000"
   ]
  },
  {
   "cell_type": "code",
   "execution_count": 104,
   "metadata": {
    "executionInfo": {
     "elapsed": 403061,
     "status": "ok",
     "timestamp": 1619188179495,
     "user": {
      "displayName": "adeniyi adeboye",
      "photoUrl": "",
      "userId": "02625876087283522783"
     },
     "user_tz": 240
    },
    "id": "gxmJGfqEUCu0"
   },
   "outputs": [],
   "source": [
    "def plot_moa_predictions(df, file_name, col_x, col_y, x_label, y_label, title_label, baseline_x, baseline_y, path=model_preds_figures):\n",
    "  \"\"\"Plot MOA PR-AUC scores for profiling assays\"\"\"\n",
    "  if not os.path.exists(path):\n",
    "    os.mkdir(path)\n",
    "  value=((df[col_y] > 0.2) | (df[col_x] > 0.2))\n",
    "  df['color']= np.where(value==True, \"purple\", \"skyblue\")\n",
    "  plt.figure(figsize=(18,10))\n",
    "  reg_plt=sns.regplot(data=df, x=col_x, y=col_y, fit_reg=False, marker=\"o\", color=\"skyblue\", scatter_kws={'facecolors':df['color'], 's':100})\n",
    "  reg_plt.set_title(f\"{title_label}, annotating MOAs above 0.2 PR-AUC scores\")\n",
    "  reg_plt.set(xlabel=x_label, ylabel=y_label)\n",
    "  plt.axhline(baseline_y, ls='--', linewidth=3, color='red', alpha=0.5)\n",
    "  plt.axvline(baseline_x, ls='--', linewidth=3, color='red', alpha=0.5)\n",
    "  ##add annotations one by one with a loop\n",
    "  text = [reg_plt.text(df[col_x][line], df[col_y][line], df.moa[line],\n",
    "                       fontdict=dict(color= 'black',size=11.5),) for line in range(df.shape[0]) \n",
    "                       if (((df[col_x][line] > 0.2) | (df[col_y][line] > 0.2)))]\n",
    "  adjust_text(text, arrowprops=dict(arrowstyle=\"-\", color='k', lw=0.5))\n",
    "  plt.savefig(os.path.join(path, file_name))\n",
    "  plt.show()"
   ]
  },
  {
   "cell_type": "code",
   "execution_count": 105,
   "metadata": {
    "colab": {
     "base_uri": "https://localhost:8080/",
     "height": 647
    },
    "executionInfo": {
     "elapsed": 417398,
     "status": "ok",
     "timestamp": 1619188193843,
     "user": {
      "displayName": "adeniyi adeboye",
      "photoUrl": "",
      "userId": "02625876087283522783"
     },
     "user_tz": 240
    },
    "id": "BzHZxCXZXOCi",
    "outputId": "33649bd6-2140-4580-d081-525cc3a98114"
   },
   "outputs": [
    {
     "data": {
      "image/png": "[encoded data removed]",
      "text/plain": [
       "<Figure size 1296x720 with 1 Axes>"
      ]
     },
     "metadata": {},
     "output_type": "display_data"
    }
   ],
   "source": [
    "plot_moa_predictions(df_moa_prs, 'pr_auc_moas_cp_and_L1000_vs_L1000.png', 'L1_values', 'cp_L1_values', \"L1000 PR-AUC scores\", \"CP & L1000 PR-AUC scores\", \n",
    "                     \"PR-AUC scores for MOAs in L1000 & Integrated CP & L1000\", moa_L1_baseline, moa_cp_L1_baseline)"
   ]
  },
  {
   "cell_type": "code",
   "execution_count": 106,
   "metadata": {
    "colab": {
     "base_uri": "https://localhost:8080/",
     "height": 647
    },
    "executionInfo": {
     "elapsed": 431419,
     "status": "ok",
     "timestamp": 1619188207882,
     "user": {
      "displayName": "adeniyi adeboye",
      "photoUrl": "",
      "userId": "02625876087283522783"
     },
     "user_tz": 240
    },
    "id": "xTVdeWDZWXHf",
    "outputId": "8bf0c66a-6f57-41fa-da8c-baa1a5cb9def"
   },
   "outputs": [
    {
     "data": {
      "image/png": "[encoded data removed]",
      "text/plain": [
       "<Figure size 1296x720 with 1 Axes>"
      ]
     },
     "metadata": {},
     "output_type": "display_data"
    }
   ],
   "source": [
    "plot_moa_predictions(df_moa_prs, 'pr_auc_moas_cp_and_L1000_vs_cp.png', 'cp_values', 'cp_L1_values', \"CP PR-AUC scores\", \"CP & L1000 PR-AUC scores\", \n",
    "                     \"PR-AUC scores for MOAs in CP & Integrated CP & L1000\", moa_cp_baseline, moa_cp_L1_baseline)"
   ]
  },
  {
   "cell_type": "code",
   "execution_count": 107,
   "metadata": {
    "colab": {
     "base_uri": "https://localhost:8080/",
     "height": 647
    },
    "executionInfo": {
     "elapsed": 434714,
     "status": "ok",
     "timestamp": 1619188211191,
     "user": {
      "displayName": "adeniyi adeboye",
      "photoUrl": "",
      "userId": "02625876087283522783"
     },
     "user_tz": 240
    },
    "id": "4uMpXFAJXnkT",
    "outputId": "13897ea1-ec0b-4d5a-dea2-52d5eda8843c"
   },
   "outputs": [
    {
     "data": {
      "image/png": "[encoded data removed]",
      "text/plain": [
       "<Figure size 1296x720 with 1 Axes>"
      ]
     },
     "metadata": {},
     "output_type": "display_data"
    }
   ],
   "source": [
    "plot_moa_predictions(df_moa_prs, 'pr_auc_moas_cp_vs_L1000.png', 'cp_values', 'L1_values', \"CP PR-AUC scores\", \"L1000 PR-AUC scores\", \n",
    "                     \"PR-AUC scores for MOAs in CP & L1000\", moa_cp_baseline, moa_L1_baseline)"
   ]
  }
 ],
 "metadata": {
  "colab": {
   "authorship_tag": "ABX9TyNRYIivq12bDdWFkeYHp6OS",
   "name": "moa_predictions_visualization.ipynb",
   "provenance": []
  },
  "kernelspec": {
   "display_name": "Python [conda env:lincs-complimentarity]",
   "language": "python",
   "name": "conda-env-lincs-complimentarity-py"
  },
  "language_info": {
   "codemirror_mode": {
    "name": "ipython",
    "version": 3
   },
   "file_extension": ".py",
   "mimetype": "text/x-python",
   "name": "python",
   "nbconvert_exporter": "python",
   "pygments_lexer": "ipython3",
   "version": "3.9.10"
  }
 },
 "nbformat": 4,
 "nbformat_minor": 4
}
