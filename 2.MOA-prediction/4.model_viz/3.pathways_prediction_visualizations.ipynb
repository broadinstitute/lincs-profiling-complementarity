{
 "cells": [
  {
   "cell_type": "code",
   "execution_count": 1,
   "metadata": {
    "executionInfo": {
     "elapsed": 672,
     "status": "ok",
     "timestamp": 1648696875360,
     "user": {
      "displayName": "adeniyi adeboye",
      "userId": "02625876087283522783"
     },
     "user_tz": 240
    },
    "id": "kS8q97xC1Rq9"
   },
   "outputs": [],
   "source": [
    "import os\n",
    "import pathlib\n",
    "import pandas as pd\n",
    "import numpy as np\n",
    "from collections import defaultdict\n",
    "import matplotlib.pyplot as plt\n",
    "%matplotlib inline\n",
    "import seaborn as sns\n",
    "from statistics import median\n",
    "import random\n",
    "sns.set_context(\"talk\")\n",
    "sns.set_style(\"darkgrid\")\n",
    "from collections import Counter"
   ]
  },
  {
   "cell_type": "code",
   "execution_count": 2,
   "metadata": {
    "executionInfo": {
     "elapsed": 281,
     "status": "ok",
     "timestamp": 1648696875634,
     "user": {
      "displayName": "adeniyi adeboye",
      "userId": "02625876087283522783"
     },
     "user_tz": 240
    },
    "id": "az-5TfFK1RmO"
   },
   "outputs": [],
   "source": [
    "from sklearn.metrics import roc_auc_score\n",
    "from sklearn.metrics import precision_recall_curve,average_precision_score\n",
    "from sklearn.metrics import log_loss, roc_curve\n",
    "from sklearn.metrics import auc"
   ]
  },
  {
   "cell_type": "code",
   "execution_count": 3,
   "metadata": {
    "executionInfo": {
     "elapsed": 45,
     "status": "ok",
     "timestamp": 1648696881174,
     "user": {
      "displayName": "adeniyi adeboye",
      "userId": "02625876087283522783"
     },
     "user_tz": 240
    },
    "id": "6f66d8Q-1hne"
   },
   "outputs": [],
   "source": [
    "from adjustText import adjust_text"
   ]
  },
  {
   "cell_type": "code",
   "execution_count": 4,
   "metadata": {},
   "outputs": [],
   "source": [
    "drop_bortezomib_from_test = True"
   ]
  },
  {
   "cell_type": "code",
   "execution_count": 5,
   "metadata": {
    "executionInfo": {
     "elapsed": 32,
     "status": "ok",
     "timestamp": 1648696881176,
     "user": {
      "displayName": "adeniyi adeboye",
      "userId": "02625876087283522783"
     },
     "user_tz": 240
    },
    "id": "NQ_MRMSj15Fp"
   },
   "outputs": [],
   "source": [
    "base_dir = pathlib.Path(\"../2.data_split/model_data/\")\n",
    "cp_data_dir = pathlib.Path(f\"{base_dir}/cp/\")\n",
    "l1000_data_dir = pathlib.Path(f\"{base_dir}/L1/\")"
   ]
  },
  {
   "cell_type": "code",
   "execution_count": 6,
   "metadata": {
    "executionInfo": {
     "elapsed": 31,
     "status": "ok",
     "timestamp": 1648696881177,
     "user": {
      "displayName": "adeniyi adeboye",
      "userId": "02625876087283522783"
     },
     "user_tz": 240
    },
    "id": "HQiOsHIk15Bl"
   },
   "outputs": [],
   "source": [
    "cp_test = f\"{cp_data_dir}/test_lvl4_data_targets_pathways.csv.gz\"\n",
    "L1000_test = f\"{l1000_data_dir}/test_lvl4_data_targets_pathways.csv.gz\""
   ]
  },
  {
   "cell_type": "code",
   "execution_count": 7,
   "metadata": {
    "executionInfo": {
     "elapsed": 30,
     "status": "ok",
     "timestamp": 1648696881177,
     "user": {
      "displayName": "adeniyi adeboye",
      "userId": "02625876087283522783"
     },
     "user_tz": 240
    },
    "id": "q0ZJqKYc149_"
   },
   "outputs": [],
   "source": [
    "model_preds_dir = pathlib.Path(\"../L1000_CP_model_predictions/\")\n",
    "model_preds_figures = pathlib.Path(\"moa_predictions_figures\")"
   ]
  },
  {
   "cell_type": "code",
   "execution_count": 8,
   "metadata": {
    "executionInfo": {
     "elapsed": 30937,
     "status": "ok",
     "timestamp": 1648696912086,
     "user": {
      "displayName": "adeniyi adeboye",
      "userId": "02625876087283522783"
     },
     "user_tz": 240
    },
    "id": "PS6jxGXU22K_"
   },
   "outputs": [
    {
     "name": "stdout",
     "output_type": "stream",
     "text": [
      "dropping bortezomib from all test sets!\n"
     ]
    }
   ],
   "source": [
    "df_cp_test = pd.read_csv(cp_test, compression='gzip',low_memory = False)\n",
    "df_L1000_test = pd.read_csv(L1000_test, compression='gzip',low_memory = False)\n",
    "# df_cp_L1000_test = pd.read_csv(cp_L1000_test, compression='gzip',low_memory = False)\n",
    "\n",
    "# Drop Bortezomib from test sets\n",
    "if drop_bortezomib_from_test:\n",
    "    print(\"dropping bortezomib from all test sets!\")\n",
    "    df_cp_test = df_cp_test.loc[df_cp_test.pert_iname != 'bortezomib', :]\n",
    "    df_L1000_test = df_L1000_test.loc[df_L1000_test.pert_iname != 'bortezomib', :]\n",
    "    #df_cp_L1000_test = df_cp_L1000_test.loc[df_cp_L1000_test.pert_iname != 'bortezomib', :]"
   ]
  },
  {
   "cell_type": "code",
   "execution_count": 9,
   "metadata": {
    "executionInfo": {
     "elapsed": 7369,
     "status": "ok",
     "timestamp": 1648696919421,
     "user": {
      "displayName": "adeniyi adeboye",
      "userId": "02625876087283522783"
     },
     "user_tz": 240
    },
    "id": "rYZYricW22HM"
   },
   "outputs": [],
   "source": [
    "##mlknn\n",
    "df_cp_mlknn_test = pd.read_csv(os.path.join(model_preds_dir, 'cp_test_pathway_preds_mlknn.csv'))\n",
    "df_L1000_mlknn_test = pd.read_csv(os.path.join(model_preds_dir, 'L1000_test_pathway_preds_mlknn.csv'))\n",
    "# df_cp_L1000_mlknn_test = pd.read_csv(os.path.join(model_preds_dir, 'cp_L1000_test_pathway_preds_mlknn.csv'))\n",
    "\n",
    "# Drop bortezomib from evaluation\n",
    "if drop_bortezomib_from_test:\n",
    "    df_cp_mlknn_test = df_cp_mlknn_test.iloc[df_cp_test.index, :]\n",
    "    df_L1000_mlknn_test = df_L1000_mlknn_test.iloc[df_L1000_test.index, :]\n",
    "    # df_cp_L1000_mlknn_test = df_cp_L1000_mlknn_test.iloc[df_cp_L1000_test.index, :]"
   ]
  },
  {
   "cell_type": "code",
   "execution_count": 10,
   "metadata": {
    "executionInfo": {
     "elapsed": 5473,
     "status": "ok",
     "timestamp": 1648696924867,
     "user": {
      "displayName": "adeniyi adeboye",
      "userId": "02625876087283522783"
     },
     "user_tz": 240
    },
    "id": "-YjZ4vax22DW"
   },
   "outputs": [],
   "source": [
    "##resnet\n",
    "df_cp_resnet_test = pd.read_csv(os.path.join(model_preds_dir, 'cp_test_pathway_preds_resnet.csv'))\n",
    "df_L1000_resnet_test = pd.read_csv(os.path.join(model_preds_dir, 'L1000_test_pathway_preds_resnet.csv'))\n",
    "# df_cp_L1000_resnet_test = pd.read_csv(os.path.join(model_preds_dir, 'cp_L1000_test_preds_resnet.csv'))\n",
    "\n",
    "# Drop bortezomib from evaluation\n",
    "if drop_bortezomib_from_test:\n",
    "    df_cp_resnet_test = df_cp_resnet_test.iloc[df_cp_test.index, :]\n",
    "    df_L1000_resnet_test = df_L1000_resnet_test.iloc[df_L1000_test.index, :]\n",
    "    # df_cp_L1000_resnet_test = df_cp_L1000_resnet_test.iloc[df_cp_L1000_test.index, :]"
   ]
  },
  {
   "cell_type": "code",
   "execution_count": 11,
   "metadata": {
    "executionInfo": {
     "elapsed": 6319,
     "status": "ok",
     "timestamp": 1648696931157,
     "user": {
      "displayName": "adeniyi adeboye",
      "userId": "02625876087283522783"
     },
     "user_tz": 240
    },
    "id": "DxQU1iD721_l"
   },
   "outputs": [],
   "source": [
    "##1-d cnn\n",
    "df_cp_cnn_test = pd.read_csv(os.path.join(model_preds_dir, 'cp_test_pathway_preds_1dcnn.csv'))\n",
    "df_L1000_cnn_test = pd.read_csv(os.path.join(model_preds_dir, 'L1000_test_pathway_preds_1dcnn.csv'))\n",
    "# df_cp_L1000_cnn_test = pd.read_csv(os.path.join(model_preds_dir, 'cp_L1000_test_preds_1dcnn.csv'))\n",
    "\n",
    "# Drop bortezomib from evaluation\n",
    "if drop_bortezomib_from_test:\n",
    "    df_cp_cnn_test = df_cp_cnn_test.iloc[df_cp_test.index, :]\n",
    "    df_L1000_cnn_test = df_L1000_cnn_test.iloc[df_L1000_test.index, :]\n",
    "    # df_cp_L1000_cnn_test = df_cp_L1000_cnn_test.iloc[df_cp_L1000_test.index, :]"
   ]
  },
  {
   "cell_type": "code",
   "execution_count": 12,
   "metadata": {
    "executionInfo": {
     "elapsed": 5678,
     "status": "ok",
     "timestamp": 1648696936814,
     "user": {
      "displayName": "adeniyi adeboye",
      "userId": "02625876087283522783"
     },
     "user_tz": 240
    },
    "id": "uTM9HK0P2179"
   },
   "outputs": [],
   "source": [
    "##tabnet\n",
    "df_cp_tabnet_test = pd.read_csv(os.path.join(model_preds_dir, 'cp_test_pathway_preds_tabnet.csv'))\n",
    "df_L1000_tabnet_test = pd.read_csv(os.path.join(model_preds_dir, 'L1000_test_pathway_preds_tabnet.csv'))\n",
    "# df_cp_L1000_tabnet_test = pd.read_csv(os.path.join(model_preds_dir, 'cp_L1000_test_preds_tabnet.csv'))\n",
    "\n",
    "# Drop bortezomib from evaluation\n",
    "if drop_bortezomib_from_test:\n",
    "    df_cp_tabnet_test = df_cp_tabnet_test.iloc[df_cp_test.index, :]\n",
    "    df_L1000_tabnet_test = df_L1000_tabnet_test.iloc[df_L1000_test.index, :]\n",
    "    # df_cp_L1000_tabnet_test = df_cp_L1000_tabnet_test.iloc[df_cp_L1000_test.index, :]"
   ]
  },
  {
   "cell_type": "code",
   "execution_count": 13,
   "metadata": {
    "executionInfo": {
     "elapsed": 6707,
     "status": "ok",
     "timestamp": 1648696943509,
     "user": {
      "displayName": "adeniyi adeboye",
      "userId": "02625876087283522783"
     },
     "user_tz": 240
    },
    "id": "8imsT5nZ4rFH"
   },
   "outputs": [],
   "source": [
    "##Simple NN\n",
    "df_cp_simplenn_test = pd.read_csv(os.path.join(model_preds_dir, 'cp_test_pathway_preds_simplenn.csv'))\n",
    "df_L1000_simplenn_test = pd.read_csv(os.path.join(model_preds_dir, 'L1000_test_pathway_preds_simplenn.csv'))\n",
    "# df_cp_L1000_simplenn_test = pd.read_csv(os.path.join(model_preds_dir, 'cp_L1000_test_preds_simplenn.csv'))\n",
    "\n",
    "# Drop bortezomib from evaluation\n",
    "if drop_bortezomib_from_test:\n",
    "    df_cp_simplenn_test = df_cp_simplenn_test.iloc[df_cp_test.index, :]\n",
    "    df_L1000_simplenn_test = df_L1000_simplenn_test.iloc[df_L1000_test.index, :]"
   ]
  },
  {
   "cell_type": "code",
   "execution_count": 14,
   "metadata": {
    "executionInfo": {
     "elapsed": 5046,
     "status": "ok",
     "timestamp": 1648696948539,
     "user": {
      "displayName": "adeniyi adeboye",
      "userId": "02625876087283522783"
     },
     "user_tz": 240
    },
    "id": "GzV1IbEH4rui"
   },
   "outputs": [],
   "source": [
    "#blend\n",
    "df_cp_blend_test = pd.read_csv(os.path.join(model_preds_dir, 'cp_test_pathway_preds_blend.csv'))\n",
    "df_L1000_blend_test = pd.read_csv(os.path.join(model_preds_dir, 'L1000_test_pathway_preds_blend.csv'))\n",
    "# df_cp_L1000_blend_test = pd.read_csv(os.path.join(model_preds_dir, 'cp_L1000_test_preds_blend.csv'))\n",
    "\n",
    "# Drop bortezomib from evaluation\n",
    "if drop_bortezomib_from_test:\n",
    "    df_cp_blend_test = df_cp_blend_test.iloc[df_cp_test.index, :]\n",
    "    df_L1000_blend_test = df_L1000_blend_test.iloc[df_L1000_test.index, :]\n",
    "    # df_cp_L1000_blend_test = df_cp_L1000_blend_test.iloc[df_cp_L1000_test.index, :]"
   ]
  },
  {
   "cell_type": "markdown",
   "metadata": {
    "id": "jqfr-v4x5Tl1"
   },
   "source": [
    "##### - Shuffled test predictions"
   ]
  },
  {
   "cell_type": "code",
   "execution_count": 15,
   "metadata": {
    "executionInfo": {
     "elapsed": 6034,
     "status": "ok",
     "timestamp": 1648696954560,
     "user": {
      "displayName": "adeniyi adeboye",
      "userId": "02625876087283522783"
     },
     "user_tz": 240
    },
    "id": "rP_w2qV84rqs"
   },
   "outputs": [],
   "source": [
    "##mlknn shuffle\n",
    "df_cp_mlknn_shuf = pd.read_csv(os.path.join(model_preds_dir, 'cp_test_pathway_preds_mlknn_shuffle.csv'))\n",
    "df_L1000_mlknn_shuf = pd.read_csv(os.path.join(model_preds_dir, 'L1000_test_pathway_preds_mlknn_shuffle.csv'))\n",
    "# df_cp_L1000_mlknn_shuf = pd.read_csv(os.path.join(model_preds_dir, 'cp_L1000_test_preds_mlknn_shuffle.csv'))\n",
    "\n",
    "# Drop bortezomib from evaluation\n",
    "if drop_bortezomib_from_test:\n",
    "    df_cp_mlknn_shuf = df_cp_mlknn_shuf.iloc[df_cp_test.index, :]\n",
    "    df_L1000_mlknn_shuf = df_L1000_mlknn_shuf.iloc[df_L1000_test.index, :]\n",
    "    # df_cp_L1000_mlknn_shuf = df_cp_L1000_mlknn_shuf.iloc[df_cp_L1000_test.index, :]"
   ]
  },
  {
   "cell_type": "code",
   "execution_count": 16,
   "metadata": {
    "executionInfo": {
     "elapsed": 5026,
     "status": "ok",
     "timestamp": 1648696959574,
     "user": {
      "displayName": "adeniyi adeboye",
      "userId": "02625876087283522783"
     },
     "user_tz": 240
    },
    "id": "XB_cHLPl4rnV"
   },
   "outputs": [],
   "source": [
    "##resnet shuffle\n",
    "df_cp_resnet_shuf = pd.read_csv(os.path.join(model_preds_dir, 'cp_test_pathway_preds_resnet_shuffle.csv'))\n",
    "df_L1000_resnet_shuf = pd.read_csv(os.path.join(model_preds_dir, 'L1000_test_pathway_preds_resnet_shuffle.csv'))\n",
    "# df_cp_L1000_resnet_shuf = pd.read_csv(os.path.join(model_preds_dir, 'cp_L1000_test_preds_resnet_shuffle.csv'))\n",
    "\n",
    "# Drop bortezomib from evaluation\n",
    "if drop_bortezomib_from_test:\n",
    "    df_cp_resnet_shuf = df_cp_resnet_shuf.iloc[df_cp_test.index, :]\n",
    "    df_L1000_resnet_shuf = df_L1000_resnet_shuf.iloc[df_L1000_test.index, :]\n",
    "    # df_cp_L1000_resnet_shuf = df_cp_L1000_resnet_shuf.iloc[df_cp_L1000_test.index, :]"
   ]
  },
  {
   "cell_type": "code",
   "execution_count": 17,
   "metadata": {
    "executionInfo": {
     "elapsed": 8738,
     "status": "ok",
     "timestamp": 1648696968295,
     "user": {
      "displayName": "adeniyi adeboye",
      "userId": "02625876087283522783"
     },
     "user_tz": 240
    },
    "id": "5xZIOxY14rCO"
   },
   "outputs": [],
   "source": [
    "##1-d cnn shuffle\n",
    "df_cp_cnn_shuf = pd.read_csv(os.path.join(model_preds_dir, 'cp_test_pathway_preds_1dcnn_shuffle.csv'))\n",
    "df_L1000_cnn_shuf = pd.read_csv(os.path.join(model_preds_dir, 'L1000_test_pathway_preds_1dcnn_shuffle.csv'))\n",
    "# df_cp_L1000_cnn_shuf = pd.read_csv(os.path.join(model_preds_dir, 'cp_L1000_test_preds_1dcnn_shuffle.csv'))\n",
    "\n",
    "# Drop bortezomib from evaluation\n",
    "if drop_bortezomib_from_test:\n",
    "    df_cp_cnn_shuf = df_cp_cnn_shuf.iloc[df_cp_test.index, :]\n",
    "    df_L1000_cnn_shuf = df_L1000_cnn_shuf.iloc[df_L1000_test.index, :]\n",
    "    # df_cp_L1000_cnn_shuf = df_cp_L1000_cnn_shuf.iloc[df_cp_L1000_test.index, :]"
   ]
  },
  {
   "cell_type": "code",
   "execution_count": 18,
   "metadata": {
    "executionInfo": {
     "elapsed": 7032,
     "status": "ok",
     "timestamp": 1648696975295,
     "user": {
      "displayName": "adeniyi adeboye",
      "userId": "02625876087283522783"
     },
     "user_tz": 240
    },
    "id": "vbI-Biph4q2N"
   },
   "outputs": [],
   "source": [
    "##tabnet shuffle\n",
    "df_cp_tabnet_shuf = pd.read_csv(os.path.join(model_preds_dir, 'cp_test_pathway_preds_tabnet_shuffle.csv'))\n",
    "df_L1000_tabnet_shuf = pd.read_csv(os.path.join(model_preds_dir, 'L1000_test_pathway_preds_tabnet_shuffle.csv'))\n",
    "# df_cp_L1000_tabnet_shuf = pd.read_csv(os.path.join(model_preds_dir, 'cp_L1000_test_preds_tabnet_shuffle.csv'))\n",
    "\n",
    "# Drop bortezomib from evaluation\n",
    "if drop_bortezomib_from_test:\n",
    "    df_cp_tabnet_shuf = df_cp_tabnet_shuf.iloc[df_cp_test.index, :]\n",
    "    df_L1000_tabnet_shuf = df_L1000_tabnet_shuf.iloc[df_L1000_test.index, :]\n",
    "    # df_cp_L1000_tabnet_shuf = df_cp_L1000_tabnet_shuf.iloc[df_cp_L1000_test.index, :]"
   ]
  },
  {
   "cell_type": "code",
   "execution_count": 19,
   "metadata": {
    "executionInfo": {
     "elapsed": 10182,
     "status": "ok",
     "timestamp": 1648696985444,
     "user": {
      "displayName": "adeniyi adeboye",
      "userId": "02625876087283522783"
     },
     "user_tz": 240
    },
    "id": "yH7R6V5E6M3l"
   },
   "outputs": [],
   "source": [
    "##simpleNN shuffle\n",
    "df_cp_simplenn_shuf = pd.read_csv(os.path.join(model_preds_dir, 'cp_test_pathway_preds_simplenn_shuffle.csv'))\n",
    "df_L1000_simplenn_shuf = pd.read_csv(os.path.join(model_preds_dir, 'L1000_test_pathway_preds_simplenn_shuffle.csv'))\n",
    "# df_cp_L1000_simplenn_shuf = pd.read_csv(os.path.join(model_preds_dir, 'cp_L1000_test_preds_simplenn_shuffle.csv'))\n",
    "\n",
    "# Drop bortezomib from evaluation\n",
    "if drop_bortezomib_from_test:\n",
    "    df_cp_simplenn_shuf = df_cp_simplenn_shuf.iloc[df_cp_test.index, :]\n",
    "    df_L1000_simplenn_shuf = df_L1000_simplenn_shuf.iloc[df_L1000_test.index, :]\n",
    "    # df_cp_L1000_simplenn_shuf = df_cp_L1000_simplenn_shuf.iloc[df_cp_L1000_test.index, :]"
   ]
  },
  {
   "cell_type": "code",
   "execution_count": 20,
   "metadata": {
    "colab": {
     "base_uri": "https://localhost:8080/"
    },
    "executionInfo": {
     "elapsed": 134,
     "status": "ok",
     "timestamp": 1648696985530,
     "user": {
      "displayName": "adeniyi adeboye",
      "userId": "02625876087283522783"
     },
     "user_tz": 240
    },
    "id": "n6DMCY3M6Mud",
    "outputId": "93d47dce-6e12-48b7-cd3e-9f020ff6c302"
   },
   "outputs": [
    {
     "data": {
      "text/plain": [
       "(9126, 772)"
      ]
     },
     "execution_count": 20,
     "metadata": {},
     "output_type": "execute_result"
    }
   ],
   "source": [
    "df_cp_blend_test.shape"
   ]
  },
  {
   "cell_type": "code",
   "execution_count": 21,
   "metadata": {
    "executionInfo": {
     "elapsed": 961,
     "status": "ok",
     "timestamp": 1648696986488,
     "user": {
      "displayName": "adeniyi adeboye",
      "userId": "02625876087283522783"
     },
     "user_tz": 240
    },
    "id": "8NsrhxtS6NkE"
   },
   "outputs": [],
   "source": [
    "df_cp_tst_target_pathways = df_cp_test[df_cp_cnn_test.columns].copy()\n",
    "df_L1000_tst_targets_pathways = df_L1000_test[df_L1000_cnn_test.columns].copy()\n",
    "# df_cp_L1000_tst_targets = df_cp_L1000_test[df_cp_L1000_cnn_test.columns]"
   ]
  },
  {
   "cell_type": "markdown",
   "metadata": {
    "id": "U31o8Iq9-chs"
   },
   "source": [
    "##### - Baseline of Precision-Recall AUC score is determined by the ratio of positives (P i.e. 1) to ratio of positives (P i.e. 1) and negatives (N i.e. 0) i.e. y = P / (P + N)"
   ]
  },
  {
   "cell_type": "code",
   "execution_count": 22,
   "metadata": {
    "executionInfo": {
     "elapsed": 19,
     "status": "ok",
     "timestamp": 1648696986490,
     "user": {
      "displayName": "adeniyi adeboye",
      "userId": "02625876087283522783"
     },
     "user_tz": 240
    },
    "id": "Tb1-Yp3l1Rb1"
   },
   "outputs": [],
   "source": [
    "def calculate_baseline(df):\n",
    "  \"\"\"Calculate the PR- baseline (i.e. P/P+N) for each profiling assay\"\"\"\n",
    "  targts = np.ravel(df.values)\n",
    "  targts_one = [values for num in np.where(targts == 1) for values in num]\n",
    "  baseline = len(targts_one) / len(targts)\n",
    "  return baseline"
   ]
  },
  {
   "cell_type": "code",
   "execution_count": 23,
   "metadata": {
    "executionInfo": {
     "elapsed": 472,
     "status": "ok",
     "timestamp": 1648696986946,
     "user": {
      "displayName": "adeniyi adeboye",
      "userId": "02625876087283522783"
     },
     "user_tz": 240
    },
    "id": "oBDF1Idu-Yhg"
   },
   "outputs": [],
   "source": [
    "cp_no_skill = calculate_baseline(df_cp_tst_target_pathways)\n",
    "L1000_no_skill = calculate_baseline(df_L1000_tst_targets_pathways)\n",
    "# cp_L1000_no_skill = calculate_baseline(df_cp_L1000_tst_targets)"
   ]
  },
  {
   "cell_type": "code",
   "execution_count": 24,
   "metadata": {
    "colab": {
     "base_uri": "https://localhost:8080/"
    },
    "executionInfo": {
     "elapsed": 41,
     "status": "ok",
     "timestamp": 1648696986946,
     "user": {
      "displayName": "adeniyi adeboye",
      "userId": "02625876087283522783"
     },
     "user_tz": 240
    },
    "id": "7Xrc6xdC-Yd9",
    "outputId": "626dee01-c4bc-42bb-fcd7-5d7e2767b402"
   },
   "outputs": [
    {
     "data": {
      "text/plain": [
       "0.03506412019921087"
      ]
     },
     "execution_count": 24,
     "metadata": {},
     "output_type": "execute_result"
    }
   ],
   "source": [
    "L1000_no_skill"
   ]
  },
  {
   "cell_type": "code",
   "execution_count": 25,
   "metadata": {
    "colab": {
     "base_uri": "https://localhost:8080/"
    },
    "executionInfo": {
     "elapsed": 13,
     "status": "ok",
     "timestamp": 1648696986947,
     "user": {
      "displayName": "adeniyi adeboye",
      "userId": "02625876087283522783"
     },
     "user_tz": 240
    },
    "id": "q-LXneff-Yak",
    "outputId": "67772e46-24c5-4d89-f8ea-3f28b82f43c9"
   },
   "outputs": [
    {
     "data": {
      "text/plain": [
       "0.034222951221755525"
      ]
     },
     "execution_count": 25,
     "metadata": {},
     "output_type": "execute_result"
    }
   ],
   "source": [
    "cp_no_skill"
   ]
  },
  {
   "cell_type": "code",
   "execution_count": 26,
   "metadata": {
    "executionInfo": {
     "elapsed": 9,
     "status": "ok",
     "timestamp": 1648696986948,
     "user": {
      "displayName": "adeniyi adeboye",
      "userId": "02625876087283522783"
     },
     "user_tz": 240
    },
    "id": "9V_tZc5F-YWm"
   },
   "outputs": [],
   "source": [
    "def evaluate(actual, pred):\n",
    "  \"\"\"Evaluate model performance using ROC-AUC and PR-AUC scores\"\"\"\n",
    "  rocauc_score = roc_auc_score(actual.values, pred.values, average='macro')\n",
    "  pr_auc_score = average_precision_score(actual.values, pred.values, average=\"micro\")\n",
    "  return [rocauc_score, pr_auc_score]"
   ]
  },
  {
   "cell_type": "code",
   "execution_count": 27,
   "metadata": {
    "executionInfo": {
     "elapsed": 9,
     "status": "ok",
     "timestamp": 1648696986949,
     "user": {
      "displayName": "adeniyi adeboye",
      "userId": "02625876087283522783"
     },
     "user_tz": 240
    },
    "id": "V9AHWb2X-YTV"
   },
   "outputs": [],
   "source": [
    "cp_preds = [df_cp_mlknn_test, df_cp_resnet_test, df_cp_cnn_test, df_cp_tabnet_test, df_cp_simplenn_test, \\\n",
    "            df_cp_mlknn_shuf, df_cp_resnet_shuf, df_cp_cnn_shuf, df_cp_tabnet_shuf, df_cp_simplenn_shuf, \\\n",
    "            df_cp_blend_test]\n",
    "\n",
    "L1_preds = [df_L1000_mlknn_test, df_L1000_resnet_test, df_L1000_cnn_test, df_L1000_tabnet_test, df_L1000_simplenn_test,\n",
    "            df_L1000_mlknn_shuf, df_L1000_resnet_shuf, df_L1000_cnn_shuf, df_L1000_tabnet_shuf, df_L1000_simplenn_shuf,\n",
    "            df_L1000_blend_test]\n",
    "\n",
    "# cp_L1_preds = [df_cp_L1000_mlknn_test, df_cp_L1000_resnet_test, df_cp_L1000_cnn_test, df_cp_L1000_tabnet_test, df_cp_L1000_simplenn_test, \\\n",
    "#                df_cp_L1000_mlknn_shuf, df_cp_L1000_resnet_shuf, df_cp_L1000_cnn_shuf, df_cp_L1000_tabnet_shuf, \\\n",
    "#                df_cp_L1000_simplenn_shuf,df_cp_L1000_blend_test]\n",
    "\n",
    "metrics = ['roc_auc_score', 'pr_auc_score',]\n",
    "model_name = ['_mlknn', '_resnet', '_cnn', '_tabnet', '_simplenn', '_mlknnshuf', '_resnetshuf', '_cnnshuf', '_tabnetshuf', \\\n",
    "              '_simplennshuf', '_blend']\n",
    "targets_dfs = [df_cp_tst_target_pathways, df_L1000_tst_targets_pathways]\n",
    "assays = ['CP', 'L1000']\n",
    "preds_all = [cp_preds, L1_preds]"
   ]
  },
  {
   "cell_type": "markdown",
   "metadata": {
    "id": "G_MhDOnq_mds"
   },
   "source": [
    "#### - All models target pathway predictions"
   ]
  },
  {
   "cell_type": "code",
   "execution_count": 28,
   "metadata": {
    "executionInfo": {
     "elapsed": 869072,
     "status": "ok",
     "timestamp": 1648697856013,
     "user": {
      "displayName": "adeniyi adeboye",
      "userId": "02625876087283522783"
     },
     "user_tz": 240
    },
    "id": "62VDGySA_S_l"
   },
   "outputs": [],
   "source": [
    "##models target pathway predictions for all profiling assays\n",
    "score_dict = {}\n",
    "for idx, (assay_name, actual_df) in enumerate(zip(assays, targets_dfs)):\n",
    "  for mdl, pred_df in zip(model_name, preds_all[idx]):\n",
    "    model_score = {}\n",
    "    score_name = assay_name + mdl \n",
    "    eval_list = evaluate(actual_df, pred_df)\n",
    "    for io, met in enumerate(metrics):\n",
    "      score_dict[score_name] = model_score\n",
    "      score_dict[score_name][met] = eval_list[io]"
   ]
  },
  {
   "cell_type": "code",
   "execution_count": 29,
   "metadata": {
    "executionInfo": {
     "elapsed": 65,
     "status": "ok",
     "timestamp": 1648697856016,
     "user": {
      "displayName": "adeniyi adeboye",
      "userId": "02625876087283522783"
     },
     "user_tz": 240
    },
    "id": "Ygz9dqZs_1zW"
   },
   "outputs": [],
   "source": [
    "df_pred_scores = pd.DataFrame([(k,k1,v1) for k,v in score_dict.items() for k1,v1 in v.items()], \n",
    "                              columns = ['id_name', 'metrics', 'values'])"
   ]
  },
  {
   "cell_type": "code",
   "execution_count": 30,
   "metadata": {
    "colab": {
     "base_uri": "https://localhost:8080/",
     "height": 363
    },
    "executionInfo": {
     "elapsed": 65,
     "status": "ok",
     "timestamp": 1648697856018,
     "user": {
      "displayName": "adeniyi adeboye",
      "userId": "02625876087283522783"
     },
     "user_tz": 240
    },
    "id": "hqJbqGNm_S7n",
    "outputId": "fa4c4d6a-54be-4ba7-8ee9-7f982b679fbf"
   },
   "outputs": [
    {
     "data": {
      "text/html": [
       "<div>\n",
       "<style scoped>\n",
       "    .dataframe tbody tr th:only-of-type {\n",
       "        vertical-align: middle;\n",
       "    }\n",
       "\n",
       "    .dataframe tbody tr th {\n",
       "        vertical-align: top;\n",
       "    }\n",
       "\n",
       "    .dataframe thead th {\n",
       "        text-align: right;\n",
       "    }\n",
       "</style>\n",
       "<table border=\"1\" class=\"dataframe\">\n",
       "  <thead>\n",
       "    <tr style=\"text-align: right;\">\n",
       "      <th></th>\n",
       "      <th>id_name</th>\n",
       "      <th>metrics</th>\n",
       "      <th>values</th>\n",
       "    </tr>\n",
       "  </thead>\n",
       "  <tbody>\n",
       "    <tr>\n",
       "      <th>0</th>\n",
       "      <td>CP_mlknn</td>\n",
       "      <td>roc_auc_score</td>\n",
       "      <td>0.514624</td>\n",
       "    </tr>\n",
       "    <tr>\n",
       "      <th>1</th>\n",
       "      <td>CP_mlknn</td>\n",
       "      <td>pr_auc_score</td>\n",
       "      <td>0.091007</td>\n",
       "    </tr>\n",
       "    <tr>\n",
       "      <th>2</th>\n",
       "      <td>CP_resnet</td>\n",
       "      <td>roc_auc_score</td>\n",
       "      <td>0.570809</td>\n",
       "    </tr>\n",
       "    <tr>\n",
       "      <th>3</th>\n",
       "      <td>CP_resnet</td>\n",
       "      <td>pr_auc_score</td>\n",
       "      <td>0.132039</td>\n",
       "    </tr>\n",
       "    <tr>\n",
       "      <th>4</th>\n",
       "      <td>CP_cnn</td>\n",
       "      <td>roc_auc_score</td>\n",
       "      <td>0.570336</td>\n",
       "    </tr>\n",
       "    <tr>\n",
       "      <th>5</th>\n",
       "      <td>CP_cnn</td>\n",
       "      <td>pr_auc_score</td>\n",
       "      <td>0.121854</td>\n",
       "    </tr>\n",
       "    <tr>\n",
       "      <th>6</th>\n",
       "      <td>CP_tabnet</td>\n",
       "      <td>roc_auc_score</td>\n",
       "      <td>0.520950</td>\n",
       "    </tr>\n",
       "    <tr>\n",
       "      <th>7</th>\n",
       "      <td>CP_tabnet</td>\n",
       "      <td>pr_auc_score</td>\n",
       "      <td>0.105273</td>\n",
       "    </tr>\n",
       "    <tr>\n",
       "      <th>8</th>\n",
       "      <td>CP_simplenn</td>\n",
       "      <td>roc_auc_score</td>\n",
       "      <td>0.566920</td>\n",
       "    </tr>\n",
       "    <tr>\n",
       "      <th>9</th>\n",
       "      <td>CP_simplenn</td>\n",
       "      <td>pr_auc_score</td>\n",
       "      <td>0.126426</td>\n",
       "    </tr>\n",
       "  </tbody>\n",
       "</table>\n",
       "</div>"
      ],
      "text/plain": [
       "       id_name        metrics    values\n",
       "0     CP_mlknn  roc_auc_score  0.514624\n",
       "1     CP_mlknn   pr_auc_score  0.091007\n",
       "2    CP_resnet  roc_auc_score  0.570809\n",
       "3    CP_resnet   pr_auc_score  0.132039\n",
       "4       CP_cnn  roc_auc_score  0.570336\n",
       "5       CP_cnn   pr_auc_score  0.121854\n",
       "6    CP_tabnet  roc_auc_score  0.520950\n",
       "7    CP_tabnet   pr_auc_score  0.105273\n",
       "8  CP_simplenn  roc_auc_score  0.566920\n",
       "9  CP_simplenn   pr_auc_score  0.126426"
      ]
     },
     "execution_count": 30,
     "metadata": {},
     "output_type": "execute_result"
    }
   ],
   "source": [
    "df_pred_scores.head(10)"
   ]
  },
  {
   "cell_type": "code",
   "execution_count": 31,
   "metadata": {
    "executionInfo": {
     "elapsed": 61,
     "status": "ok",
     "timestamp": 1648697856019,
     "user": {
      "displayName": "adeniyi adeboye",
      "userId": "02625876087283522783"
     },
     "user_tz": 240
    },
    "id": "QhumjPR5_S4c"
   },
   "outputs": [],
   "source": [
    "df_pred_scores['profile_tech'] = df_pred_scores['id_name'].apply(lambda x: '_'.join(x.split('_')[:-1]))\n",
    "df_pred_scores['model'] = df_pred_scores['id_name'].apply(lambda x: x.split('_')[-1])\n",
    "df_pred_scores['values'] = df_pred_scores['values'].apply(lambda x: x*100)"
   ]
  },
  {
   "cell_type": "code",
   "execution_count": 32,
   "metadata": {
    "colab": {
     "base_uri": "https://localhost:8080/"
    },
    "executionInfo": {
     "elapsed": 61,
     "status": "ok",
     "timestamp": 1648697856019,
     "user": {
      "displayName": "adeniyi adeboye",
      "userId": "02625876087283522783"
     },
     "user_tz": 240
    },
    "id": "ZOtFejnn-YP_",
    "outputId": "c10f299c-e5b7-45f1-8224-814add0ccfdf"
   },
   "outputs": [
    {
     "data": {
      "text/plain": [
       "array(['mlknn', 'resnet', 'cnn', 'tabnet', 'simplenn', 'mlknnshuf',\n",
       "       'resnetshuf', 'cnnshuf', 'tabnetshuf', 'simplennshuf', 'blend'],\n",
       "      dtype=object)"
      ]
     },
     "execution_count": 32,
     "metadata": {},
     "output_type": "execute_result"
    }
   ],
   "source": [
    "df_pred_scores['model'].unique()"
   ]
  },
  {
   "cell_type": "code",
   "execution_count": 33,
   "metadata": {
    "executionInfo": {
     "elapsed": 52,
     "status": "ok",
     "timestamp": 1648697856020,
     "user": {
      "displayName": "adeniyi adeboye",
      "userId": "02625876087283522783"
     },
     "user_tz": 240
    },
    "id": "9-7kium0EBZh"
   },
   "outputs": [],
   "source": [
    "normal_models = ['mlknn', 'resnet', 'cnn', 'tabnet', 'simplenn', 'blend']\n",
    "shuffle_models = ['mlknnshuf', 'resnetshuf', 'cnnshuf', 'tabnetshuf', 'simplennshuf']"
   ]
  },
  {
   "cell_type": "code",
   "execution_count": 34,
   "metadata": {
    "executionInfo": {
     "elapsed": 51,
     "status": "ok",
     "timestamp": 1648697856020,
     "user": {
      "displayName": "adeniyi adeboye",
      "userId": "02625876087283522783"
     },
     "user_tz": 240
    },
    "id": "OLLvqBSeEBV9"
   },
   "outputs": [],
   "source": [
    "df_score_normal = df_pred_scores.loc[df_pred_scores['model'].isin(normal_models)].reset_index(drop=True)\n",
    "df_score_shuffle = df_pred_scores.loc[df_pred_scores['model'].isin(shuffle_models)].reset_index(drop=True)"
   ]
  },
  {
   "cell_type": "code",
   "execution_count": 35,
   "metadata": {
    "colab": {
     "base_uri": "https://localhost:8080/",
     "height": 206
    },
    "executionInfo": {
     "elapsed": 51,
     "status": "ok",
     "timestamp": 1648697856020,
     "user": {
      "displayName": "adeniyi adeboye",
      "userId": "02625876087283522783"
     },
     "user_tz": 240
    },
    "id": "PHsOi_muEBSZ",
    "outputId": "f3d26cb1-fb37-4432-b613-23d0794dce5d"
   },
   "outputs": [
    {
     "data": {
      "text/html": [
       "<div>\n",
       "<style scoped>\n",
       "    .dataframe tbody tr th:only-of-type {\n",
       "        vertical-align: middle;\n",
       "    }\n",
       "\n",
       "    .dataframe tbody tr th {\n",
       "        vertical-align: top;\n",
       "    }\n",
       "\n",
       "    .dataframe thead th {\n",
       "        text-align: right;\n",
       "    }\n",
       "</style>\n",
       "<table border=\"1\" class=\"dataframe\">\n",
       "  <thead>\n",
       "    <tr style=\"text-align: right;\">\n",
       "      <th></th>\n",
       "      <th>id_name</th>\n",
       "      <th>metrics</th>\n",
       "      <th>values</th>\n",
       "      <th>profile_tech</th>\n",
       "      <th>model</th>\n",
       "    </tr>\n",
       "  </thead>\n",
       "  <tbody>\n",
       "    <tr>\n",
       "      <th>0</th>\n",
       "      <td>CP_mlknn</td>\n",
       "      <td>roc_auc_score</td>\n",
       "      <td>51.462370</td>\n",
       "      <td>CP</td>\n",
       "      <td>mlknn</td>\n",
       "    </tr>\n",
       "    <tr>\n",
       "      <th>1</th>\n",
       "      <td>CP_mlknn</td>\n",
       "      <td>pr_auc_score</td>\n",
       "      <td>9.100655</td>\n",
       "      <td>CP</td>\n",
       "      <td>mlknn</td>\n",
       "    </tr>\n",
       "    <tr>\n",
       "      <th>2</th>\n",
       "      <td>CP_resnet</td>\n",
       "      <td>roc_auc_score</td>\n",
       "      <td>57.080930</td>\n",
       "      <td>CP</td>\n",
       "      <td>resnet</td>\n",
       "    </tr>\n",
       "    <tr>\n",
       "      <th>3</th>\n",
       "      <td>CP_resnet</td>\n",
       "      <td>pr_auc_score</td>\n",
       "      <td>13.203887</td>\n",
       "      <td>CP</td>\n",
       "      <td>resnet</td>\n",
       "    </tr>\n",
       "    <tr>\n",
       "      <th>4</th>\n",
       "      <td>CP_cnn</td>\n",
       "      <td>roc_auc_score</td>\n",
       "      <td>57.033628</td>\n",
       "      <td>CP</td>\n",
       "      <td>cnn</td>\n",
       "    </tr>\n",
       "  </tbody>\n",
       "</table>\n",
       "</div>"
      ],
      "text/plain": [
       "     id_name        metrics     values profile_tech   model\n",
       "0   CP_mlknn  roc_auc_score  51.462370           CP   mlknn\n",
       "1   CP_mlknn   pr_auc_score   9.100655           CP   mlknn\n",
       "2  CP_resnet  roc_auc_score  57.080930           CP  resnet\n",
       "3  CP_resnet   pr_auc_score  13.203887           CP  resnet\n",
       "4     CP_cnn  roc_auc_score  57.033628           CP     cnn"
      ]
     },
     "execution_count": 35,
     "metadata": {},
     "output_type": "execute_result"
    }
   ],
   "source": [
    "df_score_normal.head()"
   ]
  },
  {
   "cell_type": "code",
   "execution_count": 36,
   "metadata": {
    "executionInfo": {
     "elapsed": 179,
     "status": "ok",
     "timestamp": 1648697856150,
     "user": {
      "displayName": "adeniyi adeboye",
      "userId": "02625876087283522783"
     },
     "user_tz": 240
    },
    "id": "rohxtHhAELKc"
   },
   "outputs": [],
   "source": [
    "normal_model_names = {'resnet':'ResNet', 'cnn':'1D-CNN', 'tabnet':'TabNet', 'simplenn':'Simple NN', 'mlknn': 'Ml-KNN', 'blend': 'Models Ensemble'}\n",
    "shuffle_model_names = {'resnetshuf':'ResNet', 'cnnshuf':'1D-CNN', 'tabnetshuf':'TabNet', 'simplennshuf':'Simple NN','mlknnshuf': 'Ml-KNN'}\n",
    "def rename_col_values(df, model_name_dict):\n",
    "  \"\"\"Rename unique column values\"\"\"\n",
    "  df['metrics'] = df['metrics'].map({'pr_auc_score': 'Precision-Recall_AUC', 'roc_auc_score':'ROC_AUC'})\n",
    "  df['model'] = df['model'].map(model_name_dict)\n",
    "  df['profile_tech'] = df['profile_tech'].map({'CP':'Cell painting', 'L1000':'L1000', 'CP_L1000':'Cell painting & L1000'})\n",
    "  return df"
   ]
  },
  {
   "cell_type": "code",
   "execution_count": 37,
   "metadata": {
    "executionInfo": {
     "elapsed": 23,
     "status": "ok",
     "timestamp": 1648697856151,
     "user": {
      "displayName": "adeniyi adeboye",
      "userId": "02625876087283522783"
     },
     "user_tz": 240
    },
    "id": "fgmU_nywELIZ"
   },
   "outputs": [],
   "source": [
    "df_score_normal = rename_col_values(df_score_normal, normal_model_names)\n",
    "df_score_shuffle = rename_col_values(df_score_shuffle, shuffle_model_names)"
   ]
  },
  {
   "cell_type": "code",
   "execution_count": 38,
   "metadata": {
    "executionInfo": {
     "elapsed": 24,
     "status": "ok",
     "timestamp": 1648697856152,
     "user": {
      "displayName": "adeniyi adeboye",
      "userId": "02625876087283522783"
     },
     "user_tz": 240
    },
    "id": "G1HbN-aDEK-5"
   },
   "outputs": [],
   "source": [
    "def extract_new_dfs(df):\n",
    "  \"\"\"Extract ROC-AUC & PR-AUC dataframes\"\"\"\n",
    "  df_roc = df[df['metrics'] == 'ROC_AUC'].copy()\n",
    "  df_pr_auc = df[df['metrics'] == 'Precision-Recall_AUC'].copy()\n",
    "  return df_roc, df_pr_auc"
   ]
  },
  {
   "cell_type": "code",
   "execution_count": 39,
   "metadata": {
    "executionInfo": {
     "elapsed": 24,
     "status": "ok",
     "timestamp": 1648697856152,
     "user": {
      "displayName": "adeniyi adeboye",
      "userId": "02625876087283522783"
     },
     "user_tz": 240
    },
    "id": "1liPRpRcEcsP"
   },
   "outputs": [],
   "source": [
    "df_roc_normal, df_pr_auc_normal = extract_new_dfs(df_score_normal)\n",
    "df_roc_shuffle, df_pr_auc_shuffle = extract_new_dfs(df_score_shuffle)"
   ]
  },
  {
   "cell_type": "code",
   "execution_count": 40,
   "metadata": {
    "colab": {
     "base_uri": "https://localhost:8080/",
     "height": 223
    },
    "executionInfo": {
     "elapsed": 25,
     "status": "ok",
     "timestamp": 1648697856154,
     "user": {
      "displayName": "adeniyi adeboye",
      "userId": "02625876087283522783"
     },
     "user_tz": 240
    },
    "id": "SI2ub85vhDm-",
    "outputId": "e7a7aa46-87be-44d8-ae72-8782b236a1b0"
   },
   "outputs": [
    {
     "name": "stdout",
     "output_type": "stream",
     "text": [
      "(44, 6)\n"
     ]
    },
    {
     "data": {
      "text/html": [
       "<div>\n",
       "<style scoped>\n",
       "    .dataframe tbody tr th:only-of-type {\n",
       "        vertical-align: middle;\n",
       "    }\n",
       "\n",
       "    .dataframe tbody tr th {\n",
       "        vertical-align: top;\n",
       "    }\n",
       "\n",
       "    .dataframe thead th {\n",
       "        text-align: right;\n",
       "    }\n",
       "</style>\n",
       "<table border=\"1\" class=\"dataframe\">\n",
       "  <thead>\n",
       "    <tr style=\"text-align: right;\">\n",
       "      <th></th>\n",
       "      <th>id_name</th>\n",
       "      <th>metrics</th>\n",
       "      <th>values</th>\n",
       "      <th>profile_tech</th>\n",
       "      <th>model</th>\n",
       "      <th>shuffle</th>\n",
       "    </tr>\n",
       "  </thead>\n",
       "  <tbody>\n",
       "    <tr>\n",
       "      <th>1</th>\n",
       "      <td>CP_mlknn</td>\n",
       "      <td>Precision-Recall_AUC</td>\n",
       "      <td>9.100655</td>\n",
       "      <td>Cell painting</td>\n",
       "      <td>Ml-KNN</td>\n",
       "      <td>False</td>\n",
       "    </tr>\n",
       "    <tr>\n",
       "      <th>3</th>\n",
       "      <td>CP_resnet</td>\n",
       "      <td>Precision-Recall_AUC</td>\n",
       "      <td>13.203887</td>\n",
       "      <td>Cell painting</td>\n",
       "      <td>ResNet</td>\n",
       "      <td>False</td>\n",
       "    </tr>\n",
       "    <tr>\n",
       "      <th>5</th>\n",
       "      <td>CP_cnn</td>\n",
       "      <td>Precision-Recall_AUC</td>\n",
       "      <td>12.185388</td>\n",
       "      <td>Cell painting</td>\n",
       "      <td>1D-CNN</td>\n",
       "      <td>False</td>\n",
       "    </tr>\n",
       "    <tr>\n",
       "      <th>7</th>\n",
       "      <td>CP_tabnet</td>\n",
       "      <td>Precision-Recall_AUC</td>\n",
       "      <td>10.527334</td>\n",
       "      <td>Cell painting</td>\n",
       "      <td>TabNet</td>\n",
       "      <td>False</td>\n",
       "    </tr>\n",
       "    <tr>\n",
       "      <th>9</th>\n",
       "      <td>CP_simplenn</td>\n",
       "      <td>Precision-Recall_AUC</td>\n",
       "      <td>12.642642</td>\n",
       "      <td>Cell painting</td>\n",
       "      <td>Simple NN</td>\n",
       "      <td>False</td>\n",
       "    </tr>\n",
       "  </tbody>\n",
       "</table>\n",
       "</div>"
      ],
      "text/plain": [
       "       id_name               metrics     values   profile_tech      model  \\\n",
       "1     CP_mlknn  Precision-Recall_AUC   9.100655  Cell painting     Ml-KNN   \n",
       "3    CP_resnet  Precision-Recall_AUC  13.203887  Cell painting     ResNet   \n",
       "5       CP_cnn  Precision-Recall_AUC  12.185388  Cell painting     1D-CNN   \n",
       "7    CP_tabnet  Precision-Recall_AUC  10.527334  Cell painting     TabNet   \n",
       "9  CP_simplenn  Precision-Recall_AUC  12.642642  Cell painting  Simple NN   \n",
       "\n",
       "   shuffle  \n",
       "1    False  \n",
       "3    False  \n",
       "5    False  \n",
       "7    False  \n",
       "9    False  "
      ]
     },
     "execution_count": 40,
     "metadata": {},
     "output_type": "execute_result"
    }
   ],
   "source": [
    "# Output files\n",
    "full_results_df = pd.concat([\n",
    "    df_pr_auc_normal.assign(shuffle=False),\n",
    "    df_roc_normal.assign(shuffle=False),\n",
    "    df_pr_auc_shuffle.assign(shuffle=True),\n",
    "    df_roc_shuffle.assign(shuffle=True)\n",
    "])\n",
    "\n",
    "output_file = pathlib.Path(\"performance_results/all_pathway_performance_metrics.csv\")\n",
    "full_results_df.to_csv(output_file, index=False)\n",
    "\n",
    "print(full_results_df.shape)\n",
    "full_results_df.head()"
   ]
  },
  {
   "cell_type": "markdown",
   "metadata": {
    "id": "5pzBDV_SEgRl"
   },
   "source": [
    "### - Plot Models -- Normal, Shuffle Models"
   ]
  },
  {
   "cell_type": "markdown",
   "metadata": {
    "id": "qrPAGSvqEm8I"
   },
   "source": [
    "##### - Baseline of Precision-Recall AUC score is determined by the ratio of positives (P i.e. 1) to ratio of positives (P i.e. 1) and negatives (N i.e. 0) i.e. y = P / (P + N)"
   ]
  },
  {
   "cell_type": "code",
   "execution_count": 41,
   "metadata": {
    "executionInfo": {
     "elapsed": 12,
     "status": "ok",
     "timestamp": 1648697856155,
     "user": {
      "displayName": "adeniyi adeboye",
      "userId": "02625876087283522783"
     },
     "user_tz": 240
    },
    "id": "1uHDe_3DEco2"
   },
   "outputs": [],
   "source": [
    "pr_baseline = ((cp_no_skill + L1000_no_skill) * 100)/2"
   ]
  },
  {
   "cell_type": "code",
   "execution_count": 42,
   "metadata": {
    "executionInfo": {
     "elapsed": 12,
     "status": "ok",
     "timestamp": 1648697856155,
     "user": {
      "displayName": "adeniyi adeboye",
      "userId": "02625876087283522783"
     },
     "user_tz": 240
    },
    "id": "DXPeT6v9EKq-"
   },
   "outputs": [],
   "source": [
    "def plot_model_predictions(df, baseline, file_name, txt_cord_y = 3.15, y_label= \"Precision-Recall AUC %\", title_label=\"Precision-Recall AUC score for all models\", \n",
    "                           path = model_preds_figures):\n",
    "  \"\"\"Plot model predictions for all profiling assays\"\"\"\n",
    "  if not os.path.exists(path):\n",
    "        os.mkdir(path)\n",
    "  cat_plt = sns.catplot(x=\"model\", y=\"values\", \n",
    "                        hue=\"profile_tech\", data=df, kind=\"bar\", palette='gray', \n",
    "                        height=6, aspect=2.2)\n",
    "  cat_plt._legend.set_title('')\n",
    "  cat_plt.set_axis_labels(\"Models\", y_label)\n",
    "  cat_plt.fig.suptitle(title_label)\n",
    "  cat_plt.fig.subplots_adjust(top=.91)\n",
    "  plt.axhline(baseline, ls='--', linewidth=3, color='red')\n",
    "  plt.text(-0.42,txt_cord_y, \"Baseline\", color='red')\n",
    "  plt.savefig(os.path.join(path, file_name))\n",
    "  plt.show()"
   ]
  },
  {
   "cell_type": "code",
   "execution_count": 43,
   "metadata": {
    "colab": {
     "base_uri": "https://localhost:8080/",
     "height": 435
    },
    "executionInfo": {
     "elapsed": 1413,
     "status": "ok",
     "timestamp": 1648697857558,
     "user": {
      "displayName": "adeniyi adeboye",
      "userId": "02625876087283522783"
     },
     "user_tz": 240
    },
    "id": "jHcdoxR8EBOl",
    "outputId": "52ad14c9-e181-41d0-c060-1f869b056b9c"
   },
   "outputs": [
    {
     "data": {
      "image/png": "[encoded data removed]",
      "text/plain": [
       "<Figure size 1101.05x432 with 1 Axes>"
      ]
     },
     "metadata": {},
     "output_type": "display_data"
    }
   ],
   "source": [
    "plot_model_predictions(df_pr_auc_normal, pr_baseline, \"pr_auc_all_assays_pathways.png\")"
   ]
  },
  {
   "cell_type": "code",
   "execution_count": 44,
   "metadata": {
    "colab": {
     "base_uri": "https://localhost:8080/",
     "height": 435
    },
    "executionInfo": {
     "elapsed": 1056,
     "status": "ok",
     "timestamp": 1648697858589,
     "user": {
      "displayName": "adeniyi adeboye",
      "userId": "02625876087283522783"
     },
     "user_tz": 240
    },
    "id": "pvpAY7hi-YMc",
    "outputId": "f8aeab7a-8e9d-46bd-8d7e-569fb25d0b47"
   },
   "outputs": [
    {
     "data": {
      "image/png": "[encoded data removed]",
      "text/plain": [
       "<Figure size 1101.05x432 with 1 Axes>"
      ]
     },
     "metadata": {},
     "output_type": "display_data"
    }
   ],
   "source": [
    "plot_model_predictions(df_pr_auc_shuffle, pr_baseline, \"pr_auc_all_assays_pathways_wrong_labels.png\", txt_cord_y = 3.15, \n",
    "                       title_label=\"Precision-Recall AUC score for all models (Trained on wrong MOA labels)\")"
   ]
  },
  {
   "cell_type": "code",
   "execution_count": 45,
   "metadata": {
    "colab": {
     "base_uri": "https://localhost:8080/",
     "height": 435
    },
    "executionInfo": {
     "elapsed": 1024,
     "status": "ok",
     "timestamp": 1648697859607,
     "user": {
      "displayName": "adeniyi adeboye",
      "userId": "02625876087283522783"
     },
     "user_tz": 240
    },
    "id": "wUF_5uTWHo74",
    "outputId": "9323916a-8fa0-4707-c459-37b447bca865"
   },
   "outputs": [
    {
     "data": {
      "image/png": "[encoded data removed]",
      "text/plain": [
       "<Figure size 1101.05x432 with 1 Axes>"
      ]
     },
     "metadata": {},
     "output_type": "display_data"
    }
   ],
   "source": [
    "plot_model_predictions(df_roc_normal, 50, \"roc_auc_all_assays_pathways.png\", txt_cord_y = 51, y_label= \"ROC-AUC %\", title_label=\"ROC-AUC score for all models\")"
   ]
  },
  {
   "cell_type": "code",
   "execution_count": 46,
   "metadata": {
    "colab": {
     "base_uri": "https://localhost:8080/",
     "height": 435
    },
    "executionInfo": {
     "elapsed": 1074,
     "status": "ok",
     "timestamp": 1648697860677,
     "user": {
      "displayName": "adeniyi adeboye",
      "userId": "02625876087283522783"
     },
     "user_tz": 240
    },
    "id": "gXt2QhywHo3e",
    "outputId": "b98dce9b-8bb2-4c95-8f54-ce5e73a2a1d9"
   },
   "outputs": [
    {
     "data": {
      "image/png": "[encoded data removed]",
      "text/plain": [
       "<Figure size 1101.05x432 with 1 Axes>"
      ]
     },
     "metadata": {},
     "output_type": "display_data"
    }
   ],
   "source": [
    "plot_model_predictions(df_roc_shuffle, 50, \"roc_auc_all_assays_pathways_wrong_labels.png\", txt_cord_y = 51, y_label= \"ROC-AUC %\", \n",
    "                       title_label=\"ROC-AUC score for all models (Trained on wrong/shuffle MOA labels)\")"
   ]
  },
  {
   "cell_type": "markdown",
   "metadata": {
    "id": "0-HUZLOWJ0io"
   },
   "source": [
    "### - MOA Pathways predictions PER Dose treatment"
   ]
  },
  {
   "cell_type": "code",
   "execution_count": 47,
   "metadata": {
    "executionInfo": {
     "elapsed": 20,
     "status": "ok",
     "timestamp": 1648697860677,
     "user": {
      "displayName": "adeniyi adeboye",
      "userId": "02625876087283522783"
     },
     "user_tz": 240
    },
    "id": "zIu-DFbUJ0Cm"
   },
   "outputs": [],
   "source": [
    "df_cp_test.rename(columns={'Metadata_dose_recode': \"dose\"}, inplace = True)"
   ]
  },
  {
   "cell_type": "code",
   "execution_count": 48,
   "metadata": {
    "colab": {
     "base_uri": "https://localhost:8080/"
    },
    "executionInfo": {
     "elapsed": 21,
     "status": "ok",
     "timestamp": 1648697860684,
     "user": {
      "displayName": "adeniyi adeboye",
      "userId": "02625876087283522783"
     },
     "user_tz": 240
    },
    "id": "wxEi2hA8IF23",
    "outputId": "fff614c4-7738-43ed-ffe0-90874dfa07d8"
   },
   "outputs": [
    {
     "data": {
      "text/plain": [
       "array([6, 5, 4, 3, 2, 1])"
      ]
     },
     "execution_count": 48,
     "metadata": {},
     "output_type": "execute_result"
    }
   ],
   "source": [
    "df_cp_test['dose'].unique()"
   ]
  },
  {
   "cell_type": "code",
   "execution_count": 49,
   "metadata": {
    "executionInfo": {
     "elapsed": 15,
     "status": "ok",
     "timestamp": 1648697860684,
     "user": {
      "displayName": "adeniyi adeboye",
      "userId": "02625876087283522783"
     },
     "user_tz": 240
    },
    "id": "IV4dPrbCIGgk"
   },
   "outputs": [],
   "source": [
    "def get_actual_preds_dose(dose, df_test, df_model_preds, df_targets):\n",
    "  \"\"\"Get the actual MOA target labels and predictions for each Treatment dose\"\"\"\n",
    "  dose_cpds_index = df_test[df_test['dose'] == dose].index\n",
    "  df_dose_preds = df_model_preds.loc[dose_cpds_index].reset_index(drop = True)\n",
    "  df_dose_targets = df_targets.loc[dose_cpds_index].reset_index(drop = True)\n",
    "  return df_dose_targets, df_dose_preds"
   ]
  },
  {
   "cell_type": "code",
   "execution_count": 50,
   "metadata": {
    "executionInfo": {
     "elapsed": 16,
     "status": "ok",
     "timestamp": 1648697860685,
     "user": {
      "displayName": "adeniyi adeboye",
      "userId": "02625876087283522783"
     },
     "user_tz": 240
    },
    "id": "zauVK1kCKatc"
   },
   "outputs": [],
   "source": [
    "def dose_class_baseline(dose_num, df_test, df_targets):\n",
    "  \"\"\"Calculate the PR- baseline for each dose treatment\"\"\"\n",
    "  dose_cpds_index = df_test[df_test['dose'] == dose_num].index\n",
    "  df_class_targets = df_targets.loc[dose_cpds_index].reset_index(drop = True)\n",
    "  class_baseline_score = calculate_baseline(df_class_targets)\n",
    "  return class_baseline_score"
   ]
  },
  {
   "cell_type": "code",
   "execution_count": 51,
   "metadata": {
    "executionInfo": {
     "elapsed": 15,
     "status": "ok",
     "timestamp": 1648697860685,
     "user": {
      "displayName": "adeniyi adeboye",
      "userId": "02625876087283522783"
     },
     "user_tz": 240
    },
    "id": "WCTmRMGFKaqV"
   },
   "outputs": [],
   "source": [
    "dose_num = [1,2,3,4,5,6]"
   ]
  },
  {
   "cell_type": "markdown",
   "metadata": {
    "id": "hQv3VDPfKlnW"
   },
   "source": [
    "##### - The baseline pr-auc score for each dose is the same across all profiling assays i.e. the baseline score in CP == baseline score in L1000"
   ]
  },
  {
   "cell_type": "code",
   "execution_count": 52,
   "metadata": {
    "executionInfo": {
     "elapsed": 313,
     "status": "ok",
     "timestamp": 1648697860983,
     "user": {
      "displayName": "adeniyi adeboye",
      "userId": "02625876087283522783"
     },
     "user_tz": 240
    },
    "id": "SgdSwuV_Kam6"
   },
   "outputs": [],
   "source": [
    "dose_no_skill_scrs = {}\n",
    "for num in dose_num:\n",
    "  class_name = 'dose_class_' + str(num)\n",
    "  no_skill_score = dose_class_baseline(num, df_cp_test, df_cp_tst_target_pathways)\n",
    "  dose_no_skill_scrs[class_name] = no_skill_score"
   ]
  },
  {
   "cell_type": "code",
   "execution_count": 53,
   "metadata": {
    "colab": {
     "base_uri": "https://localhost:8080/"
    },
    "executionInfo": {
     "elapsed": 44,
     "status": "ok",
     "timestamp": 1648697860984,
     "user": {
      "displayName": "adeniyi adeboye",
      "userId": "02625876087283522783"
     },
     "user_tz": 240
    },
    "id": "LQJh2bskKpIc",
    "outputId": "6b8ae4c6-562b-4b89-f90c-f2feb7bc5dbb"
   },
   "outputs": [
    {
     "data": {
      "text/plain": [
       "{'dose_class_1': 0.034222951221755525,\n",
       " 'dose_class_2': 0.034222951221755525,\n",
       " 'dose_class_3': 0.034222951221755525,\n",
       " 'dose_class_4': 0.034222951221755525,\n",
       " 'dose_class_5': 0.034222951221755525,\n",
       " 'dose_class_6': 0.034222951221755525}"
      ]
     },
     "execution_count": 53,
     "metadata": {},
     "output_type": "execute_result"
    }
   ],
   "source": [
    "dose_no_skill_scrs"
   ]
  },
  {
   "cell_type": "code",
   "execution_count": 54,
   "metadata": {
    "executionInfo": {
     "elapsed": 36,
     "status": "ok",
     "timestamp": 1648697860985,
     "user": {
      "displayName": "adeniyi adeboye",
      "userId": "02625876087283522783"
     },
     "user_tz": 240
    },
    "id": "zk364PnnKpBW"
   },
   "outputs": [],
   "source": [
    "def evaluate(actual, pred):\n",
    "  \"\"\"Evaluate MOA predictions per dose using PR-AUC and ROC-AUC\"\"\"\n",
    "  rocauc_score = roc_auc_score(np.ravel(actual), np.ravel(pred), average='macro')\n",
    "  pr_auc_score = average_precision_score(np.ravel(actual), np.ravel(pred), average=\"micro\")\n",
    "  return [rocauc_score, pr_auc_score]"
   ]
  },
  {
   "cell_type": "code",
   "execution_count": 55,
   "metadata": {
    "executionInfo": {
     "elapsed": 37,
     "status": "ok",
     "timestamp": 1648697860986,
     "user": {
      "displayName": "adeniyi adeboye",
      "userId": "02625876087283522783"
     },
     "user_tz": 240
    },
    "id": "uJaMW5S6Kaj-"
   },
   "outputs": [],
   "source": [
    "cp_preds_dose = [df_cp_mlknn_test, df_cp_resnet_test, df_cp_cnn_test, df_cp_tabnet_test, df_cp_simplenn_test, df_cp_blend_test]\n",
    "\n",
    "L1_preds_dose = [df_L1000_mlknn_test, df_L1000_resnet_test, df_L1000_cnn_test, df_L1000_tabnet_test, df_L1000_simplenn_test, \n",
    "                 df_L1000_blend_test]\n",
    "\n",
    "# cp_L1_preds_dose = [df_cp_L1000_mlknn_test, df_cp_L1000_resnet_test, df_cp_L1000_cnn_test, df_cp_L1000_tabnet_test, \n",
    "                    # df_cp_L1000_simplenn_test, df_cp_L1000_blend_test]"
   ]
  },
  {
   "cell_type": "code",
   "execution_count": 56,
   "metadata": {
    "executionInfo": {
     "elapsed": 37,
     "status": "ok",
     "timestamp": 1648697860986,
     "user": {
      "displayName": "adeniyi adeboye",
      "userId": "02625876087283522783"
     },
     "user_tz": 240
    },
    "id": "T5dng4vSLj3H"
   },
   "outputs": [],
   "source": [
    "def dose_class_preds(assay_name, df_val, df_targets, model_preds, dose_num = dose_num):\n",
    "  \"\"\"Compute the evaluation scores for each dose treatment across all models for each profiling assay\"\"\"\n",
    "  metrics = ['roc_auc_score', 'pr_auc_score',]\n",
    "  model_name = ['mlknn_', 'resnet_', 'cnn_', 'tabnet_', 'simplenn_']\n",
    "  class_results = {}\n",
    "  for num in dose_num:\n",
    "    for pred, mdl in zip(model_preds, model_name):\n",
    "      metric_dict = {}\n",
    "      class_name = 'moa_dose_' + assay_name + mdl + str(num)\n",
    "      actual_, pred_ = get_actual_preds_dose(num, df_val, pred, df_targets)\n",
    "      eval_list = evaluate(actual_, pred_)\n",
    "      for idx, met in enumerate(metrics):\n",
    "        class_results[class_name] = metric_dict\n",
    "        class_results[class_name][met] = eval_list[idx]\n",
    "\n",
    "  return class_results"
   ]
  },
  {
   "cell_type": "code",
   "execution_count": 57,
   "metadata": {
    "executionInfo": {
     "elapsed": 47442,
     "status": "ok",
     "timestamp": 1648697908392,
     "user": {
      "displayName": "adeniyi adeboye",
      "userId": "02625876087283522783"
     },
     "user_tz": 240
    },
    "id": "5rH6JN9rLj0C"
   },
   "outputs": [],
   "source": [
    "cp_dose_preds = dose_class_preds('cp_', df_cp_test, df_cp_tst_target_pathways, cp_preds_dose)\n",
    "L1000_dose_preds = dose_class_preds('L1000_', df_L1000_test, df_L1000_tst_targets_pathways, L1_preds_dose)\n",
    "# cp_L1000_dose_preds = dose_class_preds('cp_L1000_', df_cp_L1000_test, df_cp_L1000_tst_targets, cp_L1_preds_dose)"
   ]
  },
  {
   "cell_type": "code",
   "execution_count": 58,
   "metadata": {
    "executionInfo": {
     "elapsed": 182,
     "status": "ok",
     "timestamp": 1648697908392,
     "user": {
      "displayName": "adeniyi adeboye",
      "userId": "02625876087283522783"
     },
     "user_tz": 240
    },
    "id": "_sf87O17Ljx6"
   },
   "outputs": [],
   "source": [
    "def get_class_dfs(class_preds):\n",
    "  \"\"\"Create dataframes that includes the dose prediction scores, models, and treatment doses\"\"\"  \n",
    "  df_results = pd.DataFrame([(k,k1,v1) for k,v in class_preds.items() for k1,v1 in v.items()], \n",
    "                            columns = ['id_name', 'metrics', 'values'])\n",
    "  df_results['class'] = df_results['id_name'].apply(lambda x: x.split('_')[1] + '_' + x.split('_')[-1])\n",
    "  df_results['model'] = df_results['id_name'].apply(lambda x: x.split('_')[-2])\n",
    "  df_results['profile_tech'] = df_results['id_name'].apply(lambda x: 'CP_L1000' if len(x.split('_')) > 5 else x.split('_')[2])\n",
    "  return df_results"
   ]
  },
  {
   "cell_type": "code",
   "execution_count": 59,
   "metadata": {
    "executionInfo": {
     "elapsed": 177,
     "status": "ok",
     "timestamp": 1648697908393,
     "user": {
      "displayName": "adeniyi adeboye",
      "userId": "02625876087283522783"
     },
     "user_tz": 240
    },
    "id": "NKr8TnMvLjuZ"
   },
   "outputs": [],
   "source": [
    "# df_dose_cp_L1_results = get_class_dfs(cp_L1000_dose_preds)\n",
    "df_dose_cp_results = get_class_dfs(cp_dose_preds)\n",
    "df_dose_L1_results = get_class_dfs(L1000_dose_preds)"
   ]
  },
  {
   "cell_type": "code",
   "execution_count": 60,
   "metadata": {
    "colab": {
     "base_uri": "https://localhost:8080/",
     "height": 206
    },
    "executionInfo": {
     "elapsed": 176,
     "status": "ok",
     "timestamp": 1648697908394,
     "user": {
      "displayName": "adeniyi adeboye",
      "userId": "02625876087283522783"
     },
     "user_tz": 240
    },
    "id": "fRQd85LsLjrs",
    "outputId": "d182bd02-8579-47ae-ae6d-c6cc845751ca"
   },
   "outputs": [
    {
     "data": {
      "text/html": [
       "<div>\n",
       "<style scoped>\n",
       "    .dataframe tbody tr th:only-of-type {\n",
       "        vertical-align: middle;\n",
       "    }\n",
       "\n",
       "    .dataframe tbody tr th {\n",
       "        vertical-align: top;\n",
       "    }\n",
       "\n",
       "    .dataframe thead th {\n",
       "        text-align: right;\n",
       "    }\n",
       "</style>\n",
       "<table border=\"1\" class=\"dataframe\">\n",
       "  <thead>\n",
       "    <tr style=\"text-align: right;\">\n",
       "      <th></th>\n",
       "      <th>id_name</th>\n",
       "      <th>metrics</th>\n",
       "      <th>values</th>\n",
       "      <th>class</th>\n",
       "      <th>model</th>\n",
       "      <th>profile_tech</th>\n",
       "    </tr>\n",
       "  </thead>\n",
       "  <tbody>\n",
       "    <tr>\n",
       "      <th>0</th>\n",
       "      <td>moa_dose_cp_mlknn_1</td>\n",
       "      <td>roc_auc_score</td>\n",
       "      <td>0.645556</td>\n",
       "      <td>dose_1</td>\n",
       "      <td>mlknn</td>\n",
       "      <td>cp</td>\n",
       "    </tr>\n",
       "    <tr>\n",
       "      <th>1</th>\n",
       "      <td>moa_dose_cp_mlknn_1</td>\n",
       "      <td>pr_auc_score</td>\n",
       "      <td>0.089845</td>\n",
       "      <td>dose_1</td>\n",
       "      <td>mlknn</td>\n",
       "      <td>cp</td>\n",
       "    </tr>\n",
       "    <tr>\n",
       "      <th>2</th>\n",
       "      <td>moa_dose_cp_resnet_1</td>\n",
       "      <td>roc_auc_score</td>\n",
       "      <td>0.657505</td>\n",
       "      <td>dose_1</td>\n",
       "      <td>resnet</td>\n",
       "      <td>cp</td>\n",
       "    </tr>\n",
       "    <tr>\n",
       "      <th>3</th>\n",
       "      <td>moa_dose_cp_resnet_1</td>\n",
       "      <td>pr_auc_score</td>\n",
       "      <td>0.111275</td>\n",
       "      <td>dose_1</td>\n",
       "      <td>resnet</td>\n",
       "      <td>cp</td>\n",
       "    </tr>\n",
       "    <tr>\n",
       "      <th>4</th>\n",
       "      <td>moa_dose_cp_cnn_1</td>\n",
       "      <td>roc_auc_score</td>\n",
       "      <td>0.667497</td>\n",
       "      <td>dose_1</td>\n",
       "      <td>cnn</td>\n",
       "      <td>cp</td>\n",
       "    </tr>\n",
       "  </tbody>\n",
       "</table>\n",
       "</div>"
      ],
      "text/plain": [
       "                id_name        metrics    values   class   model profile_tech\n",
       "0   moa_dose_cp_mlknn_1  roc_auc_score  0.645556  dose_1   mlknn           cp\n",
       "1   moa_dose_cp_mlknn_1   pr_auc_score  0.089845  dose_1   mlknn           cp\n",
       "2  moa_dose_cp_resnet_1  roc_auc_score  0.657505  dose_1  resnet           cp\n",
       "3  moa_dose_cp_resnet_1   pr_auc_score  0.111275  dose_1  resnet           cp\n",
       "4     moa_dose_cp_cnn_1  roc_auc_score  0.667497  dose_1     cnn           cp"
      ]
     },
     "execution_count": 60,
     "metadata": {},
     "output_type": "execute_result"
    }
   ],
   "source": [
    "df_dose_cp_results.head()"
   ]
  },
  {
   "cell_type": "code",
   "execution_count": 61,
   "metadata": {
    "executionInfo": {
     "elapsed": 151,
     "status": "ok",
     "timestamp": 1648697908395,
     "user": {
      "displayName": "adeniyi adeboye",
      "userId": "02625876087283522783"
     },
     "user_tz": 240
    },
    "id": "CJCJu-SwLjot"
   },
   "outputs": [],
   "source": [
    "df_pr_cp_dose = df_dose_cp_results[df_dose_cp_results['metrics'] == 'pr_auc_score'].copy()\n",
    "df_pr_L1_dose = df_dose_L1_results[df_dose_L1_results['metrics'] == 'pr_auc_score'].copy()\n",
    "# df_pr_cp_L1_dose = df_dose_cp_L1_results[df_dose_cp_L1_results['metrics'] == 'pr_auc_score'].copy()"
   ]
  },
  {
   "cell_type": "code",
   "execution_count": 62,
   "metadata": {
    "colab": {
     "base_uri": "https://localhost:8080/",
     "height": 223
    },
    "executionInfo": {
     "elapsed": 151,
     "status": "ok",
     "timestamp": 1648697908396,
     "user": {
      "displayName": "adeniyi adeboye",
      "userId": "02625876087283522783"
     },
     "user_tz": 240
    },
    "id": "f2exeyjjh4Dx",
    "outputId": "c85e96c5-4886-4a1a-b09b-5e809beadf6a"
   },
   "outputs": [
    {
     "name": "stdout",
     "output_type": "stream",
     "text": [
      "(60, 6)\n"
     ]
    },
    {
     "data": {
      "text/html": [
       "<div>\n",
       "<style scoped>\n",
       "    .dataframe tbody tr th:only-of-type {\n",
       "        vertical-align: middle;\n",
       "    }\n",
       "\n",
       "    .dataframe tbody tr th {\n",
       "        vertical-align: top;\n",
       "    }\n",
       "\n",
       "    .dataframe thead th {\n",
       "        text-align: right;\n",
       "    }\n",
       "</style>\n",
       "<table border=\"1\" class=\"dataframe\">\n",
       "  <thead>\n",
       "    <tr style=\"text-align: right;\">\n",
       "      <th></th>\n",
       "      <th>id_name</th>\n",
       "      <th>metrics</th>\n",
       "      <th>values</th>\n",
       "      <th>class</th>\n",
       "      <th>model</th>\n",
       "      <th>profile_tech</th>\n",
       "    </tr>\n",
       "  </thead>\n",
       "  <tbody>\n",
       "    <tr>\n",
       "      <th>1</th>\n",
       "      <td>moa_dose_cp_mlknn_1</td>\n",
       "      <td>pr_auc_score</td>\n",
       "      <td>0.089845</td>\n",
       "      <td>dose_1</td>\n",
       "      <td>mlknn</td>\n",
       "      <td>cp</td>\n",
       "    </tr>\n",
       "    <tr>\n",
       "      <th>3</th>\n",
       "      <td>moa_dose_cp_resnet_1</td>\n",
       "      <td>pr_auc_score</td>\n",
       "      <td>0.111275</td>\n",
       "      <td>dose_1</td>\n",
       "      <td>resnet</td>\n",
       "      <td>cp</td>\n",
       "    </tr>\n",
       "    <tr>\n",
       "      <th>5</th>\n",
       "      <td>moa_dose_cp_cnn_1</td>\n",
       "      <td>pr_auc_score</td>\n",
       "      <td>0.095127</td>\n",
       "      <td>dose_1</td>\n",
       "      <td>cnn</td>\n",
       "      <td>cp</td>\n",
       "    </tr>\n",
       "    <tr>\n",
       "      <th>7</th>\n",
       "      <td>moa_dose_cp_tabnet_1</td>\n",
       "      <td>pr_auc_score</td>\n",
       "      <td>0.106445</td>\n",
       "      <td>dose_1</td>\n",
       "      <td>tabnet</td>\n",
       "      <td>cp</td>\n",
       "    </tr>\n",
       "    <tr>\n",
       "      <th>9</th>\n",
       "      <td>moa_dose_cp_simplenn_1</td>\n",
       "      <td>pr_auc_score</td>\n",
       "      <td>0.101750</td>\n",
       "      <td>dose_1</td>\n",
       "      <td>simplenn</td>\n",
       "      <td>cp</td>\n",
       "    </tr>\n",
       "  </tbody>\n",
       "</table>\n",
       "</div>"
      ],
      "text/plain": [
       "                  id_name       metrics    values   class     model  \\\n",
       "1     moa_dose_cp_mlknn_1  pr_auc_score  0.089845  dose_1     mlknn   \n",
       "3    moa_dose_cp_resnet_1  pr_auc_score  0.111275  dose_1    resnet   \n",
       "5       moa_dose_cp_cnn_1  pr_auc_score  0.095127  dose_1       cnn   \n",
       "7    moa_dose_cp_tabnet_1  pr_auc_score  0.106445  dose_1    tabnet   \n",
       "9  moa_dose_cp_simplenn_1  pr_auc_score  0.101750  dose_1  simplenn   \n",
       "\n",
       "  profile_tech  \n",
       "1           cp  \n",
       "3           cp  \n",
       "5           cp  \n",
       "7           cp  \n",
       "9           cp  "
      ]
     },
     "execution_count": 62,
     "metadata": {},
     "output_type": "execute_result"
    }
   ],
   "source": [
    "# Output files\n",
    "full_dose_results_df = pd.concat([\n",
    "    df_pr_cp_dose,\n",
    "    df_pr_L1_dose,\n",
    "])\n",
    "\n",
    "output_file = pathlib.Path(\"performance_results/all_pathway_performance_metrics_by_dose.csv\")\n",
    "full_dose_results_df.to_csv(output_file, index=False)\n",
    "\n",
    "print(full_dose_results_df.shape)\n",
    "full_dose_results_df.head()"
   ]
  },
  {
   "cell_type": "code",
   "execution_count": 63,
   "metadata": {
    "executionInfo": {
     "elapsed": 130,
     "status": "ok",
     "timestamp": 1648697908397,
     "user": {
      "displayName": "adeniyi adeboye",
      "userId": "02625876087283522783"
     },
     "user_tz": 240
    },
    "id": "xzxUtKlDLjli"
   },
   "outputs": [],
   "source": [
    "def top_class_auc(df):\n",
    "  \"\"\"Out of all the predictive scores across all models, CHOOSE the best model prediction score for each treatment dose\"\"\"\n",
    "  df_max_class = df.groupby(['class']).agg(['max'])\n",
    "  df_max_class.columns = df_max_class.columns.droplevel(1)\n",
    "  df_max_class.rename_axis(None, axis=0, inplace = True)\n",
    "  df_max_class = df_max_class.reset_index().rename(columns={\"index\": \"class\"})\n",
    "  df_cls_top_auc = df_max_class.sort_values(by='values', ascending = False)\n",
    "  df_cls_top_auc.reset_index(drop=True, inplace = True)\n",
    "  df_cls_top_auc.drop(['id_name', 'model'], axis = 1, inplace = True)\n",
    "  return df_cls_top_auc"
   ]
  },
  {
   "cell_type": "code",
   "execution_count": 64,
   "metadata": {
    "executionInfo": {
     "elapsed": 79,
     "status": "ok",
     "timestamp": 1648697908549,
     "user": {
      "displayName": "adeniyi adeboye",
      "userId": "02625876087283522783"
     },
     "user_tz": 240
    },
    "id": "cfW585RSLjiE"
   },
   "outputs": [],
   "source": [
    "df_top_dose_pr_cp = top_class_auc(df_pr_cp_dose)\n",
    "df_top_dose_pr_L1 = top_class_auc(df_pr_L1_dose)\n",
    "# df_top_dose_pr_cp_L1 = top_class_auc(df_pr_cp_L1_dose)"
   ]
  },
  {
   "cell_type": "code",
   "execution_count": 65,
   "metadata": {
    "colab": {
     "base_uri": "https://localhost:8080/",
     "height": 238
    },
    "executionInfo": {
     "elapsed": 79,
     "status": "ok",
     "timestamp": 1648697908551,
     "user": {
      "displayName": "adeniyi adeboye",
      "userId": "02625876087283522783"
     },
     "user_tz": 240
    },
    "id": "BliL4C_WHozd",
    "outputId": "805f2640-ad58-422c-c57b-f0b42ef1c96b"
   },
   "outputs": [
    {
     "data": {
      "text/html": [
       "<div>\n",
       "<style scoped>\n",
       "    .dataframe tbody tr th:only-of-type {\n",
       "        vertical-align: middle;\n",
       "    }\n",
       "\n",
       "    .dataframe tbody tr th {\n",
       "        vertical-align: top;\n",
       "    }\n",
       "\n",
       "    .dataframe thead th {\n",
       "        text-align: right;\n",
       "    }\n",
       "</style>\n",
       "<table border=\"1\" class=\"dataframe\">\n",
       "  <thead>\n",
       "    <tr style=\"text-align: right;\">\n",
       "      <th></th>\n",
       "      <th>class</th>\n",
       "      <th>metrics</th>\n",
       "      <th>values</th>\n",
       "      <th>profile_tech</th>\n",
       "    </tr>\n",
       "  </thead>\n",
       "  <tbody>\n",
       "    <tr>\n",
       "      <th>0</th>\n",
       "      <td>dose_5</td>\n",
       "      <td>pr_auc_score</td>\n",
       "      <td>0.146667</td>\n",
       "      <td>cp</td>\n",
       "    </tr>\n",
       "    <tr>\n",
       "      <th>1</th>\n",
       "      <td>dose_6</td>\n",
       "      <td>pr_auc_score</td>\n",
       "      <td>0.145802</td>\n",
       "      <td>cp</td>\n",
       "    </tr>\n",
       "    <tr>\n",
       "      <th>2</th>\n",
       "      <td>dose_4</td>\n",
       "      <td>pr_auc_score</td>\n",
       "      <td>0.137144</td>\n",
       "      <td>cp</td>\n",
       "    </tr>\n",
       "    <tr>\n",
       "      <th>3</th>\n",
       "      <td>dose_3</td>\n",
       "      <td>pr_auc_score</td>\n",
       "      <td>0.127296</td>\n",
       "      <td>cp</td>\n",
       "    </tr>\n",
       "    <tr>\n",
       "      <th>4</th>\n",
       "      <td>dose_2</td>\n",
       "      <td>pr_auc_score</td>\n",
       "      <td>0.119893</td>\n",
       "      <td>cp</td>\n",
       "    </tr>\n",
       "    <tr>\n",
       "      <th>5</th>\n",
       "      <td>dose_1</td>\n",
       "      <td>pr_auc_score</td>\n",
       "      <td>0.111275</td>\n",
       "      <td>cp</td>\n",
       "    </tr>\n",
       "  </tbody>\n",
       "</table>\n",
       "</div>"
      ],
      "text/plain": [
       "    class       metrics    values profile_tech\n",
       "0  dose_5  pr_auc_score  0.146667           cp\n",
       "1  dose_6  pr_auc_score  0.145802           cp\n",
       "2  dose_4  pr_auc_score  0.137144           cp\n",
       "3  dose_3  pr_auc_score  0.127296           cp\n",
       "4  dose_2  pr_auc_score  0.119893           cp\n",
       "5  dose_1  pr_auc_score  0.111275           cp"
      ]
     },
     "execution_count": 65,
     "metadata": {},
     "output_type": "execute_result"
    }
   ],
   "source": [
    "df_top_dose_pr_cp"
   ]
  },
  {
   "cell_type": "code",
   "execution_count": 66,
   "metadata": {
    "executionInfo": {
     "elapsed": 88,
     "status": "ok",
     "timestamp": 1648697908563,
     "user": {
      "displayName": "adeniyi adeboye",
      "userId": "02625876087283522783"
     },
     "user_tz": 240
    },
    "id": "eXrjuqS-N2bV"
   },
   "outputs": [],
   "source": [
    "df_best_doses = pd.concat([df_top_dose_pr_cp, df_top_dose_pr_L1], ignore_index = True)"
   ]
  },
  {
   "cell_type": "code",
   "execution_count": 67,
   "metadata": {
    "executionInfo": {
     "elapsed": 88,
     "status": "ok",
     "timestamp": 1648697908564,
     "user": {
      "displayName": "adeniyi adeboye",
      "userId": "02625876087283522783"
     },
     "user_tz": 240
    },
    "id": "7H0kDPCnN2X3"
   },
   "outputs": [],
   "source": [
    "df_dose_no_skill = pd.DataFrame(dose_no_skill_scrs.items(), columns = ['id_name', 'values'])"
   ]
  },
  {
   "cell_type": "code",
   "execution_count": 68,
   "metadata": {
    "executionInfo": {
     "elapsed": 91,
     "status": "ok",
     "timestamp": 1648697908567,
     "user": {
      "displayName": "adeniyi adeboye",
      "userId": "02625876087283522783"
     },
     "user_tz": 240
    },
    "id": "Va-ZEGMpN2T9"
   },
   "outputs": [],
   "source": [
    "df_dose_no_skill['class'] = df_dose_no_skill['id_name'].apply(lambda x: x.split('_')[0] + '_' + x.split('_')[-1])\n",
    "df_dose_no_skill['profile_tech'] = 'No_skill'\n",
    "df_dose_no_skill['metrics'] = 'No_skill'"
   ]
  },
  {
   "cell_type": "code",
   "execution_count": 69,
   "metadata": {
    "executionInfo": {
     "elapsed": 91,
     "status": "ok",
     "timestamp": 1648697908568,
     "user": {
      "displayName": "adeniyi adeboye",
      "userId": "02625876087283522783"
     },
     "user_tz": 240
    },
    "id": "JtBMmyvAN2Q1"
   },
   "outputs": [],
   "source": [
    "df_dose_no_skill.drop(['id_name'], axis = 1, inplace = True)"
   ]
  },
  {
   "cell_type": "code",
   "execution_count": 70,
   "metadata": {
    "executionInfo": {
     "elapsed": 91,
     "status": "ok",
     "timestamp": 1648697908568,
     "user": {
      "displayName": "adeniyi adeboye",
      "userId": "02625876087283522783"
     },
     "user_tz": 240
    },
    "id": "nMEg_yZON2N2"
   },
   "outputs": [],
   "source": [
    "df_best_doses = pd.concat([df_best_doses, df_dose_no_skill], ignore_index = True)"
   ]
  },
  {
   "cell_type": "code",
   "execution_count": 71,
   "metadata": {
    "executionInfo": {
     "elapsed": 91,
     "status": "ok",
     "timestamp": 1648697908569,
     "user": {
      "displayName": "adeniyi adeboye",
      "userId": "02625876087283522783"
     },
     "user_tz": 240
    },
    "id": "K1gm65udONRI"
   },
   "outputs": [],
   "source": [
    "df_best_doses['class'] = df_best_doses['class'].map({'dose_1': 0.04, 'dose_2': 0.12, 'dose_3':0.37, 'dose_4':1.11, 'dose_5':3.33, 'dose_6':10})\n",
    "df_best_doses['profile_tech'] = df_best_doses['profile_tech'].map({'cp': 'Cell painting', 'L1000': 'L1000', 'CP_L1000':'Cell Painting and L1000', 'No_skill':'Baseline'})"
   ]
  },
  {
   "cell_type": "code",
   "execution_count": 72,
   "metadata": {
    "executionInfo": {
     "elapsed": 90,
     "status": "ok",
     "timestamp": 1648697908569,
     "user": {
      "displayName": "adeniyi adeboye",
      "userId": "02625876087283522783"
     },
     "user_tz": 240
    },
    "id": "yjCMYsy0ONOO"
   },
   "outputs": [],
   "source": [
    "df_best_doses['values'] = df_best_doses['values'].apply(lambda x:x*100)"
   ]
  },
  {
   "cell_type": "code",
   "execution_count": 73,
   "metadata": {
    "executionInfo": {
     "elapsed": 97,
     "status": "ok",
     "timestamp": 1648697908576,
     "user": {
      "displayName": "adeniyi adeboye",
      "userId": "02625876087283522783"
     },
     "user_tz": 240
    },
    "id": "BvszZ9uDONK9"
   },
   "outputs": [],
   "source": [
    "dose_baseline = np.mean(list(dose_no_skill_scrs.values()))*100"
   ]
  },
  {
   "cell_type": "code",
   "execution_count": 74,
   "metadata": {
    "colab": {
     "base_uri": "https://localhost:8080/"
    },
    "executionInfo": {
     "elapsed": 91,
     "status": "ok",
     "timestamp": 1648697908577,
     "user": {
      "displayName": "adeniyi adeboye",
      "userId": "02625876087283522783"
     },
     "user_tz": 240
    },
    "id": "EbPrw-fuOe3X",
    "outputId": "845393c9-1965-4a25-ce8a-643d64615dfd"
   },
   "outputs": [
    {
     "data": {
      "text/plain": [
       "3.4222951221755524"
      ]
     },
     "execution_count": 74,
     "metadata": {},
     "output_type": "execute_result"
    }
   ],
   "source": [
    "dose_baseline"
   ]
  },
  {
   "cell_type": "code",
   "execution_count": 75,
   "metadata": {
    "colab": {
     "base_uri": "https://localhost:8080/",
     "height": 410
    },
    "executionInfo": {
     "elapsed": 920,
     "status": "ok",
     "timestamp": 1648697909449,
     "user": {
      "displayName": "adeniyi adeboye",
      "userId": "02625876087283522783"
     },
     "user_tz": 240
    },
    "id": "wxoDppGLONH1",
    "outputId": "7f6037da-48bc-4d0a-8fb5-2658053ab242"
   },
   "outputs": [
    {
     "data": {
      "text/plain": [
       "Text(-0.42, 3.65, 'Baseline')"
      ]
     },
     "execution_count": 75,
     "metadata": {},
     "output_type": "execute_result"
    },
    {
     "data": {
      "image/png": "[encoded data removed]",
      "text/plain": [
       "<Figure size 967.13x388.8 with 1 Axes>"
      ]
     },
     "metadata": {},
     "output_type": "display_data"
    }
   ],
   "source": [
    "##plot moa predictions PER dose treatment\n",
    "cat_plt = sns.catplot(x=\"class\", y=\"values\",\n",
    "                hue=\"profile_tech\", data=df_best_doses, kind=\"bar\", palette=\"gray_r\",\n",
    "                height=5.4, aspect=2.1)\n",
    "cat_plt._legend.set_title('')\n",
    "cat_plt.set_axis_labels(\"Dose\", \"PR-AUC score %\")\n",
    "cat_plt.fig.suptitle(\"PR-AUC scores for Dose classes\")\n",
    "cat_plt.fig.subplots_adjust(top=.93)\n",
    "plt.savefig(os.path.join(model_preds_figures, \"pr_auc_pathway_all_dose.png\"))\n",
    "plt.axhline(dose_baseline, ls='--', linewidth=3, color='red')\n",
    "plt.text(-0.42,3.65, \"Baseline\", color='red')"
   ]
  },
  {
   "cell_type": "markdown",
   "metadata": {
    "id": "bBPdDD5tPJ74"
   },
   "source": [
    "### - Test set MOA Pathways predictions"
   ]
  },
  {
   "cell_type": "code",
   "execution_count": 76,
   "metadata": {
    "executionInfo": {
     "elapsed": 14,
     "status": "ok",
     "timestamp": 1648697909450,
     "user": {
      "displayName": "adeniyi adeboye",
      "userId": "02625876087283522783"
     },
     "user_tz": 240
    },
    "id": "LigVxWaKOwgN"
   },
   "outputs": [],
   "source": [
    "def evaluate_pathway(actual, pred, pathway):\n",
    "  \"\"\"Evaluate model predictions on an individual MOA basis using PR-AUC & ROC-AUC\"\"\"\n",
    "  metrics_dict={}\n",
    "  metrics_dict['roc_auc_score'] = roc_auc_score(actual.loc[:,pathway], pred.loc[:,pathway], average='macro')\n",
    "  metrics_dict['pr_auc_score'] = average_precision_score(actual.loc[:,pathway], pred.loc[:,pathway], average=\"micro\")\n",
    "  return metrics_dict"
   ]
  },
  {
   "cell_type": "code",
   "execution_count": 77,
   "metadata": {
    "executionInfo": {
     "elapsed": 11,
     "status": "ok",
     "timestamp": 1648697909450,
     "user": {
      "displayName": "adeniyi adeboye",
      "userId": "02625876087283522783"
     },
     "user_tz": 240
    },
    "id": "JYYwRE6EP0R9"
   },
   "outputs": [],
   "source": [
    "target_pathways = df_cp_tst_target_pathways.columns.tolist()"
   ]
  },
  {
   "cell_type": "code",
   "execution_count": 78,
   "metadata": {
    "executionInfo": {
     "elapsed": 95615,
     "status": "ok",
     "timestamp": 1648698005055,
     "user": {
      "displayName": "adeniyi adeboye",
      "userId": "02625876087283522783"
     },
     "user_tz": 240
    },
    "id": "2SlVw94QONE1"
   },
   "outputs": [],
   "source": [
    "pathway_results = {}\n",
    "for pathway in target_pathways:\n",
    "  for idx, (assay_name, actual_df) in enumerate(zip(assays, targets_dfs)):\n",
    "    for mdl, pred_df in zip(model_name, preds_all[idx]):\n",
    "      model_score = {}\n",
    "      score_name = pathway + '_' +assay_name + mdl\n",
    "      pathway_eval_dict = evaluate_pathway(actual_df, pred_df, pathway)\n",
    "      pathway_results[score_name] = pathway_eval_dict"
   ]
  },
  {
   "cell_type": "code",
   "execution_count": 79,
   "metadata": {
    "executionInfo": {
     "elapsed": 27,
     "status": "ok",
     "timestamp": 1648698005056,
     "user": {
      "displayName": "adeniyi adeboye",
      "userId": "02625876087283522783"
     },
     "user_tz": 240
    },
    "id": "ZsYboMYlONBd"
   },
   "outputs": [],
   "source": [
    "df_pathway_preds = pd.DataFrame([(k,k1,v1) for k,v in pathway_results.items() for k1,v1 in v.items()], \n",
    "                              columns = ['id_name', 'metrics', 'values'])"
   ]
  },
  {
   "cell_type": "code",
   "execution_count": 80,
   "metadata": {
    "executionInfo": {
     "elapsed": 331,
     "status": "ok",
     "timestamp": 1648698005362,
     "user": {
      "displayName": "adeniyi adeboye",
      "userId": "02625876087283522783"
     },
     "user_tz": 240
    },
    "id": "WGZb_P08QhtT"
   },
   "outputs": [],
   "source": [
    "df_pathway_preds['pathway'] = df_pathway_preds['id_name'].apply(lambda x: x.split('_')[0])\n",
    "df_pathway_preds['model'] = df_pathway_preds['id_name'].apply(lambda x: x.split('_')[-1])\n",
    "df_pathway_preds['profile_tech'] = df_pathway_preds['id_name'].apply(lambda x: 'CP_L1000' if len(x.split('_')) == 4 else x.split('_')[1])"
   ]
  },
  {
   "cell_type": "code",
   "execution_count": 81,
   "metadata": {
    "colab": {
     "base_uri": "https://localhost:8080/"
    },
    "executionInfo": {
     "elapsed": 33,
     "status": "ok",
     "timestamp": 1648698005363,
     "user": {
      "displayName": "adeniyi adeboye",
      "userId": "02625876087283522783"
     },
     "user_tz": 240
    },
    "id": "sJDV72F5QhnB",
    "outputId": "5b6e37c9-552f-4a76-92dc-220cf9d117c1"
   },
   "outputs": [
    {
     "data": {
      "text/plain": [
       "array(['mlknn', 'resnet', 'cnn', 'tabnet', 'simplenn', 'mlknnshuf',\n",
       "       'resnetshuf', 'cnnshuf', 'tabnetshuf', 'simplennshuf', 'blend'],\n",
       "      dtype=object)"
      ]
     },
     "execution_count": 81,
     "metadata": {},
     "output_type": "execute_result"
    }
   ],
   "source": [
    "df_pathway_preds['model'].unique()"
   ]
  },
  {
   "cell_type": "code",
   "execution_count": 82,
   "metadata": {
    "colab": {
     "base_uri": "https://localhost:8080/"
    },
    "executionInfo": {
     "elapsed": 25,
     "status": "ok",
     "timestamp": 1648698005363,
     "user": {
      "displayName": "adeniyi adeboye",
      "userId": "02625876087283522783"
     },
     "user_tz": 240
    },
    "id": "JuHth8kHQhhx",
    "outputId": "e12395d8-6862-4b19-f08f-ae839357a014"
   },
   "outputs": [
    {
     "data": {
      "text/plain": [
       "['mlknn', 'resnet', 'cnn', 'tabnet', 'simplenn', 'blend']"
      ]
     },
     "execution_count": 82,
     "metadata": {},
     "output_type": "execute_result"
    }
   ],
   "source": [
    "normal_models"
   ]
  },
  {
   "cell_type": "code",
   "execution_count": 83,
   "metadata": {
    "colab": {
     "base_uri": "https://localhost:8080/"
    },
    "executionInfo": {
     "elapsed": 19,
     "status": "ok",
     "timestamp": 1648698005364,
     "user": {
      "displayName": "adeniyi adeboye",
      "userId": "02625876087283522783"
     },
     "user_tz": 240
    },
    "id": "IrZMbGrdRded",
    "outputId": "7fa66494-25b3-4671-d10e-d420a82eff0c"
   },
   "outputs": [
    {
     "data": {
      "text/plain": [
       "['mlknnshuf', 'resnetshuf', 'cnnshuf', 'tabnetshuf', 'simplennshuf']"
      ]
     },
     "execution_count": 83,
     "metadata": {},
     "output_type": "execute_result"
    }
   ],
   "source": [
    "shuffle_models"
   ]
  },
  {
   "cell_type": "code",
   "execution_count": 84,
   "metadata": {
    "executionInfo": {
     "elapsed": 16,
     "status": "ok",
     "timestamp": 1648698005364,
     "user": {
      "displayName": "adeniyi adeboye",
      "userId": "02625876087283522783"
     },
     "user_tz": 240
    },
    "id": "jTj0Xi77Qhe5"
   },
   "outputs": [],
   "source": [
    "df_pathway_preds_normal = df_pathway_preds[df_pathway_preds['model'].isin(normal_models)].reset_index(drop=True)\n",
    "df_pathway_preds_shuffle = df_pathway_preds[df_pathway_preds['model'].isin(shuffle_models)].reset_index(drop=True)"
   ]
  },
  {
   "cell_type": "code",
   "execution_count": 85,
   "metadata": {
    "executionInfo": {
     "elapsed": 15,
     "status": "ok",
     "timestamp": 1648698005364,
     "user": {
      "displayName": "adeniyi adeboye",
      "userId": "02625876087283522783"
     },
     "user_tz": 240
    },
    "id": "m4Ep7gYJRkLN"
   },
   "outputs": [],
   "source": [
    "def get_profile_tech_preds(df):\n",
    "  \"\"\"Get dataframes for each profiling assays\"\"\"\n",
    "  df_cp = df[df['profile_tech'] == 'CP'].reset_index(drop=True)\n",
    "  df_L1 = df[df['profile_tech'] == 'L1000'].reset_index(drop=True)\n",
    "  # df_cp_L1 = df[df['profile_tech'] == 'CP_L1000'].reset_index(drop=True)\n",
    "  return df_cp,df_L1"
   ]
  },
  {
   "cell_type": "code",
   "execution_count": 86,
   "metadata": {
    "executionInfo": {
     "elapsed": 141,
     "status": "ok",
     "timestamp": 1648698005490,
     "user": {
      "displayName": "adeniyi adeboye",
      "userId": "02625876087283522783"
     },
     "user_tz": 240
    },
    "id": "ZS47zCLgRkH_"
   },
   "outputs": [],
   "source": [
    "df_pathway_cp_preds, df_pathway_L1_preds = get_profile_tech_preds(df_pathway_preds_normal)\n",
    "df_pathway_cp_shuf, df_pathway_L1_shuf = get_profile_tech_preds(df_pathway_preds_shuffle)"
   ]
  },
  {
   "cell_type": "code",
   "execution_count": 87,
   "metadata": {
    "executionInfo": {
     "elapsed": 8,
     "status": "ok",
     "timestamp": 1648698005491,
     "user": {
      "displayName": "adeniyi adeboye",
      "userId": "02625876087283522783"
     },
     "user_tz": 240
    },
    "id": "avqLLhgLR__J"
   },
   "outputs": [],
   "source": [
    "def get_metric_preds(df_cp,df_L1):\n",
    "  \"\"\"Get PR-AUC scores for each profiling assays\"\"\"\n",
    "  df_pr_cp = df_cp[df_cp['metrics'] == 'pr_auc_score'].copy()\n",
    "  df_pr_L1 = df_L1[df_L1['metrics'] == 'pr_auc_score'].copy()\n",
    "  # df_pr_cp_L1 = df_cp_L1[df_cp_L1['metrics'] == 'pr_auc_score'].copy()\n",
    "  return df_pr_cp,df_pr_L1"
   ]
  },
  {
   "cell_type": "code",
   "execution_count": 88,
   "metadata": {
    "executionInfo": {
     "elapsed": 9,
     "status": "ok",
     "timestamp": 1648698005492,
     "user": {
      "displayName": "adeniyi adeboye",
      "userId": "02625876087283522783"
     },
     "user_tz": 240
    },
    "id": "ELcMqSucR_2R"
   },
   "outputs": [],
   "source": [
    "df_pr_cp_preds, df_pr_L1_preds = get_metric_preds(df_pathway_cp_preds, df_pathway_L1_preds)\n",
    "df_pr_cp_shuf, df_pr_L1_shuf = get_metric_preds(df_pathway_cp_shuf, df_pathway_L1_shuf)"
   ]
  },
  {
   "cell_type": "code",
   "execution_count": 89,
   "metadata": {
    "executionInfo": {
     "elapsed": 9,
     "status": "ok",
     "timestamp": 1648698005492,
     "user": {
      "displayName": "adeniyi adeboye",
      "userId": "02625876087283522783"
     },
     "user_tz": 240
    },
    "id": "iwBFHfgxR_zV"
   },
   "outputs": [],
   "source": [
    "def top_pathway_auc(df):\n",
    "  \"\"\"Choose the best model predictive scores among all model predictions for each MOA\"\"\"\n",
    "  df_max_pathway = df.groupby(['pathway']).agg(['max'])\n",
    "  df_max_pathway.columns = df_max_pathway.columns.droplevel(1)\n",
    "  df_max_pathway.rename_axis(None, axis=0, inplace = True)\n",
    "  df_max_pathway = df_max_pathway.reset_index().rename(columns={\"index\": \"pathway\"})\n",
    "  df_pathway_top_auc = df_max_pathway.sort_values(by='values', ascending = False)\n",
    "  df_pathway_top_auc.reset_index(drop=True, inplace = True)\n",
    "  df_pathway_top_auc.drop(['id_name', 'model'], axis = 1, inplace = True)\n",
    "  return df_pathway_top_auc"
   ]
  },
  {
   "cell_type": "code",
   "execution_count": 90,
   "metadata": {
    "executionInfo": {
     "elapsed": 478,
     "status": "ok",
     "timestamp": 1648698005962,
     "user": {
      "displayName": "adeniyi adeboye",
      "userId": "02625876087283522783"
     },
     "user_tz": 240
    },
    "id": "fETexsqnRkEu"
   },
   "outputs": [],
   "source": [
    "df_top_pathway_pr_cp = top_pathway_auc(df_pr_cp_preds)\n",
    "df_top_pathway_pr_L1 = top_pathway_auc(df_pr_L1_preds)\n",
    "# df_top_moa_pr_cp_L1 = top_moa_auc(df_pr_cp_L1_preds)"
   ]
  },
  {
   "cell_type": "code",
   "execution_count": 91,
   "metadata": {
    "executionInfo": {
     "elapsed": 728,
     "status": "ok",
     "timestamp": 1648698006683,
     "user": {
      "displayName": "adeniyi adeboye",
      "userId": "02625876087283522783"
     },
     "user_tz": 240
    },
    "id": "59LTh6TSRkBY"
   },
   "outputs": [],
   "source": [
    "df_shuf_pathway_pr_cp = top_pathway_auc(df_pr_cp_shuf)\n",
    "df_shuf_pathway_pr_L1 = top_pathway_auc(df_pr_L1_shuf)\n",
    "# df_shuf_moa_pr_cp_L1 = top_moa_auc(df_pr_cp_L1_shuf)"
   ]
  },
  {
   "cell_type": "code",
   "execution_count": 92,
   "metadata": {
    "executionInfo": {
     "elapsed": 33,
     "status": "ok",
     "timestamp": 1648698006684,
     "user": {
      "displayName": "adeniyi adeboye",
      "userId": "02625876087283522783"
     },
     "user_tz": 240
    },
    "id": "_rMqvl5TTEz7"
   },
   "outputs": [],
   "source": [
    "pathway_cp_baseline = np.mean(df_shuf_pathway_pr_cp['values'])\n",
    "pathway_L1_baseline = np.mean(df_shuf_pathway_pr_L1['values'])\n",
    "# moa_cp_L1_baseline = np.mean(df_shuf_moa_pr_cp_L1['values'])"
   ]
  },
  {
   "cell_type": "code",
   "execution_count": 93,
   "metadata": {
    "executionInfo": {
     "elapsed": 41,
     "status": "ok",
     "timestamp": 1648698006694,
     "user": {
      "displayName": "adeniyi adeboye",
      "userId": "02625876087283522783"
     },
     "user_tz": 240
    },
    "id": "EogLQPnITEwf"
   },
   "outputs": [],
   "source": [
    "df_pathway_pr_cp = df_top_pathway_pr_cp[['pathway', 'values']].copy()\n",
    "df_pathway_pr_L1 = df_top_pathway_pr_L1[['pathway', 'values']].copy()\n",
    "# df_moa_pr_cp_L1 = df_top_moa_pr_cp_L1[['moa', 'values']].copy()"
   ]
  },
  {
   "cell_type": "code",
   "execution_count": 94,
   "metadata": {
    "executionInfo": {
     "elapsed": 39,
     "status": "ok",
     "timestamp": 1648698006694,
     "user": {
      "displayName": "adeniyi adeboye",
      "userId": "02625876087283522783"
     },
     "user_tz": 240
    },
    "id": "JG-IDSUBTEtF"
   },
   "outputs": [],
   "source": [
    "df_pathway_pr_cp.rename(columns={\"values\": \"cp_values\"}, inplace = True)\n",
    "df_pathway_pr_L1.rename(columns={\"values\": \"L1_values\"}, inplace = True)\n",
    "# df_moa_pr_cp_L1.rename(columns={\"values\": \"cp_L1_values\"}, inplace = True)"
   ]
  },
  {
   "cell_type": "code",
   "execution_count": 95,
   "metadata": {
    "executionInfo": {
     "elapsed": 36,
     "status": "ok",
     "timestamp": 1648698006695,
     "user": {
      "displayName": "adeniyi adeboye",
      "userId": "02625876087283522783"
     },
     "user_tz": 240
    },
    "id": "42x_QZJ2TEp1"
   },
   "outputs": [],
   "source": [
    "df_pathway_prs = pd.merge(df_pathway_pr_cp, df_pathway_pr_L1, on='pathway')"
   ]
  },
  {
   "cell_type": "code",
   "execution_count": 96,
   "metadata": {
    "colab": {
     "base_uri": "https://localhost:8080/",
     "height": 363
    },
    "executionInfo": {
     "elapsed": 34,
     "status": "ok",
     "timestamp": 1648698006695,
     "user": {
      "displayName": "adeniyi adeboye",
      "userId": "02625876087283522783"
     },
     "user_tz": 240
    },
    "id": "lBEiXWBSRj-F",
    "outputId": "900f7cf7-06b1-41eb-a536-e9ea80346b7f"
   },
   "outputs": [
    {
     "data": {
      "text/html": [
       "<div>\n",
       "<style scoped>\n",
       "    .dataframe tbody tr th:only-of-type {\n",
       "        vertical-align: middle;\n",
       "    }\n",
       "\n",
       "    .dataframe tbody tr th {\n",
       "        vertical-align: top;\n",
       "    }\n",
       "\n",
       "    .dataframe thead th {\n",
       "        text-align: right;\n",
       "    }\n",
       "</style>\n",
       "<table border=\"1\" class=\"dataframe\">\n",
       "  <thead>\n",
       "    <tr style=\"text-align: right;\">\n",
       "      <th></th>\n",
       "      <th>pathway</th>\n",
       "      <th>cp_values</th>\n",
       "      <th>L1_values</th>\n",
       "    </tr>\n",
       "  </thead>\n",
       "  <tbody>\n",
       "    <tr>\n",
       "      <th>0</th>\n",
       "      <td>GO:0030182</td>\n",
       "      <td>0.525947</td>\n",
       "      <td>0.465340</td>\n",
       "    </tr>\n",
       "    <tr>\n",
       "      <th>1</th>\n",
       "      <td>GO:0006325</td>\n",
       "      <td>0.499447</td>\n",
       "      <td>0.412844</td>\n",
       "    </tr>\n",
       "    <tr>\n",
       "      <th>2</th>\n",
       "      <td>GO:0005515</td>\n",
       "      <td>0.481301</td>\n",
       "      <td>0.473200</td>\n",
       "    </tr>\n",
       "    <tr>\n",
       "      <th>3</th>\n",
       "      <td>GO:0001046</td>\n",
       "      <td>0.440150</td>\n",
       "      <td>0.357385</td>\n",
       "    </tr>\n",
       "    <tr>\n",
       "      <th>4</th>\n",
       "      <td>GO:0005886</td>\n",
       "      <td>0.428657</td>\n",
       "      <td>0.409289</td>\n",
       "    </tr>\n",
       "    <tr>\n",
       "      <th>5</th>\n",
       "      <td>GO:0071560</td>\n",
       "      <td>0.391285</td>\n",
       "      <td>0.319767</td>\n",
       "    </tr>\n",
       "    <tr>\n",
       "      <th>6</th>\n",
       "      <td>GO:0051879</td>\n",
       "      <td>0.382026</td>\n",
       "      <td>0.314308</td>\n",
       "    </tr>\n",
       "    <tr>\n",
       "      <th>7</th>\n",
       "      <td>GO:1900087</td>\n",
       "      <td>0.379012</td>\n",
       "      <td>0.251704</td>\n",
       "    </tr>\n",
       "    <tr>\n",
       "      <th>8</th>\n",
       "      <td>GO:0043130</td>\n",
       "      <td>0.345620</td>\n",
       "      <td>0.261019</td>\n",
       "    </tr>\n",
       "    <tr>\n",
       "      <th>9</th>\n",
       "      <td>GO:0034599</td>\n",
       "      <td>0.340401</td>\n",
       "      <td>0.297877</td>\n",
       "    </tr>\n",
       "  </tbody>\n",
       "</table>\n",
       "</div>"
      ],
      "text/plain": [
       "      pathway  cp_values  L1_values\n",
       "0  GO:0030182   0.525947   0.465340\n",
       "1  GO:0006325   0.499447   0.412844\n",
       "2  GO:0005515   0.481301   0.473200\n",
       "3  GO:0001046   0.440150   0.357385\n",
       "4  GO:0005886   0.428657   0.409289\n",
       "5  GO:0071560   0.391285   0.319767\n",
       "6  GO:0051879   0.382026   0.314308\n",
       "7  GO:1900087   0.379012   0.251704\n",
       "8  GO:0043130   0.345620   0.261019\n",
       "9  GO:0034599   0.340401   0.297877"
      ]
     },
     "execution_count": 96,
     "metadata": {},
     "output_type": "execute_result"
    }
   ],
   "source": [
    "df_pathway_prs.head(10)"
   ]
  },
  {
   "cell_type": "code",
   "execution_count": 97,
   "metadata": {
    "executionInfo": {
     "elapsed": 588,
     "status": "ok",
     "timestamp": 1648698007251,
     "user": {
      "displayName": "adeniyi adeboye",
      "userId": "02625876087283522783"
     },
     "user_tz": 240
    },
    "id": "OWBjuM0Bimp2"
   },
   "outputs": [],
   "source": [
    "# Output individual MOA Precision Recall\n",
    "output_file = pathlib.Path(\"performance_results/pathway_precision_recall.csv\")\n",
    "df_pathway_prs.to_csv(output_file, index=False)"
   ]
  },
  {
   "cell_type": "markdown",
   "metadata": {
    "id": "g3jRXnAoWsPd"
   },
   "source": [
    "### - Plot Individual Pathway predictions\n",
    "\n",
    "##### - Note: The red horizontal and vertical lines are PR-AUC baseline score based on getting the average shuffle moa predictions across all Pathways for each profiling assays i.e. Cell Painting (CP), L1000"
   ]
  },
  {
   "cell_type": "code",
   "execution_count": 98,
   "metadata": {
    "executionInfo": {
     "elapsed": 15,
     "status": "ok",
     "timestamp": 1648698007252,
     "user": {
      "displayName": "adeniyi adeboye",
      "userId": "02625876087283522783"
     },
     "user_tz": 240
    },
    "id": "_Jg9GLODWpBf"
   },
   "outputs": [],
   "source": [
    "def plot_pathway_predictions(df, file_name, col_x, col_y, x_label, y_label, title_label, baseline_x, baseline_y, path=model_preds_figures):\n",
    "  \"\"\"Plot Pathway PR-AUC scores for profiling assays\"\"\"\n",
    "  if not os.path.exists(path):\n",
    "    os.mkdir(path)\n",
    "  value=((df[col_y] > 0.3) | (df[col_x] > 0.3))\n",
    "  df['color']= np.where(value==True, \"purple\", \"skyblue\")\n",
    "  plt.figure(figsize=(18,10))\n",
    "  reg_plt=sns.regplot(data=df, x=col_x, y=col_y, fit_reg=False, marker=\"o\", color=\"skyblue\", scatter_kws={'facecolors':df['color'], 's':100})\n",
    "  reg_plt.set_title(f\"{title_label}, annotating Pathways above 0.3 PR-AUC scores\")\n",
    "  reg_plt.set(xlabel=x_label, ylabel=y_label)\n",
    "  plt.axhline(baseline_y, ls='--', linewidth=3, color='red', alpha=0.5)\n",
    "  plt.axvline(baseline_x, ls='--', linewidth=3, color='red', alpha=0.5)\n",
    "  ##add annotations one by one with a loop\n",
    "  text = [reg_plt.text(df[col_x][line], df[col_y][line], df.pathway[line],\n",
    "                       fontdict=dict(color= 'black',size=11.5),) for line in range(df.shape[0]) \n",
    "                       if (((df[col_x][line] > 0.3) | (df[col_y][line] > 0.3)))]\n",
    "  adjust_text(text, arrowprops=dict(arrowstyle=\"-\", color='k', lw=0.5))\n",
    "  plt.savefig(os.path.join(path, file_name))\n",
    "  plt.show()"
   ]
  },
  {
   "cell_type": "code",
   "execution_count": 99,
   "metadata": {
    "colab": {
     "base_uri": "https://localhost:8080/",
     "height": 647
    },
    "executionInfo": {
     "elapsed": 2272,
     "status": "ok",
     "timestamp": 1648698009512,
     "user": {
      "displayName": "adeniyi adeboye",
      "userId": "02625876087283522783"
     },
     "user_tz": 240
    },
    "id": "FSgvz8KhWo8G",
    "outputId": "08d43af8-00f1-4714-aeb0-d4b1682a54dd"
   },
   "outputs": [
    {
     "data": {
      "image/png": "[encoded data removed]",
      "text/plain": [
       "<Figure size 1296x720 with 1 Axes>"
      ]
     },
     "metadata": {},
     "output_type": "display_data"
    }
   ],
   "source": [
    "plot_pathway_predictions(df_pathway_prs, 'pr_auc_pathways_cp_vs_L1000.png', 'L1_values', 'cp_values', \"L1000 PR-AUC scores\", \"CP PR-AUC scores\", \n",
    "                     \"PR-AUC scores for Pathways in L1000 & CP \", pathway_L1_baseline, pathway_cp_baseline)"
   ]
  }
 ],
 "metadata": {
  "colab": {
   "authorship_tag": "ABX9TyMO8F6NR1HVUwCYFrMjGjZy",
   "collapsed_sections": [],
   "machine_shape": "hm",
   "name": "pathways_prediction_visualizations.ipynb",
   "provenance": []
  },
  "kernelspec": {
   "display_name": "Python 3 (ipykernel)",
   "language": "python",
   "name": "python3"
  },
  "language_info": {
   "codemirror_mode": {
    "name": "ipython",
    "version": 3
   },
   "file_extension": ".py",
   "mimetype": "text/x-python",
   "name": "python",
   "nbconvert_exporter": "python",
   "pygments_lexer": "ipython3",
   "version": "3.9.10"
  }
 },
 "nbformat": 4,
 "nbformat_minor": 4
}
