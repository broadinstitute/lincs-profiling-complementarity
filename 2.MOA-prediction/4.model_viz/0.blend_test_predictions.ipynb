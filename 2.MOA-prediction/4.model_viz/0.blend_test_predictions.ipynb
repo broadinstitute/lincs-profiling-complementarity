{
 "cells": [
  {
   "cell_type": "markdown",
   "metadata": {
    "id": "TS6DGz2M-XGN"
   },
   "source": [
    "### - Ensemble/Blend the 4 model predictions into a single prediction"
   ]
  },
  {
   "cell_type": "code",
   "execution_count": 1,
   "metadata": {
    "executionInfo": {
     "elapsed": 24528,
     "status": "ok",
     "timestamp": 1619191163454,
     "user": {
      "displayName": "adeniyi adeboye",
      "photoUrl": "",
      "userId": "02625876087283522783"
     },
     "user_tz": 240
    },
    "id": "vEF3nTLDwsxi"
   },
   "outputs": [],
   "source": [
    "import os\n",
    "import datetime\n",
    "from time import time\n",
    "import pathlib\n",
    "import pandas as pd\n",
    "import numpy as np\n",
    "from collections import defaultdict\n",
    "from collections import Counter"
   ]
  },
  {
   "cell_type": "code",
   "execution_count": 2,
   "metadata": {
    "executionInfo": {
     "elapsed": 25623,
     "status": "ok",
     "timestamp": 1619191164551,
     "user": {
      "displayName": "adeniyi adeboye",
      "photoUrl": "",
      "userId": "02625876087283522783"
     },
     "user_tz": 240
    },
    "id": "-wcg5BSZxAP0"
   },
   "outputs": [],
   "source": [
    "from sklearn.metrics import precision_recall_curve,average_precision_score\n",
    "from sklearn.metrics import log_loss, roc_curve\n",
    "from sklearn.metrics import auc,roc_auc_score"
   ]
  },
  {
   "cell_type": "code",
   "execution_count": 3,
   "metadata": {
    "executionInfo": {
     "elapsed": 26609,
     "status": "ok",
     "timestamp": 1619191165540,
     "user": {
      "displayName": "adeniyi adeboye",
      "photoUrl": "",
      "userId": "02625876087283522783"
     },
     "user_tz": 240
    },
    "id": "R1PMjuQ0xANB"
   },
   "outputs": [],
   "source": [
    "from numba import njit\n",
    "from scipy.optimize import minimize, fsolve"
   ]
  },
  {
   "cell_type": "code",
   "execution_count": 4,
   "metadata": {
    "executionInfo": {
     "elapsed": 26651,
     "status": "ok",
     "timestamp": 1619191165664,
     "user": {
      "displayName": "adeniyi adeboye",
      "photoUrl": "",
      "userId": "02625876087283522783"
     },
     "user_tz": 240
    },
    "id": "vhsmubvHxMTD"
   },
   "outputs": [],
   "source": [
    "file_indicator = \"_subsample\"\n",
    "data_dir = pathlib.Path(\"../2.data_split/model_data\")"
   ]
  },
  {
   "cell_type": "code",
   "execution_count": 5,
   "metadata": {
    "executionInfo": {
     "elapsed": 26649,
     "status": "ok",
     "timestamp": 1619191165666,
     "user": {
      "displayName": "adeniyi adeboye",
      "photoUrl": "",
      "userId": "02625876087283522783"
     },
     "user_tz": 240
    },
    "id": "3uvN3s9KxMP4"
   },
   "outputs": [],
   "source": [
    "cp_test = pathlib.Path(f\"{data_dir}/cp/test_lvl4_data{file_indicator}.csv.gz\")\n",
    "L1000_test = pathlib.Path(f\"{data_dir}/L1/test_lvl4_data.csv.gz\")\n",
    "cp_L1000_test = pathlib.Path(f\"{data_dir}/merged/test_lvl4_data.csv.gz\")"
   ]
  },
  {
   "cell_type": "code",
   "execution_count": 6,
   "metadata": {
    "executionInfo": {
     "elapsed": 26648,
     "status": "ok",
     "timestamp": 1619191165668,
     "user": {
      "displayName": "adeniyi adeboye",
      "photoUrl": "",
      "userId": "02625876087283522783"
     },
     "user_tz": 240
    },
    "id": "1we4LVJsOqvG"
   },
   "outputs": [],
   "source": [
    "model_preds_dir = '../L1000_CP_model_predictions/'"
   ]
  },
  {
   "cell_type": "code",
   "execution_count": 7,
   "metadata": {
    "executionInfo": {
     "elapsed": 57591,
     "status": "ok",
     "timestamp": 1619191196614,
     "user": {
      "displayName": "adeniyi adeboye",
      "photoUrl": "",
      "userId": "02625876087283522783"
     },
     "user_tz": 240
    },
    "id": "M4Gc30OyxMK1"
   },
   "outputs": [],
   "source": [
    "df_cp_test = pd.read_csv(cp_test, compression='gzip',low_memory = False)\n",
    "df_L1000_test = pd.read_csv(L1000_test, compression='gzip',low_memory = False)\n",
    "df_cp_L1000_test = pd.read_csv(cp_L1000_test, compression='gzip',low_memory = False)"
   ]
  },
  {
   "cell_type": "code",
   "execution_count": 8,
   "metadata": {},
   "outputs": [
    {
     "data": {
      "text/plain": [
       "(7143, 2313)"
      ]
     },
     "execution_count": 8,
     "metadata": {},
     "output_type": "execute_result"
    }
   ],
   "source": [
    "df_cp_L1000_test.shape"
   ]
  },
  {
   "cell_type": "code",
   "execution_count": 9,
   "metadata": {
    "executionInfo": {
     "elapsed": 66365,
     "status": "ok",
     "timestamp": 1619191205390,
     "user": {
      "displayName": "adeniyi adeboye",
      "photoUrl": "",
      "userId": "02625876087283522783"
     },
     "user_tz": 240
    },
    "id": "L1t8um3OxMIa"
   },
   "outputs": [],
   "source": [
    "##resnet\n",
    "df_cp_resnet_test = pd.read_csv(os.path.join(model_preds_dir, f'cp_test_preds_resnet{file_indicator}.csv'))\n",
    "df_L1000_resnet_test = pd.read_csv(os.path.join(model_preds_dir, 'L1000_test_preds_resnet.csv'))\n",
    "df_cp_L1000_resnet_test = pd.read_csv(os.path.join(model_preds_dir, 'cp_L1000_test_preds_resnet.csv'))"
   ]
  },
  {
   "cell_type": "code",
   "execution_count": 10,
   "metadata": {},
   "outputs": [
    {
     "name": "stdout",
     "output_type": "stream",
     "text": [
      "(7143, 518)\n"
     ]
    },
    {
     "data": {
      "text/html": [
       "<div>\n",
       "<style scoped>\n",
       "    .dataframe tbody tr th:only-of-type {\n",
       "        vertical-align: middle;\n",
       "    }\n",
       "\n",
       "    .dataframe tbody tr th {\n",
       "        vertical-align: top;\n",
       "    }\n",
       "\n",
       "    .dataframe thead th {\n",
       "        text-align: right;\n",
       "    }\n",
       "</style>\n",
       "<table border=\"1\" class=\"dataframe\">\n",
       "  <thead>\n",
       "    <tr style=\"text-align: right;\">\n",
       "      <th></th>\n",
       "      <th>11-beta hydroxysteroid dehydrogenase inhibitor</th>\n",
       "      <th>11-beta-hsd1 inhibitor</th>\n",
       "      <th>17,20 lyase inhibitor</th>\n",
       "      <th>3-ketoacyl coa thiolase inhibitor</th>\n",
       "      <th>3beta-hydroxy-delta5-steroid dehydrogenase inhibitor</th>\n",
       "      <th>5 alpha reductase inhibitor</th>\n",
       "      <th>abl kinase inhibitor</th>\n",
       "      <th>acat inhibitor</th>\n",
       "      <th>acetylcholine precursor</th>\n",
       "      <th>acetylcholine receptor agonist</th>\n",
       "      <th>...</th>\n",
       "      <th>vegfr inhibitor</th>\n",
       "      <th>vesicular monoamine transporter inhibitor</th>\n",
       "      <th>vitamin b</th>\n",
       "      <th>vitamin d receptor agonist</th>\n",
       "      <th>vitamin k antagonist</th>\n",
       "      <th>voltage-gated sodium channel blocker</th>\n",
       "      <th>voltage-gated sodium channel modulator</th>\n",
       "      <th>wee1 kinase inhibitor</th>\n",
       "      <th>xanthine oxidase inhibitor</th>\n",
       "      <th>xiap inhibitor</th>\n",
       "    </tr>\n",
       "  </thead>\n",
       "  <tbody>\n",
       "    <tr>\n",
       "      <th>0</th>\n",
       "      <td>0.001475</td>\n",
       "      <td>0.002290</td>\n",
       "      <td>0.001914</td>\n",
       "      <td>0.002590</td>\n",
       "      <td>0.002135</td>\n",
       "      <td>0.002601</td>\n",
       "      <td>0.001829</td>\n",
       "      <td>0.004140</td>\n",
       "      <td>0.001667</td>\n",
       "      <td>0.006587</td>\n",
       "      <td>...</td>\n",
       "      <td>0.011150</td>\n",
       "      <td>0.002605</td>\n",
       "      <td>0.002086</td>\n",
       "      <td>0.003864</td>\n",
       "      <td>0.002140</td>\n",
       "      <td>0.001742</td>\n",
       "      <td>0.002277</td>\n",
       "      <td>0.001838</td>\n",
       "      <td>0.003219</td>\n",
       "      <td>0.002229</td>\n",
       "    </tr>\n",
       "    <tr>\n",
       "      <th>1</th>\n",
       "      <td>0.001552</td>\n",
       "      <td>0.001856</td>\n",
       "      <td>0.001776</td>\n",
       "      <td>0.001765</td>\n",
       "      <td>0.001695</td>\n",
       "      <td>0.003158</td>\n",
       "      <td>0.001906</td>\n",
       "      <td>0.003203</td>\n",
       "      <td>0.001767</td>\n",
       "      <td>0.005509</td>\n",
       "      <td>...</td>\n",
       "      <td>0.011468</td>\n",
       "      <td>0.001978</td>\n",
       "      <td>0.003318</td>\n",
       "      <td>0.003773</td>\n",
       "      <td>0.002463</td>\n",
       "      <td>0.001670</td>\n",
       "      <td>0.002108</td>\n",
       "      <td>0.001603</td>\n",
       "      <td>0.002322</td>\n",
       "      <td>0.002275</td>\n",
       "    </tr>\n",
       "    <tr>\n",
       "      <th>2</th>\n",
       "      <td>0.001683</td>\n",
       "      <td>0.002693</td>\n",
       "      <td>0.002681</td>\n",
       "      <td>0.002943</td>\n",
       "      <td>0.001907</td>\n",
       "      <td>0.002361</td>\n",
       "      <td>0.002621</td>\n",
       "      <td>0.004289</td>\n",
       "      <td>0.001961</td>\n",
       "      <td>0.007017</td>\n",
       "      <td>...</td>\n",
       "      <td>0.020123</td>\n",
       "      <td>0.002729</td>\n",
       "      <td>0.002327</td>\n",
       "      <td>0.004476</td>\n",
       "      <td>0.002184</td>\n",
       "      <td>0.001786</td>\n",
       "      <td>0.002573</td>\n",
       "      <td>0.002114</td>\n",
       "      <td>0.004231</td>\n",
       "      <td>0.002544</td>\n",
       "    </tr>\n",
       "    <tr>\n",
       "      <th>3</th>\n",
       "      <td>0.001325</td>\n",
       "      <td>0.001981</td>\n",
       "      <td>0.001679</td>\n",
       "      <td>0.002261</td>\n",
       "      <td>0.001715</td>\n",
       "      <td>0.002629</td>\n",
       "      <td>0.002225</td>\n",
       "      <td>0.002742</td>\n",
       "      <td>0.002020</td>\n",
       "      <td>0.007814</td>\n",
       "      <td>...</td>\n",
       "      <td>0.008979</td>\n",
       "      <td>0.002025</td>\n",
       "      <td>0.002142</td>\n",
       "      <td>0.003789</td>\n",
       "      <td>0.002166</td>\n",
       "      <td>0.001447</td>\n",
       "      <td>0.001960</td>\n",
       "      <td>0.001657</td>\n",
       "      <td>0.002691</td>\n",
       "      <td>0.001653</td>\n",
       "    </tr>\n",
       "    <tr>\n",
       "      <th>4</th>\n",
       "      <td>0.001568</td>\n",
       "      <td>0.002059</td>\n",
       "      <td>0.002075</td>\n",
       "      <td>0.002369</td>\n",
       "      <td>0.001714</td>\n",
       "      <td>0.001928</td>\n",
       "      <td>0.001773</td>\n",
       "      <td>0.003076</td>\n",
       "      <td>0.001587</td>\n",
       "      <td>0.007437</td>\n",
       "      <td>...</td>\n",
       "      <td>0.009487</td>\n",
       "      <td>0.002799</td>\n",
       "      <td>0.001749</td>\n",
       "      <td>0.003437</td>\n",
       "      <td>0.002360</td>\n",
       "      <td>0.001570</td>\n",
       "      <td>0.002094</td>\n",
       "      <td>0.001381</td>\n",
       "      <td>0.003440</td>\n",
       "      <td>0.001592</td>\n",
       "    </tr>\n",
       "  </tbody>\n",
       "</table>\n",
       "<p>5 rows × 518 columns</p>\n",
       "</div>"
      ],
      "text/plain": [
       "   11-beta hydroxysteroid dehydrogenase inhibitor  11-beta-hsd1 inhibitor  \\\n",
       "0                                        0.001475                0.002290   \n",
       "1                                        0.001552                0.001856   \n",
       "2                                        0.001683                0.002693   \n",
       "3                                        0.001325                0.001981   \n",
       "4                                        0.001568                0.002059   \n",
       "\n",
       "   17,20 lyase inhibitor  3-ketoacyl coa thiolase inhibitor  \\\n",
       "0               0.001914                           0.002590   \n",
       "1               0.001776                           0.001765   \n",
       "2               0.002681                           0.002943   \n",
       "3               0.001679                           0.002261   \n",
       "4               0.002075                           0.002369   \n",
       "\n",
       "   3beta-hydroxy-delta5-steroid dehydrogenase inhibitor  \\\n",
       "0                                           0.002135      \n",
       "1                                           0.001695      \n",
       "2                                           0.001907      \n",
       "3                                           0.001715      \n",
       "4                                           0.001714      \n",
       "\n",
       "   5 alpha reductase inhibitor  abl kinase inhibitor  acat inhibitor  \\\n",
       "0                     0.002601              0.001829        0.004140   \n",
       "1                     0.003158              0.001906        0.003203   \n",
       "2                     0.002361              0.002621        0.004289   \n",
       "3                     0.002629              0.002225        0.002742   \n",
       "4                     0.001928              0.001773        0.003076   \n",
       "\n",
       "   acetylcholine precursor  acetylcholine receptor agonist  ...  \\\n",
       "0                 0.001667                        0.006587  ...   \n",
       "1                 0.001767                        0.005509  ...   \n",
       "2                 0.001961                        0.007017  ...   \n",
       "3                 0.002020                        0.007814  ...   \n",
       "4                 0.001587                        0.007437  ...   \n",
       "\n",
       "   vegfr inhibitor  vesicular monoamine transporter inhibitor  vitamin b  \\\n",
       "0         0.011150                                   0.002605   0.002086   \n",
       "1         0.011468                                   0.001978   0.003318   \n",
       "2         0.020123                                   0.002729   0.002327   \n",
       "3         0.008979                                   0.002025   0.002142   \n",
       "4         0.009487                                   0.002799   0.001749   \n",
       "\n",
       "   vitamin d receptor agonist  vitamin k antagonist  \\\n",
       "0                    0.003864              0.002140   \n",
       "1                    0.003773              0.002463   \n",
       "2                    0.004476              0.002184   \n",
       "3                    0.003789              0.002166   \n",
       "4                    0.003437              0.002360   \n",
       "\n",
       "   voltage-gated sodium channel blocker  \\\n",
       "0                              0.001742   \n",
       "1                              0.001670   \n",
       "2                              0.001786   \n",
       "3                              0.001447   \n",
       "4                              0.001570   \n",
       "\n",
       "   voltage-gated sodium channel modulator  wee1 kinase inhibitor  \\\n",
       "0                                0.002277               0.001838   \n",
       "1                                0.002108               0.001603   \n",
       "2                                0.002573               0.002114   \n",
       "3                                0.001960               0.001657   \n",
       "4                                0.002094               0.001381   \n",
       "\n",
       "   xanthine oxidase inhibitor  xiap inhibitor  \n",
       "0                    0.003219        0.002229  \n",
       "1                    0.002322        0.002275  \n",
       "2                    0.004231        0.002544  \n",
       "3                    0.002691        0.001653  \n",
       "4                    0.003440        0.001592  \n",
       "\n",
       "[5 rows x 518 columns]"
      ]
     },
     "execution_count": 10,
     "metadata": {},
     "output_type": "execute_result"
    }
   ],
   "source": [
    "print(df_cp_L1000_resnet_test.shape)\n",
    "df_cp_L1000_resnet_test.head()"
   ]
  },
  {
   "cell_type": "code",
   "execution_count": 11,
   "metadata": {
    "executionInfo": {
     "elapsed": 74555,
     "status": "ok",
     "timestamp": 1619191213582,
     "user": {
      "displayName": "adeniyi adeboye",
      "photoUrl": "",
      "userId": "02625876087283522783"
     },
     "user_tz": 240
    },
    "id": "LUw6R7f8xMFj"
   },
   "outputs": [],
   "source": [
    "##1-d cnn\n",
    "df_cp_cnn_test = pd.read_csv(os.path.join(model_preds_dir, f'cp_test_preds_1dcnn{file_indicator}.csv'))\n",
    "df_L1000_cnn_test = pd.read_csv(os.path.join(model_preds_dir, 'L1000_test_preds_1dcnn.csv'))\n",
    "df_cp_L1000_cnn_test = pd.read_csv(os.path.join(model_preds_dir, 'cp_L1000_test_preds_1dcnn.csv'))"
   ]
  },
  {
   "cell_type": "code",
   "execution_count": 12,
   "metadata": {},
   "outputs": [
    {
     "name": "stdout",
     "output_type": "stream",
     "text": [
      "(7143, 518)\n"
     ]
    },
    {
     "data": {
      "text/html": [
       "<div>\n",
       "<style scoped>\n",
       "    .dataframe tbody tr th:only-of-type {\n",
       "        vertical-align: middle;\n",
       "    }\n",
       "\n",
       "    .dataframe tbody tr th {\n",
       "        vertical-align: top;\n",
       "    }\n",
       "\n",
       "    .dataframe thead th {\n",
       "        text-align: right;\n",
       "    }\n",
       "</style>\n",
       "<table border=\"1\" class=\"dataframe\">\n",
       "  <thead>\n",
       "    <tr style=\"text-align: right;\">\n",
       "      <th></th>\n",
       "      <th>11-beta hydroxysteroid dehydrogenase inhibitor</th>\n",
       "      <th>11-beta-hsd1 inhibitor</th>\n",
       "      <th>17,20 lyase inhibitor</th>\n",
       "      <th>3-ketoacyl coa thiolase inhibitor</th>\n",
       "      <th>3beta-hydroxy-delta5-steroid dehydrogenase inhibitor</th>\n",
       "      <th>5 alpha reductase inhibitor</th>\n",
       "      <th>abl kinase inhibitor</th>\n",
       "      <th>acat inhibitor</th>\n",
       "      <th>acetylcholine precursor</th>\n",
       "      <th>acetylcholine receptor agonist</th>\n",
       "      <th>...</th>\n",
       "      <th>vegfr inhibitor</th>\n",
       "      <th>vesicular monoamine transporter inhibitor</th>\n",
       "      <th>vitamin b</th>\n",
       "      <th>vitamin d receptor agonist</th>\n",
       "      <th>vitamin k antagonist</th>\n",
       "      <th>voltage-gated sodium channel blocker</th>\n",
       "      <th>voltage-gated sodium channel modulator</th>\n",
       "      <th>wee1 kinase inhibitor</th>\n",
       "      <th>xanthine oxidase inhibitor</th>\n",
       "      <th>xiap inhibitor</th>\n",
       "    </tr>\n",
       "  </thead>\n",
       "  <tbody>\n",
       "    <tr>\n",
       "      <th>0</th>\n",
       "      <td>0.001584</td>\n",
       "      <td>0.001868</td>\n",
       "      <td>0.001755</td>\n",
       "      <td>0.001875</td>\n",
       "      <td>0.001901</td>\n",
       "      <td>0.002732</td>\n",
       "      <td>0.002316</td>\n",
       "      <td>0.002796</td>\n",
       "      <td>0.001966</td>\n",
       "      <td>0.006341</td>\n",
       "      <td>...</td>\n",
       "      <td>0.011777</td>\n",
       "      <td>0.001868</td>\n",
       "      <td>0.003575</td>\n",
       "      <td>0.004213</td>\n",
       "      <td>0.001955</td>\n",
       "      <td>0.001828</td>\n",
       "      <td>0.001848</td>\n",
       "      <td>0.001903</td>\n",
       "      <td>0.003260</td>\n",
       "      <td>0.002104</td>\n",
       "    </tr>\n",
       "    <tr>\n",
       "      <th>1</th>\n",
       "      <td>0.001677</td>\n",
       "      <td>0.001857</td>\n",
       "      <td>0.001688</td>\n",
       "      <td>0.001836</td>\n",
       "      <td>0.001788</td>\n",
       "      <td>0.002498</td>\n",
       "      <td>0.002382</td>\n",
       "      <td>0.002950</td>\n",
       "      <td>0.001887</td>\n",
       "      <td>0.005771</td>\n",
       "      <td>...</td>\n",
       "      <td>0.012437</td>\n",
       "      <td>0.001904</td>\n",
       "      <td>0.004365</td>\n",
       "      <td>0.003340</td>\n",
       "      <td>0.001876</td>\n",
       "      <td>0.001924</td>\n",
       "      <td>0.001986</td>\n",
       "      <td>0.002030</td>\n",
       "      <td>0.002957</td>\n",
       "      <td>0.002360</td>\n",
       "    </tr>\n",
       "    <tr>\n",
       "      <th>2</th>\n",
       "      <td>0.001677</td>\n",
       "      <td>0.001837</td>\n",
       "      <td>0.001789</td>\n",
       "      <td>0.001869</td>\n",
       "      <td>0.001858</td>\n",
       "      <td>0.002412</td>\n",
       "      <td>0.002374</td>\n",
       "      <td>0.003240</td>\n",
       "      <td>0.001960</td>\n",
       "      <td>0.005660</td>\n",
       "      <td>...</td>\n",
       "      <td>0.011630</td>\n",
       "      <td>0.001889</td>\n",
       "      <td>0.002951</td>\n",
       "      <td>0.004185</td>\n",
       "      <td>0.001950</td>\n",
       "      <td>0.001961</td>\n",
       "      <td>0.001842</td>\n",
       "      <td>0.001862</td>\n",
       "      <td>0.002986</td>\n",
       "      <td>0.002527</td>\n",
       "    </tr>\n",
       "    <tr>\n",
       "      <th>3</th>\n",
       "      <td>0.001567</td>\n",
       "      <td>0.001891</td>\n",
       "      <td>0.001634</td>\n",
       "      <td>0.001874</td>\n",
       "      <td>0.001777</td>\n",
       "      <td>0.002442</td>\n",
       "      <td>0.002361</td>\n",
       "      <td>0.003194</td>\n",
       "      <td>0.001868</td>\n",
       "      <td>0.005244</td>\n",
       "      <td>...</td>\n",
       "      <td>0.011660</td>\n",
       "      <td>0.001930</td>\n",
       "      <td>0.002939</td>\n",
       "      <td>0.003618</td>\n",
       "      <td>0.001778</td>\n",
       "      <td>0.002042</td>\n",
       "      <td>0.001873</td>\n",
       "      <td>0.001875</td>\n",
       "      <td>0.002891</td>\n",
       "      <td>0.002514</td>\n",
       "    </tr>\n",
       "    <tr>\n",
       "      <th>4</th>\n",
       "      <td>0.001921</td>\n",
       "      <td>0.001807</td>\n",
       "      <td>0.002190</td>\n",
       "      <td>0.001821</td>\n",
       "      <td>0.002020</td>\n",
       "      <td>0.002473</td>\n",
       "      <td>0.002275</td>\n",
       "      <td>0.003251</td>\n",
       "      <td>0.002087</td>\n",
       "      <td>0.006310</td>\n",
       "      <td>...</td>\n",
       "      <td>0.011577</td>\n",
       "      <td>0.001875</td>\n",
       "      <td>0.002902</td>\n",
       "      <td>0.004009</td>\n",
       "      <td>0.002046</td>\n",
       "      <td>0.001928</td>\n",
       "      <td>0.001956</td>\n",
       "      <td>0.001814</td>\n",
       "      <td>0.003092</td>\n",
       "      <td>0.002630</td>\n",
       "    </tr>\n",
       "  </tbody>\n",
       "</table>\n",
       "<p>5 rows × 518 columns</p>\n",
       "</div>"
      ],
      "text/plain": [
       "   11-beta hydroxysteroid dehydrogenase inhibitor  11-beta-hsd1 inhibitor  \\\n",
       "0                                        0.001584                0.001868   \n",
       "1                                        0.001677                0.001857   \n",
       "2                                        0.001677                0.001837   \n",
       "3                                        0.001567                0.001891   \n",
       "4                                        0.001921                0.001807   \n",
       "\n",
       "   17,20 lyase inhibitor  3-ketoacyl coa thiolase inhibitor  \\\n",
       "0               0.001755                           0.001875   \n",
       "1               0.001688                           0.001836   \n",
       "2               0.001789                           0.001869   \n",
       "3               0.001634                           0.001874   \n",
       "4               0.002190                           0.001821   \n",
       "\n",
       "   3beta-hydroxy-delta5-steroid dehydrogenase inhibitor  \\\n",
       "0                                           0.001901      \n",
       "1                                           0.001788      \n",
       "2                                           0.001858      \n",
       "3                                           0.001777      \n",
       "4                                           0.002020      \n",
       "\n",
       "   5 alpha reductase inhibitor  abl kinase inhibitor  acat inhibitor  \\\n",
       "0                     0.002732              0.002316        0.002796   \n",
       "1                     0.002498              0.002382        0.002950   \n",
       "2                     0.002412              0.002374        0.003240   \n",
       "3                     0.002442              0.002361        0.003194   \n",
       "4                     0.002473              0.002275        0.003251   \n",
       "\n",
       "   acetylcholine precursor  acetylcholine receptor agonist  ...  \\\n",
       "0                 0.001966                        0.006341  ...   \n",
       "1                 0.001887                        0.005771  ...   \n",
       "2                 0.001960                        0.005660  ...   \n",
       "3                 0.001868                        0.005244  ...   \n",
       "4                 0.002087                        0.006310  ...   \n",
       "\n",
       "   vegfr inhibitor  vesicular monoamine transporter inhibitor  vitamin b  \\\n",
       "0         0.011777                                   0.001868   0.003575   \n",
       "1         0.012437                                   0.001904   0.004365   \n",
       "2         0.011630                                   0.001889   0.002951   \n",
       "3         0.011660                                   0.001930   0.002939   \n",
       "4         0.011577                                   0.001875   0.002902   \n",
       "\n",
       "   vitamin d receptor agonist  vitamin k antagonist  \\\n",
       "0                    0.004213              0.001955   \n",
       "1                    0.003340              0.001876   \n",
       "2                    0.004185              0.001950   \n",
       "3                    0.003618              0.001778   \n",
       "4                    0.004009              0.002046   \n",
       "\n",
       "   voltage-gated sodium channel blocker  \\\n",
       "0                              0.001828   \n",
       "1                              0.001924   \n",
       "2                              0.001961   \n",
       "3                              0.002042   \n",
       "4                              0.001928   \n",
       "\n",
       "   voltage-gated sodium channel modulator  wee1 kinase inhibitor  \\\n",
       "0                                0.001848               0.001903   \n",
       "1                                0.001986               0.002030   \n",
       "2                                0.001842               0.001862   \n",
       "3                                0.001873               0.001875   \n",
       "4                                0.001956               0.001814   \n",
       "\n",
       "   xanthine oxidase inhibitor  xiap inhibitor  \n",
       "0                    0.003260        0.002104  \n",
       "1                    0.002957        0.002360  \n",
       "2                    0.002986        0.002527  \n",
       "3                    0.002891        0.002514  \n",
       "4                    0.003092        0.002630  \n",
       "\n",
       "[5 rows x 518 columns]"
      ]
     },
     "execution_count": 12,
     "metadata": {},
     "output_type": "execute_result"
    }
   ],
   "source": [
    "print(df_cp_L1000_cnn_test.shape)\n",
    "df_cp_L1000_cnn_test.head()"
   ]
  },
  {
   "cell_type": "code",
   "execution_count": 13,
   "metadata": {
    "executionInfo": {
     "elapsed": 81848,
     "status": "ok",
     "timestamp": 1619191220878,
     "user": {
      "displayName": "adeniyi adeboye",
      "photoUrl": "",
      "userId": "02625876087283522783"
     },
     "user_tz": 240
    },
    "id": "MM4lMLqpxMCz"
   },
   "outputs": [],
   "source": [
    "##tabnet\n",
    "df_cp_tabnet_test = pd.read_csv(os.path.join(model_preds_dir, f'cp_test_preds_tabnet{file_indicator}.csv'))\n",
    "df_L1000_tabnet_test = pd.read_csv(os.path.join(model_preds_dir, 'L1000_test_preds_tabnet.csv'))\n",
    "df_cp_L1000_tabnet_test = pd.read_csv(os.path.join(model_preds_dir, 'cp_L1000_test_preds_tabnet.csv'))"
   ]
  },
  {
   "cell_type": "code",
   "execution_count": 14,
   "metadata": {},
   "outputs": [
    {
     "data": {
      "text/plain": [
       "(7143, 518)"
      ]
     },
     "execution_count": 14,
     "metadata": {},
     "output_type": "execute_result"
    }
   ],
   "source": [
    "df_cp_L1000_tabnet_test.shape"
   ]
  },
  {
   "cell_type": "code",
   "execution_count": 15,
   "metadata": {
    "executionInfo": {
     "elapsed": 90214,
     "status": "ok",
     "timestamp": 1619191229246,
     "user": {
      "displayName": "adeniyi adeboye",
      "photoUrl": "",
      "userId": "02625876087283522783"
     },
     "user_tz": 240
    },
    "id": "-lTKsOJExL-v"
   },
   "outputs": [],
   "source": [
    "##stagedNN\n",
    "df_cp_simplenn_test = pd.read_csv(os.path.join(model_preds_dir, f'cp_test_preds_simplenn{file_indicator}.csv'))\n",
    "df_L1000_simplenn_test = pd.read_csv(os.path.join(model_preds_dir, 'L1000_test_preds_simplenn.csv'))\n",
    "df_cp_L1000_simplenn_test = pd.read_csv(os.path.join(model_preds_dir, 'cp_L1000_test_preds_simplenn.csv'))"
   ]
  },
  {
   "cell_type": "code",
   "execution_count": 16,
   "metadata": {},
   "outputs": [
    {
     "data": {
      "text/plain": [
       "(7143, 518)"
      ]
     },
     "execution_count": 16,
     "metadata": {},
     "output_type": "execute_result"
    }
   ],
   "source": [
    "df_cp_L1000_simplenn_test.shape"
   ]
  },
  {
   "cell_type": "code",
   "execution_count": 17,
   "metadata": {
    "executionInfo": {
     "elapsed": 90214,
     "status": "ok",
     "timestamp": 1619191229248,
     "user": {
      "displayName": "adeniyi adeboye",
      "photoUrl": "",
      "userId": "02625876087283522783"
     },
     "user_tz": 240
    },
    "id": "IbAXFwQT1Tjk"
   },
   "outputs": [],
   "source": [
    "df_cp_tst_targets = df_cp_test[df_cp_cnn_test.columns]\n",
    "df_L1000_tst_targets = df_L1000_test[df_L1000_cnn_test.columns]\n",
    "df_cp_L1000_tst_targets = df_cp_L1000_test[df_cp_L1000_cnn_test.columns]"
   ]
  },
  {
   "cell_type": "code",
   "execution_count": 18,
   "metadata": {
    "colab": {
     "base_uri": "https://localhost:8080/"
    },
    "executionInfo": {
     "elapsed": 90205,
     "status": "ok",
     "timestamp": 1619191229249,
     "user": {
      "displayName": "adeniyi adeboye",
      "photoUrl": "",
      "userId": "02625876087283522783"
     },
     "user_tz": 240
    },
    "id": "KOpu4xWC1TYy",
    "outputId": "f8b28fbc-d9b5-4626-aca4-f2fe273bb34c"
   },
   "outputs": [
    {
     "data": {
      "text/plain": [
       "(7368, 518)"
      ]
     },
     "execution_count": 18,
     "metadata": {},
     "output_type": "execute_result"
    }
   ],
   "source": [
    "df_cp_tst_targets.shape"
   ]
  },
  {
   "cell_type": "code",
   "execution_count": 19,
   "metadata": {
    "colab": {
     "base_uri": "https://localhost:8080/"
    },
    "executionInfo": {
     "elapsed": 90310,
     "status": "ok",
     "timestamp": 1619191229363,
     "user": {
      "displayName": "adeniyi adeboye",
      "photoUrl": "",
      "userId": "02625876087283522783"
     },
     "user_tz": 240
    },
    "id": "o8gi0LaPwsz3",
    "outputId": "4542ad2f-c20c-4d2a-ee0b-ca93f6bffabe"
   },
   "outputs": [
    {
     "data": {
      "text/plain": [
       "(7219, 518)"
      ]
     },
     "execution_count": 19,
     "metadata": {},
     "output_type": "execute_result"
    }
   ],
   "source": [
    "df_L1000_tst_targets.shape"
   ]
  },
  {
   "cell_type": "code",
   "execution_count": 20,
   "metadata": {
    "colab": {
     "base_uri": "https://localhost:8080/"
    },
    "executionInfo": {
     "elapsed": 90302,
     "status": "ok",
     "timestamp": 1619191229364,
     "user": {
      "displayName": "adeniyi adeboye",
      "photoUrl": "",
      "userId": "02625876087283522783"
     },
     "user_tz": 240
    },
    "id": "H4oXjEct1-RN",
    "outputId": "ffcdbf54-a5a0-489e-ba08-8f8262b4c23a"
   },
   "outputs": [
    {
     "data": {
      "text/plain": [
       "(7143, 518)"
      ]
     },
     "execution_count": 20,
     "metadata": {},
     "output_type": "execute_result"
    }
   ],
   "source": [
    "df_cp_L1000_tst_targets.shape"
   ]
  },
  {
   "cell_type": "markdown",
   "metadata": {
    "id": "N4lxINrYSAb_"
   },
   "source": [
    "#### - Resnet, 1d-cnn, Tabnet, Simplenn --> 4 model predictions"
   ]
  },
  {
   "cell_type": "code",
   "execution_count": 21,
   "metadata": {
    "executionInfo": {
     "elapsed": 90301,
     "status": "ok",
     "timestamp": 1619191229365,
     "user": {
      "displayName": "adeniyi adeboye",
      "photoUrl": "",
      "userId": "02625876087283522783"
     },
     "user_tz": 240
    },
    "id": "NBEOs6Ny2Y2Q"
   },
   "outputs": [],
   "source": [
    "# CPMP's logloss from https://www.kaggle.com/c/lish-moa/discussion/183010\n",
    "def log_loss_numpy(y_true, y_pred):\n",
    "    y_true_ravel = np.asarray(y_true).ravel()\n",
    "    y_pred = np.asarray(y_pred).ravel()\n",
    "    y_pred = np.clip(y_pred, 1e-15, 1 - 1e-15)\n",
    "    loss = np.where(y_true_ravel == 1, - np.log(y_pred), - np.log(1 - y_pred))\n",
    "    return loss.mean()\n",
    "\n",
    "def func_numpy_metric(weights, oof, y_true):\n",
    "    oof_blend = np.tensordot(weights, oof, axes = ((0), (0)))\n",
    "    return log_loss_numpy(y_true, oof_blend)\n",
    "\n",
    "def grad_func(weights, oof, y_true):\n",
    "    oof_clip = np.clip(oof, 1e-15, 1 - 1e-15)\n",
    "    gradients = np.zeros(oof.shape[0])\n",
    "    for i in range(oof.shape[0]):\n",
    "        a, b, c = y_true, oof_clip[i], np.zeros((oof.shape[1], oof.shape[2]))\n",
    "        for j in range(oof.shape[0]):\n",
    "            if j != i:\n",
    "                c += weights[j] * oof_clip[j]\n",
    "        gradients[i] = -np.mean((-a*b+(b**2)*weights[i]+b*c)/((b**2)*(weights[i]**2)+2*b*c*weights[i]-b*weights[i]+(c**2)-c))\n",
    "    return gradients\n",
    "\n",
    "@njit\n",
    "def grad_func_jit(weights, oof, y_true):\n",
    "    oof_clip = np.minimum(1 - 1e-15, np.maximum(oof, 1e-15))\n",
    "    gradients = np.zeros(oof.shape[0])\n",
    "    for i in range(oof.shape[0]):\n",
    "        a, b, c = y_true, oof_clip[i], np.zeros((oof.shape[1], oof.shape[2]))\n",
    "        for j in range(oof.shape[0]):\n",
    "            if j != i:\n",
    "                c += weights[j] * oof_clip[j]\n",
    "    gradients[i] = -np.mean((-a*b+(b**2)*weights[i]+b*c)/((b**2)*(weights[i]**2)+2*b*c*weights[i]-b*weights[i]+(c**2)-c))\n",
    "    return gradients"
   ]
  },
  {
   "cell_type": "code",
   "execution_count": 22,
   "metadata": {
    "executionInfo": {
     "elapsed": 90300,
     "status": "ok",
     "timestamp": 1619191229366,
     "user": {
      "displayName": "adeniyi adeboye",
      "photoUrl": "",
      "userId": "02625876087283522783"
     },
     "user_tz": 240
    },
    "id": "2U6osFtO2kIC"
   },
   "outputs": [],
   "source": [
    "cp_model_preds = [df_cp_cnn_test, df_cp_resnet_test, df_cp_tabnet_test, df_cp_simplenn_test]\n",
    "L1000_model_preds = [df_L1000_cnn_test, df_L1000_resnet_test, df_L1000_tabnet_test, df_L1000_simplenn_test]\n",
    "cp_L1000_model_preds = [df_cp_L1000_cnn_test, df_cp_L1000_resnet_test, df_cp_L1000_tabnet_test, df_cp_L1000_simplenn_test]"
   ]
  },
  {
   "cell_type": "code",
   "execution_count": 23,
   "metadata": {
    "executionInfo": {
     "elapsed": 90299,
     "status": "ok",
     "timestamp": 1619191229367,
     "user": {
      "displayName": "adeniyi adeboye",
      "photoUrl": "",
      "userId": "02625876087283522783"
     },
     "user_tz": 240
    },
    "id": "M8dsrUmv4lXM"
   },
   "outputs": [],
   "source": [
    "models_name = ['1d-Cnn', 'Resnet', 'Tabnet', 'SimpleNN']\n",
    "\n",
    "def get_optmized_blended_weights(model_oofs, df_targets, num_of_models = 4, models_name = models_name):\n",
    "    \"\"\"\n",
    "    This function assign weights to each of the models used in predicting MOAs based on the log-loss obtained \n",
    "    when comparing each model prediction results with the actual MOA (Mechanism of actions) test labels.\n",
    "\n",
    "    for more info:https://www.kaggle.com/gogo827jz/optimise-blending-weights-with-bonus-0/notebook\n",
    "    \"\"\"\n",
    "    model_oof_preds = np.zeros((num_of_models, df_targets.shape[0], df_targets.shape[1]))\n",
    "    for idx in range(num_of_models):\n",
    "        model_oof_preds[idx] = model_oofs[idx].values\n",
    "        score_oof = log_loss_numpy(df_targets, model_oof_preds[idx])\n",
    "        print(f'{idx} {models_name[idx]}, Test loss:\\t', score_oof)\n",
    "    \n",
    "    tol = 1e-10\n",
    "    init_guess = [1 / model_oof_preds.shape[0]] * model_oof_preds.shape[0]\n",
    "    bnds = [(0, 1) for _ in range(model_oof_preds.shape[0])]\n",
    "    cons = {\n",
    "        'type': 'eq',\n",
    "        'fun': lambda x: np.sum(x) - 1,\n",
    "        'jac': lambda x: [1] * len(x)\n",
    "    }\n",
    "    print('Inital Blend OOF:', func_numpy_metric(init_guess, model_oof_preds, df_targets.values))\n",
    "    \n",
    "    start_time = time()\n",
    "    \n",
    "    res_scipy = minimize(fun = func_numpy_metric, x0 = init_guess, \n",
    "                       args=(model_oof_preds, df_targets.values), \n",
    "                       method = 'SLSQP', ##L-BFGS-B ##SLSQP\n",
    "                       jac = grad_func_jit, # grad_func \n",
    "                       bounds = bnds, constraints = cons, tol = tol)\n",
    "    print(f'[{str(datetime.timedelta(seconds = time() - start_time))[2:7]}] Optimised Blend OOF:', res_scipy.fun)\n",
    "    print('Optimised Weights:', res_scipy.x)\n",
    "    return model_oof_preds, res_scipy.x"
   ]
  },
  {
   "cell_type": "code",
   "execution_count": 24,
   "metadata": {
    "colab": {
     "base_uri": "https://localhost:8080/"
    },
    "executionInfo": {
     "elapsed": 106478,
     "status": "ok",
     "timestamp": 1619191245556,
     "user": {
      "displayName": "adeniyi adeboye",
      "photoUrl": "",
      "userId": "02625876087283522783"
     },
     "user_tz": 240
    },
    "id": "Wz9KFVxb4lTz",
    "outputId": "915d7364-f1d6-474e-a644-7738e6262266"
   },
   "outputs": [
    {
     "name": "stdout",
     "output_type": "stream",
     "text": [
      "0 1d-Cnn, Test loss:\t 0.014648914719429189\n",
      "1 Resnet, Test loss:\t 0.014334232680115551\n",
      "2 Tabnet, Test loss:\t 0.014635645350260953\n",
      "3 SimpleNN, Test loss:\t 0.013842045801886601\n",
      "Inital Blend OOF: 0.014183197900880778\n",
      "[00:03] Optimised Blend OOF: 0.01418319790088078\n",
      "Optimised Weights: [0.25 0.25 0.25 0.25]\n"
     ]
    }
   ],
   "source": [
    "_, L1000_model_weights = get_optmized_blended_weights(L1000_model_preds, df_L1000_tst_targets,)"
   ]
  },
  {
   "cell_type": "code",
   "execution_count": 25,
   "metadata": {
    "colab": {
     "base_uri": "https://localhost:8080/"
    },
    "executionInfo": {
     "elapsed": 121545,
     "status": "ok",
     "timestamp": 1619191260631,
     "user": {
      "displayName": "adeniyi adeboye",
      "photoUrl": "",
      "userId": "02625876087283522783"
     },
     "user_tz": 240
    },
    "id": "aBIh3LPl2j_C",
    "outputId": "60c79cc8-4528-42bd-e992-af3e4d454580"
   },
   "outputs": [
    {
     "name": "stdout",
     "output_type": "stream",
     "text": [
      "0 1d-Cnn, Test loss:\t 0.014624553413440775\n",
      "1 Resnet, Test loss:\t 0.013885899881088497\n",
      "2 Tabnet, Test loss:\t 0.01425797501525762\n",
      "3 SimpleNN, Test loss:\t 0.014148668688750988\n",
      "Inital Blend OOF: 0.014005251109212347\n",
      "[00:02] Optimised Blend OOF: 0.014005251112647181\n",
      "Optimised Weights: [0.25000007 0.25000007 0.25000007 0.2499998 ]\n"
     ]
    }
   ],
   "source": [
    "_, cp_model_weights = get_optmized_blended_weights(cp_model_preds, df_cp_tst_targets,)"
   ]
  },
  {
   "cell_type": "code",
   "execution_count": 26,
   "metadata": {
    "colab": {
     "base_uri": "https://localhost:8080/"
    },
    "executionInfo": {
     "elapsed": 133730,
     "status": "ok",
     "timestamp": 1619191272826,
     "user": {
      "displayName": "adeniyi adeboye",
      "photoUrl": "",
      "userId": "02625876087283522783"
     },
     "user_tz": 240
    },
    "id": "0puGmgV92j71",
    "outputId": "44bfe46f-3b85-440f-f989-ad97626d3e80"
   },
   "outputs": [
    {
     "name": "stdout",
     "output_type": "stream",
     "text": [
      "0 1d-Cnn, Test loss:\t 0.014298406016558518\n",
      "1 Resnet, Test loss:\t 0.014070003642352868\n",
      "2 Tabnet, Test loss:\t 0.014405625152026725\n",
      "3 SimpleNN, Test loss:\t 0.01750511199945077\n",
      "Inital Blend OOF: 0.014366329392756628\n",
      "[00:05] Optimised Blend OOF: 0.014096815549659757\n",
      "Optimised Weights: [0.32575892 0.32575892 0.32575892 0.02272325]\n"
     ]
    }
   ],
   "source": [
    "_, cp_L1000_model_weights = get_optmized_blended_weights(cp_L1000_model_preds, df_cp_L1000_tst_targets)"
   ]
  },
  {
   "cell_type": "code",
   "execution_count": 27,
   "metadata": {
    "executionInfo": {
     "elapsed": 133728,
     "status": "ok",
     "timestamp": 1619191272827,
     "user": {
      "displayName": "adeniyi adeboye",
      "photoUrl": "",
      "userId": "02625876087283522783"
     },
     "user_tz": 240
    },
    "id": "RSRg-vjs8uqR"
   },
   "outputs": [],
   "source": [
    "def model_eval_results(df_tst, df_tst_y, df_preds):\n",
    "    \"\"\"\n",
    "    This function prints out the model evaluation results from the train and test predictions.\n",
    "    The evaluation metrics used in assessing the performance of the models are: ROC AUC score,\n",
    "    log loss and Precision-Recall AUC score\n",
    "    \"\"\"\n",
    "    eval_metrics = ['log loss', 'ROC AUC score', 'PR-AUC/Average_precision_score',]\n",
    "    moa_class_list = df_tst['moa'].unique()\n",
    "    val_moas = [moa for moa_list in moa_class_list for moa in moa_list.split('|')]\n",
    "    print('-' * 10, 'Test data prediction results', '-' * 10)\n",
    "    print(f'{eval_metrics[0]}:', log_loss(np.ravel(df_tst_y), np.ravel(df_preds)))\n",
    "    print(f'{eval_metrics[1]}:', roc_auc_score(df_tst_y[val_moas],df_preds[val_moas], average='macro'))\n",
    "    print(f'{eval_metrics[2]}:', average_precision_score(df_tst_y[val_moas], df_preds[val_moas], average=\"micro\"))"
   ]
  },
  {
   "cell_type": "code",
   "execution_count": 28,
   "metadata": {
    "executionInfo": {
     "elapsed": 133860,
     "status": "ok",
     "timestamp": 1619191272961,
     "user": {
      "displayName": "adeniyi adeboye",
      "photoUrl": "",
      "userId": "02625876087283522783"
     },
     "user_tz": 240
    },
    "id": "BqJlcNH7ws4a"
   },
   "outputs": [],
   "source": [
    "##[1.57502187e-01,1.15142271e-16,0.00000000e+00,8.42497813e-01] <-- modify the model weights\n",
    "df_L1000_blend = pd.DataFrame(np.zeros(df_L1000_cnn_test.shape), columns = df_L1000_cnn_test.columns)\n",
    "df_L1000_blend = df_L1000_cnn_test*0.45 + df_L1000_resnet_test*0.05 + df_L1000_tabnet_test*0.05 + df_L1000_simplenn_test*0.45"
   ]
  },
  {
   "cell_type": "code",
   "execution_count": 29,
   "metadata": {
    "colab": {
     "base_uri": "https://localhost:8080/"
    },
    "executionInfo": {
     "elapsed": 133852,
     "status": "ok",
     "timestamp": 1619191272962,
     "user": {
      "displayName": "adeniyi adeboye",
      "photoUrl": "",
      "userId": "02625876087283522783"
     },
     "user_tz": 240
    },
    "id": "MEPUWJlf-WAA",
    "outputId": "5be9ad9c-6e8b-471f-bdcc-75d50b38fd07"
   },
   "outputs": [
    {
     "data": {
      "text/plain": [
       "1.0"
      ]
     },
     "execution_count": 29,
     "metadata": {},
     "output_type": "execute_result"
    }
   ],
   "source": [
    "0.45+(0.05*2)+0.45"
   ]
  },
  {
   "cell_type": "code",
   "execution_count": 30,
   "metadata": {
    "colab": {
     "base_uri": "https://localhost:8080/"
    },
    "executionInfo": {
     "elapsed": 140566,
     "status": "ok",
     "timestamp": 1619191279685,
     "user": {
      "displayName": "adeniyi adeboye",
      "photoUrl": "",
      "userId": "02625876087283522783"
     },
     "user_tz": 240
    },
    "id": "7SYNBFtW8unR",
    "outputId": "dd64d35f-6640-486c-a2ac-b589851388d5"
   },
   "outputs": [
    {
     "name": "stdout",
     "output_type": "stream",
     "text": [
      "---------- Test data prediction results ----------\n",
      "log loss: 0.014078111648250107\n",
      "ROC AUC score: 0.6400930804272744\n",
      "PR-AUC/Average_precision_score: 0.18777289927579524\n"
     ]
    }
   ],
   "source": [
    "model_eval_results(df_L1000_test, df_L1000_tst_targets, df_L1000_blend)"
   ]
  },
  {
   "cell_type": "code",
   "execution_count": 31,
   "metadata": {
    "executionInfo": {
     "elapsed": 140680,
     "status": "ok",
     "timestamp": 1619191279801,
     "user": {
      "displayName": "adeniyi adeboye",
      "photoUrl": "",
      "userId": "02625876087283522783"
     },
     "user_tz": 240
    },
    "id": "o1KcxiJH8ukQ"
   },
   "outputs": [],
   "source": [
    "##[4.29598527e-01 3.27312317e-01 2.43089156e-01 5.42101086e-18] <-- modify the model weights\n",
    "df_cp_blend = pd.DataFrame(np.zeros(df_cp_cnn_test.shape), columns = df_cp_cnn_test.columns)\n",
    "df_cp_blend = df_cp_cnn_test*0.35 + df_cp_resnet_test*0.35 + df_cp_tabnet_test*0.25 + df_cp_simplenn_test*0.05"
   ]
  },
  {
   "cell_type": "code",
   "execution_count": 32,
   "metadata": {
    "colab": {
     "base_uri": "https://localhost:8080/"
    },
    "executionInfo": {
     "elapsed": 140670,
     "status": "ok",
     "timestamp": 1619191279802,
     "user": {
      "displayName": "adeniyi adeboye",
      "photoUrl": "",
      "userId": "02625876087283522783"
     },
     "user_tz": 240
    },
    "id": "59jarCzQAjZC",
    "outputId": "69780ebf-e96a-4b37-d1ee-c7a04cf8997d"
   },
   "outputs": [
    {
     "data": {
      "text/plain": [
       "1.0"
      ]
     },
     "execution_count": 32,
     "metadata": {},
     "output_type": "execute_result"
    }
   ],
   "source": [
    "0.35+0.35+0.25+0.05"
   ]
  },
  {
   "cell_type": "code",
   "execution_count": 33,
   "metadata": {
    "colab": {
     "base_uri": "https://localhost:8080/"
    },
    "executionInfo": {
     "elapsed": 152794,
     "status": "ok",
     "timestamp": 1619191291936,
     "user": {
      "displayName": "adeniyi adeboye",
      "photoUrl": "",
      "userId": "02625876087283522783"
     },
     "user_tz": 240
    },
    "id": "dNbcIrr7AjVU",
    "outputId": "e16ee68d-f79a-4c98-bb5d-ec0b456751bb"
   },
   "outputs": [
    {
     "name": "stdout",
     "output_type": "stream",
     "text": [
      "---------- Test data prediction results ----------\n",
      "log loss: 0.014015353367323473\n",
      "ROC AUC score: 0.6504991202441964\n",
      "PR-AUC/Average_precision_score: 0.2216802890802162\n"
     ]
    }
   ],
   "source": [
    "model_eval_results(df_cp_test, df_cp_tst_targets, df_cp_blend)"
   ]
  },
  {
   "cell_type": "code",
   "execution_count": 34,
   "metadata": {
    "executionInfo": {
     "elapsed": 152793,
     "status": "ok",
     "timestamp": 1619191291937,
     "user": {
      "displayName": "adeniyi adeboye",
      "photoUrl": "",
      "userId": "02625876087283522783"
     },
     "user_tz": 240
    },
    "id": "ZmLn5Wd0CZsw"
   },
   "outputs": [],
   "source": [
    "##[0.28574384 0.09796798 0.06528908 0.5509991 ] <-- modify the model weights\n",
    "df_cp_L1000_blend = pd.DataFrame(np.zeros(df_cp_L1000_cnn_test.shape), columns = df_cp_L1000_cnn_test.columns)\n",
    "df_cp_L1000_blend = df_cp_L1000_cnn_test*0.30 + df_cp_L1000_resnet_test*0.20 + df_cp_L1000_tabnet_test*0.15 + df_cp_L1000_simplenn_test*0.35"
   ]
  },
  {
   "cell_type": "code",
   "execution_count": 35,
   "metadata": {
    "colab": {
     "base_uri": "https://localhost:8080/"
    },
    "executionInfo": {
     "elapsed": 152785,
     "status": "ok",
     "timestamp": 1619191291938,
     "user": {
      "displayName": "adeniyi adeboye",
      "photoUrl": "",
      "userId": "02625876087283522783"
     },
     "user_tz": 240
    },
    "id": "_59WTwd3CZpm",
    "outputId": "28c722f0-7544-4b05-9428-e7acb5fa2200"
   },
   "outputs": [
    {
     "data": {
      "text/plain": [
       "1.0"
      ]
     },
     "execution_count": 35,
     "metadata": {},
     "output_type": "execute_result"
    }
   ],
   "source": [
    "0.30+0.20+0.15+0.35"
   ]
  },
  {
   "cell_type": "code",
   "execution_count": 36,
   "metadata": {
    "colab": {
     "base_uri": "https://localhost:8080/"
    },
    "executionInfo": {
     "elapsed": 161085,
     "status": "ok",
     "timestamp": 1619191300247,
     "user": {
      "displayName": "adeniyi adeboye",
      "photoUrl": "",
      "userId": "02625876087283522783"
     },
     "user_tz": 240
    },
    "id": "qem0OrvRCZmh",
    "outputId": "87b4c6ce-359a-4b7e-9783-36daad19531d"
   },
   "outputs": [
    {
     "name": "stdout",
     "output_type": "stream",
     "text": [
      "---------- Test data prediction results ----------\n",
      "log loss: 0.014573075659141312\n",
      "ROC AUC score: 0.6575588295326908\n",
      "PR-AUC/Average_precision_score: 0.17427999450186066\n"
     ]
    }
   ],
   "source": [
    "model_eval_results(df_cp_L1000_test, df_cp_L1000_tst_targets, df_cp_L1000_blend)"
   ]
  },
  {
   "cell_type": "code",
   "execution_count": 37,
   "metadata": {
    "executionInfo": {
     "elapsed": 161083,
     "status": "ok",
     "timestamp": 1619191300247,
     "user": {
      "displayName": "adeniyi adeboye",
      "photoUrl": "",
      "userId": "02625876087283522783"
     },
     "user_tz": 240
    },
    "id": "rJp-I1ZhGCc7"
   },
   "outputs": [],
   "source": [
    "def save_to_csv(df, path, file_name, compress=None):\n",
    "    \"\"\"save dataframes to csv\"\"\"\n",
    "    \n",
    "    if not os.path.exists(path):\n",
    "        os.mkdir(path)\n",
    "    \n",
    "    df.to_csv(os.path.join(path, file_name), index=False, compression=compress)"
   ]
  },
  {
   "cell_type": "code",
   "execution_count": 38,
   "metadata": {
    "executionInfo": {
     "elapsed": 189764,
     "status": "ok",
     "timestamp": 1619191328930,
     "user": {
      "displayName": "adeniyi adeboye",
      "photoUrl": "",
      "userId": "02625876087283522783"
     },
     "user_tz": 240
    },
    "id": "5uf_7raEGbWj"
   },
   "outputs": [],
   "source": [
    "save_to_csv(df_cp_blend, model_preds_dir, f'cp_test_preds_blend{file_indicator}.csv')\n",
    "save_to_csv(df_L1000_blend, model_preds_dir, 'L1000_test_preds_blend.csv')\n",
    "save_to_csv(df_cp_L1000_blend, model_preds_dir, 'cp_L1000_test_preds_blend.csv')"
   ]
  }
 ],
 "metadata": {
  "colab": {
   "authorship_tag": "ABX9TyMIjASzx1gnDWqK9mOwJ+V0",
   "collapsed_sections": [],
   "name": "blend_test_predictions.ipynb",
   "provenance": []
  },
  "kernelspec": {
   "display_name": "Python 3 (ipykernel)",
   "language": "python",
   "name": "python3"
  },
  "language_info": {
   "codemirror_mode": {
    "name": "ipython",
    "version": 3
   },
   "file_extension": ".py",
   "mimetype": "text/x-python",
   "name": "python",
   "nbconvert_exporter": "python",
   "pygments_lexer": "ipython3",
   "version": "3.9.6"
  }
 },
 "nbformat": 4,
 "nbformat_minor": 4
}
