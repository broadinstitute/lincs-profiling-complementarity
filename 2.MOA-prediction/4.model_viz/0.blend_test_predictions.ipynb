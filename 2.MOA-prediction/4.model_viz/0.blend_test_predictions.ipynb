{
 "cells": [
  {
   "cell_type": "markdown",
   "metadata": {
    "id": "TS6DGz2M-XGN"
   },
   "source": [
    "### - Ensemble/Blend the 4 model predictions into a single prediction"
   ]
  },
  {
   "cell_type": "code",
   "execution_count": 1,
   "metadata": {
    "executionInfo": {
     "elapsed": 24528,
     "status": "ok",
     "timestamp": 1619191163454,
     "user": {
      "displayName": "adeniyi adeboye",
      "photoUrl": "",
      "userId": "02625876087283522783"
     },
     "user_tz": 240
    },
    "id": "vEF3nTLDwsxi"
   },
   "outputs": [],
   "source": [
    "import os\n",
    "import datetime\n",
    "from time import time\n",
    "import pathlib\n",
    "import pandas as pd\n",
    "import numpy as np\n",
    "from collections import defaultdict\n",
    "from collections import Counter"
   ]
  },
  {
   "cell_type": "code",
   "execution_count": 2,
   "metadata": {
    "executionInfo": {
     "elapsed": 25623,
     "status": "ok",
     "timestamp": 1619191164551,
     "user": {
      "displayName": "adeniyi adeboye",
      "photoUrl": "",
      "userId": "02625876087283522783"
     },
     "user_tz": 240
    },
    "id": "-wcg5BSZxAP0"
   },
   "outputs": [],
   "source": [
    "from sklearn.metrics import precision_recall_curve,average_precision_score\n",
    "from sklearn.metrics import log_loss, roc_curve\n",
    "from sklearn.metrics import auc,roc_auc_score"
   ]
  },
  {
   "cell_type": "code",
   "execution_count": 3,
   "metadata": {
    "executionInfo": {
     "elapsed": 26609,
     "status": "ok",
     "timestamp": 1619191165540,
     "user": {
      "displayName": "adeniyi adeboye",
      "photoUrl": "",
      "userId": "02625876087283522783"
     },
     "user_tz": 240
    },
    "id": "R1PMjuQ0xANB"
   },
   "outputs": [],
   "source": [
    "from numba import njit\n",
    "from scipy.optimize import minimize, fsolve"
   ]
  },
  {
   "cell_type": "code",
   "execution_count": 4,
   "metadata": {
    "executionInfo": {
     "elapsed": 26651,
     "status": "ok",
     "timestamp": 1619191165664,
     "user": {
      "displayName": "adeniyi adeboye",
      "photoUrl": "",
      "userId": "02625876087283522783"
     },
     "user_tz": 240
    },
    "id": "vhsmubvHxMTD"
   },
   "outputs": [],
   "source": [
    "# The two options here are \"\" and \"_subsample\"\n",
    "file_indicator = \"\"\n",
    "data_dir = pathlib.Path(\"../2.data_split/model_data\")"
   ]
  },
  {
   "cell_type": "code",
   "execution_count": 5,
   "metadata": {
    "executionInfo": {
     "elapsed": 26649,
     "status": "ok",
     "timestamp": 1619191165666,
     "user": {
      "displayName": "adeniyi adeboye",
      "photoUrl": "",
      "userId": "02625876087283522783"
     },
     "user_tz": 240
    },
    "id": "3uvN3s9KxMP4"
   },
   "outputs": [],
   "source": [
    "cp_test = pathlib.Path(f\"{data_dir}/cp/test_lvl4_data{file_indicator}.csv.gz\")\n",
    "L1000_test = pathlib.Path(f\"{data_dir}/L1/test_lvl4_data.csv.gz\")\n",
    "cp_L1000_test = pathlib.Path(f\"{data_dir}/merged/test_lvl4_data.csv.gz\")"
   ]
  },
  {
   "cell_type": "code",
   "execution_count": 6,
   "metadata": {
    "executionInfo": {
     "elapsed": 26648,
     "status": "ok",
     "timestamp": 1619191165668,
     "user": {
      "displayName": "adeniyi adeboye",
      "photoUrl": "",
      "userId": "02625876087283522783"
     },
     "user_tz": 240
    },
    "id": "1we4LVJsOqvG"
   },
   "outputs": [],
   "source": [
    "model_preds_dir = '../L1000_CP_model_predictions/'"
   ]
  },
  {
   "cell_type": "code",
   "execution_count": 7,
   "metadata": {
    "executionInfo": {
     "elapsed": 57591,
     "status": "ok",
     "timestamp": 1619191196614,
     "user": {
      "displayName": "adeniyi adeboye",
      "photoUrl": "",
      "userId": "02625876087283522783"
     },
     "user_tz": 240
    },
    "id": "M4Gc30OyxMK1"
   },
   "outputs": [],
   "source": [
    "df_cp_test = pd.read_csv(cp_test, compression='gzip',low_memory = False)\n",
    "df_L1000_test = pd.read_csv(L1000_test, compression='gzip',low_memory = False)\n",
    "df_cp_L1000_test = pd.read_csv(cp_L1000_test, compression='gzip',low_memory = False)"
   ]
  },
  {
   "cell_type": "code",
   "execution_count": 8,
   "metadata": {},
   "outputs": [
    {
     "data": {
      "text/plain": [
       "(6377, 2296)"
      ]
     },
     "execution_count": 8,
     "metadata": {},
     "output_type": "execute_result"
    }
   ],
   "source": [
    "df_cp_L1000_test.shape"
   ]
  },
  {
   "cell_type": "code",
   "execution_count": 9,
   "metadata": {
    "executionInfo": {
     "elapsed": 66365,
     "status": "ok",
     "timestamp": 1619191205390,
     "user": {
      "displayName": "adeniyi adeboye",
      "photoUrl": "",
      "userId": "02625876087283522783"
     },
     "user_tz": 240
    },
    "id": "L1t8um3OxMIa"
   },
   "outputs": [],
   "source": [
    "##resnet\n",
    "df_cp_resnet_test = pd.read_csv(os.path.join(model_preds_dir, f'cp_test_preds_resnet{file_indicator}.csv'))\n",
    "df_L1000_resnet_test = pd.read_csv(os.path.join(model_preds_dir, 'L1000_test_preds_resnet.csv'))\n",
    "df_cp_L1000_resnet_test = pd.read_csv(os.path.join(model_preds_dir, 'cp_L1000_test_preds_resnet.csv'))"
   ]
  },
  {
   "cell_type": "code",
   "execution_count": 10,
   "metadata": {},
   "outputs": [
    {
     "name": "stdout",
     "output_type": "stream",
     "text": [
      "(6377, 501)\n"
     ]
    },
    {
     "data": {
      "text/html": [
       "<div>\n",
       "<style scoped>\n",
       "    .dataframe tbody tr th:only-of-type {\n",
       "        vertical-align: middle;\n",
       "    }\n",
       "\n",
       "    .dataframe tbody tr th {\n",
       "        vertical-align: top;\n",
       "    }\n",
       "\n",
       "    .dataframe thead th {\n",
       "        text-align: right;\n",
       "    }\n",
       "</style>\n",
       "<table border=\"1\" class=\"dataframe\">\n",
       "  <thead>\n",
       "    <tr style=\"text-align: right;\">\n",
       "      <th></th>\n",
       "      <th>11-beta hydroxysteroid dehydrogenase inhibitor</th>\n",
       "      <th>11-beta-hsd1 inhibitor</th>\n",
       "      <th>17,20 lyase inhibitor</th>\n",
       "      <th>3-ketoacyl coa thiolase inhibitor</th>\n",
       "      <th>3beta-hydroxy-delta5-steroid dehydrogenase inhibitor</th>\n",
       "      <th>5 alpha reductase inhibitor</th>\n",
       "      <th>abl kinase inhibitor</th>\n",
       "      <th>acat inhibitor</th>\n",
       "      <th>acetylcholine precursor</th>\n",
       "      <th>acetylcholine receptor agonist</th>\n",
       "      <th>...</th>\n",
       "      <th>vasopressin receptor antagonist</th>\n",
       "      <th>vegfr inhibitor</th>\n",
       "      <th>vesicular monoamine transporter inhibitor</th>\n",
       "      <th>vitamin b</th>\n",
       "      <th>vitamin d receptor agonist</th>\n",
       "      <th>vitamin k antagonist</th>\n",
       "      <th>voltage-gated sodium channel blocker</th>\n",
       "      <th>voltage-gated sodium channel modulator</th>\n",
       "      <th>xanthine oxidase inhibitor</th>\n",
       "      <th>xiap inhibitor</th>\n",
       "    </tr>\n",
       "  </thead>\n",
       "  <tbody>\n",
       "    <tr>\n",
       "      <th>0</th>\n",
       "      <td>0.001938</td>\n",
       "      <td>0.002205</td>\n",
       "      <td>0.003070</td>\n",
       "      <td>0.002605</td>\n",
       "      <td>0.002573</td>\n",
       "      <td>0.003133</td>\n",
       "      <td>0.002539</td>\n",
       "      <td>0.002732</td>\n",
       "      <td>0.003330</td>\n",
       "      <td>0.011808</td>\n",
       "      <td>...</td>\n",
       "      <td>0.003956</td>\n",
       "      <td>0.018773</td>\n",
       "      <td>0.003153</td>\n",
       "      <td>0.002224</td>\n",
       "      <td>0.005494</td>\n",
       "      <td>0.002787</td>\n",
       "      <td>0.002587</td>\n",
       "      <td>0.002495</td>\n",
       "      <td>0.003048</td>\n",
       "      <td>0.003461</td>\n",
       "    </tr>\n",
       "    <tr>\n",
       "      <th>1</th>\n",
       "      <td>0.001666</td>\n",
       "      <td>0.002112</td>\n",
       "      <td>0.002810</td>\n",
       "      <td>0.002730</td>\n",
       "      <td>0.002381</td>\n",
       "      <td>0.002810</td>\n",
       "      <td>0.002435</td>\n",
       "      <td>0.002561</td>\n",
       "      <td>0.002982</td>\n",
       "      <td>0.011970</td>\n",
       "      <td>...</td>\n",
       "      <td>0.003564</td>\n",
       "      <td>0.014047</td>\n",
       "      <td>0.002938</td>\n",
       "      <td>0.002315</td>\n",
       "      <td>0.005922</td>\n",
       "      <td>0.002802</td>\n",
       "      <td>0.002348</td>\n",
       "      <td>0.002120</td>\n",
       "      <td>0.002625</td>\n",
       "      <td>0.003325</td>\n",
       "    </tr>\n",
       "    <tr>\n",
       "      <th>2</th>\n",
       "      <td>0.002164</td>\n",
       "      <td>0.002208</td>\n",
       "      <td>0.002048</td>\n",
       "      <td>0.002790</td>\n",
       "      <td>0.002645</td>\n",
       "      <td>0.002897</td>\n",
       "      <td>0.003285</td>\n",
       "      <td>0.002913</td>\n",
       "      <td>0.002168</td>\n",
       "      <td>0.005874</td>\n",
       "      <td>...</td>\n",
       "      <td>0.007135</td>\n",
       "      <td>0.009742</td>\n",
       "      <td>0.002348</td>\n",
       "      <td>0.005767</td>\n",
       "      <td>0.005344</td>\n",
       "      <td>0.002812</td>\n",
       "      <td>0.002479</td>\n",
       "      <td>0.002817</td>\n",
       "      <td>0.004267</td>\n",
       "      <td>0.002891</td>\n",
       "    </tr>\n",
       "    <tr>\n",
       "      <th>3</th>\n",
       "      <td>0.001527</td>\n",
       "      <td>0.002445</td>\n",
       "      <td>0.002152</td>\n",
       "      <td>0.002687</td>\n",
       "      <td>0.001900</td>\n",
       "      <td>0.002352</td>\n",
       "      <td>0.002197</td>\n",
       "      <td>0.002496</td>\n",
       "      <td>0.002658</td>\n",
       "      <td>0.010135</td>\n",
       "      <td>...</td>\n",
       "      <td>0.003992</td>\n",
       "      <td>0.009475</td>\n",
       "      <td>0.002836</td>\n",
       "      <td>0.002488</td>\n",
       "      <td>0.004927</td>\n",
       "      <td>0.002799</td>\n",
       "      <td>0.002470</td>\n",
       "      <td>0.002197</td>\n",
       "      <td>0.002683</td>\n",
       "      <td>0.002621</td>\n",
       "    </tr>\n",
       "    <tr>\n",
       "      <th>4</th>\n",
       "      <td>0.001949</td>\n",
       "      <td>0.002003</td>\n",
       "      <td>0.003028</td>\n",
       "      <td>0.002456</td>\n",
       "      <td>0.002507</td>\n",
       "      <td>0.003437</td>\n",
       "      <td>0.002693</td>\n",
       "      <td>0.002691</td>\n",
       "      <td>0.003029</td>\n",
       "      <td>0.011117</td>\n",
       "      <td>...</td>\n",
       "      <td>0.003296</td>\n",
       "      <td>0.021935</td>\n",
       "      <td>0.002958</td>\n",
       "      <td>0.002002</td>\n",
       "      <td>0.005371</td>\n",
       "      <td>0.002576</td>\n",
       "      <td>0.002474</td>\n",
       "      <td>0.002007</td>\n",
       "      <td>0.002835</td>\n",
       "      <td>0.003141</td>\n",
       "    </tr>\n",
       "  </tbody>\n",
       "</table>\n",
       "<p>5 rows × 501 columns</p>\n",
       "</div>"
      ],
      "text/plain": [
       "   11-beta hydroxysteroid dehydrogenase inhibitor  11-beta-hsd1 inhibitor  \\\n",
       "0                                        0.001938                0.002205   \n",
       "1                                        0.001666                0.002112   \n",
       "2                                        0.002164                0.002208   \n",
       "3                                        0.001527                0.002445   \n",
       "4                                        0.001949                0.002003   \n",
       "\n",
       "   17,20 lyase inhibitor  3-ketoacyl coa thiolase inhibitor  \\\n",
       "0               0.003070                           0.002605   \n",
       "1               0.002810                           0.002730   \n",
       "2               0.002048                           0.002790   \n",
       "3               0.002152                           0.002687   \n",
       "4               0.003028                           0.002456   \n",
       "\n",
       "   3beta-hydroxy-delta5-steroid dehydrogenase inhibitor  \\\n",
       "0                                           0.002573      \n",
       "1                                           0.002381      \n",
       "2                                           0.002645      \n",
       "3                                           0.001900      \n",
       "4                                           0.002507      \n",
       "\n",
       "   5 alpha reductase inhibitor  abl kinase inhibitor  acat inhibitor  \\\n",
       "0                     0.003133              0.002539        0.002732   \n",
       "1                     0.002810              0.002435        0.002561   \n",
       "2                     0.002897              0.003285        0.002913   \n",
       "3                     0.002352              0.002197        0.002496   \n",
       "4                     0.003437              0.002693        0.002691   \n",
       "\n",
       "   acetylcholine precursor  acetylcholine receptor agonist  ...  \\\n",
       "0                 0.003330                        0.011808  ...   \n",
       "1                 0.002982                        0.011970  ...   \n",
       "2                 0.002168                        0.005874  ...   \n",
       "3                 0.002658                        0.010135  ...   \n",
       "4                 0.003029                        0.011117  ...   \n",
       "\n",
       "   vasopressin receptor antagonist  vegfr inhibitor  \\\n",
       "0                         0.003956         0.018773   \n",
       "1                         0.003564         0.014047   \n",
       "2                         0.007135         0.009742   \n",
       "3                         0.003992         0.009475   \n",
       "4                         0.003296         0.021935   \n",
       "\n",
       "   vesicular monoamine transporter inhibitor  vitamin b  \\\n",
       "0                                   0.003153   0.002224   \n",
       "1                                   0.002938   0.002315   \n",
       "2                                   0.002348   0.005767   \n",
       "3                                   0.002836   0.002488   \n",
       "4                                   0.002958   0.002002   \n",
       "\n",
       "   vitamin d receptor agonist  vitamin k antagonist  \\\n",
       "0                    0.005494              0.002787   \n",
       "1                    0.005922              0.002802   \n",
       "2                    0.005344              0.002812   \n",
       "3                    0.004927              0.002799   \n",
       "4                    0.005371              0.002576   \n",
       "\n",
       "   voltage-gated sodium channel blocker  \\\n",
       "0                              0.002587   \n",
       "1                              0.002348   \n",
       "2                              0.002479   \n",
       "3                              0.002470   \n",
       "4                              0.002474   \n",
       "\n",
       "   voltage-gated sodium channel modulator  xanthine oxidase inhibitor  \\\n",
       "0                                0.002495                    0.003048   \n",
       "1                                0.002120                    0.002625   \n",
       "2                                0.002817                    0.004267   \n",
       "3                                0.002197                    0.002683   \n",
       "4                                0.002007                    0.002835   \n",
       "\n",
       "   xiap inhibitor  \n",
       "0        0.003461  \n",
       "1        0.003325  \n",
       "2        0.002891  \n",
       "3        0.002621  \n",
       "4        0.003141  \n",
       "\n",
       "[5 rows x 501 columns]"
      ]
     },
     "execution_count": 10,
     "metadata": {},
     "output_type": "execute_result"
    }
   ],
   "source": [
    "print(df_cp_L1000_resnet_test.shape)\n",
    "df_cp_L1000_resnet_test.head()"
   ]
  },
  {
   "cell_type": "code",
   "execution_count": 11,
   "metadata": {
    "executionInfo": {
     "elapsed": 74555,
     "status": "ok",
     "timestamp": 1619191213582,
     "user": {
      "displayName": "adeniyi adeboye",
      "photoUrl": "",
      "userId": "02625876087283522783"
     },
     "user_tz": 240
    },
    "id": "LUw6R7f8xMFj"
   },
   "outputs": [],
   "source": [
    "##1-d cnn\n",
    "df_cp_cnn_test = pd.read_csv(os.path.join(model_preds_dir, f'cp_test_preds_1dcnn{file_indicator}.csv'))\n",
    "df_L1000_cnn_test = pd.read_csv(os.path.join(model_preds_dir, 'L1000_test_preds_1dcnn.csv'))\n",
    "df_cp_L1000_cnn_test = pd.read_csv(os.path.join(model_preds_dir, 'cp_L1000_test_preds_1dcnn.csv'))"
   ]
  },
  {
   "cell_type": "code",
   "execution_count": 12,
   "metadata": {},
   "outputs": [
    {
     "name": "stdout",
     "output_type": "stream",
     "text": [
      "(6377, 501)\n"
     ]
    },
    {
     "data": {
      "text/html": [
       "<div>\n",
       "<style scoped>\n",
       "    .dataframe tbody tr th:only-of-type {\n",
       "        vertical-align: middle;\n",
       "    }\n",
       "\n",
       "    .dataframe tbody tr th {\n",
       "        vertical-align: top;\n",
       "    }\n",
       "\n",
       "    .dataframe thead th {\n",
       "        text-align: right;\n",
       "    }\n",
       "</style>\n",
       "<table border=\"1\" class=\"dataframe\">\n",
       "  <thead>\n",
       "    <tr style=\"text-align: right;\">\n",
       "      <th></th>\n",
       "      <th>11-beta hydroxysteroid dehydrogenase inhibitor</th>\n",
       "      <th>11-beta-hsd1 inhibitor</th>\n",
       "      <th>17,20 lyase inhibitor</th>\n",
       "      <th>3-ketoacyl coa thiolase inhibitor</th>\n",
       "      <th>3beta-hydroxy-delta5-steroid dehydrogenase inhibitor</th>\n",
       "      <th>5 alpha reductase inhibitor</th>\n",
       "      <th>abl kinase inhibitor</th>\n",
       "      <th>acat inhibitor</th>\n",
       "      <th>acetylcholine precursor</th>\n",
       "      <th>acetylcholine receptor agonist</th>\n",
       "      <th>...</th>\n",
       "      <th>vasopressin receptor antagonist</th>\n",
       "      <th>vegfr inhibitor</th>\n",
       "      <th>vesicular monoamine transporter inhibitor</th>\n",
       "      <th>vitamin b</th>\n",
       "      <th>vitamin d receptor agonist</th>\n",
       "      <th>vitamin k antagonist</th>\n",
       "      <th>voltage-gated sodium channel blocker</th>\n",
       "      <th>voltage-gated sodium channel modulator</th>\n",
       "      <th>xanthine oxidase inhibitor</th>\n",
       "      <th>xiap inhibitor</th>\n",
       "    </tr>\n",
       "  </thead>\n",
       "  <tbody>\n",
       "    <tr>\n",
       "      <th>0</th>\n",
       "      <td>0.001980</td>\n",
       "      <td>0.001917</td>\n",
       "      <td>0.001803</td>\n",
       "      <td>0.002748</td>\n",
       "      <td>0.001586</td>\n",
       "      <td>0.002306</td>\n",
       "      <td>0.001961</td>\n",
       "      <td>0.001603</td>\n",
       "      <td>0.002092</td>\n",
       "      <td>0.008626</td>\n",
       "      <td>...</td>\n",
       "      <td>0.004104</td>\n",
       "      <td>0.013053</td>\n",
       "      <td>0.002059</td>\n",
       "      <td>0.003485</td>\n",
       "      <td>0.004394</td>\n",
       "      <td>0.002330</td>\n",
       "      <td>0.001690</td>\n",
       "      <td>0.002255</td>\n",
       "      <td>0.002566</td>\n",
       "      <td>0.001881</td>\n",
       "    </tr>\n",
       "    <tr>\n",
       "      <th>1</th>\n",
       "      <td>0.002050</td>\n",
       "      <td>0.001922</td>\n",
       "      <td>0.001779</td>\n",
       "      <td>0.002356</td>\n",
       "      <td>0.001621</td>\n",
       "      <td>0.002425</td>\n",
       "      <td>0.002128</td>\n",
       "      <td>0.001633</td>\n",
       "      <td>0.001961</td>\n",
       "      <td>0.007785</td>\n",
       "      <td>...</td>\n",
       "      <td>0.004420</td>\n",
       "      <td>0.013642</td>\n",
       "      <td>0.002096</td>\n",
       "      <td>0.003694</td>\n",
       "      <td>0.004778</td>\n",
       "      <td>0.002242</td>\n",
       "      <td>0.001784</td>\n",
       "      <td>0.002126</td>\n",
       "      <td>0.002534</td>\n",
       "      <td>0.002302</td>\n",
       "    </tr>\n",
       "    <tr>\n",
       "      <th>2</th>\n",
       "      <td>0.002630</td>\n",
       "      <td>0.001854</td>\n",
       "      <td>0.001683</td>\n",
       "      <td>0.001690</td>\n",
       "      <td>0.001845</td>\n",
       "      <td>0.002902</td>\n",
       "      <td>0.002761</td>\n",
       "      <td>0.001790</td>\n",
       "      <td>0.001603</td>\n",
       "      <td>0.005536</td>\n",
       "      <td>...</td>\n",
       "      <td>0.005087</td>\n",
       "      <td>0.014557</td>\n",
       "      <td>0.001859</td>\n",
       "      <td>0.004415</td>\n",
       "      <td>0.004550</td>\n",
       "      <td>0.001797</td>\n",
       "      <td>0.001959</td>\n",
       "      <td>0.001774</td>\n",
       "      <td>0.002339</td>\n",
       "      <td>0.004060</td>\n",
       "    </tr>\n",
       "    <tr>\n",
       "      <th>3</th>\n",
       "      <td>0.002078</td>\n",
       "      <td>0.001973</td>\n",
       "      <td>0.001766</td>\n",
       "      <td>0.002216</td>\n",
       "      <td>0.001669</td>\n",
       "      <td>0.002413</td>\n",
       "      <td>0.002231</td>\n",
       "      <td>0.001649</td>\n",
       "      <td>0.001906</td>\n",
       "      <td>0.007271</td>\n",
       "      <td>...</td>\n",
       "      <td>0.004373</td>\n",
       "      <td>0.013555</td>\n",
       "      <td>0.002064</td>\n",
       "      <td>0.003719</td>\n",
       "      <td>0.004600</td>\n",
       "      <td>0.002160</td>\n",
       "      <td>0.001845</td>\n",
       "      <td>0.002129</td>\n",
       "      <td>0.002564</td>\n",
       "      <td>0.002482</td>\n",
       "    </tr>\n",
       "    <tr>\n",
       "      <th>4</th>\n",
       "      <td>0.002480</td>\n",
       "      <td>0.001804</td>\n",
       "      <td>0.001815</td>\n",
       "      <td>0.001859</td>\n",
       "      <td>0.001848</td>\n",
       "      <td>0.002976</td>\n",
       "      <td>0.002719</td>\n",
       "      <td>0.001786</td>\n",
       "      <td>0.001884</td>\n",
       "      <td>0.008072</td>\n",
       "      <td>...</td>\n",
       "      <td>0.004241</td>\n",
       "      <td>0.015414</td>\n",
       "      <td>0.001947</td>\n",
       "      <td>0.003798</td>\n",
       "      <td>0.005123</td>\n",
       "      <td>0.001901</td>\n",
       "      <td>0.001831</td>\n",
       "      <td>0.001794</td>\n",
       "      <td>0.002359</td>\n",
       "      <td>0.002465</td>\n",
       "    </tr>\n",
       "  </tbody>\n",
       "</table>\n",
       "<p>5 rows × 501 columns</p>\n",
       "</div>"
      ],
      "text/plain": [
       "   11-beta hydroxysteroid dehydrogenase inhibitor  11-beta-hsd1 inhibitor  \\\n",
       "0                                        0.001980                0.001917   \n",
       "1                                        0.002050                0.001922   \n",
       "2                                        0.002630                0.001854   \n",
       "3                                        0.002078                0.001973   \n",
       "4                                        0.002480                0.001804   \n",
       "\n",
       "   17,20 lyase inhibitor  3-ketoacyl coa thiolase inhibitor  \\\n",
       "0               0.001803                           0.002748   \n",
       "1               0.001779                           0.002356   \n",
       "2               0.001683                           0.001690   \n",
       "3               0.001766                           0.002216   \n",
       "4               0.001815                           0.001859   \n",
       "\n",
       "   3beta-hydroxy-delta5-steroid dehydrogenase inhibitor  \\\n",
       "0                                           0.001586      \n",
       "1                                           0.001621      \n",
       "2                                           0.001845      \n",
       "3                                           0.001669      \n",
       "4                                           0.001848      \n",
       "\n",
       "   5 alpha reductase inhibitor  abl kinase inhibitor  acat inhibitor  \\\n",
       "0                     0.002306              0.001961        0.001603   \n",
       "1                     0.002425              0.002128        0.001633   \n",
       "2                     0.002902              0.002761        0.001790   \n",
       "3                     0.002413              0.002231        0.001649   \n",
       "4                     0.002976              0.002719        0.001786   \n",
       "\n",
       "   acetylcholine precursor  acetylcholine receptor agonist  ...  \\\n",
       "0                 0.002092                        0.008626  ...   \n",
       "1                 0.001961                        0.007785  ...   \n",
       "2                 0.001603                        0.005536  ...   \n",
       "3                 0.001906                        0.007271  ...   \n",
       "4                 0.001884                        0.008072  ...   \n",
       "\n",
       "   vasopressin receptor antagonist  vegfr inhibitor  \\\n",
       "0                         0.004104         0.013053   \n",
       "1                         0.004420         0.013642   \n",
       "2                         0.005087         0.014557   \n",
       "3                         0.004373         0.013555   \n",
       "4                         0.004241         0.015414   \n",
       "\n",
       "   vesicular monoamine transporter inhibitor  vitamin b  \\\n",
       "0                                   0.002059   0.003485   \n",
       "1                                   0.002096   0.003694   \n",
       "2                                   0.001859   0.004415   \n",
       "3                                   0.002064   0.003719   \n",
       "4                                   0.001947   0.003798   \n",
       "\n",
       "   vitamin d receptor agonist  vitamin k antagonist  \\\n",
       "0                    0.004394              0.002330   \n",
       "1                    0.004778              0.002242   \n",
       "2                    0.004550              0.001797   \n",
       "3                    0.004600              0.002160   \n",
       "4                    0.005123              0.001901   \n",
       "\n",
       "   voltage-gated sodium channel blocker  \\\n",
       "0                              0.001690   \n",
       "1                              0.001784   \n",
       "2                              0.001959   \n",
       "3                              0.001845   \n",
       "4                              0.001831   \n",
       "\n",
       "   voltage-gated sodium channel modulator  xanthine oxidase inhibitor  \\\n",
       "0                                0.002255                    0.002566   \n",
       "1                                0.002126                    0.002534   \n",
       "2                                0.001774                    0.002339   \n",
       "3                                0.002129                    0.002564   \n",
       "4                                0.001794                    0.002359   \n",
       "\n",
       "   xiap inhibitor  \n",
       "0        0.001881  \n",
       "1        0.002302  \n",
       "2        0.004060  \n",
       "3        0.002482  \n",
       "4        0.002465  \n",
       "\n",
       "[5 rows x 501 columns]"
      ]
     },
     "execution_count": 12,
     "metadata": {},
     "output_type": "execute_result"
    }
   ],
   "source": [
    "print(df_cp_L1000_cnn_test.shape)\n",
    "df_cp_L1000_cnn_test.head()"
   ]
  },
  {
   "cell_type": "code",
   "execution_count": 13,
   "metadata": {
    "executionInfo": {
     "elapsed": 81848,
     "status": "ok",
     "timestamp": 1619191220878,
     "user": {
      "displayName": "adeniyi adeboye",
      "photoUrl": "",
      "userId": "02625876087283522783"
     },
     "user_tz": 240
    },
    "id": "MM4lMLqpxMCz"
   },
   "outputs": [],
   "source": [
    "##tabnet\n",
    "df_cp_tabnet_test = pd.read_csv(os.path.join(model_preds_dir, f'cp_test_preds_tabnet{file_indicator}.csv'))\n",
    "df_L1000_tabnet_test = pd.read_csv(os.path.join(model_preds_dir, 'L1000_test_preds_tabnet.csv'))\n",
    "df_cp_L1000_tabnet_test = pd.read_csv(os.path.join(model_preds_dir, 'cp_L1000_test_preds_tabnet.csv'))"
   ]
  },
  {
   "cell_type": "code",
   "execution_count": 14,
   "metadata": {},
   "outputs": [
    {
     "data": {
      "text/plain": [
       "(6377, 501)"
      ]
     },
     "execution_count": 14,
     "metadata": {},
     "output_type": "execute_result"
    }
   ],
   "source": [
    "df_cp_L1000_tabnet_test.shape"
   ]
  },
  {
   "cell_type": "code",
   "execution_count": 15,
   "metadata": {
    "executionInfo": {
     "elapsed": 90214,
     "status": "ok",
     "timestamp": 1619191229246,
     "user": {
      "displayName": "adeniyi adeboye",
      "photoUrl": "",
      "userId": "02625876087283522783"
     },
     "user_tz": 240
    },
    "id": "-lTKsOJExL-v"
   },
   "outputs": [],
   "source": [
    "##stagedNN\n",
    "df_cp_simplenn_test = pd.read_csv(os.path.join(model_preds_dir, f'cp_test_preds_simplenn{file_indicator}.csv'))\n",
    "df_L1000_simplenn_test = pd.read_csv(os.path.join(model_preds_dir, 'L1000_test_preds_simplenn.csv'))\n",
    "df_cp_L1000_simplenn_test = pd.read_csv(os.path.join(model_preds_dir, 'cp_L1000_test_preds_simplenn.csv'))"
   ]
  },
  {
   "cell_type": "code",
   "execution_count": 16,
   "metadata": {},
   "outputs": [
    {
     "data": {
      "text/plain": [
       "(6377, 501)"
      ]
     },
     "execution_count": 16,
     "metadata": {},
     "output_type": "execute_result"
    }
   ],
   "source": [
    "df_cp_L1000_simplenn_test.shape"
   ]
  },
  {
   "cell_type": "code",
   "execution_count": 17,
   "metadata": {
    "executionInfo": {
     "elapsed": 90214,
     "status": "ok",
     "timestamp": 1619191229248,
     "user": {
      "displayName": "adeniyi adeboye",
      "photoUrl": "",
      "userId": "02625876087283522783"
     },
     "user_tz": 240
    },
    "id": "IbAXFwQT1Tjk"
   },
   "outputs": [],
   "source": [
    "df_cp_tst_targets = df_cp_test[df_cp_cnn_test.columns]\n",
    "df_L1000_tst_targets = df_L1000_test[df_L1000_cnn_test.columns]\n",
    "df_cp_L1000_tst_targets = df_cp_L1000_test[df_cp_L1000_cnn_test.columns]"
   ]
  },
  {
   "cell_type": "code",
   "execution_count": 18,
   "metadata": {
    "colab": {
     "base_uri": "https://localhost:8080/"
    },
    "executionInfo": {
     "elapsed": 90205,
     "status": "ok",
     "timestamp": 1619191229249,
     "user": {
      "displayName": "adeniyi adeboye",
      "photoUrl": "",
      "userId": "02625876087283522783"
     },
     "user_tz": 240
    },
    "id": "KOpu4xWC1TYy",
    "outputId": "f8b28fbc-d9b5-4626-aca4-f2fe273bb34c"
   },
   "outputs": [
    {
     "data": {
      "text/plain": [
       "(10788, 501)"
      ]
     },
     "execution_count": 18,
     "metadata": {},
     "output_type": "execute_result"
    }
   ],
   "source": [
    "df_cp_tst_targets.shape"
   ]
  },
  {
   "cell_type": "code",
   "execution_count": 19,
   "metadata": {
    "colab": {
     "base_uri": "https://localhost:8080/"
    },
    "executionInfo": {
     "elapsed": 90310,
     "status": "ok",
     "timestamp": 1619191229363,
     "user": {
      "displayName": "adeniyi adeboye",
      "photoUrl": "",
      "userId": "02625876087283522783"
     },
     "user_tz": 240
    },
    "id": "o8gi0LaPwsz3",
    "outputId": "4542ad2f-c20c-4d2a-ee0b-ca93f6bffabe"
   },
   "outputs": [
    {
     "data": {
      "text/plain": [
       "(6461, 501)"
      ]
     },
     "execution_count": 19,
     "metadata": {},
     "output_type": "execute_result"
    }
   ],
   "source": [
    "df_L1000_tst_targets.shape"
   ]
  },
  {
   "cell_type": "code",
   "execution_count": 20,
   "metadata": {
    "colab": {
     "base_uri": "https://localhost:8080/"
    },
    "executionInfo": {
     "elapsed": 90302,
     "status": "ok",
     "timestamp": 1619191229364,
     "user": {
      "displayName": "adeniyi adeboye",
      "photoUrl": "",
      "userId": "02625876087283522783"
     },
     "user_tz": 240
    },
    "id": "H4oXjEct1-RN",
    "outputId": "ffcdbf54-a5a0-489e-ba08-8f8262b4c23a"
   },
   "outputs": [
    {
     "data": {
      "text/plain": [
       "(6377, 501)"
      ]
     },
     "execution_count": 20,
     "metadata": {},
     "output_type": "execute_result"
    }
   ],
   "source": [
    "df_cp_L1000_tst_targets.shape"
   ]
  },
  {
   "cell_type": "markdown",
   "metadata": {
    "id": "N4lxINrYSAb_"
   },
   "source": [
    "#### - Resnet, 1d-cnn, Tabnet, Simplenn --> 4 model predictions"
   ]
  },
  {
   "cell_type": "code",
   "execution_count": 21,
   "metadata": {
    "executionInfo": {
     "elapsed": 90301,
     "status": "ok",
     "timestamp": 1619191229365,
     "user": {
      "displayName": "adeniyi adeboye",
      "photoUrl": "",
      "userId": "02625876087283522783"
     },
     "user_tz": 240
    },
    "id": "NBEOs6Ny2Y2Q"
   },
   "outputs": [],
   "source": [
    "# CPMP's logloss from https://www.kaggle.com/c/lish-moa/discussion/183010\n",
    "def log_loss_numpy(y_true, y_pred):\n",
    "    y_true_ravel = np.asarray(y_true).ravel()\n",
    "    y_pred = np.asarray(y_pred).ravel()\n",
    "    y_pred = np.clip(y_pred, 1e-15, 1 - 1e-15)\n",
    "    loss = np.where(y_true_ravel == 1, - np.log(y_pred), - np.log(1 - y_pred))\n",
    "    return loss.mean()\n",
    "\n",
    "def func_numpy_metric(weights, oof, y_true):\n",
    "    oof_blend = np.tensordot(weights, oof, axes = ((0), (0)))\n",
    "    return log_loss_numpy(y_true, oof_blend)\n",
    "\n",
    "def grad_func(weights, oof, y_true):\n",
    "    oof_clip = np.clip(oof, 1e-15, 1 - 1e-15)\n",
    "    gradients = np.zeros(oof.shape[0])\n",
    "    for i in range(oof.shape[0]):\n",
    "        a, b, c = y_true, oof_clip[i], np.zeros((oof.shape[1], oof.shape[2]))\n",
    "        for j in range(oof.shape[0]):\n",
    "            if j != i:\n",
    "                c += weights[j] * oof_clip[j]\n",
    "        gradients[i] = -np.mean((-a*b+(b**2)*weights[i]+b*c)/((b**2)*(weights[i]**2)+2*b*c*weights[i]-b*weights[i]+(c**2)-c))\n",
    "    return gradients\n",
    "\n",
    "@njit\n",
    "def grad_func_jit(weights, oof, y_true):\n",
    "    oof_clip = np.minimum(1 - 1e-15, np.maximum(oof, 1e-15))\n",
    "    gradients = np.zeros(oof.shape[0])\n",
    "    for i in range(oof.shape[0]):\n",
    "        a, b, c = y_true, oof_clip[i], np.zeros((oof.shape[1], oof.shape[2]))\n",
    "        for j in range(oof.shape[0]):\n",
    "            if j != i:\n",
    "                c += weights[j] * oof_clip[j]\n",
    "    gradients[i] = -np.mean((-a*b+(b**2)*weights[i]+b*c)/((b**2)*(weights[i]**2)+2*b*c*weights[i]-b*weights[i]+(c**2)-c))\n",
    "    return gradients"
   ]
  },
  {
   "cell_type": "code",
   "execution_count": 22,
   "metadata": {
    "executionInfo": {
     "elapsed": 90300,
     "status": "ok",
     "timestamp": 1619191229366,
     "user": {
      "displayName": "adeniyi adeboye",
      "photoUrl": "",
      "userId": "02625876087283522783"
     },
     "user_tz": 240
    },
    "id": "2U6osFtO2kIC"
   },
   "outputs": [],
   "source": [
    "cp_model_preds = [df_cp_cnn_test, df_cp_resnet_test, df_cp_tabnet_test, df_cp_simplenn_test]\n",
    "L1000_model_preds = [df_L1000_cnn_test, df_L1000_resnet_test, df_L1000_tabnet_test, df_L1000_simplenn_test]\n",
    "cp_L1000_model_preds = [df_cp_L1000_cnn_test, df_cp_L1000_resnet_test, df_cp_L1000_tabnet_test, df_cp_L1000_simplenn_test]"
   ]
  },
  {
   "cell_type": "code",
   "execution_count": 23,
   "metadata": {
    "executionInfo": {
     "elapsed": 90299,
     "status": "ok",
     "timestamp": 1619191229367,
     "user": {
      "displayName": "adeniyi adeboye",
      "photoUrl": "",
      "userId": "02625876087283522783"
     },
     "user_tz": 240
    },
    "id": "M8dsrUmv4lXM"
   },
   "outputs": [],
   "source": [
    "models_name = ['1d-Cnn', 'Resnet', 'Tabnet', 'SimpleNN']\n",
    "\n",
    "def get_optmized_blended_weights(model_oofs, df_targets, num_of_models = 4, models_name = models_name):\n",
    "    \"\"\"\n",
    "    This function assign weights to each of the models used in predicting MOAs based on the log-loss obtained \n",
    "    when comparing each model prediction results with the actual MOA (Mechanism of actions) test labels.\n",
    "\n",
    "    for more info:https://www.kaggle.com/gogo827jz/optimise-blending-weights-with-bonus-0/notebook\n",
    "    \"\"\"\n",
    "    model_oof_preds = np.zeros((num_of_models, df_targets.shape[0], df_targets.shape[1]))\n",
    "    for idx in range(num_of_models):\n",
    "        model_oof_preds[idx] = model_oofs[idx].values\n",
    "        score_oof = log_loss_numpy(df_targets, model_oof_preds[idx])\n",
    "        print(f'{idx} {models_name[idx]}, Test loss:\\t', score_oof)\n",
    "    \n",
    "    tol = 1e-10\n",
    "    init_guess = [1 / model_oof_preds.shape[0]] * model_oof_preds.shape[0]\n",
    "    bnds = [(0, 1) for _ in range(model_oof_preds.shape[0])]\n",
    "    cons = {\n",
    "        'type': 'eq',\n",
    "        'fun': lambda x: np.sum(x) - 1,\n",
    "        'jac': lambda x: [1] * len(x)\n",
    "    }\n",
    "    print('Inital Blend OOF:', func_numpy_metric(init_guess, model_oof_preds, df_targets.values))\n",
    "    \n",
    "    start_time = time()\n",
    "    \n",
    "    res_scipy = minimize(fun = func_numpy_metric, x0 = init_guess, \n",
    "                       args=(model_oof_preds, df_targets.values), \n",
    "                       method = 'SLSQP', ##L-BFGS-B ##SLSQP\n",
    "                       jac = grad_func_jit, # grad_func \n",
    "                       bounds = bnds, constraints = cons, tol = tol)\n",
    "    print(f'[{str(datetime.timedelta(seconds = time() - start_time))[2:7]}] Optimised Blend OOF:', res_scipy.fun)\n",
    "    print('Optimised Weights:', res_scipy.x)\n",
    "    return model_oof_preds, res_scipy.x"
   ]
  },
  {
   "cell_type": "code",
   "execution_count": 24,
   "metadata": {
    "colab": {
     "base_uri": "https://localhost:8080/"
    },
    "executionInfo": {
     "elapsed": 106478,
     "status": "ok",
     "timestamp": 1619191245556,
     "user": {
      "displayName": "adeniyi adeboye",
      "photoUrl": "",
      "userId": "02625876087283522783"
     },
     "user_tz": 240
    },
    "id": "Wz9KFVxb4lTz",
    "outputId": "915d7364-f1d6-474e-a644-7738e6262266"
   },
   "outputs": [
    {
     "name": "stdout",
     "output_type": "stream",
     "text": [
      "0 1d-Cnn, Test loss:\t 0.015094656034591088\n",
      "1 Resnet, Test loss:\t 0.014992913133274473\n",
      "2 Tabnet, Test loss:\t 0.01534340711710992\n",
      "3 SimpleNN, Test loss:\t 0.014535441130296516\n",
      "Inital Blend OOF: 0.014739868911596956\n",
      "[00:03] Optimised Blend OOF: 0.014739868911596959\n",
      "Optimised Weights: [0.25 0.25 0.25 0.25]\n"
     ]
    }
   ],
   "source": [
    "_, L1000_model_weights = get_optmized_blended_weights(L1000_model_preds, df_L1000_tst_targets,)"
   ]
  },
  {
   "cell_type": "code",
   "execution_count": 25,
   "metadata": {
    "colab": {
     "base_uri": "https://localhost:8080/"
    },
    "executionInfo": {
     "elapsed": 121545,
     "status": "ok",
     "timestamp": 1619191260631,
     "user": {
      "displayName": "adeniyi adeboye",
      "photoUrl": "",
      "userId": "02625876087283522783"
     },
     "user_tz": 240
    },
    "id": "aBIh3LPl2j_C",
    "outputId": "60c79cc8-4528-42bd-e992-af3e4d454580"
   },
   "outputs": [
    {
     "name": "stdout",
     "output_type": "stream",
     "text": [
      "0 1d-Cnn, Test loss:\t 0.015287790513669524\n",
      "1 Resnet, Test loss:\t 0.0181778456138349\n",
      "2 Tabnet, Test loss:\t 0.016616414191451667\n",
      "3 SimpleNN, Test loss:\t 0.015324007263338041\n",
      "Inital Blend OOF: 0.015348981922418412\n",
      "[00:03] Optimised Blend OOF: 0.01534898192241842\n",
      "Optimised Weights: [0.25 0.25 0.25 0.25]\n"
     ]
    }
   ],
   "source": [
    "_, cp_model_weights = get_optmized_blended_weights(cp_model_preds, df_cp_tst_targets,)"
   ]
  },
  {
   "cell_type": "code",
   "execution_count": 26,
   "metadata": {
    "colab": {
     "base_uri": "https://localhost:8080/"
    },
    "executionInfo": {
     "elapsed": 133730,
     "status": "ok",
     "timestamp": 1619191272826,
     "user": {
      "displayName": "adeniyi adeboye",
      "photoUrl": "",
      "userId": "02625876087283522783"
     },
     "user_tz": 240
    },
    "id": "0puGmgV92j71",
    "outputId": "44bfe46f-3b85-440f-f989-ad97626d3e80"
   },
   "outputs": [
    {
     "name": "stdout",
     "output_type": "stream",
     "text": [
      "0 1d-Cnn, Test loss:\t 0.015184273443034357\n",
      "1 Resnet, Test loss:\t 0.015370971334018558\n",
      "2 Tabnet, Test loss:\t 0.015159153936166096\n",
      "3 SimpleNN, Test loss:\t 0.015157582526896347\n",
      "Inital Blend OOF: 0.014841762416996009\n",
      "[00:02] Optimised Blend OOF: 0.014841762416996012\n",
      "Optimised Weights: [0.25 0.25 0.25 0.25]\n"
     ]
    }
   ],
   "source": [
    "_, cp_L1000_model_weights = get_optmized_blended_weights(cp_L1000_model_preds, df_cp_L1000_tst_targets)"
   ]
  },
  {
   "cell_type": "code",
   "execution_count": 27,
   "metadata": {
    "executionInfo": {
     "elapsed": 133728,
     "status": "ok",
     "timestamp": 1619191272827,
     "user": {
      "displayName": "adeniyi adeboye",
      "photoUrl": "",
      "userId": "02625876087283522783"
     },
     "user_tz": 240
    },
    "id": "RSRg-vjs8uqR"
   },
   "outputs": [],
   "source": [
    "def model_eval_results(df_tst, df_tst_y, df_preds):\n",
    "    \"\"\"\n",
    "    This function prints out the model evaluation results from the train and test predictions.\n",
    "    The evaluation metrics used in assessing the performance of the models are: ROC AUC score,\n",
    "    log loss and Precision-Recall AUC score\n",
    "    \"\"\"\n",
    "    eval_metrics = ['log loss', 'ROC AUC score', 'PR-AUC/Average_precision_score',]\n",
    "    moa_class_list = df_tst['moa'].unique()\n",
    "    val_moas = [moa for moa_list in moa_class_list for moa in moa_list.split('|')]\n",
    "    print('-' * 10, 'Test data prediction results', '-' * 10)\n",
    "    print(f'{eval_metrics[0]}:', log_loss(np.ravel(df_tst_y), np.ravel(df_preds)))\n",
    "    print(f'{eval_metrics[1]}:', roc_auc_score(df_tst_y[val_moas],df_preds[val_moas], average='macro'))\n",
    "    print(f'{eval_metrics[2]}:', average_precision_score(df_tst_y[val_moas], df_preds[val_moas], average=\"micro\"))"
   ]
  },
  {
   "cell_type": "code",
   "execution_count": 28,
   "metadata": {
    "executionInfo": {
     "elapsed": 133860,
     "status": "ok",
     "timestamp": 1619191272961,
     "user": {
      "displayName": "adeniyi adeboye",
      "photoUrl": "",
      "userId": "02625876087283522783"
     },
     "user_tz": 240
    },
    "id": "BqJlcNH7ws4a"
   },
   "outputs": [],
   "source": [
    "##[1.57502187e-01,1.15142271e-16,0.00000000e+00,8.42497813e-01] <-- modify the model weights\n",
    "df_L1000_blend = pd.DataFrame(np.zeros(df_L1000_cnn_test.shape), columns = df_L1000_cnn_test.columns)\n",
    "df_L1000_blend = df_L1000_cnn_test*0.45 + df_L1000_resnet_test*0.05 + df_L1000_tabnet_test*0.05 + df_L1000_simplenn_test*0.45"
   ]
  },
  {
   "cell_type": "code",
   "execution_count": 29,
   "metadata": {
    "colab": {
     "base_uri": "https://localhost:8080/"
    },
    "executionInfo": {
     "elapsed": 133852,
     "status": "ok",
     "timestamp": 1619191272962,
     "user": {
      "displayName": "adeniyi adeboye",
      "photoUrl": "",
      "userId": "02625876087283522783"
     },
     "user_tz": 240
    },
    "id": "MEPUWJlf-WAA",
    "outputId": "5be9ad9c-6e8b-471f-bdcc-75d50b38fd07"
   },
   "outputs": [
    {
     "data": {
      "text/plain": [
       "1.0"
      ]
     },
     "execution_count": 29,
     "metadata": {},
     "output_type": "execute_result"
    }
   ],
   "source": [
    "0.45+(0.05*2)+0.45"
   ]
  },
  {
   "cell_type": "code",
   "execution_count": 30,
   "metadata": {
    "colab": {
     "base_uri": "https://localhost:8080/"
    },
    "executionInfo": {
     "elapsed": 140566,
     "status": "ok",
     "timestamp": 1619191279685,
     "user": {
      "displayName": "adeniyi adeboye",
      "photoUrl": "",
      "userId": "02625876087283522783"
     },
     "user_tz": 240
    },
    "id": "7SYNBFtW8unR",
    "outputId": "dd64d35f-6640-486c-a2ac-b589851388d5"
   },
   "outputs": [
    {
     "name": "stdout",
     "output_type": "stream",
     "text": [
      "---------- Test data prediction results ----------\n",
      "log loss: 0.014616374548229026\n",
      "ROC AUC score: 0.6311056052114028\n",
      "PR-AUC/Average_precision_score: 0.1214893193877498\n"
     ]
    }
   ],
   "source": [
    "model_eval_results(df_L1000_test, df_L1000_tst_targets, df_L1000_blend)"
   ]
  },
  {
   "cell_type": "code",
   "execution_count": 31,
   "metadata": {
    "executionInfo": {
     "elapsed": 140680,
     "status": "ok",
     "timestamp": 1619191279801,
     "user": {
      "displayName": "adeniyi adeboye",
      "photoUrl": "",
      "userId": "02625876087283522783"
     },
     "user_tz": 240
    },
    "id": "o1KcxiJH8ukQ"
   },
   "outputs": [],
   "source": [
    "##[4.29598527e-01 3.27312317e-01 2.43089156e-01 5.42101086e-18] <-- modify the model weights\n",
    "df_cp_blend = pd.DataFrame(np.zeros(df_cp_cnn_test.shape), columns = df_cp_cnn_test.columns)\n",
    "df_cp_blend = df_cp_cnn_test*0.35 + df_cp_resnet_test*0.35 + df_cp_tabnet_test*0.25 + df_cp_simplenn_test*0.05"
   ]
  },
  {
   "cell_type": "code",
   "execution_count": 32,
   "metadata": {
    "colab": {
     "base_uri": "https://localhost:8080/"
    },
    "executionInfo": {
     "elapsed": 140670,
     "status": "ok",
     "timestamp": 1619191279802,
     "user": {
      "displayName": "adeniyi adeboye",
      "photoUrl": "",
      "userId": "02625876087283522783"
     },
     "user_tz": 240
    },
    "id": "59jarCzQAjZC",
    "outputId": "69780ebf-e96a-4b37-d1ee-c7a04cf8997d"
   },
   "outputs": [
    {
     "data": {
      "text/plain": [
       "1.0"
      ]
     },
     "execution_count": 32,
     "metadata": {},
     "output_type": "execute_result"
    }
   ],
   "source": [
    "0.35+0.35+0.25+0.05"
   ]
  },
  {
   "cell_type": "code",
   "execution_count": 33,
   "metadata": {
    "colab": {
     "base_uri": "https://localhost:8080/"
    },
    "executionInfo": {
     "elapsed": 152794,
     "status": "ok",
     "timestamp": 1619191291936,
     "user": {
      "displayName": "adeniyi adeboye",
      "photoUrl": "",
      "userId": "02625876087283522783"
     },
     "user_tz": 240
    },
    "id": "dNbcIrr7AjVU",
    "outputId": "e16ee68d-f79a-4c98-bb5d-ec0b456751bb"
   },
   "outputs": [
    {
     "name": "stdout",
     "output_type": "stream",
     "text": [
      "---------- Test data prediction results ----------\n",
      "log loss: 0.015516240745277658\n",
      "ROC AUC score: 0.6097720702817173\n",
      "PR-AUC/Average_precision_score: 0.08623303304808463\n"
     ]
    }
   ],
   "source": [
    "model_eval_results(df_cp_test, df_cp_tst_targets, df_cp_blend)"
   ]
  },
  {
   "cell_type": "code",
   "execution_count": 34,
   "metadata": {
    "executionInfo": {
     "elapsed": 152793,
     "status": "ok",
     "timestamp": 1619191291937,
     "user": {
      "displayName": "adeniyi adeboye",
      "photoUrl": "",
      "userId": "02625876087283522783"
     },
     "user_tz": 240
    },
    "id": "ZmLn5Wd0CZsw"
   },
   "outputs": [],
   "source": [
    "##[0.28574384 0.09796798 0.06528908 0.5509991 ] <-- modify the model weights\n",
    "df_cp_L1000_blend = pd.DataFrame(np.zeros(df_cp_L1000_cnn_test.shape), columns = df_cp_L1000_cnn_test.columns)\n",
    "df_cp_L1000_blend = df_cp_L1000_cnn_test*0.30 + df_cp_L1000_resnet_test*0.20 + df_cp_L1000_tabnet_test*0.15 + df_cp_L1000_simplenn_test*0.35"
   ]
  },
  {
   "cell_type": "code",
   "execution_count": 35,
   "metadata": {
    "colab": {
     "base_uri": "https://localhost:8080/"
    },
    "executionInfo": {
     "elapsed": 152785,
     "status": "ok",
     "timestamp": 1619191291938,
     "user": {
      "displayName": "adeniyi adeboye",
      "photoUrl": "",
      "userId": "02625876087283522783"
     },
     "user_tz": 240
    },
    "id": "_59WTwd3CZpm",
    "outputId": "28c722f0-7544-4b05-9428-e7acb5fa2200"
   },
   "outputs": [
    {
     "data": {
      "text/plain": [
       "1.0"
      ]
     },
     "execution_count": 35,
     "metadata": {},
     "output_type": "execute_result"
    }
   ],
   "source": [
    "0.30+0.20+0.15+0.35"
   ]
  },
  {
   "cell_type": "code",
   "execution_count": 36,
   "metadata": {
    "colab": {
     "base_uri": "https://localhost:8080/"
    },
    "executionInfo": {
     "elapsed": 161085,
     "status": "ok",
     "timestamp": 1619191300247,
     "user": {
      "displayName": "adeniyi adeboye",
      "photoUrl": "",
      "userId": "02625876087283522783"
     },
     "user_tz": 240
    },
    "id": "qem0OrvRCZmh",
    "outputId": "87b4c6ce-359a-4b7e-9783-36daad19531d"
   },
   "outputs": [
    {
     "name": "stdout",
     "output_type": "stream",
     "text": [
      "---------- Test data prediction results ----------\n",
      "log loss: 0.014801540340880218\n",
      "ROC AUC score: 0.6191562806102473\n",
      "PR-AUC/Average_precision_score: 0.11195125170174072\n"
     ]
    }
   ],
   "source": [
    "model_eval_results(df_cp_L1000_test, df_cp_L1000_tst_targets, df_cp_L1000_blend)"
   ]
  },
  {
   "cell_type": "code",
   "execution_count": 37,
   "metadata": {
    "executionInfo": {
     "elapsed": 161083,
     "status": "ok",
     "timestamp": 1619191300247,
     "user": {
      "displayName": "adeniyi adeboye",
      "photoUrl": "",
      "userId": "02625876087283522783"
     },
     "user_tz": 240
    },
    "id": "rJp-I1ZhGCc7"
   },
   "outputs": [],
   "source": [
    "def save_to_csv(df, path, file_name, compress=None):\n",
    "    \"\"\"save dataframes to csv\"\"\"\n",
    "    \n",
    "    if not os.path.exists(path):\n",
    "        os.mkdir(path)\n",
    "    \n",
    "    df.to_csv(os.path.join(path, file_name), index=False, compression=compress)"
   ]
  },
  {
   "cell_type": "code",
   "execution_count": 38,
   "metadata": {
    "executionInfo": {
     "elapsed": 189764,
     "status": "ok",
     "timestamp": 1619191328930,
     "user": {
      "displayName": "adeniyi adeboye",
      "photoUrl": "",
      "userId": "02625876087283522783"
     },
     "user_tz": 240
    },
    "id": "5uf_7raEGbWj"
   },
   "outputs": [],
   "source": [
    "save_to_csv(df_cp_blend, model_preds_dir, f'cp_test_preds_blend{file_indicator}.csv')\n",
    "save_to_csv(df_L1000_blend, model_preds_dir, 'L1000_test_preds_blend.csv')\n",
    "save_to_csv(df_cp_L1000_blend, model_preds_dir, 'cp_L1000_test_preds_blend.csv')"
   ]
  }
 ],
 "metadata": {
  "colab": {
   "authorship_tag": "ABX9TyMIjASzx1gnDWqK9mOwJ+V0",
   "collapsed_sections": [],
   "name": "blend_test_predictions.ipynb",
   "provenance": []
  },
  "kernelspec": {
   "display_name": "Python 3 (ipykernel)",
   "language": "python",
   "name": "python3"
  },
  "language_info": {
   "codemirror_mode": {
    "name": "ipython",
    "version": 3
   },
   "file_extension": ".py",
   "mimetype": "text/x-python",
   "name": "python",
   "nbconvert_exporter": "python",
   "pygments_lexer": "ipython3",
   "version": "3.9.6"
  }
 },
 "nbformat": 4,
 "nbformat_minor": 4
}
