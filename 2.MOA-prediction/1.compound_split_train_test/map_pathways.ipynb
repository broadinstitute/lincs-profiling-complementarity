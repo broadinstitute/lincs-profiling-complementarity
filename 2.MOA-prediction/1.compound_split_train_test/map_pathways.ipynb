{
 "cells": [
  {
   "cell_type": "markdown",
   "id": "37388077-e6a3-4d71-9333-0f2de653352a",
   "metadata": {},
   "source": [
    "## Map compound target genes to Gene Ontology Pathways"
   ]
  },
  {
   "cell_type": "code",
   "execution_count": 1,
   "id": "0f7ecbd8-7780-4eb6-ba84-02565afa3828",
   "metadata": {},
   "outputs": [
    {
     "name": "stderr",
     "output_type": "stream",
     "text": [
      "\n",
      "groupGOTerms: \tGOBPTerm, GOMFTerm, GOCCTerm environments built.\n",
      "\n"
     ]
    }
   ],
   "source": [
    "suppressPackageStartupMessages(library(dplyr))\n",
    "suppressPackageStartupMessages(library(topGO))"
   ]
  },
  {
   "cell_type": "code",
   "execution_count": 2,
   "id": "ac868ff8-654b-4df1-8515-3ac4222e32a3",
   "metadata": {},
   "outputs": [
    {
     "name": "stdout",
     "output_type": "stream",
     "text": [
      "[1] 744\n",
      "[1] 3178    9\n"
     ]
    },
    {
     "data": {
      "text/html": [
       "<table class=\"dataframe\">\n",
       "<caption>A tibble: 3 × 9</caption>\n",
       "<thead>\n",
       "\t<tr><th scope=col>pert_iname</th><th scope=col>moa</th><th scope=col>train</th><th scope=col>test</th><th scope=col>marked</th><th scope=col>target_unique</th><th scope=col>clinical_phase</th><th scope=col>disease_area</th><th scope=col>indication</th></tr>\n",
       "\t<tr><th scope=col>&lt;chr&gt;</th><th scope=col>&lt;chr&gt;</th><th scope=col>&lt;lgl&gt;</th><th scope=col>&lt;lgl&gt;</th><th scope=col>&lt;lgl&gt;</th><th scope=col>&lt;chr&gt;</th><th scope=col>&lt;chr&gt;</th><th scope=col>&lt;chr&gt;</th><th scope=col>&lt;chr&gt;</th></tr>\n",
       "</thead>\n",
       "<tbody>\n",
       "\t<tr><td>ketoprofen</td><td>cyclooxygenase inhibitor</td><td>TRUE</td><td>FALSE</td><td>TRUE</td><td>PTGS1 </td><td>Launched</td><td>rheumatology</td><td>rheumatoid arthritis|osteoarthritis</td></tr>\n",
       "\t<tr><td>ketoprofen</td><td>cyclooxygenase inhibitor</td><td>TRUE</td><td>FALSE</td><td>TRUE</td><td>PTGS2 </td><td>Launched</td><td>rheumatology</td><td>rheumatoid arthritis|osteoarthritis</td></tr>\n",
       "\t<tr><td>ketoprofen</td><td>cyclooxygenase inhibitor</td><td>TRUE</td><td>FALSE</td><td>TRUE</td><td>SLC5A8</td><td>Launched</td><td>rheumatology</td><td>rheumatoid arthritis|osteoarthritis</td></tr>\n",
       "</tbody>\n",
       "</table>\n"
      ],
      "text/latex": [
       "A tibble: 3 × 9\n",
       "\\begin{tabular}{lllllllll}\n",
       " pert\\_iname & moa & train & test & marked & target\\_unique & clinical\\_phase & disease\\_area & indication\\\\\n",
       " <chr> & <chr> & <lgl> & <lgl> & <lgl> & <chr> & <chr> & <chr> & <chr>\\\\\n",
       "\\hline\n",
       "\t ketoprofen & cyclooxygenase inhibitor & TRUE & FALSE & TRUE & PTGS1  & Launched & rheumatology & rheumatoid arthritis\\textbar{}osteoarthritis\\\\\n",
       "\t ketoprofen & cyclooxygenase inhibitor & TRUE & FALSE & TRUE & PTGS2  & Launched & rheumatology & rheumatoid arthritis\\textbar{}osteoarthritis\\\\\n",
       "\t ketoprofen & cyclooxygenase inhibitor & TRUE & FALSE & TRUE & SLC5A8 & Launched & rheumatology & rheumatoid arthritis\\textbar{}osteoarthritis\\\\\n",
       "\\end{tabular}\n"
      ],
      "text/markdown": [
       "\n",
       "A tibble: 3 × 9\n",
       "\n",
       "| pert_iname &lt;chr&gt; | moa &lt;chr&gt; | train &lt;lgl&gt; | test &lt;lgl&gt; | marked &lt;lgl&gt; | target_unique &lt;chr&gt; | clinical_phase &lt;chr&gt; | disease_area &lt;chr&gt; | indication &lt;chr&gt; |\n",
       "|---|---|---|---|---|---|---|---|---|\n",
       "| ketoprofen | cyclooxygenase inhibitor | TRUE | FALSE | TRUE | PTGS1  | Launched | rheumatology | rheumatoid arthritis|osteoarthritis |\n",
       "| ketoprofen | cyclooxygenase inhibitor | TRUE | FALSE | TRUE | PTGS2  | Launched | rheumatology | rheumatoid arthritis|osteoarthritis |\n",
       "| ketoprofen | cyclooxygenase inhibitor | TRUE | FALSE | TRUE | SLC5A8 | Launched | rheumatology | rheumatoid arthritis|osteoarthritis |\n",
       "\n"
      ],
      "text/plain": [
       "  pert_iname moa                      train test  marked target_unique\n",
       "1 ketoprofen cyclooxygenase inhibitor TRUE  FALSE TRUE   PTGS1        \n",
       "2 ketoprofen cyclooxygenase inhibitor TRUE  FALSE TRUE   PTGS2        \n",
       "3 ketoprofen cyclooxygenase inhibitor TRUE  FALSE TRUE   SLC5A8       \n",
       "  clinical_phase disease_area indication                         \n",
       "1 Launched       rheumatology rheumatoid arthritis|osteoarthritis\n",
       "2 Launched       rheumatology rheumatoid arthritis|osteoarthritis\n",
       "3 Launched       rheumatology rheumatoid arthritis|osteoarthritis"
      ]
     },
     "metadata": {},
     "output_type": "display_data"
    }
   ],
   "source": [
    "# Load compound target info\n",
    "cpd_file <- file.path(\"data\", \"split_moas_targets_cpds.csv\")\n",
    "\n",
    "cpd_df <- readr::read_csv(cpd_file, show_col_types = FALSE)\n",
    "\n",
    "# How many unique targets:\n",
    "print(length(unique(cpd_df$target_unique)))\n",
    "print(dim(cpd_df))\n",
    "head(cpd_df, 3)"
   ]
  },
  {
   "cell_type": "code",
   "execution_count": 3,
   "id": "d5ac909f-3209-4829-9af4-2e9f42d7faa3",
   "metadata": {},
   "outputs": [
    {
     "name": "stderr",
     "output_type": "stream",
     "text": [
      "Loading required package: org.Hs.eg.db\n",
      "\n",
      "\n",
      "\n"
     ]
    }
   ],
   "source": [
    "# For each GO ontology, map target genes to pathways\n",
    "go_ontologies <- c(\"BP\", \"CC\", \"MF\")\n",
    "\n",
    "go_mapping_df <- list()\n",
    "for (go_ont in go_ontologies) {\n",
    "    # Identify total gene map per ontology\n",
    "    geneMap <- topGO::annFUN.org(\n",
    "        whichOnto = go_ont,\n",
    "        feasibleGenes = NULL,\n",
    "        mapping = \"org.Hs.eg.db\",\n",
    "        ID = \"symbol\"\n",
    "    )\n",
    "    \n",
    "    # Pull pathway assignment per target\n",
    "    target_pathways <- topGO::inverseList(\n",
    "        topGO::annFUN.GO2genes(\n",
    "            whichOnto = go_ont,\n",
    "            feasibleGenes = cpd_df$target_unique,\n",
    "            GO2genes = geneMap\n",
    "        )\n",
    "    )\n",
    "    \n",
    "    # Clean the data for easier input analysis downstream\n",
    "    go_term_dfs <- list()\n",
    "    for (gene in names(target_pathways)) {\n",
    "        go_terms <- target_pathways[[gene]]\n",
    "        go_terms <- dplyr::tibble(go_terms, gene)\n",
    "        colnames(go_terms) <- c(\"go_term\", \"gene\")\n",
    "        go_term_dfs[[gene]] <- go_terms\n",
    "    }\n",
    "    \n",
    "    go_mapping_df[[go_ont]] <- do.call(rbind, go_term_dfs) %>%\n",
    "        dplyr::as_tibble() %>%\n",
    "        dplyr::mutate(go_ontology = go_ont)\n",
    "}"
   ]
  },
  {
   "cell_type": "code",
   "execution_count": 4,
   "id": "548de5de-5f5d-4434-a854-ce7aa18c164f",
   "metadata": {},
   "outputs": [
    {
     "name": "stdout",
     "output_type": "stream",
     "text": [
      "[1] 5822\n",
      "[1] 732\n"
     ]
    },
    {
     "data": {
      "text/plain": [
       "\n",
       "    AKT1     TP53      SRC      TNF     ABL1     MTOR    PSEN1     EGFR \n",
       "     179      170      166      160      143      142      138      137 \n",
       "    BCL2     DRD2     CDK5     JAK2    STAT3     RELA    PPARG     PKD2 \n",
       "     135      123      115      115      109      108      105      103 \n",
       "     SYK    ANXA1     IL1B      IL6      KIT    GSK3B     MDM2   PDGFRB \n",
       "      99       96       96       96       94       93       93       93 \n",
       "   GPER1   PRKAA1    HDAC1    HDAC6     RARA    ROCK1    KCNQ1    PTGS2 \n",
       "      89       88       85       85       84       84       83       80 \n",
       "  HSPA1A    PPARD       AR    ITGB3   MAPK14    ROCK2      SMO    PARP1 \n",
       "      79       79       78       78       78       78       78       77 \n",
       "   PRKCD     ESR1      INS    CALM1     CDK1    ITGAV    PPARA    ABCA1 \n",
       "      77       76       76       75       75       75       75       74 \n",
       "   HSPA5   PDGFRA     PTK2     CCR2     INSR    HDAC2    HDAC4 HSP90AA1 \n",
       "      74       74       74       73       73       72       72       72 \n",
       " ADORA2A   SLC9A1   ADORA1      KDR     PLK1    SCN5A     AQP1   PRKACA \n",
       "      71       71       70       70       70       70       69       69 \n",
       "    NOS1   PIK3CA     CDH2   CYP1A1     LDLR      CAT   ATP1A1   AKR1C3 \n",
       "      68       68       66       66       66       65       64       63 \n",
       "    DRD3    PRKCE    TRPV1    ERBB2      ADA   CHRNB2  SLC12A2   CHRNA7 \n",
       "      63       63       63       62       61       61       61       60 \n",
       "   OPRM1   PIK3CG   ADRA1A    AURKA     CCL2     GHSR    HTR2A    ITGB2 \n",
       "      59       59       58       58       58       58       58       58 \n",
       "  MAP2K1     CFTR    GLRA1     HRAS      LTF    MMP14   ADRA2A   BCL2L1 \n",
       "      58       57       57       57       57       57       56       56 \n",
       "   ERBB4      IHH      RET    BIRC2     NOS3   PRKAA2     CNR1    HTR2B \n",
       "      56       56       56       55       55       55       54       54 \n",
       "   ADRB2     NOS2   SLC6A3      ACE    CSF1R      MME    NFKB1    OPRK1 \n",
       "      53       53       53       52       52       52       52       52 \n",
       "  PIK3CD     RAF1     CDK4    GRIN1      LCK      LPL    PDPK1    ALOX5 \n",
       "      52       52       51       51       51       51       51       50 \n",
       "   AURKB      GHR    IGF1R    KCNA5    FURIN   GRIN2A   P2RY12    PDE2A \n",
       "      50       50       50       50       49       49       49       49 \n",
       "   PRKCA    PRKCB   SRD5A1   AKR1B1       F2     FGF1    NR1H4     OXTR \n",
       "      49       49       49       48       48       48       48       48 \n",
       "  PIK3CB   SLC6A4     CHUK   CYP3A4    EDNRB    ENPP1    FGFR1      HCK \n",
       "      48       48       47       47       47       47       47       47 \n",
       "   TRPM4      AHR   CYP1A2     DRD4     KRAS    NR3C1     RARG     CPS1 \n",
       "      47       46       46       46       46       46       46       45 \n",
       "   ELANE    IKBKB   KCNJ11     MMP9     NOX4    PRKCG    PTAFR    AGTR2 \n",
       "      45       45       45       45       45       45       45       44 \n",
       "    FLT3    TRPM2     CDK2      MET     NQO1     RXRA    TOP2A    ABCC1 \n",
       "      44       44       43       43       43       43       43       42 \n",
       "  AKR1C1     CTSL    CXCR2   FKBP1A    GRIA1      XDH     CDK9   DNMT3A \n",
       "      42       42       42       42       42       42       41       41 \n",
       "    DPP4   GABRA5    HDAC3    ITGA4  SLC7A11     THRA      VDR    ABCC8 \n",
       "      41       41       41       41       41       41       41       40 \n",
       "    ACE2     ACHE   AVPR1A  CACNA1C     CDK6     COMT      DBH     FLT4 \n",
       "      40       40       40       40       40       40       40       40 \n",
       "  GRIN2B    KCNH2     MTTP    AGTR1     DRD1     JAK3   NFKBIA    PDE4D \n",
       "      40       40       40       39       39       39       39       39 \n",
       "    RYR1    SMPD1     TLR7   CHRNA4     FLT1     GRM5    HDAC5    HTR1B \n",
       "      39       39       39       38       38       38       38       38 \n",
       "   OPRD1   PKD2L1   SLC6A1     YES1     FASN     G6PD     GLRB    HDAC9 \n",
       "      38       38       38       38       37       37       37       37 \n",
       "   HMGCR   MAP2K2  PLA2G1B     POLB     DRD5    PRKCQ     CCR5    CHRM1 \n",
       "      37       37       37       37       36       36       35       35 \n",
       "  CHRNA3    ESRRB   UGT1A1   ABCB11   GABRB2   PRKAG2   SLC5A1     TLR8 \n",
       "      35       35       35       34       34       34       34       34 \n",
       "    TYMS      ALK   CACNG2     CDK7   GABRA2   GABRG2     MMP2      MPO \n",
       "      34       33       33       33       33       33       33       33 \n",
       "   NR0B1     RARB   CHRNA1     CTSG   CYP2C9   CYP2D6   GABRA1   GABRB1 \n",
       "      33       33       32       32       32       32       32       32 \n",
       "   HPRT1    KCNA2    KCNH1    MMP12    PDE4B      PLG   SCNN1B    TRPC5 \n",
       "      32       32       32       32       32       32       32       32 \n",
       "    TUBB  CACNA1G     CETP    HTR2C      PGR      PNP    POLA1    POLD1 \n",
       "      32       31       31       31       31       31       31       31 \n",
       " RPS6KA3   ADRA2C   CALCRL     CCL7     CCL8    CHRM3      GAA     JAK1 \n",
       "      31       30       30       30       30       30       30       30 \n",
       "    MMP8   PI4K2A     PIM1  SLC29A1  SLC29A4     THRB     TOP1     ANO1 \n",
       "      30       30       30       30       30       30       30       29 \n",
       "   AVPR2      BCR      CA2  CACNA1H    DNMT1   GRIN3A    KCND2    ADRB1 \n",
       "      29       29       29       29       29       29       29       28 \n",
       "    AOC1     BCHE   CACNB2   CACNB3    CPT1A      DDC     ESR2   GABRG3 \n",
       "      28       28       28       28       28       28       28       28 \n",
       "   GLRA2    PRDX5  S100A12  SLC18A2   SLC6A2     XIAP     BST1  CACNA1D \n",
       "      28       28       28       28       28       28       27       27 \n",
       "  CACNG3   CYP2C8   GABRA3   GABRG1     GNAS   HDAC10    HTR3A    KCND3 \n",
       "      27       27       27       27       27       27       27       27 \n",
       "   PANX1     POMC    SCN2A   SLC6A9   AKR1A1     ARG2     BRAF  CHRNA10 \n",
       "      27       27       27       27       26       26       26       26 \n",
       "  CHRNB4     CTSK    EDNRA   GABRA4   GABRA6      GCK    GRIA2   GRIN2C \n",
       "      26       26       26       26       26       26       26       26 \n",
       "   HDAC7    KCNJ8   KCNMA1    LIMK1  PLA2G2A   PRKAG1    RAMP1     SIK1 \n",
       "      26       26       26       26       26       26       26       26 \n",
       "     TYR   CACNG4   CACNG7     CES1     CNR2    GABRE    KCNK1    KCNK2 \n",
       "      26       25       25       25       25       25       25       25 \n",
       "   KCNN4   MAN2A1    NR1I2     PLAU   PTGER4    SSTR3   TBXA2R   TUBA1A \n",
       "      25       25       25       25       25       25       25       25 \n",
       "   ACACB   ADRA2B     ALPL    ASIC1    ASIC2  CACNA1A  CYP2C19    HDAC8 \n",
       "      24       24       24       24       24       24       24       24 \n",
       "    HRH1    HTR1A     MAOB     MMP7    NFKB2     PLAT    PRKCH     PYGL \n",
       "      24       24       24       24       24       24       24       24 \n",
       "    RYR3  S100A13    SIRT5  SLC12A5    ANPEP   BCL2L2    CHRM2   CHRNA9 \n",
       "      24       24       24       24       23       23       23       23 \n",
       "   CMPK1   CYP3A5   GABRB3    GABRD   MAPK12     MGMT   MYBPC3    NISCH \n",
       "      23       23       23       23       23       23       23       23 \n",
       "   PARP2     RXRB    SSTR2    TOP2B    TRPA1    ADCY5   ADRA1B   CHRNA5 \n",
       "      23       23       23       23       23       22       22       22 \n",
       "   CXCR1  CYP11B2     DHFR     FNTA     FPR1    GABRQ   GRIN2D  HSD17B1 \n",
       "      22       22       22       22       22       22       22       22 \n",
       "  IMPDH2   KCNJ10     LDHA    LHCGR   MTNR1B    PDE3A     POLE  SLC19A1 \n",
       "      22       22       22       22       22       22       22       22 \n",
       " SLC47A1    TUBB3  ADAMTS5 CACNA2D1   CYP2B6    DAGLB    DHODH     DPYD \n",
       "      22       22       21       21       21       21       21       21 \n",
       "   GRIK2   MAPK11   MAPK13     MMP3    PDE3B   PRKAG3   SCN10A    SCN8A \n",
       "      21       21       21       21       21       21       21       21 \n",
       " SIGMAR1  SLC46A1    TACR3    ADRB3   AVPR1B      CA4    CCKBR   CHRNB3 \n",
       "      21       21       21       20       20       20       20       20 \n",
       "  CYP3A7    DAGLA      DHH     FECH    GLUD1      GSS    KCNK3     LIPE \n",
       "      20       20       20       20       20       20       20       20 \n",
       "   MMP16    NR1I3     RRM1   SCNN1G  SLC12A3  SLC22A6     SV2A    TACR2 \n",
       "      20       20       20       20       20       20       20       20 \n",
       "   TRPM7    CHRM5   CHRNA2  CYP11B1  CYP19A1    ESRRG    INSRR    MMP13 \n",
       "      20       19       19       19       19       19       19       19 \n",
       "    NT5E    PDE4A   PGRMC1    PTGS1     RXRG    SSTR1  SULT2B1    TIMP3 \n",
       "      19       19       19       19       19       19       19       19 \n",
       "   TNNC1    TRPV2   TUBB4B    ASIC3   CACNG8      CDA     CMA1   CYP2A6 \n",
       "      19       19       19       18       18       18       18       18 \n",
       " CYP2C18     HRH3    NR3C2    OXCT1    PDE9A   SCNN1A   SLC5A8    TRPM8 \n",
       "      18       18       18       18       18       18       18       18 \n",
       "  TUBA1B     TYK2   ADRA1D     AHCY  CACNA1B  CACNA1I  CACNA1S   CHRNA6 \n",
       "      18       18       17       17       17       17       17       17 \n",
       " CYP2A13    HTR5A      IL5      LPA    MMP24     NRAS     ORM1     PPAT \n",
       "      17       17       17       17       17       17       17       17 \n",
       "  PTGDR2    PTGFR   RNASE3  SLC12A4  SULT1E1  SULT2A1   TUBB2B   TUBB4A \n",
       "      17       17       17       17       17       17       17       17 \n",
       "   ADCY2    ATP4A   CACNG5    CHRM4  CYP17A1  CYP51A1    FOLR2    GABRP \n",
       "      16       16       16       16       16       16       16       16 \n",
       "  GRIN3B   HCRTR2     HRH4    HTR3B     HTR4    KCNJ5    KCNQ2    KCNQ3 \n",
       "      16       16       16       16       16       16       16       16 \n",
       "   MMP15    NEK11   POU2F2   PRKAB1     RPL3    S100P    SCN9A  SLC12A1 \n",
       "      16       16       16       16       16       16       16       16 \n",
       "  SRD5A2    SSTR5    TACR1   TBXAS1   TUBA1C    ACAA2     ACAN   AKR1D1 \n",
       "      16       16       16       16       16       15       15       15 \n",
       " CYSLTR1    GANAB    GRIA4    HPGDS    HTR1D     HTR7   IMPDH1     MGAM \n",
       "      15       15       15       15       15       15       15       15 \n",
       "   PDE1B    PDE8A    SCN1A      TK2     CBR1  CYP11A1      F10  HSD11B2 \n",
       "      15       15       15       15       14       14       14       14 \n",
       "   HTR1E     HTR6    KCNQ4     LAP3     MMP1    MMP11    MMP25    PDE6G \n",
       "      14       14       14       14       14       14       14       14 \n",
       " PLA2G2E   PRKAB2   PTGER3  SLC18A1   SLC6A5   STK17B      TPO    TRPC7 \n",
       "      14       14       14       14       14       14       14       14 \n",
       "   TRPV5   TUBA4A      ADK      C1R  CACNA1F   CACNB1 CATSPER1    CCKAR \n",
       "      14       14       13       13       13       13       13       13 \n",
       "   CDIPT     CDK8     CHD1   COX4I1  CYSLTR2      DCK     FAAH    FOLR3 \n",
       "      13       13       13       13       13       13       13       13 \n",
       "    HRH2      IL3    KCNN1    MMP20   MTNR1A    NALCN   NPEPPS     ORM2 \n",
       "      13       13       13       13       13       13       13       13 \n",
       "  PDE11A   SCN11A    SCN4A    SCN7A       SI SLC22A11   SLC5A2  SLCO1B1 \n",
       "      13       13       13       13       13       13       13       13 \n",
       "    SQLE   SRD5A3   ADORA3      CA3 CATSPER2 CATSPER4   GPBAR1    GPR18 \n",
       "      13       13       12       12       12       12       12       12 \n",
       "   GPR35    GRIA3   HCRTR1     MAOA    MMP17    MMP19   PDE10A    PDE1A \n",
       "      12       12       12       12       12       12       12       12 \n",
       "   PDE6B    PDE6D   PI4K2B     SDHD  SLCO1C1  SLCO2B1      TTR   TUBA3E \n",
       "      12       12       12       12       12       12       12       12 \n",
       "  TUBB2A    TUBB8   ADAM28    ADH1A  CACNA1E   CACNB4 CATSPER3   COX7A1 \n",
       "      12       12       11       11       11       11       11       11 \n",
       "   GPR55   HDAC11    HTR1F   KCNA10    KCNH5   KCNJ12    KCNJ4    KCNK6 \n",
       "      11       11       11       11       11       11       11       11 \n",
       "   KCNQ5    MMP21    MMP28    NT5C2     ODC1    PDE6H    PNLIP   PTGER1 \n",
       "      11       11       11       11       11       11       11       11 \n",
       "    PYGM   SCNN1D  SLC22A8  SLCO1B3    TUBB6   VKORC1    ADH1B    ADH1C \n",
       "      11       11       11       11       11       11       10       10 \n",
       " ADORA2B    AMY2A   CACNG1     CHAT    CLCN2    COX7B    COX8A     CRYZ \n",
       "      10       10       10       10       10       10       10       10 \n",
       " GUCY1A2  HSD11B1    KCNJ1    KCNK9    KCNN3     LIPF    MMP10    NTSR2 \n",
       "      10       10       10       10       10       10       10       10 \n",
       "   PDE4C     RRM2    SCN3A   TPSAB1   UGT1A6      CA1      CA7    COX5B \n",
       "      10       10       10       10       10        9        9        9 \n",
       "   GNRHR   GPR119    HCAR2     MUC2    PDE1C    PDE5A    PDE6A    PDE6C \n",
       "       9        9        9        9        9        9        9        9 \n",
       "   PDE7B      PGD     PKIA    POLA2    PRSS1   PTGER2  SLC47A2   TRDMT1 \n",
       "       9        9        9        9        9        9        9        9 \n",
       "   TUBB1   CACNG6    COX5A   COX6A2   COX6B1    KCNA7    MMP26    PTGDR \n",
       "       9        8        8        8        8        8        8        8 \n",
       "  TOP1MT   TUBA3C     ACY1     CA12    COX6C    COX7C    FABP6     GANC \n",
       "       8        8        7        7        7        7        7        7 \n",
       "    GAST    KCNH6   KCNJ14   KCNJ15    MMP27    PDE7A    PDE8B SERPINA6 \n",
       "       7        7        7        7        7        7        7        7 \n",
       "  TUBA3D     CA14 CACNA2D2 CACNA2D4    KCNH7     MLNR     TRHR CACNA2D3 \n",
       "       7        6        6        6        6        6        6        5 \n",
       "   HCAR3    HIBCH     SHBG   UGT3A1 \n",
       "       5        5        5        5 "
      ]
     },
     "metadata": {},
     "output_type": "display_data"
    }
   ],
   "source": [
    "# Combine data and describe results\n",
    "full_go_mapping_df <- do.call(rbind, go_mapping_df) %>%\n",
    "        dplyr::as_tibble()\n",
    "\n",
    "# How many unique go terms:\n",
    "print(length(unique(full_go_mapping_df$go_term)))\n",
    "\n",
    "# How many unique genes:\n",
    "print(length(unique(full_go_mapping_df$gene)))\n",
    "\n",
    "# How many GO terms per gene:\n",
    "sort(table(full_go_mapping_df$gene), decreasing = TRUE)"
   ]
  },
  {
   "cell_type": "code",
   "execution_count": 5,
   "id": "31456a2a-6574-4f88-a331-34f8c0a0a42e",
   "metadata": {},
   "outputs": [
    {
     "name": "stdout",
     "output_type": "stream",
     "text": [
      "[1] 23072     3\n"
     ]
    },
    {
     "data": {
      "text/html": [
       "<table class=\"dataframe\">\n",
       "<caption>A tibble: 6 × 3</caption>\n",
       "<thead>\n",
       "\t<tr><th scope=col>go_term</th><th scope=col>gene</th><th scope=col>go_ontology</th></tr>\n",
       "\t<tr><th scope=col>&lt;chr&gt;</th><th scope=col>&lt;chr&gt;</th><th scope=col>&lt;chr&gt;</th></tr>\n",
       "</thead>\n",
       "<tbody>\n",
       "\t<tr><td>GO:0002790</td><td>ABCA1</td><td>BP</td></tr>\n",
       "\t<tr><td>GO:0006497</td><td>ABCA1</td><td>BP</td></tr>\n",
       "\t<tr><td>GO:0006869</td><td>ABCA1</td><td>BP</td></tr>\n",
       "\t<tr><td>GO:0006911</td><td>ABCA1</td><td>BP</td></tr>\n",
       "\t<tr><td>GO:0007040</td><td>ABCA1</td><td>BP</td></tr>\n",
       "\t<tr><td>GO:0007186</td><td>ABCA1</td><td>BP</td></tr>\n",
       "</tbody>\n",
       "</table>\n"
      ],
      "text/latex": [
       "A tibble: 6 × 3\n",
       "\\begin{tabular}{lll}\n",
       " go\\_term & gene & go\\_ontology\\\\\n",
       " <chr> & <chr> & <chr>\\\\\n",
       "\\hline\n",
       "\t GO:0002790 & ABCA1 & BP\\\\\n",
       "\t GO:0006497 & ABCA1 & BP\\\\\n",
       "\t GO:0006869 & ABCA1 & BP\\\\\n",
       "\t GO:0006911 & ABCA1 & BP\\\\\n",
       "\t GO:0007040 & ABCA1 & BP\\\\\n",
       "\t GO:0007186 & ABCA1 & BP\\\\\n",
       "\\end{tabular}\n"
      ],
      "text/markdown": [
       "\n",
       "A tibble: 6 × 3\n",
       "\n",
       "| go_term &lt;chr&gt; | gene &lt;chr&gt; | go_ontology &lt;chr&gt; |\n",
       "|---|---|---|\n",
       "| GO:0002790 | ABCA1 | BP |\n",
       "| GO:0006497 | ABCA1 | BP |\n",
       "| GO:0006869 | ABCA1 | BP |\n",
       "| GO:0006911 | ABCA1 | BP |\n",
       "| GO:0007040 | ABCA1 | BP |\n",
       "| GO:0007186 | ABCA1 | BP |\n",
       "\n"
      ],
      "text/plain": [
       "  go_term    gene  go_ontology\n",
       "1 GO:0002790 ABCA1 BP         \n",
       "2 GO:0006497 ABCA1 BP         \n",
       "3 GO:0006869 ABCA1 BP         \n",
       "4 GO:0006911 ABCA1 BP         \n",
       "5 GO:0007040 ABCA1 BP         \n",
       "6 GO:0007186 ABCA1 BP         "
      ]
     },
     "metadata": {},
     "output_type": "display_data"
    }
   ],
   "source": [
    "# What does this dataset look like?\n",
    "print(dim(full_go_mapping_df))\n",
    "head(full_go_mapping_df)"
   ]
  },
  {
   "cell_type": "code",
   "execution_count": 6,
   "id": "9be3e6c6-f86e-4c6a-b5dd-91ffded0557b",
   "metadata": {},
   "outputs": [
    {
     "name": "stdout",
     "output_type": "stream",
     "text": [
      "[1] 83825    11\n"
     ]
    },
    {
     "data": {
      "text/html": [
       "<table class=\"dataframe\">\n",
       "<caption>A tibble: 3 × 11</caption>\n",
       "<thead>\n",
       "\t<tr><th scope=col>pert_iname</th><th scope=col>moa</th><th scope=col>train</th><th scope=col>test</th><th scope=col>marked</th><th scope=col>target_unique</th><th scope=col>clinical_phase</th><th scope=col>disease_area</th><th scope=col>indication</th><th scope=col>go_term</th><th scope=col>go_ontology</th></tr>\n",
       "\t<tr><th scope=col>&lt;chr&gt;</th><th scope=col>&lt;chr&gt;</th><th scope=col>&lt;lgl&gt;</th><th scope=col>&lt;lgl&gt;</th><th scope=col>&lt;lgl&gt;</th><th scope=col>&lt;chr&gt;</th><th scope=col>&lt;chr&gt;</th><th scope=col>&lt;chr&gt;</th><th scope=col>&lt;chr&gt;</th><th scope=col>&lt;chr&gt;</th><th scope=col>&lt;chr&gt;</th></tr>\n",
       "</thead>\n",
       "<tbody>\n",
       "\t<tr><td>ketoprofen</td><td>cyclooxygenase inhibitor</td><td>TRUE</td><td>FALSE</td><td>TRUE</td><td>PTGS1</td><td>Launched</td><td>rheumatology</td><td>rheumatoid arthritis|osteoarthritis</td><td>GO:0001516</td><td>BP</td></tr>\n",
       "\t<tr><td>ketoprofen</td><td>cyclooxygenase inhibitor</td><td>TRUE</td><td>FALSE</td><td>TRUE</td><td>PTGS1</td><td>Launched</td><td>rheumatology</td><td>rheumatoid arthritis|osteoarthritis</td><td>GO:0006954</td><td>BP</td></tr>\n",
       "\t<tr><td>ketoprofen</td><td>cyclooxygenase inhibitor</td><td>TRUE</td><td>FALSE</td><td>TRUE</td><td>PTGS1</td><td>Launched</td><td>rheumatology</td><td>rheumatoid arthritis|osteoarthritis</td><td>GO:0006979</td><td>BP</td></tr>\n",
       "</tbody>\n",
       "</table>\n"
      ],
      "text/latex": [
       "A tibble: 3 × 11\n",
       "\\begin{tabular}{lllllllllll}\n",
       " pert\\_iname & moa & train & test & marked & target\\_unique & clinical\\_phase & disease\\_area & indication & go\\_term & go\\_ontology\\\\\n",
       " <chr> & <chr> & <lgl> & <lgl> & <lgl> & <chr> & <chr> & <chr> & <chr> & <chr> & <chr>\\\\\n",
       "\\hline\n",
       "\t ketoprofen & cyclooxygenase inhibitor & TRUE & FALSE & TRUE & PTGS1 & Launched & rheumatology & rheumatoid arthritis\\textbar{}osteoarthritis & GO:0001516 & BP\\\\\n",
       "\t ketoprofen & cyclooxygenase inhibitor & TRUE & FALSE & TRUE & PTGS1 & Launched & rheumatology & rheumatoid arthritis\\textbar{}osteoarthritis & GO:0006954 & BP\\\\\n",
       "\t ketoprofen & cyclooxygenase inhibitor & TRUE & FALSE & TRUE & PTGS1 & Launched & rheumatology & rheumatoid arthritis\\textbar{}osteoarthritis & GO:0006979 & BP\\\\\n",
       "\\end{tabular}\n"
      ],
      "text/markdown": [
       "\n",
       "A tibble: 3 × 11\n",
       "\n",
       "| pert_iname &lt;chr&gt; | moa &lt;chr&gt; | train &lt;lgl&gt; | test &lt;lgl&gt; | marked &lt;lgl&gt; | target_unique &lt;chr&gt; | clinical_phase &lt;chr&gt; | disease_area &lt;chr&gt; | indication &lt;chr&gt; | go_term &lt;chr&gt; | go_ontology &lt;chr&gt; |\n",
       "|---|---|---|---|---|---|---|---|---|---|---|\n",
       "| ketoprofen | cyclooxygenase inhibitor | TRUE | FALSE | TRUE | PTGS1 | Launched | rheumatology | rheumatoid arthritis|osteoarthritis | GO:0001516 | BP |\n",
       "| ketoprofen | cyclooxygenase inhibitor | TRUE | FALSE | TRUE | PTGS1 | Launched | rheumatology | rheumatoid arthritis|osteoarthritis | GO:0006954 | BP |\n",
       "| ketoprofen | cyclooxygenase inhibitor | TRUE | FALSE | TRUE | PTGS1 | Launched | rheumatology | rheumatoid arthritis|osteoarthritis | GO:0006979 | BP |\n",
       "\n"
      ],
      "text/plain": [
       "  pert_iname moa                      train test  marked target_unique\n",
       "1 ketoprofen cyclooxygenase inhibitor TRUE  FALSE TRUE   PTGS1        \n",
       "2 ketoprofen cyclooxygenase inhibitor TRUE  FALSE TRUE   PTGS1        \n",
       "3 ketoprofen cyclooxygenase inhibitor TRUE  FALSE TRUE   PTGS1        \n",
       "  clinical_phase disease_area indication                          go_term   \n",
       "1 Launched       rheumatology rheumatoid arthritis|osteoarthritis GO:0001516\n",
       "2 Launched       rheumatology rheumatoid arthritis|osteoarthritis GO:0006954\n",
       "3 Launched       rheumatology rheumatoid arthritis|osteoarthritis GO:0006979\n",
       "  go_ontology\n",
       "1 BP         \n",
       "2 BP         \n",
       "3 BP         "
      ]
     },
     "metadata": {},
     "output_type": "display_data"
    }
   ],
   "source": [
    "# Merge compound info with GO terms\n",
    "cpd_go_df <- cpd_df %>%\n",
    "    dplyr::left_join(full_go_mapping_df, by = c(\"target_unique\" = \"gene\"))\n",
    "\n",
    "output_file <- file.path(\"data\", \"split_moas_targets_pathways_cpds.csv\")\n",
    "readr::write_csv(cpd_go_df, output_file)\n",
    "\n",
    "print(dim(cpd_go_df))\n",
    "head(cpd_go_df, 3)"
   ]
  }
 ],
 "metadata": {
  "kernelspec": {
   "display_name": "R [conda env:lincs-complimentarity-go] *",
   "language": "R",
   "name": "conda-env-lincs-complimentarity-go-r"
  },
  "language_info": {
   "codemirror_mode": "r",
   "file_extension": ".r",
   "mimetype": "text/x-r-source",
   "name": "R",
   "pygments_lexer": "r",
   "version": "4.1.2"
  }
 },
 "nbformat": 4,
 "nbformat_minor": 5
}
