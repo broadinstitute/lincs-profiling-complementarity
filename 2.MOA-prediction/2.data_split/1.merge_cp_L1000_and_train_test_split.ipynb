{
 "cells": [
  {
   "cell_type": "markdown",
   "metadata": {},
   "source": [
    "#### - Merge Cell painting & L1000 Level-4 data\n",
    "\n",
    "- Merge both CP and L1000 based on the compounds present in both assays, and make sure the number of replicates for the compounds in both assays per treatment dose are the same, to be able to have an aligned dataset.\n",
    "\n",
    "#### - Train/Test split the merged Level-4 data "
   ]
  },
  {
   "cell_type": "code",
   "execution_count": 1,
   "metadata": {},
   "outputs": [],
   "source": [
    "import os\n",
    "import pathlib\n",
    "import pandas as pd\n",
    "import numpy as np\n",
    "import re\n",
    "from os import walk\n",
    "from collections import Counter\n",
    "import random"
   ]
  },
  {
   "cell_type": "code",
   "execution_count": 2,
   "metadata": {},
   "outputs": [
    {
     "name": "stdout",
     "output_type": "stream",
     "text": [
      "1327\n",
      "(7962, 10)\n"
     ]
    },
    {
     "data": {
      "text/html": [
       "<div>\n",
       "<style scoped>\n",
       "    .dataframe tbody tr th:only-of-type {\n",
       "        vertical-align: middle;\n",
       "    }\n",
       "\n",
       "    .dataframe tbody tr th {\n",
       "        vertical-align: top;\n",
       "    }\n",
       "\n",
       "    .dataframe thead th {\n",
       "        text-align: right;\n",
       "    }\n",
       "</style>\n",
       "<table border=\"1\" class=\"dataframe\">\n",
       "  <thead>\n",
       "    <tr style=\"text-align: right;\">\n",
       "      <th></th>\n",
       "      <th>compound</th>\n",
       "      <th>dose</th>\n",
       "      <th>median_replicate_score_cellpainting</th>\n",
       "      <th>median_replicate_score_l1000</th>\n",
       "      <th>pass_cellpainting_thresh</th>\n",
       "      <th>pass_l1000_thresh</th>\n",
       "      <th>pass_both</th>\n",
       "      <th>cell_painting_num_reproducible</th>\n",
       "      <th>l1000_num_reproducible</th>\n",
       "      <th>total_reproducible</th>\n",
       "    </tr>\n",
       "  </thead>\n",
       "  <tbody>\n",
       "    <tr>\n",
       "      <th>0</th>\n",
       "      <td>17-hydroxyprogesterone-caproate</td>\n",
       "      <td>0.04 uM</td>\n",
       "      <td>0.054557</td>\n",
       "      <td>0.073370</td>\n",
       "      <td>True</td>\n",
       "      <td>False</td>\n",
       "      <td>False</td>\n",
       "      <td>5</td>\n",
       "      <td>2</td>\n",
       "      <td>7</td>\n",
       "    </tr>\n",
       "    <tr>\n",
       "      <th>1</th>\n",
       "      <td>2-iminobiotin</td>\n",
       "      <td>0.04 uM</td>\n",
       "      <td>0.053791</td>\n",
       "      <td>0.085434</td>\n",
       "      <td>True</td>\n",
       "      <td>False</td>\n",
       "      <td>False</td>\n",
       "      <td>1</td>\n",
       "      <td>2</td>\n",
       "      <td>3</td>\n",
       "    </tr>\n",
       "  </tbody>\n",
       "</table>\n",
       "</div>"
      ],
      "text/plain": [
       "                          compound     dose  \\\n",
       "0  17-hydroxyprogesterone-caproate  0.04 uM   \n",
       "1                    2-iminobiotin  0.04 uM   \n",
       "\n",
       "   median_replicate_score_cellpainting  median_replicate_score_l1000  \\\n",
       "0                             0.054557                      0.073370   \n",
       "1                             0.053791                      0.085434   \n",
       "\n",
       "   pass_cellpainting_thresh  pass_l1000_thresh  pass_both  \\\n",
       "0                      True              False      False   \n",
       "1                      True              False      False   \n",
       "\n",
       "   cell_painting_num_reproducible  l1000_num_reproducible  total_reproducible  \n",
       "0                               5                       2                   7  \n",
       "1                               1                       2                   3  "
      ]
     },
     "execution_count": 2,
     "metadata": {},
     "output_type": "execute_result"
    }
   ],
   "source": [
    "# Load common compounds\n",
    "common_file = pathlib.Path(\n",
    "    \"..\", \"..\", \"6.paper_figures\", \"data\", \"significant_compounds_by_threshold_both_assays.tsv.gz\"\n",
    ")\n",
    "common_df = pd.read_csv(common_file, sep=\"\\t\")\n",
    "\n",
    "common_compounds = common_df.compound.unique()\n",
    "print(len(common_compounds))\n",
    "print(common_df.shape)\n",
    "common_df.head(2)"
   ]
  },
  {
   "cell_type": "code",
   "execution_count": 3,
   "metadata": {},
   "outputs": [],
   "source": [
    "data_path = '../0.download_cellpainting_L1000_data/data/'\n",
    "cpd_split_path = '../1.compound_split_train_test/data'"
   ]
  },
  {
   "cell_type": "code",
   "execution_count": 4,
   "metadata": {},
   "outputs": [],
   "source": [
    "data_path = '../../1.Data-exploration/Profiles_level4/cell_painting/cellpainting_lvl4_cpd_replicate_datasets/'\n",
    "\n",
    "df_level4_cp = pd.read_csv(\n",
    "    os.path.join(data_path, 'cp_level4_cpd_replicates.csv.gz'), \n",
    "    compression='gzip',\n",
    "    low_memory = False\n",
    ")\n",
    "\n",
    "data_path = '../../1.Data-exploration/Profiles_level4/L1000/L1000_lvl4_cpd_replicate_datasets/'\n",
    "\n",
    "df_level4_L1 = pd.read_csv(\n",
    "    os.path.join(data_path, 'L1000_level4_cpd_replicates.csv.gz'),\n",
    "    compression='gzip',\n",
    "    low_memory = False\n",
    ")"
   ]
  },
  {
   "cell_type": "code",
   "execution_count": 5,
   "metadata": {},
   "outputs": [],
   "source": [
    "df_cpds_moas_lincs = pd.read_csv(os.path.join(cpd_split_path, 'split_moas_cpds.csv'))"
   ]
  },
  {
   "cell_type": "code",
   "execution_count": 6,
   "metadata": {},
   "outputs": [],
   "source": [
    "all_cpds = df_cpds_moas_lincs['pert_iname'].unique()"
   ]
  },
  {
   "cell_type": "code",
   "execution_count": 7,
   "metadata": {},
   "outputs": [],
   "source": [
    "df_level4_cp = df_level4_cp.loc[df_level4_cp['pert_iname'].isin(all_cpds)].reset_index(drop=True)\n",
    "df_level4_L1 = df_level4_L1.loc[df_level4_L1['pert_iname'].isin(all_cpds)].reset_index(drop=True)"
   ]
  },
  {
   "cell_type": "code",
   "execution_count": 8,
   "metadata": {},
   "outputs": [],
   "source": [
    "df_level4_cp['moa'] = df_level4_cp['moa'].apply(lambda x: x.lower())\n",
    "df_level4_L1['moa'] = df_level4_L1['moa'].apply(lambda x: x.lower())"
   ]
  },
  {
   "cell_type": "code",
   "execution_count": 9,
   "metadata": {},
   "outputs": [],
   "source": [
    "##sanity check\n",
    "for cpd in df_level4_cp['pert_iname'].unique():\n",
    "    if cpd not in df_level4_L1['pert_iname'].unique():\n",
    "        print('Some compounds in CP are not found in L1000!!')"
   ]
  },
  {
   "cell_type": "code",
   "execution_count": 10,
   "metadata": {},
   "outputs": [
    {
     "data": {
      "text/plain": [
       "1258"
      ]
     },
     "execution_count": 10,
     "metadata": {},
     "output_type": "execute_result"
    }
   ],
   "source": [
    "len(df_level4_cp['pert_iname'].unique())"
   ]
  },
  {
   "cell_type": "code",
   "execution_count": 11,
   "metadata": {},
   "outputs": [
    {
     "data": {
      "text/plain": [
       "1258"
      ]
     },
     "execution_count": 11,
     "metadata": {},
     "output_type": "execute_result"
    }
   ],
   "source": [
    "len(df_level4_cp['pert_iname'].unique())"
   ]
  },
  {
   "cell_type": "code",
   "execution_count": 12,
   "metadata": {},
   "outputs": [],
   "source": [
    "df_level4_cp.rename({'Metadata_dose_recode':'dose'}, axis = 1, inplace = True)"
   ]
  },
  {
   "cell_type": "code",
   "execution_count": 13,
   "metadata": {},
   "outputs": [
    {
     "name": "stdout",
     "output_type": "stream",
     "text": [
      "dose\n",
      "Metadata_broad_sample\n",
      "pert_iname\n",
      "moa\n"
     ]
    }
   ],
   "source": [
    "##the same columns in Cell painting and L1000; \n",
    "for col in df_level4_L1.columns:\n",
    "    if col in df_level4_cp.columns.tolist():\n",
    "        print(col)"
   ]
  },
  {
   "cell_type": "code",
   "execution_count": 14,
   "metadata": {},
   "outputs": [
    {
     "data": {
      "text/plain": [
       "(38273, 812)"
      ]
     },
     "execution_count": 14,
     "metadata": {},
     "output_type": "execute_result"
    }
   ],
   "source": [
    "df_level4_cp.shape"
   ]
  },
  {
   "cell_type": "code",
   "execution_count": 15,
   "metadata": {},
   "outputs": [
    {
     "data": {
      "text/plain": [
       "(23263, 988)"
      ]
     },
     "execution_count": 15,
     "metadata": {},
     "output_type": "execute_result"
    }
   ],
   "source": [
    "df_level4_L1.shape"
   ]
  },
  {
   "cell_type": "code",
   "execution_count": 16,
   "metadata": {},
   "outputs": [],
   "source": [
    "def merge_cp_L1000_df(df_cp, df_L1000, all_cpds):\n",
    "    \n",
    "    \"\"\"\n",
    "    This function merge Cell painting and L1000 level-4 data to one dataframe based on their compounds\n",
    "    \n",
    "    args\n",
    "    df_cp: Cell painting Level-4 dataFrame\n",
    "    df_L1: L1000 Level-4 dataFrame\n",
    "    all_cpds: Compounds found in both Cell painting and L1000\n",
    "    \n",
    "    return\n",
    "    df_lvl4: merged CP & L1000 dataframe\n",
    "    \"\"\"\n",
    "    df_level4_cp_rand = pd.DataFrame(columns = df_cp.columns)\n",
    "    df_level4_L1_rand = pd.DataFrame(columns = df_L1000.columns)\n",
    "    \n",
    "    for idx, cpd in enumerate(all_cpds):\n",
    "        df_cpd = df_L1000[df_L1000['pert_iname'] == cpd]\n",
    "        for dose in df_cpd['dose'].unique():\n",
    "            df_dose = df_cpd[df_cpd['dose'] == dose].copy()\n",
    "            df_cpd_cp = df_cp[(df_cp['pert_iname'] == cpd) & (df_cp['dose'] == dose)]\n",
    "            if df_cpd_cp.shape[0] >= df_dose.shape[0]:\n",
    "                df_level4_cp_rand = pd.concat([df_level4_cp_rand,df_cpd_cp.sample(df_dose.shape[0])], ignore_index = True)\n",
    "                df_level4_L1_rand = pd.concat([df_level4_L1_rand,df_dose], ignore_index = True)\n",
    "            else:\n",
    "                df_level4_cp_rand = pd.concat([df_level4_cp_rand,df_cpd_cp], ignore_index = True)\n",
    "                df_level4_L1_rand = pd.concat([df_level4_L1_rand,df_dose.sample(df_cpd_cp.shape[0])], ignore_index = True)\n",
    "                \n",
    "    df_level4_cp_rand.rename({'broad_id':'pert_id'}, axis = 1, inplace = True)\n",
    "    df_level4_cp_rand.drop(['dose', 'pert_iname', 'moa', 'pert_id', 'Metadata_broad_sample'], axis = 1, inplace = True)\n",
    "    df_lvl4 = pd.concat([df_level4_cp_rand,df_level4_L1_rand], axis = 1)\n",
    "    \n",
    "    return df_lvl4"
   ]
  },
  {
   "cell_type": "code",
   "execution_count": null,
   "metadata": {},
   "outputs": [],
   "source": [
    "df_level4 = merge_cp_L1000_df(df_level4_cp, df_level4_L1, all_cpds)"
   ]
  },
  {
   "cell_type": "code",
   "execution_count": null,
   "metadata": {
    "scrolled": true
   },
   "outputs": [],
   "source": [
    "df_level4.shape"
   ]
  },
  {
   "cell_type": "code",
   "execution_count": null,
   "metadata": {},
   "outputs": [],
   "source": [
    "def create_moa_targets(df):\n",
    "    \"\"\"Create the binary multi-label MOA targets for each compound\"\"\"\n",
    "    df['val'] = 1\n",
    "    df_moas_targets = pd.pivot_table(df, values=['val'], index='pert_iname',columns=['moa'], fill_value=0)\n",
    "    df_moas_targets.columns.names = (None,None)\n",
    "    df_moas_targets.columns = df_moas_targets.columns.droplevel(0)\n",
    "    df_moas_targets = df_moas_targets.reset_index().rename({'index':'pert_iname'}, axis = 1)\n",
    "    return df_moas_targets"
   ]
  },
  {
   "cell_type": "code",
   "execution_count": null,
   "metadata": {},
   "outputs": [],
   "source": [
    "df_cpds_moas = df_cpds_moas_lincs.copy()"
   ]
  },
  {
   "cell_type": "code",
   "execution_count": null,
   "metadata": {},
   "outputs": [],
   "source": [
    "df_moa_targets = create_moa_targets(df_cpds_moas)"
   ]
  },
  {
   "cell_type": "code",
   "execution_count": null,
   "metadata": {},
   "outputs": [],
   "source": [
    "df_level4 = df_level4.merge(df_moa_targets, on='pert_iname')"
   ]
  },
  {
   "cell_type": "code",
   "execution_count": null,
   "metadata": {},
   "outputs": [],
   "source": [
    "df_level4.shape"
   ]
  },
  {
   "cell_type": "markdown",
   "metadata": {},
   "source": [
    "### - compounds split (80/20) based on MOAs -- based on split_moas_cpds"
   ]
  },
  {
   "cell_type": "code",
   "execution_count": null,
   "metadata": {},
   "outputs": [],
   "source": [
    "train_cpds = df_cpds_moas_lincs[df_cpds_moas_lincs['train']]['pert_iname'].unique()\n",
    "test_cpds = df_cpds_moas_lincs[df_cpds_moas_lincs['test']]['pert_iname'].unique()"
   ]
  },
  {
   "cell_type": "code",
   "execution_count": null,
   "metadata": {},
   "outputs": [],
   "source": [
    "def train_test_split(train_cpds, test_cpds, df):\n",
    "    df_trn = df.loc[df['pert_iname'].isin(train_cpds)].reset_index(drop=True)\n",
    "    df_tst = df.loc[df['pert_iname'].isin(test_cpds)].reset_index(drop=True)\n",
    "    return df_trn, df_tst"
   ]
  },
  {
   "cell_type": "code",
   "execution_count": null,
   "metadata": {},
   "outputs": [],
   "source": [
    "df_level4_trn, df_level4_tst = train_test_split(train_cpds, test_cpds, df_level4)"
   ]
  },
  {
   "cell_type": "code",
   "execution_count": null,
   "metadata": {},
   "outputs": [],
   "source": [
    "df_level4_trn.shape"
   ]
  },
  {
   "cell_type": "code",
   "execution_count": null,
   "metadata": {},
   "outputs": [],
   "source": [
    "df_level4_tst.shape"
   ]
  },
  {
   "cell_type": "markdown",
   "metadata": {},
   "source": [
    "### - Shuffle train data - 2nd train data\n",
    "#### - Shuffle the target labels in the train data so that replicates of the same compound/MOA have different MOA labels"
   ]
  },
  {
   "cell_type": "code",
   "execution_count": null,
   "metadata": {},
   "outputs": [],
   "source": [
    "def create_shuffle_data(df_trn, target_cols):\n",
    "    \"\"\"Create shuffled train data where the replicates of each compound are given wrong target labels\"\"\"\n",
    "    df_trn_cpy = df_trn.copy()\n",
    "    df_trn_tgts = df_trn_cpy[target_cols].copy()\n",
    "    rand_df = pd.DataFrame(np.random.permutation(df_trn_tgts), columns =df_trn_tgts.columns.tolist())\n",
    "    df_trn_cpy.drop(target_cols, axis = 1, inplace = True)\n",
    "    df_trn_cpy = pd.concat([df_trn_cpy, rand_df], axis = 1)\n",
    "    return df_trn_cpy"
   ]
  },
  {
   "cell_type": "code",
   "execution_count": null,
   "metadata": {},
   "outputs": [],
   "source": [
    "target_cols = df_moa_targets.columns[1:]"
   ]
  },
  {
   "cell_type": "code",
   "execution_count": null,
   "metadata": {},
   "outputs": [],
   "source": [
    "df_lvl4_trn_shuf = create_shuffle_data(df_level4_trn, target_cols)"
   ]
  },
  {
   "cell_type": "code",
   "execution_count": null,
   "metadata": {},
   "outputs": [],
   "source": [
    "df_lvl4_trn_shuf.shape"
   ]
  },
  {
   "cell_type": "code",
   "execution_count": null,
   "metadata": {},
   "outputs": [],
   "source": [
    "def save_to_csv(df, path, file_name, compress=None):\n",
    "    \"\"\"saves dataframes to csv\"\"\"\n",
    "    \n",
    "    if not os.path.exists(path):\n",
    "        os.mkdir(path)\n",
    "    \n",
    "    df.to_csv(os.path.join(path, file_name), index=False, compression=compress)"
   ]
  },
  {
   "cell_type": "code",
   "execution_count": null,
   "metadata": {},
   "outputs": [],
   "source": [
    "L1_cp_level4_path = 'model_data/merged/'"
   ]
  },
  {
   "cell_type": "code",
   "execution_count": null,
   "metadata": {},
   "outputs": [],
   "source": [
    "save_to_csv(df_level4, L1_cp_level4_path, 'cp_L1000_lvl4_data.csv.gz', compress=\"gzip\")"
   ]
  },
  {
   "cell_type": "code",
   "execution_count": null,
   "metadata": {},
   "outputs": [],
   "source": [
    "save_to_csv(df_level4_trn, L1_cp_level4_path, 'train_lvl4_data.csv.gz', compress=\"gzip\")\n",
    "save_to_csv(df_level4_tst, L1_cp_level4_path, 'test_lvl4_data.csv.gz', compress=\"gzip\")"
   ]
  },
  {
   "cell_type": "code",
   "execution_count": null,
   "metadata": {},
   "outputs": [],
   "source": [
    "save_to_csv(df_lvl4_trn_shuf, L1_cp_level4_path, 'train_shuffle_lvl4_data.csv.gz', compress=\"gzip\")"
   ]
  },
  {
   "cell_type": "code",
   "execution_count": null,
   "metadata": {},
   "outputs": [],
   "source": [
    "save_to_csv(df_moa_targets, L1_cp_level4_path, 'target_labels.csv')"
   ]
  }
 ],
 "metadata": {
  "kernelspec": {
   "display_name": "Python 3 (ipykernel)",
   "language": "python",
   "name": "python3"
  },
  "language_info": {
   "codemirror_mode": {
    "name": "ipython",
    "version": 3
   },
   "file_extension": ".py",
   "mimetype": "text/x-python",
   "name": "python",
   "nbconvert_exporter": "python",
   "pygments_lexer": "ipython3",
   "version": "3.9.6"
  }
 },
 "nbformat": 4,
 "nbformat_minor": 4
}
