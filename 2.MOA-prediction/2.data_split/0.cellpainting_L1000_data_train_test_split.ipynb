{
 "cells": [
  {
   "cell_type": "markdown",
   "id": "fd4f3ccb",
   "metadata": {},
   "source": [
    "### - Split the data in Cell painting & L1000 into train/test based on their compounds "
   ]
  },
  {
   "cell_type": "code",
   "execution_count": 1,
   "id": "eae23e41",
   "metadata": {},
   "outputs": [],
   "source": [
    "import os\n",
    "import requests\n",
    "import pickle\n",
    "import argparse\n",
    "import pandas as pd\n",
    "import numpy as np\n",
    "import re\n",
    "from os import walk\n",
    "from collections import Counter\n",
    "import random\n",
    "import shutil"
   ]
  },
  {
   "cell_type": "code",
   "execution_count": 2,
   "id": "cceb8969-2096-4f90-aef2-50b96ca7af5a",
   "metadata": {},
   "outputs": [],
   "source": [
    "# Run with both \"\" and \"_subsample\" for the two Cell Painting input data types\n",
    "file_indicator=\"\""
   ]
  },
  {
   "cell_type": "code",
   "execution_count": 3,
   "id": "d9b25bef-ae48-4557-a887-e93a092bc556",
   "metadata": {},
   "outputs": [],
   "source": [
    "cp_data_path = '../../1.Data-exploration/Profiles_level4/cell_painting/cellpainting_lvl4_cpd_replicate_datasets/'\n",
    "l1000_data_path = \"../../1.Data-exploration/Profiles_level4/L1000/L1000_lvl4_cpd_replicate_datasets/\"\n",
    "\n",
    "cpd_split_path = '../1.compound_split_train_test/data'"
   ]
  },
  {
   "cell_type": "code",
   "execution_count": 4,
   "id": "3c9abf3c",
   "metadata": {},
   "outputs": [],
   "source": [
    "df_level4_cp = pd.read_csv(\n",
    "    os.path.join(cp_data_path, f'cp_level4_cpd_replicates{file_indicator}.csv.gz'),\n",
    "    low_memory = False\n",
    ")\n",
    "\n",
    "df_level4_L1 = pd.read_csv(\n",
    "    os.path.join(l1000_data_path, 'L1000_level4_cpd_replicates.csv.gz'), \n",
    "    compression='gzip',\n",
    "    low_memory = False\n",
    ")"
   ]
  },
  {
   "cell_type": "code",
   "execution_count": 5,
   "id": "c4afd6db",
   "metadata": {},
   "outputs": [],
   "source": [
    "df_cpds_moas_lincs = pd.read_csv(os.path.join(cpd_split_path, 'split_moas_cpds.csv'))"
   ]
  },
  {
   "cell_type": "code",
   "execution_count": 6,
   "id": "c5773bb5",
   "metadata": {},
   "outputs": [
    {
     "data": {
      "text/html": [
       "<div>\n",
       "<style scoped>\n",
       "    .dataframe tbody tr th:only-of-type {\n",
       "        vertical-align: middle;\n",
       "    }\n",
       "\n",
       "    .dataframe tbody tr th {\n",
       "        vertical-align: top;\n",
       "    }\n",
       "\n",
       "    .dataframe thead th {\n",
       "        text-align: right;\n",
       "    }\n",
       "</style>\n",
       "<table border=\"1\" class=\"dataframe\">\n",
       "  <thead>\n",
       "    <tr style=\"text-align: right;\">\n",
       "      <th></th>\n",
       "      <th>pert_iname</th>\n",
       "      <th>moa</th>\n",
       "      <th>train</th>\n",
       "      <th>test</th>\n",
       "      <th>marked</th>\n",
       "    </tr>\n",
       "  </thead>\n",
       "  <tbody>\n",
       "    <tr>\n",
       "      <th>0</th>\n",
       "      <td>ketoprofen</td>\n",
       "      <td>cyclooxygenase inhibitor</td>\n",
       "      <td>True</td>\n",
       "      <td>False</td>\n",
       "      <td>True</td>\n",
       "    </tr>\n",
       "    <tr>\n",
       "      <th>1</th>\n",
       "      <td>valdecoxib</td>\n",
       "      <td>cyclooxygenase inhibitor</td>\n",
       "      <td>False</td>\n",
       "      <td>True</td>\n",
       "      <td>True</td>\n",
       "    </tr>\n",
       "    <tr>\n",
       "      <th>2</th>\n",
       "      <td>epirizole</td>\n",
       "      <td>cyclooxygenase inhibitor</td>\n",
       "      <td>True</td>\n",
       "      <td>False</td>\n",
       "      <td>True</td>\n",
       "    </tr>\n",
       "    <tr>\n",
       "      <th>3</th>\n",
       "      <td>ketorolac</td>\n",
       "      <td>cyclooxygenase inhibitor</td>\n",
       "      <td>True</td>\n",
       "      <td>False</td>\n",
       "      <td>True</td>\n",
       "    </tr>\n",
       "    <tr>\n",
       "      <th>4</th>\n",
       "      <td>balsalazide</td>\n",
       "      <td>cyclooxygenase inhibitor</td>\n",
       "      <td>True</td>\n",
       "      <td>False</td>\n",
       "      <td>True</td>\n",
       "    </tr>\n",
       "  </tbody>\n",
       "</table>\n",
       "</div>"
      ],
      "text/plain": [
       "    pert_iname                       moa  train   test  marked\n",
       "0   ketoprofen  cyclooxygenase inhibitor   True  False    True\n",
       "1   valdecoxib  cyclooxygenase inhibitor  False   True    True\n",
       "2    epirizole  cyclooxygenase inhibitor   True  False    True\n",
       "3    ketorolac  cyclooxygenase inhibitor   True  False    True\n",
       "4  balsalazide  cyclooxygenase inhibitor   True  False    True"
      ]
     },
     "execution_count": 6,
     "metadata": {},
     "output_type": "execute_result"
    }
   ],
   "source": [
    "df_cpds_moas_lincs.head()"
   ]
  },
  {
   "cell_type": "code",
   "execution_count": 7,
   "id": "c50b362a",
   "metadata": {},
   "outputs": [],
   "source": [
    "all_cpds = df_cpds_moas_lincs['pert_iname'].unique()"
   ]
  },
  {
   "cell_type": "code",
   "execution_count": 8,
   "id": "ab7df848",
   "metadata": {},
   "outputs": [],
   "source": [
    "df_level4_cp = df_level4_cp.loc[df_level4_cp['pert_iname'].isin(all_cpds)].reset_index(drop=True)\n",
    "df_level4_L1 = df_level4_L1.loc[df_level4_L1['pert_iname'].isin(all_cpds)].reset_index(drop=True)"
   ]
  },
  {
   "cell_type": "code",
   "execution_count": 9,
   "id": "3fe9ed01",
   "metadata": {},
   "outputs": [
    {
     "data": {
      "text/plain": [
       "(38273, 812)"
      ]
     },
     "execution_count": 9,
     "metadata": {},
     "output_type": "execute_result"
    }
   ],
   "source": [
    "df_level4_cp.shape"
   ]
  },
  {
   "cell_type": "code",
   "execution_count": 10,
   "id": "dd7551de",
   "metadata": {
    "scrolled": true
   },
   "outputs": [
    {
     "data": {
      "text/plain": [
       "(23263, 988)"
      ]
     },
     "execution_count": 10,
     "metadata": {},
     "output_type": "execute_result"
    }
   ],
   "source": [
    "df_level4_L1.shape"
   ]
  },
  {
   "cell_type": "code",
   "execution_count": 11,
   "id": "aa268f9d",
   "metadata": {},
   "outputs": [],
   "source": [
    "df_level4_cp['moa'] = df_level4_cp['moa'].apply(lambda x: x.lower())\n",
    "df_level4_L1['moa'] = df_level4_L1['moa'].apply(lambda x: x.lower())"
   ]
  },
  {
   "cell_type": "code",
   "execution_count": 12,
   "id": "a595a8a1",
   "metadata": {},
   "outputs": [],
   "source": [
    "df_cpds_moas = df_cpds_moas_lincs.copy()"
   ]
  },
  {
   "cell_type": "code",
   "execution_count": 13,
   "id": "e58c8d80",
   "metadata": {},
   "outputs": [
    {
     "data": {
      "text/plain": [
       "1258"
      ]
     },
     "execution_count": 13,
     "metadata": {},
     "output_type": "execute_result"
    }
   ],
   "source": [
    "len(df_cpds_moas['pert_iname'].unique()) ##no of compounds in the whole data"
   ]
  },
  {
   "cell_type": "code",
   "execution_count": 14,
   "id": "d307ce0a",
   "metadata": {},
   "outputs": [
    {
     "data": {
      "text/plain": [
       "501"
      ]
     },
     "execution_count": 14,
     "metadata": {},
     "output_type": "execute_result"
    }
   ],
   "source": [
    "len(df_cpds_moas['moa'].unique()) ##no of MOA"
   ]
  },
  {
   "cell_type": "code",
   "execution_count": 15,
   "id": "2723ee19",
   "metadata": {},
   "outputs": [],
   "source": [
    "def create_moa_targets(df):\n",
    "    \"\"\"Create the binary multi-label MOA targets for each compound\"\"\"\n",
    "    df['val'] = 1\n",
    "    df_moas_targets = pd.pivot_table(df, values=['val'], index='pert_iname',columns=['moa'], fill_value=0)\n",
    "    df_moas_targets.columns.names = (None,None)\n",
    "    df_moas_targets.columns = df_moas_targets.columns.droplevel(0)\n",
    "    df_moas_targets = df_moas_targets.reset_index().rename({'index':'pert_iname'}, axis = 1)\n",
    "    return df_moas_targets"
   ]
  },
  {
   "cell_type": "code",
   "execution_count": 16,
   "id": "bf67de14",
   "metadata": {},
   "outputs": [],
   "source": [
    "df_moa_targets = create_moa_targets(df_cpds_moas)"
   ]
  },
  {
   "cell_type": "code",
   "execution_count": 17,
   "id": "7151a7c1",
   "metadata": {},
   "outputs": [
    {
     "data": {
      "text/html": [
       "<div>\n",
       "<style scoped>\n",
       "    .dataframe tbody tr th:only-of-type {\n",
       "        vertical-align: middle;\n",
       "    }\n",
       "\n",
       "    .dataframe tbody tr th {\n",
       "        vertical-align: top;\n",
       "    }\n",
       "\n",
       "    .dataframe thead th {\n",
       "        text-align: right;\n",
       "    }\n",
       "</style>\n",
       "<table border=\"1\" class=\"dataframe\">\n",
       "  <thead>\n",
       "    <tr style=\"text-align: right;\">\n",
       "      <th></th>\n",
       "      <th>pert_iname</th>\n",
       "      <th>11-beta hydroxysteroid dehydrogenase inhibitor</th>\n",
       "      <th>11-beta-hsd1 inhibitor</th>\n",
       "      <th>17,20 lyase inhibitor</th>\n",
       "      <th>3-ketoacyl coa thiolase inhibitor</th>\n",
       "      <th>3beta-hydroxy-delta5-steroid dehydrogenase inhibitor</th>\n",
       "      <th>5 alpha reductase inhibitor</th>\n",
       "      <th>abl kinase inhibitor</th>\n",
       "      <th>acat inhibitor</th>\n",
       "      <th>acetylcholine precursor</th>\n",
       "      <th>...</th>\n",
       "      <th>vasopressin receptor antagonist</th>\n",
       "      <th>vegfr inhibitor</th>\n",
       "      <th>vesicular monoamine transporter inhibitor</th>\n",
       "      <th>vitamin b</th>\n",
       "      <th>vitamin d receptor agonist</th>\n",
       "      <th>vitamin k antagonist</th>\n",
       "      <th>voltage-gated sodium channel blocker</th>\n",
       "      <th>voltage-gated sodium channel modulator</th>\n",
       "      <th>xanthine oxidase inhibitor</th>\n",
       "      <th>xiap inhibitor</th>\n",
       "    </tr>\n",
       "  </thead>\n",
       "  <tbody>\n",
       "    <tr>\n",
       "      <th>0</th>\n",
       "      <td>17-hydroxyprogesterone-caproate</td>\n",
       "      <td>0</td>\n",
       "      <td>0</td>\n",
       "      <td>0</td>\n",
       "      <td>0</td>\n",
       "      <td>0</td>\n",
       "      <td>0</td>\n",
       "      <td>0</td>\n",
       "      <td>0</td>\n",
       "      <td>0</td>\n",
       "      <td>...</td>\n",
       "      <td>0</td>\n",
       "      <td>0</td>\n",
       "      <td>0</td>\n",
       "      <td>0</td>\n",
       "      <td>0</td>\n",
       "      <td>0</td>\n",
       "      <td>0</td>\n",
       "      <td>0</td>\n",
       "      <td>0</td>\n",
       "      <td>0</td>\n",
       "    </tr>\n",
       "    <tr>\n",
       "      <th>1</th>\n",
       "      <td>2-iminobiotin</td>\n",
       "      <td>0</td>\n",
       "      <td>0</td>\n",
       "      <td>0</td>\n",
       "      <td>0</td>\n",
       "      <td>0</td>\n",
       "      <td>0</td>\n",
       "      <td>0</td>\n",
       "      <td>0</td>\n",
       "      <td>0</td>\n",
       "      <td>...</td>\n",
       "      <td>0</td>\n",
       "      <td>0</td>\n",
       "      <td>0</td>\n",
       "      <td>0</td>\n",
       "      <td>0</td>\n",
       "      <td>0</td>\n",
       "      <td>0</td>\n",
       "      <td>0</td>\n",
       "      <td>0</td>\n",
       "      <td>0</td>\n",
       "    </tr>\n",
       "    <tr>\n",
       "      <th>2</th>\n",
       "      <td>3-amino-benzamide</td>\n",
       "      <td>0</td>\n",
       "      <td>0</td>\n",
       "      <td>0</td>\n",
       "      <td>0</td>\n",
       "      <td>0</td>\n",
       "      <td>0</td>\n",
       "      <td>0</td>\n",
       "      <td>0</td>\n",
       "      <td>0</td>\n",
       "      <td>...</td>\n",
       "      <td>0</td>\n",
       "      <td>0</td>\n",
       "      <td>0</td>\n",
       "      <td>0</td>\n",
       "      <td>0</td>\n",
       "      <td>0</td>\n",
       "      <td>0</td>\n",
       "      <td>0</td>\n",
       "      <td>0</td>\n",
       "      <td>0</td>\n",
       "    </tr>\n",
       "    <tr>\n",
       "      <th>3</th>\n",
       "      <td>3-deazaadenosine</td>\n",
       "      <td>0</td>\n",
       "      <td>0</td>\n",
       "      <td>0</td>\n",
       "      <td>0</td>\n",
       "      <td>0</td>\n",
       "      <td>0</td>\n",
       "      <td>0</td>\n",
       "      <td>0</td>\n",
       "      <td>0</td>\n",
       "      <td>...</td>\n",
       "      <td>0</td>\n",
       "      <td>0</td>\n",
       "      <td>0</td>\n",
       "      <td>0</td>\n",
       "      <td>0</td>\n",
       "      <td>0</td>\n",
       "      <td>0</td>\n",
       "      <td>0</td>\n",
       "      <td>0</td>\n",
       "      <td>0</td>\n",
       "    </tr>\n",
       "    <tr>\n",
       "      <th>4</th>\n",
       "      <td>abacavir</td>\n",
       "      <td>0</td>\n",
       "      <td>0</td>\n",
       "      <td>0</td>\n",
       "      <td>0</td>\n",
       "      <td>0</td>\n",
       "      <td>0</td>\n",
       "      <td>0</td>\n",
       "      <td>0</td>\n",
       "      <td>0</td>\n",
       "      <td>...</td>\n",
       "      <td>0</td>\n",
       "      <td>0</td>\n",
       "      <td>0</td>\n",
       "      <td>0</td>\n",
       "      <td>0</td>\n",
       "      <td>0</td>\n",
       "      <td>0</td>\n",
       "      <td>0</td>\n",
       "      <td>0</td>\n",
       "      <td>0</td>\n",
       "    </tr>\n",
       "    <tr>\n",
       "      <th>...</th>\n",
       "      <td>...</td>\n",
       "      <td>...</td>\n",
       "      <td>...</td>\n",
       "      <td>...</td>\n",
       "      <td>...</td>\n",
       "      <td>...</td>\n",
       "      <td>...</td>\n",
       "      <td>...</td>\n",
       "      <td>...</td>\n",
       "      <td>...</td>\n",
       "      <td>...</td>\n",
       "      <td>...</td>\n",
       "      <td>...</td>\n",
       "      <td>...</td>\n",
       "      <td>...</td>\n",
       "      <td>...</td>\n",
       "      <td>...</td>\n",
       "      <td>...</td>\n",
       "      <td>...</td>\n",
       "      <td>...</td>\n",
       "      <td>...</td>\n",
       "    </tr>\n",
       "    <tr>\n",
       "      <th>1253</th>\n",
       "      <td>zk811752</td>\n",
       "      <td>0</td>\n",
       "      <td>0</td>\n",
       "      <td>0</td>\n",
       "      <td>0</td>\n",
       "      <td>0</td>\n",
       "      <td>0</td>\n",
       "      <td>0</td>\n",
       "      <td>0</td>\n",
       "      <td>0</td>\n",
       "      <td>...</td>\n",
       "      <td>0</td>\n",
       "      <td>0</td>\n",
       "      <td>0</td>\n",
       "      <td>0</td>\n",
       "      <td>0</td>\n",
       "      <td>0</td>\n",
       "      <td>0</td>\n",
       "      <td>0</td>\n",
       "      <td>0</td>\n",
       "      <td>0</td>\n",
       "    </tr>\n",
       "    <tr>\n",
       "      <th>1254</th>\n",
       "      <td>zofenopril-calcium</td>\n",
       "      <td>0</td>\n",
       "      <td>0</td>\n",
       "      <td>0</td>\n",
       "      <td>0</td>\n",
       "      <td>0</td>\n",
       "      <td>0</td>\n",
       "      <td>0</td>\n",
       "      <td>0</td>\n",
       "      <td>0</td>\n",
       "      <td>...</td>\n",
       "      <td>0</td>\n",
       "      <td>0</td>\n",
       "      <td>0</td>\n",
       "      <td>0</td>\n",
       "      <td>0</td>\n",
       "      <td>0</td>\n",
       "      <td>0</td>\n",
       "      <td>0</td>\n",
       "      <td>0</td>\n",
       "      <td>0</td>\n",
       "    </tr>\n",
       "    <tr>\n",
       "      <th>1255</th>\n",
       "      <td>zolpidem</td>\n",
       "      <td>0</td>\n",
       "      <td>0</td>\n",
       "      <td>0</td>\n",
       "      <td>0</td>\n",
       "      <td>0</td>\n",
       "      <td>0</td>\n",
       "      <td>0</td>\n",
       "      <td>0</td>\n",
       "      <td>0</td>\n",
       "      <td>...</td>\n",
       "      <td>0</td>\n",
       "      <td>0</td>\n",
       "      <td>0</td>\n",
       "      <td>0</td>\n",
       "      <td>0</td>\n",
       "      <td>0</td>\n",
       "      <td>0</td>\n",
       "      <td>0</td>\n",
       "      <td>0</td>\n",
       "      <td>0</td>\n",
       "    </tr>\n",
       "    <tr>\n",
       "      <th>1256</th>\n",
       "      <td>zonisamide</td>\n",
       "      <td>0</td>\n",
       "      <td>0</td>\n",
       "      <td>0</td>\n",
       "      <td>0</td>\n",
       "      <td>0</td>\n",
       "      <td>0</td>\n",
       "      <td>0</td>\n",
       "      <td>0</td>\n",
       "      <td>0</td>\n",
       "      <td>...</td>\n",
       "      <td>0</td>\n",
       "      <td>0</td>\n",
       "      <td>0</td>\n",
       "      <td>0</td>\n",
       "      <td>0</td>\n",
       "      <td>0</td>\n",
       "      <td>0</td>\n",
       "      <td>0</td>\n",
       "      <td>0</td>\n",
       "      <td>0</td>\n",
       "    </tr>\n",
       "    <tr>\n",
       "      <th>1257</th>\n",
       "      <td>zosuquidar</td>\n",
       "      <td>0</td>\n",
       "      <td>0</td>\n",
       "      <td>0</td>\n",
       "      <td>0</td>\n",
       "      <td>0</td>\n",
       "      <td>0</td>\n",
       "      <td>0</td>\n",
       "      <td>0</td>\n",
       "      <td>0</td>\n",
       "      <td>...</td>\n",
       "      <td>0</td>\n",
       "      <td>0</td>\n",
       "      <td>0</td>\n",
       "      <td>0</td>\n",
       "      <td>0</td>\n",
       "      <td>0</td>\n",
       "      <td>0</td>\n",
       "      <td>0</td>\n",
       "      <td>0</td>\n",
       "      <td>0</td>\n",
       "    </tr>\n",
       "  </tbody>\n",
       "</table>\n",
       "<p>1258 rows × 502 columns</p>\n",
       "</div>"
      ],
      "text/plain": [
       "                           pert_iname  \\\n",
       "0     17-hydroxyprogesterone-caproate   \n",
       "1                       2-iminobiotin   \n",
       "2                   3-amino-benzamide   \n",
       "3                    3-deazaadenosine   \n",
       "4                            abacavir   \n",
       "...                               ...   \n",
       "1253                         zk811752   \n",
       "1254               zofenopril-calcium   \n",
       "1255                         zolpidem   \n",
       "1256                       zonisamide   \n",
       "1257                       zosuquidar   \n",
       "\n",
       "      11-beta hydroxysteroid dehydrogenase inhibitor  11-beta-hsd1 inhibitor  \\\n",
       "0                                                  0                       0   \n",
       "1                                                  0                       0   \n",
       "2                                                  0                       0   \n",
       "3                                                  0                       0   \n",
       "4                                                  0                       0   \n",
       "...                                              ...                     ...   \n",
       "1253                                               0                       0   \n",
       "1254                                               0                       0   \n",
       "1255                                               0                       0   \n",
       "1256                                               0                       0   \n",
       "1257                                               0                       0   \n",
       "\n",
       "      17,20 lyase inhibitor  3-ketoacyl coa thiolase inhibitor  \\\n",
       "0                         0                                  0   \n",
       "1                         0                                  0   \n",
       "2                         0                                  0   \n",
       "3                         0                                  0   \n",
       "4                         0                                  0   \n",
       "...                     ...                                ...   \n",
       "1253                      0                                  0   \n",
       "1254                      0                                  0   \n",
       "1255                      0                                  0   \n",
       "1256                      0                                  0   \n",
       "1257                      0                                  0   \n",
       "\n",
       "      3beta-hydroxy-delta5-steroid dehydrogenase inhibitor  \\\n",
       "0                                                     0      \n",
       "1                                                     0      \n",
       "2                                                     0      \n",
       "3                                                     0      \n",
       "4                                                     0      \n",
       "...                                                 ...      \n",
       "1253                                                  0      \n",
       "1254                                                  0      \n",
       "1255                                                  0      \n",
       "1256                                                  0      \n",
       "1257                                                  0      \n",
       "\n",
       "      5 alpha reductase inhibitor  abl kinase inhibitor  acat inhibitor  \\\n",
       "0                               0                     0               0   \n",
       "1                               0                     0               0   \n",
       "2                               0                     0               0   \n",
       "3                               0                     0               0   \n",
       "4                               0                     0               0   \n",
       "...                           ...                   ...             ...   \n",
       "1253                            0                     0               0   \n",
       "1254                            0                     0               0   \n",
       "1255                            0                     0               0   \n",
       "1256                            0                     0               0   \n",
       "1257                            0                     0               0   \n",
       "\n",
       "      acetylcholine precursor  ...  vasopressin receptor antagonist  \\\n",
       "0                           0  ...                                0   \n",
       "1                           0  ...                                0   \n",
       "2                           0  ...                                0   \n",
       "3                           0  ...                                0   \n",
       "4                           0  ...                                0   \n",
       "...                       ...  ...                              ...   \n",
       "1253                        0  ...                                0   \n",
       "1254                        0  ...                                0   \n",
       "1255                        0  ...                                0   \n",
       "1256                        0  ...                                0   \n",
       "1257                        0  ...                                0   \n",
       "\n",
       "      vegfr inhibitor  vesicular monoamine transporter inhibitor  vitamin b  \\\n",
       "0                   0                                          0          0   \n",
       "1                   0                                          0          0   \n",
       "2                   0                                          0          0   \n",
       "3                   0                                          0          0   \n",
       "4                   0                                          0          0   \n",
       "...               ...                                        ...        ...   \n",
       "1253                0                                          0          0   \n",
       "1254                0                                          0          0   \n",
       "1255                0                                          0          0   \n",
       "1256                0                                          0          0   \n",
       "1257                0                                          0          0   \n",
       "\n",
       "      vitamin d receptor agonist  vitamin k antagonist  \\\n",
       "0                              0                     0   \n",
       "1                              0                     0   \n",
       "2                              0                     0   \n",
       "3                              0                     0   \n",
       "4                              0                     0   \n",
       "...                          ...                   ...   \n",
       "1253                           0                     0   \n",
       "1254                           0                     0   \n",
       "1255                           0                     0   \n",
       "1256                           0                     0   \n",
       "1257                           0                     0   \n",
       "\n",
       "      voltage-gated sodium channel blocker  \\\n",
       "0                                        0   \n",
       "1                                        0   \n",
       "2                                        0   \n",
       "3                                        0   \n",
       "4                                        0   \n",
       "...                                    ...   \n",
       "1253                                     0   \n",
       "1254                                     0   \n",
       "1255                                     0   \n",
       "1256                                     0   \n",
       "1257                                     0   \n",
       "\n",
       "      voltage-gated sodium channel modulator  xanthine oxidase inhibitor  \\\n",
       "0                                          0                           0   \n",
       "1                                          0                           0   \n",
       "2                                          0                           0   \n",
       "3                                          0                           0   \n",
       "4                                          0                           0   \n",
       "...                                      ...                         ...   \n",
       "1253                                       0                           0   \n",
       "1254                                       0                           0   \n",
       "1255                                       0                           0   \n",
       "1256                                       0                           0   \n",
       "1257                                       0                           0   \n",
       "\n",
       "      xiap inhibitor  \n",
       "0                  0  \n",
       "1                  0  \n",
       "2                  0  \n",
       "3                  0  \n",
       "4                  0  \n",
       "...              ...  \n",
       "1253               0  \n",
       "1254               0  \n",
       "1255               0  \n",
       "1256               0  \n",
       "1257               0  \n",
       "\n",
       "[1258 rows x 502 columns]"
      ]
     },
     "execution_count": 17,
     "metadata": {},
     "output_type": "execute_result"
    }
   ],
   "source": [
    "df_moa_targets"
   ]
  },
  {
   "cell_type": "code",
   "execution_count": 18,
   "id": "353aab11",
   "metadata": {},
   "outputs": [],
   "source": [
    "df_level4_cp = df_level4_cp.merge(df_moa_targets, on='pert_iname')\n",
    "df_level4_L1 = df_level4_L1.merge(df_moa_targets, on='pert_iname')"
   ]
  },
  {
   "cell_type": "code",
   "execution_count": 19,
   "id": "bf25bd73",
   "metadata": {},
   "outputs": [
    {
     "data": {
      "text/plain": [
       "(38273, 1313)"
      ]
     },
     "execution_count": 19,
     "metadata": {},
     "output_type": "execute_result"
    }
   ],
   "source": [
    "df_level4_cp.shape"
   ]
  },
  {
   "cell_type": "code",
   "execution_count": 20,
   "id": "801b4a22",
   "metadata": {},
   "outputs": [
    {
     "data": {
      "text/plain": [
       "(23263, 1489)"
      ]
     },
     "execution_count": 20,
     "metadata": {},
     "output_type": "execute_result"
    }
   ],
   "source": [
    "df_level4_L1.shape"
   ]
  },
  {
   "cell_type": "markdown",
   "id": "1567ca88",
   "metadata": {},
   "source": [
    "### - compounds split (80/20) based on MOAs -- based on split_moas_cpds"
   ]
  },
  {
   "cell_type": "code",
   "execution_count": 21,
   "id": "c2f50646",
   "metadata": {},
   "outputs": [],
   "source": [
    "train_cpds = df_cpds_moas_lincs[df_cpds_moas_lincs['train']]['pert_iname'].unique()\n",
    "test_cpds = df_cpds_moas_lincs[df_cpds_moas_lincs['test']]['pert_iname'].unique()"
   ]
  },
  {
   "cell_type": "code",
   "execution_count": 22,
   "id": "b117a3ea",
   "metadata": {},
   "outputs": [
    {
     "data": {
      "text/plain": [
       "941"
      ]
     },
     "execution_count": 22,
     "metadata": {},
     "output_type": "execute_result"
    }
   ],
   "source": [
    "len(train_cpds)"
   ]
  },
  {
   "cell_type": "code",
   "execution_count": 23,
   "id": "5edb5fe9",
   "metadata": {},
   "outputs": [
    {
     "data": {
      "text/plain": [
       "317"
      ]
     },
     "execution_count": 23,
     "metadata": {},
     "output_type": "execute_result"
    }
   ],
   "source": [
    "len(test_cpds)"
   ]
  },
  {
   "cell_type": "code",
   "execution_count": 24,
   "id": "e4008f55",
   "metadata": {},
   "outputs": [],
   "source": [
    "def train_test_split(train_cpds, test_cpds, df):\n",
    "    df_trn = df.loc[df['pert_iname'].isin(train_cpds)].reset_index(drop=True)\n",
    "    df_tst = df.loc[df['pert_iname'].isin(test_cpds)].reset_index(drop=True)\n",
    "    return df_trn, df_tst"
   ]
  },
  {
   "cell_type": "code",
   "execution_count": 25,
   "id": "dad47b42",
   "metadata": {},
   "outputs": [],
   "source": [
    "df_level4_cp_trn, df_level4_cp_tst = train_test_split(train_cpds, test_cpds, df_level4_cp)\n",
    "df_level4_L1_trn, df_level4_L1_tst = train_test_split(train_cpds, test_cpds, df_level4_L1)"
   ]
  },
  {
   "cell_type": "code",
   "execution_count": 26,
   "id": "eeec2460",
   "metadata": {},
   "outputs": [
    {
     "data": {
      "text/plain": [
       "(27485, 1313)"
      ]
     },
     "execution_count": 26,
     "metadata": {},
     "output_type": "execute_result"
    }
   ],
   "source": [
    "df_level4_cp_trn.shape"
   ]
  },
  {
   "cell_type": "code",
   "execution_count": 27,
   "id": "490dc43a",
   "metadata": {},
   "outputs": [
    {
     "data": {
      "text/plain": [
       "(10788, 1313)"
      ]
     },
     "execution_count": 27,
     "metadata": {},
     "output_type": "execute_result"
    }
   ],
   "source": [
    "df_level4_cp_tst.shape"
   ]
  },
  {
   "cell_type": "code",
   "execution_count": 28,
   "id": "3d01971b",
   "metadata": {},
   "outputs": [
    {
     "data": {
      "text/plain": [
       "(16802, 1489)"
      ]
     },
     "execution_count": 28,
     "metadata": {},
     "output_type": "execute_result"
    }
   ],
   "source": [
    "df_level4_L1_trn.shape"
   ]
  },
  {
   "cell_type": "code",
   "execution_count": 29,
   "id": "763dcc7c",
   "metadata": {},
   "outputs": [
    {
     "data": {
      "text/plain": [
       "(6461, 1489)"
      ]
     },
     "execution_count": 29,
     "metadata": {},
     "output_type": "execute_result"
    }
   ],
   "source": [
    "df_level4_L1_tst.shape"
   ]
  },
  {
   "cell_type": "markdown",
   "id": "8b82dc95",
   "metadata": {},
   "source": [
    "### - Shuffle train data - 2nd train data\n",
    "#### - Shuffle the target labels in the train data so that replicates of the same compound/MOA have different MOA labels"
   ]
  },
  {
   "cell_type": "code",
   "execution_count": 30,
   "id": "b9c6c5b3",
   "metadata": {},
   "outputs": [],
   "source": [
    "def create_shuffle_data(df_trn, target_cols):\n",
    "    \"\"\"Create shuffled train data where the replicates of each compound are given wrong target labels\"\"\"\n",
    "    df_trn_cpy = df_trn.copy()\n",
    "    df_trn_tgts = df_trn_cpy[target_cols].copy()\n",
    "    rand_df = pd.DataFrame(np.random.permutation(df_trn_tgts), columns =df_trn_tgts.columns.tolist())\n",
    "    df_trn_cpy.drop(target_cols, axis = 1, inplace = True)\n",
    "    df_trn_cpy = pd.concat([df_trn_cpy, rand_df], axis = 1)\n",
    "    return df_trn_cpy"
   ]
  },
  {
   "cell_type": "code",
   "execution_count": 31,
   "id": "12df33a2",
   "metadata": {},
   "outputs": [],
   "source": [
    "target_cols = df_moa_targets.columns[1:]"
   ]
  },
  {
   "cell_type": "code",
   "execution_count": 32,
   "id": "313fd419",
   "metadata": {},
   "outputs": [],
   "source": [
    "df_lvl4_cp_trn_shuf = create_shuffle_data(df_level4_cp_trn, target_cols)\n",
    "df_lvl4_L1_trn_shuf = create_shuffle_data(df_level4_L1_trn, target_cols)"
   ]
  },
  {
   "cell_type": "code",
   "execution_count": 33,
   "id": "130ae697",
   "metadata": {},
   "outputs": [
    {
     "data": {
      "text/plain": [
       "(27485, 1313)"
      ]
     },
     "execution_count": 33,
     "metadata": {},
     "output_type": "execute_result"
    }
   ],
   "source": [
    "df_lvl4_cp_trn_shuf.shape"
   ]
  },
  {
   "cell_type": "code",
   "execution_count": 34,
   "id": "22723578",
   "metadata": {},
   "outputs": [
    {
     "data": {
      "text/plain": [
       "(16802, 1489)"
      ]
     },
     "execution_count": 34,
     "metadata": {},
     "output_type": "execute_result"
    }
   ],
   "source": [
    "df_lvl4_L1_trn_shuf.shape"
   ]
  },
  {
   "cell_type": "markdown",
   "id": "a6810286",
   "metadata": {},
   "source": [
    "#### - Save to CSV"
   ]
  },
  {
   "cell_type": "code",
   "execution_count": 35,
   "id": "76d30c18",
   "metadata": {},
   "outputs": [],
   "source": [
    "def save_to_csv(df, path, file_name, compress=None):\n",
    "    \"\"\"saves dataframes to csv\"\"\"\n",
    "    \n",
    "    if not os.path.exists(path):\n",
    "        os.mkdir(path)\n",
    "    \n",
    "    df.to_csv(os.path.join(path, file_name), index=False, compression=compress)"
   ]
  },
  {
   "cell_type": "code",
   "execution_count": 36,
   "id": "f19bc6a2",
   "metadata": {},
   "outputs": [],
   "source": [
    "save_to_csv(df_level4_cp_trn, \"model_data/cp/\", f'train_lvl4_data{file_indicator}.csv.gz', compress=\"gzip\")\n",
    "save_to_csv(df_level4_cp_tst, \"model_data/cp/\", f'test_lvl4_data{file_indicator}.csv.gz', compress=\"gzip\")\n",
    "save_to_csv(df_lvl4_cp_trn_shuf, \"model_data/cp/\", f'train_shuffle_lvl4_data{file_indicator}.csv.gz', compress=\"gzip\")"
   ]
  },
  {
   "cell_type": "code",
   "execution_count": 37,
   "id": "3103ac74",
   "metadata": {},
   "outputs": [],
   "source": [
    "save_to_csv(df_level4_L1_trn, \"model_data/L1/\", 'train_lvl4_data.csv.gz', compress=\"gzip\")\n",
    "save_to_csv(df_level4_L1_tst, \"model_data/L1/\", 'test_lvl4_data.csv.gz', compress=\"gzip\")\n",
    "save_to_csv(df_lvl4_L1_trn_shuf, \"model_data/L1/\", 'train_shuffle_lvl4_data.csv.gz', compress=\"gzip\")"
   ]
  },
  {
   "cell_type": "code",
   "execution_count": 38,
   "id": "064ce9fa",
   "metadata": {},
   "outputs": [],
   "source": [
    "save_to_csv(df_moa_targets, \"model_data/cp/\", f'target_labels{file_indicator}.csv')\n",
    "save_to_csv(df_moa_targets, \"model_data/L1/\", 'target_labels.csv')"
   ]
  }
 ],
 "metadata": {
  "kernelspec": {
   "display_name": "Python 3 (ipykernel)",
   "language": "python",
   "name": "python3"
  },
  "language_info": {
   "codemirror_mode": {
    "name": "ipython",
    "version": 3
   },
   "file_extension": ".py",
   "mimetype": "text/x-python",
   "name": "python",
   "nbconvert_exporter": "python",
   "pygments_lexer": "ipython3",
   "version": "3.9.6"
  }
 },
 "nbformat": 4,
 "nbformat_minor": 5
}
