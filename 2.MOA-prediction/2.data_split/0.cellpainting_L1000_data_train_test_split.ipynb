{
 "cells": [
  {
   "cell_type": "markdown",
   "id": "fd4f3ccb",
   "metadata": {},
   "source": [
    "### - Split the data in Cell painting & L1000 into train/test based on their compounds\n",
    "\n",
    "**gway edit** - Adding data split also based on target and GO term (in addition to MOA)"
   ]
  },
  {
   "cell_type": "code",
   "execution_count": 1,
   "id": "eae23e41",
   "metadata": {},
   "outputs": [],
   "source": [
    "import os\n",
    "import requests\n",
    "import pickle\n",
    "import argparse\n",
    "import pandas as pd\n",
    "import numpy as np\n",
    "import re\n",
    "from os import walk\n",
    "from collections import Counter\n",
    "import random\n",
    "import shutil"
   ]
  },
  {
   "cell_type": "code",
   "execution_count": 2,
   "id": "4df38131-7dde-44df-ae15-2f4c955d3bff",
   "metadata": {},
   "outputs": [],
   "source": [
    "def create_targets(df, cols=\"moa\", drop_dummy=True):\n",
    "    \"\"\"Create the binary multi-label targets for each compound\"\"\"\n",
    "    df['val'] = 1\n",
    "    df_targets = pd.pivot_table(\n",
    "        df,\n",
    "        values=['val'],\n",
    "        index='pert_iname',\n",
    "        columns=[cols],\n",
    "        fill_value=0\n",
    "    )\n",
    "    \n",
    "    df_targets.columns.names = (None,None)\n",
    "    df_targets.columns = df_targets.columns.droplevel(0)\n",
    "    \n",
    "    df_targets = df_targets.reset_index().rename({'index':'pert_iname'}, axis = 1)\n",
    "    \n",
    "    if drop_dummy:\n",
    "        df_targets = df_targets.drop(columns=[\"dummy\"])\n",
    "        \n",
    "    return df_targets\n",
    "\n",
    "\n",
    "def train_test_split(train_cpds, test_cpds, df):\n",
    "    df_trn = df.loc[df['pert_iname'].isin(train_cpds)].reset_index(drop=True)\n",
    "    df_tst = df.loc[df['pert_iname'].isin(test_cpds)].reset_index(drop=True)\n",
    "    return df_trn, df_tst\n",
    "\n",
    "\n",
    "def create_shuffle_data(df_trn, target_cols):\n",
    "    \"\"\"Create shuffled train data where the replicates of each compound are given wrong target labels\"\"\"\n",
    "    df_trn_cpy = df_trn.copy()\n",
    "    df_trn_tgts = df_trn_cpy[target_cols].copy()\n",
    "    rand_df = pd.DataFrame(np.random.permutation(df_trn_tgts), columns=df_trn_tgts.columns.tolist())\n",
    "    df_trn_cpy.drop(target_cols, axis = 1, inplace = True)\n",
    "    df_trn_cpy = pd.concat([df_trn_cpy, rand_df], axis = 1)\n",
    "    return df_trn_cpy\n",
    "\n",
    "def save_to_csv(df, path, file_name, compress=None):\n",
    "    \"\"\"saves dataframes to csv\"\"\"\n",
    "    \n",
    "    if not os.path.exists(path):\n",
    "        os.mkdir(path)\n",
    "    \n",
    "    df.to_csv(os.path.join(path, file_name), index=False, compression=compress)"
   ]
  },
  {
   "cell_type": "code",
   "execution_count": 3,
   "id": "cceb8969-2096-4f90-aef2-50b96ca7af5a",
   "metadata": {},
   "outputs": [],
   "source": [
    "# Run with both \"\" and \"_subsample\" for the two Cell Painting input data types\n",
    "file_indicator = \"\"\n",
    "\n",
    "# We generate multiple target label datasets (MOA = \"\", Target = \"_targets\", Pathway = \"_targets_pathways\"\n",
    "split_indicator = \"_targets_pathways\""
   ]
  },
  {
   "cell_type": "code",
   "execution_count": 4,
   "id": "d9b25bef-ae48-4557-a887-e93a092bc556",
   "metadata": {},
   "outputs": [],
   "source": [
    "cp_data_path = '../../1.Data-exploration/Profiles_level4/cell_painting/cellpainting_lvl4_cpd_replicate_datasets/'\n",
    "l1000_data_path = \"../../1.Data-exploration/Profiles_level4/L1000/L1000_lvl4_cpd_replicate_datasets/\"\n",
    "\n",
    "cpd_split_path = '../1.compound_split_train_test/data'"
   ]
  },
  {
   "cell_type": "code",
   "execution_count": 5,
   "id": "3c9abf3c",
   "metadata": {},
   "outputs": [],
   "source": [
    "df_level4_cp = pd.read_csv(\n",
    "    os.path.join(cp_data_path, f'cp_level4_cpd_replicates{file_indicator}.csv.gz'),\n",
    "    low_memory = False\n",
    ")\n",
    "\n",
    "df_level4_L1 = pd.read_csv(\n",
    "    os.path.join(l1000_data_path, 'L1000_level4_cpd_replicates.csv.gz'), \n",
    "    compression='gzip',\n",
    "    low_memory = False\n",
    ")"
   ]
  },
  {
   "cell_type": "code",
   "execution_count": 6,
   "id": "c4afd6db",
   "metadata": {},
   "outputs": [],
   "source": [
    "df_cpds_moas_lincs = pd.read_csv(os.path.join(cpd_split_path, f'split_moas{split_indicator}_cpds.csv'))"
   ]
  },
  {
   "cell_type": "code",
   "execution_count": 7,
   "id": "c5773bb5",
   "metadata": {},
   "outputs": [
    {
     "name": "stdout",
     "output_type": "stream",
     "text": [
      "(57224, 13)\n",
      "1258\n"
     ]
    },
    {
     "data": {
      "text/html": [
       "<div>\n",
       "<style scoped>\n",
       "    .dataframe tbody tr th:only-of-type {\n",
       "        vertical-align: middle;\n",
       "    }\n",
       "\n",
       "    .dataframe tbody tr th {\n",
       "        vertical-align: top;\n",
       "    }\n",
       "\n",
       "    .dataframe thead th {\n",
       "        text-align: right;\n",
       "    }\n",
       "</style>\n",
       "<table border=\"1\" class=\"dataframe\">\n",
       "  <thead>\n",
       "    <tr style=\"text-align: right;\">\n",
       "      <th></th>\n",
       "      <th>pert_iname</th>\n",
       "      <th>moa</th>\n",
       "      <th>train</th>\n",
       "      <th>test</th>\n",
       "      <th>marked</th>\n",
       "      <th>target_unique</th>\n",
       "      <th>clinical_phase</th>\n",
       "      <th>disease_area</th>\n",
       "      <th>indication</th>\n",
       "      <th>go_term</th>\n",
       "      <th>term_label</th>\n",
       "      <th>term_synonym</th>\n",
       "      <th>go_ontology</th>\n",
       "    </tr>\n",
       "  </thead>\n",
       "  <tbody>\n",
       "    <tr>\n",
       "      <th>0</th>\n",
       "      <td>ketoprofen</td>\n",
       "      <td>cyclooxygenase inhibitor</td>\n",
       "      <td>True</td>\n",
       "      <td>False</td>\n",
       "      <td>True</td>\n",
       "      <td>PTGS1</td>\n",
       "      <td>Launched</td>\n",
       "      <td>rheumatology</td>\n",
       "      <td>rheumatoid arthritis|osteoarthritis</td>\n",
       "      <td>GO:0001516</td>\n",
       "      <td>prostaglandin biosynthetic process</td>\n",
       "      <td>prostaglandin anabolism|prostaglandin biosynth...</td>\n",
       "      <td>BP</td>\n",
       "    </tr>\n",
       "    <tr>\n",
       "      <th>1</th>\n",
       "      <td>ketoprofen</td>\n",
       "      <td>cyclooxygenase inhibitor</td>\n",
       "      <td>True</td>\n",
       "      <td>False</td>\n",
       "      <td>True</td>\n",
       "      <td>PTGS1</td>\n",
       "      <td>Launched</td>\n",
       "      <td>rheumatology</td>\n",
       "      <td>rheumatoid arthritis|osteoarthritis</td>\n",
       "      <td>GO:0006954</td>\n",
       "      <td>inflammatory response</td>\n",
       "      <td>inflammation</td>\n",
       "      <td>BP</td>\n",
       "    </tr>\n",
       "    <tr>\n",
       "      <th>2</th>\n",
       "      <td>ketoprofen</td>\n",
       "      <td>cyclooxygenase inhibitor</td>\n",
       "      <td>True</td>\n",
       "      <td>False</td>\n",
       "      <td>True</td>\n",
       "      <td>PTGS1</td>\n",
       "      <td>Launched</td>\n",
       "      <td>rheumatology</td>\n",
       "      <td>rheumatoid arthritis|osteoarthritis</td>\n",
       "      <td>GO:0006979</td>\n",
       "      <td>response to oxidative stress</td>\n",
       "      <td>NaN</td>\n",
       "      <td>BP</td>\n",
       "    </tr>\n",
       "    <tr>\n",
       "      <th>3</th>\n",
       "      <td>ketoprofen</td>\n",
       "      <td>cyclooxygenase inhibitor</td>\n",
       "      <td>True</td>\n",
       "      <td>False</td>\n",
       "      <td>True</td>\n",
       "      <td>PTGS1</td>\n",
       "      <td>Launched</td>\n",
       "      <td>rheumatology</td>\n",
       "      <td>rheumatoid arthritis|osteoarthritis</td>\n",
       "      <td>GO:0008217</td>\n",
       "      <td>regulation of blood pressure</td>\n",
       "      <td>blood pressure regulation|blood pressure homeo...</td>\n",
       "      <td>BP</td>\n",
       "    </tr>\n",
       "    <tr>\n",
       "      <th>4</th>\n",
       "      <td>ketoprofen</td>\n",
       "      <td>cyclooxygenase inhibitor</td>\n",
       "      <td>True</td>\n",
       "      <td>False</td>\n",
       "      <td>True</td>\n",
       "      <td>PTGS1</td>\n",
       "      <td>Launched</td>\n",
       "      <td>rheumatology</td>\n",
       "      <td>rheumatoid arthritis|osteoarthritis</td>\n",
       "      <td>GO:0019371</td>\n",
       "      <td>cyclooxygenase pathway</td>\n",
       "      <td>NaN</td>\n",
       "      <td>BP</td>\n",
       "    </tr>\n",
       "  </tbody>\n",
       "</table>\n",
       "</div>"
      ],
      "text/plain": [
       "   pert_iname                       moa  train   test  marked target_unique  \\\n",
       "0  ketoprofen  cyclooxygenase inhibitor   True  False    True         PTGS1   \n",
       "1  ketoprofen  cyclooxygenase inhibitor   True  False    True         PTGS1   \n",
       "2  ketoprofen  cyclooxygenase inhibitor   True  False    True         PTGS1   \n",
       "3  ketoprofen  cyclooxygenase inhibitor   True  False    True         PTGS1   \n",
       "4  ketoprofen  cyclooxygenase inhibitor   True  False    True         PTGS1   \n",
       "\n",
       "  clinical_phase  disease_area                           indication  \\\n",
       "0       Launched  rheumatology  rheumatoid arthritis|osteoarthritis   \n",
       "1       Launched  rheumatology  rheumatoid arthritis|osteoarthritis   \n",
       "2       Launched  rheumatology  rheumatoid arthritis|osteoarthritis   \n",
       "3       Launched  rheumatology  rheumatoid arthritis|osteoarthritis   \n",
       "4       Launched  rheumatology  rheumatoid arthritis|osteoarthritis   \n",
       "\n",
       "      go_term                          term_label  \\\n",
       "0  GO:0001516  prostaglandin biosynthetic process   \n",
       "1  GO:0006954               inflammatory response   \n",
       "2  GO:0006979        response to oxidative stress   \n",
       "3  GO:0008217        regulation of blood pressure   \n",
       "4  GO:0019371              cyclooxygenase pathway   \n",
       "\n",
       "                                        term_synonym go_ontology  \n",
       "0  prostaglandin anabolism|prostaglandin biosynth...          BP  \n",
       "1                                       inflammation          BP  \n",
       "2                                                NaN          BP  \n",
       "3  blood pressure regulation|blood pressure homeo...          BP  \n",
       "4                                                NaN          BP  "
      ]
     },
     "execution_count": 7,
     "metadata": {},
     "output_type": "execute_result"
    }
   ],
   "source": [
    "print(df_cpds_moas_lincs.shape)\n",
    "print(len(df_cpds_moas_lincs.pert_iname.unique()))\n",
    "df_cpds_moas_lincs.head()"
   ]
  },
  {
   "cell_type": "code",
   "execution_count": 8,
   "id": "c50b362a",
   "metadata": {},
   "outputs": [],
   "source": [
    "all_cpds = df_cpds_moas_lincs['pert_iname'].unique()"
   ]
  },
  {
   "cell_type": "code",
   "execution_count": 9,
   "id": "ab7df848",
   "metadata": {},
   "outputs": [],
   "source": [
    "df_level4_cp = df_level4_cp.loc[df_level4_cp['pert_iname'].isin(all_cpds)].reset_index(drop=True)\n",
    "df_level4_L1 = df_level4_L1.loc[df_level4_L1['pert_iname'].isin(all_cpds)].reset_index(drop=True)"
   ]
  },
  {
   "cell_type": "code",
   "execution_count": 10,
   "id": "3fe9ed01",
   "metadata": {},
   "outputs": [
    {
     "data": {
      "text/plain": [
       "(38273, 812)"
      ]
     },
     "execution_count": 10,
     "metadata": {},
     "output_type": "execute_result"
    }
   ],
   "source": [
    "df_level4_cp.shape"
   ]
  },
  {
   "cell_type": "code",
   "execution_count": 11,
   "id": "dd7551de",
   "metadata": {
    "scrolled": true
   },
   "outputs": [
    {
     "data": {
      "text/plain": [
       "(23263, 988)"
      ]
     },
     "execution_count": 11,
     "metadata": {},
     "output_type": "execute_result"
    }
   ],
   "source": [
    "df_level4_L1.shape"
   ]
  },
  {
   "cell_type": "code",
   "execution_count": 12,
   "id": "aa268f9d",
   "metadata": {},
   "outputs": [],
   "source": [
    "df_level4_cp['moa'] = df_level4_cp['moa'].apply(lambda x: x.lower())\n",
    "df_level4_L1['moa'] = df_level4_L1['moa'].apply(lambda x: x.lower())"
   ]
  },
  {
   "cell_type": "code",
   "execution_count": 13,
   "id": "a595a8a1",
   "metadata": {},
   "outputs": [],
   "source": [
    "df_cpds_moas = df_cpds_moas_lincs.copy()"
   ]
  },
  {
   "cell_type": "code",
   "execution_count": 14,
   "id": "e58c8d80",
   "metadata": {},
   "outputs": [
    {
     "data": {
      "text/plain": [
       "1258"
      ]
     },
     "execution_count": 14,
     "metadata": {},
     "output_type": "execute_result"
    }
   ],
   "source": [
    "len(df_cpds_moas['pert_iname'].unique()) ##no of compounds in the whole data"
   ]
  },
  {
   "cell_type": "code",
   "execution_count": 15,
   "id": "1494cf3d-fa50-4a09-8d62-2a63c73b6be9",
   "metadata": {},
   "outputs": [
    {
     "name": "stdout",
     "output_type": "stream",
     "text": [
      "773\n"
     ]
    }
   ],
   "source": [
    "if split_indicator == \"\":\n",
    "    cols = \"moa\"\n",
    "elif split_indicator == \"_targets\":\n",
    "    cols = \"target_unique\"\n",
    "elif split_indicator == \"_targets_pathways\":\n",
    "    cols = \"go_term\"\n",
    "\n",
    "df_cpds_moas.loc[:, cols] = df_cpds_moas.loc[:, cols].fillna(\"dummy\")\n",
    "    \n",
    "print(len(df_cpds_moas[cols].unique()))"
   ]
  },
  {
   "cell_type": "code",
   "execution_count": 16,
   "id": "bf67de14",
   "metadata": {},
   "outputs": [
    {
     "data": {
      "text/html": [
       "<div>\n",
       "<style scoped>\n",
       "    .dataframe tbody tr th:only-of-type {\n",
       "        vertical-align: middle;\n",
       "    }\n",
       "\n",
       "    .dataframe tbody tr th {\n",
       "        vertical-align: top;\n",
       "    }\n",
       "\n",
       "    .dataframe thead th {\n",
       "        text-align: right;\n",
       "    }\n",
       "</style>\n",
       "<table border=\"1\" class=\"dataframe\">\n",
       "  <thead>\n",
       "    <tr style=\"text-align: right;\">\n",
       "      <th></th>\n",
       "      <th>pert_iname</th>\n",
       "      <th>GO:0000122</th>\n",
       "      <th>GO:0000139</th>\n",
       "      <th>GO:0000165</th>\n",
       "      <th>GO:0000228</th>\n",
       "      <th>GO:0000287</th>\n",
       "      <th>GO:0000785</th>\n",
       "      <th>GO:0000976</th>\n",
       "      <th>GO:0000977</th>\n",
       "      <th>GO:0000978</th>\n",
       "      <th>...</th>\n",
       "      <th>GO:1904813</th>\n",
       "      <th>GO:1990239</th>\n",
       "      <th>GO:1990384</th>\n",
       "      <th>GO:1990573</th>\n",
       "      <th>GO:1990763</th>\n",
       "      <th>GO:1990776</th>\n",
       "      <th>GO:1990837</th>\n",
       "      <th>GO:2000272</th>\n",
       "      <th>GO:2000300</th>\n",
       "      <th>GO:2000379</th>\n",
       "    </tr>\n",
       "  </thead>\n",
       "  <tbody>\n",
       "    <tr>\n",
       "      <th>0</th>\n",
       "      <td>17-hydroxyprogesterone-caproate</td>\n",
       "      <td>1</td>\n",
       "      <td>0</td>\n",
       "      <td>0</td>\n",
       "      <td>0</td>\n",
       "      <td>0</td>\n",
       "      <td>1</td>\n",
       "      <td>1</td>\n",
       "      <td>1</td>\n",
       "      <td>1</td>\n",
       "      <td>...</td>\n",
       "      <td>0</td>\n",
       "      <td>1</td>\n",
       "      <td>0</td>\n",
       "      <td>0</td>\n",
       "      <td>0</td>\n",
       "      <td>0</td>\n",
       "      <td>1</td>\n",
       "      <td>1</td>\n",
       "      <td>0</td>\n",
       "      <td>0</td>\n",
       "    </tr>\n",
       "    <tr>\n",
       "      <th>1</th>\n",
       "      <td>2-iminobiotin</td>\n",
       "      <td>0</td>\n",
       "      <td>0</td>\n",
       "      <td>0</td>\n",
       "      <td>0</td>\n",
       "      <td>0</td>\n",
       "      <td>0</td>\n",
       "      <td>0</td>\n",
       "      <td>0</td>\n",
       "      <td>0</td>\n",
       "      <td>...</td>\n",
       "      <td>0</td>\n",
       "      <td>0</td>\n",
       "      <td>0</td>\n",
       "      <td>0</td>\n",
       "      <td>0</td>\n",
       "      <td>0</td>\n",
       "      <td>0</td>\n",
       "      <td>0</td>\n",
       "      <td>0</td>\n",
       "      <td>0</td>\n",
       "    </tr>\n",
       "    <tr>\n",
       "      <th>2</th>\n",
       "      <td>3-amino-benzamide</td>\n",
       "      <td>1</td>\n",
       "      <td>0</td>\n",
       "      <td>0</td>\n",
       "      <td>0</td>\n",
       "      <td>0</td>\n",
       "      <td>0</td>\n",
       "      <td>0</td>\n",
       "      <td>0</td>\n",
       "      <td>0</td>\n",
       "      <td>...</td>\n",
       "      <td>0</td>\n",
       "      <td>0</td>\n",
       "      <td>0</td>\n",
       "      <td>0</td>\n",
       "      <td>0</td>\n",
       "      <td>0</td>\n",
       "      <td>0</td>\n",
       "      <td>0</td>\n",
       "      <td>0</td>\n",
       "      <td>0</td>\n",
       "    </tr>\n",
       "    <tr>\n",
       "      <th>3</th>\n",
       "      <td>3-deazaadenosine</td>\n",
       "      <td>0</td>\n",
       "      <td>0</td>\n",
       "      <td>0</td>\n",
       "      <td>0</td>\n",
       "      <td>0</td>\n",
       "      <td>0</td>\n",
       "      <td>0</td>\n",
       "      <td>0</td>\n",
       "      <td>0</td>\n",
       "      <td>...</td>\n",
       "      <td>0</td>\n",
       "      <td>0</td>\n",
       "      <td>0</td>\n",
       "      <td>0</td>\n",
       "      <td>0</td>\n",
       "      <td>0</td>\n",
       "      <td>0</td>\n",
       "      <td>0</td>\n",
       "      <td>0</td>\n",
       "      <td>0</td>\n",
       "    </tr>\n",
       "    <tr>\n",
       "      <th>4</th>\n",
       "      <td>abacavir</td>\n",
       "      <td>0</td>\n",
       "      <td>0</td>\n",
       "      <td>0</td>\n",
       "      <td>0</td>\n",
       "      <td>0</td>\n",
       "      <td>0</td>\n",
       "      <td>0</td>\n",
       "      <td>0</td>\n",
       "      <td>0</td>\n",
       "      <td>...</td>\n",
       "      <td>0</td>\n",
       "      <td>0</td>\n",
       "      <td>0</td>\n",
       "      <td>0</td>\n",
       "      <td>0</td>\n",
       "      <td>0</td>\n",
       "      <td>0</td>\n",
       "      <td>0</td>\n",
       "      <td>0</td>\n",
       "      <td>0</td>\n",
       "    </tr>\n",
       "    <tr>\n",
       "      <th>...</th>\n",
       "      <td>...</td>\n",
       "      <td>...</td>\n",
       "      <td>...</td>\n",
       "      <td>...</td>\n",
       "      <td>...</td>\n",
       "      <td>...</td>\n",
       "      <td>...</td>\n",
       "      <td>...</td>\n",
       "      <td>...</td>\n",
       "      <td>...</td>\n",
       "      <td>...</td>\n",
       "      <td>...</td>\n",
       "      <td>...</td>\n",
       "      <td>...</td>\n",
       "      <td>...</td>\n",
       "      <td>...</td>\n",
       "      <td>...</td>\n",
       "      <td>...</td>\n",
       "      <td>...</td>\n",
       "      <td>...</td>\n",
       "      <td>...</td>\n",
       "    </tr>\n",
       "    <tr>\n",
       "      <th>1253</th>\n",
       "      <td>zk811752</td>\n",
       "      <td>0</td>\n",
       "      <td>0</td>\n",
       "      <td>0</td>\n",
       "      <td>0</td>\n",
       "      <td>0</td>\n",
       "      <td>0</td>\n",
       "      <td>0</td>\n",
       "      <td>0</td>\n",
       "      <td>0</td>\n",
       "      <td>...</td>\n",
       "      <td>0</td>\n",
       "      <td>0</td>\n",
       "      <td>0</td>\n",
       "      <td>0</td>\n",
       "      <td>0</td>\n",
       "      <td>0</td>\n",
       "      <td>0</td>\n",
       "      <td>0</td>\n",
       "      <td>0</td>\n",
       "      <td>0</td>\n",
       "    </tr>\n",
       "    <tr>\n",
       "      <th>1254</th>\n",
       "      <td>zofenopril-calcium</td>\n",
       "      <td>0</td>\n",
       "      <td>0</td>\n",
       "      <td>0</td>\n",
       "      <td>0</td>\n",
       "      <td>0</td>\n",
       "      <td>0</td>\n",
       "      <td>0</td>\n",
       "      <td>0</td>\n",
       "      <td>0</td>\n",
       "      <td>...</td>\n",
       "      <td>0</td>\n",
       "      <td>0</td>\n",
       "      <td>0</td>\n",
       "      <td>0</td>\n",
       "      <td>0</td>\n",
       "      <td>0</td>\n",
       "      <td>0</td>\n",
       "      <td>0</td>\n",
       "      <td>0</td>\n",
       "      <td>0</td>\n",
       "    </tr>\n",
       "    <tr>\n",
       "      <th>1255</th>\n",
       "      <td>zolpidem</td>\n",
       "      <td>0</td>\n",
       "      <td>0</td>\n",
       "      <td>0</td>\n",
       "      <td>0</td>\n",
       "      <td>0</td>\n",
       "      <td>0</td>\n",
       "      <td>0</td>\n",
       "      <td>0</td>\n",
       "      <td>0</td>\n",
       "      <td>...</td>\n",
       "      <td>0</td>\n",
       "      <td>0</td>\n",
       "      <td>0</td>\n",
       "      <td>0</td>\n",
       "      <td>0</td>\n",
       "      <td>0</td>\n",
       "      <td>0</td>\n",
       "      <td>0</td>\n",
       "      <td>0</td>\n",
       "      <td>0</td>\n",
       "    </tr>\n",
       "    <tr>\n",
       "      <th>1256</th>\n",
       "      <td>zonisamide</td>\n",
       "      <td>0</td>\n",
       "      <td>0</td>\n",
       "      <td>0</td>\n",
       "      <td>0</td>\n",
       "      <td>0</td>\n",
       "      <td>0</td>\n",
       "      <td>0</td>\n",
       "      <td>0</td>\n",
       "      <td>0</td>\n",
       "      <td>...</td>\n",
       "      <td>0</td>\n",
       "      <td>0</td>\n",
       "      <td>0</td>\n",
       "      <td>0</td>\n",
       "      <td>0</td>\n",
       "      <td>0</td>\n",
       "      <td>0</td>\n",
       "      <td>0</td>\n",
       "      <td>0</td>\n",
       "      <td>0</td>\n",
       "    </tr>\n",
       "    <tr>\n",
       "      <th>1257</th>\n",
       "      <td>zosuquidar</td>\n",
       "      <td>0</td>\n",
       "      <td>0</td>\n",
       "      <td>0</td>\n",
       "      <td>0</td>\n",
       "      <td>0</td>\n",
       "      <td>0</td>\n",
       "      <td>0</td>\n",
       "      <td>0</td>\n",
       "      <td>0</td>\n",
       "      <td>...</td>\n",
       "      <td>0</td>\n",
       "      <td>0</td>\n",
       "      <td>0</td>\n",
       "      <td>0</td>\n",
       "      <td>0</td>\n",
       "      <td>0</td>\n",
       "      <td>0</td>\n",
       "      <td>0</td>\n",
       "      <td>0</td>\n",
       "      <td>0</td>\n",
       "    </tr>\n",
       "  </tbody>\n",
       "</table>\n",
       "<p>1258 rows × 773 columns</p>\n",
       "</div>"
      ],
      "text/plain": [
       "                           pert_iname  GO:0000122  GO:0000139  GO:0000165  \\\n",
       "0     17-hydroxyprogesterone-caproate           1           0           0   \n",
       "1                       2-iminobiotin           0           0           0   \n",
       "2                   3-amino-benzamide           1           0           0   \n",
       "3                    3-deazaadenosine           0           0           0   \n",
       "4                            abacavir           0           0           0   \n",
       "...                               ...         ...         ...         ...   \n",
       "1253                         zk811752           0           0           0   \n",
       "1254               zofenopril-calcium           0           0           0   \n",
       "1255                         zolpidem           0           0           0   \n",
       "1256                       zonisamide           0           0           0   \n",
       "1257                       zosuquidar           0           0           0   \n",
       "\n",
       "      GO:0000228  GO:0000287  GO:0000785  GO:0000976  GO:0000977  GO:0000978  \\\n",
       "0              0           0           1           1           1           1   \n",
       "1              0           0           0           0           0           0   \n",
       "2              0           0           0           0           0           0   \n",
       "3              0           0           0           0           0           0   \n",
       "4              0           0           0           0           0           0   \n",
       "...          ...         ...         ...         ...         ...         ...   \n",
       "1253           0           0           0           0           0           0   \n",
       "1254           0           0           0           0           0           0   \n",
       "1255           0           0           0           0           0           0   \n",
       "1256           0           0           0           0           0           0   \n",
       "1257           0           0           0           0           0           0   \n",
       "\n",
       "      ...  GO:1904813  GO:1990239  GO:1990384  GO:1990573  GO:1990763  \\\n",
       "0     ...           0           1           0           0           0   \n",
       "1     ...           0           0           0           0           0   \n",
       "2     ...           0           0           0           0           0   \n",
       "3     ...           0           0           0           0           0   \n",
       "4     ...           0           0           0           0           0   \n",
       "...   ...         ...         ...         ...         ...         ...   \n",
       "1253  ...           0           0           0           0           0   \n",
       "1254  ...           0           0           0           0           0   \n",
       "1255  ...           0           0           0           0           0   \n",
       "1256  ...           0           0           0           0           0   \n",
       "1257  ...           0           0           0           0           0   \n",
       "\n",
       "      GO:1990776  GO:1990837  GO:2000272  GO:2000300  GO:2000379  \n",
       "0              0           1           1           0           0  \n",
       "1              0           0           0           0           0  \n",
       "2              0           0           0           0           0  \n",
       "3              0           0           0           0           0  \n",
       "4              0           0           0           0           0  \n",
       "...          ...         ...         ...         ...         ...  \n",
       "1253           0           0           0           0           0  \n",
       "1254           0           0           0           0           0  \n",
       "1255           0           0           0           0           0  \n",
       "1256           0           0           0           0           0  \n",
       "1257           0           0           0           0           0  \n",
       "\n",
       "[1258 rows x 773 columns]"
      ]
     },
     "execution_count": 16,
     "metadata": {},
     "output_type": "execute_result"
    }
   ],
   "source": [
    "df_moa_targets = create_targets(df_cpds_moas, cols=cols, drop_dummy=True)\n",
    "df_moa_targets"
   ]
  },
  {
   "cell_type": "code",
   "execution_count": 17,
   "id": "353aab11",
   "metadata": {},
   "outputs": [],
   "source": [
    "df_level4_cp = df_level4_cp.merge(df_moa_targets, on='pert_iname')\n",
    "df_level4_L1 = df_level4_L1.merge(df_moa_targets, on='pert_iname')"
   ]
  },
  {
   "cell_type": "code",
   "execution_count": 18,
   "id": "bf25bd73",
   "metadata": {},
   "outputs": [
    {
     "data": {
      "text/plain": [
       "(38273, 1584)"
      ]
     },
     "execution_count": 18,
     "metadata": {},
     "output_type": "execute_result"
    }
   ],
   "source": [
    "df_level4_cp.shape"
   ]
  },
  {
   "cell_type": "code",
   "execution_count": 19,
   "id": "801b4a22",
   "metadata": {},
   "outputs": [
    {
     "data": {
      "text/plain": [
       "(23263, 1760)"
      ]
     },
     "execution_count": 19,
     "metadata": {},
     "output_type": "execute_result"
    }
   ],
   "source": [
    "df_level4_L1.shape"
   ]
  },
  {
   "cell_type": "markdown",
   "id": "1567ca88",
   "metadata": {},
   "source": [
    "### - compounds split (80/20) based on MOAs -- based on split_moas_cpds"
   ]
  },
  {
   "cell_type": "code",
   "execution_count": 20,
   "id": "c2f50646",
   "metadata": {},
   "outputs": [],
   "source": [
    "train_cpds = df_cpds_moas_lincs[df_cpds_moas_lincs['train']]['pert_iname'].unique()\n",
    "test_cpds = df_cpds_moas_lincs[df_cpds_moas_lincs['test']]['pert_iname'].unique()"
   ]
  },
  {
   "cell_type": "code",
   "execution_count": 21,
   "id": "b117a3ea",
   "metadata": {},
   "outputs": [
    {
     "data": {
      "text/plain": [
       "941"
      ]
     },
     "execution_count": 21,
     "metadata": {},
     "output_type": "execute_result"
    }
   ],
   "source": [
    "len(train_cpds)"
   ]
  },
  {
   "cell_type": "code",
   "execution_count": 22,
   "id": "5edb5fe9",
   "metadata": {},
   "outputs": [
    {
     "data": {
      "text/plain": [
       "317"
      ]
     },
     "execution_count": 22,
     "metadata": {},
     "output_type": "execute_result"
    }
   ],
   "source": [
    "len(test_cpds)"
   ]
  },
  {
   "cell_type": "code",
   "execution_count": 23,
   "id": "dad47b42",
   "metadata": {},
   "outputs": [],
   "source": [
    "df_level4_cp_trn, df_level4_cp_tst = train_test_split(train_cpds, test_cpds, df_level4_cp)\n",
    "df_level4_L1_trn, df_level4_L1_tst = train_test_split(train_cpds, test_cpds, df_level4_L1)"
   ]
  },
  {
   "cell_type": "code",
   "execution_count": 24,
   "id": "eeec2460",
   "metadata": {},
   "outputs": [
    {
     "data": {
      "text/plain": [
       "(27485, 1584)"
      ]
     },
     "execution_count": 24,
     "metadata": {},
     "output_type": "execute_result"
    }
   ],
   "source": [
    "df_level4_cp_trn.shape"
   ]
  },
  {
   "cell_type": "code",
   "execution_count": 25,
   "id": "490dc43a",
   "metadata": {},
   "outputs": [
    {
     "data": {
      "text/plain": [
       "(10788, 1584)"
      ]
     },
     "execution_count": 25,
     "metadata": {},
     "output_type": "execute_result"
    }
   ],
   "source": [
    "df_level4_cp_tst.shape"
   ]
  },
  {
   "cell_type": "code",
   "execution_count": 26,
   "id": "3d01971b",
   "metadata": {},
   "outputs": [
    {
     "data": {
      "text/plain": [
       "(16802, 1760)"
      ]
     },
     "execution_count": 26,
     "metadata": {},
     "output_type": "execute_result"
    }
   ],
   "source": [
    "df_level4_L1_trn.shape"
   ]
  },
  {
   "cell_type": "code",
   "execution_count": 27,
   "id": "763dcc7c",
   "metadata": {},
   "outputs": [
    {
     "data": {
      "text/plain": [
       "(6461, 1760)"
      ]
     },
     "execution_count": 27,
     "metadata": {},
     "output_type": "execute_result"
    }
   ],
   "source": [
    "df_level4_L1_tst.shape"
   ]
  },
  {
   "cell_type": "markdown",
   "id": "8b82dc95",
   "metadata": {},
   "source": [
    "### - Shuffle train data - 2nd train data\n",
    "#### - Shuffle the target labels in the train data so that replicates of the same compound/MOA have different MOA labels"
   ]
  },
  {
   "cell_type": "code",
   "execution_count": 28,
   "id": "12df33a2",
   "metadata": {},
   "outputs": [],
   "source": [
    "target_cols = df_moa_targets.columns[1:]"
   ]
  },
  {
   "cell_type": "code",
   "execution_count": 29,
   "id": "313fd419",
   "metadata": {},
   "outputs": [],
   "source": [
    "df_lvl4_cp_trn_shuf = create_shuffle_data(df_level4_cp_trn, target_cols)\n",
    "df_lvl4_L1_trn_shuf = create_shuffle_data(df_level4_L1_trn, target_cols)"
   ]
  },
  {
   "cell_type": "code",
   "execution_count": 30,
   "id": "130ae697",
   "metadata": {},
   "outputs": [
    {
     "data": {
      "text/plain": [
       "(27485, 1584)"
      ]
     },
     "execution_count": 30,
     "metadata": {},
     "output_type": "execute_result"
    }
   ],
   "source": [
    "df_lvl4_cp_trn_shuf.shape"
   ]
  },
  {
   "cell_type": "code",
   "execution_count": 31,
   "id": "22723578",
   "metadata": {},
   "outputs": [
    {
     "data": {
      "text/plain": [
       "(16802, 1760)"
      ]
     },
     "execution_count": 31,
     "metadata": {},
     "output_type": "execute_result"
    }
   ],
   "source": [
    "df_lvl4_L1_trn_shuf.shape"
   ]
  },
  {
   "cell_type": "markdown",
   "id": "a6810286",
   "metadata": {},
   "source": [
    "#### - Save to CSV"
   ]
  },
  {
   "cell_type": "code",
   "execution_count": 32,
   "id": "f19bc6a2",
   "metadata": {},
   "outputs": [],
   "source": [
    "save_to_csv(df_level4_cp_trn, \"model_data/cp/\", f'train_lvl4_data{file_indicator}{split_indicator}.csv.gz', compress=\"gzip\")\n",
    "save_to_csv(df_level4_cp_tst, \"model_data/cp/\", f'test_lvl4_data{file_indicator}{split_indicator}.csv.gz', compress=\"gzip\")\n",
    "save_to_csv(df_lvl4_cp_trn_shuf, \"model_data/cp/\", f'train_shuffle_lvl4_data{file_indicator}{split_indicator}.csv.gz', compress=\"gzip\")\n",
    "\n",
    "save_to_csv(df_level4_L1_trn, \"model_data/L1/\", f'train_lvl4_data{split_indicator}.csv.gz', compress=\"gzip\")\n",
    "save_to_csv(df_level4_L1_tst, \"model_data/L1/\", f'test_lvl4_data{split_indicator}.csv.gz', compress=\"gzip\")\n",
    "save_to_csv(df_lvl4_L1_trn_shuf, \"model_data/L1/\", f'train_shuffle_lvl4_data{split_indicator}.csv.gz', compress=\"gzip\")"
   ]
  },
  {
   "cell_type": "code",
   "execution_count": 33,
   "id": "064ce9fa",
   "metadata": {},
   "outputs": [],
   "source": [
    "save_to_csv(df_moa_targets, \"model_data/cp/\", f'target_labels{file_indicator}{split_indicator}.csv')\n",
    "save_to_csv(df_moa_targets, \"model_data/L1/\", f'target_labels{split_indicator}.csv')"
   ]
  }
 ],
 "metadata": {
  "kernelspec": {
   "display_name": "Python 3 (ipykernel)",
   "language": "python",
   "name": "python3"
  },
  "language_info": {
   "codemirror_mode": {
    "name": "ipython",
    "version": 3
   },
   "file_extension": ".py",
   "mimetype": "text/x-python",
   "name": "python",
   "nbconvert_exporter": "python",
   "pygments_lexer": "ipython3",
   "version": "3.9.10"
  }
 },
 "nbformat": 4,
 "nbformat_minor": 5
}
