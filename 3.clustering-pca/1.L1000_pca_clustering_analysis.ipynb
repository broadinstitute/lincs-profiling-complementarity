{
 "cells": [
  {
   "cell_type": "markdown",
   "metadata": {},
   "source": [
    "### - PCA and Clustering  for L1000 Level-4 profiles (per dose treament)\n",
    "\n",
    "#### - Use Silhouette and Davies Bouldin scores to assess the number of clusters from K-Means\n",
    "#### - Use BIC scores to assess the number of clusters from Gaussian Mixture Models (GMM)\n",
    "\n",
    "[reference](https://sites.northwestern.edu/msia/2016/12/08/k-means-shouldnt-be-our-only-choice/)\n",
    "[refeerences](https://gdcoder.com/silhouette-analysis-vs-elbow-method-vs-davies-bouldin-index-selecting-the-optimal-number-of-clusters-for-kmeans-clustering/)"
   ]
  },
  {
   "cell_type": "code",
   "execution_count": 1,
   "metadata": {},
   "outputs": [],
   "source": [
    "from sklearn.decomposition import PCA\n",
    "from sklearn.preprocessing import StandardScaler\n",
    "import scipy.cluster.hierarchy as shc\n",
    "\n",
    "from sklearn.metrics import pairwise_distances\n",
    "from sklearn.cluster import KMeans, AgglomerativeClustering\n",
    "from scipy.cluster.hierarchy import linkage, dendrogram, fcluster\n",
    "from sklearn.metrics import silhouette_score\n",
    "from sklearn.metrics import davies_bouldin_score\n",
    "from sklearn.mixture import GaussianMixture as GMM\n",
    "import os\n",
    "import pathlib\n",
    "import pandas as pd\n",
    "import numpy as np\n",
    "import re\n",
    "from os import walk\n",
    "from collections import Counter\n",
    "import random\n",
    "import matplotlib.pyplot as plt\n",
    "%matplotlib inline\n",
    "import seaborn as sns\n",
    "sns.set_style(\"darkgrid\")\n",
    "##sns.set_palette([\"red\", \"green\", \"orange\",\"blue\",\"gray\",\"purple\"])\n",
    "sns.set_context(\"talk\")\n",
    "\n",
    "import warnings\n",
    "warnings.simplefilter(action='ignore', category=FutureWarning)\n",
    "np.warnings.filterwarnings('ignore', category=np.VisibleDeprecationWarning)"
   ]
  },
  {
   "cell_type": "code",
   "execution_count": 2,
   "metadata": {},
   "outputs": [],
   "source": [
    "number_of_pcs = 300"
   ]
  },
  {
   "cell_type": "code",
   "execution_count": 3,
   "metadata": {},
   "outputs": [],
   "source": [
    "L1000_level4_path = \"../1.Data-exploration/Profiles_level4/L1000/L1000_lvl4_cpd_replicate_datasets\"\n",
    "output_path = \"results/L1000/\""
   ]
  },
  {
   "cell_type": "code",
   "execution_count": 4,
   "metadata": {},
   "outputs": [
    {
     "name": "stdout",
     "output_type": "stream",
     "text": [
      "1327\n",
      "(7962, 10)\n"
     ]
    },
    {
     "data": {
      "text/html": [
       "<div>\n",
       "<style scoped>\n",
       "    .dataframe tbody tr th:only-of-type {\n",
       "        vertical-align: middle;\n",
       "    }\n",
       "\n",
       "    .dataframe tbody tr th {\n",
       "        vertical-align: top;\n",
       "    }\n",
       "\n",
       "    .dataframe thead th {\n",
       "        text-align: right;\n",
       "    }\n",
       "</style>\n",
       "<table border=\"1\" class=\"dataframe\">\n",
       "  <thead>\n",
       "    <tr style=\"text-align: right;\">\n",
       "      <th></th>\n",
       "      <th>compound</th>\n",
       "      <th>dose</th>\n",
       "      <th>median_replicate_score_cellpainting</th>\n",
       "      <th>median_replicate_score_l1000</th>\n",
       "      <th>pass_cellpainting_thresh</th>\n",
       "      <th>pass_l1000_thresh</th>\n",
       "      <th>pass_both</th>\n",
       "      <th>cell_painting_num_reproducible</th>\n",
       "      <th>l1000_num_reproducible</th>\n",
       "      <th>total_reproducible</th>\n",
       "    </tr>\n",
       "  </thead>\n",
       "  <tbody>\n",
       "    <tr>\n",
       "      <th>0</th>\n",
       "      <td>17-hydroxyprogesterone-caproate</td>\n",
       "      <td>0.04 uM</td>\n",
       "      <td>0.060655</td>\n",
       "      <td>0.024738</td>\n",
       "      <td>True</td>\n",
       "      <td>False</td>\n",
       "      <td>False</td>\n",
       "      <td>5</td>\n",
       "      <td>3</td>\n",
       "      <td>8</td>\n",
       "    </tr>\n",
       "    <tr>\n",
       "      <th>1</th>\n",
       "      <td>2-iminobiotin</td>\n",
       "      <td>0.04 uM</td>\n",
       "      <td>0.042700</td>\n",
       "      <td>-0.133693</td>\n",
       "      <td>False</td>\n",
       "      <td>False</td>\n",
       "      <td>False</td>\n",
       "      <td>0</td>\n",
       "      <td>2</td>\n",
       "      <td>2</td>\n",
       "    </tr>\n",
       "    <tr>\n",
       "      <th>2</th>\n",
       "      <td>3-amino-benzamide</td>\n",
       "      <td>0.04 uM</td>\n",
       "      <td>0.104273</td>\n",
       "      <td>0.051959</td>\n",
       "      <td>True</td>\n",
       "      <td>False</td>\n",
       "      <td>False</td>\n",
       "      <td>5</td>\n",
       "      <td>1</td>\n",
       "      <td>6</td>\n",
       "    </tr>\n",
       "    <tr>\n",
       "      <th>3</th>\n",
       "      <td>3-deazaadenosine</td>\n",
       "      <td>0.04 uM</td>\n",
       "      <td>0.010217</td>\n",
       "      <td>0.065967</td>\n",
       "      <td>False</td>\n",
       "      <td>False</td>\n",
       "      <td>False</td>\n",
       "      <td>3</td>\n",
       "      <td>0</td>\n",
       "      <td>3</td>\n",
       "    </tr>\n",
       "    <tr>\n",
       "      <th>4</th>\n",
       "      <td>abt-737</td>\n",
       "      <td>0.04 uM</td>\n",
       "      <td>0.004470</td>\n",
       "      <td>0.016400</td>\n",
       "      <td>False</td>\n",
       "      <td>False</td>\n",
       "      <td>False</td>\n",
       "      <td>5</td>\n",
       "      <td>1</td>\n",
       "      <td>6</td>\n",
       "    </tr>\n",
       "  </tbody>\n",
       "</table>\n",
       "</div>"
      ],
      "text/plain": [
       "                          compound     dose  \\\n",
       "0  17-hydroxyprogesterone-caproate  0.04 uM   \n",
       "1                    2-iminobiotin  0.04 uM   \n",
       "2                3-amino-benzamide  0.04 uM   \n",
       "3                 3-deazaadenosine  0.04 uM   \n",
       "4                          abt-737  0.04 uM   \n",
       "\n",
       "   median_replicate_score_cellpainting  median_replicate_score_l1000  \\\n",
       "0                             0.060655                      0.024738   \n",
       "1                             0.042700                     -0.133693   \n",
       "2                             0.104273                      0.051959   \n",
       "3                             0.010217                      0.065967   \n",
       "4                             0.004470                      0.016400   \n",
       "\n",
       "   pass_cellpainting_thresh  pass_l1000_thresh  pass_both  \\\n",
       "0                      True              False      False   \n",
       "1                     False              False      False   \n",
       "2                      True              False      False   \n",
       "3                     False              False      False   \n",
       "4                     False              False      False   \n",
       "\n",
       "   cell_painting_num_reproducible  l1000_num_reproducible  total_reproducible  \n",
       "0                               5                       3                   8  \n",
       "1                               0                       2                   2  \n",
       "2                               5                       1                   6  \n",
       "3                               3                       0                   3  \n",
       "4                               5                       1                   6  "
      ]
     },
     "execution_count": 4,
     "metadata": {},
     "output_type": "execute_result"
    }
   ],
   "source": [
    "# Load common compounds\n",
    "common_file = pathlib.Path(\n",
    "    \"..\", \"6.paper_figures\", \"data\", \"significant_compounds_by_threshold_both_assays.tsv.gz\"\n",
    ")\n",
    "common_df = pd.read_csv(common_file, sep=\"\\t\")\n",
    "\n",
    "common_compounds = common_df.compound.unique()\n",
    "print(len(common_compounds))\n",
    "print(common_df.shape)\n",
    "common_df.head()"
   ]
  },
  {
   "cell_type": "code",
   "execution_count": 5,
   "metadata": {},
   "outputs": [
    {
     "name": "stdout",
     "output_type": "stream",
     "text": [
      "1327\n",
      "(24497, 988)\n"
     ]
    },
    {
     "data": {
      "text/html": [
       "<div>\n",
       "<style scoped>\n",
       "    .dataframe tbody tr th:only-of-type {\n",
       "        vertical-align: middle;\n",
       "    }\n",
       "\n",
       "    .dataframe tbody tr th {\n",
       "        vertical-align: top;\n",
       "    }\n",
       "\n",
       "    .dataframe thead th {\n",
       "        text-align: right;\n",
       "    }\n",
       "</style>\n",
       "<table border=\"1\" class=\"dataframe\">\n",
       "  <thead>\n",
       "    <tr style=\"text-align: right;\">\n",
       "      <th></th>\n",
       "      <th>replicate_id</th>\n",
       "      <th>200814_at</th>\n",
       "      <th>222103_at</th>\n",
       "      <th>201453_x_at</th>\n",
       "      <th>204131_s_at</th>\n",
       "      <th>200059_s_at</th>\n",
       "      <th>205067_at</th>\n",
       "      <th>213702_x_at</th>\n",
       "      <th>214435_x_at</th>\n",
       "      <th>201334_s_at</th>\n",
       "      <th>...</th>\n",
       "      <th>205379_at</th>\n",
       "      <th>sig_id</th>\n",
       "      <th>pert_id</th>\n",
       "      <th>pert_idose</th>\n",
       "      <th>det_plate</th>\n",
       "      <th>det_well</th>\n",
       "      <th>dose</th>\n",
       "      <th>Metadata_broad_sample</th>\n",
       "      <th>pert_iname</th>\n",
       "      <th>moa</th>\n",
       "    </tr>\n",
       "  </thead>\n",
       "  <tbody>\n",
       "    <tr>\n",
       "      <th>0</th>\n",
       "      <td>REP.A001_A549_24H_X1_B27:A07</td>\n",
       "      <td>0.5254</td>\n",
       "      <td>0.0000</td>\n",
       "      <td>-0.4691</td>\n",
       "      <td>0.3652</td>\n",
       "      <td>-1.0688</td>\n",
       "      <td>0.0793</td>\n",
       "      <td>-1.1123</td>\n",
       "      <td>0.1908</td>\n",
       "      <td>-0.8249</td>\n",
       "      <td>...</td>\n",
       "      <td>-0.3328</td>\n",
       "      <td>REP.A001_A549_24H:A07</td>\n",
       "      <td>BRD-K25114078</td>\n",
       "      <td>10 uM</td>\n",
       "      <td>REP.A001_A549_24H_X1_B27|REP.A001_A549_24H_X2_...</td>\n",
       "      <td>A07</td>\n",
       "      <td>6</td>\n",
       "      <td>BRD-K25114078-003-08-1</td>\n",
       "      <td>aminoguanidine</td>\n",
       "      <td>Nitric oxide synthase inhibitor</td>\n",
       "    </tr>\n",
       "    <tr>\n",
       "      <th>1</th>\n",
       "      <td>REP.A001_A549_24H_X2_B27:A07</td>\n",
       "      <td>-0.3288</td>\n",
       "      <td>1.0125</td>\n",
       "      <td>0.0902</td>\n",
       "      <td>-1.2620</td>\n",
       "      <td>-0.1234</td>\n",
       "      <td>0.6745</td>\n",
       "      <td>1.1305</td>\n",
       "      <td>0.7413</td>\n",
       "      <td>0.4911</td>\n",
       "      <td>...</td>\n",
       "      <td>-1.3337</td>\n",
       "      <td>REP.A001_A549_24H:A07</td>\n",
       "      <td>BRD-K25114078</td>\n",
       "      <td>10 uM</td>\n",
       "      <td>REP.A001_A549_24H_X1_B27|REP.A001_A549_24H_X2_...</td>\n",
       "      <td>A07</td>\n",
       "      <td>6</td>\n",
       "      <td>BRD-K25114078-003-08-1</td>\n",
       "      <td>aminoguanidine</td>\n",
       "      <td>Nitric oxide synthase inhibitor</td>\n",
       "    </tr>\n",
       "  </tbody>\n",
       "</table>\n",
       "<p>2 rows × 988 columns</p>\n",
       "</div>"
      ],
      "text/plain": [
       "                   replicate_id  200814_at  222103_at  201453_x_at  \\\n",
       "0  REP.A001_A549_24H_X1_B27:A07     0.5254     0.0000      -0.4691   \n",
       "1  REP.A001_A549_24H_X2_B27:A07    -0.3288     1.0125       0.0902   \n",
       "\n",
       "   204131_s_at  200059_s_at  205067_at  213702_x_at  214435_x_at  201334_s_at  \\\n",
       "0       0.3652      -1.0688     0.0793      -1.1123       0.1908      -0.8249   \n",
       "1      -1.2620      -0.1234     0.6745       1.1305       0.7413       0.4911   \n",
       "\n",
       "   ...  205379_at                 sig_id        pert_id  pert_idose  \\\n",
       "0  ...    -0.3328  REP.A001_A549_24H:A07  BRD-K25114078       10 uM   \n",
       "1  ...    -1.3337  REP.A001_A549_24H:A07  BRD-K25114078       10 uM   \n",
       "\n",
       "                                           det_plate  det_well  dose  \\\n",
       "0  REP.A001_A549_24H_X1_B27|REP.A001_A549_24H_X2_...       A07     6   \n",
       "1  REP.A001_A549_24H_X1_B27|REP.A001_A549_24H_X2_...       A07     6   \n",
       "\n",
       "    Metadata_broad_sample      pert_iname                              moa  \n",
       "0  BRD-K25114078-003-08-1  aminoguanidine  Nitric oxide synthase inhibitor  \n",
       "1  BRD-K25114078-003-08-1  aminoguanidine  Nitric oxide synthase inhibitor  \n",
       "\n",
       "[2 rows x 988 columns]"
      ]
     },
     "execution_count": 5,
     "metadata": {},
     "output_type": "execute_result"
    }
   ],
   "source": [
    "# Load level 4 compounds\n",
    "df_level4 = pd.read_csv(os.path.join(L1000_level4_path, 'L1000_level4_cpd_replicates.csv.gz'), \n",
    "                        compression='gzip',low_memory = False)\n",
    "df_level4.pert_iname = df_level4.pert_iname.str.lower()\n",
    "\n",
    "df_level4 = df_level4.query(\"pert_iname in @common_compounds\").reset_index(drop=True)\n",
    "\n",
    "print(df_level4.pert_iname.nunique())\n",
    "print(df_level4.shape)\n",
    "df_level4.head(2)"
   ]
  },
  {
   "cell_type": "code",
   "execution_count": 6,
   "metadata": {},
   "outputs": [],
   "source": [
    "def save_to_csv(df, path, file_name, compress=None):\n",
    "    \"\"\"saves dataframes to csv\"\"\"\n",
    "    \n",
    "    if not os.path.exists(path):\n",
    "        os.mkdir(path)\n",
    "    \n",
    "    df.to_csv(os.path.join(path, file_name), index=False, compression=compress)"
   ]
  },
  {
   "cell_type": "code",
   "execution_count": 7,
   "metadata": {},
   "outputs": [],
   "source": [
    "def extract_dose_df(df, dose_num):\n",
    "    \"\"\"Extract data for each treatment dose\"\"\"\n",
    "    df_dose = df[df['dose'] == dose_num].reset_index(drop=True)\n",
    "    metadata_cols = ['replicate_id', 'sig_id', 'pert_id', 'pert_idose', 'det_plate', \n",
    "                     'det_well', 'dose', 'Metadata_broad_sample', 'moa', 'pert_iname']\n",
    "    df_dose.drop(metadata_cols, axis = 1, inplace = True)\n",
    "    return df_dose"
   ]
  },
  {
   "cell_type": "code",
   "execution_count": 8,
   "metadata": {},
   "outputs": [],
   "source": [
    "def transform_pca(df, dose_num, no_of_pcs=350):\n",
    "    \"\"\"Perform PCA Analysis\"\"\"\n",
    "    scaler = StandardScaler()\n",
    "    scaled_agg = scaler.fit_transform(df)\n",
    "    df_scaled = pd.DataFrame(data = scaled_agg, columns = ['feat_' + str(x) for x in range(1,df.shape[1]+1)])\n",
    "    #lets extract features with the most variance in our dataset\n",
    "    pca = PCA(n_components=no_of_pcs)\n",
    "    pc = pca.fit_transform(scaled_agg)\n",
    "    df_pc = pd.DataFrame(data = pc, columns = ['PC' + str(x) for x in range(1,no_of_pcs+1)])\n",
    "    df_pc['dose'] = dose_num\n",
    "    \n",
    "    #Plotting the Cumulative Summation of the Explained Variance\n",
    "    plt.figure(figsize=(16, 8))\n",
    "    fig = plt.plot(np.cumsum(pca.explained_variance_ratio_))\n",
    "    plt.xlabel('Number of Components')\n",
    "    plt.ylabel('Cumulative Explained Variance')\n",
    "    plt.title('Explained Variance by Principal Components')\n",
    "    plt.xticks(np.arange(0, no_of_pcs+1, step=20))\n",
    "    plt.show()\n",
    "    \n",
    "    return pca, df_pc, df_scaled"
   ]
  },
  {
   "cell_type": "code",
   "execution_count": 9,
   "metadata": {},
   "outputs": [],
   "source": [
    "def SelBest(arr:list, X:int)->list:\n",
    "    '''\n",
    "    returns the set of X configurations with shorter distance\n",
    "    '''\n",
    "    dx=np.argsort(arr)[:X]\n",
    "    return arr[dx]"
   ]
  },
  {
   "cell_type": "code",
   "execution_count": 10,
   "metadata": {},
   "outputs": [],
   "source": [
    "def calc_bic(pc_data, no_of_clusters=40):\n",
    "    \"\"\"\n",
    "    Computes Bayesian Information Criteria scores (BIC) when Gaussian Mixture Models (GMM) is fitted on a data\n",
    "    to assess the clustering on the data\n",
    "    \"\"\"\n",
    "    n_clusters=np.arange(2, no_of_clusters+1)\n",
    "    bics=[]\n",
    "    bics_err=[]\n",
    "    iterations=1\n",
    "    for n in n_clusters:\n",
    "        #print(n)\n",
    "        tmp_bic=[]\n",
    "        for _ in range(iterations):\n",
    "            gmm=GMM(n, n_init=2, max_iter=1000,\n",
    "                    tol=1e-4,init_params='kmeans').fit(pc_data)\n",
    "            tmp_bic.append(gmm.bic(pc_data))\n",
    "        val=np.mean(SelBest(np.array(tmp_bic), int(iterations/1)))\n",
    "        err=np.std(tmp_bic)\n",
    "        bics.append(val)\n",
    "        bics_err.append(err)\n",
    "    return bics, bics_err"
   ]
  },
  {
   "cell_type": "code",
   "execution_count": 11,
   "metadata": {},
   "outputs": [],
   "source": [
    "def plot_bics(bics):\n",
    "    plt.figure(figsize=(14,6))\n",
    "    plt.plot(list(bics.keys()), list(bics.values()), label='BIC')\n",
    "    plt.title(\"BIC Scores\", fontsize=20)\n",
    "    plt.xlabel(\"N. of clusters\")\n",
    "    plt.ylabel(\"Score\")\n",
    "    plt.legend()"
   ]
  },
  {
   "cell_type": "code",
   "execution_count": 12,
   "metadata": {},
   "outputs": [],
   "source": [
    "def calculate_score(df, no_of_clusters=40):\n",
    "    \"\"\"\n",
    "    Assess K-means clustering using Silhoutte and Davies bouldin scores\n",
    "    \"\"\"\n",
    "    silh_score = {}\n",
    "    davie_score = {}\n",
    "    for k in range(2, no_of_clusters+1):\n",
    "        kmeans = KMeans(n_clusters=k, \n",
    "                        max_iter=1000, \n",
    "                        tol=1e-4)\n",
    "        label = kmeans.fit_predict(df)\n",
    "        silhouette_avg = silhouette_score(df, label)\n",
    "        davie_avg = davies_bouldin_score(df,label)\n",
    "        silh_score[k] = silhouette_avg\n",
    "        davie_score[k] = davie_avg\n",
    "        #print(\"For n_clusters={}, The average silhouette_score is: {}\".format(k, silhouette_avg))\n",
    "        #print(\"For n_clusters={}, The davies_bouldin_score is: {}\".format(k, davie_avg))\n",
    "        \n",
    "    return silh_score, davie_score"
   ]
  },
  {
   "cell_type": "code",
   "execution_count": 13,
   "metadata": {},
   "outputs": [],
   "source": [
    "def plot_score(score, score_name):\n",
    "    \n",
    "    plt.rcParams.update({'font.size': 12})\n",
    "    plt.figure(figsize=(12, 6))\n",
    "    plt.plot(list(score.keys()), list(score.values()), \n",
    "             linestyle='--', marker='o', color='orange')\n",
    "    plt.title(f\"{score_name} across clusters\", fontsize=20)\n",
    "    plt.xlabel(\"Number of clusters\")\n",
    "    plt.ylabel(score_name)\n",
    "    plt.xticks(np.arange(0, max(list(score.keys()))+1, step=2))\n",
    "    plt.show()"
   ]
  },
  {
   "cell_type": "code",
   "execution_count": 14,
   "metadata": {},
   "outputs": [],
   "source": [
    "def create_df(data_dict, col_name, dose_num):\n",
    "    df = pd.DataFrame(data_dict.items(), columns = ['cluster', col_name]) \n",
    "    df['dose'] = dose_num\n",
    "    return df"
   ]
  },
  {
   "cell_type": "markdown",
   "metadata": {},
   "source": [
    "## Calculate Silhouette scores in only the common compounds"
   ]
  },
  {
   "cell_type": "code",
   "execution_count": 15,
   "metadata": {},
   "outputs": [
    {
     "name": "stdout",
     "output_type": "stream",
     "text": [
      "(24497, 978)\n"
     ]
    }
   ],
   "source": [
    "metadata_cols = [\n",
    "    'replicate_id', 'sig_id', 'pert_id', 'pert_idose', 'det_plate',\n",
    "    'det_well', 'Metadata_broad_sample', 'moa', 'pert_iname'\n",
    "]\n",
    "\n",
    "# Extract only the features (drop metadata)\n",
    "df_common_alldose = df_level4.drop(metadata_cols, axis = 1)\n",
    "df_common_alldose = df_common_alldose.loc[:, df_common_alldose.columns.str.endswith(\"_at\")]\n",
    "\n",
    "print(df_common_alldose.shape)"
   ]
  },
  {
   "cell_type": "code",
   "execution_count": 16,
   "metadata": {},
   "outputs": [
    {
     "data": {
      "image/png": "[encoded data removed]",
      "text/plain": [
       "<Figure size 1152x576 with 1 Axes>"
      ]
     },
     "metadata": {},
     "output_type": "display_data"
    }
   ],
   "source": [
    "pca_all_thresh, df_pc_all_thresh, df_scaled_all_thresh = transform_pca(\n",
    "    df_common_alldose, dose_num=None, no_of_pcs=number_of_pcs\n",
    ")"
   ]
  },
  {
   "cell_type": "code",
   "execution_count": 17,
   "metadata": {},
   "outputs": [
    {
     "data": {
      "text/plain": [
       "0.6411600735428605"
      ]
     },
     "execution_count": 17,
     "metadata": {},
     "output_type": "execute_result"
    }
   ],
   "source": [
    "np.sum(pca_all_thresh.explained_variance_ratio_)"
   ]
  },
  {
   "cell_type": "code",
   "execution_count": 18,
   "metadata": {},
   "outputs": [],
   "source": [
    "def plot_pca_var(pca, pc_num):\n",
    "    \n",
    "    #plt.rcParams.update({'font.size': 12})\n",
    "    plt.figure(figsize = (14, 8))\n",
    "    df_var = pd.DataFrame({'var':pca.explained_variance_ratio_, 'PC':['PC' + str(x) for x in range(1,pc_num+1)]})\n",
    "    df_var['var'] = df_var['var'] * 100\n",
    "    #sns.barplot(x='PC',y=\"var\", data=df_var, color=\"c\")\n",
    "    plt.bar(df_var['PC'], df_var['var'], color ='c')\n",
    "    plt.xlim(0, pc_num+1)\n",
    "    plt.ylabel('Explained Variance %')\n",
    "    plt.xlabel('Principal Components')\n",
    "    plt.xticks(np.arange(0, pc_num, step=20))\n",
    "    plt.title(\"Amount of variance explained by each Principal component for Cell painting level-4 profiles\")\n",
    "    ##plt.savefig('cluster_images/var_exp_PCA.png')\n",
    "    plt.show()\n",
    "    \n",
    "    return df_var"
   ]
  },
  {
   "cell_type": "code",
   "execution_count": 19,
   "metadata": {},
   "outputs": [
    {
     "data": {
      "image/png": "[encoded data removed]",
      "text/plain": [
       "<Figure size 1008x576 with 1 Axes>"
      ]
     },
     "metadata": {},
     "output_type": "display_data"
    }
   ],
   "source": [
    "df_var_full = plot_pca_var(pca_all_thresh, number_of_pcs)\n",
    "save_to_csv(df_var_full, output_path, 'L1000_pca_explained_variance.csv')"
   ]
  },
  {
   "cell_type": "code",
   "execution_count": 20,
   "metadata": {},
   "outputs": [
    {
     "ename": "KeyboardInterrupt",
     "evalue": "",
     "output_type": "error",
     "traceback": [
      "\u001b[0;31m---------------------------------------------------------------------------\u001b[0m",
      "\u001b[0;31mKeyboardInterrupt\u001b[0m                         Traceback (most recent call last)",
      "\u001b[0;32m/var/folders/6l/1fhrg1sd5xsbl0flp62y385htc5t31/T/ipykernel_25648/2880855976.py\u001b[0m in \u001b[0;36m<module>\u001b[0;34m\u001b[0m\n\u001b[0;32m----> 1\u001b[0;31m \u001b[0mdoseall_thresh_silh_score\u001b[0m\u001b[0;34m,\u001b[0m \u001b[0mdoseall_thresh_davie_score\u001b[0m \u001b[0;34m=\u001b[0m \u001b[0mcalculate_score\u001b[0m\u001b[0;34m(\u001b[0m\u001b[0mdf_pc_all_thresh\u001b[0m\u001b[0;34m.\u001b[0m\u001b[0mdrop\u001b[0m\u001b[0;34m(\u001b[0m\u001b[0;34m[\u001b[0m\u001b[0;34m'dose'\u001b[0m\u001b[0;34m]\u001b[0m\u001b[0;34m,\u001b[0m \u001b[0maxis\u001b[0m \u001b[0;34m=\u001b[0m \u001b[0;36m1\u001b[0m\u001b[0;34m)\u001b[0m\u001b[0;34m)\u001b[0m\u001b[0;34m\u001b[0m\u001b[0;34m\u001b[0m\u001b[0m\n\u001b[0m\u001b[1;32m      2\u001b[0m \u001b[0;34m\u001b[0m\u001b[0m\n\u001b[1;32m      3\u001b[0m \u001b[0mdf_silhall_thresh\u001b[0m \u001b[0;34m=\u001b[0m \u001b[0mcreate_df\u001b[0m\u001b[0;34m(\u001b[0m\u001b[0mdoseall_thresh_silh_score\u001b[0m\u001b[0;34m,\u001b[0m \u001b[0;34m'Average_silhouette_score'\u001b[0m\u001b[0;34m,\u001b[0m \u001b[0;34m\"common_compounds\"\u001b[0m\u001b[0;34m)\u001b[0m\u001b[0;34m\u001b[0m\u001b[0;34m\u001b[0m\u001b[0m\n\u001b[1;32m      4\u001b[0m \u001b[0mdf_dball_thresh\u001b[0m \u001b[0;34m=\u001b[0m \u001b[0mcreate_df\u001b[0m\u001b[0;34m(\u001b[0m\u001b[0mdoseall_thresh_davie_score\u001b[0m\u001b[0;34m,\u001b[0m \u001b[0;34m'davies_bouldin_score'\u001b[0m\u001b[0;34m,\u001b[0m \u001b[0;34m\"common_compounds\"\u001b[0m\u001b[0;34m)\u001b[0m\u001b[0;34m\u001b[0m\u001b[0;34m\u001b[0m\u001b[0m\n",
      "\u001b[0;32m/var/folders/6l/1fhrg1sd5xsbl0flp62y385htc5t31/T/ipykernel_25648/2117667291.py\u001b[0m in \u001b[0;36mcalculate_score\u001b[0;34m(df, no_of_clusters)\u001b[0m\n\u001b[1;32m     10\u001b[0m                         tol=1e-4)\n\u001b[1;32m     11\u001b[0m         \u001b[0mlabel\u001b[0m \u001b[0;34m=\u001b[0m \u001b[0mkmeans\u001b[0m\u001b[0;34m.\u001b[0m\u001b[0mfit_predict\u001b[0m\u001b[0;34m(\u001b[0m\u001b[0mdf\u001b[0m\u001b[0;34m)\u001b[0m\u001b[0;34m\u001b[0m\u001b[0;34m\u001b[0m\u001b[0m\n\u001b[0;32m---> 12\u001b[0;31m         \u001b[0msilhouette_avg\u001b[0m \u001b[0;34m=\u001b[0m \u001b[0msilhouette_score\u001b[0m\u001b[0;34m(\u001b[0m\u001b[0mdf\u001b[0m\u001b[0;34m,\u001b[0m \u001b[0mlabel\u001b[0m\u001b[0;34m)\u001b[0m\u001b[0;34m\u001b[0m\u001b[0;34m\u001b[0m\u001b[0m\n\u001b[0m\u001b[1;32m     13\u001b[0m         \u001b[0mdavie_avg\u001b[0m \u001b[0;34m=\u001b[0m \u001b[0mdavies_bouldin_score\u001b[0m\u001b[0;34m(\u001b[0m\u001b[0mdf\u001b[0m\u001b[0;34m,\u001b[0m\u001b[0mlabel\u001b[0m\u001b[0;34m)\u001b[0m\u001b[0;34m\u001b[0m\u001b[0;34m\u001b[0m\u001b[0m\n\u001b[1;32m     14\u001b[0m         \u001b[0msilh_score\u001b[0m\u001b[0;34m[\u001b[0m\u001b[0mk\u001b[0m\u001b[0;34m]\u001b[0m \u001b[0;34m=\u001b[0m \u001b[0msilhouette_avg\u001b[0m\u001b[0;34m\u001b[0m\u001b[0;34m\u001b[0m\u001b[0m\n",
      "\u001b[0;32m~/miniconda3/envs/lincs-complimentarity/lib/python3.9/site-packages/sklearn/utils/validation.py\u001b[0m in \u001b[0;36minner_f\u001b[0;34m(*args, **kwargs)\u001b[0m\n\u001b[1;32m     61\u001b[0m             \u001b[0mextra_args\u001b[0m \u001b[0;34m=\u001b[0m \u001b[0mlen\u001b[0m\u001b[0;34m(\u001b[0m\u001b[0margs\u001b[0m\u001b[0;34m)\u001b[0m \u001b[0;34m-\u001b[0m \u001b[0mlen\u001b[0m\u001b[0;34m(\u001b[0m\u001b[0mall_args\u001b[0m\u001b[0;34m)\u001b[0m\u001b[0;34m\u001b[0m\u001b[0;34m\u001b[0m\u001b[0m\n\u001b[1;32m     62\u001b[0m             \u001b[0;32mif\u001b[0m \u001b[0mextra_args\u001b[0m \u001b[0;34m<=\u001b[0m \u001b[0;36m0\u001b[0m\u001b[0;34m:\u001b[0m\u001b[0;34m\u001b[0m\u001b[0;34m\u001b[0m\u001b[0m\n\u001b[0;32m---> 63\u001b[0;31m                 \u001b[0;32mreturn\u001b[0m \u001b[0mf\u001b[0m\u001b[0;34m(\u001b[0m\u001b[0;34m*\u001b[0m\u001b[0margs\u001b[0m\u001b[0;34m,\u001b[0m \u001b[0;34m**\u001b[0m\u001b[0mkwargs\u001b[0m\u001b[0;34m)\u001b[0m\u001b[0;34m\u001b[0m\u001b[0;34m\u001b[0m\u001b[0m\n\u001b[0m\u001b[1;32m     64\u001b[0m \u001b[0;34m\u001b[0m\u001b[0m\n\u001b[1;32m     65\u001b[0m             \u001b[0;31m# extra_args > 0\u001b[0m\u001b[0;34m\u001b[0m\u001b[0;34m\u001b[0m\u001b[0;34m\u001b[0m\u001b[0m\n",
      "\u001b[0;32m~/miniconda3/envs/lincs-complimentarity/lib/python3.9/site-packages/sklearn/metrics/cluster/_unsupervised.py\u001b[0m in \u001b[0;36msilhouette_score\u001b[0;34m(X, labels, metric, sample_size, random_state, **kwds)\u001b[0m\n\u001b[1;32m    115\u001b[0m         \u001b[0;32melse\u001b[0m\u001b[0;34m:\u001b[0m\u001b[0;34m\u001b[0m\u001b[0;34m\u001b[0m\u001b[0m\n\u001b[1;32m    116\u001b[0m             \u001b[0mX\u001b[0m\u001b[0;34m,\u001b[0m \u001b[0mlabels\u001b[0m \u001b[0;34m=\u001b[0m \u001b[0mX\u001b[0m\u001b[0;34m[\u001b[0m\u001b[0mindices\u001b[0m\u001b[0;34m]\u001b[0m\u001b[0;34m,\u001b[0m \u001b[0mlabels\u001b[0m\u001b[0;34m[\u001b[0m\u001b[0mindices\u001b[0m\u001b[0;34m]\u001b[0m\u001b[0;34m\u001b[0m\u001b[0;34m\u001b[0m\u001b[0m\n\u001b[0;32m--> 117\u001b[0;31m     \u001b[0;32mreturn\u001b[0m \u001b[0mnp\u001b[0m\u001b[0;34m.\u001b[0m\u001b[0mmean\u001b[0m\u001b[0;34m(\u001b[0m\u001b[0msilhouette_samples\u001b[0m\u001b[0;34m(\u001b[0m\u001b[0mX\u001b[0m\u001b[0;34m,\u001b[0m \u001b[0mlabels\u001b[0m\u001b[0;34m,\u001b[0m \u001b[0mmetric\u001b[0m\u001b[0;34m=\u001b[0m\u001b[0mmetric\u001b[0m\u001b[0;34m,\u001b[0m \u001b[0;34m**\u001b[0m\u001b[0mkwds\u001b[0m\u001b[0;34m)\u001b[0m\u001b[0;34m)\u001b[0m\u001b[0;34m\u001b[0m\u001b[0;34m\u001b[0m\u001b[0m\n\u001b[0m\u001b[1;32m    118\u001b[0m \u001b[0;34m\u001b[0m\u001b[0m\n\u001b[1;32m    119\u001b[0m \u001b[0;34m\u001b[0m\u001b[0m\n",
      "\u001b[0;32m~/miniconda3/envs/lincs-complimentarity/lib/python3.9/site-packages/sklearn/utils/validation.py\u001b[0m in \u001b[0;36minner_f\u001b[0;34m(*args, **kwargs)\u001b[0m\n\u001b[1;32m     61\u001b[0m             \u001b[0mextra_args\u001b[0m \u001b[0;34m=\u001b[0m \u001b[0mlen\u001b[0m\u001b[0;34m(\u001b[0m\u001b[0margs\u001b[0m\u001b[0;34m)\u001b[0m \u001b[0;34m-\u001b[0m \u001b[0mlen\u001b[0m\u001b[0;34m(\u001b[0m\u001b[0mall_args\u001b[0m\u001b[0;34m)\u001b[0m\u001b[0;34m\u001b[0m\u001b[0;34m\u001b[0m\u001b[0m\n\u001b[1;32m     62\u001b[0m             \u001b[0;32mif\u001b[0m \u001b[0mextra_args\u001b[0m \u001b[0;34m<=\u001b[0m \u001b[0;36m0\u001b[0m\u001b[0;34m:\u001b[0m\u001b[0;34m\u001b[0m\u001b[0;34m\u001b[0m\u001b[0m\n\u001b[0;32m---> 63\u001b[0;31m                 \u001b[0;32mreturn\u001b[0m \u001b[0mf\u001b[0m\u001b[0;34m(\u001b[0m\u001b[0;34m*\u001b[0m\u001b[0margs\u001b[0m\u001b[0;34m,\u001b[0m \u001b[0;34m**\u001b[0m\u001b[0mkwargs\u001b[0m\u001b[0;34m)\u001b[0m\u001b[0;34m\u001b[0m\u001b[0;34m\u001b[0m\u001b[0m\n\u001b[0m\u001b[1;32m     64\u001b[0m \u001b[0;34m\u001b[0m\u001b[0m\n\u001b[1;32m     65\u001b[0m             \u001b[0;31m# extra_args > 0\u001b[0m\u001b[0;34m\u001b[0m\u001b[0;34m\u001b[0m\u001b[0;34m\u001b[0m\u001b[0m\n",
      "\u001b[0;32m~/miniconda3/envs/lincs-complimentarity/lib/python3.9/site-packages/sklearn/metrics/cluster/_unsupervised.py\u001b[0m in \u001b[0;36msilhouette_samples\u001b[0;34m(X, labels, metric, **kwds)\u001b[0m\n\u001b[1;32m    232\u001b[0m     reduce_func = functools.partial(_silhouette_reduce,\n\u001b[1;32m    233\u001b[0m                                     labels=labels, label_freqs=label_freqs)\n\u001b[0;32m--> 234\u001b[0;31m     results = zip(*pairwise_distances_chunked(X, reduce_func=reduce_func,\n\u001b[0m\u001b[1;32m    235\u001b[0m                                               **kwds))\n\u001b[1;32m    236\u001b[0m     \u001b[0mintra_clust_dists\u001b[0m\u001b[0;34m,\u001b[0m \u001b[0minter_clust_dists\u001b[0m \u001b[0;34m=\u001b[0m \u001b[0mresults\u001b[0m\u001b[0;34m\u001b[0m\u001b[0;34m\u001b[0m\u001b[0m\n",
      "\u001b[0;32m~/miniconda3/envs/lincs-complimentarity/lib/python3.9/site-packages/sklearn/metrics/pairwise.py\u001b[0m in \u001b[0;36mpairwise_distances_chunked\u001b[0;34m(X, Y, reduce_func, metric, n_jobs, working_memory, **kwds)\u001b[0m\n\u001b[1;32m   1621\u001b[0m         \u001b[0;32melse\u001b[0m\u001b[0;34m:\u001b[0m\u001b[0;34m\u001b[0m\u001b[0;34m\u001b[0m\u001b[0m\n\u001b[1;32m   1622\u001b[0m             \u001b[0mX_chunk\u001b[0m \u001b[0;34m=\u001b[0m \u001b[0mX\u001b[0m\u001b[0;34m[\u001b[0m\u001b[0msl\u001b[0m\u001b[0;34m]\u001b[0m\u001b[0;34m\u001b[0m\u001b[0;34m\u001b[0m\u001b[0m\n\u001b[0;32m-> 1623\u001b[0;31m         D_chunk = pairwise_distances(X_chunk, Y, metric=metric,\n\u001b[0m\u001b[1;32m   1624\u001b[0m                                      n_jobs=n_jobs, **kwds)\n\u001b[1;32m   1625\u001b[0m         if ((X is Y or Y is None)\n",
      "\u001b[0;32m~/miniconda3/envs/lincs-complimentarity/lib/python3.9/site-packages/sklearn/utils/validation.py\u001b[0m in \u001b[0;36minner_f\u001b[0;34m(*args, **kwargs)\u001b[0m\n\u001b[1;32m     61\u001b[0m             \u001b[0mextra_args\u001b[0m \u001b[0;34m=\u001b[0m \u001b[0mlen\u001b[0m\u001b[0;34m(\u001b[0m\u001b[0margs\u001b[0m\u001b[0;34m)\u001b[0m \u001b[0;34m-\u001b[0m \u001b[0mlen\u001b[0m\u001b[0;34m(\u001b[0m\u001b[0mall_args\u001b[0m\u001b[0;34m)\u001b[0m\u001b[0;34m\u001b[0m\u001b[0;34m\u001b[0m\u001b[0m\n\u001b[1;32m     62\u001b[0m             \u001b[0;32mif\u001b[0m \u001b[0mextra_args\u001b[0m \u001b[0;34m<=\u001b[0m \u001b[0;36m0\u001b[0m\u001b[0;34m:\u001b[0m\u001b[0;34m\u001b[0m\u001b[0;34m\u001b[0m\u001b[0m\n\u001b[0;32m---> 63\u001b[0;31m                 \u001b[0;32mreturn\u001b[0m \u001b[0mf\u001b[0m\u001b[0;34m(\u001b[0m\u001b[0;34m*\u001b[0m\u001b[0margs\u001b[0m\u001b[0;34m,\u001b[0m \u001b[0;34m**\u001b[0m\u001b[0mkwargs\u001b[0m\u001b[0;34m)\u001b[0m\u001b[0;34m\u001b[0m\u001b[0;34m\u001b[0m\u001b[0m\n\u001b[0m\u001b[1;32m     64\u001b[0m \u001b[0;34m\u001b[0m\u001b[0m\n\u001b[1;32m     65\u001b[0m             \u001b[0;31m# extra_args > 0\u001b[0m\u001b[0;34m\u001b[0m\u001b[0;34m\u001b[0m\u001b[0;34m\u001b[0m\u001b[0m\n",
      "\u001b[0;32m~/miniconda3/envs/lincs-complimentarity/lib/python3.9/site-packages/sklearn/metrics/pairwise.py\u001b[0m in \u001b[0;36mpairwise_distances\u001b[0;34m(X, Y, metric, n_jobs, force_all_finite, **kwds)\u001b[0m\n\u001b[1;32m   1788\u001b[0m         \u001b[0mfunc\u001b[0m \u001b[0;34m=\u001b[0m \u001b[0mpartial\u001b[0m\u001b[0;34m(\u001b[0m\u001b[0mdistance\u001b[0m\u001b[0;34m.\u001b[0m\u001b[0mcdist\u001b[0m\u001b[0;34m,\u001b[0m \u001b[0mmetric\u001b[0m\u001b[0;34m=\u001b[0m\u001b[0mmetric\u001b[0m\u001b[0;34m,\u001b[0m \u001b[0;34m**\u001b[0m\u001b[0mkwds\u001b[0m\u001b[0;34m)\u001b[0m\u001b[0;34m\u001b[0m\u001b[0;34m\u001b[0m\u001b[0m\n\u001b[1;32m   1789\u001b[0m \u001b[0;34m\u001b[0m\u001b[0m\n\u001b[0;32m-> 1790\u001b[0;31m     \u001b[0;32mreturn\u001b[0m \u001b[0m_parallel_pairwise\u001b[0m\u001b[0;34m(\u001b[0m\u001b[0mX\u001b[0m\u001b[0;34m,\u001b[0m \u001b[0mY\u001b[0m\u001b[0;34m,\u001b[0m \u001b[0mfunc\u001b[0m\u001b[0;34m,\u001b[0m \u001b[0mn_jobs\u001b[0m\u001b[0;34m,\u001b[0m \u001b[0;34m**\u001b[0m\u001b[0mkwds\u001b[0m\u001b[0;34m)\u001b[0m\u001b[0;34m\u001b[0m\u001b[0;34m\u001b[0m\u001b[0m\n\u001b[0m\u001b[1;32m   1791\u001b[0m \u001b[0;34m\u001b[0m\u001b[0m\n\u001b[1;32m   1792\u001b[0m \u001b[0;34m\u001b[0m\u001b[0m\n",
      "\u001b[0;32m~/miniconda3/envs/lincs-complimentarity/lib/python3.9/site-packages/sklearn/metrics/pairwise.py\u001b[0m in \u001b[0;36m_parallel_pairwise\u001b[0;34m(X, Y, func, n_jobs, **kwds)\u001b[0m\n\u001b[1;32m   1357\u001b[0m \u001b[0;34m\u001b[0m\u001b[0m\n\u001b[1;32m   1358\u001b[0m     \u001b[0;32mif\u001b[0m \u001b[0meffective_n_jobs\u001b[0m\u001b[0;34m(\u001b[0m\u001b[0mn_jobs\u001b[0m\u001b[0;34m)\u001b[0m \u001b[0;34m==\u001b[0m \u001b[0;36m1\u001b[0m\u001b[0;34m:\u001b[0m\u001b[0;34m\u001b[0m\u001b[0;34m\u001b[0m\u001b[0m\n\u001b[0;32m-> 1359\u001b[0;31m         \u001b[0;32mreturn\u001b[0m \u001b[0mfunc\u001b[0m\u001b[0;34m(\u001b[0m\u001b[0mX\u001b[0m\u001b[0;34m,\u001b[0m \u001b[0mY\u001b[0m\u001b[0;34m,\u001b[0m \u001b[0;34m**\u001b[0m\u001b[0mkwds\u001b[0m\u001b[0;34m)\u001b[0m\u001b[0;34m\u001b[0m\u001b[0;34m\u001b[0m\u001b[0m\n\u001b[0m\u001b[1;32m   1360\u001b[0m \u001b[0;34m\u001b[0m\u001b[0m\n\u001b[1;32m   1361\u001b[0m     \u001b[0;31m# enforce a threading backend to prevent data communication overhead\u001b[0m\u001b[0;34m\u001b[0m\u001b[0;34m\u001b[0m\u001b[0;34m\u001b[0m\u001b[0m\n",
      "\u001b[0;32m~/miniconda3/envs/lincs-complimentarity/lib/python3.9/site-packages/sklearn/utils/validation.py\u001b[0m in \u001b[0;36minner_f\u001b[0;34m(*args, **kwargs)\u001b[0m\n\u001b[1;32m     61\u001b[0m             \u001b[0mextra_args\u001b[0m \u001b[0;34m=\u001b[0m \u001b[0mlen\u001b[0m\u001b[0;34m(\u001b[0m\u001b[0margs\u001b[0m\u001b[0;34m)\u001b[0m \u001b[0;34m-\u001b[0m \u001b[0mlen\u001b[0m\u001b[0;34m(\u001b[0m\u001b[0mall_args\u001b[0m\u001b[0;34m)\u001b[0m\u001b[0;34m\u001b[0m\u001b[0;34m\u001b[0m\u001b[0m\n\u001b[1;32m     62\u001b[0m             \u001b[0;32mif\u001b[0m \u001b[0mextra_args\u001b[0m \u001b[0;34m<=\u001b[0m \u001b[0;36m0\u001b[0m\u001b[0;34m:\u001b[0m\u001b[0;34m\u001b[0m\u001b[0;34m\u001b[0m\u001b[0m\n\u001b[0;32m---> 63\u001b[0;31m                 \u001b[0;32mreturn\u001b[0m \u001b[0mf\u001b[0m\u001b[0;34m(\u001b[0m\u001b[0;34m*\u001b[0m\u001b[0margs\u001b[0m\u001b[0;34m,\u001b[0m \u001b[0;34m**\u001b[0m\u001b[0mkwargs\u001b[0m\u001b[0;34m)\u001b[0m\u001b[0;34m\u001b[0m\u001b[0;34m\u001b[0m\u001b[0m\n\u001b[0m\u001b[1;32m     64\u001b[0m \u001b[0;34m\u001b[0m\u001b[0m\n\u001b[1;32m     65\u001b[0m             \u001b[0;31m# extra_args > 0\u001b[0m\u001b[0;34m\u001b[0m\u001b[0;34m\u001b[0m\u001b[0;34m\u001b[0m\u001b[0m\n",
      "\u001b[0;32m~/miniconda3/envs/lincs-complimentarity/lib/python3.9/site-packages/sklearn/metrics/pairwise.py\u001b[0m in \u001b[0;36meuclidean_distances\u001b[0;34m(X, Y, Y_norm_squared, squared, X_norm_squared)\u001b[0m\n\u001b[1;32m    311\u001b[0m     \u001b[0;32melse\u001b[0m\u001b[0;34m:\u001b[0m\u001b[0;34m\u001b[0m\u001b[0;34m\u001b[0m\u001b[0m\n\u001b[1;32m    312\u001b[0m         \u001b[0;31m# if dtype is already float64, no need to chunk and upcast\u001b[0m\u001b[0;34m\u001b[0m\u001b[0;34m\u001b[0m\u001b[0;34m\u001b[0m\u001b[0m\n\u001b[0;32m--> 313\u001b[0;31m         \u001b[0mdistances\u001b[0m \u001b[0;34m=\u001b[0m \u001b[0;34m-\u001b[0m \u001b[0;36m2\u001b[0m \u001b[0;34m*\u001b[0m \u001b[0msafe_sparse_dot\u001b[0m\u001b[0;34m(\u001b[0m\u001b[0mX\u001b[0m\u001b[0;34m,\u001b[0m \u001b[0mY\u001b[0m\u001b[0;34m.\u001b[0m\u001b[0mT\u001b[0m\u001b[0;34m,\u001b[0m \u001b[0mdense_output\u001b[0m\u001b[0;34m=\u001b[0m\u001b[0;32mTrue\u001b[0m\u001b[0;34m)\u001b[0m\u001b[0;34m\u001b[0m\u001b[0;34m\u001b[0m\u001b[0m\n\u001b[0m\u001b[1;32m    314\u001b[0m         \u001b[0mdistances\u001b[0m \u001b[0;34m+=\u001b[0m \u001b[0mXX\u001b[0m\u001b[0;34m\u001b[0m\u001b[0;34m\u001b[0m\u001b[0m\n\u001b[1;32m    315\u001b[0m         \u001b[0mdistances\u001b[0m \u001b[0;34m+=\u001b[0m \u001b[0mYY\u001b[0m\u001b[0;34m\u001b[0m\u001b[0;34m\u001b[0m\u001b[0m\n",
      "\u001b[0;32m~/miniconda3/envs/lincs-complimentarity/lib/python3.9/site-packages/sklearn/utils/validation.py\u001b[0m in \u001b[0;36minner_f\u001b[0;34m(*args, **kwargs)\u001b[0m\n\u001b[1;32m     61\u001b[0m             \u001b[0mextra_args\u001b[0m \u001b[0;34m=\u001b[0m \u001b[0mlen\u001b[0m\u001b[0;34m(\u001b[0m\u001b[0margs\u001b[0m\u001b[0;34m)\u001b[0m \u001b[0;34m-\u001b[0m \u001b[0mlen\u001b[0m\u001b[0;34m(\u001b[0m\u001b[0mall_args\u001b[0m\u001b[0;34m)\u001b[0m\u001b[0;34m\u001b[0m\u001b[0;34m\u001b[0m\u001b[0m\n\u001b[1;32m     62\u001b[0m             \u001b[0;32mif\u001b[0m \u001b[0mextra_args\u001b[0m \u001b[0;34m<=\u001b[0m \u001b[0;36m0\u001b[0m\u001b[0;34m:\u001b[0m\u001b[0;34m\u001b[0m\u001b[0;34m\u001b[0m\u001b[0m\n\u001b[0;32m---> 63\u001b[0;31m                 \u001b[0;32mreturn\u001b[0m \u001b[0mf\u001b[0m\u001b[0;34m(\u001b[0m\u001b[0;34m*\u001b[0m\u001b[0margs\u001b[0m\u001b[0;34m,\u001b[0m \u001b[0;34m**\u001b[0m\u001b[0mkwargs\u001b[0m\u001b[0;34m)\u001b[0m\u001b[0;34m\u001b[0m\u001b[0;34m\u001b[0m\u001b[0m\n\u001b[0m\u001b[1;32m     64\u001b[0m \u001b[0;34m\u001b[0m\u001b[0m\n\u001b[1;32m     65\u001b[0m             \u001b[0;31m# extra_args > 0\u001b[0m\u001b[0;34m\u001b[0m\u001b[0;34m\u001b[0m\u001b[0;34m\u001b[0m\u001b[0m\n",
      "\u001b[0;32m~/miniconda3/envs/lincs-complimentarity/lib/python3.9/site-packages/sklearn/utils/extmath.py\u001b[0m in \u001b[0;36msafe_sparse_dot\u001b[0;34m(a, b, dense_output)\u001b[0m\n\u001b[1;32m    150\u001b[0m             \u001b[0mret\u001b[0m \u001b[0;34m=\u001b[0m \u001b[0mnp\u001b[0m\u001b[0;34m.\u001b[0m\u001b[0mdot\u001b[0m\u001b[0;34m(\u001b[0m\u001b[0ma\u001b[0m\u001b[0;34m,\u001b[0m \u001b[0mb\u001b[0m\u001b[0;34m)\u001b[0m\u001b[0;34m\u001b[0m\u001b[0;34m\u001b[0m\u001b[0m\n\u001b[1;32m    151\u001b[0m     \u001b[0;32melse\u001b[0m\u001b[0;34m:\u001b[0m\u001b[0;34m\u001b[0m\u001b[0;34m\u001b[0m\u001b[0m\n\u001b[0;32m--> 152\u001b[0;31m         \u001b[0mret\u001b[0m \u001b[0;34m=\u001b[0m \u001b[0ma\u001b[0m \u001b[0;34m@\u001b[0m \u001b[0mb\u001b[0m\u001b[0;34m\u001b[0m\u001b[0;34m\u001b[0m\u001b[0m\n\u001b[0m\u001b[1;32m    153\u001b[0m \u001b[0;34m\u001b[0m\u001b[0m\n\u001b[1;32m    154\u001b[0m     if (sparse.issparse(a) and sparse.issparse(b)\n",
      "\u001b[0;31mKeyboardInterrupt\u001b[0m: "
     ]
    }
   ],
   "source": [
    "doseall_thresh_silh_score, doseall_thresh_davie_score = calculate_score(df_pc_all_thresh.drop(['dose'], axis = 1))\n",
    "\n",
    "df_silhall_thresh = create_df(doseall_thresh_silh_score, 'Average_silhouette_score', \"common_compounds\")\n",
    "df_dball_thresh = create_df(doseall_thresh_davie_score, 'davies_bouldin_score', \"common_compounds\")"
   ]
  },
  {
   "cell_type": "code",
   "execution_count": null,
   "metadata": {},
   "outputs": [],
   "source": [
    "bics_dose_all, _ = calc_bic(df_pc_all_thresh.drop(['dose'], axis = 1))\n",
    "dose_bic_score_all = {idx+2:score for idx, score in enumerate(bics_dose_all)}\n",
    "\n",
    "df_bics_dose_all = create_df(dose_bic_score, 'BIC_score', \"common_compounds\")"
   ]
  },
  {
   "cell_type": "code",
   "execution_count": null,
   "metadata": {},
   "outputs": [],
   "source": [
    "plot_score(doseall_thresh_silh_score, 'Average Silhouette')"
   ]
  },
  {
   "cell_type": "code",
   "execution_count": null,
   "metadata": {},
   "outputs": [],
   "source": [
    "plot_score(doseall_thresh_davie_score, 'Davies Bouldin score')"
   ]
  },
  {
   "cell_type": "code",
   "execution_count": null,
   "metadata": {},
   "outputs": [],
   "source": [
    "# Output to file\n",
    "output_file = pathlib.Path(\"results/L1000/L1000_silhouette_scores_compounds_common_compounds.csv\")\n",
    "df_silhall_thresh.to_csv(output_file, index=False)\n",
    "\n",
    "output_file = pathlib.Path(\"results/L1000/L1000_davies_compounds_common_compounds.csv\")\n",
    "df_dball_thresh.to_csv(output_file, index=False)\n",
    "\n",
    "output_file = pathlib.Path(\"results/L1000/L1000_bic_compounds_common_compounds.csv\")\n",
    "df_bics_dose_all.to_csv(output_file, index=False)"
   ]
  },
  {
   "cell_type": "markdown",
   "metadata": {},
   "source": [
    "## Perform the same analysis within each dose separately"
   ]
  },
  {
   "cell_type": "code",
   "execution_count": null,
   "metadata": {},
   "outputs": [],
   "source": [
    "silh_list = []\n",
    "db_list = []\n",
    "bic_list = []\n",
    "\n",
    "for dose in [1, 2, 3, 4, 5, 6]:\n",
    "    print(f\"Now analyzing dose {dose}\")\n",
    "    df_dose = extract_dose_df(df_level4, dose_num=dose)\n",
    "    pca_dose, df_pc_dose, df_scaled_dose = transform_pca(df_dose, dose_num=dose)\n",
    "    \n",
    "    print(np.sum(pca_dose.explained_variance_ratio_)) \n",
    "        \n",
    "    # Calculate BIC\n",
    "    bics_dose, _ = calc_bic(df_pc_dose.drop(['dose'], axis = 1))\n",
    "    dose_bic_score = {idx+2:score for idx, score in enumerate(bics_dose)}\n",
    "    \n",
    "    # Calculate Silhouette and Davies Boulding index\n",
    "    dose_silh_score, dose_davie_score = calculate_score(df_pc_dose.drop(['dose'], axis = 1))\n",
    "    \n",
    "    # Save output\n",
    "    df_silh = create_df(dose_silh_score, 'Average_silhouette_score', dose)\n",
    "    silh_list.append(df_silh)\n",
    "    df_db = create_df(dose_davie_score, 'davies_bouldin_score', dose)\n",
    "    db_list.append(df_db)\n",
    "    df_bic = create_df(dose_bic_score, 'BIC_score', 1)\n",
    "    bic_list.append(df_bic)\n",
    "    \n",
    "df_silh = pd.concat(silh_list, ignore_index=True)\n",
    "df_db = pd.concat(db_list, ignore_index=True)\n",
    "df_bic = pd.concat(bic_list, ignore_index=True)"
   ]
  },
  {
   "cell_type": "code",
   "execution_count": null,
   "metadata": {},
   "outputs": [],
   "source": [
    "save_to_csv(df_silh, output_path, 'L1000_silhouette_scores.csv')\n",
    "save_to_csv(df_db, output_path, 'L1000_db_scores.csv')\n",
    "save_to_csv(df_bic, output_path, 'L1000_bic_scores.csv')"
   ]
  }
 ],
 "metadata": {
  "kernelspec": {
   "display_name": "Python 3 (ipykernel)",
   "language": "python",
   "name": "python3"
  },
  "language_info": {
   "codemirror_mode": {
    "name": "ipython",
    "version": 3
   },
   "file_extension": ".py",
   "mimetype": "text/x-python",
   "name": "python",
   "nbconvert_exporter": "python",
   "pygments_lexer": "ipython3",
   "version": "3.9.6"
  }
 },
 "nbformat": 4,
 "nbformat_minor": 4
}
