{
 "cells": [
  {
   "cell_type": "markdown",
   "id": "cc5ce393-9aa0-4fb0-9375-bd25598807dc",
   "metadata": {},
   "source": [
    "## Summarize all common compounds and their percent strong scores"
   ]
  },
  {
   "cell_type": "code",
   "execution_count": 1,
   "id": "1adc14ba-8412-4217-b953-163a430f4613",
   "metadata": {},
   "outputs": [],
   "source": [
    "suppressPackageStartupMessages(library(dplyr))\n",
    "suppressPackageStartupMessages(library(ggplot2))\n",
    "suppressPackageStartupMessages(library(patchwork))\n",
    "\n",
    "source(\"viz_themes.R\")\n",
    "source(\"plotting_functions.R\")\n",
    "source(\"data_functions.R\")"
   ]
  },
  {
   "cell_type": "code",
   "execution_count": 2,
   "id": "4753bc7b-49bb-4a9c-9a5f-574d5057f9a8",
   "metadata": {},
   "outputs": [],
   "source": [
    "results_dir <- file.path(\"../1.Data-exploration/Profiles_level4/results/\")"
   ]
  },
  {
   "cell_type": "code",
   "execution_count": 3,
   "id": "5b581085-366f-4013-a8f8-a65e1318ad41",
   "metadata": {},
   "outputs": [],
   "source": [
    "# First, obtain the threshold to consider strong phenotype\n",
    "cell_painting_pr_df <- load_percent_strong(assay = \"cellpainting\", results_dir = results_dir)\n",
    "l1000_pr_df <- load_percent_strong(assay = \"l1000\", results_dir = results_dir)\n",
    "\n",
    "pr_df <- dplyr::bind_rows(cell_painting_pr_df, l1000_pr_df)\n",
    "pr_df$dose <- factor(pr_df$dose, levels = dose_order)\n",
    "\n",
    "threshold_df <- pr_df %>%\n",
    "    dplyr::filter(type == 'non_replicate') %>%\n",
    "    dplyr::group_by(assay, dose) %>%\n",
    "    dplyr::summarise(threshold = quantile(replicate_correlation, 0.95))\n",
    "\n",
    "threshold_plot_ready_df <- threshold_df %>% reshape2::dcast(dose ~ assay, value.var = \"threshold\")"
   ]
  },
  {
   "cell_type": "code",
   "execution_count": 4,
   "id": "4ca99c50-d326-425e-b609-4f288eb05f43",
   "metadata": {},
   "outputs": [
    {
     "name": "stderr",
     "output_type": "stream",
     "text": [
      "Warning message:\n",
      "“Column `dose` joining character vector and factor, coercing into character vector”\n",
      "Warning message:\n",
      "“Column `dose` joining character vector and factor, coercing into character vector”\n"
     ]
    },
    {
     "name": "stdout",
     "output_type": "stream",
     "text": [
      "[1] 1327\n"
     ]
    }
   ],
   "source": [
    "# Next, get the median pairwise correlations and determine if they pass the threshold\n",
    "cell_painting_comp_df <- load_median_correlation_scores(assay = \"cellpainting\", results_dir = results_dir)\n",
    "l1000_comp_df <- load_median_correlation_scores(assay = \"l1000\", results_dir = results_dir)\n",
    "\n",
    "# Note that the variable significant_compounds contains ALL compounds and a variable indicating if they pass the threshold\n",
    "significant_compounds_df <- cell_painting_comp_df %>%\n",
    "    dplyr::left_join(l1000_comp_df, by = c(\"dose\", \"compound\"), suffix = c(\"_cellpainting\", \"_l1000\")) %>%\n",
    "    tidyr::drop_na() %>%\n",
    "    dplyr::left_join(threshold_df %>% dplyr::filter(assay == \"Cell Painting\"), by = \"dose\") %>%\n",
    "    dplyr::left_join(threshold_df %>% dplyr::filter(assay == \"L1000\"), by = \"dose\", suffix = c(\"_cellpainting\", \"_l1000\")) %>%\n",
    "    dplyr::mutate(\n",
    "        pass_cellpainting_thresh = median_replicate_score_cellpainting > threshold_cellpainting,\n",
    "        pass_l1000_thresh = median_replicate_score_l1000 > threshold_l1000\n",
    "    ) %>%\n",
    "    dplyr::mutate(pass_both = pass_cellpainting_thresh + pass_l1000_thresh) %>%\n",
    "    dplyr::mutate(pass_both = ifelse(pass_both == 2, TRUE, FALSE)) %>%\n",
    "    dplyr::select(\n",
    "        compound,\n",
    "        dose,\n",
    "        median_replicate_score_cellpainting,\n",
    "        median_replicate_score_l1000,\n",
    "        pass_cellpainting_thresh,\n",
    "        pass_l1000_thresh,\n",
    "        pass_both\n",
    "    )\n",
    "\n",
    "# Count in how many doses the particular compound was reproducible\n",
    "cp_reprod_count_df <- significant_compounds_df %>%\n",
    "    dplyr::filter(pass_cellpainting_thresh) %>%\n",
    "    dplyr::group_by(compound) %>%\n",
    "    dplyr::count() %>%\n",
    "    dplyr::rename(cell_painting_num_reproducible = n)\n",
    "\n",
    "l1000_reprod_count_df <- significant_compounds_df %>%\n",
    "    dplyr::filter(pass_l1000_thresh) %>%\n",
    "    dplyr::group_by(compound) %>%\n",
    "    dplyr::count() %>%\n",
    "    dplyr::rename(l1000_num_reproducible = n)\n",
    "\n",
    "significant_compounds_df <- significant_compounds_df %>%\n",
    "    dplyr::left_join(cp_reprod_count_df, by = \"compound\") %>%\n",
    "    dplyr::left_join(l1000_reprod_count_df, by = \"compound\") %>%\n",
    "    tidyr::replace_na(list(l1000_num_reproducible = 0, cell_painting_num_reproducible = 0)) %>%\n",
    "    dplyr::mutate(total_reproducible = cell_painting_num_reproducible + l1000_num_reproducible)\n",
    "\n",
    "significant_compounds_df$dose <- factor(significant_compounds_df$dose, levels = dose_order)\n",
    "significant_compounds_df$compound <- tolower(significant_compounds_df$compound)\n",
    "\n",
    "print(length(unique(significant_compounds_df$compound)))"
   ]
  },
  {
   "cell_type": "code",
   "execution_count": 5,
   "id": "941de004-235c-41b1-8e9b-cef0eb7b8326",
   "metadata": {},
   "outputs": [
    {
     "name": "stdout",
     "output_type": "stream",
     "text": [
      "[1] 7962   10\n"
     ]
    },
    {
     "data": {
      "text/html": [
       "<table>\n",
       "<caption>A tibble: 3 × 10</caption>\n",
       "<thead>\n",
       "\t<tr><th scope=col>compound</th><th scope=col>dose</th><th scope=col>median_replicate_score_cellpainting</th><th scope=col>median_replicate_score_l1000</th><th scope=col>pass_cellpainting_thresh</th><th scope=col>pass_l1000_thresh</th><th scope=col>pass_both</th><th scope=col>cell_painting_num_reproducible</th><th scope=col>l1000_num_reproducible</th><th scope=col>total_reproducible</th></tr>\n",
       "\t<tr><th scope=col>&lt;chr&gt;</th><th scope=col>&lt;fct&gt;</th><th scope=col>&lt;dbl&gt;</th><th scope=col>&lt;dbl&gt;</th><th scope=col>&lt;lgl&gt;</th><th scope=col>&lt;lgl&gt;</th><th scope=col>&lt;lgl&gt;</th><th scope=col>&lt;dbl&gt;</th><th scope=col>&lt;dbl&gt;</th><th scope=col>&lt;dbl&gt;</th></tr>\n",
       "</thead>\n",
       "<tbody>\n",
       "\t<tr><td>17-hydroxyprogesterone-caproate</td><td>0.04 uM</td><td>0.05455739</td><td>0.07336968</td><td>TRUE</td><td>FALSE</td><td>FALSE</td><td>5</td><td>2</td><td>7</td></tr>\n",
       "\t<tr><td>2-iminobiotin                  </td><td>0.04 uM</td><td>0.05379096</td><td>0.08543361</td><td>TRUE</td><td>FALSE</td><td>FALSE</td><td>1</td><td>2</td><td>3</td></tr>\n",
       "\t<tr><td>3-amino-benzamide              </td><td>0.04 uM</td><td>0.11193277</td><td>0.01122805</td><td>TRUE</td><td>FALSE</td><td>FALSE</td><td>5</td><td>0</td><td>5</td></tr>\n",
       "</tbody>\n",
       "</table>\n"
      ],
      "text/latex": [
       "A tibble: 3 × 10\n",
       "\\begin{tabular}{llllllllll}\n",
       " compound & dose & median\\_replicate\\_score\\_cellpainting & median\\_replicate\\_score\\_l1000 & pass\\_cellpainting\\_thresh & pass\\_l1000\\_thresh & pass\\_both & cell\\_painting\\_num\\_reproducible & l1000\\_num\\_reproducible & total\\_reproducible\\\\\n",
       " <chr> & <fct> & <dbl> & <dbl> & <lgl> & <lgl> & <lgl> & <dbl> & <dbl> & <dbl>\\\\\n",
       "\\hline\n",
       "\t 17-hydroxyprogesterone-caproate & 0.04 uM & 0.05455739 & 0.07336968 & TRUE & FALSE & FALSE & 5 & 2 & 7\\\\\n",
       "\t 2-iminobiotin                   & 0.04 uM & 0.05379096 & 0.08543361 & TRUE & FALSE & FALSE & 1 & 2 & 3\\\\\n",
       "\t 3-amino-benzamide               & 0.04 uM & 0.11193277 & 0.01122805 & TRUE & FALSE & FALSE & 5 & 0 & 5\\\\\n",
       "\\end{tabular}\n"
      ],
      "text/markdown": [
       "\n",
       "A tibble: 3 × 10\n",
       "\n",
       "| compound &lt;chr&gt; | dose &lt;fct&gt; | median_replicate_score_cellpainting &lt;dbl&gt; | median_replicate_score_l1000 &lt;dbl&gt; | pass_cellpainting_thresh &lt;lgl&gt; | pass_l1000_thresh &lt;lgl&gt; | pass_both &lt;lgl&gt; | cell_painting_num_reproducible &lt;dbl&gt; | l1000_num_reproducible &lt;dbl&gt; | total_reproducible &lt;dbl&gt; |\n",
       "|---|---|---|---|---|---|---|---|---|---|\n",
       "| 17-hydroxyprogesterone-caproate | 0.04 uM | 0.05455739 | 0.07336968 | TRUE | FALSE | FALSE | 5 | 2 | 7 |\n",
       "| 2-iminobiotin                   | 0.04 uM | 0.05379096 | 0.08543361 | TRUE | FALSE | FALSE | 1 | 2 | 3 |\n",
       "| 3-amino-benzamide               | 0.04 uM | 0.11193277 | 0.01122805 | TRUE | FALSE | FALSE | 5 | 0 | 5 |\n",
       "\n"
      ],
      "text/plain": [
       "  compound                        dose    median_replicate_score_cellpainting\n",
       "1 17-hydroxyprogesterone-caproate 0.04 uM 0.05455739                         \n",
       "2 2-iminobiotin                   0.04 uM 0.05379096                         \n",
       "3 3-amino-benzamide               0.04 uM 0.11193277                         \n",
       "  median_replicate_score_l1000 pass_cellpainting_thresh pass_l1000_thresh\n",
       "1 0.07336968                   TRUE                     FALSE            \n",
       "2 0.08543361                   TRUE                     FALSE            \n",
       "3 0.01122805                   TRUE                     FALSE            \n",
       "  pass_both cell_painting_num_reproducible l1000_num_reproducible\n",
       "1 FALSE     5                              2                     \n",
       "2 FALSE     1                              2                     \n",
       "3 FALSE     5                              0                     \n",
       "  total_reproducible\n",
       "1 7                 \n",
       "2 3                 \n",
       "3 5                 "
      ]
     },
     "metadata": {},
     "output_type": "display_data"
    }
   ],
   "source": [
    "# Output file for further use\n",
    "output_file <- file.path(\"data\", \"significant_compounds_by_threshold_both_assays.tsv.gz\")\n",
    "significant_compounds_df %>% readr::write_tsv(output_file)\n",
    "\n",
    "print(dim(significant_compounds_df))\n",
    "head(significant_compounds_df, 3)"
   ]
  }
 ],
 "metadata": {
  "kernelspec": {
   "display_name": "R [conda env:lincs-complimentarity-figures]",
   "language": "R",
   "name": "conda-env-lincs-complimentarity-figures-r"
  },
  "language_info": {
   "codemirror_mode": "r",
   "file_extension": ".r",
   "mimetype": "text/x-r-source",
   "name": "R",
   "pygments_lexer": "r",
   "version": "3.5.1"
  }
 },
 "nbformat": 4,
 "nbformat_minor": 5
}
