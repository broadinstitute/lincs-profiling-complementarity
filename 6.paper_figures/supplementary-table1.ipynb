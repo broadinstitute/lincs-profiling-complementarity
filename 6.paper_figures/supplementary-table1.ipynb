{
 "cells": [
  {
   "cell_type": "markdown",
   "id": "97ea0be7-0af0-4f44-ac87-4a16d744fdaa",
   "metadata": {},
   "source": [
    "## Compile supplementary table 1\n",
    "\n",
    "Per compound and MOA median pairwise Pearson correlations"
   ]
  },
  {
   "cell_type": "code",
   "execution_count": 1,
   "id": "f809e4db-4117-44bb-a256-597db2b2c767",
   "metadata": {},
   "outputs": [],
   "source": [
    "suppressPackageStartupMessages(library(dplyr))"
   ]
  },
  {
   "cell_type": "code",
   "execution_count": 2,
   "id": "88ec5570-cd02-4285-a4e4-c5de0c64bd54",
   "metadata": {},
   "outputs": [
    {
     "name": "stdout",
     "output_type": "stream",
     "text": [
      "[1] 15138     7\n"
     ]
    },
    {
     "data": {
      "text/html": [
       "<table>\n",
       "<caption>A tibble: 3 × 7</caption>\n",
       "<thead>\n",
       "\t<tr><th scope=col>compound</th><th scope=col>dose</th><th scope=col>no_of_replicates_per_compound</th><th scope=col>well</th><th scope=col>median_replicate_correlation</th><th scope=col>p_value</th><th scope=col>assay</th></tr>\n",
       "\t<tr><th scope=col>&lt;chr&gt;</th><th scope=col>&lt;chr&gt;</th><th scope=col>&lt;dbl&gt;</th><th scope=col>&lt;chr&gt;</th><th scope=col>&lt;dbl&gt;</th><th scope=col>&lt;dbl&gt;</th><th scope=col>&lt;chr&gt;</th></tr>\n",
       "</thead>\n",
       "<tbody>\n",
       "\t<tr><td>17-hydroxyprogesterone-caproate</td><td>0.04 uM</td><td>5</td><td>N18</td><td>0.05455739</td><td>0.009</td><td>Cell Painting</td></tr>\n",
       "\t<tr><td>2-iminobiotin                  </td><td>0.04 uM</td><td>5</td><td>B12</td><td>0.05379096</td><td>0.004</td><td>Cell Painting</td></tr>\n",
       "\t<tr><td>3-amino-benzamide              </td><td>0.04 uM</td><td>5</td><td>D24</td><td>0.11193277</td><td>0.001</td><td>Cell Painting</td></tr>\n",
       "</tbody>\n",
       "</table>\n"
      ],
      "text/latex": [
       "A tibble: 3 × 7\n",
       "\\begin{tabular}{lllllll}\n",
       " compound & dose & no\\_of\\_replicates\\_per\\_compound & well & median\\_replicate\\_correlation & p\\_value & assay\\\\\n",
       " <chr> & <chr> & <dbl> & <chr> & <dbl> & <dbl> & <chr>\\\\\n",
       "\\hline\n",
       "\t 17-hydroxyprogesterone-caproate & 0.04 uM & 5 & N18 & 0.05455739 & 0.009 & Cell Painting\\\\\n",
       "\t 2-iminobiotin                   & 0.04 uM & 5 & B12 & 0.05379096 & 0.004 & Cell Painting\\\\\n",
       "\t 3-amino-benzamide               & 0.04 uM & 5 & D24 & 0.11193277 & 0.001 & Cell Painting\\\\\n",
       "\\end{tabular}\n"
      ],
      "text/markdown": [
       "\n",
       "A tibble: 3 × 7\n",
       "\n",
       "| compound &lt;chr&gt; | dose &lt;chr&gt; | no_of_replicates_per_compound &lt;dbl&gt; | well &lt;chr&gt; | median_replicate_correlation &lt;dbl&gt; | p_value &lt;dbl&gt; | assay &lt;chr&gt; |\n",
       "|---|---|---|---|---|---|---|\n",
       "| 17-hydroxyprogesterone-caproate | 0.04 uM | 5 | N18 | 0.05455739 | 0.009 | Cell Painting |\n",
       "| 2-iminobiotin                   | 0.04 uM | 5 | B12 | 0.05379096 | 0.004 | Cell Painting |\n",
       "| 3-amino-benzamide               | 0.04 uM | 5 | D24 | 0.11193277 | 0.001 | Cell Painting |\n",
       "\n"
      ],
      "text/plain": [
       "  compound                        dose    no_of_replicates_per_compound well\n",
       "1 17-hydroxyprogesterone-caproate 0.04 uM 5                             N18 \n",
       "2 2-iminobiotin                   0.04 uM 5                             B12 \n",
       "3 3-amino-benzamide               0.04 uM 5                             D24 \n",
       "  median_replicate_correlation p_value assay        \n",
       "1 0.05455739                   0.009   Cell Painting\n",
       "2 0.05379096                   0.004   Cell Painting\n",
       "3 0.11193277                   0.001   Cell Painting"
      ]
     },
     "metadata": {},
     "output_type": "display_data"
    }
   ],
   "source": [
    "# Load scores\n",
    "compound_cols <- readr::cols(\n",
    "  compound = readr::col_character(),\n",
    "  no_of_compounds = readr::col_double(),\n",
    "  well = readr::col_character(),\n",
    "  dose_recode = readr::col_double(),\n",
    "  median_score = readr::col_double(),\n",
    "  p_value = readr::col_double(),\n",
    "  assay = readr::col_character(),\n",
    "  normalization = readr::col_character(),\n",
    "  category = readr::col_character(),\n",
    "  pass_thresh = readr::col_logical(),\n",
    "  neg_log_10_p_val = readr::col_double(),\n",
    "  dose = readr::col_character()\n",
    ")\n",
    "\n",
    "compound_df <- readr::read_tsv(file.path(\"results\", \"compound_scores.tsv\"), col_types = compound_cols) %>%\n",
    "    dplyr::select(compound, dose, no_of_compounds, well, median_score, p_value, assay) %>%\n",
    "    dplyr::rename(\n",
    "        no_of_replicates_per_compound = no_of_compounds,\n",
    "        median_replicate_correlation = median_score\n",
    "    )\n",
    "\n",
    "print(dim(compound_df))\n",
    "head(compound_df, 3)"
   ]
  },
  {
   "cell_type": "code",
   "execution_count": 3,
   "id": "c03ce6fc-0547-40fb-be4b-6e9c258b1993",
   "metadata": {},
   "outputs": [
    {
     "name": "stdout",
     "output_type": "stream",
     "text": [
      "[1] 1524    6\n"
     ]
    },
    {
     "data": {
      "text/html": [
       "<table>\n",
       "<caption>A tibble: 3 × 6</caption>\n",
       "<thead>\n",
       "\t<tr><th scope=col>moa</th><th scope=col>dose</th><th scope=col>no_of_compounds_per_moa</th><th scope=col>median_replicate_correlation</th><th scope=col>p_value</th><th scope=col>assay</th></tr>\n",
       "\t<tr><th scope=col>&lt;chr&gt;</th><th scope=col>&lt;chr&gt;</th><th scope=col>&lt;dbl&gt;</th><th scope=col>&lt;dbl&gt;</th><th scope=col>&lt;dbl&gt;</th><th scope=col>&lt;chr&gt;</th></tr>\n",
       "</thead>\n",
       "<tbody>\n",
       "\t<tr><td>acat inhibitor                   </td><td>0.04 uM</td><td> 3</td><td>0.004444607</td><td>0.513</td><td>Cell Painting</td></tr>\n",
       "\t<tr><td>acetylcholine receptor agonist   </td><td>0.04 uM</td><td> 8</td><td>0.005142343</td><td>0.576</td><td>Cell Painting</td></tr>\n",
       "\t<tr><td>acetylcholine receptor antagonist</td><td>0.04 uM</td><td>21</td><td>0.019262183</td><td>0.017</td><td>Cell Painting</td></tr>\n",
       "</tbody>\n",
       "</table>\n"
      ],
      "text/latex": [
       "A tibble: 3 × 6\n",
       "\\begin{tabular}{llllll}\n",
       " moa & dose & no\\_of\\_compounds\\_per\\_moa & median\\_replicate\\_correlation & p\\_value & assay\\\\\n",
       " <chr> & <chr> & <dbl> & <dbl> & <dbl> & <chr>\\\\\n",
       "\\hline\n",
       "\t acat inhibitor                    & 0.04 uM &  3 & 0.004444607 & 0.513 & Cell Painting\\\\\n",
       "\t acetylcholine receptor agonist    & 0.04 uM &  8 & 0.005142343 & 0.576 & Cell Painting\\\\\n",
       "\t acetylcholine receptor antagonist & 0.04 uM & 21 & 0.019262183 & 0.017 & Cell Painting\\\\\n",
       "\\end{tabular}\n"
      ],
      "text/markdown": [
       "\n",
       "A tibble: 3 × 6\n",
       "\n",
       "| moa &lt;chr&gt; | dose &lt;chr&gt; | no_of_compounds_per_moa &lt;dbl&gt; | median_replicate_correlation &lt;dbl&gt; | p_value &lt;dbl&gt; | assay &lt;chr&gt; |\n",
       "|---|---|---|---|---|---|\n",
       "| acat inhibitor                    | 0.04 uM |  3 | 0.004444607 | 0.513 | Cell Painting |\n",
       "| acetylcholine receptor agonist    | 0.04 uM |  8 | 0.005142343 | 0.576 | Cell Painting |\n",
       "| acetylcholine receptor antagonist | 0.04 uM | 21 | 0.019262183 | 0.017 | Cell Painting |\n",
       "\n"
      ],
      "text/plain": [
       "  moa                               dose    no_of_compounds_per_moa\n",
       "1 acat inhibitor                    0.04 uM  3                     \n",
       "2 acetylcholine receptor agonist    0.04 uM  8                     \n",
       "3 acetylcholine receptor antagonist 0.04 uM 21                     \n",
       "  median_replicate_correlation p_value assay        \n",
       "1 0.004444607                  0.513   Cell Painting\n",
       "2 0.005142343                  0.576   Cell Painting\n",
       "3 0.019262183                  0.017   Cell Painting"
      ]
     },
     "metadata": {},
     "output_type": "display_data"
    }
   ],
   "source": [
    "moa_cols <- readr::cols(\n",
    "  moa = readr::col_character(),\n",
    "  no_of_replicates = readr::col_double(),\n",
    "  dose = readr::col_character(),\n",
    "  matching_score = readr::col_double(),\n",
    "  assay = readr::col_character(),\n",
    "  p_value = readr::col_double(),\n",
    "  pass_thresh = readr::col_logical(),\n",
    "  neg_log_10_p_val = readr::col_double()\n",
    ")\n",
    "\n",
    "moa_df <- readr::read_tsv(file.path(\"results\", \"moa_scores.tsv\"), col_types = moa_cols) %>%\n",
    "    dplyr::select(moa, dose, no_of_replicates, matching_score, p_value, assay) %>%\n",
    "    dplyr::rename(\n",
    "        no_of_compounds_per_moa = no_of_replicates,\n",
    "        median_replicate_correlation = matching_score\n",
    "    )\n",
    "\n",
    "print(dim(moa_df))\n",
    "head(moa_df, 3)"
   ]
  },
  {
   "cell_type": "code",
   "execution_count": 4,
   "id": "019ea59e-9b62-4d1f-be50-f051db739060",
   "metadata": {},
   "outputs": [
    {
     "name": "stdout",
     "output_type": "stream",
     "text": [
      "[1] 927   2\n"
     ]
    },
    {
     "data": {
      "text/html": [
       "<table>\n",
       "<caption>A tibble: 3 × 2</caption>\n",
       "<thead>\n",
       "\t<tr><th scope=col>pert_iname</th><th scope=col>moa</th></tr>\n",
       "\t<tr><th scope=col>&lt;chr&gt;</th><th scope=col>&lt;chr&gt;</th></tr>\n",
       "</thead>\n",
       "<tbody>\n",
       "\t<tr><td>zaldaride </td><td>calmodulin antagonist          </td></tr>\n",
       "\t<tr><td>clobetasol</td><td>glucocorticoid receptor agonist</td></tr>\n",
       "\t<tr><td>saquinavir</td><td>hiv protease inhibitor         </td></tr>\n",
       "</tbody>\n",
       "</table>\n"
      ],
      "text/latex": [
       "A tibble: 3 × 2\n",
       "\\begin{tabular}{ll}\n",
       " pert\\_iname & moa\\\\\n",
       " <chr> & <chr>\\\\\n",
       "\\hline\n",
       "\t zaldaride  & calmodulin antagonist          \\\\\n",
       "\t clobetasol & glucocorticoid receptor agonist\\\\\n",
       "\t saquinavir & hiv protease inhibitor         \\\\\n",
       "\\end{tabular}\n"
      ],
      "text/markdown": [
       "\n",
       "A tibble: 3 × 2\n",
       "\n",
       "| pert_iname &lt;chr&gt; | moa &lt;chr&gt; |\n",
       "|---|---|\n",
       "| zaldaride  | calmodulin antagonist           |\n",
       "| clobetasol | glucocorticoid receptor agonist |\n",
       "| saquinavir | hiv protease inhibitor          |\n",
       "\n"
      ],
      "text/plain": [
       "  pert_iname moa                            \n",
       "1 zaldaride  calmodulin antagonist          \n",
       "2 clobetasol glucocorticoid receptor agonist\n",
       "3 saquinavir hiv protease inhibitor         "
      ]
     },
     "metadata": {},
     "output_type": "display_data"
    }
   ],
   "source": [
    "# Load compound to moa map\n",
    "file <- file.path(\n",
    "    \"..\",\n",
    "    \"1.Data-exploration\",\n",
    "    \"Consensus\",\n",
    "    \"cell_painting\",\n",
    "    \"moa_sizes_consensus_datasets\",\n",
    "    \"cell_painting_moa_analytical_set_profiles.tsv.gz\"\n",
    ")\n",
    "\n",
    "df_cols <- readr::cols(\n",
    "  .default = readr::col_double(),\n",
    "  Metadata_Plate_Map_Name = readr::col_character(),\n",
    "  Metadata_cell_id = readr::col_character(),\n",
    "  Metadata_broad_sample = readr::col_character(),\n",
    "  Metadata_pert_well = readr::col_character(),\n",
    "  Metadata_time_point = readr::col_character(),\n",
    "  Metadata_moa = readr::col_character(),\n",
    "  Metadata_target = readr::col_character(),\n",
    "  broad_id = readr::col_character(),\n",
    "  pert_iname = readr::col_character(),\n",
    "  moa = readr::col_character()\n",
    ")\n",
    "\n",
    "df <- readr::read_tsv(file, col_types = df_cols) %>%\n",
    "    dplyr::select(pert_iname, moa) %>%\n",
    "    dplyr::distinct()\n",
    "\n",
    "df$pert_iname <- tolower(df$pert_iname)\n",
    "df$moa <- tolower(df$moa)\n",
    "\n",
    "print(dim(df))\n",
    "head(df, 3)"
   ]
  },
  {
   "cell_type": "code",
   "execution_count": 5,
   "id": "d454b3e3-0a47-453b-a2fc-e9a50a30b14a",
   "metadata": {},
   "outputs": [
    {
     "name": "stdout",
     "output_type": "stream",
     "text": [
      "[1] 15138    11\n"
     ]
    },
    {
     "data": {
      "text/html": [
       "<table>\n",
       "<caption>A tibble: 3 × 11</caption>\n",
       "<thead>\n",
       "\t<tr><th scope=col>compound</th><th scope=col>dose</th><th scope=col>no_of_replicates_per_compound</th><th scope=col>well</th><th scope=col>median_replicate_correlation_compound</th><th scope=col>p_value_compound</th><th scope=col>assay</th><th scope=col>moa</th><th scope=col>no_of_compounds_per_moa</th><th scope=col>median_replicate_correlation_moa</th><th scope=col>p_value_moa</th></tr>\n",
       "\t<tr><th scope=col>&lt;chr&gt;</th><th scope=col>&lt;chr&gt;</th><th scope=col>&lt;dbl&gt;</th><th scope=col>&lt;chr&gt;</th><th scope=col>&lt;dbl&gt;</th><th scope=col>&lt;dbl&gt;</th><th scope=col>&lt;chr&gt;</th><th scope=col>&lt;chr&gt;</th><th scope=col>&lt;dbl&gt;</th><th scope=col>&lt;dbl&gt;</th><th scope=col>&lt;dbl&gt;</th></tr>\n",
       "</thead>\n",
       "<tbody>\n",
       "\t<tr><td>17-hydroxyprogesterone-caproate</td><td>0.04 uM</td><td>5</td><td>N18</td><td>0.05455739</td><td>0.009</td><td>Cell Painting</td><td>progesterone receptor agonist  </td><td>7</td><td> 0.010186804</td><td>0.404</td></tr>\n",
       "\t<tr><td>2-iminobiotin                  </td><td>0.04 uM</td><td>5</td><td>B12</td><td>0.05379096</td><td>0.004</td><td>Cell Painting</td><td>nitric oxide synthase inhibitor</td><td>4</td><td>-0.001219973</td><td>0.669</td></tr>\n",
       "\t<tr><td>3-amino-benzamide              </td><td>0.04 uM</td><td>5</td><td>D24</td><td>0.11193277</td><td>0.001</td><td>Cell Painting</td><td>parp inhibitor                 </td><td>5</td><td> 0.032174059</td><td>0.092</td></tr>\n",
       "</tbody>\n",
       "</table>\n"
      ],
      "text/latex": [
       "A tibble: 3 × 11\n",
       "\\begin{tabular}{lllllllllll}\n",
       " compound & dose & no\\_of\\_replicates\\_per\\_compound & well & median\\_replicate\\_correlation\\_compound & p\\_value\\_compound & assay & moa & no\\_of\\_compounds\\_per\\_moa & median\\_replicate\\_correlation\\_moa & p\\_value\\_moa\\\\\n",
       " <chr> & <chr> & <dbl> & <chr> & <dbl> & <dbl> & <chr> & <chr> & <dbl> & <dbl> & <dbl>\\\\\n",
       "\\hline\n",
       "\t 17-hydroxyprogesterone-caproate & 0.04 uM & 5 & N18 & 0.05455739 & 0.009 & Cell Painting & progesterone receptor agonist   & 7 &  0.010186804 & 0.404\\\\\n",
       "\t 2-iminobiotin                   & 0.04 uM & 5 & B12 & 0.05379096 & 0.004 & Cell Painting & nitric oxide synthase inhibitor & 4 & -0.001219973 & 0.669\\\\\n",
       "\t 3-amino-benzamide               & 0.04 uM & 5 & D24 & 0.11193277 & 0.001 & Cell Painting & parp inhibitor                  & 5 &  0.032174059 & 0.092\\\\\n",
       "\\end{tabular}\n"
      ],
      "text/markdown": [
       "\n",
       "A tibble: 3 × 11\n",
       "\n",
       "| compound &lt;chr&gt; | dose &lt;chr&gt; | no_of_replicates_per_compound &lt;dbl&gt; | well &lt;chr&gt; | median_replicate_correlation_compound &lt;dbl&gt; | p_value_compound &lt;dbl&gt; | assay &lt;chr&gt; | moa &lt;chr&gt; | no_of_compounds_per_moa &lt;dbl&gt; | median_replicate_correlation_moa &lt;dbl&gt; | p_value_moa &lt;dbl&gt; |\n",
       "|---|---|---|---|---|---|---|---|---|---|---|\n",
       "| 17-hydroxyprogesterone-caproate | 0.04 uM | 5 | N18 | 0.05455739 | 0.009 | Cell Painting | progesterone receptor agonist   | 7 |  0.010186804 | 0.404 |\n",
       "| 2-iminobiotin                   | 0.04 uM | 5 | B12 | 0.05379096 | 0.004 | Cell Painting | nitric oxide synthase inhibitor | 4 | -0.001219973 | 0.669 |\n",
       "| 3-amino-benzamide               | 0.04 uM | 5 | D24 | 0.11193277 | 0.001 | Cell Painting | parp inhibitor                  | 5 |  0.032174059 | 0.092 |\n",
       "\n"
      ],
      "text/plain": [
       "  compound                        dose    no_of_replicates_per_compound well\n",
       "1 17-hydroxyprogesterone-caproate 0.04 uM 5                             N18 \n",
       "2 2-iminobiotin                   0.04 uM 5                             B12 \n",
       "3 3-amino-benzamide               0.04 uM 5                             D24 \n",
       "  median_replicate_correlation_compound p_value_compound assay        \n",
       "1 0.05455739                            0.009            Cell Painting\n",
       "2 0.05379096                            0.004            Cell Painting\n",
       "3 0.11193277                            0.001            Cell Painting\n",
       "  moa                             no_of_compounds_per_moa\n",
       "1 progesterone receptor agonist   7                      \n",
       "2 nitric oxide synthase inhibitor 4                      \n",
       "3 parp inhibitor                  5                      \n",
       "  median_replicate_correlation_moa p_value_moa\n",
       "1  0.010186804                     0.404      \n",
       "2 -0.001219973                     0.669      \n",
       "3  0.032174059                     0.092      "
      ]
     },
     "metadata": {},
     "output_type": "display_data"
    }
   ],
   "source": [
    "total_score_df <- compound_df %>%\n",
    "    dplyr::left_join(df, by = c(\"compound\" = \"pert_iname\")) %>%\n",
    "    dplyr::left_join(moa_df, by = c(\"moa\", \"dose\", \"assay\"), suffix = c(\"_compound\", \"_moa\"))\n",
    "\n",
    "print(dim(total_score_df))\n",
    "head(total_score_df, 3)"
   ]
  },
  {
   "cell_type": "code",
   "execution_count": 6,
   "id": "37f56186-02f4-4a3a-acf6-865bfce7749c",
   "metadata": {},
   "outputs": [],
   "source": [
    "# Output sup table 1\n",
    "output_file <- file.path(\"results\", \"supplementary_table1.tsv\")\n",
    "total_score_df %>%\n",
    "    dplyr::select(\n",
    "        assay,\n",
    "        compound,\n",
    "        moa,\n",
    "        dose,\n",
    "        well,\n",
    "        no_of_replicates_per_compound,\n",
    "        median_replicate_correlation_compound,\n",
    "        p_value_compound,\n",
    "        no_of_compounds_per_moa,\n",
    "        median_replicate_correlation_moa,\n",
    "        p_value_moa\n",
    "    ) %>%\n",
    "    readr::write_tsv(output_file)"
   ]
  }
 ],
 "metadata": {
  "kernelspec": {
   "display_name": "R [conda env:lincs-complimentarity-figures]",
   "language": "R",
   "name": "conda-env-lincs-complimentarity-figures-r"
  },
  "language_info": {
   "codemirror_mode": "r",
   "file_extension": ".r",
   "mimetype": "text/x-r-source",
   "name": "R",
   "pygments_lexer": "r",
   "version": "3.5.1"
  }
 },
 "nbformat": 4,
 "nbformat_minor": 5
}
