{
 "cells": [
  {
   "cell_type": "markdown",
   "id": "97ea0be7-0af0-4f44-ac87-4a16d744fdaa",
   "metadata": {},
   "source": [
    "## Compile supplementary tables\n",
    "\n",
    "\n",
    "| Data | Table |\n",
    "| :--- | :---: |\n",
    "| Compound to MOA/Target map | Table S1 |\n",
    "| Per compound median pairwise Spearman correlations | Table S2 |\n",
    "| Overrepresentation analysis for compounds that change morphology highly but induce low transcriptional activity | Table S3 |\n",
    "| Per MOA median pairwise Spearman correlations | Table S4 |\n",
    "| Percent matching MOA | Table S4 |\n",
    "| Average precision MOA | Table S4 |\n",
    "| Per target median pairwise Spearman correlations | Table S5 |\n",
    "| Average precision targets | Table S5 |\n"
   ]
  },
  {
   "cell_type": "code",
   "execution_count": 1,
   "id": "f809e4db-4117-44bb-a256-597db2b2c767",
   "metadata": {},
   "outputs": [],
   "source": [
    "suppressPackageStartupMessages(library(dplyr))\n",
    "\n",
    "source(\"viz_themes.R\")\n",
    "source(\"plotting_functions.R\")\n",
    "source(\"data_functions.R\")"
   ]
  },
  {
   "cell_type": "code",
   "execution_count": 2,
   "id": "f5e1f5a3-8e75-4b87-9bcd-3f8b2720d53c",
   "metadata": {},
   "outputs": [
    {
     "data": {
      "text/html": [
       "<style>\n",
       ".dl-inline {width: auto; margin:0; padding: 0}\n",
       ".dl-inline>dt, .dl-inline>dd {float: none; width: auto; display: inline-block}\n",
       ".dl-inline>dt::after {content: \":\\0020\"; padding-right: .5ex}\n",
       ".dl-inline>dt:not(:first-of-type) {padding-left: .5ex}\n",
       "</style><dl class=dl-inline><dt>1.0</dt><dd>'0.04 uM'</dd><dt>2.0</dt><dd>'0.12 uM'</dd><dt>3.0</dt><dd>'0.37 uM'</dd><dt>4.0</dt><dd>'1.11 uM'</dd><dt>5.0</dt><dd>'3.33 uM'</dd><dt>6.0</dt><dd>'10 uM'</dd><dt>All</dt><dd>'All'</dd></dl>\n"
      ],
      "text/latex": [
       "\\begin{description*}\n",
       "\\item[1.0] '0.04 uM'\n",
       "\\item[2.0] '0.12 uM'\n",
       "\\item[3.0] '0.37 uM'\n",
       "\\item[4.0] '1.11 uM'\n",
       "\\item[5.0] '3.33 uM'\n",
       "\\item[6.0] '10 uM'\n",
       "\\item[All] 'All'\n",
       "\\end{description*}\n"
      ],
      "text/markdown": [
       "1.0\n",
       ":   '0.04 uM'2.0\n",
       ":   '0.12 uM'3.0\n",
       ":   '0.37 uM'4.0\n",
       ":   '1.11 uM'5.0\n",
       ":   '3.33 uM'6.0\n",
       ":   '10 uM'All\n",
       ":   'All'\n",
       "\n"
      ],
      "text/plain": [
       "      1.0       2.0       3.0       4.0       5.0       6.0       All \n",
       "\"0.04 uM\" \"0.12 uM\" \"0.37 uM\" \"1.11 uM\" \"3.33 uM\"   \"10 uM\"     \"All\" "
      ]
     },
     "metadata": {},
     "output_type": "display_data"
    }
   ],
   "source": [
    "updated_dose_rename <- dose_rename\n",
    "names(updated_dose_rename) <- paste(format(round(as.integer(names(updated_dose_rename)), 1), nsmall = 1))\n",
    "updated_dose_rename <- c(updated_dose_rename, \"All\" = \"All\")\n",
    "updated_dose_rename"
   ]
  },
  {
   "cell_type": "code",
   "execution_count": 3,
   "id": "42981d31-9589-41f4-a275-468257855dae",
   "metadata": {},
   "outputs": [],
   "source": [
    "assay_update <- c(\"cell_painting\" = \"Cell Painting\", \"l1000\" = \"L1000\")"
   ]
  },
  {
   "cell_type": "markdown",
   "id": "8dafd4be-c575-4aee-981e-2dd7f8a36792",
   "metadata": {},
   "source": [
    "## Table S1 - Compound/MOA Map"
   ]
  },
  {
   "cell_type": "code",
   "execution_count": 4,
   "id": "54bd8bdb-7f9a-4d17-8bcd-e87f3755f21c",
   "metadata": {},
   "outputs": [
    {
     "name": "stdout",
     "output_type": "stream",
     "text": [
      "[1] 5574    5\n"
     ]
    },
    {
     "data": {
      "text/html": [
       "<table>\n",
       "<caption>A tibble: 6 × 5</caption>\n",
       "<thead>\n",
       "\t<tr><th scope=col>broad_id</th><th scope=col>pert_iname</th><th scope=col>dose</th><th scope=col>moa</th><th scope=col>target</th></tr>\n",
       "\t<tr><th scope=col>&lt;chr&gt;</th><th scope=col>&lt;chr&gt;</th><th scope=col>&lt;dbl&gt;</th><th scope=col>&lt;chr&gt;</th><th scope=col>&lt;chr&gt;</th></tr>\n",
       "</thead>\n",
       "<tbody>\n",
       "\t<tr><td>BRD-A29731977</td><td>17-hydroxyprogesterone-caproate</td><td>6</td><td>progesterone receptor agonist</td><td>AR|ESR1|ESR2|NR1H4|NR1I2|NR3C1|PGR</td></tr>\n",
       "\t<tr><td>BRD-A29731977</td><td>17-hydroxyprogesterone-caproate</td><td>5</td><td>progesterone receptor agonist</td><td>AR|ESR1|ESR2|NR1H4|NR1I2|NR3C1|PGR</td></tr>\n",
       "\t<tr><td>BRD-A29731977</td><td>17-hydroxyprogesterone-caproate</td><td>4</td><td>progesterone receptor agonist</td><td>AR|ESR1|ESR2|NR1H4|NR1I2|NR3C1|PGR</td></tr>\n",
       "\t<tr><td>BRD-A29731977</td><td>17-hydroxyprogesterone-caproate</td><td>3</td><td>progesterone receptor agonist</td><td>AR|ESR1|ESR2|NR1H4|NR1I2|NR3C1|PGR</td></tr>\n",
       "\t<tr><td>BRD-A29731977</td><td>17-hydroxyprogesterone-caproate</td><td>2</td><td>progesterone receptor agonist</td><td>AR|ESR1|ESR2|NR1H4|NR1I2|NR3C1|PGR</td></tr>\n",
       "\t<tr><td>BRD-A29731977</td><td>17-hydroxyprogesterone-caproate</td><td>1</td><td>progesterone receptor agonist</td><td>AR|ESR1|ESR2|NR1H4|NR1I2|NR3C1|PGR</td></tr>\n",
       "</tbody>\n",
       "</table>\n"
      ],
      "text/latex": [
       "A tibble: 6 × 5\n",
       "\\begin{tabular}{lllll}\n",
       " broad\\_id & pert\\_iname & dose & moa & target\\\\\n",
       " <chr> & <chr> & <dbl> & <chr> & <chr>\\\\\n",
       "\\hline\n",
       "\t BRD-A29731977 & 17-hydroxyprogesterone-caproate & 6 & progesterone receptor agonist & AR\\textbar{}ESR1\\textbar{}ESR2\\textbar{}NR1H4\\textbar{}NR1I2\\textbar{}NR3C1\\textbar{}PGR\\\\\n",
       "\t BRD-A29731977 & 17-hydroxyprogesterone-caproate & 5 & progesterone receptor agonist & AR\\textbar{}ESR1\\textbar{}ESR2\\textbar{}NR1H4\\textbar{}NR1I2\\textbar{}NR3C1\\textbar{}PGR\\\\\n",
       "\t BRD-A29731977 & 17-hydroxyprogesterone-caproate & 4 & progesterone receptor agonist & AR\\textbar{}ESR1\\textbar{}ESR2\\textbar{}NR1H4\\textbar{}NR1I2\\textbar{}NR3C1\\textbar{}PGR\\\\\n",
       "\t BRD-A29731977 & 17-hydroxyprogesterone-caproate & 3 & progesterone receptor agonist & AR\\textbar{}ESR1\\textbar{}ESR2\\textbar{}NR1H4\\textbar{}NR1I2\\textbar{}NR3C1\\textbar{}PGR\\\\\n",
       "\t BRD-A29731977 & 17-hydroxyprogesterone-caproate & 2 & progesterone receptor agonist & AR\\textbar{}ESR1\\textbar{}ESR2\\textbar{}NR1H4\\textbar{}NR1I2\\textbar{}NR3C1\\textbar{}PGR\\\\\n",
       "\t BRD-A29731977 & 17-hydroxyprogesterone-caproate & 1 & progesterone receptor agonist & AR\\textbar{}ESR1\\textbar{}ESR2\\textbar{}NR1H4\\textbar{}NR1I2\\textbar{}NR3C1\\textbar{}PGR\\\\\n",
       "\\end{tabular}\n"
      ],
      "text/markdown": [
       "\n",
       "A tibble: 6 × 5\n",
       "\n",
       "| broad_id &lt;chr&gt; | pert_iname &lt;chr&gt; | dose &lt;dbl&gt; | moa &lt;chr&gt; | target &lt;chr&gt; |\n",
       "|---|---|---|---|---|\n",
       "| BRD-A29731977 | 17-hydroxyprogesterone-caproate | 6 | progesterone receptor agonist | AR|ESR1|ESR2|NR1H4|NR1I2|NR3C1|PGR |\n",
       "| BRD-A29731977 | 17-hydroxyprogesterone-caproate | 5 | progesterone receptor agonist | AR|ESR1|ESR2|NR1H4|NR1I2|NR3C1|PGR |\n",
       "| BRD-A29731977 | 17-hydroxyprogesterone-caproate | 4 | progesterone receptor agonist | AR|ESR1|ESR2|NR1H4|NR1I2|NR3C1|PGR |\n",
       "| BRD-A29731977 | 17-hydroxyprogesterone-caproate | 3 | progesterone receptor agonist | AR|ESR1|ESR2|NR1H4|NR1I2|NR3C1|PGR |\n",
       "| BRD-A29731977 | 17-hydroxyprogesterone-caproate | 2 | progesterone receptor agonist | AR|ESR1|ESR2|NR1H4|NR1I2|NR3C1|PGR |\n",
       "| BRD-A29731977 | 17-hydroxyprogesterone-caproate | 1 | progesterone receptor agonist | AR|ESR1|ESR2|NR1H4|NR1I2|NR3C1|PGR |\n",
       "\n"
      ],
      "text/plain": [
       "  broad_id      pert_iname                      dose\n",
       "1 BRD-A29731977 17-hydroxyprogesterone-caproate 6   \n",
       "2 BRD-A29731977 17-hydroxyprogesterone-caproate 5   \n",
       "3 BRD-A29731977 17-hydroxyprogesterone-caproate 4   \n",
       "4 BRD-A29731977 17-hydroxyprogesterone-caproate 3   \n",
       "5 BRD-A29731977 17-hydroxyprogesterone-caproate 2   \n",
       "6 BRD-A29731977 17-hydroxyprogesterone-caproate 1   \n",
       "  moa                           target                            \n",
       "1 progesterone receptor agonist AR|ESR1|ESR2|NR1H4|NR1I2|NR3C1|PGR\n",
       "2 progesterone receptor agonist AR|ESR1|ESR2|NR1H4|NR1I2|NR3C1|PGR\n",
       "3 progesterone receptor agonist AR|ESR1|ESR2|NR1H4|NR1I2|NR3C1|PGR\n",
       "4 progesterone receptor agonist AR|ESR1|ESR2|NR1H4|NR1I2|NR3C1|PGR\n",
       "5 progesterone receptor agonist AR|ESR1|ESR2|NR1H4|NR1I2|NR3C1|PGR\n",
       "6 progesterone receptor agonist AR|ESR1|ESR2|NR1H4|NR1I2|NR3C1|PGR"
      ]
     },
     "metadata": {},
     "output_type": "display_data"
    }
   ],
   "source": [
    "# Load compound to moa map\n",
    "file <- file.path(\n",
    "    \"..\",\n",
    "    \"1.Data-exploration\",\n",
    "    \"Consensus\",\n",
    "    \"cell_painting\",\n",
    "    \"moa_sizes_consensus_datasets\",\n",
    "    \"cell_painting_moa_analytical_set_profiles.tsv.gz\"\n",
    ")\n",
    "\n",
    "df_cols <- readr::cols(\n",
    "  .default = readr::col_double(),\n",
    "  Metadata_Plate_Map_Name = readr::col_character(),\n",
    "  Metadata_cell_id = readr::col_character(),\n",
    "  Metadata_broad_sample = readr::col_character(),\n",
    "  Metadata_pert_well = readr::col_character(),\n",
    "  Metadata_time_point = readr::col_character(),\n",
    "  Metadata_moa = readr::col_character(),\n",
    "  Metadata_target = readr::col_character(),\n",
    "  broad_id = readr::col_character(),\n",
    "  pert_iname = readr::col_character(),\n",
    "  moa = readr::col_character()\n",
    ")\n",
    "\n",
    "cp_df <- readr::read_tsv(file, col_types = df_cols) %>%\n",
    "    dplyr::select(broad_id, pert_iname, Metadata_dose_recode, moa, Metadata_target) %>%\n",
    "    dplyr::distinct() %>%\n",
    "    dplyr::arrange(pert_iname) %>%\n",
    "    dplyr::rename(target = Metadata_target, dose = Metadata_dose_recode)\n",
    "\n",
    "cp_df$pert_iname <- tolower(cp_df$pert_iname)\n",
    "cp_df$moa <- tolower(cp_df$moa)\n",
    "\n",
    "print(dim(cp_df))\n",
    "head(cp_df)"
   ]
  },
  {
   "cell_type": "code",
   "execution_count": 5,
   "id": "13632ac8-f2c9-4e31-9b7d-c595c134edff",
   "metadata": {},
   "outputs": [
    {
     "name": "stdout",
     "output_type": "stream",
     "text": [
      "[1] 5754    5\n"
     ]
    },
    {
     "data": {
      "text/html": [
       "<table>\n",
       "<caption>A tibble: 6 × 5</caption>\n",
       "<thead>\n",
       "\t<tr><th scope=col>broad_id</th><th scope=col>pert_iname</th><th scope=col>dose</th><th scope=col>moa</th><th scope=col>target</th></tr>\n",
       "\t<tr><th scope=col>&lt;chr&gt;</th><th scope=col>&lt;chr&gt;</th><th scope=col>&lt;dbl&gt;</th><th scope=col>&lt;chr&gt;</th><th scope=col>&lt;chr&gt;</th></tr>\n",
       "</thead>\n",
       "<tbody>\n",
       "\t<tr><td>BRD-K25114078</td><td>aminoguanidine</td><td>6</td><td>nitric oxide synthase inhibitor</td><td>AKR1B1|NOS2|TIMP3</td></tr>\n",
       "\t<tr><td>BRD-K25114078</td><td>aminoguanidine</td><td>5</td><td>nitric oxide synthase inhibitor</td><td>AKR1B1|NOS2|TIMP3</td></tr>\n",
       "\t<tr><td>BRD-K25114078</td><td>aminoguanidine</td><td>4</td><td>nitric oxide synthase inhibitor</td><td>AKR1B1|NOS2|TIMP3</td></tr>\n",
       "\t<tr><td>BRD-K25114078</td><td>aminoguanidine</td><td>3</td><td>nitric oxide synthase inhibitor</td><td>AKR1B1|NOS2|TIMP3</td></tr>\n",
       "\t<tr><td>BRD-K25114078</td><td>aminoguanidine</td><td>2</td><td>nitric oxide synthase inhibitor</td><td>AKR1B1|NOS2|TIMP3</td></tr>\n",
       "\t<tr><td>BRD-K25114078</td><td>aminoguanidine</td><td>1</td><td>nitric oxide synthase inhibitor</td><td>AKR1B1|NOS2|TIMP3</td></tr>\n",
       "</tbody>\n",
       "</table>\n"
      ],
      "text/latex": [
       "A tibble: 6 × 5\n",
       "\\begin{tabular}{lllll}\n",
       " broad\\_id & pert\\_iname & dose & moa & target\\\\\n",
       " <chr> & <chr> & <dbl> & <chr> & <chr>\\\\\n",
       "\\hline\n",
       "\t BRD-K25114078 & aminoguanidine & 6 & nitric oxide synthase inhibitor & AKR1B1\\textbar{}NOS2\\textbar{}TIMP3\\\\\n",
       "\t BRD-K25114078 & aminoguanidine & 5 & nitric oxide synthase inhibitor & AKR1B1\\textbar{}NOS2\\textbar{}TIMP3\\\\\n",
       "\t BRD-K25114078 & aminoguanidine & 4 & nitric oxide synthase inhibitor & AKR1B1\\textbar{}NOS2\\textbar{}TIMP3\\\\\n",
       "\t BRD-K25114078 & aminoguanidine & 3 & nitric oxide synthase inhibitor & AKR1B1\\textbar{}NOS2\\textbar{}TIMP3\\\\\n",
       "\t BRD-K25114078 & aminoguanidine & 2 & nitric oxide synthase inhibitor & AKR1B1\\textbar{}NOS2\\textbar{}TIMP3\\\\\n",
       "\t BRD-K25114078 & aminoguanidine & 1 & nitric oxide synthase inhibitor & AKR1B1\\textbar{}NOS2\\textbar{}TIMP3\\\\\n",
       "\\end{tabular}\n"
      ],
      "text/markdown": [
       "\n",
       "A tibble: 6 × 5\n",
       "\n",
       "| broad_id &lt;chr&gt; | pert_iname &lt;chr&gt; | dose &lt;dbl&gt; | moa &lt;chr&gt; | target &lt;chr&gt; |\n",
       "|---|---|---|---|---|\n",
       "| BRD-K25114078 | aminoguanidine | 6 | nitric oxide synthase inhibitor | AKR1B1|NOS2|TIMP3 |\n",
       "| BRD-K25114078 | aminoguanidine | 5 | nitric oxide synthase inhibitor | AKR1B1|NOS2|TIMP3 |\n",
       "| BRD-K25114078 | aminoguanidine | 4 | nitric oxide synthase inhibitor | AKR1B1|NOS2|TIMP3 |\n",
       "| BRD-K25114078 | aminoguanidine | 3 | nitric oxide synthase inhibitor | AKR1B1|NOS2|TIMP3 |\n",
       "| BRD-K25114078 | aminoguanidine | 2 | nitric oxide synthase inhibitor | AKR1B1|NOS2|TIMP3 |\n",
       "| BRD-K25114078 | aminoguanidine | 1 | nitric oxide synthase inhibitor | AKR1B1|NOS2|TIMP3 |\n",
       "\n"
      ],
      "text/plain": [
       "  broad_id      pert_iname     dose moa                            \n",
       "1 BRD-K25114078 aminoguanidine 6    nitric oxide synthase inhibitor\n",
       "2 BRD-K25114078 aminoguanidine 5    nitric oxide synthase inhibitor\n",
       "3 BRD-K25114078 aminoguanidine 4    nitric oxide synthase inhibitor\n",
       "4 BRD-K25114078 aminoguanidine 3    nitric oxide synthase inhibitor\n",
       "5 BRD-K25114078 aminoguanidine 2    nitric oxide synthase inhibitor\n",
       "6 BRD-K25114078 aminoguanidine 1    nitric oxide synthase inhibitor\n",
       "  target           \n",
       "1 AKR1B1|NOS2|TIMP3\n",
       "2 AKR1B1|NOS2|TIMP3\n",
       "3 AKR1B1|NOS2|TIMP3\n",
       "4 AKR1B1|NOS2|TIMP3\n",
       "5 AKR1B1|NOS2|TIMP3\n",
       "6 AKR1B1|NOS2|TIMP3"
      ]
     },
     "metadata": {},
     "output_type": "display_data"
    }
   ],
   "source": [
    "# Load compound to moa map\n",
    "file <- file.path(\n",
    "    \"..\",\n",
    "    \"1.Data-exploration\",\n",
    "    \"Consensus\",\n",
    "    \"L1000\",\n",
    "    \"moa_sizes_consensus_datasets\",\n",
    "    \"L1000_moa_analytical_set_profiles.tsv.gz\"\n",
    ")\n",
    "\n",
    "df_cols <- readr::cols(\n",
    "  .default = readr::col_double(),\n",
    "  sig_id = readr::col_character(),\n",
    "  pert_id = readr::col_character(),\n",
    "  pert_idose = readr::col_character(),\n",
    "  pert_iname = readr::col_character(),\n",
    "  moa = readr::col_character()\n",
    ")\n",
    "\n",
    "l1000_df <- readr::read_tsv(file, col_types = df_cols) %>%\n",
    "    dplyr::full_join(\n",
    "        cp_df,\n",
    "        by = c(\n",
    "            \"pert_id\" = \"broad_id\",\n",
    "            \"pert_iname\" = \"pert_iname\",\n",
    "            \"moa\" = \"moa\",\n",
    "            \"dose\" = \"dose\"\n",
    "        )\n",
    "    ) %>%\n",
    "    dplyr::select(pert_id, pert_iname, dose, moa, target) %>%\n",
    "    dplyr::distinct() %>%\n",
    "    dplyr::rename(broad_id = pert_id)\n",
    "\n",
    "l1000_df$pert_iname <- tolower(l1000_df$pert_iname)\n",
    "l1000_df$moa <- tolower(l1000_df$moa)\n",
    "\n",
    "print(dim(l1000_df))\n",
    "head(l1000_df)"
   ]
  },
  {
   "cell_type": "code",
   "execution_count": 6,
   "id": "f5c4d5bd-c999-4077-a5b7-56d04418e8bf",
   "metadata": {},
   "outputs": [
    {
     "name": "stdout",
     "output_type": "stream",
     "text": [
      "[1] 5754    5\n"
     ]
    },
    {
     "data": {
      "text/html": [
       "<table>\n",
       "<caption>A tibble: 7 × 5</caption>\n",
       "<thead>\n",
       "\t<tr><th scope=col>broad_id</th><th scope=col>pert_iname</th><th scope=col>dose</th><th scope=col>moa</th><th scope=col>target</th></tr>\n",
       "\t<tr><th scope=col>&lt;chr&gt;</th><th scope=col>&lt;chr&gt;</th><th scope=col>&lt;fct&gt;</th><th scope=col>&lt;chr&gt;</th><th scope=col>&lt;chr&gt;</th></tr>\n",
       "</thead>\n",
       "<tbody>\n",
       "\t<tr><td>BRD-A29731977</td><td>17-hydroxyprogesterone-caproate</td><td>0.04 uM</td><td>progesterone receptor agonist  </td><td>AR|ESR1|ESR2|NR1H4|NR1I2|NR3C1|PGR</td></tr>\n",
       "\t<tr><td>BRD-A29731977</td><td>17-hydroxyprogesterone-caproate</td><td>0.12 uM</td><td>progesterone receptor agonist  </td><td>AR|ESR1|ESR2|NR1H4|NR1I2|NR3C1|PGR</td></tr>\n",
       "\t<tr><td>BRD-A29731977</td><td>17-hydroxyprogesterone-caproate</td><td>0.37 uM</td><td>progesterone receptor agonist  </td><td>AR|ESR1|ESR2|NR1H4|NR1I2|NR3C1|PGR</td></tr>\n",
       "\t<tr><td>BRD-A29731977</td><td>17-hydroxyprogesterone-caproate</td><td>1.11 uM</td><td>progesterone receptor agonist  </td><td>AR|ESR1|ESR2|NR1H4|NR1I2|NR3C1|PGR</td></tr>\n",
       "\t<tr><td>BRD-A29731977</td><td>17-hydroxyprogesterone-caproate</td><td>3.33 uM</td><td>progesterone receptor agonist  </td><td>AR|ESR1|ESR2|NR1H4|NR1I2|NR3C1|PGR</td></tr>\n",
       "\t<tr><td>BRD-A29731977</td><td>17-hydroxyprogesterone-caproate</td><td>10 uM  </td><td>progesterone receptor agonist  </td><td>AR|ESR1|ESR2|NR1H4|NR1I2|NR3C1|PGR</td></tr>\n",
       "\t<tr><td>BRD-K07954936</td><td>2-iminobiotin                  </td><td>0.04 uM</td><td>nitric oxide synthase inhibitor</td><td>NOS1|NOS2                         </td></tr>\n",
       "</tbody>\n",
       "</table>\n"
      ],
      "text/latex": [
       "A tibble: 7 × 5\n",
       "\\begin{tabular}{lllll}\n",
       " broad\\_id & pert\\_iname & dose & moa & target\\\\\n",
       " <chr> & <chr> & <fct> & <chr> & <chr>\\\\\n",
       "\\hline\n",
       "\t BRD-A29731977 & 17-hydroxyprogesterone-caproate & 0.04 uM & progesterone receptor agonist   & AR\\textbar{}ESR1\\textbar{}ESR2\\textbar{}NR1H4\\textbar{}NR1I2\\textbar{}NR3C1\\textbar{}PGR\\\\\n",
       "\t BRD-A29731977 & 17-hydroxyprogesterone-caproate & 0.12 uM & progesterone receptor agonist   & AR\\textbar{}ESR1\\textbar{}ESR2\\textbar{}NR1H4\\textbar{}NR1I2\\textbar{}NR3C1\\textbar{}PGR\\\\\n",
       "\t BRD-A29731977 & 17-hydroxyprogesterone-caproate & 0.37 uM & progesterone receptor agonist   & AR\\textbar{}ESR1\\textbar{}ESR2\\textbar{}NR1H4\\textbar{}NR1I2\\textbar{}NR3C1\\textbar{}PGR\\\\\n",
       "\t BRD-A29731977 & 17-hydroxyprogesterone-caproate & 1.11 uM & progesterone receptor agonist   & AR\\textbar{}ESR1\\textbar{}ESR2\\textbar{}NR1H4\\textbar{}NR1I2\\textbar{}NR3C1\\textbar{}PGR\\\\\n",
       "\t BRD-A29731977 & 17-hydroxyprogesterone-caproate & 3.33 uM & progesterone receptor agonist   & AR\\textbar{}ESR1\\textbar{}ESR2\\textbar{}NR1H4\\textbar{}NR1I2\\textbar{}NR3C1\\textbar{}PGR\\\\\n",
       "\t BRD-A29731977 & 17-hydroxyprogesterone-caproate & 10 uM   & progesterone receptor agonist   & AR\\textbar{}ESR1\\textbar{}ESR2\\textbar{}NR1H4\\textbar{}NR1I2\\textbar{}NR3C1\\textbar{}PGR\\\\\n",
       "\t BRD-K07954936 & 2-iminobiotin                   & 0.04 uM & nitric oxide synthase inhibitor & NOS1\\textbar{}NOS2                         \\\\\n",
       "\\end{tabular}\n"
      ],
      "text/markdown": [
       "\n",
       "A tibble: 7 × 5\n",
       "\n",
       "| broad_id &lt;chr&gt; | pert_iname &lt;chr&gt; | dose &lt;fct&gt; | moa &lt;chr&gt; | target &lt;chr&gt; |\n",
       "|---|---|---|---|---|\n",
       "| BRD-A29731977 | 17-hydroxyprogesterone-caproate | 0.04 uM | progesterone receptor agonist   | AR|ESR1|ESR2|NR1H4|NR1I2|NR3C1|PGR |\n",
       "| BRD-A29731977 | 17-hydroxyprogesterone-caproate | 0.12 uM | progesterone receptor agonist   | AR|ESR1|ESR2|NR1H4|NR1I2|NR3C1|PGR |\n",
       "| BRD-A29731977 | 17-hydroxyprogesterone-caproate | 0.37 uM | progesterone receptor agonist   | AR|ESR1|ESR2|NR1H4|NR1I2|NR3C1|PGR |\n",
       "| BRD-A29731977 | 17-hydroxyprogesterone-caproate | 1.11 uM | progesterone receptor agonist   | AR|ESR1|ESR2|NR1H4|NR1I2|NR3C1|PGR |\n",
       "| BRD-A29731977 | 17-hydroxyprogesterone-caproate | 3.33 uM | progesterone receptor agonist   | AR|ESR1|ESR2|NR1H4|NR1I2|NR3C1|PGR |\n",
       "| BRD-A29731977 | 17-hydroxyprogesterone-caproate | 10 uM   | progesterone receptor agonist   | AR|ESR1|ESR2|NR1H4|NR1I2|NR3C1|PGR |\n",
       "| BRD-K07954936 | 2-iminobiotin                   | 0.04 uM | nitric oxide synthase inhibitor | NOS1|NOS2                          |\n",
       "\n"
      ],
      "text/plain": [
       "  broad_id      pert_iname                      dose   \n",
       "1 BRD-A29731977 17-hydroxyprogesterone-caproate 0.04 uM\n",
       "2 BRD-A29731977 17-hydroxyprogesterone-caproate 0.12 uM\n",
       "3 BRD-A29731977 17-hydroxyprogesterone-caproate 0.37 uM\n",
       "4 BRD-A29731977 17-hydroxyprogesterone-caproate 1.11 uM\n",
       "5 BRD-A29731977 17-hydroxyprogesterone-caproate 3.33 uM\n",
       "6 BRD-A29731977 17-hydroxyprogesterone-caproate 10 uM  \n",
       "7 BRD-K07954936 2-iminobiotin                   0.04 uM\n",
       "  moa                             target                            \n",
       "1 progesterone receptor agonist   AR|ESR1|ESR2|NR1H4|NR1I2|NR3C1|PGR\n",
       "2 progesterone receptor agonist   AR|ESR1|ESR2|NR1H4|NR1I2|NR3C1|PGR\n",
       "3 progesterone receptor agonist   AR|ESR1|ESR2|NR1H4|NR1I2|NR3C1|PGR\n",
       "4 progesterone receptor agonist   AR|ESR1|ESR2|NR1H4|NR1I2|NR3C1|PGR\n",
       "5 progesterone receptor agonist   AR|ESR1|ESR2|NR1H4|NR1I2|NR3C1|PGR\n",
       "6 progesterone receptor agonist   AR|ESR1|ESR2|NR1H4|NR1I2|NR3C1|PGR\n",
       "7 nitric oxide synthase inhibitor NOS1|NOS2                         "
      ]
     },
     "metadata": {},
     "output_type": "display_data"
    }
   ],
   "source": [
    "map_df <- dplyr::bind_rows(cp_df, l1000_df) %>%\n",
    "    dplyr::distinct()\n",
    "\n",
    "map_df$dose <- dplyr::recode_factor(map_df$dose, !!!dose_rename)\n",
    "\n",
    "map_df <- map_df %>%\n",
    "    dplyr::arrange(pert_iname, dose)\n",
    "\n",
    "# This is Supplementary Table 4\n",
    "output_file <- file.path(\"results\", \"tableS1_compound_to_moa_target_map.tsv\")\n",
    "map_df %>% readr::write_tsv(output_file)\n",
    "\n",
    "print(dim(map_df))\n",
    "head(map_df, 7)"
   ]
  },
  {
   "cell_type": "markdown",
   "id": "ae6c9de7-339d-4ece-b400-38396dc22bc7",
   "metadata": {},
   "source": [
    "## Table S2 - per compound median pairwise correlations "
   ]
  },
  {
   "cell_type": "code",
   "execution_count": 7,
   "id": "88ec5570-cd02-4285-a4e4-c5de0c64bd54",
   "metadata": {},
   "outputs": [
    {
     "name": "stdout",
     "output_type": "stream",
     "text": [
      "[1] 15138     7\n"
     ]
    },
    {
     "data": {
      "text/html": [
       "<table>\n",
       "<caption>A tibble: 3 × 7</caption>\n",
       "<thead>\n",
       "\t<tr><th scope=col>compound</th><th scope=col>dose</th><th scope=col>no_of_replicates_per_compound</th><th scope=col>well</th><th scope=col>median_replicate_correlation</th><th scope=col>p_value</th><th scope=col>assay</th></tr>\n",
       "\t<tr><th scope=col>&lt;chr&gt;</th><th scope=col>&lt;chr&gt;</th><th scope=col>&lt;dbl&gt;</th><th scope=col>&lt;chr&gt;</th><th scope=col>&lt;dbl&gt;</th><th scope=col>&lt;dbl&gt;</th><th scope=col>&lt;chr&gt;</th></tr>\n",
       "</thead>\n",
       "<tbody>\n",
       "\t<tr><td>17-hydroxyprogesterone-caproate</td><td>0.04 uM</td><td>5</td><td>N18</td><td>0.05455739</td><td>0.009</td><td>Cell Painting</td></tr>\n",
       "\t<tr><td>2-iminobiotin                  </td><td>0.04 uM</td><td>5</td><td>B12</td><td>0.05379096</td><td>0.004</td><td>Cell Painting</td></tr>\n",
       "\t<tr><td>3-amino-benzamide              </td><td>0.04 uM</td><td>5</td><td>D24</td><td>0.11193277</td><td>0.001</td><td>Cell Painting</td></tr>\n",
       "</tbody>\n",
       "</table>\n"
      ],
      "text/latex": [
       "A tibble: 3 × 7\n",
       "\\begin{tabular}{lllllll}\n",
       " compound & dose & no\\_of\\_replicates\\_per\\_compound & well & median\\_replicate\\_correlation & p\\_value & assay\\\\\n",
       " <chr> & <chr> & <dbl> & <chr> & <dbl> & <dbl> & <chr>\\\\\n",
       "\\hline\n",
       "\t 17-hydroxyprogesterone-caproate & 0.04 uM & 5 & N18 & 0.05455739 & 0.009 & Cell Painting\\\\\n",
       "\t 2-iminobiotin                   & 0.04 uM & 5 & B12 & 0.05379096 & 0.004 & Cell Painting\\\\\n",
       "\t 3-amino-benzamide               & 0.04 uM & 5 & D24 & 0.11193277 & 0.001 & Cell Painting\\\\\n",
       "\\end{tabular}\n"
      ],
      "text/markdown": [
       "\n",
       "A tibble: 3 × 7\n",
       "\n",
       "| compound &lt;chr&gt; | dose &lt;chr&gt; | no_of_replicates_per_compound &lt;dbl&gt; | well &lt;chr&gt; | median_replicate_correlation &lt;dbl&gt; | p_value &lt;dbl&gt; | assay &lt;chr&gt; |\n",
       "|---|---|---|---|---|---|---|\n",
       "| 17-hydroxyprogesterone-caproate | 0.04 uM | 5 | N18 | 0.05455739 | 0.009 | Cell Painting |\n",
       "| 2-iminobiotin                   | 0.04 uM | 5 | B12 | 0.05379096 | 0.004 | Cell Painting |\n",
       "| 3-amino-benzamide               | 0.04 uM | 5 | D24 | 0.11193277 | 0.001 | Cell Painting |\n",
       "\n"
      ],
      "text/plain": [
       "  compound                        dose    no_of_replicates_per_compound well\n",
       "1 17-hydroxyprogesterone-caproate 0.04 uM 5                             N18 \n",
       "2 2-iminobiotin                   0.04 uM 5                             B12 \n",
       "3 3-amino-benzamide               0.04 uM 5                             D24 \n",
       "  median_replicate_correlation p_value assay        \n",
       "1 0.05455739                   0.009   Cell Painting\n",
       "2 0.05379096                   0.004   Cell Painting\n",
       "3 0.11193277                   0.001   Cell Painting"
      ]
     },
     "metadata": {},
     "output_type": "display_data"
    }
   ],
   "source": [
    "# Load median pairwise Spearman correlations\n",
    "compound_cols <- readr::cols(\n",
    "  compound = readr::col_character(),\n",
    "  no_of_compounds = readr::col_double(),\n",
    "  well = readr::col_character(),\n",
    "  dose_recode = readr::col_double(),\n",
    "  median_score = readr::col_double(),\n",
    "  p_value = readr::col_double(),\n",
    "  assay = readr::col_character(),\n",
    "  normalization = readr::col_character(),\n",
    "  category = readr::col_character(),\n",
    "  pass_thresh = readr::col_logical(),\n",
    "  neg_log_10_p_val = readr::col_double(),\n",
    "  dose = readr::col_character()\n",
    ")\n",
    "\n",
    "# This is Supplementary Table 1\n",
    "compound_df <- readr::read_tsv(file.path(\"results\", \"compound_scores.tsv\"), col_types = compound_cols) %>%\n",
    "    dplyr::select(compound, dose, no_of_compounds, well, median_score, p_value, assay) %>%\n",
    "    dplyr::rename(\n",
    "        no_of_replicates_per_compound = no_of_compounds,\n",
    "        median_replicate_correlation = median_score\n",
    "    )\n",
    "\n",
    "# Output sup table 1\n",
    "output_file <- file.path(\"results\", \"tableS2_compound_percent_replicating.tsv\")\n",
    "compound_df %>% readr::write_tsv(output_file)\n",
    "\n",
    "print(dim(compound_df))\n",
    "head(compound_df, 3)"
   ]
  },
  {
   "cell_type": "markdown",
   "id": "532f7a26-b243-4985-8679-a1274ea9ee28",
   "metadata": {},
   "source": [
    "## Table S3 - Overrepresentation Analysis"
   ]
  },
  {
   "cell_type": "code",
   "execution_count": 8,
   "id": "a51c7481-e894-43dc-a1c7-c63bd1d6d831",
   "metadata": {},
   "outputs": [
    {
     "name": "stdout",
     "output_type": "stream",
     "text": [
      "[1] 80 16\n"
     ]
    },
    {
     "data": {
      "text/html": [
       "<table>\n",
       "<caption>A tibble: 3 × 16</caption>\n",
       "<thead>\n",
       "\t<tr><th scope=col>geneSet</th><th scope=col>description</th><th scope=col>link</th><th scope=col>size</th><th scope=col>overlap</th><th scope=col>expect</th><th scope=col>enrichmentRatio</th><th scope=col>pValue</th><th scope=col>FDR</th><th scope=col>overlapId</th><th scope=col>database</th><th scope=col>userId</th><th scope=col>compound</th><th scope=col>broad_id</th><th scope=col>moa</th><th scope=col>target</th></tr>\n",
       "\t<tr><th scope=col>&lt;chr&gt;</th><th scope=col>&lt;chr&gt;</th><th scope=col>&lt;chr&gt;</th><th scope=col>&lt;dbl&gt;</th><th scope=col>&lt;dbl&gt;</th><th scope=col>&lt;dbl&gt;</th><th scope=col>&lt;dbl&gt;</th><th scope=col>&lt;dbl&gt;</th><th scope=col>&lt;dbl&gt;</th><th scope=col>&lt;chr&gt;</th><th scope=col>&lt;chr&gt;</th><th scope=col>&lt;chr&gt;</th><th scope=col>&lt;chr&gt;</th><th scope=col>&lt;chr&gt;</th><th scope=col>&lt;chr&gt;</th><th scope=col>&lt;chr&gt;</th></tr>\n",
       "</thead>\n",
       "<tbody>\n",
       "\t<tr><td>GO:0003824</td><td>catalytic activity                      </td><td>http://amigo.geneontology.org/amigo/term/GO:0003824</td><td>448</td><td>22</td><td>13.9249732</td><td>1.579895</td><td>0.001851467</td><td>1</td><td>329;998;1017;1026;1643;1738;1983;2778;3162;5255;5603;8318;9133;10038;10730;23139;23536;27244;55008;55256;55699;60493</td><td>geneontology_Molecular_Function</td><td>PHKA1;MAST2;SESN1;CDK2;IARS2;CDKN1A;MAPK13;DLD;CDC42;HMOX1;ADAT1;BIRC2;HERC6;CDC45;ADI1;YME1L1;FASTKD5;GNAS;CCNB2;EIF5;DDB2;PARP2</td><td>alisertib</td><td>BRD-K75295174</td><td>aurora kinase inhibitor</td><td>AURKA</td></tr>\n",
       "\t<tr><td>GO:0004674</td><td>protein serine/threonine kinase activity</td><td>http://amigo.geneontology.org/amigo/term/GO:0004674</td><td> 68</td><td> 7</td><td> 2.1136120</td><td>3.311866</td><td>0.003438725</td><td>1</td><td>998;1017;1026;5255;5603;9133;23139                                                                                  </td><td>geneontology_Molecular_Function</td><td>PHKA1;MAST2;CDK2;CDKN1A;MAPK13;CDC42;CCNB2                                                                                       </td><td>alisertib</td><td>BRD-K75295174</td><td>aurora kinase inhibitor</td><td>AURKA</td></tr>\n",
       "\t<tr><td>GO:1902554</td><td>serine/threonine protein kinase complex </td><td>http://amigo.geneontology.org/amigo/term/GO:1902554</td><td> 23</td><td> 4</td><td> 0.7148982</td><td>5.595202</td><td>0.004434779</td><td>1</td><td>1017;1026;5255;9133                                                                                                 </td><td>geneontology_Cellular_Component</td><td>PHKA1;CDK2;CDKN1A;CCNB2                                                                                                          </td><td>alisertib</td><td>BRD-K75295174</td><td>aurora kinase inhibitor</td><td>AURKA</td></tr>\n",
       "</tbody>\n",
       "</table>\n"
      ],
      "text/latex": [
       "A tibble: 3 × 16\n",
       "\\begin{tabular}{llllllllllllllll}\n",
       " geneSet & description & link & size & overlap & expect & enrichmentRatio & pValue & FDR & overlapId & database & userId & compound & broad\\_id & moa & target\\\\\n",
       " <chr> & <chr> & <chr> & <dbl> & <dbl> & <dbl> & <dbl> & <dbl> & <dbl> & <chr> & <chr> & <chr> & <chr> & <chr> & <chr> & <chr>\\\\\n",
       "\\hline\n",
       "\t GO:0003824 & catalytic activity                       & http://amigo.geneontology.org/amigo/term/GO:0003824 & 448 & 22 & 13.9249732 & 1.579895 & 0.001851467 & 1 & 329;998;1017;1026;1643;1738;1983;2778;3162;5255;5603;8318;9133;10038;10730;23139;23536;27244;55008;55256;55699;60493 & geneontology\\_Molecular\\_Function & PHKA1;MAST2;SESN1;CDK2;IARS2;CDKN1A;MAPK13;DLD;CDC42;HMOX1;ADAT1;BIRC2;HERC6;CDC45;ADI1;YME1L1;FASTKD5;GNAS;CCNB2;EIF5;DDB2;PARP2 & alisertib & BRD-K75295174 & aurora kinase inhibitor & AURKA\\\\\n",
       "\t GO:0004674 & protein serine/threonine kinase activity & http://amigo.geneontology.org/amigo/term/GO:0004674 &  68 &  7 &  2.1136120 & 3.311866 & 0.003438725 & 1 & 998;1017;1026;5255;5603;9133;23139                                                                                   & geneontology\\_Molecular\\_Function & PHKA1;MAST2;CDK2;CDKN1A;MAPK13;CDC42;CCNB2                                                                                        & alisertib & BRD-K75295174 & aurora kinase inhibitor & AURKA\\\\\n",
       "\t GO:1902554 & serine/threonine protein kinase complex  & http://amigo.geneontology.org/amigo/term/GO:1902554 &  23 &  4 &  0.7148982 & 5.595202 & 0.004434779 & 1 & 1017;1026;5255;9133                                                                                                  & geneontology\\_Cellular\\_Component & PHKA1;CDK2;CDKN1A;CCNB2                                                                                                           & alisertib & BRD-K75295174 & aurora kinase inhibitor & AURKA\\\\\n",
       "\\end{tabular}\n"
      ],
      "text/markdown": [
       "\n",
       "A tibble: 3 × 16\n",
       "\n",
       "| geneSet &lt;chr&gt; | description &lt;chr&gt; | link &lt;chr&gt; | size &lt;dbl&gt; | overlap &lt;dbl&gt; | expect &lt;dbl&gt; | enrichmentRatio &lt;dbl&gt; | pValue &lt;dbl&gt; | FDR &lt;dbl&gt; | overlapId &lt;chr&gt; | database &lt;chr&gt; | userId &lt;chr&gt; | compound &lt;chr&gt; | broad_id &lt;chr&gt; | moa &lt;chr&gt; | target &lt;chr&gt; |\n",
       "|---|---|---|---|---|---|---|---|---|---|---|---|---|---|---|---|\n",
       "| GO:0003824 | catalytic activity                       | http://amigo.geneontology.org/amigo/term/GO:0003824 | 448 | 22 | 13.9249732 | 1.579895 | 0.001851467 | 1 | 329;998;1017;1026;1643;1738;1983;2778;3162;5255;5603;8318;9133;10038;10730;23139;23536;27244;55008;55256;55699;60493 | geneontology_Molecular_Function | PHKA1;MAST2;SESN1;CDK2;IARS2;CDKN1A;MAPK13;DLD;CDC42;HMOX1;ADAT1;BIRC2;HERC6;CDC45;ADI1;YME1L1;FASTKD5;GNAS;CCNB2;EIF5;DDB2;PARP2 | alisertib | BRD-K75295174 | aurora kinase inhibitor | AURKA |\n",
       "| GO:0004674 | protein serine/threonine kinase activity | http://amigo.geneontology.org/amigo/term/GO:0004674 |  68 |  7 |  2.1136120 | 3.311866 | 0.003438725 | 1 | 998;1017;1026;5255;5603;9133;23139                                                                                   | geneontology_Molecular_Function | PHKA1;MAST2;CDK2;CDKN1A;MAPK13;CDC42;CCNB2                                                                                        | alisertib | BRD-K75295174 | aurora kinase inhibitor | AURKA |\n",
       "| GO:1902554 | serine/threonine protein kinase complex  | http://amigo.geneontology.org/amigo/term/GO:1902554 |  23 |  4 |  0.7148982 | 5.595202 | 0.004434779 | 1 | 1017;1026;5255;9133                                                                                                  | geneontology_Cellular_Component | PHKA1;CDK2;CDKN1A;CCNB2                                                                                                           | alisertib | BRD-K75295174 | aurora kinase inhibitor | AURKA |\n",
       "\n"
      ],
      "text/plain": [
       "  geneSet    description                             \n",
       "1 GO:0003824 catalytic activity                      \n",
       "2 GO:0004674 protein serine/threonine kinase activity\n",
       "3 GO:1902554 serine/threonine protein kinase complex \n",
       "  link                                                size overlap expect    \n",
       "1 http://amigo.geneontology.org/amigo/term/GO:0003824 448  22      13.9249732\n",
       "2 http://amigo.geneontology.org/amigo/term/GO:0004674  68   7       2.1136120\n",
       "3 http://amigo.geneontology.org/amigo/term/GO:1902554  23   4       0.7148982\n",
       "  enrichmentRatio pValue      FDR\n",
       "1 1.579895        0.001851467 1  \n",
       "2 3.311866        0.003438725 1  \n",
       "3 5.595202        0.004434779 1  \n",
       "  overlapId                                                                                                           \n",
       "1 329;998;1017;1026;1643;1738;1983;2778;3162;5255;5603;8318;9133;10038;10730;23139;23536;27244;55008;55256;55699;60493\n",
       "2 998;1017;1026;5255;5603;9133;23139                                                                                  \n",
       "3 1017;1026;5255;9133                                                                                                 \n",
       "  database                       \n",
       "1 geneontology_Molecular_Function\n",
       "2 geneontology_Molecular_Function\n",
       "3 geneontology_Cellular_Component\n",
       "  userId                                                                                                                           \n",
       "1 PHKA1;MAST2;SESN1;CDK2;IARS2;CDKN1A;MAPK13;DLD;CDC42;HMOX1;ADAT1;BIRC2;HERC6;CDC45;ADI1;YME1L1;FASTKD5;GNAS;CCNB2;EIF5;DDB2;PARP2\n",
       "2 PHKA1;MAST2;CDK2;CDKN1A;MAPK13;CDC42;CCNB2                                                                                       \n",
       "3 PHKA1;CDK2;CDKN1A;CCNB2                                                                                                          \n",
       "  compound  broad_id      moa                     target\n",
       "1 alisertib BRD-K75295174 aurora kinase inhibitor AURKA \n",
       "2 alisertib BRD-K75295174 aurora kinase inhibitor AURKA \n",
       "3 alisertib BRD-K75295174 aurora kinase inhibitor AURKA "
      ]
     },
     "metadata": {},
     "output_type": "display_data"
    }
   ],
   "source": [
    "# Load Signature Strength and MAS scores\n",
    "ora_results_dir <- file.path(\"..\", \"5.Gene-analysis\", \"results\")\n",
    "\n",
    "ora_results_file <- file.path(ora_results_dir, \"ora_compound_results.tsv\")\n",
    "\n",
    "ora_cols <- readr::cols(\n",
    "    geneSet = readr::col_character(),\n",
    "    description = readr::col_character(),\n",
    "    link = readr::col_character(),\n",
    "    size = readr::col_double(),\n",
    "    overlap = readr::col_double(),\n",
    "    expect = readr::col_double(),\n",
    "    enrichmentRatio = readr::col_double(),\n",
    "    pValue = readr::col_double(),\n",
    "    FDR = readr::col_double(),\n",
    "    overlapId = readr::col_character(),\n",
    "    database = readr::col_character(),\n",
    "    userId = readr::col_character(),\n",
    "    compound = readr::col_character()\n",
    ")\n",
    "\n",
    "ora_df <- readr::read_tsv(ora_results_file, col_types = ora_cols) %>%\n",
    "    dplyr::left_join(\n",
    "        map_df %>%\n",
    "            dplyr::select(broad_id, pert_iname, moa, target) %>%\n",
    "            dplyr::distinct(),\n",
    "        by = c(\"compound\" = \"pert_iname\")\n",
    "        )\n",
    "\n",
    "# This is Supplementary Table 5\n",
    "output_file <- file.path(\"results\", \"tableS3_overrepresentationanalysis.tsv\")\n",
    "ora_df %>% readr::write_tsv(output_file)\n",
    "\n",
    "print(dim(ora_df))\n",
    "head(ora_df, 3)"
   ]
  },
  {
   "cell_type": "markdown",
   "id": "06d48199-bdab-4b58-9fc1-8b8bed2f13e9",
   "metadata": {},
   "source": [
    "## Table S4 - MOA percent matching/Avg Precision"
   ]
  },
  {
   "cell_type": "code",
   "execution_count": 9,
   "id": "ec6eb0ed-8604-4abe-882d-a380149ef7e1",
   "metadata": {},
   "outputs": [
    {
     "name": "stdout",
     "output_type": "stream",
     "text": [
      "[1] 2200    6\n"
     ]
    },
    {
     "data": {
      "text/html": [
       "<table>\n",
       "<caption>A tibble: 3 × 6</caption>\n",
       "<thead>\n",
       "\t<tr><th scope=col>moa</th><th scope=col>dose</th><th scope=col>no_of_compounds_per_moa</th><th scope=col>median_replicate_correlation</th><th scope=col>p_value</th><th scope=col>assay</th></tr>\n",
       "\t<tr><th scope=col>&lt;chr&gt;</th><th scope=col>&lt;chr&gt;</th><th scope=col>&lt;dbl&gt;</th><th scope=col>&lt;dbl&gt;</th><th scope=col>&lt;dbl&gt;</th><th scope=col>&lt;chr&gt;</th></tr>\n",
       "</thead>\n",
       "<tbody>\n",
       "\t<tr><td>acat inhibitor                   </td><td>0.04 uM</td><td> 3</td><td>0.004444607</td><td>0.513</td><td>Cell Painting</td></tr>\n",
       "\t<tr><td>acetylcholine receptor agonist   </td><td>0.04 uM</td><td> 8</td><td>0.005142343</td><td>0.576</td><td>Cell Painting</td></tr>\n",
       "\t<tr><td>acetylcholine receptor antagonist</td><td>0.04 uM</td><td>21</td><td>0.019262183</td><td>0.017</td><td>Cell Painting</td></tr>\n",
       "</tbody>\n",
       "</table>\n"
      ],
      "text/latex": [
       "A tibble: 3 × 6\n",
       "\\begin{tabular}{llllll}\n",
       " moa & dose & no\\_of\\_compounds\\_per\\_moa & median\\_replicate\\_correlation & p\\_value & assay\\\\\n",
       " <chr> & <chr> & <dbl> & <dbl> & <dbl> & <chr>\\\\\n",
       "\\hline\n",
       "\t acat inhibitor                    & 0.04 uM &  3 & 0.004444607 & 0.513 & Cell Painting\\\\\n",
       "\t acetylcholine receptor agonist    & 0.04 uM &  8 & 0.005142343 & 0.576 & Cell Painting\\\\\n",
       "\t acetylcholine receptor antagonist & 0.04 uM & 21 & 0.019262183 & 0.017 & Cell Painting\\\\\n",
       "\\end{tabular}\n"
      ],
      "text/markdown": [
       "\n",
       "A tibble: 3 × 6\n",
       "\n",
       "| moa &lt;chr&gt; | dose &lt;chr&gt; | no_of_compounds_per_moa &lt;dbl&gt; | median_replicate_correlation &lt;dbl&gt; | p_value &lt;dbl&gt; | assay &lt;chr&gt; |\n",
       "|---|---|---|---|---|---|\n",
       "| acat inhibitor                    | 0.04 uM |  3 | 0.004444607 | 0.513 | Cell Painting |\n",
       "| acetylcholine receptor agonist    | 0.04 uM |  8 | 0.005142343 | 0.576 | Cell Painting |\n",
       "| acetylcholine receptor antagonist | 0.04 uM | 21 | 0.019262183 | 0.017 | Cell Painting |\n",
       "\n"
      ],
      "text/plain": [
       "  moa                               dose    no_of_compounds_per_moa\n",
       "1 acat inhibitor                    0.04 uM  3                     \n",
       "2 acetylcholine receptor agonist    0.04 uM  8                     \n",
       "3 acetylcholine receptor antagonist 0.04 uM 21                     \n",
       "  median_replicate_correlation p_value assay        \n",
       "1 0.004444607                  0.513   Cell Painting\n",
       "2 0.005142343                  0.576   Cell Painting\n",
       "3 0.019262183                  0.017   Cell Painting"
      ]
     },
     "metadata": {},
     "output_type": "display_data"
    }
   ],
   "source": [
    "# Load MOA percent matching\n",
    "moa_cols <- readr::cols(\n",
    "  moa = readr::col_character(),\n",
    "  no_of_replicates = readr::col_double(),\n",
    "  dose = readr::col_character(),\n",
    "  matching_score = readr::col_double(),\n",
    "  assay = readr::col_character(),\n",
    "  p_value = readr::col_double(),\n",
    "  pass_thresh = readr::col_logical(),\n",
    "  neg_log_10_p_val = readr::col_double()\n",
    ")\n",
    "\n",
    "moa_df <- readr::read_tsv(file.path(\"results\", \"moa_scores.tsv\"), col_types = moa_cols) %>%\n",
    "    dplyr::select(moa, dose, no_of_replicates, matching_score, p_value, assay) %>%\n",
    "    dplyr::rename(\n",
    "        no_of_compounds_per_moa = no_of_replicates,\n",
    "        median_replicate_correlation = matching_score\n",
    "    )\n",
    "\n",
    "print(dim(moa_df))\n",
    "head(moa_df, 3)"
   ]
  },
  {
   "cell_type": "code",
   "execution_count": 10,
   "id": "51ba9fc8-9255-4635-a962-f18c5fbddc7b",
   "metadata": {},
   "outputs": [
    {
     "name": "stdout",
     "output_type": "stream",
     "text": [
      "[1] 10584     6\n"
     ]
    },
    {
     "data": {
      "text/html": [
       "<table>\n",
       "<caption>A tibble: 3 × 6</caption>\n",
       "<thead>\n",
       "\t<tr><th scope=col>drug_impact</th><th scope=col>dose</th><th scope=col>avg_precision</th><th scope=col>impact_category</th><th scope=col>assay</th><th scope=col>dose_comparison</th></tr>\n",
       "\t<tr><th scope=col>&lt;chr&gt;</th><th scope=col>&lt;fct&gt;</th><th scope=col>&lt;dbl&gt;</th><th scope=col>&lt;chr&gt;</th><th scope=col>&lt;fct&gt;</th><th scope=col>&lt;chr&gt;</th></tr>\n",
       "</thead>\n",
       "<tbody>\n",
       "\t<tr><td>5 alpha reductase inhibitor</td><td>0.04 uM</td><td>0.001601281</td><td>moa</td><td>Cell Painting</td><td>same_dose</td></tr>\n",
       "\t<tr><td>5 alpha reductase inhibitor</td><td>0.12 uM</td><td>0.001490313</td><td>moa</td><td>Cell Painting</td><td>same_dose</td></tr>\n",
       "\t<tr><td>5 alpha reductase inhibitor</td><td>0.37 uM</td><td>0.001189061</td><td>moa</td><td>Cell Painting</td><td>same_dose</td></tr>\n",
       "</tbody>\n",
       "</table>\n"
      ],
      "text/latex": [
       "A tibble: 3 × 6\n",
       "\\begin{tabular}{llllll}\n",
       " drug\\_impact & dose & avg\\_precision & impact\\_category & assay & dose\\_comparison\\\\\n",
       " <chr> & <fct> & <dbl> & <chr> & <fct> & <chr>\\\\\n",
       "\\hline\n",
       "\t 5 alpha reductase inhibitor & 0.04 uM & 0.001601281 & moa & Cell Painting & same\\_dose\\\\\n",
       "\t 5 alpha reductase inhibitor & 0.12 uM & 0.001490313 & moa & Cell Painting & same\\_dose\\\\\n",
       "\t 5 alpha reductase inhibitor & 0.37 uM & 0.001189061 & moa & Cell Painting & same\\_dose\\\\\n",
       "\\end{tabular}\n"
      ],
      "text/markdown": [
       "\n",
       "A tibble: 3 × 6\n",
       "\n",
       "| drug_impact &lt;chr&gt; | dose &lt;fct&gt; | avg_precision &lt;dbl&gt; | impact_category &lt;chr&gt; | assay &lt;fct&gt; | dose_comparison &lt;chr&gt; |\n",
       "|---|---|---|---|---|---|\n",
       "| 5 alpha reductase inhibitor | 0.04 uM | 0.001601281 | moa | Cell Painting | same_dose |\n",
       "| 5 alpha reductase inhibitor | 0.12 uM | 0.001490313 | moa | Cell Painting | same_dose |\n",
       "| 5 alpha reductase inhibitor | 0.37 uM | 0.001189061 | moa | Cell Painting | same_dose |\n",
       "\n"
      ],
      "text/plain": [
       "  drug_impact                 dose    avg_precision impact_category\n",
       "1 5 alpha reductase inhibitor 0.04 uM 0.001601281   moa            \n",
       "2 5 alpha reductase inhibitor 0.12 uM 0.001490313   moa            \n",
       "3 5 alpha reductase inhibitor 0.37 uM 0.001189061   moa            \n",
       "  assay         dose_comparison\n",
       "1 Cell Painting same_dose      \n",
       "2 Cell Painting same_dose      \n",
       "3 Cell Painting same_dose      "
      ]
     },
     "metadata": {},
     "output_type": "display_data"
    }
   ],
   "source": [
    "# Load MOA and target average precision\n",
    "file <- file.path(\n",
    "    \"..\",\n",
    "    \"1.Data-exploration\",\n",
    "    \"results\",\n",
    "    \"moa_target_precision.tsv.gz\"\n",
    ")\n",
    "\n",
    "df_cols <- readr::cols(\n",
    "  drug_impact = readr::col_character(),\n",
    "  dose = readr::col_character(),\n",
    "  avg_precision = readr::col_double(),\n",
    "  impact_category = readr::col_character(),\n",
    "  assay = readr::col_character(),\n",
    "  dose_comparison = readr::col_character()\n",
    ")\n",
    "\n",
    "avg_precision_df <- readr::read_tsv(file, col_types = df_cols)\n",
    "\n",
    "# Update dose and assay column\n",
    "avg_precision_df$dose <- dplyr::recode_factor(avg_precision_df$dose, !!!updated_dose_rename)\n",
    "avg_precision_df$assay <- dplyr::recode_factor(avg_precision_df$assay, !!!assay_update)\n",
    "\n",
    "print(dim(avg_precision_df))\n",
    "head(avg_precision_df, 3)"
   ]
  },
  {
   "cell_type": "code",
   "execution_count": 11,
   "id": "746b653b-033d-4c45-8446-7e2da1071167",
   "metadata": {},
   "outputs": [
    {
     "name": "stderr",
     "output_type": "stream",
     "text": [
      "Warning message:\n",
      "“Column `dose` joining factor and character vector, coercing into character vector”\n",
      "Warning message:\n",
      "“Column `assay` joining factor and character vector, coercing into character vector”\n"
     ]
    },
    {
     "data": {
      "text/html": [
       "<table>\n",
       "<caption>A tibble: 6 × 7</caption>\n",
       "<thead>\n",
       "\t<tr><th scope=col>moa</th><th scope=col>dose</th><th scope=col>assay</th><th scope=col>avg_precision</th><th scope=col>no_of_compounds_per_moa</th><th scope=col>median_replicate_correlation</th><th scope=col>p_value_percent_matching</th></tr>\n",
       "\t<tr><th scope=col>&lt;chr&gt;</th><th scope=col>&lt;chr&gt;</th><th scope=col>&lt;chr&gt;</th><th scope=col>&lt;dbl&gt;</th><th scope=col>&lt;dbl&gt;</th><th scope=col>&lt;dbl&gt;</th><th scope=col>&lt;dbl&gt;</th></tr>\n",
       "</thead>\n",
       "<tbody>\n",
       "\t<tr><td>5 alpha reductase inhibitor</td><td>All    </td><td>Cell Painting</td><td>0.0009074757</td><td>12</td><td>-0.018411522</td><td>1.000</td></tr>\n",
       "\t<tr><td>5 alpha reductase inhibitor</td><td>All    </td><td>L1000        </td><td>0.0011446540</td><td>12</td><td> 0.084630290</td><td>0.000</td></tr>\n",
       "\t<tr><td>acat inhibitor             </td><td>0.04 uM</td><td>Cell Painting</td><td>0.0025054914</td><td> 3</td><td> 0.004444607</td><td>0.513</td></tr>\n",
       "\t<tr><td>acat inhibitor             </td><td>0.12 uM</td><td>Cell Painting</td><td>0.0055769517</td><td> 3</td><td> 0.023240710</td><td>0.247</td></tr>\n",
       "\t<tr><td>acat inhibitor             </td><td>0.37 uM</td><td>Cell Painting</td><td>0.0025420775</td><td> 3</td><td>-0.017092617</td><td>0.797</td></tr>\n",
       "\t<tr><td>acat inhibitor             </td><td>1.11 uM</td><td>Cell Painting</td><td>0.0026907806</td><td> 3</td><td>-0.080471943</td><td>0.997</td></tr>\n",
       "</tbody>\n",
       "</table>\n"
      ],
      "text/latex": [
       "A tibble: 6 × 7\n",
       "\\begin{tabular}{lllllll}\n",
       " moa & dose & assay & avg\\_precision & no\\_of\\_compounds\\_per\\_moa & median\\_replicate\\_correlation & p\\_value\\_percent\\_matching\\\\\n",
       " <chr> & <chr> & <chr> & <dbl> & <dbl> & <dbl> & <dbl>\\\\\n",
       "\\hline\n",
       "\t 5 alpha reductase inhibitor & All     & Cell Painting & 0.0009074757 & 12 & -0.018411522 & 1.000\\\\\n",
       "\t 5 alpha reductase inhibitor & All     & L1000         & 0.0011446540 & 12 &  0.084630290 & 0.000\\\\\n",
       "\t acat inhibitor              & 0.04 uM & Cell Painting & 0.0025054914 &  3 &  0.004444607 & 0.513\\\\\n",
       "\t acat inhibitor              & 0.12 uM & Cell Painting & 0.0055769517 &  3 &  0.023240710 & 0.247\\\\\n",
       "\t acat inhibitor              & 0.37 uM & Cell Painting & 0.0025420775 &  3 & -0.017092617 & 0.797\\\\\n",
       "\t acat inhibitor              & 1.11 uM & Cell Painting & 0.0026907806 &  3 & -0.080471943 & 0.997\\\\\n",
       "\\end{tabular}\n"
      ],
      "text/markdown": [
       "\n",
       "A tibble: 6 × 7\n",
       "\n",
       "| moa &lt;chr&gt; | dose &lt;chr&gt; | assay &lt;chr&gt; | avg_precision &lt;dbl&gt; | no_of_compounds_per_moa &lt;dbl&gt; | median_replicate_correlation &lt;dbl&gt; | p_value_percent_matching &lt;dbl&gt; |\n",
       "|---|---|---|---|---|---|---|\n",
       "| 5 alpha reductase inhibitor | All     | Cell Painting | 0.0009074757 | 12 | -0.018411522 | 1.000 |\n",
       "| 5 alpha reductase inhibitor | All     | L1000         | 0.0011446540 | 12 |  0.084630290 | 0.000 |\n",
       "| acat inhibitor              | 0.04 uM | Cell Painting | 0.0025054914 |  3 |  0.004444607 | 0.513 |\n",
       "| acat inhibitor              | 0.12 uM | Cell Painting | 0.0055769517 |  3 |  0.023240710 | 0.247 |\n",
       "| acat inhibitor              | 0.37 uM | Cell Painting | 0.0025420775 |  3 | -0.017092617 | 0.797 |\n",
       "| acat inhibitor              | 1.11 uM | Cell Painting | 0.0026907806 |  3 | -0.080471943 | 0.997 |\n",
       "\n"
      ],
      "text/plain": [
       "  moa                         dose    assay         avg_precision\n",
       "1 5 alpha reductase inhibitor All     Cell Painting 0.0009074757 \n",
       "2 5 alpha reductase inhibitor All     L1000         0.0011446540 \n",
       "3 acat inhibitor              0.04 uM Cell Painting 0.0025054914 \n",
       "4 acat inhibitor              0.12 uM Cell Painting 0.0055769517 \n",
       "5 acat inhibitor              0.37 uM Cell Painting 0.0025420775 \n",
       "6 acat inhibitor              1.11 uM Cell Painting 0.0026907806 \n",
       "  no_of_compounds_per_moa median_replicate_correlation p_value_percent_matching\n",
       "1 12                      -0.018411522                 1.000                   \n",
       "2 12                       0.084630290                 0.000                   \n",
       "3  3                       0.004444607                 0.513                   \n",
       "4  3                       0.023240710                 0.247                   \n",
       "5  3                      -0.017092617                 0.797                   \n",
       "6  3                      -0.080471943                 0.997                   "
      ]
     },
     "metadata": {},
     "output_type": "display_data"
    }
   ],
   "source": [
    "# Generate sup table 4\n",
    "sup_table_4_df <- avg_precision_df %>%\n",
    "    dplyr::filter(impact_category == \"moa\") %>%\n",
    "    dplyr::inner_join(\n",
    "        moa_df,\n",
    "        by = c(\"drug_impact\" = \"moa\", \"dose\" = \"dose\", \"assay\" = \"assay\")\n",
    "    ) %>%\n",
    "    dplyr::select(\n",
    "        drug_impact,\n",
    "        dose,\n",
    "        assay,\n",
    "        avg_precision,\n",
    "        no_of_compounds_per_moa,\n",
    "        median_replicate_correlation,\n",
    "        p_value\n",
    "    ) %>%\n",
    "    dplyr::rename(\n",
    "        p_value_percent_matching = p_value,\n",
    "        moa = drug_impact\n",
    "    ) %>%\n",
    "    dplyr::arrange(moa)\n",
    "\n",
    "\n",
    "output_file <- file.path(\"results\", \"tableS4_moa_metrics.tsv\")\n",
    "sup_table_4_df %>% readr::write_tsv(output_file)\n",
    "\n",
    "head(sup_table_4_df)"
   ]
  },
  {
   "cell_type": "markdown",
   "id": "ea6327e7-0d83-4a28-a0e3-dd9772f28b69",
   "metadata": {},
   "source": [
    "## Table S5 - Gene target percent matching/Avg Precision"
   ]
  },
  {
   "cell_type": "code",
   "execution_count": 12,
   "id": "570560c3-b300-4009-b343-fa95c28f39e5",
   "metadata": {},
   "outputs": [
    {
     "name": "stdout",
     "output_type": "stream",
     "text": [
      "[1] 7637    5\n"
     ]
    },
    {
     "data": {
      "text/html": [
       "<table>\n",
       "<caption>A tibble: 6 × 5</caption>\n",
       "<thead>\n",
       "\t<tr><th scope=col>target</th><th scope=col>dose</th><th scope=col>median_correlation</th><th scope=col>n_compounds</th><th scope=col>assay</th></tr>\n",
       "\t<tr><th scope=col>&lt;chr&gt;</th><th scope=col>&lt;fct&gt;</th><th scope=col>&lt;dbl&gt;</th><th scope=col>&lt;dbl&gt;</th><th scope=col>&lt;chr&gt;</th></tr>\n",
       "</thead>\n",
       "<tbody>\n",
       "\t<tr><td>RPL3    </td><td>All    </td><td>0.8234930</td><td> 6</td><td>L1000        </td></tr>\n",
       "\t<tr><td>HSP90AA1</td><td>1.11 uM</td><td>0.7603772</td><td> 2</td><td>L1000        </td></tr>\n",
       "\t<tr><td>HSP90AA1</td><td>3.33 uM</td><td>0.7384674</td><td> 2</td><td>L1000        </td></tr>\n",
       "\t<tr><td>HSP90AA1</td><td>10 uM  </td><td>0.7377925</td><td> 2</td><td>L1000        </td></tr>\n",
       "\t<tr><td>RPL3    </td><td>All    </td><td>0.7352301</td><td> 6</td><td>Cell Painting</td></tr>\n",
       "\t<tr><td>HSP90AA1</td><td>All    </td><td>0.7295974</td><td>12</td><td>L1000        </td></tr>\n",
       "</tbody>\n",
       "</table>\n"
      ],
      "text/latex": [
       "A tibble: 6 × 5\n",
       "\\begin{tabular}{lllll}\n",
       " target & dose & median\\_correlation & n\\_compounds & assay\\\\\n",
       " <chr> & <fct> & <dbl> & <dbl> & <chr>\\\\\n",
       "\\hline\n",
       "\t RPL3     & All     & 0.8234930 &  6 & L1000        \\\\\n",
       "\t HSP90AA1 & 1.11 uM & 0.7603772 &  2 & L1000        \\\\\n",
       "\t HSP90AA1 & 3.33 uM & 0.7384674 &  2 & L1000        \\\\\n",
       "\t HSP90AA1 & 10 uM   & 0.7377925 &  2 & L1000        \\\\\n",
       "\t RPL3     & All     & 0.7352301 &  6 & Cell Painting\\\\\n",
       "\t HSP90AA1 & All     & 0.7295974 & 12 & L1000        \\\\\n",
       "\\end{tabular}\n"
      ],
      "text/markdown": [
       "\n",
       "A tibble: 6 × 5\n",
       "\n",
       "| target &lt;chr&gt; | dose &lt;fct&gt; | median_correlation &lt;dbl&gt; | n_compounds &lt;dbl&gt; | assay &lt;chr&gt; |\n",
       "|---|---|---|---|---|\n",
       "| RPL3     | All     | 0.8234930 |  6 | L1000         |\n",
       "| HSP90AA1 | 1.11 uM | 0.7603772 |  2 | L1000         |\n",
       "| HSP90AA1 | 3.33 uM | 0.7384674 |  2 | L1000         |\n",
       "| HSP90AA1 | 10 uM   | 0.7377925 |  2 | L1000         |\n",
       "| RPL3     | All     | 0.7352301 |  6 | Cell Painting |\n",
       "| HSP90AA1 | All     | 0.7295974 | 12 | L1000         |\n",
       "\n"
      ],
      "text/plain": [
       "  target   dose    median_correlation n_compounds assay        \n",
       "1 RPL3     All     0.8234930           6          L1000        \n",
       "2 HSP90AA1 1.11 uM 0.7603772           2          L1000        \n",
       "3 HSP90AA1 3.33 uM 0.7384674           2          L1000        \n",
       "4 HSP90AA1 10 uM   0.7377925           2          L1000        \n",
       "5 RPL3     All     0.7352301           6          Cell Painting\n",
       "6 HSP90AA1 All     0.7295974          12          L1000        "
      ]
     },
     "metadata": {},
     "output_type": "display_data"
    }
   ],
   "source": [
    "file <- file.path(\n",
    "    \"..\",\n",
    "    \"1.Data-exploration\",\n",
    "    \"results\",\n",
    "    \"gene_target_median_pairwise_correlations.tsv.gz\"\n",
    ")\n",
    "\n",
    "target_cols <- readr::cols(\n",
    "  target = readr::col_character(),\n",
    "  dose = readr::col_character(),\n",
    "  median_correlation = readr::col_double(),\n",
    "  n_compounds = readr::col_double(),\n",
    "  assay = readr::col_character()\n",
    ")\n",
    "\n",
    "target_cor_df <- readr::read_tsv(file, col_types = target_cols)\n",
    "\n",
    "target_update_dose_rename <- c(dose_rename, \"All\" = \"All\")\n",
    "\n",
    "target_cor_df$dose <- dplyr::recode_factor(target_cor_df$dose, !!!target_update_dose_rename)\n",
    "\n",
    "print(dim(target_cor_df))\n",
    "head(target_cor_df)"
   ]
  },
  {
   "cell_type": "code",
   "execution_count": 13,
   "id": "b0d6af54-ba17-403b-acac-252d80b55838",
   "metadata": {},
   "outputs": [
    {
     "name": "stderr",
     "output_type": "stream",
     "text": [
      "Warning message:\n",
      "“Column `assay` joining factor and character vector, coercing into character vector”\n"
     ]
    },
    {
     "name": "stdout",
     "output_type": "stream",
     "text": [
      "[1] 7630    6\n"
     ]
    },
    {
     "data": {
      "text/html": [
       "<table>\n",
       "<caption>A tibble: 6 × 6</caption>\n",
       "<thead>\n",
       "\t<tr><th scope=col>target</th><th scope=col>dose</th><th scope=col>assay</th><th scope=col>avg_precision</th><th scope=col>no_of_compounds_per_target</th><th scope=col>median_correlation</th></tr>\n",
       "\t<tr><th scope=col>&lt;chr&gt;</th><th scope=col>&lt;fct&gt;</th><th scope=col>&lt;chr&gt;</th><th scope=col>&lt;dbl&gt;</th><th scope=col>&lt;dbl&gt;</th><th scope=col>&lt;dbl&gt;</th></tr>\n",
       "</thead>\n",
       "<tbody>\n",
       "\t<tr><td>ABAT|ACADSB|ALDH5A1|HDAC1|HDAC2|HDAC9|OGDH|SCN10A|SCN11A|SCN1A|SCN1B|SCN2A|SCN2B|SCN3A|SCN3B|SCN4A|SCN4B|SCN5A|SCN7A|SCN8A|SCN9A</td><td>0.04 uM</td><td>Cell Painting</td><td>0.02802298</td><td>31</td><td>0.005335295</td></tr>\n",
       "\t<tr><td>ABAT|ACADSB|ALDH5A1|HDAC1|HDAC2|HDAC9|OGDH|SCN10A|SCN11A|SCN1A|SCN1B|SCN2A|SCN2B|SCN3A|SCN3B|SCN4A|SCN4B|SCN5A|SCN7A|SCN8A|SCN9A</td><td>0.04 uM</td><td>L1000        </td><td>0.04340889</td><td>30</td><td>0.029659288</td></tr>\n",
       "\t<tr><td>ABAT|ACADSB|ALDH5A1|HDAC1|HDAC2|HDAC9|OGDH|SCN10A|SCN11A|SCN1A|SCN1B|SCN2A|SCN2B|SCN3A|SCN3B|SCN4A|SCN4B|SCN5A|SCN7A|SCN8A|SCN9A</td><td>0.12 uM</td><td>Cell Painting</td><td>0.03459945</td><td>31</td><td>0.007825567</td></tr>\n",
       "\t<tr><td>ABAT|ACADSB|ALDH5A1|HDAC1|HDAC2|HDAC9|OGDH|SCN10A|SCN11A|SCN1A|SCN1B|SCN2A|SCN2B|SCN3A|SCN3B|SCN4A|SCN4B|SCN5A|SCN7A|SCN8A|SCN9A</td><td>0.12 uM</td><td>L1000        </td><td>0.02492024</td><td>30</td><td>0.030178360</td></tr>\n",
       "\t<tr><td>ABAT|ACADSB|ALDH5A1|HDAC1|HDAC2|HDAC9|OGDH|SCN10A|SCN11A|SCN1A|SCN1B|SCN2A|SCN2B|SCN3A|SCN3B|SCN4A|SCN4B|SCN5A|SCN7A|SCN8A|SCN9A</td><td>0.37 uM</td><td>Cell Painting</td><td>0.03565959</td><td>31</td><td>0.009868759</td></tr>\n",
       "\t<tr><td>ABAT|ACADSB|ALDH5A1|HDAC1|HDAC2|HDAC9|OGDH|SCN10A|SCN11A|SCN1A|SCN1B|SCN2A|SCN2B|SCN3A|SCN3B|SCN4A|SCN4B|SCN5A|SCN7A|SCN8A|SCN9A</td><td>0.37 uM</td><td>L1000        </td><td>0.04562960</td><td>30</td><td>0.027971655</td></tr>\n",
       "</tbody>\n",
       "</table>\n"
      ],
      "text/latex": [
       "A tibble: 6 × 6\n",
       "\\begin{tabular}{llllll}\n",
       " target & dose & assay & avg\\_precision & no\\_of\\_compounds\\_per\\_target & median\\_correlation\\\\\n",
       " <chr> & <fct> & <chr> & <dbl> & <dbl> & <dbl>\\\\\n",
       "\\hline\n",
       "\t ABAT\\textbar{}ACADSB\\textbar{}ALDH5A1\\textbar{}HDAC1\\textbar{}HDAC2\\textbar{}HDAC9\\textbar{}OGDH\\textbar{}SCN10A\\textbar{}SCN11A\\textbar{}SCN1A\\textbar{}SCN1B\\textbar{}SCN2A\\textbar{}SCN2B\\textbar{}SCN3A\\textbar{}SCN3B\\textbar{}SCN4A\\textbar{}SCN4B\\textbar{}SCN5A\\textbar{}SCN7A\\textbar{}SCN8A\\textbar{}SCN9A & 0.04 uM & Cell Painting & 0.02802298 & 31 & 0.005335295\\\\\n",
       "\t ABAT\\textbar{}ACADSB\\textbar{}ALDH5A1\\textbar{}HDAC1\\textbar{}HDAC2\\textbar{}HDAC9\\textbar{}OGDH\\textbar{}SCN10A\\textbar{}SCN11A\\textbar{}SCN1A\\textbar{}SCN1B\\textbar{}SCN2A\\textbar{}SCN2B\\textbar{}SCN3A\\textbar{}SCN3B\\textbar{}SCN4A\\textbar{}SCN4B\\textbar{}SCN5A\\textbar{}SCN7A\\textbar{}SCN8A\\textbar{}SCN9A & 0.04 uM & L1000         & 0.04340889 & 30 & 0.029659288\\\\\n",
       "\t ABAT\\textbar{}ACADSB\\textbar{}ALDH5A1\\textbar{}HDAC1\\textbar{}HDAC2\\textbar{}HDAC9\\textbar{}OGDH\\textbar{}SCN10A\\textbar{}SCN11A\\textbar{}SCN1A\\textbar{}SCN1B\\textbar{}SCN2A\\textbar{}SCN2B\\textbar{}SCN3A\\textbar{}SCN3B\\textbar{}SCN4A\\textbar{}SCN4B\\textbar{}SCN5A\\textbar{}SCN7A\\textbar{}SCN8A\\textbar{}SCN9A & 0.12 uM & Cell Painting & 0.03459945 & 31 & 0.007825567\\\\\n",
       "\t ABAT\\textbar{}ACADSB\\textbar{}ALDH5A1\\textbar{}HDAC1\\textbar{}HDAC2\\textbar{}HDAC9\\textbar{}OGDH\\textbar{}SCN10A\\textbar{}SCN11A\\textbar{}SCN1A\\textbar{}SCN1B\\textbar{}SCN2A\\textbar{}SCN2B\\textbar{}SCN3A\\textbar{}SCN3B\\textbar{}SCN4A\\textbar{}SCN4B\\textbar{}SCN5A\\textbar{}SCN7A\\textbar{}SCN8A\\textbar{}SCN9A & 0.12 uM & L1000         & 0.02492024 & 30 & 0.030178360\\\\\n",
       "\t ABAT\\textbar{}ACADSB\\textbar{}ALDH5A1\\textbar{}HDAC1\\textbar{}HDAC2\\textbar{}HDAC9\\textbar{}OGDH\\textbar{}SCN10A\\textbar{}SCN11A\\textbar{}SCN1A\\textbar{}SCN1B\\textbar{}SCN2A\\textbar{}SCN2B\\textbar{}SCN3A\\textbar{}SCN3B\\textbar{}SCN4A\\textbar{}SCN4B\\textbar{}SCN5A\\textbar{}SCN7A\\textbar{}SCN8A\\textbar{}SCN9A & 0.37 uM & Cell Painting & 0.03565959 & 31 & 0.009868759\\\\\n",
       "\t ABAT\\textbar{}ACADSB\\textbar{}ALDH5A1\\textbar{}HDAC1\\textbar{}HDAC2\\textbar{}HDAC9\\textbar{}OGDH\\textbar{}SCN10A\\textbar{}SCN11A\\textbar{}SCN1A\\textbar{}SCN1B\\textbar{}SCN2A\\textbar{}SCN2B\\textbar{}SCN3A\\textbar{}SCN3B\\textbar{}SCN4A\\textbar{}SCN4B\\textbar{}SCN5A\\textbar{}SCN7A\\textbar{}SCN8A\\textbar{}SCN9A & 0.37 uM & L1000         & 0.04562960 & 30 & 0.027971655\\\\\n",
       "\\end{tabular}\n"
      ],
      "text/markdown": [
       "\n",
       "A tibble: 6 × 6\n",
       "\n",
       "| target &lt;chr&gt; | dose &lt;fct&gt; | assay &lt;chr&gt; | avg_precision &lt;dbl&gt; | no_of_compounds_per_target &lt;dbl&gt; | median_correlation &lt;dbl&gt; |\n",
       "|---|---|---|---|---|---|\n",
       "| ABAT|ACADSB|ALDH5A1|HDAC1|HDAC2|HDAC9|OGDH|SCN10A|SCN11A|SCN1A|SCN1B|SCN2A|SCN2B|SCN3A|SCN3B|SCN4A|SCN4B|SCN5A|SCN7A|SCN8A|SCN9A | 0.04 uM | Cell Painting | 0.02802298 | 31 | 0.005335295 |\n",
       "| ABAT|ACADSB|ALDH5A1|HDAC1|HDAC2|HDAC9|OGDH|SCN10A|SCN11A|SCN1A|SCN1B|SCN2A|SCN2B|SCN3A|SCN3B|SCN4A|SCN4B|SCN5A|SCN7A|SCN8A|SCN9A | 0.04 uM | L1000         | 0.04340889 | 30 | 0.029659288 |\n",
       "| ABAT|ACADSB|ALDH5A1|HDAC1|HDAC2|HDAC9|OGDH|SCN10A|SCN11A|SCN1A|SCN1B|SCN2A|SCN2B|SCN3A|SCN3B|SCN4A|SCN4B|SCN5A|SCN7A|SCN8A|SCN9A | 0.12 uM | Cell Painting | 0.03459945 | 31 | 0.007825567 |\n",
       "| ABAT|ACADSB|ALDH5A1|HDAC1|HDAC2|HDAC9|OGDH|SCN10A|SCN11A|SCN1A|SCN1B|SCN2A|SCN2B|SCN3A|SCN3B|SCN4A|SCN4B|SCN5A|SCN7A|SCN8A|SCN9A | 0.12 uM | L1000         | 0.02492024 | 30 | 0.030178360 |\n",
       "| ABAT|ACADSB|ALDH5A1|HDAC1|HDAC2|HDAC9|OGDH|SCN10A|SCN11A|SCN1A|SCN1B|SCN2A|SCN2B|SCN3A|SCN3B|SCN4A|SCN4B|SCN5A|SCN7A|SCN8A|SCN9A | 0.37 uM | Cell Painting | 0.03565959 | 31 | 0.009868759 |\n",
       "| ABAT|ACADSB|ALDH5A1|HDAC1|HDAC2|HDAC9|OGDH|SCN10A|SCN11A|SCN1A|SCN1B|SCN2A|SCN2B|SCN3A|SCN3B|SCN4A|SCN4B|SCN5A|SCN7A|SCN8A|SCN9A | 0.37 uM | L1000         | 0.04562960 | 30 | 0.027971655 |\n",
       "\n"
      ],
      "text/plain": [
       "  target                                                                                                                          \n",
       "1 ABAT|ACADSB|ALDH5A1|HDAC1|HDAC2|HDAC9|OGDH|SCN10A|SCN11A|SCN1A|SCN1B|SCN2A|SCN2B|SCN3A|SCN3B|SCN4A|SCN4B|SCN5A|SCN7A|SCN8A|SCN9A\n",
       "2 ABAT|ACADSB|ALDH5A1|HDAC1|HDAC2|HDAC9|OGDH|SCN10A|SCN11A|SCN1A|SCN1B|SCN2A|SCN2B|SCN3A|SCN3B|SCN4A|SCN4B|SCN5A|SCN7A|SCN8A|SCN9A\n",
       "3 ABAT|ACADSB|ALDH5A1|HDAC1|HDAC2|HDAC9|OGDH|SCN10A|SCN11A|SCN1A|SCN1B|SCN2A|SCN2B|SCN3A|SCN3B|SCN4A|SCN4B|SCN5A|SCN7A|SCN8A|SCN9A\n",
       "4 ABAT|ACADSB|ALDH5A1|HDAC1|HDAC2|HDAC9|OGDH|SCN10A|SCN11A|SCN1A|SCN1B|SCN2A|SCN2B|SCN3A|SCN3B|SCN4A|SCN4B|SCN5A|SCN7A|SCN8A|SCN9A\n",
       "5 ABAT|ACADSB|ALDH5A1|HDAC1|HDAC2|HDAC9|OGDH|SCN10A|SCN11A|SCN1A|SCN1B|SCN2A|SCN2B|SCN3A|SCN3B|SCN4A|SCN4B|SCN5A|SCN7A|SCN8A|SCN9A\n",
       "6 ABAT|ACADSB|ALDH5A1|HDAC1|HDAC2|HDAC9|OGDH|SCN10A|SCN11A|SCN1A|SCN1B|SCN2A|SCN2B|SCN3A|SCN3B|SCN4A|SCN4B|SCN5A|SCN7A|SCN8A|SCN9A\n",
       "  dose    assay         avg_precision no_of_compounds_per_target\n",
       "1 0.04 uM Cell Painting 0.02802298    31                        \n",
       "2 0.04 uM L1000         0.04340889    30                        \n",
       "3 0.12 uM Cell Painting 0.03459945    31                        \n",
       "4 0.12 uM L1000         0.02492024    30                        \n",
       "5 0.37 uM Cell Painting 0.03565959    31                        \n",
       "6 0.37 uM L1000         0.04562960    30                        \n",
       "  median_correlation\n",
       "1 0.005335295       \n",
       "2 0.029659288       \n",
       "3 0.007825567       \n",
       "4 0.030178360       \n",
       "5 0.009868759       \n",
       "6 0.027971655       "
      ]
     },
     "metadata": {},
     "output_type": "display_data"
    }
   ],
   "source": [
    "sup_table_5_df <- avg_precision_df %>%\n",
    "    dplyr::filter(impact_category == \"target\") %>%\n",
    "    dplyr::inner_join(\n",
    "        target_cor_df,\n",
    "        by = c(\"drug_impact\" = \"target\", \"dose\" = \"dose\", \"assay\" = \"assay\")\n",
    "    ) %>%\n",
    "    dplyr::select(\n",
    "        drug_impact,\n",
    "        dose,\n",
    "        assay,\n",
    "        avg_precision,\n",
    "        n_compounds,\n",
    "        median_correlation,\n",
    "    ) %>%\n",
    "    dplyr::rename(\n",
    "        target = drug_impact,\n",
    "        no_of_compounds_per_target = n_compounds\n",
    "    ) %>%\n",
    "    dplyr::arrange(target, dose)\n",
    "\n",
    "output_file <- file.path(\"results\", \"tableS5_target_metrics.tsv\")\n",
    "sup_table_5_df %>% readr::write_tsv(output_file)\n",
    "\n",
    "print(dim(sup_table_5_df))\n",
    "head(sup_table_5_df)"
   ]
  },
  {
   "cell_type": "markdown",
   "id": "841a98cf-0ce5-4b21-9e99-92d21974f354",
   "metadata": {},
   "source": [
    "## Table S6 - Deep learning average precision"
   ]
  },
  {
   "cell_type": "code",
   "execution_count": 14,
   "id": "3de7b1f9-7677-4657-bbeb-1f05bdb7c0f8",
   "metadata": {},
   "outputs": [
    {
     "name": "stdout",
     "output_type": "stream",
     "text": [
      "[1] 48547     9\n"
     ]
    },
    {
     "data": {
      "text/html": [
       "<table>\n",
       "<caption>A tibble: 2 × 9</caption>\n",
       "<thead>\n",
       "\t<tr><th scope=col>average_precision</th><th scope=col>target</th><th scope=col>assay</th><th scope=col>model</th><th scope=col>shuffle</th><th scope=col>data_split</th><th scope=col>subsample_status</th><th scope=col>target_category</th><th scope=col>n_pos_count</th></tr>\n",
       "\t<tr><th scope=col>&lt;dbl&gt;</th><th scope=col>&lt;chr&gt;</th><th scope=col>&lt;chr&gt;</th><th scope=col>&lt;chr&gt;</th><th scope=col>&lt;lgl&gt;</th><th scope=col>&lt;chr&gt;</th><th scope=col>&lt;lgl&gt;</th><th scope=col>&lt;chr&gt;</th><th scope=col>&lt;dbl&gt;</th></tr>\n",
       "</thead>\n",
       "<tbody>\n",
       "\t<tr><td>0.0009466525</td><td>11-beta hydroxysteroid dehydrogenase inhibitor</td><td>Cell_Painting</td><td>KNN</td><td>TRUE</td><td>train</td><td>TRUE</td><td>moa</td><td>17</td></tr>\n",
       "\t<tr><td>0.0009980768</td><td>11-beta-hsd1 inhibitor                        </td><td>Cell_Painting</td><td>KNN</td><td>TRUE</td><td>train</td><td>TRUE</td><td>moa</td><td>18</td></tr>\n",
       "</tbody>\n",
       "</table>\n"
      ],
      "text/latex": [
       "A tibble: 2 × 9\n",
       "\\begin{tabular}{lllllllll}\n",
       " average\\_precision & target & assay & model & shuffle & data\\_split & subsample\\_status & target\\_category & n\\_pos\\_count\\\\\n",
       " <dbl> & <chr> & <chr> & <chr> & <lgl> & <chr> & <lgl> & <chr> & <dbl>\\\\\n",
       "\\hline\n",
       "\t 0.0009466525 & 11-beta hydroxysteroid dehydrogenase inhibitor & Cell\\_Painting & KNN & TRUE & train & TRUE & moa & 17\\\\\n",
       "\t 0.0009980768 & 11-beta-hsd1 inhibitor                         & Cell\\_Painting & KNN & TRUE & train & TRUE & moa & 18\\\\\n",
       "\\end{tabular}\n"
      ],
      "text/markdown": [
       "\n",
       "A tibble: 2 × 9\n",
       "\n",
       "| average_precision &lt;dbl&gt; | target &lt;chr&gt; | assay &lt;chr&gt; | model &lt;chr&gt; | shuffle &lt;lgl&gt; | data_split &lt;chr&gt; | subsample_status &lt;lgl&gt; | target_category &lt;chr&gt; | n_pos_count &lt;dbl&gt; |\n",
       "|---|---|---|---|---|---|---|---|---|\n",
       "| 0.0009466525 | 11-beta hydroxysteroid dehydrogenase inhibitor | Cell_Painting | KNN | TRUE | train | TRUE | moa | 17 |\n",
       "| 0.0009980768 | 11-beta-hsd1 inhibitor                         | Cell_Painting | KNN | TRUE | train | TRUE | moa | 18 |\n",
       "\n"
      ],
      "text/plain": [
       "  average_precision target                                        \n",
       "1 0.0009466525      11-beta hydroxysteroid dehydrogenase inhibitor\n",
       "2 0.0009980768      11-beta-hsd1 inhibitor                        \n",
       "  assay         model shuffle data_split subsample_status target_category\n",
       "1 Cell_Painting KNN   TRUE    train      TRUE             moa            \n",
       "2 Cell_Painting KNN   TRUE    train      TRUE             moa            \n",
       "  n_pos_count\n",
       "1 17         \n",
       "2 18         "
      ]
     },
     "metadata": {},
     "output_type": "display_data"
    }
   ],
   "source": [
    "# Load average precision scores for all models and targets\n",
    "metric_dir <- file.path(\"..\", \"2.MOA-prediction\", \"metrics\")\n",
    "ap_file <- file.path(metric_dir, \"average_precision_full_results.tsv.gz\")\n",
    "\n",
    "ap_cols <- readr::cols(\n",
    "  average_precision = readr::col_double(),\n",
    "  target = readr::col_character(),\n",
    "  assay = readr::col_character(),\n",
    "  model = readr::col_character(),\n",
    "  shuffle = readr::col_logical(),\n",
    "  data_split = readr::col_character(),\n",
    "  target_category = readr::col_character()\n",
    ")\n",
    "\n",
    "ap_df <- readr::read_tsv(ap_file, col_types = ap_cols)\n",
    "\n",
    "ap_df$assay <- dplyr::recode(\n",
    "    ap_df$assay, \"cp\" = \"Cell_Painting\", \"L1000\" = \"L1000\"\n",
    ")\n",
    "\n",
    "ap_df$model <- dplyr::recode(\n",
    "    ap_df$model,\n",
    "        \"mlknn\" = \"KNN\",\n",
    "        \"simplenn\" = \"Simple_NN\",\n",
    "        \"resnet\" = \"ResNet\",\n",
    "        \"1dcnn\" = \"1D_CNN\",\n",
    "        \"tabnet\" = \"TabNet\",\n",
    "        \"blend\" = \"Ensemble\"\n",
    ")\n",
    "\n",
    "# This is Supplementary Table 6\n",
    "output_file <- file.path(\"results\", \"tableS6_deeplearning_avgprecision.tsv.gz\")\n",
    "ora_df %>% readr::write_tsv(output_file)\n",
    "\n",
    "print(dim(ap_df))\n",
    "head(ap_df, 2)"
   ]
  }
 ],
 "metadata": {
  "kernelspec": {
   "display_name": "R [conda env:lincs-complimentarity-figures] *",
   "language": "R",
   "name": "conda-env-lincs-complimentarity-figures-r"
  },
  "language_info": {
   "codemirror_mode": "r",
   "file_extension": ".r",
   "mimetype": "text/x-r-source",
   "name": "R",
   "pygments_lexer": "r",
   "version": "3.5.1"
  }
 },
 "nbformat": 4,
 "nbformat_minor": 5
}
