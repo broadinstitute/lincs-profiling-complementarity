{
 "cells": [
  {
   "cell_type": "markdown",
   "id": "df177ac4-1d2f-468d-b670-cf7be054696e",
   "metadata": {},
   "source": [
    "## Describe profiling input data"
   ]
  },
  {
   "cell_type": "code",
   "execution_count": 1,
   "id": "687f23dd-024b-4063-9254-621d707f24d5",
   "metadata": {},
   "outputs": [],
   "source": [
    "import pathlib\n",
    "import pandas as pd"
   ]
  },
  {
   "cell_type": "markdown",
   "id": "ee2f14c1-bf4a-4078-8fdb-841cc51ec2e8",
   "metadata": {},
   "source": [
    "## How many total compounds?"
   ]
  },
  {
   "cell_type": "code",
   "execution_count": 2,
   "id": "24b76a0f-9bd4-46e3-9250-7afafae707dd",
   "metadata": {},
   "outputs": [
    {
     "name": "stdout",
     "output_type": "stream",
     "text": [
      "(1571, 4)\n"
     ]
    },
    {
     "data": {
      "text/html": [
       "<div>\n",
       "<style scoped>\n",
       "    .dataframe tbody tr th:only-of-type {\n",
       "        vertical-align: middle;\n",
       "    }\n",
       "\n",
       "    .dataframe tbody tr th {\n",
       "        vertical-align: top;\n",
       "    }\n",
       "\n",
       "    .dataframe thead th {\n",
       "        text-align: right;\n",
       "    }\n",
       "</style>\n",
       "<table border=\"1\" class=\"dataframe\">\n",
       "  <thead>\n",
       "    <tr style=\"text-align: right;\">\n",
       "      <th></th>\n",
       "      <th>Metadata_broad_sample</th>\n",
       "      <th>broad_id</th>\n",
       "      <th>pert_iname</th>\n",
       "      <th>moa</th>\n",
       "    </tr>\n",
       "  </thead>\n",
       "  <tbody>\n",
       "    <tr>\n",
       "      <th>0</th>\n",
       "      <td>BRD-A00147595-001-01-5</td>\n",
       "      <td>BRD-A00147595</td>\n",
       "      <td>balaglitazone</td>\n",
       "      <td>Insulin sensitizer|PPAR receptor partial agonist</td>\n",
       "    </tr>\n",
       "    <tr>\n",
       "      <th>1</th>\n",
       "      <td>BRD-A00218260-001-03-4</td>\n",
       "      <td>BRD-A00218260</td>\n",
       "      <td>flutrimazole</td>\n",
       "      <td>Sterol demethylase inhibitor</td>\n",
       "    </tr>\n",
       "    <tr>\n",
       "      <th>2</th>\n",
       "      <td>BRD-A00376169-001-01-6</td>\n",
       "      <td>BRD-A00376169</td>\n",
       "      <td>kbg</td>\n",
       "      <td>Neprilysin inhibitor</td>\n",
       "    </tr>\n",
       "    <tr>\n",
       "      <th>3</th>\n",
       "      <td>BRD-A00546892-001-02-6</td>\n",
       "      <td>BRD-A00546892</td>\n",
       "      <td>biperiden</td>\n",
       "      <td>Acetylcholine receptor antagonist</td>\n",
       "    </tr>\n",
       "    <tr>\n",
       "      <th>4</th>\n",
       "      <td>BRD-A00938334-001-01-3</td>\n",
       "      <td>BRD-A00938334</td>\n",
       "      <td>drospirenone</td>\n",
       "      <td>Mineralocorticoid receptor antagonist</td>\n",
       "    </tr>\n",
       "  </tbody>\n",
       "</table>\n",
       "</div>"
      ],
      "text/plain": [
       "    Metadata_broad_sample       broad_id     pert_iname  \\\n",
       "0  BRD-A00147595-001-01-5  BRD-A00147595  balaglitazone   \n",
       "1  BRD-A00218260-001-03-4  BRD-A00218260   flutrimazole   \n",
       "2  BRD-A00376169-001-01-6  BRD-A00376169            kbg   \n",
       "3  BRD-A00546892-001-02-6  BRD-A00546892      biperiden   \n",
       "4  BRD-A00938334-001-01-3  BRD-A00938334   drospirenone   \n",
       "\n",
       "                                                moa  \n",
       "0  Insulin sensitizer|PPAR receptor partial agonist  \n",
       "1                      Sterol demethylase inhibitor  \n",
       "2                              Neprilysin inhibitor  \n",
       "3                 Acetylcholine receptor antagonist  \n",
       "4             Mineralocorticoid receptor antagonist  "
      ]
     },
     "execution_count": 2,
     "metadata": {},
     "output_type": "execute_result"
    }
   ],
   "source": [
    "aligned_file = pathlib.Path(\"Profiles_level4/aligned_moa_CP_L1000.csv\")\n",
    "aligned_df = pd.read_csv(aligned_file)\n",
    "\n",
    "print(aligned_df.shape)\n",
    "aligned_df.head()"
   ]
  },
  {
   "cell_type": "markdown",
   "id": "84c8b92f-5c46-4641-b83c-5feea7b5da02",
   "metadata": {},
   "source": [
    "## How many total MOAs?"
   ]
  },
  {
   "cell_type": "code",
   "execution_count": 3,
   "id": "87fa5296-6496-4d4e-a410-b72ecf6f125f",
   "metadata": {},
   "outputs": [
    {
     "name": "stdout",
     "output_type": "stream",
     "text": [
      "554\n"
     ]
    },
    {
     "data": {
      "text/html": [
       "<div>\n",
       "<style scoped>\n",
       "    .dataframe tbody tr th:only-of-type {\n",
       "        vertical-align: middle;\n",
       "    }\n",
       "\n",
       "    .dataframe tbody tr th {\n",
       "        vertical-align: top;\n",
       "    }\n",
       "\n",
       "    .dataframe thead th {\n",
       "        text-align: right;\n",
       "    }\n",
       "</style>\n",
       "<table border=\"1\" class=\"dataframe\">\n",
       "  <thead>\n",
       "    <tr style=\"text-align: right;\">\n",
       "      <th></th>\n",
       "      <th>moa</th>\n",
       "      <th>compound_count</th>\n",
       "    </tr>\n",
       "  </thead>\n",
       "  <tbody>\n",
       "    <tr>\n",
       "      <th>0</th>\n",
       "      <td>cyclooxygenase inhibitor</td>\n",
       "      <td>42</td>\n",
       "    </tr>\n",
       "    <tr>\n",
       "      <th>1</th>\n",
       "      <td>phosphodiesterase inhibitor</td>\n",
       "      <td>41</td>\n",
       "    </tr>\n",
       "    <tr>\n",
       "      <th>2</th>\n",
       "      <td>adrenergic receptor antagonist</td>\n",
       "      <td>40</td>\n",
       "    </tr>\n",
       "    <tr>\n",
       "      <th>3</th>\n",
       "      <td>serotonin receptor antagonist</td>\n",
       "      <td>38</td>\n",
       "    </tr>\n",
       "    <tr>\n",
       "      <th>4</th>\n",
       "      <td>dopamine receptor antagonist</td>\n",
       "      <td>35</td>\n",
       "    </tr>\n",
       "  </tbody>\n",
       "</table>\n",
       "</div>"
      ],
      "text/plain": [
       "                              moa  compound_count\n",
       "0        cyclooxygenase inhibitor              42\n",
       "1     phosphodiesterase inhibitor              41\n",
       "2  adrenergic receptor antagonist              40\n",
       "3   serotonin receptor antagonist              38\n",
       "4    dopamine receptor antagonist              35"
      ]
     },
     "execution_count": 3,
     "metadata": {},
     "output_type": "execute_result"
    }
   ],
   "source": [
    "moa_list = (\n",
    "    pd.DataFrame(\n",
    "        pd.concat([\n",
    "            pd.Series(x) for x in aligned_df.moa.str.split(\"|\")\n",
    "        ])\n",
    "        .dropna(), columns=['moa']\n",
    "    )\n",
    ")\n",
    "\n",
    "moa_list.moa = moa_list.moa.str.lower()\n",
    "moa_list = (\n",
    "    pd.DataFrame(\n",
    "        moa_list.moa.value_counts()\n",
    "    )\n",
    "    .reset_index()\n",
    "    .rename(columns={\"moa\": \"compound_count\", \"index\": \"moa\"})\n",
    ")\n",
    "\n",
    "print(moa_list.moa.nunique())\n",
    "moa_list.head()"
   ]
  },
  {
   "cell_type": "markdown",
   "id": "52c65549-29f6-48e7-8370-88c91d2c64e4",
   "metadata": {},
   "source": [
    "## How many perturbations and compounds in common?"
   ]
  },
  {
   "cell_type": "code",
   "execution_count": 4,
   "id": "8f0ff2e1-f77b-45ff-ad0f-94a1ae4b5d34",
   "metadata": {},
   "outputs": [
    {
     "name": "stdout",
     "output_type": "stream",
     "text": [
      "(7962, 10)\n"
     ]
    },
    {
     "data": {
      "text/html": [
       "<div>\n",
       "<style scoped>\n",
       "    .dataframe tbody tr th:only-of-type {\n",
       "        vertical-align: middle;\n",
       "    }\n",
       "\n",
       "    .dataframe tbody tr th {\n",
       "        vertical-align: top;\n",
       "    }\n",
       "\n",
       "    .dataframe thead th {\n",
       "        text-align: right;\n",
       "    }\n",
       "</style>\n",
       "<table border=\"1\" class=\"dataframe\">\n",
       "  <thead>\n",
       "    <tr style=\"text-align: right;\">\n",
       "      <th></th>\n",
       "      <th>compound</th>\n",
       "      <th>dose</th>\n",
       "      <th>median_replicate_score_cellpainting</th>\n",
       "      <th>median_replicate_score_l1000</th>\n",
       "      <th>pass_cellpainting_thresh</th>\n",
       "      <th>pass_l1000_thresh</th>\n",
       "      <th>pass_both</th>\n",
       "      <th>cell_painting_num_reproducible</th>\n",
       "      <th>l1000_num_reproducible</th>\n",
       "      <th>total_reproducible</th>\n",
       "    </tr>\n",
       "  </thead>\n",
       "  <tbody>\n",
       "    <tr>\n",
       "      <th>0</th>\n",
       "      <td>17-hydroxyprogesterone-caproate</td>\n",
       "      <td>0.04 uM</td>\n",
       "      <td>0.060655</td>\n",
       "      <td>0.024738</td>\n",
       "      <td>True</td>\n",
       "      <td>False</td>\n",
       "      <td>False</td>\n",
       "      <td>5</td>\n",
       "      <td>3</td>\n",
       "      <td>8</td>\n",
       "    </tr>\n",
       "    <tr>\n",
       "      <th>1</th>\n",
       "      <td>2-iminobiotin</td>\n",
       "      <td>0.04 uM</td>\n",
       "      <td>0.042700</td>\n",
       "      <td>-0.133693</td>\n",
       "      <td>False</td>\n",
       "      <td>False</td>\n",
       "      <td>False</td>\n",
       "      <td>0</td>\n",
       "      <td>2</td>\n",
       "      <td>2</td>\n",
       "    </tr>\n",
       "  </tbody>\n",
       "</table>\n",
       "</div>"
      ],
      "text/plain": [
       "                          compound     dose  \\\n",
       "0  17-hydroxyprogesterone-caproate  0.04 uM   \n",
       "1                    2-iminobiotin  0.04 uM   \n",
       "\n",
       "   median_replicate_score_cellpainting  median_replicate_score_l1000  \\\n",
       "0                             0.060655                      0.024738   \n",
       "1                             0.042700                     -0.133693   \n",
       "\n",
       "   pass_cellpainting_thresh  pass_l1000_thresh  pass_both  \\\n",
       "0                      True              False      False   \n",
       "1                     False              False      False   \n",
       "\n",
       "   cell_painting_num_reproducible  l1000_num_reproducible  total_reproducible  \n",
       "0                               5                       3                   8  \n",
       "1                               0                       2                   2  "
      ]
     },
     "execution_count": 4,
     "metadata": {},
     "output_type": "execute_result"
    }
   ],
   "source": [
    "common_file = pathlib.Path(\"..\", \"6.paper_figures\", \"data\", \"significant_compounds_by_threshold_both_assays.tsv.gz\")\n",
    "common_df = pd.read_csv(common_file, sep=\"\\t\")\n",
    "\n",
    "# Note this includes dose information\n",
    "print(common_df.shape)\n",
    "common_df.head(2)"
   ]
  },
  {
   "cell_type": "code",
   "execution_count": 5,
   "id": "4f0f84a0-13bf-454e-b593-1497efa63a31",
   "metadata": {},
   "outputs": [
    {
     "data": {
      "text/plain": [
       "(1327,)"
      ]
     },
     "execution_count": 5,
     "metadata": {},
     "output_type": "execute_result"
    }
   ],
   "source": [
    "# What about only common compounds?\n",
    "common_perts_df = common_df.loc[:, \"compound\"].drop_duplicates()\n",
    "common_perts_df.shape"
   ]
  },
  {
   "cell_type": "markdown",
   "id": "93f55602-2203-4662-84fe-efab5b739b0e",
   "metadata": {},
   "source": [
    "## How many MOAs in common?"
   ]
  },
  {
   "cell_type": "code",
   "execution_count": 6,
   "id": "49d569e0-f87e-4827-a7dc-a9ece4c6edeb",
   "metadata": {},
   "outputs": [
    {
     "name": "stdout",
     "output_type": "stream",
     "text": [
      "583\n"
     ]
    }
   ],
   "source": [
    "# From the Consensus/Data_Type/1.MOA-MEDIAN notebooks, we see that there are 583 MOAs in common\n",
    "print(583)"
   ]
  },
  {
   "cell_type": "markdown",
   "id": "cc92ad59-179f-44ce-bde0-405586ed4c99",
   "metadata": {},
   "source": [
    "## How many plates and platemaps?\n",
    "\n",
    "### L1000"
   ]
  },
  {
   "cell_type": "code",
   "execution_count": 7,
   "id": "bc46e802-3144-49c9-94cb-284517e9735d",
   "metadata": {},
   "outputs": [
    {
     "name": "stdout",
     "output_type": "stream",
     "text": [
      "(27837, 45)\n"
     ]
    },
    {
     "data": {
      "text/html": [
       "<div>\n",
       "<style scoped>\n",
       "    .dataframe tbody tr th:only-of-type {\n",
       "        vertical-align: middle;\n",
       "    }\n",
       "\n",
       "    .dataframe tbody tr th {\n",
       "        vertical-align: top;\n",
       "    }\n",
       "\n",
       "    .dataframe thead th {\n",
       "        text-align: right;\n",
       "    }\n",
       "</style>\n",
       "<table border=\"1\" class=\"dataframe\">\n",
       "  <thead>\n",
       "    <tr style=\"text-align: right;\">\n",
       "      <th></th>\n",
       "      <th>distil_id</th>\n",
       "      <th>bead_batch</th>\n",
       "      <th>bead_revision</th>\n",
       "      <th>bead_set</th>\n",
       "      <th>cell_id</th>\n",
       "      <th>count_cv</th>\n",
       "      <th>count_mean</th>\n",
       "      <th>det_mode</th>\n",
       "      <th>det_plate</th>\n",
       "      <th>det_well</th>\n",
       "      <th>...</th>\n",
       "      <th>x_mg_per_ml</th>\n",
       "      <th>x_mmoles_per_liter</th>\n",
       "      <th>x_purity</th>\n",
       "      <th>x_smiles</th>\n",
       "      <th>x_volume_ul</th>\n",
       "      <th>pert_plate</th>\n",
       "      <th>batch</th>\n",
       "      <th>nearest_dose</th>\n",
       "      <th>brew_prefix</th>\n",
       "      <th>group_id</th>\n",
       "    </tr>\n",
       "  </thead>\n",
       "  <tbody>\n",
       "    <tr>\n",
       "      <th>0</th>\n",
       "      <td>REP.A001_A549_24H_X1_B27:A03</td>\n",
       "      <td>b27</td>\n",
       "      <td>r2</td>\n",
       "      <td>dp52,dp53</td>\n",
       "      <td>A549</td>\n",
       "      <td>39</td>\n",
       "      <td>93</td>\n",
       "      <td>duo</td>\n",
       "      <td>REP.A001_A549_24H_X1_B27</td>\n",
       "      <td>A03</td>\n",
       "      <td>...</td>\n",
       "      <td>-666.00000</td>\n",
       "      <td>-666.0</td>\n",
       "      <td>-666.0</td>\n",
       "      <td>-666</td>\n",
       "      <td>13</td>\n",
       "      <td>REP.A001</td>\n",
       "      <td>REP.A</td>\n",
       "      <td>-666.0</td>\n",
       "      <td>REP.A001_A549_24H</td>\n",
       "      <td>REP.A001_A549_24H:A03</td>\n",
       "    </tr>\n",
       "    <tr>\n",
       "      <th>1</th>\n",
       "      <td>REP.A001_A549_24H_X1_B27:A04</td>\n",
       "      <td>b27</td>\n",
       "      <td>r2</td>\n",
       "      <td>dp52,dp53</td>\n",
       "      <td>A549</td>\n",
       "      <td>41</td>\n",
       "      <td>67</td>\n",
       "      <td>duo</td>\n",
       "      <td>REP.A001_A549_24H_X1_B27</td>\n",
       "      <td>A04</td>\n",
       "      <td>...</td>\n",
       "      <td>-666.00000</td>\n",
       "      <td>-666.0</td>\n",
       "      <td>-666.0</td>\n",
       "      <td>-666</td>\n",
       "      <td>13</td>\n",
       "      <td>REP.A001</td>\n",
       "      <td>REP.A</td>\n",
       "      <td>-666.0</td>\n",
       "      <td>REP.A001_A549_24H</td>\n",
       "      <td>REP.A001_A549_24H:A04</td>\n",
       "    </tr>\n",
       "    <tr>\n",
       "      <th>2</th>\n",
       "      <td>REP.A001_A549_24H_X1_B27:A05</td>\n",
       "      <td>b27</td>\n",
       "      <td>r2</td>\n",
       "      <td>dp52,dp53</td>\n",
       "      <td>A549</td>\n",
       "      <td>39</td>\n",
       "      <td>109</td>\n",
       "      <td>duo</td>\n",
       "      <td>REP.A001_A549_24H_X1_B27</td>\n",
       "      <td>A05</td>\n",
       "      <td>...</td>\n",
       "      <td>-666.00000</td>\n",
       "      <td>-666.0</td>\n",
       "      <td>-666.0</td>\n",
       "      <td>-666</td>\n",
       "      <td>13</td>\n",
       "      <td>REP.A001</td>\n",
       "      <td>REP.A</td>\n",
       "      <td>-666.0</td>\n",
       "      <td>REP.A001_A549_24H</td>\n",
       "      <td>REP.A001_A549_24H:A05</td>\n",
       "    </tr>\n",
       "    <tr>\n",
       "      <th>3</th>\n",
       "      <td>REP.A001_A549_24H_X1_B27:A06</td>\n",
       "      <td>b27</td>\n",
       "      <td>r2</td>\n",
       "      <td>dp52,dp53</td>\n",
       "      <td>A549</td>\n",
       "      <td>38</td>\n",
       "      <td>117</td>\n",
       "      <td>duo</td>\n",
       "      <td>REP.A001_A549_24H_X1_B27</td>\n",
       "      <td>A06</td>\n",
       "      <td>...</td>\n",
       "      <td>-666.00000</td>\n",
       "      <td>-666.0</td>\n",
       "      <td>-666.0</td>\n",
       "      <td>-666</td>\n",
       "      <td>13</td>\n",
       "      <td>REP.A001</td>\n",
       "      <td>REP.A</td>\n",
       "      <td>-666.0</td>\n",
       "      <td>REP.A001_A549_24H</td>\n",
       "      <td>REP.A001_A549_24H:A06</td>\n",
       "    </tr>\n",
       "    <tr>\n",
       "      <th>4</th>\n",
       "      <td>REP.A001_A549_24H_X1_B27:A07</td>\n",
       "      <td>b27</td>\n",
       "      <td>r2</td>\n",
       "      <td>dp52,dp53</td>\n",
       "      <td>A549</td>\n",
       "      <td>40</td>\n",
       "      <td>89</td>\n",
       "      <td>duo</td>\n",
       "      <td>REP.A001_A549_24H_X1_B27</td>\n",
       "      <td>A07</td>\n",
       "      <td>...</td>\n",
       "      <td>1.10546</td>\n",
       "      <td>10.0</td>\n",
       "      <td>100.0</td>\n",
       "      <td>NNC(N)=N</td>\n",
       "      <td>13</td>\n",
       "      <td>REP.A001</td>\n",
       "      <td>REP.A</td>\n",
       "      <td>10.0</td>\n",
       "      <td>REP.A001_A549_24H</td>\n",
       "      <td>REP.A001_A549_24H:A07</td>\n",
       "    </tr>\n",
       "  </tbody>\n",
       "</table>\n",
       "<p>5 rows × 45 columns</p>\n",
       "</div>"
      ],
      "text/plain": [
       "                      distil_id bead_batch bead_revision   bead_set cell_id  \\\n",
       "0  REP.A001_A549_24H_X1_B27:A03        b27            r2  dp52,dp53    A549   \n",
       "1  REP.A001_A549_24H_X1_B27:A04        b27            r2  dp52,dp53    A549   \n",
       "2  REP.A001_A549_24H_X1_B27:A05        b27            r2  dp52,dp53    A549   \n",
       "3  REP.A001_A549_24H_X1_B27:A06        b27            r2  dp52,dp53    A549   \n",
       "4  REP.A001_A549_24H_X1_B27:A07        b27            r2  dp52,dp53    A549   \n",
       "\n",
       "   count_cv  count_mean det_mode                 det_plate det_well  ...  \\\n",
       "0        39          93      duo  REP.A001_A549_24H_X1_B27      A03  ...   \n",
       "1        41          67      duo  REP.A001_A549_24H_X1_B27      A04  ...   \n",
       "2        39         109      duo  REP.A001_A549_24H_X1_B27      A05  ...   \n",
       "3        38         117      duo  REP.A001_A549_24H_X1_B27      A06  ...   \n",
       "4        40          89      duo  REP.A001_A549_24H_X1_B27      A07  ...   \n",
       "\n",
       "  x_mg_per_ml x_mmoles_per_liter  x_purity  x_smiles x_volume_ul pert_plate  \\\n",
       "0  -666.00000             -666.0    -666.0      -666          13   REP.A001   \n",
       "1  -666.00000             -666.0    -666.0      -666          13   REP.A001   \n",
       "2  -666.00000             -666.0    -666.0      -666          13   REP.A001   \n",
       "3  -666.00000             -666.0    -666.0      -666          13   REP.A001   \n",
       "4     1.10546               10.0     100.0  NNC(N)=N          13   REP.A001   \n",
       "\n",
       "   batch nearest_dose        brew_prefix               group_id  \n",
       "0  REP.A       -666.0  REP.A001_A549_24H  REP.A001_A549_24H:A03  \n",
       "1  REP.A       -666.0  REP.A001_A549_24H  REP.A001_A549_24H:A04  \n",
       "2  REP.A       -666.0  REP.A001_A549_24H  REP.A001_A549_24H:A05  \n",
       "3  REP.A       -666.0  REP.A001_A549_24H  REP.A001_A549_24H:A06  \n",
       "4  REP.A         10.0  REP.A001_A549_24H  REP.A001_A549_24H:A07  \n",
       "\n",
       "[5 rows x 45 columns]"
      ]
     },
     "execution_count": 7,
     "metadata": {},
     "output_type": "execute_result"
    }
   ],
   "source": [
    "l1000_meta_file = pathlib.Path(\"Profiles_level4/L1000/L1000_figshare_data/col_meta_level_3_REP.A_A549_only_n27837.txt\")\n",
    "l1000_meta_df = pd.read_csv(l1000_meta_file, sep=\"\\t\")\n",
    "\n",
    "print(l1000_meta_df.shape)\n",
    "l1000_meta_df.head()"
   ]
  },
  {
   "cell_type": "code",
   "execution_count": 8,
   "id": "5a97e550-a70c-4239-ac80-23becab92e40",
   "metadata": {},
   "outputs": [
    {
     "data": {
      "text/plain": [
       "25"
      ]
     },
     "execution_count": 8,
     "metadata": {},
     "output_type": "execute_result"
    }
   ],
   "source": [
    "# L1000 plate maps\n",
    "len(l1000_meta_df.pert_plate.unique())"
   ]
  },
  {
   "cell_type": "markdown",
   "id": "30102abe-8b5c-4233-abce-a0fee80cf00a",
   "metadata": {},
   "source": [
    "### Cell Painting"
   ]
  },
  {
   "cell_type": "code",
   "execution_count": 9,
   "id": "343b4b1c-eede-4928-9b74-6c791d442175",
   "metadata": {},
   "outputs": [
    {
     "name": "stdout",
     "output_type": "stream",
     "text": [
      "(1652, 4)\n"
     ]
    },
    {
     "data": {
      "text/html": [
       "<div>\n",
       "<style scoped>\n",
       "    .dataframe tbody tr th:only-of-type {\n",
       "        vertical-align: middle;\n",
       "    }\n",
       "\n",
       "    .dataframe tbody tr th {\n",
       "        vertical-align: top;\n",
       "    }\n",
       "\n",
       "    .dataframe thead th {\n",
       "        text-align: right;\n",
       "    }\n",
       "</style>\n",
       "<table border=\"1\" class=\"dataframe\">\n",
       "  <thead>\n",
       "    <tr style=\"text-align: right;\">\n",
       "      <th></th>\n",
       "      <th>broad_sample</th>\n",
       "      <th>broad_id</th>\n",
       "      <th>plate_map_name</th>\n",
       "      <th>solvent</th>\n",
       "    </tr>\n",
       "  </thead>\n",
       "  <tbody>\n",
       "    <tr>\n",
       "      <th>0</th>\n",
       "      <td>NaN</td>\n",
       "      <td>NaN</td>\n",
       "      <td>C-7161-01-LM6-018</td>\n",
       "      <td>DMSO</td>\n",
       "    </tr>\n",
       "    <tr>\n",
       "      <th>1</th>\n",
       "      <td>BRD-A62035778-004-03-6</td>\n",
       "      <td>BRD-A62035778</td>\n",
       "      <td>C-7161-01-LM6-018</td>\n",
       "      <td>DMSO</td>\n",
       "    </tr>\n",
       "    <tr>\n",
       "      <th>2</th>\n",
       "      <td>BRD-K62196610-001-01-6</td>\n",
       "      <td>BRD-K62196610</td>\n",
       "      <td>C-7161-01-LM6-018</td>\n",
       "      <td>DMSO</td>\n",
       "    </tr>\n",
       "    <tr>\n",
       "      <th>3</th>\n",
       "      <td>BRD-K62277907-001-01-6</td>\n",
       "      <td>BRD-K62277907</td>\n",
       "      <td>C-7161-01-LM6-018</td>\n",
       "      <td>DMSO</td>\n",
       "    </tr>\n",
       "    <tr>\n",
       "      <th>4</th>\n",
       "      <td>BRD-A62071884-001-04-6</td>\n",
       "      <td>BRD-A62071884</td>\n",
       "      <td>C-7161-01-LM6-018</td>\n",
       "      <td>DMSO</td>\n",
       "    </tr>\n",
       "  </tbody>\n",
       "</table>\n",
       "</div>"
      ],
      "text/plain": [
       "             broad_sample       broad_id     plate_map_name solvent\n",
       "0                     NaN            NaN  C-7161-01-LM6-018    DMSO\n",
       "1  BRD-A62035778-004-03-6  BRD-A62035778  C-7161-01-LM6-018    DMSO\n",
       "2  BRD-K62196610-001-01-6  BRD-K62196610  C-7161-01-LM6-018    DMSO\n",
       "3  BRD-K62277907-001-01-6  BRD-K62277907  C-7161-01-LM6-018    DMSO\n",
       "4  BRD-A62071884-001-04-6  BRD-A62071884  C-7161-01-LM6-018    DMSO"
      ]
     },
     "execution_count": 9,
     "metadata": {},
     "output_type": "execute_result"
    }
   ],
   "source": [
    "cp_platemap_file = \"https://github.com/broadinstitute/lincs-cell-painting/raw/94bfaeeab0d107beac262b4307aa6e9b783625fa/metadata/platemaps/broad_sample_info.tsv\"\n",
    "cp_meta_df = pd.read_csv(cp_platemap_file, sep=\"\\t\")\n",
    "\n",
    "print(cp_meta_df.shape)\n",
    "cp_meta_df.head()"
   ]
  },
  {
   "cell_type": "code",
   "execution_count": 10,
   "id": "d52f46be-89c4-4567-bbed-19a48dac38ff",
   "metadata": {},
   "outputs": [
    {
     "data": {
      "text/plain": [
       "28"
      ]
     },
     "execution_count": 10,
     "metadata": {},
     "output_type": "execute_result"
    }
   ],
   "source": [
    "# Cell Painting plate maps\n",
    "len(cp_meta_df.plate_map_name.unique())"
   ]
  },
  {
   "cell_type": "code",
   "execution_count": 11,
   "id": "86e55fdd-b0cf-458b-ab64-377d63e4560d",
   "metadata": {},
   "outputs": [
    {
     "name": "stdout",
     "output_type": "stream",
     "text": [
      "(384, 6)\n"
     ]
    },
    {
     "data": {
      "text/html": [
       "<div>\n",
       "<style scoped>\n",
       "    .dataframe tbody tr th:only-of-type {\n",
       "        vertical-align: middle;\n",
       "    }\n",
       "\n",
       "    .dataframe tbody tr th {\n",
       "        vertical-align: top;\n",
       "    }\n",
       "\n",
       "    .dataframe thead th {\n",
       "        text-align: right;\n",
       "    }\n",
       "</style>\n",
       "<table border=\"1\" class=\"dataframe\">\n",
       "  <thead>\n",
       "    <tr style=\"text-align: right;\">\n",
       "      <th></th>\n",
       "      <th>plate_map_name</th>\n",
       "      <th>well_position</th>\n",
       "      <th>broad_sample</th>\n",
       "      <th>mg_per_ml</th>\n",
       "      <th>mmoles_per_liter</th>\n",
       "      <th>solvent</th>\n",
       "    </tr>\n",
       "  </thead>\n",
       "  <tbody>\n",
       "    <tr>\n",
       "      <th>0</th>\n",
       "      <td>C-7161-01-LM6-001</td>\n",
       "      <td>A01</td>\n",
       "      <td>DMSO</td>\n",
       "      <td>NaN</td>\n",
       "      <td>NaN</td>\n",
       "      <td>DMSO</td>\n",
       "    </tr>\n",
       "    <tr>\n",
       "      <th>1</th>\n",
       "      <td>C-7161-01-LM6-001</td>\n",
       "      <td>A02</td>\n",
       "      <td>DMSO</td>\n",
       "      <td>NaN</td>\n",
       "      <td>NaN</td>\n",
       "      <td>DMSO</td>\n",
       "    </tr>\n",
       "  </tbody>\n",
       "</table>\n",
       "</div>"
      ],
      "text/plain": [
       "      plate_map_name well_position broad_sample  mg_per_ml  mmoles_per_liter  \\\n",
       "0  C-7161-01-LM6-001           A01         DMSO        NaN               NaN   \n",
       "1  C-7161-01-LM6-001           A02         DMSO        NaN               NaN   \n",
       "\n",
       "  solvent  \n",
       "0    DMSO  \n",
       "1    DMSO  "
      ]
     },
     "execution_count": 11,
     "metadata": {},
     "output_type": "execute_result"
    }
   ],
   "source": [
    "# Example platemap\n",
    "eg_plate_file = \"https://github.com/broadinstitute/lincs-cell-painting/raw/94bfaeeab0d107beac262b4307aa6e9b783625fa/metadata/platemaps/2016_04_01_a549_48hr_batch1/platemap/C-7161-01-LM6-001.txt\"\n",
    "eg_plate_df = pd.read_csv(eg_plate_file, sep=\"\\t\")\n",
    "\n",
    "eg_plate_df.broad_sample = eg_plate_df.broad_sample.fillna(\"DMSO\")\n",
    "\n",
    "print(eg_plate_df.shape)\n",
    "eg_plate_df.head(2)"
   ]
  },
  {
   "cell_type": "code",
   "execution_count": 12,
   "id": "181cad18-69c0-4742-a4ef-3b3c520a5c86",
   "metadata": {},
   "outputs": [
    {
     "data": {
      "text/plain": [
       "DMSO                      24\n",
       "BRD-K60230970-001-10-0    12\n",
       "BRD-K50691590-001-02-2    12\n",
       "BRD-K27938825-001-02-4     6\n",
       "BRD-K28542495-003-13-5     6\n",
       "Name: broad_sample, dtype: int64"
      ]
     },
     "execution_count": 12,
     "metadata": {},
     "output_type": "execute_result"
    }
   ],
   "source": [
    "eg_plate_df.broad_sample.value_counts().head(5)"
   ]
  },
  {
   "cell_type": "code",
   "execution_count": 13,
   "id": "fedd88a5-99c9-4e43-813f-fcb6bdfc955e",
   "metadata": {},
   "outputs": [
    {
     "data": {
      "text/plain": [
       "56"
      ]
     },
     "execution_count": 13,
     "metadata": {},
     "output_type": "execute_result"
    }
   ],
   "source": [
    "eg_plate_df.query(\"broad_sample not in ['DMSO', 'BRD-K50691590-001-02-2', 'BRD-K60230970-001-10-0']\").broad_sample.nunique()"
   ]
  }
 ],
 "metadata": {
  "kernelspec": {
   "display_name": "Python [conda env:lincs-complimentarity] *",
   "language": "python",
   "name": "conda-env-lincs-complimentarity-py"
  },
  "language_info": {
   "codemirror_mode": {
    "name": "ipython",
    "version": 3
   },
   "file_extension": ".py",
   "mimetype": "text/x-python",
   "name": "python",
   "nbconvert_exporter": "python",
   "pygments_lexer": "ipython3",
   "version": "3.9.6"
  }
 },
 "nbformat": 4,
 "nbformat_minor": 5
}
