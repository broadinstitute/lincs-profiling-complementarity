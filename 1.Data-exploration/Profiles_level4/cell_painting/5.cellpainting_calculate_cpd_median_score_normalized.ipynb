{
 "cells": [
  {
   "cell_type": "markdown",
   "id": "a59d6553-7d0f-4719-946f-c62f47d73535",
   "metadata": {},
   "source": [
    "## Level 4 - Normalized DMSO Profiles Cell painting data\n",
    "\n",
    "The goal here:\n",
    "\n",
    "-- is to determine the median score of each compound per dose based on taking the median of the correlation values between replicates of the same compound.\n",
    "\n",
    "    Level 4 data - are replicate level data i.e. where you have multiple profiles been perturbed by the same compound (pertubagen)\n",
    "\n",
    "Note: This script is modified from @adeboyeML's work at https://github.com/broadinstitute/lincs-profiling-comparison/blob/b5478f3fdfc5731aac3b4b9259cffd17b65f1b3b/1.Data-exploration/Profiles_level4/cell_painting/Cellpainting_calculate_cpd_median_score.ipynb"
   ]
  },
  {
   "cell_type": "code",
   "execution_count": 1,
   "id": "d35753ad-d6a3-4fe1-b4b5-7b446933c0ba",
   "metadata": {},
   "outputs": [],
   "source": [
    "import os\n",
    "import pathlib\n",
    "import pandas as pd\n",
    "import numpy as np\n",
    "from collections import defaultdict\n",
    "import matplotlib.pyplot as plt\n",
    "%matplotlib inline\n",
    "import seaborn as sns\n",
    "from pycytominer import feature_select\n",
    "from statistics import median\n",
    "import random\n",
    "sns.set_style(\"darkgrid\")\n",
    "from scipy import stats\n",
    "import pickle\n",
    "\n",
    "import warnings\n",
    "warnings.simplefilter(action='ignore', category=FutureWarning)\n",
    "np.warnings.filterwarnings('ignore', category=np.VisibleDeprecationWarning)"
   ]
  },
  {
   "cell_type": "code",
   "execution_count": 2,
   "id": "1d27d6f8-5046-46bc-bc8a-1a2e1fdf0d4b",
   "metadata": {},
   "outputs": [
    {
     "name": "stdout",
     "output_type": "stream",
     "text": [
      "136\n"
     ]
    }
   ],
   "source": [
    "# Load dvc data pulled from https://github.com/broadinstitute/lincs-cell-painting\n",
    "lincs_dir = pathlib.Path(\"../../../../lincs-cell-painting/profiles/2016_04_01_a549_48hr_batch1/\")\n",
    "plates = [x.name for x in lincs_dir.iterdir()]\n",
    "\n",
    "normalized_dmso_lvl4_files = []\n",
    "for plate in plates:\n",
    "    plate_dir = pathlib.Path(f\"{lincs_dir}/{plate}\")\n",
    "    for file in plate_dir.iterdir():\n",
    "        if file.name.endswith('normalized_dmso.csv.gz'):\n",
    "                normalized_dmso_lvl4_files.append(file)\n",
    "\n",
    "print(len(normalized_dmso_lvl4_files))"
   ]
  },
  {
   "cell_type": "code",
   "execution_count": 3,
   "id": "341e8545-f91a-49e0-b3b2-bd7db1ed08a6",
   "metadata": {},
   "outputs": [
    {
     "name": "stdout",
     "output_type": "stream",
     "text": [
      "(52223, 1810)\n"
     ]
    },
    {
     "data": {
      "text/plain": [
       "136"
      ]
     },
     "execution_count": 3,
     "metadata": {},
     "output_type": "execute_result"
    }
   ],
   "source": [
    "df_level4 = pd.concat(map(pd.read_csv, normalized_dmso_lvl4_files)).reset_index(drop=True)\n",
    "print(df_level4.shape)\n",
    "len(df_level4['Metadata_Plate'].unique())"
   ]
  },
  {
   "cell_type": "code",
   "execution_count": 4,
   "id": "9c1e3b78-e87b-4e8e-ade4-0ee133a76d7b",
   "metadata": {},
   "outputs": [
    {
     "data": {
      "text/plain": [
       "[0.0,\n",
       " 1.0,\n",
       " 0.33333,\n",
       " 0.11111,\n",
       " 0.037037,\n",
       " 0.012346,\n",
       " 0.0041152,\n",
       " 10.0,\n",
       " 3.3333,\n",
       " 1.1111,\n",
       " 0.37037,\n",
       " 0.12346,\n",
       " 0.041152,\n",
       " 20.0,\n",
       " 19.999,\n",
       " 11.2,\n",
       " 3.7333,\n",
       " 1.2444,\n",
       " 0.41481,\n",
       " 0.13827,\n",
       " 0.04609,\n",
       " 9.5837,\n",
       " 3.1946,\n",
       " 1.0649,\n",
       " 0.35495,\n",
       " 0.11832,\n",
       " 0.039439,\n",
       " 11.547,\n",
       " 3.8489,\n",
       " 1.283,\n",
       " 0.42766,\n",
       " 0.14255,\n",
       " 0.047517,\n",
       " 6.7937,\n",
       " 2.2646,\n",
       " 0.75485,\n",
       " 0.25162,\n",
       " 0.083873,\n",
       " 0.027958,\n",
       " 10.05,\n",
       " 3.3499,\n",
       " 1.1166,\n",
       " 0.37221,\n",
       " 0.12407,\n",
       " 0.041356,\n",
       " 10.716,\n",
       " 3.5721,\n",
       " 1.1907,\n",
       " 0.3969,\n",
       " 0.1323,\n",
       " 0.0441,\n",
       " 4.5176,\n",
       " 1.5059,\n",
       " 0.50195,\n",
       " 0.16732,\n",
       " 0.055772,\n",
       " 0.018591,\n",
       " 2.0,\n",
       " 0.66667,\n",
       " 0.22222,\n",
       " 0.074074,\n",
       " 0.024691,\n",
       " 0.0082305,\n",
       " 4.1701,\n",
       " 1.39,\n",
       " 0.46334,\n",
       " 0.15445,\n",
       " 0.051482,\n",
       " 0.017161,\n",
       " 4.8003,\n",
       " 1.6001,\n",
       " 0.53337,\n",
       " 0.17779,\n",
       " 0.059264,\n",
       " 0.019755,\n",
       " 5.7741,\n",
       " 1.9247,\n",
       " 0.64157,\n",
       " 0.21386,\n",
       " 0.071285,\n",
       " 0.023762,\n",
       " 10.072,\n",
       " 3.3574,\n",
       " 1.1191,\n",
       " 0.37305,\n",
       " 0.12435,\n",
       " 0.04145,\n",
       " 8.106,\n",
       " 2.702,\n",
       " 0.90067,\n",
       " 0.30022,\n",
       " 0.10007,\n",
       " 0.033358]"
      ]
     },
     "execution_count": 4,
     "metadata": {},
     "output_type": "execute_result"
    }
   ],
   "source": [
    "dose_liter = df_level4['Metadata_mmoles_per_liter'].unique().tolist()\n",
    "dose_liter"
   ]
  },
  {
   "cell_type": "code",
   "execution_count": 5,
   "id": "5da39f6c-4888-4430-be1f-7cdfee535af7",
   "metadata": {},
   "outputs": [],
   "source": [
    "def recode_dose(dose_value):\n",
    "    \"\"\"This function recode the doses in Level-4 data to 8 distinct dose classes\"\"\"\n",
    "    \n",
    "    doses = [0.04,0.12,0.37,1.11,3.33,10.0,20.0,25.0]\n",
    "    for x in range(len(doses)-1):\n",
    "        if (dose_value > 0.0) & (dose_value <= 0.04):\n",
    "            dose_value = 0.04\n",
    "        elif doses[x] <= round(dose_value,2) < doses[x+1]:\n",
    "            dose_value = doses[x]\n",
    "    return dose_value"
   ]
  },
  {
   "cell_type": "code",
   "execution_count": 6,
   "id": "09c27b9a-483b-4143-8069-a44f053ff18d",
   "metadata": {},
   "outputs": [
    {
     "data": {
      "text/plain": [
       "array([ 0.  ,  0.37,  0.12,  0.04, 10.  ,  3.33,  1.11, 20.  ])"
      ]
     },
     "execution_count": 6,
     "metadata": {},
     "output_type": "execute_result"
    }
   ],
   "source": [
    "df_level4['Metadata_dose_recode'] = df_level4['Metadata_mmoles_per_liter'].apply(recode_dose)\n",
    "df_level4['Metadata_dose_recode'].unique()"
   ]
  },
  {
   "cell_type": "code",
   "execution_count": 7,
   "id": "a2277494-1876-4f21-8c73-a646c225dced",
   "metadata": {},
   "outputs": [],
   "source": [
    "def feature_selection(df_lvl4): \n",
    "    \"\"\"\n",
    "    Perform feature selection by dropping columns with null values \n",
    "    (greater than 384 i.e. equivalent to one plate worth of cell profiles) \n",
    "    and highly correlated values from the data.\n",
    "    \"\"\"\n",
    "    metadata_columns = [x for x in df_lvl4.columns if (x.startswith(\"Metadata_\"))]\n",
    "    df_lvl4_metadata = df_lvl4[metadata_columns].copy()\n",
    "    df_lvl4_features = df_lvl4.drop(metadata_columns, axis = 1)\n",
    "    null_cols = [col for col in df_lvl4_features.columns if df_lvl4_features[col].isnull().sum() > 384]\n",
    "    df_lvl4_features.drop(null_cols, axis = 1, inplace=True)\n",
    "    df_lvl4_features = feature_select(df_lvl4_features, operation=[\"correlation_threshold\", \"variance_threshold\"])\n",
    "    \n",
    "    for col in df_lvl4_features.columns:\n",
    "        if df_lvl4_features[col].isnull().sum():\n",
    "            df_lvl4_features[col].fillna(value=df_lvl4_features[col].mean(), inplace = True)\n",
    "            \n",
    "    df_meta_info = df_lvl4_metadata[['Metadata_broad_sample', 'Metadata_pert_id', 'Metadata_Plate', 'Metadata_Well',\n",
    "                                     'Metadata_broad_id', 'Metadata_moa', 'Metadata_dose_recode']].copy()\n",
    "    df_lvl4_new = pd.concat([df_meta_info, df_lvl4_features], axis=1)\n",
    "    \n",
    "    return df_lvl4_new"
   ]
  },
  {
   "cell_type": "code",
   "execution_count": 8,
   "id": "02ef71e2-67c0-44ef-b15f-9f8bf0984ef2",
   "metadata": {},
   "outputs": [
    {
     "data": {
      "text/plain": [
       "(52223, 752)"
      ]
     },
     "execution_count": 8,
     "metadata": {},
     "output_type": "execute_result"
    }
   ],
   "source": [
    "df_level4_new = feature_selection(df_level4)\n",
    "df_level4_new.shape"
   ]
  },
  {
   "cell_type": "code",
   "execution_count": 9,
   "id": "d4bdf807-e1c4-4262-b0c7-b43f1bc2715a",
   "metadata": {},
   "outputs": [],
   "source": [
    "def merge_dataframe(df, pertinfo_file):\n",
    "    \"\"\"\n",
    "    This function merge aligned L1000 and Cell painting Metadata information dataframe \n",
    "    with the Level-4 data, change the values of the Metadata_dose_recode column \n",
    "    and create a new column 'replicate_name' that represents each replicate in the dataset\n",
    "    \"\"\" \n",
    "    df_pertinfo = pd.read_csv(pertinfo_file)\n",
    "    df_lvl4_new = df.merge(df_pertinfo, on='Metadata_broad_sample', how = 'outer')\n",
    "    no_cpds_df = df_lvl4_new[df_lvl4_new['pert_iname'].isnull()].copy().reset_index(drop = True)\n",
    "    df_lvl4_new.drop(df_lvl4_new[df_lvl4_new['pert_iname'].isnull()].index, inplace = True)\n",
    "    df_lvl4_new.reset_index(drop= True, inplace = True)\n",
    "    df_lvl4_new['Metadata_dose_recode'] = df_lvl4_new['Metadata_dose_recode'].map({0.0:0,0.04:1,0.12:2,0.37:3,1.11:4,\n",
    "                                                                                   3.33:5,10.0:6,20.0:7})\n",
    "    df_lvl4_new['replicate_name'] = ['replicate_' + str(x) for x in range(df_lvl4_new.shape[0])]\n",
    "    \n",
    "    return df_lvl4_new, no_cpds_df"
   ]
  },
  {
   "cell_type": "code",
   "execution_count": 10,
   "id": "dc73ca4d-7442-4156-895b-6af9a60a2651",
   "metadata": {},
   "outputs": [],
   "source": [
    "pertinfo_file = '../aligned_moa_CP_L1000.csv'"
   ]
  },
  {
   "cell_type": "code",
   "execution_count": 11,
   "id": "3302477e-84f6-41de-9f68-509cf0476eb2",
   "metadata": {},
   "outputs": [],
   "source": [
    "df_level4_new, df_level4_no_cpds = merge_dataframe(df_level4_new, pertinfo_file)"
   ]
  },
  {
   "cell_type": "code",
   "execution_count": 12,
   "id": "a9244cf0-80eb-4df2-bab2-b022549e9082",
   "metadata": {},
   "outputs": [
    {
     "data": {
      "text/plain": [
       "['BRD-A20131130-001-01-7',\n",
       " 'BRD-M98279124-300-01-1',\n",
       " 'BRD-K87278688-001-01-0',\n",
       " 'BRD-K21547160-001-01-4',\n",
       " 'BRD-A44448661-001-04-8',\n",
       " 'BRD-K41438959-001-01-7',\n",
       " 'BRD-A37288617-003-02-2',\n",
       " 'BRD-K52080565-001-09-2',\n",
       " 'BRD-K73395020-001-02-3',\n",
       " 'BRD-K01192156-001-02-7',\n",
       " 'BRD-A84045418-001-03-1',\n",
       " 'BRD-K60623809-001-02-0',\n",
       " 'BRD-K51033547-003-02-6']"
      ]
     },
     "execution_count": 12,
     "metadata": {},
     "output_type": "execute_result"
    }
   ],
   "source": [
    "##list of \"Broad samples\" WITHOUT Compounds after aligning L1000 and Cell painting MOAs\n",
    "df_level4_no_cpds['Metadata_broad_sample'].unique().tolist()"
   ]
  },
  {
   "cell_type": "code",
   "execution_count": 13,
   "id": "b54ea57c-0140-4dbb-9ba6-b7ee0497fb6a",
   "metadata": {},
   "outputs": [],
   "source": [
    "def get_median_score(cpds_list, df):\n",
    "    \"\"\"\n",
    "    This function calculates the median score for each compound based on its replicates\n",
    "    \"\"\"\n",
    "    \n",
    "    cpds_median_score = {}\n",
    "    for cpd in cpds_list:\n",
    "        cpd_replicates = df[df['pert_iname'] == cpd].copy()\n",
    "        cpd_replicates.drop(['Metadata_broad_sample', 'Metadata_pert_id', 'Metadata_dose_recode', 'Metadata_Plate',\n",
    "                             'Metadata_Well', 'Metadata_broad_id', 'Metadata_moa', 'broad_id', \n",
    "                             'pert_iname', 'moa', 'replicate_name'], axis = 1, inplace = True)\n",
    "        cpd_replicates_corr = cpd_replicates.astype('float64').T.corr(method = 'pearson').values\n",
    "        if len(cpd_replicates_corr) == 1:\n",
    "            median_val = 1\n",
    "        else:\n",
    "            median_val = median(list(cpd_replicates_corr[np.triu_indices(len(cpd_replicates_corr), k = 1)]))\n",
    "        \n",
    "        cpds_median_score[cpd] = median_val\n",
    "        \n",
    "    return cpds_median_score"
   ]
  },
  {
   "cell_type": "code",
   "execution_count": 14,
   "id": "47a8b42f-a8de-4816-b048-1cfa752645ef",
   "metadata": {},
   "outputs": [],
   "source": [
    "def check_compounds(cpd_med_score, df):\n",
    "    \"\"\"\n",
    "    Check if all distinct compounds in the Level-4 dataframe are present \n",
    "    in the cpd_med_score dictionary, if not add the compounds as keys to the dictionary \n",
    "    and give them a null value.\n",
    "    \"\"\"\n",
    "    cpd_list = df['pert_iname'].unique().tolist()\n",
    "    cpd_keys = cpd_med_score.keys()\n",
    "    for cpd in cpd_list:\n",
    "        if cpd not in cpd_keys:\n",
    "            cpd_med_score[cpd] = np.nan\n",
    "            \n",
    "    return cpd_med_score"
   ]
  },
  {
   "cell_type": "code",
   "execution_count": 15,
   "id": "9469923f-4208-492c-862e-5b21e03c5982",
   "metadata": {},
   "outputs": [],
   "source": [
    "def get_cpd_medianscores(df):\n",
    "    \n",
    "    \"\"\"This function computes median scores for all compounds found in the Level-4 dataframe PER DOSE (1-6)\"\"\"\n",
    "    \n",
    "    dose_list = list(set(df['Metadata_dose_recode'].unique().tolist()))[1:7]\n",
    "    \n",
    "    for dose in dose_list:\n",
    "        df_dose = df[df['Metadata_dose_recode'] == dose].copy()\n",
    "        cpds_list = df_dose['pert_iname'].unique().tolist()\n",
    "        cpds_median_score = get_median_score(cpds_list, df_dose)\n",
    "        cpds_median_score = check_compounds(cpds_median_score, df)\n",
    "        sorted_med_score = {key:value for key, value in sorted(cpds_median_score.items(), key=lambda item: item[0])}\n",
    "        if dose == 1:\n",
    "            df_cpd_med_score = pd.DataFrame.from_dict(sorted_med_score, orient='index', columns = ['dose_1'])\n",
    "        else:\n",
    "            df_cpd_med_score['dose_' + str(dose)] = sorted_med_score.values()\n",
    "            \n",
    "    return df_cpd_med_score"
   ]
  },
  {
   "cell_type": "code",
   "execution_count": 16,
   "id": "d037c0d5-842c-4251-95ce-9733a7e91911",
   "metadata": {},
   "outputs": [],
   "source": [
    "df_cpd_med_score = get_cpd_medianscores(df_level4_new)"
   ]
  },
  {
   "cell_type": "code",
   "execution_count": 17,
   "id": "7a970554-585b-4faa-953b-78d24a44b4bb",
   "metadata": {},
   "outputs": [
    {
     "data": {
      "text/html": [
       "<div>\n",
       "<style scoped>\n",
       "    .dataframe tbody tr th:only-of-type {\n",
       "        vertical-align: middle;\n",
       "    }\n",
       "\n",
       "    .dataframe tbody tr th {\n",
       "        vertical-align: top;\n",
       "    }\n",
       "\n",
       "    .dataframe thead th {\n",
       "        text-align: right;\n",
       "    }\n",
       "</style>\n",
       "<table border=\"1\" class=\"dataframe\">\n",
       "  <thead>\n",
       "    <tr style=\"text-align: right;\">\n",
       "      <th></th>\n",
       "      <th>dose_1</th>\n",
       "      <th>dose_2</th>\n",
       "      <th>dose_3</th>\n",
       "      <th>dose_4</th>\n",
       "      <th>dose_5</th>\n",
       "      <th>dose_6</th>\n",
       "    </tr>\n",
       "  </thead>\n",
       "  <tbody>\n",
       "    <tr>\n",
       "      <th>10-DEBC</th>\n",
       "      <td>-0.000866</td>\n",
       "      <td>-0.000675</td>\n",
       "      <td>0.000363</td>\n",
       "      <td>0.027710</td>\n",
       "      <td>0.371889</td>\n",
       "      <td>0.001344</td>\n",
       "    </tr>\n",
       "    <tr>\n",
       "      <th>16,16-dimethylprostaglandin-e2</th>\n",
       "      <td>0.119607</td>\n",
       "      <td>0.001265</td>\n",
       "      <td>0.010842</td>\n",
       "      <td>NaN</td>\n",
       "      <td>NaN</td>\n",
       "      <td>NaN</td>\n",
       "    </tr>\n",
       "    <tr>\n",
       "      <th>17-hydroxyprogesterone-caproate</th>\n",
       "      <td>0.420117</td>\n",
       "      <td>0.174304</td>\n",
       "      <td>0.002633</td>\n",
       "      <td>0.005545</td>\n",
       "      <td>-0.001344</td>\n",
       "      <td>0.087531</td>\n",
       "    </tr>\n",
       "    <tr>\n",
       "      <th>2-iminobiotin</th>\n",
       "      <td>0.006743</td>\n",
       "      <td>0.006157</td>\n",
       "      <td>0.001829</td>\n",
       "      <td>0.029530</td>\n",
       "      <td>-0.001344</td>\n",
       "      <td>0.001358</td>\n",
       "    </tr>\n",
       "    <tr>\n",
       "      <th>2-methoxyestradiol</th>\n",
       "      <td>0.001785</td>\n",
       "      <td>0.003419</td>\n",
       "      <td>0.001604</td>\n",
       "      <td>0.453471</td>\n",
       "      <td>0.450806</td>\n",
       "      <td>0.535361</td>\n",
       "    </tr>\n",
       "    <tr>\n",
       "      <th>3,3'-diindolylmethane</th>\n",
       "      <td>0.022752</td>\n",
       "      <td>-0.021511</td>\n",
       "      <td>0.019874</td>\n",
       "      <td>NaN</td>\n",
       "      <td>NaN</td>\n",
       "      <td>NaN</td>\n",
       "    </tr>\n",
       "    <tr>\n",
       "      <th>3-amino-benzamide</th>\n",
       "      <td>0.002071</td>\n",
       "      <td>0.216798</td>\n",
       "      <td>0.008649</td>\n",
       "      <td>0.001617</td>\n",
       "      <td>0.000475</td>\n",
       "      <td>0.272364</td>\n",
       "    </tr>\n",
       "    <tr>\n",
       "      <th>3-deazaadenosine</th>\n",
       "      <td>-0.001438</td>\n",
       "      <td>-0.001403</td>\n",
       "      <td>0.000457</td>\n",
       "      <td>0.000966</td>\n",
       "      <td>-0.001108</td>\n",
       "      <td>0.006632</td>\n",
       "    </tr>\n",
       "    <tr>\n",
       "      <th>ABT-737</th>\n",
       "      <td>-0.002749</td>\n",
       "      <td>0.212613</td>\n",
       "      <td>0.048614</td>\n",
       "      <td>0.029682</td>\n",
       "      <td>0.001937</td>\n",
       "      <td>0.479857</td>\n",
       "    </tr>\n",
       "    <tr>\n",
       "      <th>AEE788</th>\n",
       "      <td>0.538986</td>\n",
       "      <td>0.136833</td>\n",
       "      <td>0.418408</td>\n",
       "      <td>0.459766</td>\n",
       "      <td>0.501697</td>\n",
       "      <td>0.428956</td>\n",
       "    </tr>\n",
       "  </tbody>\n",
       "</table>\n",
       "</div>"
      ],
      "text/plain": [
       "                                   dose_1    dose_2    dose_3    dose_4  \\\n",
       "10-DEBC                         -0.000866 -0.000675  0.000363  0.027710   \n",
       "16,16-dimethylprostaglandin-e2   0.119607  0.001265  0.010842       NaN   \n",
       "17-hydroxyprogesterone-caproate  0.420117  0.174304  0.002633  0.005545   \n",
       "2-iminobiotin                    0.006743  0.006157  0.001829  0.029530   \n",
       "2-methoxyestradiol               0.001785  0.003419  0.001604  0.453471   \n",
       "3,3'-diindolylmethane            0.022752 -0.021511  0.019874       NaN   \n",
       "3-amino-benzamide                0.002071  0.216798  0.008649  0.001617   \n",
       "3-deazaadenosine                -0.001438 -0.001403  0.000457  0.000966   \n",
       "ABT-737                         -0.002749  0.212613  0.048614  0.029682   \n",
       "AEE788                           0.538986  0.136833  0.418408  0.459766   \n",
       "\n",
       "                                   dose_5    dose_6  \n",
       "10-DEBC                          0.371889  0.001344  \n",
       "16,16-dimethylprostaglandin-e2        NaN       NaN  \n",
       "17-hydroxyprogesterone-caproate -0.001344  0.087531  \n",
       "2-iminobiotin                   -0.001344  0.001358  \n",
       "2-methoxyestradiol               0.450806  0.535361  \n",
       "3,3'-diindolylmethane                 NaN       NaN  \n",
       "3-amino-benzamide                0.000475  0.272364  \n",
       "3-deazaadenosine                -0.001108  0.006632  \n",
       "ABT-737                          0.001937  0.479857  \n",
       "AEE788                           0.501697  0.428956  "
      ]
     },
     "execution_count": 17,
     "metadata": {},
     "output_type": "execute_result"
    }
   ],
   "source": [
    "df_cpd_med_score.head(10)"
   ]
  },
  {
   "cell_type": "code",
   "execution_count": 18,
   "id": "24bd3949-7fb0-4002-8096-d875c5a06d24",
   "metadata": {},
   "outputs": [],
   "source": [
    "def no_of_replicates_per_cpd(df, df_lvl4):\n",
    "    \"\"\"This function computes the numbers of replicates for each compound (cpd_size)\"\"\"\n",
    "    \n",
    "    dose_list = list(set(df_lvl4['Metadata_dose_recode'].unique().tolist()))[1:7]\n",
    "    cpds_size = {}\n",
    "    for cpd in df.index:\n",
    "        num_of_replicates = 0\n",
    "        for dose in dose_list:\n",
    "            df_dose = df_lvl4[df_lvl4['Metadata_dose_recode'] == dose].copy()\n",
    "            cpd_replicates = df_dose[df_dose['pert_iname'] == cpd].copy()\n",
    "            num_of_replicates += cpd_replicates.shape[0]\n",
    "        cpd_replicate_length = num_of_replicates // len(dose_list)\n",
    "        cpds_size[cpd] = cpd_replicate_length\n",
    "    df['cpd_size'] = cpds_size.values()\n",
    "    \n",
    "    return df"
   ]
  },
  {
   "cell_type": "code",
   "execution_count": 19,
   "id": "535ae38e-3f2e-418d-9d1e-a2352958c94f",
   "metadata": {},
   "outputs": [
    {
     "data": {
      "text/plain": [
       "(1553, 7)"
      ]
     },
     "execution_count": 19,
     "metadata": {},
     "output_type": "execute_result"
    }
   ],
   "source": [
    "df_cpd_med_score = no_of_replicates_per_cpd(df_cpd_med_score, df_level4_new)\n",
    "df_cpd_med_score.shape"
   ]
  },
  {
   "cell_type": "code",
   "execution_count": 20,
   "id": "84ff0e73-0865-47e0-8bb8-ba1f3f00d371",
   "metadata": {},
   "outputs": [],
   "source": [
    "def save_to_csv(df, path, file_name, compress=None):\n",
    "    \"\"\"saves dataframes to csv\"\"\"\n",
    "    \n",
    "    if not os.path.exists(path):\n",
    "        os.mkdir(path)\n",
    "    \n",
    "    df.to_csv(os.path.join(path, file_name), index=False, compression=compress)"
   ]
  },
  {
   "cell_type": "code",
   "execution_count": 21,
   "id": "a08b1e12-94a2-46c8-9293-305b0ed81083",
   "metadata": {},
   "outputs": [],
   "source": [
    "save_to_csv(df_cpd_med_score.reset_index().rename({'index':'cpd'}, axis = 1), \n",
    "            'cellpainting_lvl4_cpd_replicate_datasets', 'cpd_replicate_median_scores_nonspherized.csv')"
   ]
  },
  {
   "cell_type": "code",
   "execution_count": 22,
   "id": "597324da-2094-4f87-9af2-b4fe641b5e47",
   "metadata": {},
   "outputs": [],
   "source": [
    "save_to_csv(df_level4_new, 'cellpainting_lvl4_cpd_replicate_datasets', \n",
    "            'cp_level4_cpd_replicates_nonspherized.csv.gz', compress=\"gzip\")"
   ]
  },
  {
   "cell_type": "code",
   "execution_count": 23,
   "id": "0673b164-52f1-43b3-ac52-5932a6da8fb6",
   "metadata": {},
   "outputs": [],
   "source": [
    "# Output files for visualization\n",
    "results_dir = pathlib.Path(\"../results\")\n",
    "cpd_summary_file = pathlib.Path(f\"{results_dir}/median_score_per_compound_CellPainting_nonspherized.tsv.gz\")\n",
    "\n",
    "dose_recode_info = {\n",
    "    'dose_1': '0.04 uM', 'dose_2':'0.12 uM', 'dose_3':'0.37 uM',\n",
    "    'dose_4': '1.11 uM', 'dose_5':'3.33 uM', 'dose_6':'10 uM'\n",
    "}"
   ]
  },
  {
   "cell_type": "code",
   "execution_count": 24,
   "id": "3b1445ae-22fb-4359-bde7-4b0922195c6f",
   "metadata": {},
   "outputs": [
    {
     "data": {
      "text/html": [
       "<div>\n",
       "<style scoped>\n",
       "    .dataframe tbody tr th:only-of-type {\n",
       "        vertical-align: middle;\n",
       "    }\n",
       "\n",
       "    .dataframe tbody tr th {\n",
       "        vertical-align: top;\n",
       "    }\n",
       "\n",
       "    .dataframe thead th {\n",
       "        text-align: right;\n",
       "    }\n",
       "</style>\n",
       "<table border=\"1\" class=\"dataframe\">\n",
       "  <thead>\n",
       "    <tr style=\"text-align: right;\">\n",
       "      <th></th>\n",
       "      <th>compound</th>\n",
       "      <th>no_of_replicates</th>\n",
       "      <th>dose</th>\n",
       "      <th>median_replicate_score</th>\n",
       "    </tr>\n",
       "  </thead>\n",
       "  <tbody>\n",
       "    <tr>\n",
       "      <th>0</th>\n",
       "      <td>10-DEBC</td>\n",
       "      <td>5</td>\n",
       "      <td>0.04 uM</td>\n",
       "      <td>-0.000866</td>\n",
       "    </tr>\n",
       "    <tr>\n",
       "      <th>1</th>\n",
       "      <td>16,16-dimethylprostaglandin-e2</td>\n",
       "      <td>5</td>\n",
       "      <td>0.04 uM</td>\n",
       "      <td>0.119607</td>\n",
       "    </tr>\n",
       "    <tr>\n",
       "      <th>2</th>\n",
       "      <td>17-hydroxyprogesterone-caproate</td>\n",
       "      <td>5</td>\n",
       "      <td>0.04 uM</td>\n",
       "      <td>0.420117</td>\n",
       "    </tr>\n",
       "    <tr>\n",
       "      <th>3</th>\n",
       "      <td>2-iminobiotin</td>\n",
       "      <td>5</td>\n",
       "      <td>0.04 uM</td>\n",
       "      <td>0.006743</td>\n",
       "    </tr>\n",
       "    <tr>\n",
       "      <th>4</th>\n",
       "      <td>2-methoxyestradiol</td>\n",
       "      <td>5</td>\n",
       "      <td>0.04 uM</td>\n",
       "      <td>0.001785</td>\n",
       "    </tr>\n",
       "  </tbody>\n",
       "</table>\n",
       "</div>"
      ],
      "text/plain": [
       "                          compound  no_of_replicates     dose  \\\n",
       "0                          10-DEBC                 5  0.04 uM   \n",
       "1   16,16-dimethylprostaglandin-e2                 5  0.04 uM   \n",
       "2  17-hydroxyprogesterone-caproate                 5  0.04 uM   \n",
       "3                    2-iminobiotin                 5  0.04 uM   \n",
       "4               2-methoxyestradiol                 5  0.04 uM   \n",
       "\n",
       "   median_replicate_score  \n",
       "0               -0.000866  \n",
       "1                0.119607  \n",
       "2                0.420117  \n",
       "3                0.006743  \n",
       "4                0.001785  "
      ]
     },
     "execution_count": 24,
     "metadata": {},
     "output_type": "execute_result"
    }
   ],
   "source": [
    "cpd_score_summary_df = (\n",
    "    df_cpd_med_score\n",
    "    .reset_index()\n",
    "    .rename(columns={\"index\": \"compound\", \"cpd_size\": \"no_of_replicates\"})\n",
    "    .melt(\n",
    "        id_vars=[\"compound\", \"no_of_replicates\"],\n",
    "        value_vars=[\"dose_1\", \"dose_2\", \"dose_3\", \"dose_4\", \"dose_5\", \"dose_6\"],\n",
    "        var_name=\"dose\",\n",
    "        value_name=\"median_replicate_score\"\n",
    "    )\n",
    ")\n",
    "\n",
    "cpd_score_summary_df.dose = cpd_score_summary_df.dose.replace(dose_recode_info)\n",
    "\n",
    "cpd_score_summary_df.to_csv(cpd_summary_file, sep=\"\\t\", index=False)\n",
    "cpd_score_summary_df.head()"
   ]
  }
 ],
 "metadata": {
  "kernelspec": {
   "display_name": "Python [conda env:lincs-complimentarity] *",
   "language": "python",
   "name": "conda-env-lincs-complimentarity-py"
  },
  "language_info": {
   "codemirror_mode": {
    "name": "ipython",
    "version": 3
   },
   "file_extension": ".py",
   "mimetype": "text/x-python",
   "name": "python",
   "nbconvert_exporter": "python",
   "pygments_lexer": "ipython3",
   "version": "3.9.6"
  }
 },
 "nbformat": 4,
 "nbformat_minor": 5
}
