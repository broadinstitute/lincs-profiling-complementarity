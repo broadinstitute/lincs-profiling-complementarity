{
 "cells": [
  {
   "cell_type": "markdown",
   "metadata": {},
   "source": [
    "### - Calculate the signature strength and Transcriptional Activity Score for each compound based on its replicates for Cell painting Level-4 profiles\n",
    "\n",
    "\n",
    "#### Definitions  from [clue.io](https://clue.io/connectopedia/signature_quality_metrics)\n",
    "\n",
    "- **Signature strength -** Signature strength is a measure of the magnitude of the response elicited by a given treatment and is computed as the number of landmark genes (out of 978) with absolute z-score greater than or equal to 2. SS helps to further discriminate signatures that were consistent (high CC) from those that did or did not impact many genes.\n",
    "\n",
    "- **Transcriptional Activity Score (TAS) -** is an aggregate measure of signature strength (SS) and median replicate correlation (CC) that is intended to represent a perturbagen's transcriptional activity. The more transcriptionally active a perturbagen, the higher its TAS. \n"
   ]
  },
  {
   "cell_type": "code",
   "execution_count": 1,
   "metadata": {},
   "outputs": [],
   "source": [
    "import os\n",
    "import argparse\n",
    "import pandas as pd\n",
    "import numpy as np\n",
    "import re\n",
    "from os import walk\n",
    "from collections import Counter\n",
    "import random\n",
    "import shutil\n",
    "from statistics import median\n",
    "import math\n",
    "from math import sqrt\n",
    "from functools import reduce\n",
    "import matplotlib.pyplot as plt\n",
    "%matplotlib inline\n",
    "import seaborn as sns\n",
    "sns.set_style(\"darkgrid\")\n",
    "import pickle\n",
    "from statistics import median\n",
    "import warnings\n",
    "warnings.simplefilter(action='ignore', category=FutureWarning)\n",
    "np.warnings.filterwarnings('ignore', category=np.VisibleDeprecationWarning)"
   ]
  },
  {
   "cell_type": "code",
   "execution_count": 2,
   "metadata": {},
   "outputs": [],
   "source": [
    "L1000_level4_path = \"L1000_lvl4_cpd_replicate_datasets\"\n",
    "\n",
    "# Run alt_indicatorher using \"_W\" or \"\"\n",
    "# Representing \"whitened\" (aka \"spherized\") L1000 data or not\n",
    "l1000_file_indicator = \"W\"\n",
    "if l1000_file_indicator == \"W\":\n",
    "    alt_indicator = \"_W\"\n",
    "else:\n",
    "    alt_indicator = l1000_file_indicator"
   ]
  },
  {
   "cell_type": "code",
   "execution_count": 3,
   "metadata": {},
   "outputs": [],
   "source": [
    "df_level4 = pd.read_csv(\n",
    "    os.path.join(L1000_level4_path, f'L1000_level4{l1000_file_indicator}_cpd_replicates.csv.gz'), \n",
    "    compression='gzip',low_memory = False\n",
    ")\n",
    "\n",
    "df_cpd_med_scores = pd.read_csv(\n",
    "    os.path.join(L1000_level4_path, f'cpd_replicate_median_scores{alt_indicator}.csv')\n",
    ")"
   ]
  },
  {
   "cell_type": "code",
   "execution_count": 4,
   "metadata": {},
   "outputs": [],
   "source": [
    "##cpds_replicates_dict = dict(zip(df_cpd_med_scores['cpd'], df_cpd_med_scores['no_of_replicates']))"
   ]
  },
  {
   "cell_type": "code",
   "execution_count": 5,
   "metadata": {},
   "outputs": [],
   "source": [
    "metadata_cols = ['replicate_id', 'Metadata_broad_sample', 'pert_id', 'dose', 'pert_idose',\n",
    "                 'pert_iname', 'moa', 'det_plate', 'det_well', 'sig_id']"
   ]
  },
  {
   "cell_type": "code",
   "execution_count": 6,
   "metadata": {},
   "outputs": [],
   "source": [
    "n_L1000_feats = df_level4.drop(metadata_cols, axis=1).shape[1]"
   ]
  },
  {
   "cell_type": "code",
   "execution_count": 7,
   "metadata": {},
   "outputs": [],
   "source": [
    "def compute_signature_strength(cpds_list, df, metadata_cols = metadata_cols):\n",
    "    \"\"\"Computes signature strength per compound based on its replicates\"\"\"\n",
    "    \n",
    "    cpds_SS = {}\n",
    "    \n",
    "    for cpd in cpds_list:\n",
    "        cpd_replicates = df[df['pert_iname'] == cpd].copy()\n",
    "        cpd_replicates.drop(metadata_cols, axis = 1, inplace = True)\n",
    "        cpd_replicates = cpd_replicates * sqrt(cpd_replicates.shape[0])\n",
    "        df_cpd_reps = abs(cpd_replicates.T)\n",
    "        ldmk_genes_gtr_2 = df_cpd_reps[df_cpd_reps >= 2.0].stack().count()\n",
    "        ss_norm = ldmk_genes_gtr_2/len(df_cpd_reps.columns)\n",
    "        cpds_SS[cpd] = ss_norm\n",
    "            \n",
    "    return cpds_SS"
   ]
  },
  {
   "cell_type": "code",
   "execution_count": 8,
   "metadata": {},
   "outputs": [],
   "source": [
    "def compute_tas(cpds_SS, cpds_median_score, dose, num_feats):\n",
    "    \"\"\"Computes Transcriptional activity score (TAS) per compound based on its replicates\"\"\"\n",
    "    cpds_TAS = {}\n",
    "    for cpd in cpds_SS:\n",
    "        cpds_TAS[cpd] = sqrt((max(cpds_median_score[cpd][dose-1],0) * cpds_SS[cpd])/num_feats)\n",
    "    \n",
    "    return cpds_TAS"
   ]
  },
  {
   "cell_type": "code",
   "execution_count": 9,
   "metadata": {},
   "outputs": [],
   "source": [
    "def compute_SS_TAS(df, cpds_median_score, num_L1000_feats = n_L1000_feats):\n",
    "    \"\"\"\n",
    "    Computes both Transcriptional activity score (TAS) and \n",
    "    signature strength per compound based on its replicates across all doses\"\"\"\n",
    "    \n",
    "    dose_list = list(set(df['dose'].unique().tolist()))[1:7]\n",
    "    \n",
    "    for dose in dose_list:\n",
    "        df_dose = df[df['dose'] == dose].copy()\n",
    "        cpds_ss = compute_signature_strength(list(cpds_median_score.keys()), df_dose)\n",
    "        cpds_tas = compute_tas(cpds_ss, cpds_median_score, dose, num_L1000_feats)\n",
    "        sorted_ss = {key:value for key, value in sorted(cpds_ss.items(), key=lambda item: item[0])}\n",
    "        sorted_tas = {key:value for key, value in sorted(cpds_tas.items(), key=lambda item: item[0])}\n",
    "        if dose == 1:\n",
    "            df_cpd_ss = pd.DataFrame.from_dict(sorted_ss, orient='index', columns = ['dose_1'])\n",
    "            df_cpd_tas = pd.DataFrame.from_dict(sorted_tas, orient='index', columns = ['dose_1'])\n",
    "        else:\n",
    "            df_cpd_ss['dose_' + str(dose)] = sorted_ss.values()\n",
    "            df_cpd_tas['dose_' + str(dose)] = sorted_tas.values()\n",
    "            \n",
    "    return df_cpd_ss, df_cpd_tas"
   ]
  },
  {
   "cell_type": "code",
   "execution_count": 10,
   "metadata": {},
   "outputs": [],
   "source": [
    "df_med_scores = df_cpd_med_scores.set_index('cpd').rename_axis(None, axis=0).drop(['no_of_replicates'], axis = 1)\n",
    "cpd_med_scores = df_med_scores.T.to_dict('list')"
   ]
  },
  {
   "cell_type": "code",
   "execution_count": 11,
   "metadata": {},
   "outputs": [],
   "source": [
    "df_ss_score, df_tas_score = compute_SS_TAS(df_level4, cpd_med_scores)"
   ]
  },
  {
   "cell_type": "code",
   "execution_count": 12,
   "metadata": {},
   "outputs": [],
   "source": [
    "df_cpd_med_scores.drop(['no_of_replicates'],axis = 1, inplace = True)"
   ]
  },
  {
   "cell_type": "code",
   "execution_count": 13,
   "metadata": {},
   "outputs": [],
   "source": [
    "df_ss_score = df_ss_score.reset_index().rename({'index':'cpd'}, axis = 1)\n",
    "df_tas_score = df_tas_score.reset_index().rename({'index':'cpd'}, axis = 1)"
   ]
  },
  {
   "cell_type": "code",
   "execution_count": 14,
   "metadata": {},
   "outputs": [],
   "source": [
    "def rename_cols(df):\n",
    "    'Rename columns from dose number to actual doses'\n",
    "    \n",
    "    df.rename(columns= {'dose_1' : '0.04 uM', 'dose_2':'0.12 uM', 'dose_3':'0.37 uM',\n",
    "                        'dose_4': '1.11 uM', 'dose_5':'3.33 uM', 'dose_6':'10 uM'}, inplace = True)\n",
    "    return df"
   ]
  },
  {
   "cell_type": "code",
   "execution_count": 15,
   "metadata": {},
   "outputs": [],
   "source": [
    "df_cpd_med_scores = rename_cols(df_cpd_med_scores)\n",
    "df_ss_score = rename_cols(df_ss_score)\n",
    "df_tas_score = rename_cols(df_tas_score)"
   ]
  },
  {
   "cell_type": "code",
   "execution_count": 16,
   "metadata": {},
   "outputs": [],
   "source": [
    "def melt_df(df, col_name):\n",
    "    \"\"\"\n",
    "    This function returns a reformatted dataframe with \n",
    "    3 columns: cpd, dose number and dose_values(median score or p-value)\n",
    "    \"\"\"\n",
    "    df = df.melt(id_vars=['cpd'], var_name=\"dose\", value_name=col_name)\n",
    "    return df"
   ]
  },
  {
   "cell_type": "code",
   "execution_count": 17,
   "metadata": {},
   "outputs": [],
   "source": [
    "def merge_ss_tas_med_scores(df_med_scores, df_ss_scores, df_tas_scores):\n",
    "    \"\"\"\n",
    "    This function merge median_scores (replication correlation), \n",
    "    signature strength (SS) and MAS (transcriptional activity score)\n",
    "    dataframes for each compound for all doses(1-6) \n",
    "    \"\"\"\n",
    "    df_med_vals = melt_df(df_med_scores, 'replicate_correlation')\n",
    "    df_ss_vals = melt_df(df_ss_scores, 'signature_strength')\n",
    "    df_tas_vals = melt_df(df_tas_scores, 'TAS')\n",
    "    metrics_df = [df_med_vals, df_ss_vals, df_tas_vals]\n",
    "    df_merged = reduce(lambda  left,right: pd.merge(left,right,on=['cpd', 'dose'], how='inner'), metrics_df)\n",
    "    return df_merged"
   ]
  },
  {
   "cell_type": "code",
   "execution_count": 18,
   "metadata": {},
   "outputs": [],
   "source": [
    "df_all_vals = merge_ss_tas_med_scores(df_cpd_med_scores, df_ss_score, df_tas_score)"
   ]
  },
  {
   "cell_type": "code",
   "execution_count": 19,
   "metadata": {},
   "outputs": [
    {
     "data": {
      "text/html": [
       "<div>\n",
       "<style scoped>\n",
       "    .dataframe tbody tr th:only-of-type {\n",
       "        vertical-align: middle;\n",
       "    }\n",
       "\n",
       "    .dataframe tbody tr th {\n",
       "        vertical-align: top;\n",
       "    }\n",
       "\n",
       "    .dataframe thead th {\n",
       "        text-align: right;\n",
       "    }\n",
       "</style>\n",
       "<table border=\"1\" class=\"dataframe\">\n",
       "  <thead>\n",
       "    <tr style=\"text-align: right;\">\n",
       "      <th></th>\n",
       "      <th>cpd</th>\n",
       "      <th>dose</th>\n",
       "      <th>replicate_correlation</th>\n",
       "      <th>signature_strength</th>\n",
       "      <th>TAS</th>\n",
       "    </tr>\n",
       "  </thead>\n",
       "  <tbody>\n",
       "    <tr>\n",
       "      <th>0</th>\n",
       "      <td>17-hydroxyprogesterone-caproate</td>\n",
       "      <td>0.04 uM</td>\n",
       "      <td>-0.009344</td>\n",
       "      <td>307.333333</td>\n",
       "      <td>0.000000</td>\n",
       "    </tr>\n",
       "    <tr>\n",
       "      <th>1</th>\n",
       "      <td>2-iminobiotin</td>\n",
       "      <td>0.04 uM</td>\n",
       "      <td>0.029933</td>\n",
       "      <td>281.666667</td>\n",
       "      <td>0.092849</td>\n",
       "    </tr>\n",
       "    <tr>\n",
       "      <th>2</th>\n",
       "      <td>3-amino-benzamide</td>\n",
       "      <td>0.04 uM</td>\n",
       "      <td>0.045656</td>\n",
       "      <td>260.666667</td>\n",
       "      <td>0.110311</td>\n",
       "    </tr>\n",
       "    <tr>\n",
       "      <th>3</th>\n",
       "      <td>3-deazaadenosine</td>\n",
       "      <td>0.04 uM</td>\n",
       "      <td>0.017114</td>\n",
       "      <td>154.000000</td>\n",
       "      <td>0.051912</td>\n",
       "    </tr>\n",
       "    <tr>\n",
       "      <th>4</th>\n",
       "      <td>ABT-737</td>\n",
       "      <td>0.04 uM</td>\n",
       "      <td>0.030702</td>\n",
       "      <td>238.000000</td>\n",
       "      <td>0.086437</td>\n",
       "    </tr>\n",
       "    <tr>\n",
       "      <th>5</th>\n",
       "      <td>AICA-ribonucleotide</td>\n",
       "      <td>0.04 uM</td>\n",
       "      <td>0.008994</td>\n",
       "      <td>213.333333</td>\n",
       "      <td>0.044294</td>\n",
       "    </tr>\n",
       "    <tr>\n",
       "      <th>6</th>\n",
       "      <td>AKT-inhibitor-1-2</td>\n",
       "      <td>0.04 uM</td>\n",
       "      <td>0.028717</td>\n",
       "      <td>249.000000</td>\n",
       "      <td>0.085507</td>\n",
       "    </tr>\n",
       "    <tr>\n",
       "      <th>7</th>\n",
       "      <td>ALX-5407</td>\n",
       "      <td>0.04 uM</td>\n",
       "      <td>0.095410</td>\n",
       "      <td>219.666667</td>\n",
       "      <td>0.146389</td>\n",
       "    </tr>\n",
       "    <tr>\n",
       "      <th>8</th>\n",
       "      <td>AS-605240</td>\n",
       "      <td>0.04 uM</td>\n",
       "      <td>-0.077232</td>\n",
       "      <td>401.666667</td>\n",
       "      <td>0.000000</td>\n",
       "    </tr>\n",
       "    <tr>\n",
       "      <th>9</th>\n",
       "      <td>AT-7519</td>\n",
       "      <td>0.04 uM</td>\n",
       "      <td>0.169240</td>\n",
       "      <td>260.000000</td>\n",
       "      <td>0.212113</td>\n",
       "    </tr>\n",
       "  </tbody>\n",
       "</table>\n",
       "</div>"
      ],
      "text/plain": [
       "                               cpd     dose  replicate_correlation  \\\n",
       "0  17-hydroxyprogesterone-caproate  0.04 uM              -0.009344   \n",
       "1                    2-iminobiotin  0.04 uM               0.029933   \n",
       "2                3-amino-benzamide  0.04 uM               0.045656   \n",
       "3                 3-deazaadenosine  0.04 uM               0.017114   \n",
       "4                          ABT-737  0.04 uM               0.030702   \n",
       "5              AICA-ribonucleotide  0.04 uM               0.008994   \n",
       "6                AKT-inhibitor-1-2  0.04 uM               0.028717   \n",
       "7                         ALX-5407  0.04 uM               0.095410   \n",
       "8                        AS-605240  0.04 uM              -0.077232   \n",
       "9                          AT-7519  0.04 uM               0.169240   \n",
       "\n",
       "   signature_strength       TAS  \n",
       "0          307.333333  0.000000  \n",
       "1          281.666667  0.092849  \n",
       "2          260.666667  0.110311  \n",
       "3          154.000000  0.051912  \n",
       "4          238.000000  0.086437  \n",
       "5          213.333333  0.044294  \n",
       "6          249.000000  0.085507  \n",
       "7          219.666667  0.146389  \n",
       "8          401.666667  0.000000  \n",
       "9          260.000000  0.212113  "
      ]
     },
     "execution_count": 19,
     "metadata": {},
     "output_type": "execute_result"
    }
   ],
   "source": [
    "df_all_vals.head(10)"
   ]
  },
  {
   "cell_type": "code",
   "execution_count": 20,
   "metadata": {},
   "outputs": [],
   "source": [
    "def save_to_csv(df, path, file_name, compress=None):\n",
    "    \"\"\"saves dataframes to csv\"\"\"\n",
    "    \n",
    "    if not os.path.exists(path):\n",
    "        os.mkdir(path)\n",
    "    \n",
    "    df.to_csv(os.path.join(path, file_name), index=False, compression=compress)"
   ]
  },
  {
   "cell_type": "code",
   "execution_count": 21,
   "metadata": {},
   "outputs": [],
   "source": [
    "save_to_csv(df_all_vals, L1000_level4_path, f'L1000_all_scores{alt_indicator}.csv')"
   ]
  },
  {
   "cell_type": "markdown",
   "metadata": {},
   "source": [
    "### - DMSO MAS and replicate correlation\n",
    "\n",
    "- Calculate 95th percentile of DMSO MAS score"
   ]
  },
  {
   "cell_type": "code",
   "execution_count": 22,
   "metadata": {},
   "outputs": [],
   "source": [
    "df_dmso = df_level4[df_level4['pert_iname'] == 'DMSO'].copy()"
   ]
  },
  {
   "cell_type": "code",
   "execution_count": 23,
   "metadata": {},
   "outputs": [
    {
     "data": {
      "text/plain": [
       "array(['REP.A001_A549_24H_X1_B27|REP.A001_A549_24H_X2_B27|REP.A001_A549_24H_X3_B27',\n",
       "       'REP.A001_A549_24H_X1_B27|REP.A001_A549_24H_X3_B27',\n",
       "       'REP.A002_A549_24H_X1_B27|REP.A002_A549_24H_X2_B27|REP.A002_A549_24H_X3_B27',\n",
       "       'REP.A003_A549_24H_X1_B27|REP.A003_A549_24H_X2_B27|REP.A003_A549_24H_X3_B27',\n",
       "       'REP.A004_A549_24H_X1_B27|REP.A004_A549_24H_X2_B27|REP.A004_A549_24H_X3_B27',\n",
       "       'REP.A005_A549_24H_X1_B27|REP.A005_A549_24H_X2_B27|REP.A005_A549_24H_X3_B27',\n",
       "       'REP.A009_A549_24H_X1_B32|REP.A009_A549_24H_X2_B32|REP.A009_A549_24H_X3_B32',\n",
       "       'REP.A010_A549_24H_X1_B32|REP.A010_A549_24H_X2_B32|REP.A010_A549_24H_X3_B32',\n",
       "       'REP.A010_A549_24H_X1_B32|REP.A010_A549_24H_X3_B32',\n",
       "       'REP.A011_A549_24H_X1_B29|REP.A011_A549_24H_X2.A2_B32|REP.A011_A549_24H_X3_B29',\n",
       "       'REP.A012_A549_24H_X1_B25|REP.A012_A549_24H_X2_B25|REP.A012_A549_24H_X3_B25|REP.A012_A549_24H_X4_B25',\n",
       "       'REP.A012_A549_24H_X1_B25|REP.A012_A549_24H_X2_B25|REP.A012_A549_24H_X3_B25',\n",
       "       'REP.A013_A549_24H_X1_B29|REP.A013_A549_24H_X2_B32|REP.A013_A549_24H_X3_B32',\n",
       "       'REP.A014_A549_24H_X1_B29|REP.A014_A549_24H_X2_B29|REP.A014_A549_24H_X3_B29',\n",
       "       'REP.A014_A549_24H_X1_B29|REP.A014_A549_24H_X2_B29',\n",
       "       'REP.A014_A549_24H_X2_B29|REP.A014_A549_24H_X3_B29',\n",
       "       'REP.A015_A549_24H_X1_B29|REP.A015_A549_24H_X2_B32|REP.A015_A549_24H_X3_B29',\n",
       "       'REP.A016_A549_24H_X1_B32|REP.A016_A549_24H_X2_B32|REP.A016_A549_24H_X3_B32',\n",
       "       'REP.A016_A549_24H_X2_B32|REP.A016_A549_24H_X3_B32',\n",
       "       'REP.A017_A549_24H_X1_B27|REP.A017_A549_24H_X2_B27|REP.A017_A549_24H_X3_B27',\n",
       "       'REP.A018_A549_24H_X1_B29|REP.A018_A549_24H_X2_B29|REP.A018_A549_24H_X3.A2_B32',\n",
       "       'REP.A019_A549_24H_X1_B29|REP.A019_A549_24H_X2_B29|REP.A019_A549_24H_X3_B29',\n",
       "       'REP.A019_A549_24H_X2_B29|REP.A019_A549_24H_X3_B29',\n",
       "       'REP.A020_A549_24H_X1_B25|REP.A020_A549_24H_X2_B25|REP.A020_A549_24H_X3_B29',\n",
       "       'REP.A021_A549_24H_X1_B25|REP.A021_A549_24H_X2_B25|REP.A021_A549_24H_X3_B25',\n",
       "       'REP.A022_A549_24H_X1_B25|REP.A022_A549_24H_X2_B25|REP.A022_A549_24H_X3_B25',\n",
       "       'REP.A023_A549_24H_X1_B32|REP.A023_A549_24H_X2_B32|REP.A023_A549_24H_X3_B32',\n",
       "       'REP.A024_A549_24H_X1_B29|REP.A024_A549_24H_X3_B29',\n",
       "       'REP.A024_A549_24H_X1_B29',\n",
       "       'REP.A025_A549_24H_X1_B29|REP.A025_A549_24H_X2_B29|REP.A025_A549_24H_X3_B29',\n",
       "       'REP.A025_A549_24H_X1_B29|REP.A025_A549_24H_X3_B29',\n",
       "       'REP.A025_A549_24H_X2_B29|REP.A025_A549_24H_X3_B29',\n",
       "       'REP.A026_A549_24H_X1_B29|REP.A026_A549_24H_X2_B29|REP.A026_A549_24H_X3_B29',\n",
       "       'REP.A026_A549_24H_X2_B29|REP.A026_A549_24H_X3_B29',\n",
       "       'REP.A027_A549_24H_X1_B29|REP.A027_A549_24H_X2_B29|REP.A027_A549_24H_X3_B29',\n",
       "       'REP.A028_A549_24H_X1_B29|REP.A028_A549_24H_X2_B29|REP.A028_A549_24H_X3_B29'],\n",
       "      dtype=object)"
      ]
     },
     "execution_count": 23,
     "metadata": {},
     "output_type": "execute_result"
    }
   ],
   "source": [
    "df_dmso['det_plate'].unique()"
   ]
  },
  {
   "cell_type": "code",
   "execution_count": 24,
   "metadata": {},
   "outputs": [
    {
     "data": {
      "text/plain": [
       "36"
      ]
     },
     "execution_count": 24,
     "metadata": {},
     "output_type": "execute_result"
    }
   ],
   "source": [
    "len(df_dmso['det_plate'].unique())"
   ]
  },
  {
   "cell_type": "code",
   "execution_count": 25,
   "metadata": {},
   "outputs": [],
   "source": [
    "def compute_dmso_SS_median_score(df):\n",
    "    \"\"\"\n",
    "    This function computes the signature strength (SS) and \n",
    "    median correlation replicate score for DMSO per plate\n",
    "    \"\"\"\n",
    "    dmso_median_scores = {}\n",
    "    dmso_ss_scores = {}\n",
    "    \n",
    "    for plate in df['det_plate'].unique():\n",
    "        plt_replicates = df[df['det_plate'] == plate].copy()\n",
    "        if plt_replicates.shape[0] > 1:\n",
    "            plt_replicates.drop(['replicate_id', 'Metadata_broad_sample', 'pert_id', 'dose', 'pert_idose', \n",
    "                                 'pert_iname', 'moa', 'det_plate', 'det_well', 'sig_id'], axis = 1, inplace = True)\n",
    "            plt_rep_corr = plt_replicates.astype('float64').T.corr(method = 'spearman').values\n",
    "            median_score = median(list(plt_rep_corr[np.triu_indices(len(plt_rep_corr), k = 1)]))\n",
    "            dmso_median_scores[plate] = median_score\n",
    "            \n",
    "            ##signature strength --ss\n",
    "            plt_replicates = plt_replicates * sqrt(plt_replicates.shape[0])\n",
    "            df_plt_reps = abs(plt_replicates.T)\n",
    "            ldk_genes_gtr_2 = df_plt_reps[df_plt_reps >= 2.0].stack().count()\n",
    "            ss_norm = ldk_genes_gtr_2/len(df_plt_reps.columns)\n",
    "            dmso_ss_scores[plate] = ss_norm\n",
    "        \n",
    "    return dmso_median_scores, dmso_ss_scores"
   ]
  },
  {
   "cell_type": "code",
   "execution_count": 26,
   "metadata": {},
   "outputs": [],
   "source": [
    "dmso_median_scores, dmso_ss_scores = compute_dmso_SS_median_score(df_dmso)"
   ]
  },
  {
   "cell_type": "code",
   "execution_count": 27,
   "metadata": {},
   "outputs": [],
   "source": [
    "def compute_dmso_TAS(dmso_median, dmso_ss, num_feats = n_L1000_feats):\n",
    "    \"\"\"\n",
    "    This function computes Transcriptional Activity Score (TAS) \n",
    "    per plate for only DMSO replicates\n",
    "    \"\"\"\n",
    "    dmso_tas_scores = {}\n",
    "    for plate in dmso_median:\n",
    "        dmso_tas_scores[plate] = sqrt((abs(dmso_median[plate]) * dmso_ss[plate])/num_feats)\n",
    "    return dmso_tas_scores"
   ]
  },
  {
   "cell_type": "code",
   "execution_count": 28,
   "metadata": {},
   "outputs": [],
   "source": [
    "dmso_tas_scores = compute_dmso_TAS(dmso_median_scores, dmso_ss_scores)"
   ]
  },
  {
   "cell_type": "code",
   "execution_count": 29,
   "metadata": {},
   "outputs": [],
   "source": [
    "dmso_95pct = np.percentile(list(dmso_tas_scores.values()),95)"
   ]
  },
  {
   "cell_type": "code",
   "execution_count": 30,
   "metadata": {},
   "outputs": [
    {
     "name": "stdout",
     "output_type": "stream",
     "text": [
      "0.332203445024593\n"
     ]
    }
   ],
   "source": [
    "print(dmso_95pct)"
   ]
  },
  {
   "cell_type": "code",
   "execution_count": 31,
   "metadata": {},
   "outputs": [],
   "source": [
    "def save_to_pickle(value, path, file_name):\n",
    "    \"\"\"saves a value into a pickle file\"\"\"\n",
    "    \n",
    "    if not os.path.exists(path):\n",
    "        os.mkdir(path)\n",
    "        \n",
    "    with open(os.path.join(path, file_name), 'wb') as handle:\n",
    "        pickle.dump(value, handle, protocol=pickle.HIGHEST_PROTOCOL)"
   ]
  },
  {
   "cell_type": "code",
   "execution_count": 32,
   "metadata": {},
   "outputs": [],
   "source": [
    "save_to_pickle(dmso_95pct, L1000_level4_path, f'L1000_dmso_95_percentile_TAS{alt_indicator}.pickle')"
   ]
  }
 ],
 "metadata": {
  "kernelspec": {
   "display_name": "Python 3 (ipykernel)",
   "language": "python",
   "name": "python3"
  },
  "language_info": {
   "codemirror_mode": {
    "name": "ipython",
    "version": 3
   },
   "file_extension": ".py",
   "mimetype": "text/x-python",
   "name": "python",
   "nbconvert_exporter": "python",
   "pygments_lexer": "ipython3",
   "version": "3.9.6"
  }
 },
 "nbformat": 4,
 "nbformat_minor": 4
}
