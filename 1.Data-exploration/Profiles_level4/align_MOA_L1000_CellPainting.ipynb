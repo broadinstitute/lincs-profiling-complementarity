{
 "cells": [
  {
   "cell_type": "markdown",
   "metadata": {},
   "source": [
    "### Align MOA (Mechanism of actions) and compounds in cell painting and L1000 based on broad/pert id"
   ]
  },
  {
   "cell_type": "code",
   "execution_count": 1,
   "metadata": {},
   "outputs": [],
   "source": [
    "import os\n",
    "import pathlib\n",
    "import pandas as pd\n",
    "import numpy as np\n",
    "from collections import defaultdict\n",
    "import matplotlib.pyplot as plt\n",
    "%matplotlib inline\n",
    "import seaborn as sns\n",
    "from pycytominer import feature_select\n",
    "from statistics import median\n",
    "import random\n",
    "import pickle\n",
    "from io import BytesIO\n",
    "from urllib.request import urlopen\n",
    "from zipfile import ZipFile"
   ]
  },
  {
   "cell_type": "code",
   "execution_count": 2,
   "metadata": {},
   "outputs": [],
   "source": [
    "data_dir = pathlib.Path(\"L1000/L1000_figshare_data\")\n",
    "zipurl = \"https://ndownloader.figshare.com/articles/13181966/versions/1\"\n",
    "def download_L1000_data(data_dir, zipurl):\n",
    "    \"\"\"\n",
    "    Download L1000 data from figshare and extract \n",
    "    the zipped files into a directory\n",
    "    \"\"\"\n",
    "    if not os.path.exists(data_dir):\n",
    "        os.mkdir(data_dir)\n",
    "        \n",
    "    with urlopen(zipurl) as zipresp:\n",
    "        with ZipFile(BytesIO(zipresp.read())) as zfile:\n",
    "            zfile.extractall(data_dir)"
   ]
  },
  {
   "cell_type": "code",
   "execution_count": 3,
   "metadata": {},
   "outputs": [],
   "source": [
    "download_L1000_data(data_dir, zipurl)"
   ]
  },
  {
   "cell_type": "code",
   "execution_count": 4,
   "metadata": {},
   "outputs": [
    {
     "data": {
      "text/plain": [
       "['level_4_zspc_n27837x978.gctx',\n",
       " 'level_4W_zspc_n27837x978.gctx',\n",
       " 'level_3_q2norm_n27837x978.gctx',\n",
       " 'level_5_rank_n9482x978.gctx',\n",
       " 'level_5_modz_n9482x978.gctx',\n",
       " 'col_meta_level_5_n169494.txt',\n",
       " 'level_5_modz_cid_n9482.grp',\n",
       " 'set_size_3_level_3_REP.A_A549_only_all_compounds_and_random_well_DMSO.gmt',\n",
       " 'col_meta_level_3_REP.A_A549_only_n27837.txt',\n",
       " 'REP.A_A549_pert_info.txt',\n",
       " 'level_5_modz_common_sigs_n8370x978.gctx',\n",
       " 'col_meta_level_3_n421176.txt',\n",
       " 'col_meta_level_5_REP.A_A549_only_n9482.txt']"
      ]
     },
     "execution_count": 4,
     "metadata": {},
     "output_type": "execute_result"
    }
   ],
   "source": [
    "os.listdir(data_dir) #list of files in the L1000 data_dir"
   ]
  },
  {
   "cell_type": "code",
   "execution_count": 5,
   "metadata": {},
   "outputs": [],
   "source": [
    "def merge_align_moa(data_dir, cp_moa_link):\n",
    "    \n",
    "    \"\"\"\n",
    "    This function aligns L1000 MOAs with the cell painting MOAs \n",
    "    and further fill null MOAs in one of the them (cell painting or L1000)\n",
    "    with another, so far they are of the same broad sample ID.\n",
    "    \n",
    "    It also merge the aligned MOA metadata dataframe with the consensus data\n",
    "    based on 'broad_sample_id' and outputs the dataframe with MOAs and another one\n",
    "    where the broad samples has no MOAs (null moa values).\n",
    "    \n",
    "    params: \n",
    "    data_dir: directory that contains L1000 files\n",
    "    cp_moa_link: github link to cell painting MOA metadata information .csv file\n",
    "    data: consensus dataframe\n",
    "\n",
    "    Returns:\n",
    "    data_moa: merged consensus dataframe with moas\n",
    "    no_moa_data: merged consensus dataframe without moas\n",
    "    \"\"\"\n",
    "    \n",
    "    df_pertinfo_cp = pd.read_csv(cp_moa_link, sep=\"\\t\")\n",
    "    df_pertinfo_L1000 = pd.read_csv(os.path.join(data_dir, 'REP.A_A549_pert_info.txt'), delimiter = \"\\t\")\n",
    "    df_pertinfo_L1000.rename(columns={\"pert_id\": \"broad_id\", \"pert_iname\": \"pert_iname_L1000\", \"moa\": \"moa_L1000\"}, \n",
    "                             inplace = True)\n",
    "    df_pertinfo_cp.rename(columns={\"pert_iname\": \"pert_iname_cell_painting\", \"moa\": \"moa_cell_painting\"},\n",
    "                          inplace = True)\n",
    "    df_pertinfo = pd.merge(df_pertinfo_L1000, df_pertinfo_cp, on=['broad_id'], how='outer')\n",
    "    \n",
    "    ##fill NaNs moa_L1000, pert_iname_L1000, with corresponding values in cell_painting and VICE VERSA for Cell_Painting\n",
    "    df_pertinfo['moa_L1000'].fillna(value=df_pertinfo['moa_cell_painting'], inplace=True)\n",
    "    df_pertinfo['pert_iname_L1000'].fillna(value=df_pertinfo['pert_iname_cell_painting'], inplace=True)\n",
    "    df_pertinfo['moa_cell_painting'].fillna(value=df_pertinfo['moa_L1000'], inplace=True)\n",
    "    df_pertinfo['pert_iname_cell_painting'].fillna(value=df_pertinfo['moa_L1000'], inplace=True)\n",
    "    \n",
    "    df_pertinfo = df_pertinfo[['broad_sample', 'broad_id', 'pert_iname_L1000', 'moa_L1000']].copy()\n",
    "    df_pertinfo.rename(columns={\"pert_iname_L1000\": \"pert_iname\", \"moa_L1000\":\"moa\", \"broad_sample\":'Metadata_broad_sample'},\n",
    "                       inplace = True)\n",
    "    df_pertinfo['Metadata_broad_sample'].fillna('DMSO', inplace=True)\n",
    "        \n",
    "    return df_pertinfo"
   ]
  },
  {
   "cell_type": "code",
   "execution_count": 6,
   "metadata": {},
   "outputs": [],
   "source": [
    "commit = \"94bfaeeab0d107beac262b4307aa6e9b783625fa\"\n",
    "moa_dataset = f\"https://github.com/broadinstitute/lincs-cell-painting/blob/{commit}/metadata/moa/repurposing_info_external_moa_map_resolved.tsv?raw=true\"\n",
    "df_pertinfo = merge_align_moa(data_dir, moa_dataset)"
   ]
  },
  {
   "cell_type": "code",
   "execution_count": 7,
   "metadata": {},
   "outputs": [
    {
     "name": "stdout",
     "output_type": "stream",
     "text": [
      "(1571, 4)\n"
     ]
    },
    {
     "data": {
      "text/html": [
       "<div>\n",
       "<style scoped>\n",
       "    .dataframe tbody tr th:only-of-type {\n",
       "        vertical-align: middle;\n",
       "    }\n",
       "\n",
       "    .dataframe tbody tr th {\n",
       "        vertical-align: top;\n",
       "    }\n",
       "\n",
       "    .dataframe thead th {\n",
       "        text-align: right;\n",
       "    }\n",
       "</style>\n",
       "<table border=\"1\" class=\"dataframe\">\n",
       "  <thead>\n",
       "    <tr style=\"text-align: right;\">\n",
       "      <th></th>\n",
       "      <th>Metadata_broad_sample</th>\n",
       "      <th>broad_id</th>\n",
       "      <th>pert_iname</th>\n",
       "      <th>moa</th>\n",
       "    </tr>\n",
       "  </thead>\n",
       "  <tbody>\n",
       "    <tr>\n",
       "      <th>0</th>\n",
       "      <td>BRD-A00147595-001-01-5</td>\n",
       "      <td>BRD-A00147595</td>\n",
       "      <td>balaglitazone</td>\n",
       "      <td>Insulin sensitizer|PPAR receptor partial agonist</td>\n",
       "    </tr>\n",
       "    <tr>\n",
       "      <th>1</th>\n",
       "      <td>BRD-A00218260-001-03-4</td>\n",
       "      <td>BRD-A00218260</td>\n",
       "      <td>flutrimazole</td>\n",
       "      <td>Sterol demethylase inhibitor</td>\n",
       "    </tr>\n",
       "    <tr>\n",
       "      <th>2</th>\n",
       "      <td>BRD-A00376169-001-01-6</td>\n",
       "      <td>BRD-A00376169</td>\n",
       "      <td>kbg</td>\n",
       "      <td>Neprilysin inhibitor</td>\n",
       "    </tr>\n",
       "    <tr>\n",
       "      <th>3</th>\n",
       "      <td>BRD-A00546892-001-02-6</td>\n",
       "      <td>BRD-A00546892</td>\n",
       "      <td>biperiden</td>\n",
       "      <td>Acetylcholine receptor antagonist</td>\n",
       "    </tr>\n",
       "    <tr>\n",
       "      <th>4</th>\n",
       "      <td>BRD-A00938334-001-01-3</td>\n",
       "      <td>BRD-A00938334</td>\n",
       "      <td>drospirenone</td>\n",
       "      <td>Mineralocorticoid receptor antagonist</td>\n",
       "    </tr>\n",
       "  </tbody>\n",
       "</table>\n",
       "</div>"
      ],
      "text/plain": [
       "    Metadata_broad_sample       broad_id     pert_iname  \\\n",
       "0  BRD-A00147595-001-01-5  BRD-A00147595  balaglitazone   \n",
       "1  BRD-A00218260-001-03-4  BRD-A00218260   flutrimazole   \n",
       "2  BRD-A00376169-001-01-6  BRD-A00376169            kbg   \n",
       "3  BRD-A00546892-001-02-6  BRD-A00546892      biperiden   \n",
       "4  BRD-A00938334-001-01-3  BRD-A00938334   drospirenone   \n",
       "\n",
       "                                                moa  \n",
       "0  Insulin sensitizer|PPAR receptor partial agonist  \n",
       "1                      Sterol demethylase inhibitor  \n",
       "2                              Neprilysin inhibitor  \n",
       "3                 Acetylcholine receptor antagonist  \n",
       "4             Mineralocorticoid receptor antagonist  "
      ]
     },
     "execution_count": 7,
     "metadata": {},
     "output_type": "execute_result"
    }
   ],
   "source": [
    "print(df_pertinfo.shape)\n",
    "df_pertinfo.head()"
   ]
  },
  {
   "cell_type": "code",
   "execution_count": 8,
   "metadata": {},
   "outputs": [],
   "source": [
    "def save_to_csv(df, path, file_name):\n",
    "    \"\"\"saves dataframes to csv\"\"\"\n",
    "    \n",
    "    if not os.path.exists(path):\n",
    "        os.mkdir(path)\n",
    "    \n",
    "    df.to_csv(os.path.join(path, file_name), index=False)"
   ]
  },
  {
   "cell_type": "code",
   "execution_count": 9,
   "metadata": {},
   "outputs": [],
   "source": [
    "save_to_csv(df_pertinfo, os.getcwd(), 'aligned_moa_CP_L1000.csv')"
   ]
  }
 ],
 "metadata": {
  "kernelspec": {
   "display_name": "Python 3 (ipykernel)",
   "language": "python",
   "name": "python3"
  },
  "language_info": {
   "codemirror_mode": {
    "name": "ipython",
    "version": 3
   },
   "file_extension": ".py",
   "mimetype": "text/x-python",
   "name": "python",
   "nbconvert_exporter": "python",
   "pygments_lexer": "ipython3",
   "version": "3.9.6"
  }
 },
 "nbformat": 4,
 "nbformat_minor": 4
}
