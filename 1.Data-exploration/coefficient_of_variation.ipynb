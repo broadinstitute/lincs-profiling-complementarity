{
 "cells": [
  {
   "cell_type": "markdown",
   "id": "1a20b964-8874-483a-8d43-de2efce3b7d1",
   "metadata": {},
   "source": [
    "# Calculating coefficient of variation (CV) for all features\n",
    "\n",
    "What is the total and dose-specific per-feature CV per dataset?"
   ]
  },
  {
   "cell_type": "code",
   "execution_count": 1,
   "id": "c895aa59-d700-40bf-812c-181b52cb32fb",
   "metadata": {},
   "outputs": [],
   "source": [
    "import pathlib\n",
    "import pandas as pd\n",
    "import scipy.stats\n",
    "\n",
    "from pycytominer.cyto_utils import infer_cp_features"
   ]
  },
  {
   "cell_type": "code",
   "execution_count": 2,
   "id": "6086cf11-6d94-448d-b84a-178a49425244",
   "metadata": {},
   "outputs": [],
   "source": [
    "def tidy_cv(df, features):\n",
    "    \"\"\"Compute coefficient of variation (CV) and tidy output.\n",
    "    Also return mean and stddev.\n",
    "    \n",
    "    Parameters\n",
    "    ----------\n",
    "    df : pandas.core.frame.DataFrame\n",
    "        a matrix of profiles\n",
    "    features : list\n",
    "        all features used to calculate CV\n",
    "        \n",
    "    Output\n",
    "    ------\n",
    "    x_df : pandas.core.frame.DataFrame\n",
    "        A dataframe storing feature names and CV results\n",
    "    \"\"\"\n",
    "    x_df = scipy.stats.variation(df.loc[:, features])\n",
    "    x_df = pd.DataFrame(x_df, columns=[\"cv\"])\n",
    "    x_df.index = features\n",
    "    \n",
    "    mean_df = pd.DataFrame(df.loc[:, features].mean(), columns=[\"mean\"])\n",
    "    std_df = pd.DataFrame(df.loc[:, features].std(), columns=[\"stddev\"])\n",
    "\n",
    "    x_df = pd.concat([x_df, mean_df, std_df], axis=\"columns\")\n",
    "    x_df.index.name = \"feature\"\n",
    "    return x_df"
   ]
  },
  {
   "cell_type": "code",
   "execution_count": 3,
   "id": "a44eb5cd-3a10-4a4f-b571-c0fc13a2fd28",
   "metadata": {},
   "outputs": [],
   "source": [
    "# Load compound scores\n",
    "scores_file = pathlib.Path(\n",
    "    \"..\", \"6.paper_figures\", \"results\", \"compound_scores.tsv\"\n",
    ")\n",
    "scores_df = pd.read_csv(scores_file, sep=\"\\t\")\n",
    "common_compounds = scores_df.compound.unique()\n",
    "\n",
    "# Load data\n",
    "data_path = 'Profiles_level4/cell_painting/cellpainting_lvl4_cpd_replicate_datasets/'\n",
    "\n",
    "df_level4_cp = pd.read_csv(\n",
    "    pathlib.Path(data_path, 'cp_level4_cpd_replicates.csv.gz'), \n",
    "    compression='gzip',\n",
    "    low_memory = False\n",
    ")\n",
    "df_level4_cp = df_level4_cp.loc[df_level4_cp['pert_iname'].isin(common_compounds)].reset_index(drop=True)\n",
    "\n",
    "data_path = 'Profiles_level4/L1000/L1000_lvl4_cpd_replicate_datasets/'\n",
    "\n",
    "df_level4_L1 = pd.read_csv(\n",
    "    pathlib.Path(data_path, 'L1000_level4_cpd_replicates.csv.gz'),\n",
    "    compression='gzip',\n",
    "    low_memory = False\n",
    ")\n",
    "df_level4_L1 = df_level4_L1.loc[df_level4_L1['pert_iname'].isin(common_compounds)].reset_index(drop=True)"
   ]
  },
  {
   "cell_type": "code",
   "execution_count": 4,
   "id": "abfb5b57-0953-4f91-b2f7-2b575cde7e18",
   "metadata": {},
   "outputs": [],
   "source": [
    "# Extract features\n",
    "cp_features = infer_cp_features(df_level4_cp)\n",
    "cp_meta_features = infer_cp_features(df_level4_cp, metadata=True) + [\"broad_id\", \"pert_iname\", \"moa\", \"replicate_name\"]\n",
    "\n",
    "l1000_meta_features = [\n",
    "    \"replicate_id\", \"sig_id\", \"pert_id\", \"pert_idose\", \"det_plate\", \"det_well\", \"dose\", \"Metadata_broad_sample\", \"pert_iname\", \"moa\",\n",
    "]\n",
    "l1000_features = df_level4_L1.drop(l1000_meta_features, axis=\"columns\").columns.tolist()"
   ]
  },
  {
   "cell_type": "code",
   "execution_count": 5,
   "id": "ad7dab9f-b4c5-4a83-ab73-1c12f7bc035d",
   "metadata": {},
   "outputs": [],
   "source": [
    "cp_cv_dose_df = (\n",
    "    df_level4_cp\n",
    "    .groupby(\"Metadata_dose_recode\")\n",
    "    .apply(lambda x: tidy_cv(x, cp_features))\n",
    "    .reset_index()\n",
    "    .assign(dataset=\"Cell Painting\")\n",
    ")\n",
    "\n",
    "l1000_cv_dose_df = (\n",
    "    df_level4_L1\n",
    "    .groupby(\"dose\")\n",
    "    .apply(lambda x: tidy_cv(x, l1000_features))\n",
    "    .reset_index()\n",
    "    .assign(dataset=\"L1000\")\n",
    "    .rename(columns={\"dose\":\"Metadata_dose_recode\"})\n",
    ")"
   ]
  },
  {
   "cell_type": "code",
   "execution_count": 6,
   "id": "61738e4f-6021-4fde-a250-c40e3c2c054b",
   "metadata": {},
   "outputs": [],
   "source": [
    "# Compute coefficient of variation\n",
    "cp_cv_df = tidy_cv(df_level4_cp, cp_features)\n",
    "cp_cv_df = cp_cv_df.reset_index().assign(dataset=\"Cell Painting\").assign(Metadata_dose_recode=\"all\")\n",
    "\n",
    "l1000_cv_df = tidy_cv(df_level4_L1, l1000_features)\n",
    "l1000_cv_df = l1000_cv_df.reset_index().assign(dataset=\"L1000\").assign(Metadata_dose_recode=\"all\")\n",
    "\n",
    "cv_df = pd.concat([cp_cv_df, cp_cv_dose_df, l1000_cv_df, l1000_cv_dose_df], axis=\"rows\")"
   ]
  },
  {
   "cell_type": "code",
   "execution_count": 7,
   "id": "0b570265-ac86-4321-8dfb-e33d12a1abc6",
   "metadata": {},
   "outputs": [],
   "source": [
    "# Save output file\n",
    "output_file = pathlib.Path(\"results\", \"coefficient_of_variation.tsv.gz\")\n",
    "cv_df.to_csv(output_file, sep=\"\\t\", index=False) "
   ]
  }
 ],
 "metadata": {
  "kernelspec": {
   "display_name": "Python [conda env:lincs-complimentarity] *",
   "language": "python",
   "name": "conda-env-lincs-complimentarity-py"
  },
  "language_info": {
   "codemirror_mode": {
    "name": "ipython",
    "version": 3
   },
   "file_extension": ".py",
   "mimetype": "text/x-python",
   "name": "python",
   "nbconvert_exporter": "python",
   "pygments_lexer": "ipython3",
   "version": "3.9.10"
  }
 },
 "nbformat": 4,
 "nbformat_minor": 5
}
