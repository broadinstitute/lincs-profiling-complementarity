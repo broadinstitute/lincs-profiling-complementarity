{
 "cells": [
  {
   "cell_type": "markdown",
   "id": "140bf4c7-828d-486a-b114-46f877419a9c",
   "metadata": {},
   "source": [
    "# Principal Components Analysis\n",
    "\n",
    "Exploring the relationship between principal components and reproducibility"
   ]
  },
  {
   "cell_type": "code",
   "execution_count": 1,
   "id": "452ad3bb-0841-454f-963b-6b3287d4f5a6",
   "metadata": {},
   "outputs": [],
   "source": [
    "import pathlib\n",
    "import pandas as pd\n",
    "from sklearn.decomposition import PCA\n",
    "\n",
    "from pycytominer.cyto_utils import infer_cp_features"
   ]
  },
  {
   "cell_type": "code",
   "execution_count": 2,
   "id": "3450d8ab-2fb9-4f00-8a8d-1d08f61f2175",
   "metadata": {},
   "outputs": [
    {
     "name": "stdout",
     "output_type": "stream",
     "text": [
      "(15138, 12)\n"
     ]
    },
    {
     "data": {
      "text/html": [
       "<div>\n",
       "<style scoped>\n",
       "    .dataframe tbody tr th:only-of-type {\n",
       "        vertical-align: middle;\n",
       "    }\n",
       "\n",
       "    .dataframe tbody tr th {\n",
       "        vertical-align: top;\n",
       "    }\n",
       "\n",
       "    .dataframe thead th {\n",
       "        text-align: right;\n",
       "    }\n",
       "</style>\n",
       "<table border=\"1\" class=\"dataframe\">\n",
       "  <thead>\n",
       "    <tr style=\"text-align: right;\">\n",
       "      <th></th>\n",
       "      <th>compound</th>\n",
       "      <th>no_of_compounds</th>\n",
       "      <th>well</th>\n",
       "      <th>dose_recode</th>\n",
       "      <th>median_score</th>\n",
       "      <th>p_value</th>\n",
       "      <th>assay</th>\n",
       "      <th>normalization</th>\n",
       "      <th>category</th>\n",
       "      <th>pass_thresh</th>\n",
       "      <th>neg_log_10_p_val</th>\n",
       "      <th>dose</th>\n",
       "    </tr>\n",
       "  </thead>\n",
       "  <tbody>\n",
       "    <tr>\n",
       "      <th>0</th>\n",
       "      <td>17-hydroxyprogesterone-caproate</td>\n",
       "      <td>5</td>\n",
       "      <td>N18</td>\n",
       "      <td>1</td>\n",
       "      <td>0.054557</td>\n",
       "      <td>0.009</td>\n",
       "      <td>Cell Painting</td>\n",
       "      <td>spherized</td>\n",
       "      <td>all_data</td>\n",
       "      <td>True</td>\n",
       "      <td>2.045757</td>\n",
       "      <td>0.04 uM</td>\n",
       "    </tr>\n",
       "    <tr>\n",
       "      <th>1</th>\n",
       "      <td>2-iminobiotin</td>\n",
       "      <td>5</td>\n",
       "      <td>B12</td>\n",
       "      <td>1</td>\n",
       "      <td>0.053791</td>\n",
       "      <td>0.004</td>\n",
       "      <td>Cell Painting</td>\n",
       "      <td>spherized</td>\n",
       "      <td>all_data</td>\n",
       "      <td>True</td>\n",
       "      <td>2.397940</td>\n",
       "      <td>0.04 uM</td>\n",
       "    </tr>\n",
       "  </tbody>\n",
       "</table>\n",
       "</div>"
      ],
      "text/plain": [
       "                          compound  no_of_compounds well  dose_recode  \\\n",
       "0  17-hydroxyprogesterone-caproate                5  N18            1   \n",
       "1                    2-iminobiotin                5  B12            1   \n",
       "\n",
       "   median_score  p_value          assay normalization  category  pass_thresh  \\\n",
       "0      0.054557    0.009  Cell Painting     spherized  all_data         True   \n",
       "1      0.053791    0.004  Cell Painting     spherized  all_data         True   \n",
       "\n",
       "   neg_log_10_p_val     dose  \n",
       "0          2.045757  0.04 uM  \n",
       "1          2.397940  0.04 uM  "
      ]
     },
     "execution_count": 2,
     "metadata": {},
     "output_type": "execute_result"
    }
   ],
   "source": [
    "# Load compound scores\n",
    "scores_file = pathlib.Path(\n",
    "    \"..\", \"6.paper_figures\", \"results\", \"compound_scores.tsv\"\n",
    ")\n",
    "scores_df = pd.read_csv(scores_file, sep=\"\\t\")\n",
    "common_compounds = scores_df.compound.unique()\n",
    "\n",
    "print(scores_df.shape)\n",
    "scores_df.head(2)"
   ]
  },
  {
   "cell_type": "code",
   "execution_count": 3,
   "id": "761404ad-841c-49b2-9fab-4beef16a33fc",
   "metadata": {},
   "outputs": [],
   "source": [
    "# Load data\n",
    "data_path = 'Profiles_level4/cell_painting/cellpainting_lvl4_cpd_replicate_datasets/'\n",
    "\n",
    "df_level4_cp = pd.read_csv(\n",
    "    pathlib.Path(data_path, 'cp_level4_cpd_replicates.csv.gz'), \n",
    "    compression='gzip',\n",
    "    low_memory = False\n",
    ")\n",
    "df_level4_cp = df_level4_cp.loc[df_level4_cp['pert_iname'].isin(common_compounds)].reset_index(drop=True)\n",
    "\n",
    "data_path = 'Profiles_level4/L1000/L1000_lvl4_cpd_replicate_datasets/'\n",
    "\n",
    "df_level4_L1 = pd.read_csv(\n",
    "    pathlib.Path(data_path, 'L1000_level4_cpd_replicates.csv.gz'),\n",
    "    compression='gzip',\n",
    "    low_memory = False\n",
    ")\n",
    "df_level4_L1 = df_level4_L1.loc[df_level4_L1['pert_iname'].isin(common_compounds)].reset_index(drop=True)"
   ]
  },
  {
   "cell_type": "code",
   "execution_count": 4,
   "id": "25ec0c06-afbb-46f7-b874-bb2e5b9f6b0c",
   "metadata": {},
   "outputs": [],
   "source": [
    "# Extract features\n",
    "cp_features = infer_cp_features(df_level4_cp)\n",
    "cp_meta_features = infer_cp_features(df_level4_cp, metadata=True) + [\"broad_id\", \"pert_iname\", \"moa\", \"replicate_name\"]\n",
    "\n",
    "l1000_meta_features = [\n",
    "    \"replicate_id\", \"sig_id\", \"pert_id\", \"pert_idose\", \"det_plate\", \"det_well\", \"dose\", \"Metadata_broad_sample\", \"pert_iname\", \"moa\",\n",
    "]\n",
    "l1000_features = df_level4_L1.drop(l1000_meta_features, axis=\"columns\").columns.tolist()"
   ]
  },
  {
   "cell_type": "code",
   "execution_count": 5,
   "id": "f333d45c-ea20-4e27-b6c5-3ac723d3a10f",
   "metadata": {},
   "outputs": [],
   "source": [
    "# Apply PCA\n",
    "no_pcs = 5\n",
    "\n",
    "# Cell Painting\n",
    "pca = PCA(n_components=no_pcs)\n",
    "pca.fit(df_level4_cp.loc[:, cp_features])\n",
    "\n",
    "cp_pca_df = pd.DataFrame(\n",
    "    pca.transform(df_level4_cp.loc[:, cp_features]),\n",
    "    columns=[f\"pca_{x}\" for x in range(1, no_pcs+1)]\n",
    ")\n",
    "cp_pca_df = pd.concat([df_level4_cp.loc[:, cp_meta_features], cp_pca_df], axis=\"columns\")\n",
    "\n",
    "# L1000\n",
    "pca = PCA(n_components=no_pcs)\n",
    "pca.fit(df_level4_L1.loc[:, l1000_features])\n",
    "\n",
    "l1000_pca_df = pd.DataFrame(\n",
    "    pca.transform(df_level4_L1.loc[:, l1000_features]),\n",
    "    columns=[f\"pca_{x}\" for x in range(1, no_pcs+1)]\n",
    ")\n",
    "l1000_pca_df = pd.concat([df_level4_L1.loc[:, l1000_meta_features], l1000_pca_df], axis=\"columns\")"
   ]
  },
  {
   "cell_type": "code",
   "execution_count": 6,
   "id": "3fa8e2c2-0ff8-4aab-ac56-39792415b109",
   "metadata": {},
   "outputs": [],
   "source": [
    "# Merge PCA transformed data with reproducibility metadata\n",
    "cp_pca_df = (\n",
    "    cp_pca_df.merge(\n",
    "        scores_df.query(\"assay == 'Cell Painting'\").query(\"normalization == 'spherized'\"),\n",
    "        left_on=[\"pert_iname\", \"Metadata_dose_recode\"],\n",
    "        right_on=[\"compound\", \"dose_recode\"]\n",
    "    )\n",
    ").reset_index(drop=True)\n",
    "\n",
    "l1000_pca_df = (\n",
    "    l1000_pca_df.merge(\n",
    "        scores_df.query(\"assay == 'L1000'\").query(\"normalization == 'non_spherized'\"),\n",
    "        left_on=[\"pert_iname\", \"dose\"],\n",
    "        right_on=[\"compound\", \"dose_recode\"]\n",
    "    )\n",
    ").reset_index(drop=True)"
   ]
  },
  {
   "cell_type": "code",
   "execution_count": 7,
   "id": "bf6737f1-98e7-4812-ab8b-dec333b2cdc7",
   "metadata": {},
   "outputs": [],
   "source": [
    "# Save PCA components for downstream visualization\n",
    "output_dir = pathlib.Path(\"results\")\n",
    "\n",
    "output_file = pathlib.Path(output_dir, \"cell_painting_pca.tsv.gz\")\n",
    "cp_pca_df.to_csv(output_file, sep=\"\\t\", index=False)\n",
    "\n",
    "output_file = pathlib.Path(output_dir, \"l1000_pca.tsv.gz\")\n",
    "l1000_pca_df.to_csv(output_file, sep=\"\\t\", index=False)"
   ]
  }
 ],
 "metadata": {
  "kernelspec": {
   "display_name": "Python [conda env:lincs-complimentarity] *",
   "language": "python",
   "name": "conda-env-lincs-complimentarity-py"
  },
  "language_info": {
   "codemirror_mode": {
    "name": "ipython",
    "version": 3
   },
   "file_extension": ".py",
   "mimetype": "text/x-python",
   "name": "python",
   "nbconvert_exporter": "python",
   "pygments_lexer": "ipython3",
   "version": "3.9.10"
  }
 },
 "nbformat": 4,
 "nbformat_minor": 5
}
