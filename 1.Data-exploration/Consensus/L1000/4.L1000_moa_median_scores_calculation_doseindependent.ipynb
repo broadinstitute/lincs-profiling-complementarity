{
 "cells": [
  {
   "cell_type": "markdown",
   "metadata": {},
   "source": [
    "# Consensus Signatures\n",
    "\n",
    "Gregory Way, modified from code written by Adeniyi Adeboye\n",
    "\n",
    "A consensus signature can be defined as a perturbation-specific summary profile acquired by aggregating replicate level information.\n",
    "\n",
    "#### Level 5 - Replicate-consensus signatures (MODZ) \n",
    "\n",
    "L1000 experiments are typically done in 3 or more biological replicates. We derive a consensus replicate signature by applying the\n",
    "moderated z-score (MODZ) procedure as follows. First, a pairwise Spearman correlation matrix is computed between the replicate\n",
    "signatures in the space of landmark genes with trivial self-correlations being ignored (set to 0). Then, weights for each replicate are\n",
    "computed as the sum of its correlations to the other replicates, normalized such that all weights sum to 1. Finally, the consensus\n",
    "signature is given by the linear combination of the replicate signatures with the coefficients set to the weights. This procedure serves\n",
    "to mitigate the effects of uncorrelated or outlier replicates, and can be thought of as a ‘de-noised’ representation of the given\n",
    "experiment’s transcriptional consequences.   \n",
    "[Subramanian et al 2017](https://www.cell.com/action/showPdf?pii=S0092-8674%2817%2931309-0)\n",
    "\n",
    "\n",
    "### we have expression values of 978 landmark genes for each signature id (sig_id)\n",
    "\n",
    "\n",
    "### The goal here:\n",
    "- is to determine the median score of each MOA (Mechanism of action) per dose based on taking the median of the correlation values between compounds of the same MOA.\n",
    "\n",
    "\n",
    "### Note:\n",
    "\n",
    "To calculate the median score for each of the two level-5 (rank and Modz) data, this notebook will have to be ran twice for each."
   ]
  },
  {
   "cell_type": "code",
   "execution_count": 1,
   "metadata": {},
   "outputs": [],
   "source": [
    "import os\n",
    "import pathlib\n",
    "import requests\n",
    "import pickle\n",
    "import argparse\n",
    "import pandas as pd\n",
    "import numpy as np\n",
    "import re\n",
    "from os import walk\n",
    "from collections import Counter\n",
    "import matplotlib.pyplot as plt\n",
    "%matplotlib inline\n",
    "import seaborn as sns\n",
    "import random\n",
    "sns.set_style(\"darkgrid\")\n",
    "import shutil\n",
    "from statistics import median\n",
    "import cmapPy.pandasGEXpress.parse_gct as pg\n",
    "from cmapPy.pandasGEXpress.parse import parse\n",
    "from io import BytesIO\n",
    "from urllib.request import urlopen\n",
    "from zipfile import ZipFile"
   ]
  },
  {
   "cell_type": "markdown",
   "metadata": {},
   "source": [
    "### - Download L1000 Dataset "
   ]
  },
  {
   "cell_type": "code",
   "execution_count": 2,
   "metadata": {},
   "outputs": [
    {
     "data": {
      "text/plain": [
       "['level_4_zspc_n27837x978.gctx',\n",
       " 'level_4W_zspc_n27837x978.gctx',\n",
       " 'level_3_q2norm_n27837x978.gctx',\n",
       " 'level_5_rank_n9482x978.gctx',\n",
       " 'level_5_modz_n9482x978.gctx',\n",
       " 'col_meta_level_5_n169494.txt',\n",
       " 'level_5_modz_cid_n9482.grp',\n",
       " 'set_size_3_level_3_REP.A_A549_only_all_compounds_and_random_well_DMSO.gmt',\n",
       " 'col_meta_level_3_REP.A_A549_only_n27837.txt',\n",
       " 'REP.A_A549_pert_info.txt',\n",
       " 'level_5_modz_common_sigs_n8370x978.gctx',\n",
       " 'col_meta_level_3_n421176.txt',\n",
       " 'col_meta_level_5_REP.A_A549_only_n9482.txt']"
      ]
     },
     "execution_count": 2,
     "metadata": {},
     "output_type": "execute_result"
    }
   ],
   "source": [
    "data_dir = pathlib.Path(\"../../Profiles_level4/L1000/L1000_figshare_data\")\n",
    "os.listdir(data_dir) ##files in L1000 downloaded dataset"
   ]
  },
  {
   "cell_type": "markdown",
   "metadata": {},
   "source": [
    "###  Mechanism of actions (MOAs) - Alignment of L1000 and Cell Painting MOAs\n",
    "\n",
    "- Align the **L1000 pert_info meta_data** with the **Cell-painting meta_data** based on **broad id** and then further fill in some null values in cell painting MOA column with corresponding L1000 MOAs of the same broad sample id and do the same thing for the L1000 data, then take the L1000 moas as the one that will be used for further analysis (because it has the most distinct MOAs)."
   ]
  },
  {
   "cell_type": "code",
   "execution_count": 3,
   "metadata": {},
   "outputs": [],
   "source": [
    "commit = \"94bfaeeab0d107beac262b4307aa6e9b783625fa\"\n",
    "cp_moa_dataset = f\"https://github.com/broadinstitute/lincs-cell-painting/blob/{commit}/metadata/moa\\\n",
    "/repurposing_info_external_moa_map_resolved.tsv?raw=true\""
   ]
  },
  {
   "cell_type": "code",
   "execution_count": 4,
   "metadata": {},
   "outputs": [],
   "source": [
    "def merge_align_moa(data_dir, cp_moa_link):\n",
    "    \"\"\"\n",
    "    This function aligns L1000 MOAs with the cell painting MOAs \n",
    "    and further fill null MOAs in one of the them (cell painting or L1000)\n",
    "    with another, so far they are of the same broad sample ID.\n",
    "    \n",
    "    The function outputs aligned L1000 MOA metadata dataframe, \n",
    "    that will be used for further analysis.\n",
    "    \n",
    "    params: \n",
    "    data_dir: directory that contains L1000 files\n",
    "    cp_moa_link: github link to cell painting MOA metadata information .csv file\n",
    "\n",
    "    Returns:\n",
    "    df_pertinfo: dataframe with aligned L1000 MOA metadata pertubation information.\n",
    "    \"\"\"\n",
    "    \n",
    "    df_pertinfo_5 = pd.read_csv(os.path.join(data_dir, 'REP.A_A549_pert_info.txt'), delimiter = \"\\t\")\n",
    "    df_moa_cp = pd.read_csv(cp_moa_link, sep=\"\\t\")\n",
    "    df_pertinfo_5 = df_pertinfo_5[['pert_id', 'pert_iname', 'moa']].copy()\n",
    "    df_moa_cp = df_moa_cp[['broad_id', 'pert_iname', 'moa']].copy()\n",
    "    df_pertinfo_5.rename(columns={\"pert_id\": \"broad_id\", \"pert_iname\": \"pert_iname_L1000\", \"moa\": \"moa_L1000\"}, inplace = True)\n",
    "    df_moa_cp.rename(columns={\"pert_iname\": \"pert_iname_cell_painting\", \"moa\": \"moa_cell_painting\"}, inplace = True)\n",
    "    df_pertinfo = pd.merge(df_pertinfo_5, df_moa_cp, on=['broad_id'], how = 'left')\n",
    "    \n",
    "    ##fill NaNs in columns - moa_L1000, pert_iname_L1000, with corresponding values in cell_painting and VICE VERSA\n",
    "    df_pertinfo['moa_L1000'].fillna(value=df_pertinfo['moa_cell_painting'], inplace=True)\n",
    "    df_pertinfo['moa_cell_painting'].fillna(value=df_pertinfo['moa_L1000'], inplace=True)\n",
    "    df_pertinfo['pert_iname_cell_painting'].fillna(value=df_pertinfo['pert_iname_L1000'], inplace=True)\n",
    "    \n",
    "    for col in ['pert_iname_L1000', 'moa_L1000', 'pert_iname_cell_painting', 'moa_cell_painting']:\n",
    "        df_pertinfo[col] = df_pertinfo[col].apply(lambda x: x.lower())\n",
    "    df_pertinfo.rename(columns={\"broad_id\": \"pert_id\", \"pert_iname_L1000\": \"pert_iname\", \n",
    "                                    \"moa_L1000\": \"moa\"}, inplace = True)\n",
    "    df_pertinfo.drop(['pert_iname_cell_painting', 'moa_cell_painting'], axis = 1, inplace = True)\n",
    "    \n",
    "    return df_pertinfo"
   ]
  },
  {
   "cell_type": "code",
   "execution_count": 5,
   "metadata": {},
   "outputs": [],
   "source": [
    "df_pert_info = merge_align_moa(data_dir, cp_moa_dataset)"
   ]
  },
  {
   "cell_type": "code",
   "execution_count": 6,
   "metadata": {},
   "outputs": [
    {
     "data": {
      "text/plain": [
       "(1403, 3)"
      ]
     },
     "execution_count": 6,
     "metadata": {},
     "output_type": "execute_result"
    }
   ],
   "source": [
    "df_pert_info.shape"
   ]
  },
  {
   "cell_type": "code",
   "execution_count": 7,
   "metadata": {},
   "outputs": [],
   "source": [
    "def construct_lvl5_df(data_dir, consensus_lvl5_file, df_pertinfo):\n",
    "    \"\"\"\n",
    "    This function returns L1000 level-5 dataframe with samples \n",
    "    that consist of expression values of 978 landmark genes with some \n",
    "    additional metadata information.\n",
    "    \n",
    "    params: \n",
    "    data_dir: directory that contains all  L1000 files\n",
    "    consensus_lvl5_file: L1000 level-5 (.gctx) file\n",
    "    df_pertinfo: dataframe with aligned L1000 MOA metadata pertubation information.\n",
    "\n",
    "    Returns:\n",
    "    lvl5_data: L1000 level-5 dataframe consisting of expression \n",
    "    values of 978 landmark genes and metadata information.\n",
    "    \"\"\"\n",
    "    \n",
    "    lvl5_data = parse(os.path.join(data_dir, consensus_lvl5_file))\n",
    "    df_metalvl_5 = pd.read_csv(os.path.join(data_dir, 'col_meta_level_5_REP.A_A549_only_n9482.txt'), delimiter = \"\\t\")\n",
    "    lvl5_data.data_df.rename_axis(None, inplace = True)\n",
    "    lvl5_data = lvl5_data.data_df.T\n",
    "    lvl5_data.rename_axis(None, inplace = True)\n",
    "    df_meta_features = df_metalvl_5[['sig_id', 'pert_id', 'pert_idose']].copy()\n",
    "    df_meta_features['dose'] = df_meta_features['pert_idose'].map({'-666' : 0, '0.04 uM' : 1, '0.12 uM' : 2, '0.37 uM' : 3,\n",
    "                                                                   '1.11 uM' : 4, '3.33 uM' : 5, '10 uM' : 6, '20 uM' : 7})\n",
    "    df_meta_features = pd.merge(df_meta_features, df_pertinfo, on='pert_id')\n",
    "    lvl5_data.reset_index(inplace = True)\n",
    "    lvl5_data.rename(columns={\"index\": \"sig_id\"}, inplace = True)\n",
    "    lvl5_data = pd.merge(lvl5_data, df_meta_features, on='sig_id')\n",
    "    \n",
    "    return lvl5_data"
   ]
  },
  {
   "cell_type": "markdown",
   "metadata": {},
   "source": [
    "L1000 LEVEL 5 Data:\n",
    "\n",
    "- 'level_5_modz_n9482x978.gctx',\n",
    "- 'level_5_rank_n9482x978.gctx'"
   ]
  },
  {
   "cell_type": "code",
   "execution_count": 8,
   "metadata": {},
   "outputs": [],
   "source": [
    "df_lvl5 = construct_lvl5_df(data_dir, 'level_5_modz_n9482x978.gctx', df_pert_info)"
   ]
  },
  {
   "cell_type": "code",
   "execution_count": 9,
   "metadata": {
    "scrolled": true
   },
   "outputs": [
    {
     "data": {
      "text/plain": [
       "(9482, 984)"
      ]
     },
     "execution_count": 9,
     "metadata": {},
     "output_type": "execute_result"
    }
   ],
   "source": [
    "df_lvl5.shape"
   ]
  },
  {
   "cell_type": "markdown",
   "metadata": {},
   "source": [
    "### - Remove highly correlated landmark genes and samples with Null MOAs"
   ]
  },
  {
   "cell_type": "code",
   "execution_count": 10,
   "metadata": {},
   "outputs": [],
   "source": [
    "def feature_selection(df_data):\n",
    "    \n",
    "    \"\"\"\n",
    "    Perform feature selection by dropping columns with null MOAs values, \n",
    "    and highly correlated landmark genes from the data.\n",
    "    \n",
    "    params: \n",
    "    df_data: L1000 level-5 dataframe\n",
    "\n",
    "    Returns:\n",
    "    df_data: refined L1000 level-5 dataframe\n",
    "    \"\"\"\n",
    "    \n",
    "    df_data_genes = df_data.drop(['pert_id', 'dose', 'pert_iname', 'moa', 'sig_id'], axis = 1).copy()\n",
    "    df_data_corr = df_data_genes.corr(method = 'spearman')\n",
    "    drop_cols = []\n",
    "    n_cols = len(df_data_corr.columns)\n",
    "    for i in range(n_cols):\n",
    "        for k in range(i+1, n_cols):\n",
    "            val = df_data_corr.iloc[k, i]\n",
    "            col = df_data_corr.columns[i]\n",
    "            if abs(val) >= 0.8:\n",
    "                drop_cols.append(col)\n",
    "    df_data.drop(set(drop_cols), axis = 1, inplace = True)\n",
    "    df_data.drop(df_data[df_data['moa'].isnull()].index).reset_index(drop = True, inplace = True)\n",
    "    \n",
    "    return df_data"
   ]
  },
  {
   "cell_type": "code",
   "execution_count": 11,
   "metadata": {},
   "outputs": [
    {
     "name": "stdout",
     "output_type": "stream",
     "text": [
      "(9482, 980)\n"
     ]
    },
    {
     "data": {
      "text/html": [
       "<div>\n",
       "<style scoped>\n",
       "    .dataframe tbody tr th:only-of-type {\n",
       "        vertical-align: middle;\n",
       "    }\n",
       "\n",
       "    .dataframe tbody tr th {\n",
       "        vertical-align: top;\n",
       "    }\n",
       "\n",
       "    .dataframe thead th {\n",
       "        text-align: right;\n",
       "    }\n",
       "</style>\n",
       "<table border=\"1\" class=\"dataframe\">\n",
       "  <thead>\n",
       "    <tr style=\"text-align: right;\">\n",
       "      <th></th>\n",
       "      <th>sig_id</th>\n",
       "      <th>200814_at</th>\n",
       "      <th>222103_at</th>\n",
       "      <th>201453_x_at</th>\n",
       "      <th>204131_s_at</th>\n",
       "      <th>200059_s_at</th>\n",
       "      <th>205067_at</th>\n",
       "      <th>213702_x_at</th>\n",
       "      <th>214435_x_at</th>\n",
       "      <th>201334_s_at</th>\n",
       "      <th>...</th>\n",
       "      <th>212536_at</th>\n",
       "      <th>218529_at</th>\n",
       "      <th>211071_s_at</th>\n",
       "      <th>203341_at</th>\n",
       "      <th>205379_at</th>\n",
       "      <th>pert_id</th>\n",
       "      <th>pert_idose</th>\n",
       "      <th>dose</th>\n",
       "      <th>pert_iname</th>\n",
       "      <th>moa</th>\n",
       "    </tr>\n",
       "  </thead>\n",
       "  <tbody>\n",
       "    <tr>\n",
       "      <th>0</th>\n",
       "      <td>REP.A001_A549_24H:A03</td>\n",
       "      <td>-0.125782</td>\n",
       "      <td>-0.487140</td>\n",
       "      <td>-0.440531</td>\n",
       "      <td>-0.296223</td>\n",
       "      <td>-0.966122</td>\n",
       "      <td>0.978378</td>\n",
       "      <td>0.040750</td>\n",
       "      <td>-0.271902</td>\n",
       "      <td>0.025573</td>\n",
       "      <td>...</td>\n",
       "      <td>-0.405167</td>\n",
       "      <td>-3.883918</td>\n",
       "      <td>-2.026593</td>\n",
       "      <td>0.078603</td>\n",
       "      <td>-0.303383</td>\n",
       "      <td>DMSO</td>\n",
       "      <td>-666</td>\n",
       "      <td>0</td>\n",
       "      <td>dmso</td>\n",
       "      <td>control vehicle</td>\n",
       "    </tr>\n",
       "    <tr>\n",
       "      <th>1</th>\n",
       "      <td>REP.A001_A549_24H:A04</td>\n",
       "      <td>0.050915</td>\n",
       "      <td>-0.416473</td>\n",
       "      <td>-0.150494</td>\n",
       "      <td>-0.011468</td>\n",
       "      <td>-0.187050</td>\n",
       "      <td>-0.686103</td>\n",
       "      <td>-0.239599</td>\n",
       "      <td>-1.155810</td>\n",
       "      <td>0.975563</td>\n",
       "      <td>...</td>\n",
       "      <td>2.072125</td>\n",
       "      <td>0.346124</td>\n",
       "      <td>-1.272945</td>\n",
       "      <td>0.014032</td>\n",
       "      <td>-0.528006</td>\n",
       "      <td>DMSO</td>\n",
       "      <td>-666</td>\n",
       "      <td>0</td>\n",
       "      <td>dmso</td>\n",
       "      <td>control vehicle</td>\n",
       "    </tr>\n",
       "    <tr>\n",
       "      <th>2</th>\n",
       "      <td>REP.A001_A549_24H:A05</td>\n",
       "      <td>-0.121885</td>\n",
       "      <td>-0.178181</td>\n",
       "      <td>0.893884</td>\n",
       "      <td>-0.100842</td>\n",
       "      <td>0.574229</td>\n",
       "      <td>-0.575138</td>\n",
       "      <td>-0.294981</td>\n",
       "      <td>-0.819387</td>\n",
       "      <td>0.577362</td>\n",
       "      <td>...</td>\n",
       "      <td>0.381754</td>\n",
       "      <td>-0.250574</td>\n",
       "      <td>0.588516</td>\n",
       "      <td>-0.559432</td>\n",
       "      <td>0.067020</td>\n",
       "      <td>DMSO</td>\n",
       "      <td>-666</td>\n",
       "      <td>0</td>\n",
       "      <td>dmso</td>\n",
       "      <td>control vehicle</td>\n",
       "    </tr>\n",
       "    <tr>\n",
       "      <th>3</th>\n",
       "      <td>REP.A001_A549_24H:A06</td>\n",
       "      <td>0.198764</td>\n",
       "      <td>-1.011396</td>\n",
       "      <td>-0.385173</td>\n",
       "      <td>-0.191023</td>\n",
       "      <td>0.249875</td>\n",
       "      <td>-0.394916</td>\n",
       "      <td>-0.203124</td>\n",
       "      <td>-0.343248</td>\n",
       "      <td>0.578041</td>\n",
       "      <td>...</td>\n",
       "      <td>1.331046</td>\n",
       "      <td>0.655884</td>\n",
       "      <td>-0.341313</td>\n",
       "      <td>-0.775775</td>\n",
       "      <td>0.014951</td>\n",
       "      <td>DMSO</td>\n",
       "      <td>-666</td>\n",
       "      <td>0</td>\n",
       "      <td>dmso</td>\n",
       "      <td>control vehicle</td>\n",
       "    </tr>\n",
       "    <tr>\n",
       "      <th>4</th>\n",
       "      <td>REP.A001_A549_24H:A07</td>\n",
       "      <td>-0.061635</td>\n",
       "      <td>0.408537</td>\n",
       "      <td>0.824534</td>\n",
       "      <td>0.536392</td>\n",
       "      <td>-0.566594</td>\n",
       "      <td>-0.308054</td>\n",
       "      <td>0.189936</td>\n",
       "      <td>0.184868</td>\n",
       "      <td>-0.068203</td>\n",
       "      <td>...</td>\n",
       "      <td>2.125713</td>\n",
       "      <td>-0.247640</td>\n",
       "      <td>0.416466</td>\n",
       "      <td>-0.676134</td>\n",
       "      <td>-2.665621</td>\n",
       "      <td>BRD-K25114078</td>\n",
       "      <td>10 uM</td>\n",
       "      <td>6</td>\n",
       "      <td>aminoguanidine</td>\n",
       "      <td>nitric oxide synthase inhibitor</td>\n",
       "    </tr>\n",
       "  </tbody>\n",
       "</table>\n",
       "<p>5 rows × 980 columns</p>\n",
       "</div>"
      ],
      "text/plain": [
       "                  sig_id  200814_at  222103_at  201453_x_at  204131_s_at  \\\n",
       "0  REP.A001_A549_24H:A03  -0.125782  -0.487140    -0.440531    -0.296223   \n",
       "1  REP.A001_A549_24H:A04   0.050915  -0.416473    -0.150494    -0.011468   \n",
       "2  REP.A001_A549_24H:A05  -0.121885  -0.178181     0.893884    -0.100842   \n",
       "3  REP.A001_A549_24H:A06   0.198764  -1.011396    -0.385173    -0.191023   \n",
       "4  REP.A001_A549_24H:A07  -0.061635   0.408537     0.824534     0.536392   \n",
       "\n",
       "   200059_s_at  205067_at  213702_x_at  214435_x_at  201334_s_at  ...  \\\n",
       "0    -0.966122   0.978378     0.040750    -0.271902     0.025573  ...   \n",
       "1    -0.187050  -0.686103    -0.239599    -1.155810     0.975563  ...   \n",
       "2     0.574229  -0.575138    -0.294981    -0.819387     0.577362  ...   \n",
       "3     0.249875  -0.394916    -0.203124    -0.343248     0.578041  ...   \n",
       "4    -0.566594  -0.308054     0.189936     0.184868    -0.068203  ...   \n",
       "\n",
       "   212536_at  218529_at  211071_s_at  203341_at  205379_at        pert_id  \\\n",
       "0  -0.405167  -3.883918    -2.026593   0.078603  -0.303383           DMSO   \n",
       "1   2.072125   0.346124    -1.272945   0.014032  -0.528006           DMSO   \n",
       "2   0.381754  -0.250574     0.588516  -0.559432   0.067020           DMSO   \n",
       "3   1.331046   0.655884    -0.341313  -0.775775   0.014951           DMSO   \n",
       "4   2.125713  -0.247640     0.416466  -0.676134  -2.665621  BRD-K25114078   \n",
       "\n",
       "   pert_idose  dose      pert_iname                              moa  \n",
       "0        -666     0            dmso                  control vehicle  \n",
       "1        -666     0            dmso                  control vehicle  \n",
       "2        -666     0            dmso                  control vehicle  \n",
       "3        -666     0            dmso                  control vehicle  \n",
       "4       10 uM     6  aminoguanidine  nitric oxide synthase inhibitor  \n",
       "\n",
       "[5 rows x 980 columns]"
      ]
     },
     "execution_count": 11,
     "metadata": {},
     "output_type": "execute_result"
    }
   ],
   "source": [
    "df_lvl5 = feature_selection(df_lvl5)\n",
    "\n",
    "print(df_lvl5.shape)\n",
    "df_lvl5.head()"
   ]
  },
  {
   "cell_type": "code",
   "execution_count": 12,
   "metadata": {},
   "outputs": [
    {
     "name": "stdout",
     "output_type": "stream",
     "text": [
      "1327\n"
     ]
    }
   ],
   "source": [
    "# Load common compounds\n",
    "common_file = pathlib.Path(\"..\", \"..\", \"..\", \"6.paper_figures\", \"data\", \"significant_compounds_by_threshold_both_assays.tsv.gz\")\n",
    "common_df = pd.read_csv(common_file, sep=\"\\t\")\n",
    "\n",
    "common_compounds = common_df.compound.unique().tolist()\n",
    "print(len(common_compounds))"
   ]
  },
  {
   "cell_type": "code",
   "execution_count": 13,
   "metadata": {},
   "outputs": [
    {
     "data": {
      "text/plain": [
       "(7963, 980)"
      ]
     },
     "execution_count": 13,
     "metadata": {},
     "output_type": "execute_result"
    }
   ],
   "source": [
    "# Only calculate using common compounds\n",
    "# and for some reason the L1000 level 5 data contained multiple pert_ids per per_iname\n",
    "df_lvl5_common = (\n",
    "    df_lvl5\n",
    "    .query(\"pert_iname in @common_compounds\")\n",
    "    .drop_duplicates(subset = [\"pert_idose\", \"dose\", \"pert_iname\", \"moa\"])\n",
    "    .reset_index(drop=True)\n",
    ")\n",
    "\n",
    "df_lvl5_common.shape"
   ]
  },
  {
   "cell_type": "code",
   "execution_count": 14,
   "metadata": {},
   "outputs": [
    {
     "name": "stdout",
     "output_type": "stream",
     "text": [
      "511\n"
     ]
    }
   ],
   "source": [
    "# How many total MOAs in common\n",
    "moa_list = (\n",
    "    pd.DataFrame(\n",
    "        pd.concat([\n",
    "            pd.Series(x) for x in df_lvl5_common.moa.str.split(\"|\")\n",
    "        ])\n",
    "        .dropna(), columns=['moa']\n",
    "    )\n",
    ")\n",
    "\n",
    "moa_list.moa = moa_list.moa.str.lower()\n",
    "moa_list = (\n",
    "    pd.DataFrame(\n",
    "        moa_list.moa.value_counts()\n",
    "    )\n",
    "    .reset_index()\n",
    "    .rename(columns={\"moa\": \"compound_count\", \"index\": \"moa\"})\n",
    ")\n",
    "\n",
    "print(moa_list.moa.nunique())"
   ]
  },
  {
   "cell_type": "code",
   "execution_count": 15,
   "metadata": {},
   "outputs": [
    {
     "name": "stdout",
     "output_type": "stream",
     "text": [
      "126\n"
     ]
    }
   ],
   "source": [
    "# How many MOAs with greater than 3 compounds?\n",
    "moa_list = moa_list.assign(num_unique_cpd=moa_list.compound_count / 6)\n",
    "moa_list_subset = moa_list.query(\"num_unique_cpd > 3\")\n",
    "\n",
    "print(moa_list_subset.moa.nunique())"
   ]
  },
  {
   "cell_type": "markdown",
   "metadata": {},
   "source": [
    "### - Get the median scores for the MOAs based on the correlation values of cpds in the same MOAs"
   ]
  },
  {
   "cell_type": "code",
   "execution_count": 16,
   "metadata": {},
   "outputs": [],
   "source": [
    "def get_median_score(moa_list, df, df_cpd_agg):\n",
    "    \n",
    "    \"\"\"\n",
    "    Get the correlation values between compounds of each MOA, \n",
    "    then calculate the median of these correlation values \n",
    "    and assign it as the \"median score\" of the MOA.\n",
    "    \n",
    "    params: \n",
    "    moa_list: list of distinct moas for a particular dose\n",
    "    df: merged consensus and moa dataframe\n",
    "    df_cpd_agg: merged consensus and moa dataframe of compound correlations of a particular dose\n",
    "\n",
    "    Returns:\n",
    "    moa_median_score: Dict with moa as the keys, and their median scores as the values\n",
    "    moa_cpds: Dict with moa as the keys, and the list of moa for each moa as the values\n",
    "    \n",
    "    \"\"\"\n",
    "    \n",
    "    moa_cpds = {}\n",
    "    moa_median_score = {}\n",
    "    for moa in moa_list:\n",
    "        cpds = df['pert_iname'][df['moa'] == moa].unique().tolist()\n",
    "        moa_cpds[moa] = cpds\n",
    "        # taking correlation btw cpds for each MOA\n",
    "        df_cpds = df_cpd_agg.loc[cpds]\n",
    "        \n",
    "        cpds_corr = df_cpds.transpose().corr(method='spearman')\n",
    "    \n",
    "        if len(cpds) == 1:\n",
    "            median_val = 1\n",
    "        else:\n",
    "            cpds_corr.index.name = \"pert_iname_compare\"\n",
    "            cpds_corr = cpds_corr.reset_index().melt(id_vars = \"pert_iname_compare\", value_name=\"spearman_corr\")\n",
    "            cpds_corr = cpds_corr.assign(keep_me_diff_comparison = cpds_corr.pert_iname_compare != cpds_corr.pert_iname)\n",
    "            cpds_corr = cpds_corr.query(\"keep_me_diff_comparison\")\n",
    "            median_val = cpds_corr.spearman_corr.median()\n",
    "\n",
    "        moa_median_score[moa] = median_val\n",
    "        \n",
    "    return moa_median_score, moa_cpds"
   ]
  },
  {
   "cell_type": "code",
   "execution_count": 17,
   "metadata": {},
   "outputs": [],
   "source": [
    "def check_moa(moa_med_score, moa_cpds, df_moa):\n",
    "    \"\"\"\n",
    "    Check if all distinct moas in the moa_consensus dataframe (df_moa) \n",
    "    are in moa_med_score & moa_cpd, if not add them as keys and give them\n",
    "    a null value as the median score for moa_med_score and also as values for moa_cpds.\n",
    "    \n",
    "    params: \n",
    "    moa_med_score: Dict with moa as the keys, and their size as the values\n",
    "    moa_cpds: Dict with moa as the keys, and the list of moa for each moa as the values\n",
    "    data_moa: merged consensus and moa df with moas\n",
    "\n",
    "    Returns:\n",
    "    moa_med_score: Dict with moa as the keys, and their size as the values\n",
    "    moa_cpds: Dict with moa as the keys, and the list of moa for each moa as the values\n",
    "    \n",
    "    \"\"\"\n",
    "    moa_list = df_moa['moa'].unique().tolist()\n",
    "    moa_keys = moa_med_score.keys()\n",
    "    for moa in moa_list:\n",
    "        if moa not in moa_keys:\n",
    "            moa_med_score[moa] = np.nan\n",
    "            moa_cpds[moa] = np.nan\n",
    "    return moa_med_score, moa_cpds"
   ]
  },
  {
   "cell_type": "code",
   "execution_count": 18,
   "metadata": {},
   "outputs": [],
   "source": [
    "def get_moa_medianscores(df_moa):\n",
    "    \n",
    "    \"\"\"\n",
    "    Generate a dataframe of distinct moas with their median scores \n",
    "    \n",
    "    params: \n",
    "    df_moa: merged consensus and moa dataframe\n",
    "\n",
    "    Returns:\n",
    "    df_moa_med_score: dataframe of distinct moas with their corresponding median scores \n",
    "    and list of compounds for all doses.\n",
    "    \n",
    "    \"\"\"\n",
    "\n",
    "    df_moa = df_moa.copy()\n",
    "    \n",
    "    df_cpd_agg = df_moa.groupby(['pert_iname', 'dose']).agg(['mean']).reset_index()\n",
    "    df_cpd_agg.index = df_cpd_agg.pert_iname\n",
    "    df_cpd_agg.drop(['pert_iname', 'dose'], axis = 1, inplace = True)\n",
    "    \n",
    "    moa_list = df_moa['moa'].unique().tolist()\n",
    "    # get the median of the corr values of the cpds for each MOA\n",
    "    moa_med_score, moa_cpds = get_median_score(moa_list, df_moa, df_cpd_agg)\n",
    "    \n",
    "    # check if all moa in the df_moa is present in the dose_moa\n",
    "    moa_med_score, moa_cpds = check_moa(moa_med_score, moa_cpds, df_moa)\n",
    "    \n",
    "    sorted_moa_med_score = {key:value for key, value in sorted(moa_med_score.items(), key=lambda item: item[0])}\n",
    "    sorted_cpds = {key:value for key, value in sorted(moa_med_score.items(), key=lambda item: item[0])}\n",
    "    \n",
    "    df_moa_med_score = pd.DataFrame.from_dict(sorted_moa_med_score, orient='index', columns = ['spearman_correlation'])\n",
    "            \n",
    "    return df_moa_med_score"
   ]
  },
  {
   "cell_type": "code",
   "execution_count": 19,
   "metadata": {},
   "outputs": [
    {
     "name": "stderr",
     "output_type": "stream",
     "text": [
      "/Users/gway/miniconda3/envs/lincs-complimentarity/lib/python3.9/site-packages/pandas/core/generic.py:4153: PerformanceWarning: dropping on a non-lexsorted multi-index without a level parameter may impact performance.\n",
      "  obj = obj._drop_axis(labels, axis, level=level, errors=errors)\n"
     ]
    }
   ],
   "source": [
    "df_moa_median_scores = get_moa_medianscores(df_lvl5_common)"
   ]
  },
  {
   "cell_type": "code",
   "execution_count": 20,
   "metadata": {},
   "outputs": [
    {
     "data": {
      "text/plain": [
       "(583, 1)"
      ]
     },
     "execution_count": 20,
     "metadata": {},
     "output_type": "execute_result"
    }
   ],
   "source": [
    "df_moa_median_scores.shape"
   ]
  },
  {
   "cell_type": "markdown",
   "metadata": {},
   "source": [
    "### - Exclude MOAs with median score 1 and only null values and  also columns with only null values\n",
    "\n",
    "#### The reason why we are excluding MOAs with median value == 1, is because they have only ONE compound and as a result the median correlation value will be just 1, and there will not be differences in values btw different doses."
   ]
  },
  {
   "cell_type": "code",
   "execution_count": 21,
   "metadata": {},
   "outputs": [],
   "source": [
    "def exclude_moa(df_moa_med_score):\n",
    "    \"\"\"\n",
    "    Exclude MOAs with median score 1, with only null values, and also columns with only null values.\n",
    "    \n",
    "    params: \n",
    "    df_moa_med_score: dataframe of distinct moas with their corresponding median scores\n",
    "    and list of compounds for all doses.\n",
    "\n",
    "    Returns:\n",
    "    df_moa_medians: dataframe of distinct moas with NO median values of 1 \n",
    "    and their corresponding list of compounds for all doses.\n",
    "    \n",
    "    \"\"\"\n",
    "    moa_with_med_index = []\n",
    "    for moa in df_moa_med_score.index.tolist():\n",
    "        moa_values = df_moa_med_score.loc[moa]\n",
    "        if all(y != 1.0 for y in moa_values):\n",
    "            moa_with_med_index.append(moa)\n",
    "    df_moa_medians = df_moa_med_score.loc[moa_with_med_index]\n",
    "    null_columns = [col for col in df_moa_medians.columns \n",
    "                 if all(df_moa_medians[col].isnull())]\n",
    "    null_moas = [moa for moa in df_moa_medians.index \n",
    "                 if all(df_moa_medians.loc[moa].isnull())]\n",
    "    df_moa_medians.drop(null_columns, axis = 1, inplace = True)\n",
    "    df_moa_medians.drop(null_moas, axis = 0, inplace = True)\n",
    "    \n",
    "    return df_moa_medians"
   ]
  },
  {
   "cell_type": "code",
   "execution_count": 22,
   "metadata": {},
   "outputs": [],
   "source": [
    "df_moa_medn_scores = exclude_moa(df_moa_median_scores)"
   ]
  },
  {
   "cell_type": "code",
   "execution_count": 23,
   "metadata": {},
   "outputs": [
    {
     "data": {
      "text/plain": [
       "spearman_correlation    0\n",
       "dtype: int64"
      ]
     },
     "execution_count": 23,
     "metadata": {},
     "output_type": "execute_result"
    }
   ],
   "source": [
    "df_moa_medn_scores.isnull().sum()"
   ]
  },
  {
   "cell_type": "code",
   "execution_count": 24,
   "metadata": {},
   "outputs": [
    {
     "data": {
      "text/plain": [
       "(211, 1)"
      ]
     },
     "execution_count": 24,
     "metadata": {},
     "output_type": "execute_result"
    }
   ],
   "source": [
    "df_moa_medn_scores.shape"
   ]
  },
  {
   "cell_type": "code",
   "execution_count": 25,
   "metadata": {},
   "outputs": [],
   "source": [
    "def seperate_cpds_values(df_moa_medians):\n",
    "    \"\"\"\n",
    "    Seperate the list of compunds columns from the median values columns in\n",
    "    moa_median_dataframe\n",
    "    \n",
    "    params: \n",
    "    df_moa_medians: dataframe of distinct moas with NO median scores of 1 \n",
    "    and their corresponding list of compounds for all doses.\n",
    "\n",
    "    Returns:\n",
    "    df_moa_cpds: dataframe of distinct moas with only their corresponding \n",
    "    list of compounds for all doses.\n",
    "    \n",
    "    df_moa_values: dataframe of distinct moas with only their median scores for all doses.\n",
    "    \"\"\"\n",
    "    dose_cols = [col for col in df_moa_medians.columns.tolist() \n",
    "                 if (col.startswith(\"dose_\"))]\n",
    "    df_moa_cpds = df_moa_medians.drop(dose_cols, axis = 1)\n",
    "    df_moa_values = df_moa_medians.loc[:, dose_cols].copy()\n",
    "    df_moa_values = df_moa_values.reset_index().rename(columns={\"index\": \"moa\"})\n",
    "    df_moa_cpds = df_moa_cpds.reset_index().rename(columns={\"index\": \"moa\"})\n",
    "    \n",
    "    return df_moa_cpds, df_moa_values"
   ]
  },
  {
   "cell_type": "code",
   "execution_count": 26,
   "metadata": {},
   "outputs": [],
   "source": [
    "df_moa_cpds, df_moa_vals = seperate_cpds_values(df_moa_medn_scores)"
   ]
  },
  {
   "cell_type": "code",
   "execution_count": 27,
   "metadata": {},
   "outputs": [
    {
     "data": {
      "text/html": [
       "<div>\n",
       "<style scoped>\n",
       "    .dataframe tbody tr th:only-of-type {\n",
       "        vertical-align: middle;\n",
       "    }\n",
       "\n",
       "    .dataframe tbody tr th {\n",
       "        vertical-align: top;\n",
       "    }\n",
       "\n",
       "    .dataframe thead th {\n",
       "        text-align: right;\n",
       "    }\n",
       "</style>\n",
       "<table border=\"1\" class=\"dataframe\">\n",
       "  <thead>\n",
       "    <tr style=\"text-align: right;\">\n",
       "      <th></th>\n",
       "      <th>moa</th>\n",
       "      <th>spearman_correlation</th>\n",
       "    </tr>\n",
       "  </thead>\n",
       "  <tbody>\n",
       "    <tr>\n",
       "      <th>0</th>\n",
       "      <td>5 alpha reductase inhibitor</td>\n",
       "      <td>0.084630</td>\n",
       "    </tr>\n",
       "    <tr>\n",
       "      <th>1</th>\n",
       "      <td>acat inhibitor</td>\n",
       "      <td>-0.027409</td>\n",
       "    </tr>\n",
       "    <tr>\n",
       "      <th>2</th>\n",
       "      <td>acetylcholine receptor agonist</td>\n",
       "      <td>0.035133</td>\n",
       "    </tr>\n",
       "    <tr>\n",
       "      <th>3</th>\n",
       "      <td>acetylcholine receptor antagonist</td>\n",
       "      <td>0.028170</td>\n",
       "    </tr>\n",
       "    <tr>\n",
       "      <th>4</th>\n",
       "      <td>acetylcholine release stimulant</td>\n",
       "      <td>0.044177</td>\n",
       "    </tr>\n",
       "    <tr>\n",
       "      <th>5</th>\n",
       "      <td>acetylcholinesterase inhibitor</td>\n",
       "      <td>0.072477</td>\n",
       "    </tr>\n",
       "    <tr>\n",
       "      <th>6</th>\n",
       "      <td>adenosine receptor agonist</td>\n",
       "      <td>0.031171</td>\n",
       "    </tr>\n",
       "    <tr>\n",
       "      <th>7</th>\n",
       "      <td>adenosine receptor antagonist</td>\n",
       "      <td>0.067966</td>\n",
       "    </tr>\n",
       "    <tr>\n",
       "      <th>8</th>\n",
       "      <td>adrenergic inhibitor</td>\n",
       "      <td>-0.000383</td>\n",
       "    </tr>\n",
       "    <tr>\n",
       "      <th>9</th>\n",
       "      <td>adrenergic receptor agonist</td>\n",
       "      <td>0.029705</td>\n",
       "    </tr>\n",
       "  </tbody>\n",
       "</table>\n",
       "</div>"
      ],
      "text/plain": [
       "                                 moa  spearman_correlation\n",
       "0        5 alpha reductase inhibitor              0.084630\n",
       "1                     acat inhibitor             -0.027409\n",
       "2     acetylcholine receptor agonist              0.035133\n",
       "3  acetylcholine receptor antagonist              0.028170\n",
       "4    acetylcholine release stimulant              0.044177\n",
       "5     acetylcholinesterase inhibitor              0.072477\n",
       "6         adenosine receptor agonist              0.031171\n",
       "7      adenosine receptor antagonist              0.067966\n",
       "8               adrenergic inhibitor             -0.000383\n",
       "9        adrenergic receptor agonist              0.029705"
      ]
     },
     "execution_count": 27,
     "metadata": {},
     "output_type": "execute_result"
    }
   ],
   "source": [
    "df_moa_cpds.head(10)"
   ]
  },
  {
   "cell_type": "code",
   "execution_count": 28,
   "metadata": {},
   "outputs": [
    {
     "data": {
      "text/html": [
       "<div>\n",
       "<style scoped>\n",
       "    .dataframe tbody tr th:only-of-type {\n",
       "        vertical-align: middle;\n",
       "    }\n",
       "\n",
       "    .dataframe tbody tr th {\n",
       "        vertical-align: top;\n",
       "    }\n",
       "\n",
       "    .dataframe thead th {\n",
       "        text-align: right;\n",
       "    }\n",
       "</style>\n",
       "<table border=\"1\" class=\"dataframe\">\n",
       "  <thead>\n",
       "    <tr style=\"text-align: right;\">\n",
       "      <th></th>\n",
       "      <th>moa</th>\n",
       "    </tr>\n",
       "  </thead>\n",
       "  <tbody>\n",
       "    <tr>\n",
       "      <th>0</th>\n",
       "      <td>5 alpha reductase inhibitor</td>\n",
       "    </tr>\n",
       "    <tr>\n",
       "      <th>1</th>\n",
       "      <td>acat inhibitor</td>\n",
       "    </tr>\n",
       "    <tr>\n",
       "      <th>2</th>\n",
       "      <td>acetylcholine receptor agonist</td>\n",
       "    </tr>\n",
       "    <tr>\n",
       "      <th>3</th>\n",
       "      <td>acetylcholine receptor antagonist</td>\n",
       "    </tr>\n",
       "    <tr>\n",
       "      <th>4</th>\n",
       "      <td>acetylcholine release stimulant</td>\n",
       "    </tr>\n",
       "    <tr>\n",
       "      <th>5</th>\n",
       "      <td>acetylcholinesterase inhibitor</td>\n",
       "    </tr>\n",
       "    <tr>\n",
       "      <th>6</th>\n",
       "      <td>adenosine receptor agonist</td>\n",
       "    </tr>\n",
       "    <tr>\n",
       "      <th>7</th>\n",
       "      <td>adenosine receptor antagonist</td>\n",
       "    </tr>\n",
       "    <tr>\n",
       "      <th>8</th>\n",
       "      <td>adrenergic inhibitor</td>\n",
       "    </tr>\n",
       "    <tr>\n",
       "      <th>9</th>\n",
       "      <td>adrenergic receptor agonist</td>\n",
       "    </tr>\n",
       "  </tbody>\n",
       "</table>\n",
       "</div>"
      ],
      "text/plain": [
       "                                 moa\n",
       "0        5 alpha reductase inhibitor\n",
       "1                     acat inhibitor\n",
       "2     acetylcholine receptor agonist\n",
       "3  acetylcholine receptor antagonist\n",
       "4    acetylcholine release stimulant\n",
       "5     acetylcholinesterase inhibitor\n",
       "6         adenosine receptor agonist\n",
       "7      adenosine receptor antagonist\n",
       "8               adrenergic inhibitor\n",
       "9        adrenergic receptor agonist"
      ]
     },
     "execution_count": 28,
     "metadata": {},
     "output_type": "execute_result"
    }
   ],
   "source": [
    "df_moa_vals.head(10)"
   ]
  },
  {
   "cell_type": "code",
   "execution_count": 29,
   "metadata": {},
   "outputs": [
    {
     "name": "stdout",
     "output_type": "stream",
     "text": [
      "(5730, 980)\n"
     ]
    }
   ],
   "source": [
    "# Output analytical file\n",
    "output_file = pathlib.Path(\"moa_sizes_consensus_datasets/l1000_moa_analytical_set_profiles_doseindependent.tsv.gz\")\n",
    "analytical_set_df = df_lvl5_common.query(\"moa in @df_moa_cpds.moa\").reset_index(drop=True)\n",
    "\n",
    "print(analytical_set_df.shape)\n",
    "analytical_set_df.to_csv(output_file, index=False, sep=\"\\t\")"
   ]
  },
  {
   "cell_type": "code",
   "execution_count": 30,
   "metadata": {},
   "outputs": [
    {
     "data": {
      "text/html": [
       "<div>\n",
       "<style scoped>\n",
       "    .dataframe tbody tr th:only-of-type {\n",
       "        vertical-align: middle;\n",
       "    }\n",
       "\n",
       "    .dataframe tbody tr th {\n",
       "        vertical-align: top;\n",
       "    }\n",
       "\n",
       "    .dataframe thead th {\n",
       "        text-align: right;\n",
       "    }\n",
       "</style>\n",
       "<table border=\"1\" class=\"dataframe\">\n",
       "  <thead>\n",
       "    <tr style=\"text-align: right;\">\n",
       "      <th></th>\n",
       "      <th>moa</th>\n",
       "      <th>spearman_correlation</th>\n",
       "      <th>moa_count</th>\n",
       "    </tr>\n",
       "  </thead>\n",
       "  <tbody>\n",
       "    <tr>\n",
       "      <th>0</th>\n",
       "      <td>5 alpha reductase inhibitor</td>\n",
       "      <td>0.084630</td>\n",
       "      <td>12</td>\n",
       "    </tr>\n",
       "    <tr>\n",
       "      <th>1</th>\n",
       "      <td>acat inhibitor</td>\n",
       "      <td>-0.027409</td>\n",
       "      <td>18</td>\n",
       "    </tr>\n",
       "    <tr>\n",
       "      <th>2</th>\n",
       "      <td>acetylcholine receptor agonist</td>\n",
       "      <td>0.035133</td>\n",
       "      <td>48</td>\n",
       "    </tr>\n",
       "    <tr>\n",
       "      <th>3</th>\n",
       "      <td>acetylcholine receptor antagonist</td>\n",
       "      <td>0.028170</td>\n",
       "      <td>126</td>\n",
       "    </tr>\n",
       "    <tr>\n",
       "      <th>4</th>\n",
       "      <td>acetylcholine release stimulant</td>\n",
       "      <td>0.044177</td>\n",
       "      <td>12</td>\n",
       "    </tr>\n",
       "  </tbody>\n",
       "</table>\n",
       "</div>"
      ],
      "text/plain": [
       "                                 moa  spearman_correlation  moa_count\n",
       "0        5 alpha reductase inhibitor              0.084630         12\n",
       "1                     acat inhibitor             -0.027409         18\n",
       "2     acetylcholine receptor agonist              0.035133         48\n",
       "3  acetylcholine receptor antagonist              0.028170        126\n",
       "4    acetylcholine release stimulant              0.044177         12"
      ]
     },
     "execution_count": 30,
     "metadata": {},
     "output_type": "execute_result"
    }
   ],
   "source": [
    "data_moa_cpds = df_moa_cpds.merge(\n",
    "    (\n",
    "        analytical_set_df\n",
    "        .moa\n",
    "        .value_counts()\n",
    "        .reset_index()\n",
    "        .rename(columns={\"index\": \"moa\", \"moa\": \"moa_count\"})\n",
    "    ),\n",
    "    on = \"moa\",\n",
    "    how = \"left\"\n",
    ")\n",
    "\n",
    "# Output files for visualization\n",
    "cpd_summary_file = pathlib.Path(\"moa_sizes_consensus_datasets/matching_score_per_MOA_L1000_dose_independent.tsv.gz\")\n",
    "\n",
    "cpd_score_summary_df = (\n",
    "    data_moa_cpds\n",
    "    .rename(columns={\"moa_count\": \"no_of_replicates\"})\n",
    ")\n",
    "\n",
    "cpd_score_summary_df.to_csv(cpd_summary_file, sep=\"\\t\", index=False)\n",
    "cpd_score_summary_df.head()\n",
    "\n",
    "data_moa_cpds.head()"
   ]
  }
 ],
 "metadata": {
  "kernelspec": {
   "display_name": "Python 3 (ipykernel)",
   "language": "python",
   "name": "python3"
  },
  "language_info": {
   "codemirror_mode": {
    "name": "ipython",
    "version": 3
   },
   "file_extension": ".py",
   "mimetype": "text/x-python",
   "name": "python",
   "nbconvert_exporter": "python",
   "pygments_lexer": "ipython3",
   "version": "3.9.10"
  }
 },
 "nbformat": 4,
 "nbformat_minor": 4
}
